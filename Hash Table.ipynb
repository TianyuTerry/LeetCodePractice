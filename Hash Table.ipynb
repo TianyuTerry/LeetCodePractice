{
 "cells": [
  {
   "cell_type": "markdown",
   "metadata": {},
   "source": [
    "## 953. Verifying an Alien Dictionary"
   ]
  },
  {
   "cell_type": "code",
   "execution_count": 2,
   "metadata": {},
   "outputs": [],
   "source": [
    "from typing import List, Tuple, Dict"
   ]
  },
  {
   "cell_type": "markdown",
   "metadata": {},
   "source": [
    "### self-written solution"
   ]
  },
  {
   "cell_type": "code",
   "execution_count": 5,
   "metadata": {},
   "outputs": [],
   "source": [
    "class Solution953:\n",
    "    def isAlienSorted(self, words: List[str], order: str) -> bool:\n",
    "        orderDict = {char: i for (i, char) in enumerate(order)}\n",
    "        for i in range(len(words)-1):\n",
    "            word1 = words[i]\n",
    "            word2 = words[i+1]\n",
    "            passed = False\n",
    "            for j in range(min(len(word1), len(word2))):\n",
    "                if word1[j] != word2[j]:\n",
    "                    if orderDict[word1[j]] > orderDict[word2[j]]:\n",
    "                        return False\n",
    "                    passed = True\n",
    "                    break\n",
    "            if not passed:\n",
    "                if len(word1) > len(word2):\n",
    "                    return False\n",
    "        return True"
   ]
  },
  {
   "cell_type": "code",
   "execution_count": 6,
   "metadata": {},
   "outputs": [
    {
     "data": {
      "text/plain": [
       "(True, False, False)"
      ]
     },
     "execution_count": 6,
     "metadata": {},
     "output_type": "execute_result"
    }
   ],
   "source": [
    "solver_953 = Solution953()\n",
    "solver_953.isAlienSorted(words = [\"hello\",\"leetcode\"], order = \"hlabcdefgijkmnopqrstuvwxyz\"),\\\n",
    "solver_953.isAlienSorted(words = [\"word\",\"world\",\"row\"], order = \"worldabcefghijkmnpqstuvxyz\"),\\\n",
    "solver_953.isAlienSorted(words = [\"apple\",\"app\"], order = \"abcdefghijklmnopqrstuvwxyz\")"
   ]
  },
  {
   "cell_type": "markdown",
   "metadata": {},
   "source": [
    "## 3. Longest Substring Without Repeating Characters"
   ]
  },
  {
   "cell_type": "markdown",
   "metadata": {},
   "source": [
    "### self-written sliding window solution after checking answers"
   ]
  },
  {
   "cell_type": "code",
   "execution_count": 20,
   "metadata": {},
   "outputs": [],
   "source": [
    "class Solution3:\n",
    "    def lengthOfLongestSubstring(self, s: str) -> int:\n",
    "        i = j = ret = 0\n",
    "        charSet = set()\n",
    "        while j < len(s):\n",
    "            if s[j] not in charSet:\n",
    "                charSet.add(s[j])\n",
    "                j += 1\n",
    "                ret = max(ret, j-i)\n",
    "            else:\n",
    "                charSet.remove(s[i])\n",
    "                i += 1\n",
    "        return ret"
   ]
  },
  {
   "cell_type": "code",
   "execution_count": 22,
   "metadata": {},
   "outputs": [
    {
     "data": {
      "text/plain": [
       "(3, 3, 1)"
      ]
     },
     "execution_count": 22,
     "metadata": {},
     "output_type": "execute_result"
    }
   ],
   "source": [
    "solver_3 = Solution3()\n",
    "solver_3.lengthOfLongestSubstring(s = \"abcabcbb\"), solver_3.lengthOfLongestSubstring(s = \"pwwkew\"),\\\n",
    "solver_3.lengthOfLongestSubstring(s = \"bbbbb\")"
   ]
  },
  {
   "cell_type": "markdown",
   "metadata": {},
   "source": [
    "### self-written optimized sliding window solution after checking answers"
   ]
  },
  {
   "cell_type": "code",
   "execution_count": 35,
   "metadata": {},
   "outputs": [],
   "source": [
    "class Solution3:\n",
    "    def lengthOfLongestSubstring(self, s: str) -> int:\n",
    "        i = j = ret = 0\n",
    "        charDict = dict()\n",
    "        for j in range(len(s)):\n",
    "            if s[j] in charDict:\n",
    "                i = max(charDict[s[j]]+1, i)\n",
    "            charDict[s[j]] = j\n",
    "            ret = max(ret, j-i+1) # inclusive for this one\n",
    "        return ret"
   ]
  },
  {
   "cell_type": "code",
   "execution_count": 36,
   "metadata": {},
   "outputs": [
    {
     "data": {
      "text/plain": [
       "(3, 3, 1)"
      ]
     },
     "execution_count": 36,
     "metadata": {},
     "output_type": "execute_result"
    }
   ],
   "source": [
    "solver_3 = Solution3()\n",
    "solver_3.lengthOfLongestSubstring(s = \"abcabcbb\"), solver_3.lengthOfLongestSubstring(s = \"pwwkew\"),\\\n",
    "solver_3.lengthOfLongestSubstring(s = \"bbbbb\")"
   ]
  },
  {
   "cell_type": "markdown",
   "metadata": {},
   "source": [
    "## 380. Insert Delete GetRandom O(1)"
   ]
  },
  {
   "cell_type": "markdown",
   "metadata": {},
   "source": [
    "### self-written solution after checking answers"
   ]
  },
  {
   "cell_type": "code",
   "execution_count": 38,
   "metadata": {},
   "outputs": [],
   "source": [
    "import random\n",
    "\n",
    "class RandomizedSet:\n",
    "\n",
    "    def __init__(self):\n",
    "        \"\"\"\n",
    "        Initialize your data structure here.\n",
    "        \"\"\"\n",
    "        self.list = list()\n",
    "        self.hashmap = dict()\n",
    "\n",
    "    def insert(self, val: int) -> bool:\n",
    "        \"\"\"\n",
    "        Inserts a value to the set. Returns true if the set did not already contain the specified element.\n",
    "        \"\"\"\n",
    "        if val in self.hashmap:\n",
    "            return False\n",
    "        self.hashmap[val] = len(self.list)\n",
    "        self.list.append(val)\n",
    "        return True\n",
    "\n",
    "    def remove(self, val: int) -> bool:\n",
    "        \"\"\"\n",
    "        Removes a value from the set. Returns true if the set contained the specified element.\n",
    "        \"\"\"\n",
    "        if val in self.hashmap:\n",
    "            delete_idx, last_element = self.hashmap[val], self.list[-1]\n",
    "            self.hashmap[last_element], self.list[delete_idx] = delete_idx, last_element\n",
    "            del self.hashmap[val]\n",
    "            self.list.pop()\n",
    "            return True\n",
    "        return False\n",
    "\n",
    "    def getRandom(self) -> int:\n",
    "        \"\"\"\n",
    "        Get a random element from the set.\n",
    "        \"\"\"\n",
    "        return random.choice(self.list)"
   ]
  },
  {
   "cell_type": "markdown",
   "metadata": {},
   "source": [
    "## 981. Time Based Key-Value Store"
   ]
  },
  {
   "cell_type": "markdown",
   "metadata": {},
   "source": [
    "### self-written solution after checking answers"
   ]
  },
  {
   "cell_type": "code",
   "execution_count": 45,
   "metadata": {},
   "outputs": [],
   "source": [
    "from collections import defaultdict\n",
    "import bisect\n",
    "\n",
    "class TimeMap:\n",
    "\n",
    "    def __init__(self):\n",
    "        \"\"\"\n",
    "        Initialize your data structure here.\n",
    "        \"\"\"\n",
    "        self.records = defaultdict(list)\n",
    "\n",
    "    def set(self, key: str, value: str, timestamp: int) -> None:\n",
    "        self.records[key].append((timestamp, value))\n",
    "\n",
    "    def get(self, key: str, timestamp: int) -> str:\n",
    "        if key not in self.records:\n",
    "            return \"\"\n",
    "        right_most_i = bisect.bisect(self.records[key], (timestamp+1, \"\"))\n",
    "        return self.records[key][right_most_i-1][1] if right_most_i else \"\""
   ]
  },
  {
   "cell_type": "markdown",
   "metadata": {},
   "source": [
    "## 560. Subarray Sum Equals K"
   ]
  },
  {
   "cell_type": "markdown",
   "metadata": {},
   "source": [
    "### self-written hash-table solution after checking answers"
   ]
  },
  {
   "cell_type": "code",
   "execution_count": 50,
   "metadata": {},
   "outputs": [],
   "source": [
    "class Solution560:\n",
    "    def subarraySum(self, nums: List[int], k: int) -> int:\n",
    "        hashmap = defaultdict(int)\n",
    "        hashmap[0] = 1\n",
    "        cumsum = 0\n",
    "        count = 0\n",
    "        for num in nums:\n",
    "            cumsum += num\n",
    "            count += hashmap[cumsum-k]\n",
    "            hashmap[cumsum] += 1\n",
    "        return count"
   ]
  },
  {
   "cell_type": "code",
   "execution_count": 54,
   "metadata": {},
   "outputs": [
    {
     "data": {
      "text/plain": [
       "(2, 2, 4, 0)"
      ]
     },
     "execution_count": 54,
     "metadata": {},
     "output_type": "execute_result"
    }
   ],
   "source": [
    "solver_560 = Solution560()\n",
    "solver_560.subarraySum(nums = [1,1,1], k = 2), solver_560.subarraySum(nums = [1,2,3], k = 3),\\\n",
    "solver_560.subarraySum(nums = [3,4,7,2,-3,1,4,2], k = 7), solver_560.subarraySum(nums = [1], k = 0)"
   ]
  },
  {
   "cell_type": "markdown",
   "metadata": {},
   "source": [
    "### self-written sliding window solution after checking answers, time limit exceeded"
   ]
  },
  {
   "cell_type": "code",
   "execution_count": 57,
   "metadata": {},
   "outputs": [],
   "source": [
    "class Solution560:\n",
    "    def subarraySum(self, nums: List[int], k: int) -> int:\n",
    "        count = 0\n",
    "        for i in range(len(nums)):\n",
    "            cumsum = 0\n",
    "            for j in range(i, len(nums)):\n",
    "                cumsum += nums[j]\n",
    "                if cumsum == k:\n",
    "                    count += 1\n",
    "        return count"
   ]
  },
  {
   "cell_type": "code",
   "execution_count": 58,
   "metadata": {},
   "outputs": [
    {
     "data": {
      "text/plain": [
       "(2, 2, 4, 0)"
      ]
     },
     "execution_count": 58,
     "metadata": {},
     "output_type": "execute_result"
    }
   ],
   "source": [
    "solver_560 = Solution560()\n",
    "solver_560.subarraySum(nums = [1,1,1], k = 2), solver_560.subarraySum(nums = [1,2,3], k = 3),\\\n",
    "solver_560.subarraySum(nums = [3,4,7,2,-3,1,4,2], k = 7), solver_560.subarraySum(nums = [1], k = 0)"
   ]
  },
  {
   "cell_type": "markdown",
   "metadata": {},
   "source": [
    "## 347. Top K Frequent Elements"
   ]
  },
  {
   "cell_type": "markdown",
   "metadata": {},
   "source": [
    "### self-written heap solution after checking answers"
   ]
  },
  {
   "cell_type": "code",
   "execution_count": 60,
   "metadata": {},
   "outputs": [],
   "source": [
    "import heapq\n",
    "from collections import Counter\n",
    "\n",
    "class Solution347:\n",
    "    def topKFrequent(self, nums: List[int], k: int) -> List[int]:\n",
    "        if len(nums) == k:\n",
    "            return nums\n",
    "        hashmap = Counter(nums)\n",
    "        return heapq.nlargest(k, hashmap.keys(), key=hashmap.get)"
   ]
  },
  {
   "cell_type": "code",
   "execution_count": 63,
   "metadata": {},
   "outputs": [
    {
     "data": {
      "text/plain": [
       "([1, 2], [1])"
      ]
     },
     "execution_count": 63,
     "metadata": {},
     "output_type": "execute_result"
    }
   ],
   "source": [
    "solver_347 = Solution347()\n",
    "solver_347.topKFrequent(nums = [1,1,1,2,2,3], k = 2), solver_347.topKFrequent(nums = [1], k = 1)"
   ]
  },
  {
   "cell_type": "markdown",
   "metadata": {},
   "source": [
    "### self-written quick selection after checking answers, passed all tests, very fast"
   ]
  },
  {
   "cell_type": "code",
   "execution_count": 77,
   "metadata": {},
   "outputs": [],
   "source": [
    "class Solution347:\n",
    "    def topKFrequent(self, nums: List[int], k: int) -> List[int]:\n",
    "        hashmap = Counter(nums)\n",
    "        nums = list(hashmap.keys())\n",
    "        def partition(start_idx, end_idx, nums, k):\n",
    "            store_idx = start_idx\n",
    "            for i in range(start_idx, end_idx):\n",
    "                if hashmap[nums[i]] < hashmap[nums[end_idx]]:\n",
    "                    nums[i], nums[store_idx] = nums[store_idx], nums[i]\n",
    "                    store_idx += 1\n",
    "            nums[end_idx], nums[store_idx] = nums[store_idx], nums[end_idx]\n",
    "            return store_idx\n",
    "        def quickSelect(start_idx, end_idx, nums, top_k):\n",
    "            pivot_idx = partition(start_idx, end_idx, nums, top_k)\n",
    "            if len(nums)-pivot_idx == top_k:\n",
    "                return\n",
    "            if len(nums)-pivot_idx < top_k:\n",
    "                quickSelect(start_idx, pivot_idx-1, nums, k)\n",
    "            else:\n",
    "                quickSelect(pivot_idx+1, end_idx, nums, k)\n",
    "        quickSelect(0, len(nums)-1, nums, k)\n",
    "        return nums[-k:]"
   ]
  },
  {
   "cell_type": "code",
   "execution_count": 78,
   "metadata": {},
   "outputs": [
    {
     "data": {
      "text/plain": [
       "([2, 1], [1])"
      ]
     },
     "execution_count": 78,
     "metadata": {},
     "output_type": "execute_result"
    }
   ],
   "source": [
    "solver_347 = Solution347()\n",
    "solver_347.topKFrequent(nums = [1,1,1,2,2,3], k = 2), solver_347.topKFrequent(nums = [1], k = 1)"
   ]
  },
  {
   "cell_type": "markdown",
   "metadata": {},
   "source": [
    "## 49. Group Anagrams"
   ]
  },
  {
   "cell_type": "markdown",
   "metadata": {},
   "source": [
    "### self-written solution after checking answers"
   ]
  },
  {
   "cell_type": "code",
   "execution_count": 85,
   "metadata": {},
   "outputs": [],
   "source": [
    "class Solution49:\n",
    "    def groupAnagrams(self, strs: List[str]) -> List[List[str]]:\n",
    "        ret = defaultdict(list)\n",
    "        for string in strs:\n",
    "            ret[tuple(sorted(string))].append(string)\n",
    "        return list(ret.values())"
   ]
  },
  {
   "cell_type": "code",
   "execution_count": 86,
   "metadata": {},
   "outputs": [
    {
     "data": {
      "text/plain": [
       "([['eat', 'tea', 'ate'], ['tan', 'nat'], ['bat']], [['']])"
      ]
     },
     "execution_count": 86,
     "metadata": {},
     "output_type": "execute_result"
    }
   ],
   "source": [
    "solver_49 = Solution49()\n",
    "solver_49.groupAnagrams(strs = [\"eat\",\"tea\",\"tan\",\"ate\",\"nat\",\"bat\"]), solver_49.groupAnagrams(strs = [\"\"])"
   ]
  },
  {
   "cell_type": "markdown",
   "metadata": {},
   "source": [
    "### self-written solution after checking answers"
   ]
  },
  {
   "cell_type": "code",
   "execution_count": 87,
   "metadata": {},
   "outputs": [],
   "source": [
    "class Solution49:\n",
    "    def groupAnagrams(self, strs: List[str]) -> List[List[str]]:\n",
    "        ret = defaultdict(list)\n",
    "        char2idx = {char: i for (i, char) in enumerate(\"abcdefghijklmnopqrstuvwxyz\")}\n",
    "        for string in strs:\n",
    "            count = [0]*26\n",
    "            for char in string:\n",
    "                count[char2idx[char]] += 1\n",
    "            ret[tuple(count)].append(string)\n",
    "        return list(ret.values())"
   ]
  },
  {
   "cell_type": "code",
   "execution_count": 88,
   "metadata": {},
   "outputs": [
    {
     "data": {
      "text/plain": [
       "([['eat', 'tea', 'ate'], ['tan', 'nat'], ['bat']], [['']])"
      ]
     },
     "execution_count": 88,
     "metadata": {},
     "output_type": "execute_result"
    }
   ],
   "source": [
    "solver_49 = Solution49()\n",
    "solver_49.groupAnagrams(strs = [\"eat\",\"tea\",\"tan\",\"ate\",\"nat\",\"bat\"]), solver_49.groupAnagrams(strs = [\"\"])"
   ]
  },
  {
   "cell_type": "markdown",
   "metadata": {},
   "source": [
    "## 76. Minimum Window Substring"
   ]
  },
  {
   "cell_type": "markdown",
   "metadata": {},
   "source": [
    "### self-written sliding window solution after checking answers"
   ]
  },
  {
   "cell_type": "code",
   "execution_count": 130,
   "metadata": {},
   "outputs": [],
   "source": [
    "class Solution76:\n",
    "    def minWindow(self, s: str, t: str) -> str:\n",
    "        tCount = Counter(t)\n",
    "        charFormed = 0\n",
    "        right = 0\n",
    "        left = 0\n",
    "        windowCount = defaultdict(int)\n",
    "        minLength, windowLeft, windowRight = float(\"inf\"), -1, -1\n",
    "        while right < len(s):\n",
    "#             print('left pointer and right pointer', left, right)\n",
    "            while charFormed < len(tCount) and right < len(s):\n",
    "                if s[right] in tCount:\n",
    "                    windowCount[s[right]] += 1\n",
    "                    if windowCount[s[right]] == tCount[s[right]]:\n",
    "                        charFormed += 1\n",
    "                right += 1\n",
    "            if charFormed == len(tCount):\n",
    "                while True:\n",
    "                    if s[left] in tCount:\n",
    "                        windowCount[s[left]] -= 1\n",
    "#                         print(s[left], windowCount[s[left]], tCount[s[left]])\n",
    "                        if windowCount[s[left]] < tCount[s[left]]:\n",
    "                            charFormed -= 1\n",
    "#                             print('window candidate', right-left+1, left, right)\n",
    "                            if right-left < minLength:\n",
    "                                minLength, windowLeft, windowRight = right-left, left, right\n",
    "                            left += 1\n",
    "                            break\n",
    "                        else:\n",
    "                            left += 1\n",
    "                    else:\n",
    "                        left += 1\n",
    "#         print(tCount)\n",
    "#         print(windowCount)\n",
    "        return s[windowLeft:windowRight]"
   ]
  },
  {
   "cell_type": "code",
   "execution_count": 131,
   "metadata": {},
   "outputs": [
    {
     "data": {
      "text/plain": [
       "('BANC', 'a', 'ACB')"
      ]
     },
     "execution_count": 131,
     "metadata": {},
     "output_type": "execute_result"
    }
   ],
   "source": [
    "solver_76 = Solution76()\n",
    "solver_76.minWindow(s = \"ADOBECODEBANC\", t = \"ABC\"), solver_76.minWindow(s = \"a\", t = \"a\"),\\\n",
    "solver_76.minWindow(s = \"ABAACBAB\", t = \"ABC\")"
   ]
  },
  {
   "cell_type": "markdown",
   "metadata": {},
   "source": [
    "### official sliding window solution"
   ]
  },
  {
   "cell_type": "code",
   "execution_count": 132,
   "metadata": {},
   "outputs": [],
   "source": [
    "class Solution76:\n",
    "    def minWindow(self, s: str, t: str) -> str:\n",
    "        if not t or not s:\n",
    "            return \"\"      \n",
    "        dict_t = Counter(t)\n",
    "        required = len(dict_t)\n",
    "        l, r = 0, 0\n",
    "        formed = 0\n",
    "        window_counts = {}\n",
    "        ans = float(\"inf\"), None, None\n",
    "        while r < len(s):\n",
    "            # Add one character from the right to the window\n",
    "            character = s[r]\n",
    "            window_counts[character] = window_counts.get(character, 0) + 1\n",
    "            # If the frequency of the current character added equals to the desired count in t then increment the formed count by 1.\n",
    "            if character in dict_t and window_counts[character] == dict_t[character]:\n",
    "                formed += 1\n",
    "            # Try and contract the window till the point where it ceases to be 'desirable'.\n",
    "            while l <= r and formed == required:\n",
    "                character = s[l]\n",
    "                # Save the smallest window until now.\n",
    "                if r - l + 1 < ans[0]:\n",
    "                    ans = (r - l + 1, l, r)\n",
    "                # The character at the position pointed by the `left` pointer is no longer a part of the window.\n",
    "                window_counts[character] -= 1\n",
    "                if character in dict_t and window_counts[character] < dict_t[character]:\n",
    "                    formed -= 1\n",
    "                # Move the left pointer ahead, this would help to look for a new window.\n",
    "                l += 1    \n",
    "            # Keep expanding the window once we are done contracting.\n",
    "            r += 1    \n",
    "        return \"\" if ans[0] == float(\"inf\") else s[ans[1] : ans[2] + 1]"
   ]
  },
  {
   "cell_type": "code",
   "execution_count": 133,
   "metadata": {},
   "outputs": [
    {
     "data": {
      "text/plain": [
       "('BANC', 'a', 'ACB')"
      ]
     },
     "execution_count": 133,
     "metadata": {},
     "output_type": "execute_result"
    }
   ],
   "source": [
    "solver_76 = Solution76()\n",
    "solver_76.minWindow(s = \"ADOBECODEBANC\", t = \"ABC\"), solver_76.minWindow(s = \"a\", t = \"a\"),\\\n",
    "solver_76.minWindow(s = \"ABAACBAB\", t = \"ABC\")"
   ]
  },
  {
   "cell_type": "markdown",
   "metadata": {},
   "source": [
    "## 739. Daily Temperatures"
   ]
  },
  {
   "cell_type": "markdown",
   "metadata": {},
   "source": [
    "### self-written stack solution after checking answers"
   ]
  },
  {
   "cell_type": "code",
   "execution_count": 139,
   "metadata": {},
   "outputs": [],
   "source": [
    "from collections import deque\n",
    "\n",
    "class Solution739:\n",
    "    def dailyTemperatures(self, T: List[int]) -> List[int]:\n",
    "        stack = deque()\n",
    "        ret = [0]*len(T)\n",
    "        for i in range(len(T)):\n",
    "            if not stack:\n",
    "                stack.append(i)\n",
    "            elif T[i] <= T[stack[-1]]:\n",
    "                stack.append(i)\n",
    "            else:\n",
    "                while stack and T[i] > T[stack[-1]]:\n",
    "                    idx = stack.pop()\n",
    "                    ret[idx] = i - idx\n",
    "                stack.append(i)\n",
    "        return ret"
   ]
  },
  {
   "cell_type": "code",
   "execution_count": 140,
   "metadata": {},
   "outputs": [
    {
     "data": {
      "text/plain": [
       "[1, 1, 4, 2, 1, 1, 0, 0]"
      ]
     },
     "execution_count": 140,
     "metadata": {},
     "output_type": "execute_result"
    }
   ],
   "source": [
    "solver_739 = Solution739()\n",
    "solver_739.dailyTemperatures(T = [73, 74, 75, 71, 69, 72, 76, 73])"
   ]
  },
  {
   "cell_type": "markdown",
   "metadata": {},
   "source": [
    "## 692. Top K Frequent Words"
   ]
  },
  {
   "cell_type": "markdown",
   "metadata": {},
   "source": [
    "### self-written heap solution, failed test cases"
   ]
  },
  {
   "cell_type": "code",
   "execution_count": 163,
   "metadata": {},
   "outputs": [],
   "source": [
    "class Solution692:\n",
    "    def topKFrequent(self, words: List[str], k: int) -> List[str]:\n",
    "        \"\"\"\n",
    "        edge cases: [\"i\", \"love\", \"leetcode\", \"i\", \"love\", \"coding\"]\n",
    "        output: [\"love\"]\n",
    "        expected: [\"i\"]\n",
    "        \"\"\"\n",
    "        hashtable = Counter(words)\n",
    "        ret = heapq.nlargest(k, hashtable.keys(), key=lambda x: (hashtable[x], x))\n",
    "        i = 0\n",
    "        while i < k:\n",
    "            start = i\n",
    "            while i < k and hashtable[ret[i]] == hashtable[ret[start]]:\n",
    "                i += 1\n",
    "#                 print(i)\n",
    "            if start != 0:\n",
    "                ret[start:i] = ret[i-1:start-1:-1]\n",
    "            else:\n",
    "                ret[:i] = ret[i-1::-1]\n",
    "        return ret"
   ]
  },
  {
   "cell_type": "code",
   "execution_count": 164,
   "metadata": {},
   "outputs": [
    {
     "data": {
      "text/plain": [
       "(['i', 'love'], ['the', 'is', 'sunny', 'day'])"
      ]
     },
     "execution_count": 164,
     "metadata": {},
     "output_type": "execute_result"
    }
   ],
   "source": [
    "solver_692 = Solution692()\n",
    "solver_692.topKFrequent([\"i\", \"love\", \"leetcode\", \"i\", \"love\", \"coding\"], k = 2),\\\n",
    "solver_692.topKFrequent([\"the\", \"day\", \"is\", \"sunny\", \"the\", \"the\", \"the\", \"sunny\", \"is\", \"is\"], k = 4)"
   ]
  },
  {
   "cell_type": "markdown",
   "metadata": {},
   "source": [
    "### self-written modified heap solution with a wrapper class, passed all tests"
   ]
  },
  {
   "cell_type": "code",
   "execution_count": 167,
   "metadata": {},
   "outputs": [],
   "source": [
    "class Solution692:\n",
    "    def topKFrequent(self, words: List[str], k: int) -> List[str]:\n",
    "        class Element:\n",
    "            def __init__(self, word, count):\n",
    "                self.word = word\n",
    "                self.count = count\n",
    "            def __lt__(self, element):\n",
    "                return self.count < element.count or (self.count == element.count and self.word > element.word)\n",
    "        hashtable = Counter(words)\n",
    "        ret = heapq.nlargest(k, [Element(*item) for item in hashtable.items()])\n",
    "        return [e.word for e in ret]"
   ]
  },
  {
   "cell_type": "code",
   "execution_count": 168,
   "metadata": {},
   "outputs": [
    {
     "data": {
      "text/plain": [
       "(['i', 'love'], ['the', 'is', 'sunny', 'day'])"
      ]
     },
     "execution_count": 168,
     "metadata": {},
     "output_type": "execute_result"
    }
   ],
   "source": [
    "solver_692 = Solution692()\n",
    "solver_692.topKFrequent([\"i\", \"love\", \"leetcode\", \"i\", \"love\", \"coding\"], k = 2),\\\n",
    "solver_692.topKFrequent([\"the\", \"day\", \"is\", \"sunny\", \"the\", \"the\", \"the\", \"sunny\", \"is\", \"is\"], k = 4)"
   ]
  },
  {
   "cell_type": "markdown",
   "metadata": {},
   "source": [
    "### self-written quick selection with double sorting on top"
   ]
  },
  {
   "cell_type": "code",
   "execution_count": 178,
   "metadata": {},
   "outputs": [],
   "source": [
    "class Solution692:\n",
    "    def topKFrequent(self, words: List[str], k: int) -> List[str]:\n",
    "        hashtable = Counter(words)\n",
    "        words = list(hashtable.keys())\n",
    "        def partition(start_idx, end_idx, words, k):\n",
    "            store_idx = start_idx\n",
    "            for i in range(start_idx, end_idx):\n",
    "                if hashtable[words[i]] < hashtable[words[end_idx]] or (hashtable[words[i]] == hashtable[words[end_idx]] and words[i] > words[end_idx]):\n",
    "                    words[i], words[store_idx] = words[store_idx], words[i]\n",
    "                    store_idx += 1\n",
    "            words[end_idx], words[store_idx] = words[store_idx], words[end_idx]\n",
    "            return store_idx\n",
    "        def quickSelect(start_idx, end_idx, words, top_k):\n",
    "            pivot_idx = partition(start_idx, end_idx, words, top_k)\n",
    "            if len(words)-pivot_idx == top_k:\n",
    "                return\n",
    "            if len(words)-pivot_idx < top_k:\n",
    "                quickSelect(start_idx, pivot_idx-1, words, k)\n",
    "            else:\n",
    "                quickSelect(pivot_idx+1, end_idx, words, k)\n",
    "        quickSelect(0, len(words)-1, words, k)\n",
    "        return sorted(sorted(words[-k:]), key = lambda x : hashtable.get(x), reverse = True)"
   ]
  },
  {
   "cell_type": "code",
   "execution_count": 179,
   "metadata": {},
   "outputs": [
    {
     "data": {
      "text/plain": [
       "(['i', 'love'], ['the', 'is', 'sunny', 'day'])"
      ]
     },
     "execution_count": 179,
     "metadata": {},
     "output_type": "execute_result"
    }
   ],
   "source": [
    "solver_692 = Solution692()\n",
    "solver_692.topKFrequent([\"i\", \"love\", \"leetcode\", \"i\", \"love\", \"coding\"], k = 2),\\\n",
    "solver_692.topKFrequent([\"the\", \"day\", \"is\", \"sunny\", \"the\", \"the\", \"the\", \"sunny\", \"is\", \"is\"], k = 4)"
   ]
  },
  {
   "cell_type": "markdown",
   "metadata": {},
   "source": [
    "### slow sorting solution"
   ]
  },
  {
   "cell_type": "code",
   "execution_count": 184,
   "metadata": {},
   "outputs": [],
   "source": [
    "class Solution692:\n",
    "    def topKFrequent(self, words: List[str], k: int) -> List[str]:\n",
    "        hashtable = Counter(words)\n",
    "        words = list(hashtable.keys())\n",
    "        return sorted(sorted(words), key = lambda x : hashtable.get(x), reverse = True)[:k]"
   ]
  },
  {
   "cell_type": "code",
   "execution_count": 185,
   "metadata": {},
   "outputs": [
    {
     "data": {
      "text/plain": [
       "(['i', 'love'], ['the', 'is', 'sunny', 'day'])"
      ]
     },
     "execution_count": 185,
     "metadata": {},
     "output_type": "execute_result"
    }
   ],
   "source": [
    "solver_692 = Solution692()\n",
    "solver_692.topKFrequent([\"i\", \"love\", \"leetcode\", \"i\", \"love\", \"coding\"], k = 2),\\\n",
    "solver_692.topKFrequent([\"the\", \"day\", \"is\", \"sunny\", \"the\", \"the\", \"the\", \"sunny\", \"is\", \"is\"], k = 4)"
   ]
  },
  {
   "cell_type": "markdown",
   "metadata": {},
   "source": [
    "## 811. Subdomain Visit Count"
   ]
  },
  {
   "cell_type": "markdown",
   "metadata": {},
   "source": [
    "### self-written solution"
   ]
  },
  {
   "cell_type": "code",
   "execution_count": 186,
   "metadata": {},
   "outputs": [],
   "source": [
    "class Solution811:\n",
    "    def subdomainVisits(self, cpdomains: List[str]) -> List[str]:\n",
    "        hashmap = defaultdict(int)\n",
    "        for record in cpdomains:\n",
    "            count, domain = record.split(\" \")\n",
    "            count = int(count)\n",
    "            subdomains = domain.split(\".\")\n",
    "            for i in range(len(subdomains)):\n",
    "                hashmap[\".\".join(subdomains[i:])] += count\n",
    "        return [str(item[1]) + ' ' + item[0] for item in hashmap.items()]"
   ]
  },
  {
   "cell_type": "code",
   "execution_count": 187,
   "metadata": {},
   "outputs": [
    {
     "data": {
      "text/plain": [
       "(['9001 discuss.leetcode.com', '9001 leetcode.com', '9001 com'],\n",
       " ['900 google.mail.com',\n",
       "  '901 mail.com',\n",
       "  '951 com',\n",
       "  '50 yahoo.com',\n",
       "  '1 intel.mail.com',\n",
       "  '5 wiki.org',\n",
       "  '5 org'])"
      ]
     },
     "execution_count": 187,
     "metadata": {},
     "output_type": "execute_result"
    }
   ],
   "source": [
    "solver_811 = Solution811()\n",
    "solver_811.subdomainVisits([\"9001 discuss.leetcode.com\"]),\\\n",
    "solver_811.subdomainVisits([\"900 google.mail.com\", \"50 yahoo.com\", \"1 intel.mail.com\", \"5 wiki.org\"])"
   ]
  },
  {
   "cell_type": "markdown",
   "metadata": {},
   "source": [
    "### self-written solution"
   ]
  },
  {
   "cell_type": "code",
   "execution_count": 190,
   "metadata": {},
   "outputs": [],
   "source": [
    "class Solution811:\n",
    "    def subdomainVisits(self, cpdomains: List[str]) -> List[str]:\n",
    "        hashmap = defaultdict(int)\n",
    "        for record in cpdomains:\n",
    "            count, domain = record.split(\" \")\n",
    "            count = int(count)\n",
    "            i = 0\n",
    "            while i < len(domain):\n",
    "                hashmap[domain[i:]] += count\n",
    "                while i < len(domain) and domain[i] != '.':\n",
    "                    i += 1\n",
    "                i += 1\n",
    "        return [str(item[1]) + ' ' + item[0] for item in hashmap.items()]"
   ]
  },
  {
   "cell_type": "code",
   "execution_count": 191,
   "metadata": {},
   "outputs": [
    {
     "data": {
      "text/plain": [
       "(['9001 discuss.leetcode.com', '9001 leetcode.com', '9001 com'],\n",
       " ['900 google.mail.com',\n",
       "  '901 mail.com',\n",
       "  '951 com',\n",
       "  '50 yahoo.com',\n",
       "  '1 intel.mail.com',\n",
       "  '5 wiki.org',\n",
       "  '5 org'])"
      ]
     },
     "execution_count": 191,
     "metadata": {},
     "output_type": "execute_result"
    }
   ],
   "source": [
    "solver_811 = Solution811()\n",
    "solver_811.subdomainVisits([\"9001 discuss.leetcode.com\"]),\\\n",
    "solver_811.subdomainVisits([\"900 google.mail.com\", \"50 yahoo.com\", \"1 intel.mail.com\", \"5 wiki.org\"])"
   ]
  },
  {
   "cell_type": "markdown",
   "metadata": {},
   "source": [
    "## 706. Design HashMap"
   ]
  },
  {
   "cell_type": "markdown",
   "metadata": {},
   "source": [
    "### self-written solution after checking answers"
   ]
  },
  {
   "cell_type": "code",
   "execution_count": 199,
   "metadata": {},
   "outputs": [],
   "source": [
    "class Bucket:\n",
    "    \n",
    "    def __init__(self):\n",
    "        self.list = []\n",
    "\n",
    "    def put(self, key: int, value: int) -> None:\n",
    "        for i, (k, v) in enumerate(self.list):\n",
    "            if k == key:\n",
    "                self.list[i] = (key, value)\n",
    "                return\n",
    "        self.list.append((key, value))       \n",
    "\n",
    "    def get(self, key: int) -> int:\n",
    "        for k, v in self.list:\n",
    "            if k == key:\n",
    "                return v\n",
    "        return -1\n",
    "\n",
    "    def remove(self, key: int) -> None:\n",
    "        for i, (k, v) in enumerate(self.list):\n",
    "            if k == key:\n",
    "                del self.list[i]\n",
    "                return\n",
    "\n",
    "class MyHashMap:\n",
    "\n",
    "    def __init__(self):\n",
    "        \"\"\"\n",
    "        Initialize your data structure here.\n",
    "        \"\"\"\n",
    "        self.prime = 2069\n",
    "        self.buckets = [Bucket() for _ in range(self.prime)]\n",
    "\n",
    "    def put(self, key: int, value: int) -> None:\n",
    "        \"\"\"\n",
    "        value will always be non-negative.\n",
    "        \"\"\"\n",
    "        self.buckets[key%self.prime].put(key, value)\n",
    "        \n",
    "\n",
    "    def get(self, key: int) -> int:\n",
    "        \"\"\"\n",
    "        Returns the value to which the specified key is mapped, or -1 if this map contains no mapping for the key\n",
    "        \"\"\"\n",
    "        return self.buckets[key%self.prime].get(key)\n",
    "        \n",
    "\n",
    "    def remove(self, key: int) -> None:\n",
    "        \"\"\"\n",
    "        Removes the mapping of the specified value key if this map contains a mapping for the key\n",
    "        \"\"\"\n",
    "        self.buckets[key%self.prime].remove(key)"
   ]
  },
  {
   "cell_type": "code",
   "execution_count": 198,
   "metadata": {},
   "outputs": [
    {
     "name": "stdout",
     "output_type": "stream",
     "text": [
      "2 -1\n"
     ]
    }
   ],
   "source": [
    "obj = MyHashMap()\n",
    "obj.put(1, 2)\n",
    "obj.put(2, 3)\n",
    "val_1 = obj.get(1)\n",
    "obj.remove(2)\n",
    "val_2 = obj.get(2)\n",
    "print(val_1, val_2)"
   ]
  },
  {
   "cell_type": "markdown",
   "metadata": {},
   "source": [
    "## 387. First Unique Character in a String"
   ]
  },
  {
   "cell_type": "markdown",
   "metadata": {},
   "source": [
    "### self-written solution"
   ]
  },
  {
   "cell_type": "code",
   "execution_count": 204,
   "metadata": {},
   "outputs": [],
   "source": [
    "class Solution387:\n",
    "    def firstUniqChar(self, s: str) -> int:\n",
    "        count = Counter(s)\n",
    "        i = 0\n",
    "        while i < len(s):\n",
    "            if count[s[i]] == 1:\n",
    "                return i\n",
    "            i += 1\n",
    "        return -1"
   ]
  },
  {
   "cell_type": "code",
   "execution_count": 205,
   "metadata": {},
   "outputs": [
    {
     "data": {
      "text/plain": [
       "(2, 0)"
      ]
     },
     "execution_count": 205,
     "metadata": {},
     "output_type": "execute_result"
    }
   ],
   "source": [
    "solver_387 = Solution387()\n",
    "solver_387.firstUniqChar(\"loveleetcode\"), solver_387.firstUniqChar(\"leetcode\")"
   ]
  },
  {
   "cell_type": "markdown",
   "metadata": {},
   "source": [
    "## 1570. Dot Product of Two Sparse Vectors"
   ]
  },
  {
   "cell_type": "markdown",
   "metadata": {},
   "source": [
    "### self-written solution"
   ]
  },
  {
   "cell_type": "code",
   "execution_count": 209,
   "metadata": {},
   "outputs": [],
   "source": [
    "class SparseVector:\n",
    "    def __init__(self, nums: List[int]):\n",
    "        self.len = len(nums)\n",
    "        self.idx2val = defaultdict(int)\n",
    "        for i in range(self.len):\n",
    "            self.idx2val[i] = nums[i]\n",
    "\n",
    "    # Return the dotProduct of two sparse vectors\n",
    "    def dotProduct(self, vec: 'SparseVector') -> int:\n",
    "        ret = 0\n",
    "        if len(self.idx2val) < len(vec.idx2val):\n",
    "            pivotVector = self\n",
    "        else:\n",
    "            pivotVector = vec\n",
    "        for idx in pivotVector.idx2val:\n",
    "            ret += pivotVector.idx2val[idx]*self.idx2val[idx]\n",
    "        return ret"
   ]
  },
  {
   "cell_type": "code",
   "execution_count": 210,
   "metadata": {},
   "outputs": [
    {
     "data": {
      "text/plain": [
       "(8, 0, 6)"
      ]
     },
     "execution_count": 210,
     "metadata": {},
     "output_type": "execute_result"
    }
   ],
   "source": [
    "v1 = SparseVector([1,0,0,2,3])\n",
    "v2 = SparseVector([0,3,0,4,0])\n",
    "v3 = SparseVector([0,1,0,0,0])\n",
    "v4 = SparseVector([0,0,0,0,2])\n",
    "v5 = SparseVector([0,1,0,0,2,0,0])\n",
    "v6 = SparseVector([1,0,0,0,3,0,4])\n",
    "v1.dotProduct(v2), v3.dotProduct(v4), v5.dotProduct(v6)"
   ]
  },
  {
   "cell_type": "markdown",
   "metadata": {},
   "source": [
    "## 726. Number of Atoms"
   ]
  },
  {
   "cell_type": "markdown",
   "metadata": {},
   "source": [
    "### self-written recursive solution, passed all tests, genius!"
   ]
  },
  {
   "cell_type": "code",
   "execution_count": 230,
   "metadata": {},
   "outputs": [],
   "source": [
    "class Solution726:\n",
    "    def countOfAtoms(self, formula: str) -> str:\n",
    "        \n",
    "        def countAtoms(formula, i):\n",
    "            counter = defaultdict(int)\n",
    "            while i < len(formula):\n",
    "                if formula[i] == '(':\n",
    "                    temp_counter, i = countAtoms(formula, i+1)\n",
    "                    multiplier, i = getCount(formula, i)\n",
    "                    for atom, count in temp_counter.items():\n",
    "                        counter[atom] += count*multiplier\n",
    "                elif formula[i] == ')':\n",
    "                    return counter, i+1\n",
    "                else:\n",
    "                    atom, i = getAtom(formula, i)\n",
    "                    count, i = getCount(formula, i)\n",
    "                    counter[atom] += count\n",
    "            return counter, i        \n",
    "        \n",
    "        def getAtom(formula, i):\n",
    "            start = i\n",
    "            i += 1\n",
    "            while i < len(formula) and formula[i:i+1].islower():\n",
    "                i += 1\n",
    "            return formula[start:i], i\n",
    "        \n",
    "        def getCount(formula, i):\n",
    "            start = i\n",
    "            while i < len(formula) and formula[i:i+1].isdigit():\n",
    "                i += 1\n",
    "            return int(formula[start:i]) if start != i else 1, i\n",
    "        \n",
    "        counter, _ = countAtoms(formula, 0) \n",
    "        ret = list()\n",
    "        for atom in sorted(counter):\n",
    "            ret.append(atom)\n",
    "            if counter[atom] > 1:\n",
    "                ret.append(str(counter[atom]))\n",
    "        return \"\".join(ret)"
   ]
  },
  {
   "cell_type": "code",
   "execution_count": 231,
   "metadata": {},
   "outputs": [
    {
     "data": {
      "text/plain": [
       "('H2O', 'H2MgO2', 'K4N2O14S4', 'Be32')"
      ]
     },
     "execution_count": 231,
     "metadata": {},
     "output_type": "execute_result"
    }
   ],
   "source": [
    "solver_726 = Solution726()\n",
    "solver_726.countOfAtoms(\"H2O\"), solver_726.countOfAtoms(\"Mg(OH)2\"),\\\n",
    "solver_726.countOfAtoms(\"K4(ON(SO3)2)2\"), solver_726.countOfAtoms(\"Be32\")"
   ]
  },
  {
   "cell_type": "markdown",
   "metadata": {},
   "source": [
    "### self-written stack solution, after checking answers"
   ]
  },
  {
   "cell_type": "code",
   "execution_count": 237,
   "metadata": {},
   "outputs": [],
   "source": [
    "class Solution726:\n",
    "    def countOfAtoms(self, formula: str) -> str:\n",
    "        stack = [defaultdict(int)]\n",
    "        i = 0\n",
    "        while i < len(formula):\n",
    "            if formula[i] == '(':\n",
    "                stack.append(defaultdict(int))\n",
    "                i += 1\n",
    "            elif formula[i] == ')':\n",
    "                subcounter = stack.pop()\n",
    "                i += 1\n",
    "                start = i\n",
    "                while i < len(formula) and formula[i:i+1].isdigit():\n",
    "                    i += 1\n",
    "                multiplier = int(formula[start:i]) if start != i else 1\n",
    "                for atom, count in subcounter.items():\n",
    "                    stack[-1][atom] += count*multiplier\n",
    "            else:\n",
    "                start = i\n",
    "                i += 1\n",
    "                while i < len(formula) and formula[i:i+1].islower():\n",
    "                    i += 1\n",
    "                atom = formula[start:i]\n",
    "                start = i\n",
    "                while i < len(formula) and formula[i:i+1].isdigit():\n",
    "                    i += 1\n",
    "                count = int(formula[start:i]) if start != i else 1\n",
    "                stack[-1][atom] += count\n",
    "        assert len(stack) == 1\n",
    "        counter = stack[0]\n",
    "        ret = list()\n",
    "        for atom in sorted(counter):\n",
    "            ret.append(atom)\n",
    "            if counter[atom] > 1:\n",
    "                ret.append(str(counter[atom]))\n",
    "        return \"\".join(ret)"
   ]
  },
  {
   "cell_type": "code",
   "execution_count": 238,
   "metadata": {},
   "outputs": [
    {
     "data": {
      "text/plain": [
       "('H2O', 'H2MgO2', 'K4N2O14S4', 'Be32')"
      ]
     },
     "execution_count": 238,
     "metadata": {},
     "output_type": "execute_result"
    }
   ],
   "source": [
    "solver_726 = Solution726()\n",
    "solver_726.countOfAtoms(\"H2O\"), solver_726.countOfAtoms(\"Mg(OH)2\"),\\\n",
    "solver_726.countOfAtoms(\"K4(ON(SO3)2)2\"), solver_726.countOfAtoms(\"Be32\")"
   ]
  },
  {
   "cell_type": "markdown",
   "metadata": {},
   "source": [
    "### self-written regular expression solution after checking answers"
   ]
  },
  {
   "cell_type": "code",
   "execution_count": 243,
   "metadata": {},
   "outputs": [],
   "source": [
    "class Solution726:\n",
    "    def countOfAtoms(self, formula: str) -> str:\n",
    "        components = re.findall(r\"([A-Z][a-z]*)(\\d*)|(\\()|(\\))(\\d*)\", formula)\n",
    "        stack = [defaultdict(int)]\n",
    "        for atom, count, left_bracket, right_bracket, multiplier in components:\n",
    "            if left_bracket == '(':\n",
    "                stack.append(defaultdict(int))\n",
    "            elif right_bracket == ')':\n",
    "                subcounter = stack.pop()\n",
    "                if not multiplier:\n",
    "                    multiplier = 1\n",
    "                else:\n",
    "                    multiplier = int(multiplier)\n",
    "                for atom, count in subcounter.items():\n",
    "                    stack[-1][atom] += count*multiplier\n",
    "            else:\n",
    "                if not count:\n",
    "                    count = 1\n",
    "                else:\n",
    "                    count = int(count)\n",
    "                stack[-1][atom] += count\n",
    "        assert len(stack) == 1\n",
    "        counter = stack[0]\n",
    "        ret = list()\n",
    "        for atom in sorted(counter):\n",
    "            ret.append(atom)\n",
    "            if counter[atom] > 1:\n",
    "                ret.append(str(counter[atom]))\n",
    "        return \"\".join(ret)"
   ]
  },
  {
   "cell_type": "code",
   "execution_count": 244,
   "metadata": {},
   "outputs": [
    {
     "data": {
      "text/plain": [
       "('H2O', 'H2MgO2', 'K4N2O14S4', 'Be32')"
      ]
     },
     "execution_count": 244,
     "metadata": {},
     "output_type": "execute_result"
    }
   ],
   "source": [
    "solver_726 = Solution726()\n",
    "solver_726.countOfAtoms(\"H2O\"), solver_726.countOfAtoms(\"Mg(OH)2\"),\\\n",
    "solver_726.countOfAtoms(\"K4(ON(SO3)2)2\"), solver_726.countOfAtoms(\"Be32\")"
   ]
  },
  {
   "cell_type": "markdown",
   "metadata": {},
   "source": [
    "### an example of regular expression parsing result"
   ]
  },
  {
   "cell_type": "code",
   "execution_count": 232,
   "metadata": {},
   "outputs": [
    {
     "data": {
      "text/plain": [
       "[('K', '4', '', '', ''),\n",
       " ('', '', '(', '', ''),\n",
       " ('O', '', '', '', ''),\n",
       " ('N', '', '', '', ''),\n",
       " ('', '', '(', '', ''),\n",
       " ('S', '', '', '', ''),\n",
       " ('O', '3', '', '', ''),\n",
       " ('', '', '', ')', '2'),\n",
       " ('', '', '', ')', '2')]"
      ]
     },
     "execution_count": 232,
     "metadata": {},
     "output_type": "execute_result"
    }
   ],
   "source": [
    "import re\n",
    "re.findall(r\"([A-Z][a-z]*)(\\d*)|(\\()|(\\))(\\d*)\", \"K4(ON(SO3)2)2\")"
   ]
  },
  {
   "cell_type": "markdown",
   "metadata": {},
   "source": [
    "## 202. Happy Number"
   ]
  },
  {
   "cell_type": "markdown",
   "metadata": {},
   "source": [
    "### self-written hashset solution after checking answers"
   ]
  },
  {
   "cell_type": "code",
   "execution_count": 246,
   "metadata": {},
   "outputs": [],
   "source": [
    "class Solution202:\n",
    "    def isHappy(self, n: int) -> bool:\n",
    "        def getNext(n):\n",
    "            ret = 0\n",
    "            while n != 0:\n",
    "                ret += (n%10)**2\n",
    "                n //= 10\n",
    "            return ret\n",
    "        hashset = set()\n",
    "        while n != 1 and n not in hashset:\n",
    "            hashset.add(n)\n",
    "            n = getNext(n)\n",
    "        return n == 1"
   ]
  },
  {
   "cell_type": "code",
   "execution_count": 247,
   "metadata": {},
   "outputs": [
    {
     "data": {
      "text/plain": [
       "(True, False)"
      ]
     },
     "execution_count": 247,
     "metadata": {},
     "output_type": "execute_result"
    }
   ],
   "source": [
    "solver_202 = Solution202()\n",
    "solver_202.isHappy(19), solver_202.isHappy(2)"
   ]
  },
  {
   "cell_type": "markdown",
   "metadata": {},
   "source": [
    "### self-written Floyd's cycle detection after checking answers"
   ]
  },
  {
   "cell_type": "code",
   "execution_count": 256,
   "metadata": {},
   "outputs": [],
   "source": [
    "class Solution202:\n",
    "    def isHappy(self, n: int) -> bool:\n",
    "        def getNext(n):\n",
    "            ret = 0\n",
    "            while n != 0:\n",
    "                ret += (n%10)**2\n",
    "                n //= 10\n",
    "            return ret\n",
    "        fast = getNext(n) # it is important for fast pointer to proceed one step first\n",
    "        slow = n\n",
    "        while fast != 1 and slow != fast:\n",
    "            fast = getNext(getNext(fast))\n",
    "            slow = getNext(slow)\n",
    "#             print(fast, slow)\n",
    "        return fast == 1"
   ]
  },
  {
   "cell_type": "code",
   "execution_count": 257,
   "metadata": {},
   "outputs": [
    {
     "data": {
      "text/plain": [
       "(True, False)"
      ]
     },
     "execution_count": 257,
     "metadata": {},
     "output_type": "execute_result"
    }
   ],
   "source": [
    "solver_202 = Solution202()\n",
    "solver_202.isHappy(19), solver_202.isHappy(2)"
   ]
  },
  {
   "cell_type": "markdown",
   "metadata": {},
   "source": [
    "## 138. Copy List with Random Pointer"
   ]
  },
  {
   "cell_type": "markdown",
   "metadata": {},
   "source": [
    "### self-written recursive solution after checking answers"
   ]
  },
  {
   "cell_type": "code",
   "execution_count": 260,
   "metadata": {},
   "outputs": [],
   "source": [
    "class Node:\n",
    "    def __init__(self, x: int, next: 'Node' = None, random: 'Node' = None):\n",
    "        self.val = int(x)\n",
    "        self.next = next\n",
    "        self.random = random\n",
    "\n",
    "class Solution138:\n",
    "    \n",
    "    def __init__(self):\n",
    "        self.reference = dict()\n",
    "    \n",
    "    def copyRandomList(self, head: 'Node') -> 'Node':\n",
    "        if head is None:\n",
    "            return None\n",
    "        if head in self.reference:\n",
    "            return self.reference[head]\n",
    "        copy = Node(head.val)\n",
    "        self.reference[head] = copy\n",
    "        nextNode = self.copyRandomList(head.next)\n",
    "        randomNode = self.copyRandomList(head.random)\n",
    "        copy.next = nextNode\n",
    "        copy.random = randomNode\n",
    "        return copy"
   ]
  },
  {
   "cell_type": "markdown",
   "metadata": {},
   "source": [
    "### self-written two-pass iterative solution"
   ]
  },
  {
   "cell_type": "code",
   "execution_count": 264,
   "metadata": {},
   "outputs": [],
   "source": [
    "class Solution138:  \n",
    "    def copyRandomList(self, head: 'Node') -> 'Node':\n",
    "        if head is None:\n",
    "            return None\n",
    "        reference = dict()\n",
    "        oriHead = head\n",
    "        # assign random\n",
    "        while head is not None:\n",
    "            if head in reference:\n",
    "                headCopy = reference[head]\n",
    "            else:\n",
    "                headCopy = Node(head.val)\n",
    "                reference[head] = headCopy\n",
    "            if head.random is not None and headCopy.random is None:\n",
    "                # need to assign random\n",
    "                if head.random in reference:\n",
    "                    headCopy.random = reference[head.random]\n",
    "                else:\n",
    "                    headCopy.random = Node(head.random.val)\n",
    "                    reference[head.random] = headCopy.random\n",
    "            head = head.next\n",
    "        # assign next\n",
    "        head = oriHead\n",
    "        while head.next is not None:\n",
    "            reference[head].next = reference[head.next]\n",
    "            head = head.next\n",
    "        return reference[oriHead]"
   ]
  },
  {
   "cell_type": "markdown",
   "metadata": {},
   "source": [
    "### self-written iterative solution with a getCloneNode helper function after checking answers"
   ]
  },
  {
   "cell_type": "code",
   "execution_count": 265,
   "metadata": {},
   "outputs": [],
   "source": [
    "class Solution138:\n",
    "    \n",
    "    def __init__(self):\n",
    "        self.reference = dict()\n",
    "    \n",
    "    def copyRandomList(self, head: 'Node') -> 'Node':\n",
    "        \n",
    "        def getCloneNode(node):\n",
    "            \"\"\"\n",
    "            This is crucial\n",
    "            \"\"\"\n",
    "            if node is None:\n",
    "                return None\n",
    "            if node not in self.reference:\n",
    "                self.reference[node] = Node(node.val)\n",
    "            return self.reference[node]\n",
    "       \n",
    "        if head is None:\n",
    "            return None\n",
    "        oldNode = head\n",
    "        newNode = Node(head.val)\n",
    "        self.reference[oldNode] = newNode\n",
    "        while oldNode is not None:\n",
    "            newNode.random = getCloneNode(oldNode.random)\n",
    "            newNode.next = getCloneNode(oldNode.next)\n",
    "            oldNode = oldNode.next\n",
    "            newNode = newNode.next\n",
    "        return self.reference[head]"
   ]
  },
  {
   "cell_type": "markdown",
   "metadata": {},
   "source": [
    "### self-written iterative solution with constant space (without maintaining hashmap) after checking answers"
   ]
  },
  {
   "cell_type": "code",
   "execution_count": 266,
   "metadata": {},
   "outputs": [],
   "source": [
    "class Solution138:\n",
    "    def copyRandomList(self, head: 'Node') -> 'Node':\n",
    "        if not head:\n",
    "            return None\n",
    "        ptr = head\n",
    "        # inserting nodes\n",
    "        while ptr:\n",
    "            ptrCopy = Node(ptr.val)\n",
    "            ptrCopy.next = ptr.next\n",
    "            ptr.next = ptrCopy\n",
    "            ptr = ptrCopy.next\n",
    "        # assign random\n",
    "#         ptrOld = head\n",
    "#         ptrNew = head.next\n",
    "        ptr = head\n",
    "        while ptr:\n",
    "            ptr.next.random = ptr.random.next if ptr.random else None\n",
    "            ptr = ptr.next.next\n",
    "        ptr = head\n",
    "        headCopy = head.next\n",
    "        while ptr:\n",
    "            temp = ptr.next\n",
    "            ptr.next = ptr.next.next if ptr.next else None\n",
    "            ptr = temp\n",
    "        return headCopy"
   ]
  },
  {
   "cell_type": "markdown",
   "metadata": {},
   "source": [
    "## 244. Shortest Word Distance II"
   ]
  },
  {
   "cell_type": "markdown",
   "metadata": {},
   "source": [
    "### self-written solution after checking answers"
   ]
  },
  {
   "cell_type": "code",
   "execution_count": 270,
   "metadata": {},
   "outputs": [],
   "source": [
    "class WordDistance:\n",
    "\n",
    "    def __init__(self, words: List[str]):\n",
    "        self.word2idx = defaultdict(list)\n",
    "        for i, word in enumerate(words):\n",
    "            self.word2idx[word].append(i)       \n",
    "\n",
    "    def shortest(self, word1: str, word2: str) -> int:\n",
    "        list1 = self.word2idx[word1]\n",
    "        list2 = self.word2idx[word2]\n",
    "        ptr1 = ptr2 = 0\n",
    "        ret = float(\"inf\")\n",
    "        while ptr1 < len(list1) and ptr2 < len(list2):\n",
    "            ret = min(ret, abs(list1[ptr1] - list2[ptr2]))\n",
    "            if list1[ptr1] < list2[ptr2]:\n",
    "                ptr1 += 1\n",
    "            else:\n",
    "                ptr2 += 1\n",
    "        return ret"
   ]
  },
  {
   "cell_type": "code",
   "execution_count": 271,
   "metadata": {},
   "outputs": [
    {
     "data": {
      "text/plain": [
       "(3, 1)"
      ]
     },
     "execution_count": 271,
     "metadata": {},
     "output_type": "execute_result"
    }
   ],
   "source": [
    "obj = WordDistance([\"practice\", \"makes\", \"perfect\", \"coding\", \"makes\"])\n",
    "obj.shortest(word1 = \"coding\", word2 = \"practice\"), obj.shortest(word1 = \"makes\", word2 = \"coding\")"
   ]
  },
  {
   "cell_type": "markdown",
   "metadata": {},
   "source": [
    "## 356. Line Reflection"
   ]
  },
  {
   "cell_type": "markdown",
   "metadata": {},
   "source": [
    "### self-written solution"
   ]
  },
  {
   "cell_type": "code",
   "execution_count": 274,
   "metadata": {},
   "outputs": [],
   "source": [
    "class Solution356:\n",
    "    def isReflected(self, points: List[List[int]]) -> bool:\n",
    "        y2x = defaultdict(set)\n",
    "        min_x, max_x = points[0][0], points[0][0]\n",
    "        for x, y in points:\n",
    "            y2x[y].add(x)\n",
    "            min_x = min(min_x, x)\n",
    "            max_x = max(max_x, x)\n",
    "        double_middle = max_x + min_x\n",
    "        for y, xlist in y2x.items():\n",
    "            for x in xlist:\n",
    "                if double_middle-x not in xlist:\n",
    "                    return False\n",
    "        return True"
   ]
  },
  {
   "cell_type": "markdown",
   "metadata": {},
   "source": [
    "## 974. Subarray Sums Divisible by K"
   ]
  },
  {
   "cell_type": "markdown",
   "metadata": {},
   "source": [
    "### self-written solution"
   ]
  },
  {
   "cell_type": "code",
   "execution_count": 291,
   "metadata": {},
   "outputs": [],
   "source": [
    "class Solution974:\n",
    "    def subarraysDivByK(self, A: List[int], K: int) -> int:\n",
    "        moduloCount = defaultdict(int)\n",
    "        moduloCount[0] = 1\n",
    "        cumsum = 0\n",
    "        for i in range(len(A)):\n",
    "            cumsum += A[i]\n",
    "            moduloCount[cumsum%K] += 1\n",
    "        return sum([v*(v-1)//2 for _, v in moduloCount.items()])"
   ]
  },
  {
   "cell_type": "code",
   "execution_count": 292,
   "metadata": {},
   "outputs": [
    {
     "data": {
      "text/plain": [
       "7"
      ]
     },
     "execution_count": 292,
     "metadata": {},
     "output_type": "execute_result"
    }
   ],
   "source": [
    "solver_974 = Solution974()\n",
    "solver_974.subarraysDivByK(A = [4,5,0,-2,-3,1], K = 5)"
   ]
  },
  {
   "cell_type": "markdown",
   "metadata": {},
   "source": [
    "## 381. Insert Delete GetRandom O(1) - Duplicates allowed"
   ]
  },
  {
   "cell_type": "markdown",
   "metadata": {},
   "source": [
    "### self-written solution, time limit exceeded, reason unknown, shit"
   ]
  },
  {
   "cell_type": "code",
   "execution_count": 304,
   "metadata": {},
   "outputs": [],
   "source": [
    "class RandomizedCollection:\n",
    "\n",
    "    def __init__(self):\n",
    "        \"\"\"\n",
    "        Initialize your data structure here.\n",
    "        \"\"\"\n",
    "        self.list = list()\n",
    "        self.hashmap = defaultdict(set)\n",
    "#         self.len = 0\n",
    "\n",
    "    def insert(self, val: int) -> bool:\n",
    "        \"\"\"\n",
    "        Inserts a value to the collection. Returns true if the collection did not already contain the specified element.\n",
    "        \"\"\"\n",
    "        self.list.append(val)\n",
    "#         self.hashmap[val].add(self.len)\n",
    "        self.hashmap[val].add(len(self.list)-1)\n",
    "#         self.len += 1 \n",
    "#         print(self.list)\n",
    "        return len(self.hashmap[val]) == 1\n",
    "\n",
    "    def remove(self, val: int) -> bool:\n",
    "        \"\"\"\n",
    "        Removes a value from the collection. Returns true if the collection contained the specified element.\n",
    "        \"\"\"\n",
    "        if val in self.hashmap:\n",
    "            last_element, delete_idx = self.list[-1], self.hashmap[val].pop()\n",
    "            self.list[delete_idx] = last_element\n",
    "#             self.hashmap[last_element].remove(self.len-1)\n",
    "#             self.hashmap[last_element].discard(self.len-1)\n",
    "            self.hashmap[last_element].discard(len(self.list)-1)\n",
    "            self.hashmap[last_element].add(delete_idx)\n",
    "            self.list.pop()\n",
    "#             print(self.list)\n",
    "            return True\n",
    "#         print(self.list)\n",
    "        return False   \n",
    "\n",
    "    def getRandom(self) -> int:\n",
    "        \"\"\"\n",
    "        Get a random element from the collection.\n",
    "        \"\"\"\n",
    "#         print(self.list)\n",
    "        return random.choice(self.list)"
   ]
  },
  {
   "cell_type": "code",
   "execution_count": 305,
   "metadata": {},
   "outputs": [
    {
     "name": "stdout",
     "output_type": "stream",
     "text": [
      "True\n",
      "False\n",
      "True\n",
      "2\n",
      "True\n",
      "2\n"
     ]
    }
   ],
   "source": [
    "collection = RandomizedCollection()\n",
    "print(collection.insert(1))\n",
    "print(collection.insert(1))\n",
    "print(collection.insert(2))\n",
    "print(collection.getRandom())\n",
    "print(collection.remove(1))\n",
    "print(collection.getRandom())"
   ]
  },
  {
   "cell_type": "markdown",
   "metadata": {},
   "source": [
    "### official solution, passed all tests"
   ]
  },
  {
   "cell_type": "code",
   "execution_count": 294,
   "metadata": {},
   "outputs": [],
   "source": [
    "class RandomizedCollection:\n",
    "\n",
    "    def __init__(self):\n",
    "        \"\"\"\n",
    "        Initialize your data structure here.\n",
    "        \"\"\"\n",
    "        self.lst = []\n",
    "        self.idx = defaultdict(set)\n",
    "\n",
    "\n",
    "    def insert(self, val: int) -> bool:\n",
    "        \"\"\"\n",
    "        Inserts a value to the collection. Returns true if the collection did not already contain the specified element.\n",
    "        \"\"\"\n",
    "        self.idx[val].add(len(self.lst))\n",
    "        self.lst.append(val)\n",
    "        return len(self.idx[val]) == 1\n",
    "\n",
    "\n",
    "    def remove(self, val: int) -> bool:\n",
    "        \"\"\"\n",
    "        Removes a value from the collection. Returns true if the collection contained the specified element.\n",
    "        \"\"\"\n",
    "        if not self.idx[val]: return False\n",
    "        remove, last = self.idx[val].pop(), self.lst[-1]\n",
    "        self.lst[remove] = last\n",
    "        self.idx[last].add(remove)\n",
    "        self.idx[last].discard(len(self.lst) - 1)\n",
    "\n",
    "        self.lst.pop()\n",
    "        return True\n",
    "\n",
    "\n",
    "    def getRandom(self) -> int:\n",
    "        \"\"\"\n",
    "        Get a random element from the collection.\n",
    "        \"\"\"\n",
    "        return choice(self.lst)"
   ]
  },
  {
   "cell_type": "code",
   "execution_count": null,
   "metadata": {},
   "outputs": [],
   "source": []
  }
 ],
 "metadata": {
  "kernelspec": {
   "display_name": "Python 3",
   "language": "python",
   "name": "python3"
  },
  "language_info": {
   "codemirror_mode": {
    "name": "ipython",
    "version": 3
   },
   "file_extension": ".py",
   "mimetype": "text/x-python",
   "name": "python",
   "nbconvert_exporter": "python",
   "pygments_lexer": "ipython3",
   "version": "3.7.1"
  }
 },
 "nbformat": 4,
 "nbformat_minor": 2
}
