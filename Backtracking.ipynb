{
 "cells": [
  {
   "cell_type": "markdown",
   "metadata": {},
   "source": [
    "## Backtracking Template"
   ]
  },
  {
   "cell_type": "code",
   "execution_count": 1,
   "metadata": {},
   "outputs": [],
   "source": [
    "def backtrack(candidate):\n",
    "    if find_solution(candidate):\n",
    "        output(candidate)\n",
    "        return\n",
    "    \n",
    "    # iterate all possible candidates.\n",
    "    for next_candidate in list_of_candidates:\n",
    "        if is_valid(next_candidate):\n",
    "            # try this partial candidate solution\n",
    "            place(next_candidate)\n",
    "            # given the candidate, explore further.\n",
    "            backtrack(next_candidate)\n",
    "            # backtrack\n",
    "            remove(next_candidate)"
   ]
  },
  {
   "cell_type": "markdown",
   "metadata": {},
   "source": [
    "## 79. Word Search"
   ]
  },
  {
   "cell_type": "markdown",
   "metadata": {},
   "source": [
    "### self-written solution after checking answers"
   ]
  },
  {
   "cell_type": "code",
   "execution_count": 3,
   "metadata": {},
   "outputs": [],
   "source": [
    "from typing import List"
   ]
  },
  {
   "cell_type": "code",
   "execution_count": 10,
   "metadata": {},
   "outputs": [],
   "source": [
    "class Solution79:\n",
    "    def exist(self, board: List[List[str]], word: str) -> bool:\n",
    "        nrow, ncol = len(board), len(board[0])\n",
    "        def backtrack(row, col, i):\n",
    "#             print(row, col, i)\n",
    "            if i == len(word):\n",
    "                return True\n",
    "            if row == -1 or row == nrow or col == -1 or col == ncol or board[row][col] != word[i]:\n",
    "                return False\n",
    "            # this indicates that board[row][col] == word[i]\n",
    "            ret = False\n",
    "            board[row][col] = ''\n",
    "            for nextrow, nextcol in [(row, col+1), (row, col-1), (row+1, col), (row-1, col)]:\n",
    "                if backtrack(nextrow, nextcol, i+1):\n",
    "                    ret = True\n",
    "                    break\n",
    "            board[row][col] = word[i]\n",
    "            return ret\n",
    "        for i in range(nrow):\n",
    "            for j in range(ncol):\n",
    "                if backtrack(i, j, 0):\n",
    "                    return True\n",
    "        return False"
   ]
  },
  {
   "cell_type": "code",
   "execution_count": 11,
   "metadata": {},
   "outputs": [
    {
     "data": {
      "text/plain": [
       "True"
      ]
     },
     "execution_count": 11,
     "metadata": {},
     "output_type": "execute_result"
    }
   ],
   "source": [
    "solver_79 = Solution79()\n",
    "solver_79.exist([[\"A\",\"B\",\"C\",\"E\"],[\"S\",\"F\",\"C\",\"S\"],[\"A\",\"D\",\"E\",\"E\"]], \"ABCCED\")"
   ]
  },
  {
   "cell_type": "markdown",
   "metadata": {},
   "source": [
    "## 51. N-Queens"
   ]
  },
  {
   "cell_type": "markdown",
   "metadata": {},
   "source": [
    "### self-written solution after checking answers"
   ]
  },
  {
   "cell_type": "code",
   "execution_count": 12,
   "metadata": {},
   "outputs": [],
   "source": [
    "class Solution51:\n",
    "    def solveNQueens(self, n: int) -> List[List[str]]:\n",
    "        def addQueens(row, col):\n",
    "            columns[col] = 1\n",
    "            diagonals[row-col] = 1\n",
    "            antidiagonals[row+col] = 1\n",
    "            queens.append(col)\n",
    "        def removeQueens(row, col):\n",
    "            columns[col] = 0\n",
    "            diagonals[row-col] = 0\n",
    "            antidiagonals[row+col] = 0\n",
    "            queens.pop()\n",
    "        def addSolution():\n",
    "            ret.append(['.' * col + 'Q' + '.' * (n- col -1) for col in queens])\n",
    "        def backtrack(row=0):\n",
    "            for col in range(n):\n",
    "                if not columns[col] and not diagonals[row-col] and not antidiagonals[row+col]:\n",
    "                    addQueens(row, col)\n",
    "                    if row == n - 1:\n",
    "                        addSolution()\n",
    "                    else:\n",
    "                        backtrack(row+1)\n",
    "                    removeQueens(row, col)\n",
    "        columns = [0] * n\n",
    "        diagonals = [0] * (2*n-1)\n",
    "        antidiagonals = [0] * (2*n-1)\n",
    "        queens = []\n",
    "        ret = []\n",
    "        backtrack()\n",
    "        return ret"
   ]
  },
  {
   "cell_type": "code",
   "execution_count": 18,
   "metadata": {},
   "outputs": [
    {
     "data": {
      "text/plain": [
       "92"
      ]
     },
     "execution_count": 18,
     "metadata": {},
     "output_type": "execute_result"
    }
   ],
   "source": [
    "solver_51 = Solution51()\n",
    "len(solver_51.solveNQueens(8))"
   ]
  },
  {
   "cell_type": "markdown",
   "metadata": {},
   "source": [
    "## 22. Generate Parentheses"
   ]
  },
  {
   "cell_type": "markdown",
   "metadata": {},
   "source": [
    "### self-written recursive solution after checking answers"
   ]
  },
  {
   "cell_type": "code",
   "execution_count": 20,
   "metadata": {},
   "outputs": [],
   "source": [
    "class Solution22:\n",
    "    def generateParenthesis(self, n: int) -> List[str]:\n",
    "        ret = []\n",
    "        def backtrack(curr='', left=0, right=0):\n",
    "            if len(curr) == 2*n:\n",
    "                ret.append(curr)\n",
    "                return\n",
    "            if left < n:\n",
    "                backtrack(curr+'(', left+1, right)\n",
    "            if right < left:\n",
    "                backtrack(curr+')', left, right+1)\n",
    "        backtrack()\n",
    "        return ret"
   ]
  },
  {
   "cell_type": "markdown",
   "metadata": {},
   "source": [
    "### self-written bottom-up dynamic programming after checking answers"
   ]
  },
  {
   "cell_type": "code",
   "execution_count": 21,
   "metadata": {},
   "outputs": [],
   "source": [
    "class Solution22:\n",
    "    def generateParenthesis(self, n: int) -> List[str]:\n",
    "        dp = [[''] for _ in range(n+1)]\n",
    "        for i in range(1, n+1):\n",
    "            dp[i] = ['('+s1+')'+s2 for j in range(i) for s1 in dp[j] for s2 in dp[i-1-j]]\n",
    "        return dp[n]"
   ]
  },
  {
   "cell_type": "markdown",
   "metadata": {},
   "source": [
    "## 211. Design Add and Search Words Data Structure"
   ]
  },
  {
   "cell_type": "markdown",
   "metadata": {},
   "source": [
    "### self-written recursive solution, passed all tests"
   ]
  },
  {
   "cell_type": "code",
   "execution_count": 25,
   "metadata": {},
   "outputs": [],
   "source": [
    "class WordDictionary:\n",
    "\n",
    "    def __init__(self):\n",
    "        \"\"\"\n",
    "        Initialize your data structure here.\n",
    "        \"\"\"\n",
    "        self.root = {}\n",
    "\n",
    "    def addWord(self, word: str) -> None:\n",
    "        node = self.root\n",
    "        for char in word:\n",
    "            if char not in node:\n",
    "                node[char] = {}\n",
    "            node = node.get(char)\n",
    "        node['#'] = True # True is not important here actually\n",
    "\n",
    "    def search(self, word: str) -> bool:\n",
    "        def helper(node, i):\n",
    "            if i == len(word):\n",
    "                return '#' in node\n",
    "            if word[i] == '.':\n",
    "                for char, child_node in node.items():\n",
    "                    if char == '#':\n",
    "                        continue\n",
    "                    if helper(child_node, i+1):\n",
    "                        return True\n",
    "                return False\n",
    "            if word[i] in node:\n",
    "                return helper(node.get(word[i]), i+1)\n",
    "            return False\n",
    "        return helper(self.root, 0)"
   ]
  },
  {
   "cell_type": "code",
   "execution_count": 26,
   "metadata": {},
   "outputs": [
    {
     "data": {
      "text/plain": [
       "(False, True, True, True)"
      ]
     },
     "execution_count": 26,
     "metadata": {},
     "output_type": "execute_result"
    }
   ],
   "source": [
    "wd = WordDictionary()\n",
    "wd.addWord(\"bad\")\n",
    "wd.addWord(\"dad\")\n",
    "wd.addWord(\"mad\")\n",
    "wd.search(\"pad\"), wd.search(\"bad\"), wd.search(\".ad\"), wd.search(\"b..\")"
   ]
  },
  {
   "cell_type": "markdown",
   "metadata": {},
   "source": [
    "## 212. Word Search II"
   ]
  },
  {
   "cell_type": "markdown",
   "metadata": {},
   "source": [
    "### self-written solution after checking answers, passed all tests"
   ]
  },
  {
   "cell_type": "code",
   "execution_count": 40,
   "metadata": {},
   "outputs": [],
   "source": [
    "class Solution212:\n",
    "    def findWords(self, board: List[List[str]], words: List[str]) -> List[str]:\n",
    "        # build trie first\n",
    "        trie = {}\n",
    "        for word in words:\n",
    "            node = trie\n",
    "            for char in word:\n",
    "                if char not in node:\n",
    "                    node[char] = {}\n",
    "                node = node.get(char)\n",
    "            node['#'] = word # change True to word to facilitate collection\n",
    "#         print(trie)\n",
    "        ret = []\n",
    "        nrow, ncol = len(board), len(board[0])\n",
    "        \n",
    "        def backtrack(row, col, node):\n",
    "            # end condition\n",
    "            if '#' in node:\n",
    "                # get and delete in one step\n",
    "                ret.append(node.pop('#'))\n",
    "#                 ret.append(node.get('#'))\n",
    "                # delete to prevent multiple same outputs\n",
    "#                 del node['#']\n",
    "                # can't put return here! dogs and dogs\n",
    "            if row == -1 or row == nrow or col == -1 or col == ncol or not board[row][col]:\n",
    "                return\n",
    "            char = board[row][col]\n",
    "            if char in node:\n",
    "                childnode = node.get(char)\n",
    "#                 print(childnode)\n",
    "                board[row][col] = ''\n",
    "                for nextrow, nextcol in [(row+1, col), (row-1, col), (row, col+1), (row, col-1)]:\n",
    "                    backtrack(nextrow, nextcol, childnode)\n",
    "                board[row][col] = char\n",
    "            # otherwise do nothing\n",
    "        \n",
    "        for i in range(nrow):\n",
    "            for j in range(ncol):\n",
    "                backtrack(i, j, trie)\n",
    "        \n",
    "        return ret"
   ]
  },
  {
   "cell_type": "code",
   "execution_count": 41,
   "metadata": {},
   "outputs": [
    {
     "data": {
      "text/plain": [
       "['oath', 'eat']"
      ]
     },
     "execution_count": 41,
     "metadata": {},
     "output_type": "execute_result"
    }
   ],
   "source": [
    "solver_212 = Solution212()\n",
    "solver_212.findWords([[\"o\",\"a\",\"a\",\"n\"],[\"e\",\"t\",\"a\",\"e\"],[\"i\",\"h\",\"k\",\"r\"],[\"i\",\"f\",\"l\",\"v\"]], \n",
    "                     [\"oath\",\"pea\",\"eat\",\"rain\"])"
   ]
  },
  {
   "cell_type": "markdown",
   "metadata": {},
   "source": [
    "### self-written improved solution: optimization with pruning, very fast"
   ]
  },
  {
   "cell_type": "code",
   "execution_count": 50,
   "metadata": {},
   "outputs": [],
   "source": [
    "class Solution212:\n",
    "    def findWords(self, board: List[List[str]], words: List[str]) -> List[str]:\n",
    "        # build trie first\n",
    "        trie = {}\n",
    "        for word in words:\n",
    "            node = trie\n",
    "            for char in word:\n",
    "                if char not in node:\n",
    "                    node[char] = {}\n",
    "                node = node.get(char)\n",
    "            node['#'] = word\n",
    "#         print(trie)\n",
    "        \n",
    "        ret = []\n",
    "        nrow, ncol = len(board), len(board[0])\n",
    "        \n",
    "        def backtrack(row, col, parent):\n",
    "            # it is guaranteed that such child node exists\n",
    "            char = board[row][col]\n",
    "            nextNode = parent[char]\n",
    "            if '#' in nextNode:\n",
    "                ret.append(nextNode.pop('#'))\n",
    "            board[row][col] = ''\n",
    "            for nextrow, nextcol in [(row+1, col), (row-1, col), (row, col+1), (row, col-1)]:\n",
    "                if nextrow != -1 and nextrow != nrow and nextcol != -1 and nextcol != ncol and board[nextrow][nextcol] in nextNode:\n",
    "                    backtrack(nextrow, nextcol, nextNode)\n",
    "            board[row][col] = char\n",
    "            # pruning operation\n",
    "            if not nextNode:\n",
    "                parent.pop(char)\n",
    "        \n",
    "        for row in range(nrow):\n",
    "            for col in range(ncol):\n",
    "                # starting from each of the cells\n",
    "                if board[row][col] in trie:\n",
    "                    backtrack(row, col, trie)\n",
    "        \n",
    "#         print(trie)\n",
    "        \n",
    "        return ret"
   ]
  },
  {
   "cell_type": "code",
   "execution_count": 51,
   "metadata": {},
   "outputs": [
    {
     "name": "stdout",
     "output_type": "stream",
     "text": [
      "{'o': {'a': {'t': {'h': {'#': 'oath'}}}}, 'p': {'e': {'a': {'#': 'pea'}}}, 'e': {'a': {'t': {'#': 'eat'}}}, 'r': {'a': {'i': {'n': {'#': 'rain'}}}}}\n",
      "{'p': {'e': {'a': {'#': 'pea'}}}, 'r': {'a': {'i': {'n': {'#': 'rain'}}}}}\n"
     ]
    },
    {
     "data": {
      "text/plain": [
       "['oath', 'eat']"
      ]
     },
     "execution_count": 51,
     "metadata": {},
     "output_type": "execute_result"
    }
   ],
   "source": [
    "solver_212 = Solution212()\n",
    "solver_212.findWords([[\"o\",\"a\",\"a\",\"n\"],[\"e\",\"t\",\"a\",\"e\"],[\"i\",\"h\",\"k\",\"r\"],[\"i\",\"f\",\"l\",\"v\"]], \n",
    "                     [\"oath\",\"pea\",\"eat\",\"rain\"])"
   ]
  },
  {
   "cell_type": "markdown",
   "metadata": {},
   "source": [
    "## 46. Permutations"
   ]
  },
  {
   "cell_type": "markdown",
   "metadata": {},
   "source": [
    "### self-written backtracking solution after checking answers"
   ]
  },
  {
   "cell_type": "code",
   "execution_count": 55,
   "metadata": {},
   "outputs": [],
   "source": [
    "class Solution46:\n",
    "    def permute(self, nums: List[int]) -> List[List[int]]:\n",
    "        ret = []\n",
    "        def backtrack(first, nums):\n",
    "            if first == len(nums):\n",
    "                ret.append(nums)\n",
    "            for i in range(first, len(nums)):\n",
    "                new_nums = nums[:]\n",
    "                new_nums[i], new_nums[first] = new_nums[first], new_nums[i]\n",
    "                backtrack(first+1, new_nums)\n",
    "        backtrack(0, nums)\n",
    "        return ret"
   ]
  },
  {
   "cell_type": "code",
   "execution_count": 57,
   "metadata": {},
   "outputs": [
    {
     "data": {
      "text/plain": [
       "([[1, 2, 3], [1, 3, 2], [2, 1, 3], [2, 3, 1], [3, 2, 1], [3, 1, 2]],\n",
       " [[5, 7, 8, 1],\n",
       "  [5, 7, 1, 8],\n",
       "  [5, 8, 7, 1],\n",
       "  [5, 8, 1, 7],\n",
       "  [5, 1, 8, 7],\n",
       "  [5, 1, 7, 8],\n",
       "  [7, 5, 8, 1],\n",
       "  [7, 5, 1, 8],\n",
       "  [7, 8, 5, 1],\n",
       "  [7, 8, 1, 5],\n",
       "  [7, 1, 8, 5],\n",
       "  [7, 1, 5, 8],\n",
       "  [8, 7, 5, 1],\n",
       "  [8, 7, 1, 5],\n",
       "  [8, 5, 7, 1],\n",
       "  [8, 5, 1, 7],\n",
       "  [8, 1, 5, 7],\n",
       "  [8, 1, 7, 5],\n",
       "  [1, 7, 8, 5],\n",
       "  [1, 7, 5, 8],\n",
       "  [1, 8, 7, 5],\n",
       "  [1, 8, 5, 7],\n",
       "  [1, 5, 8, 7],\n",
       "  [1, 5, 7, 8]])"
      ]
     },
     "execution_count": 57,
     "metadata": {},
     "output_type": "execute_result"
    }
   ],
   "source": [
    "solver_46 = Solution46()\n",
    "solver_46.permute([1, 2, 3]), solver_46.permute([5, 7, 8, 1])"
   ]
  },
  {
   "cell_type": "markdown",
   "metadata": {},
   "source": [
    "### official solution"
   ]
  },
  {
   "cell_type": "code",
   "execution_count": 58,
   "metadata": {},
   "outputs": [],
   "source": [
    "class Solution46:\n",
    "    def permute(self, nums: List[int]) -> List[List[int]]:\n",
    "        def backtrack(first = 0):\n",
    "            # if all integers are used up\n",
    "            if first == n:  \n",
    "                output.append(nums[:])\n",
    "            for i in range(first, n):\n",
    "                # place i-th integer first \n",
    "                # in the current permutation\n",
    "                # this is the placement step\n",
    "                nums[first], nums[i] = nums[i], nums[first]\n",
    "                # use next integers to complete the permutations\n",
    "                backtrack(first + 1)\n",
    "                # backtrack\n",
    "                # this is the remove step\n",
    "                nums[first], nums[i] = nums[i], nums[first]\n",
    "        \n",
    "        n = len(nums)\n",
    "        output = []\n",
    "        backtrack()\n",
    "        return output"
   ]
  },
  {
   "cell_type": "markdown",
   "metadata": {},
   "source": [
    "## 526. Beautiful Arrangement"
   ]
  },
  {
   "cell_type": "markdown",
   "metadata": {},
   "source": [
    "### self-written backtracking solution, passed all tests"
   ]
  },
  {
   "cell_type": "code",
   "execution_count": 106,
   "metadata": {},
   "outputs": [],
   "source": [
    "class Solution526:\n",
    "    def countArrangement(self, n: int) -> int:\n",
    "        \"\"\"\n",
    "        it is important to check only the validity at position 'first'\n",
    "        position at i may be changed later on (haven't fixed yet)\n",
    "        \"\"\"\n",
    "        nums = [i for i in range(1, n+1)]\n",
    "        count = 0\n",
    "#         ret = []\n",
    "        def check(num1, num2):\n",
    "            return num1 % num2 == 0 or num2 % num1 == 0\n",
    "        def backtrack(first=0):\n",
    "            if first == n:\n",
    "#                 ret.append(tuple(nums))\n",
    "                nonlocal count\n",
    "                count += 1\n",
    "#                 print(nums)\n",
    "                return\n",
    "            for i in range(first, n):\n",
    "#                 print('first:', first, 'i:', i)\n",
    "#                 print(nums[i], first+1, nums[first], i+1)\n",
    "#                 if check(nums[i], first+1) and check(nums[first], i+1):\n",
    "                if check(nums[i], first+1):\n",
    "                    nums[first], nums[i] = nums[i], nums[first]\n",
    "                    backtrack(first + 1)\n",
    "                    nums[first], nums[i] = nums[i], nums[first]\n",
    "        backtrack()\n",
    "#         return ret\n",
    "        return count\n",
    "    def check(self, num1, num2):\n",
    "        return num1 % num2 == 0 or num2 % num1 == 0\n",
    "    def filterValid(self, perms, n):\n",
    "        ret = []\n",
    "        for perm in perms:\n",
    "            valid = True\n",
    "            for i in range(n):\n",
    "                if not self.check(i+1, perm[i]):\n",
    "                    valid = False\n",
    "                    break\n",
    "            if valid:\n",
    "                ret.append(tuple(perm))\n",
    "        return ret"
   ]
  },
  {
   "cell_type": "code",
   "execution_count": 107,
   "metadata": {},
   "outputs": [
    {
     "data": {
      "text/plain": [
       "(2, 10, 36)"
      ]
     },
     "execution_count": 107,
     "metadata": {},
     "output_type": "execute_result"
    }
   ],
   "source": [
    "solver_526 = Solution526()\n",
    "solver_526.countArrangement(2), solver_526.countArrangement(5), solver_526.countArrangement(6)"
   ]
  },
  {
   "cell_type": "markdown",
   "metadata": {},
   "source": [
    "#### for debugging"
   ]
  },
  {
   "cell_type": "code",
   "execution_count": 103,
   "metadata": {},
   "outputs": [
    {
     "data": {
      "text/plain": [
       "{(3, 1, 6, 4, 5, 2), (4, 6, 1, 2, 5, 3)}"
      ]
     },
     "execution_count": 103,
     "metadata": {},
     "output_type": "execute_result"
    }
   ],
   "source": [
    "set(solver_526.filterValid(solver_46.permute([1, 2, 3, 4, 5, 6]), 6)) - set(solver_526.countArrangement(6))"
   ]
  },
  {
   "cell_type": "markdown",
   "metadata": {},
   "source": [
    "## 39. Combination Sum (Review)"
   ]
  },
  {
   "cell_type": "markdown",
   "metadata": {},
   "source": [
    "### self-written backtracking solution"
   ]
  },
  {
   "cell_type": "code",
   "execution_count": 108,
   "metadata": {},
   "outputs": [],
   "source": [
    "class Solution39:\n",
    "    def combinationSum(self, candidates: List[int], target: int) -> List[List[int]]:\n",
    "        ret = []\n",
    "        def backtrack(choices, index, curr):\n",
    "            if curr == target:\n",
    "                ret.append(choices)\n",
    "            if index == len(candidates):\n",
    "                return\n",
    "            if curr < target:\n",
    "                # add the current\n",
    "                backtrack(choices + [candidates[index]], index, curr + candidates[index])\n",
    "                # skip the current\n",
    "                backtrack(choices, index + 1, curr)\n",
    "        backtrack([], 0, 0)\n",
    "        return ret"
   ]
  },
  {
   "cell_type": "code",
   "execution_count": 110,
   "metadata": {},
   "outputs": [
    {
     "data": {
      "text/plain": [
       "([[2, 2, 3], [7]], [[2, 2, 2, 2], [2, 3, 3], [3, 5]], [], [[1, 1]])"
      ]
     },
     "execution_count": 110,
     "metadata": {},
     "output_type": "execute_result"
    }
   ],
   "source": [
    "solver_39 = Solution39()\n",
    "solver_39.combinationSum(candidates = [2,3,6,7], target = 7),\\\n",
    "solver_39.combinationSum(candidates = [2,3,5], target = 8),\\\n",
    "solver_39.combinationSum(candidates = [2], target = 1),\\\n",
    "solver_39.combinationSum(candidates = [1], target = 2)"
   ]
  },
  {
   "cell_type": "markdown",
   "metadata": {},
   "source": [
    "### self-written backtracking solution with placement and removal, faster"
   ]
  },
  {
   "cell_type": "code",
   "execution_count": 111,
   "metadata": {},
   "outputs": [],
   "source": [
    "class Solution39:\n",
    "    def combinationSum(self, candidates: List[int], target: int) -> List[List[int]]:\n",
    "        ret = []\n",
    "        def backtrack(choices, index, curr):\n",
    "            if curr == target:\n",
    "                ret.append(choices[:])\n",
    "            if curr > target:\n",
    "                return\n",
    "            for i in range(index, len(candidates)):\n",
    "                # placement\n",
    "                choices.append(candidates[i])\n",
    "                backtrack(choices, i, curr + candidates[i])\n",
    "                # removal\n",
    "                choices.pop()\n",
    "        backtrack([], 0, 0)\n",
    "        return ret"
   ]
  },
  {
   "cell_type": "code",
   "execution_count": 112,
   "metadata": {},
   "outputs": [
    {
     "data": {
      "text/plain": [
       "([[2, 2, 3], [7]], [[2, 2, 2, 2], [2, 3, 3], [3, 5]], [], [[1, 1]])"
      ]
     },
     "execution_count": 112,
     "metadata": {},
     "output_type": "execute_result"
    }
   ],
   "source": [
    "solver_39 = Solution39()\n",
    "solver_39.combinationSum(candidates = [2,3,6,7], target = 7),\\\n",
    "solver_39.combinationSum(candidates = [2,3,5], target = 8),\\\n",
    "solver_39.combinationSum(candidates = [2], target = 1),\\\n",
    "solver_39.combinationSum(candidates = [1], target = 2)"
   ]
  },
  {
   "cell_type": "markdown",
   "metadata": {},
   "source": [
    "## 78. Subsets"
   ]
  },
  {
   "cell_type": "markdown",
   "metadata": {},
   "source": [
    "### self-written backtracking solution"
   ]
  },
  {
   "cell_type": "code",
   "execution_count": 123,
   "metadata": {},
   "outputs": [],
   "source": [
    "class Solution78:\n",
    "    def subsets(self, nums: List[int]) -> List[List[int]]:\n",
    "        ret = []\n",
    "        choices = []\n",
    "        def backtrack(index=0):\n",
    "            ret.append(choices[:])\n",
    "            for i in range(index, len(nums)):\n",
    "                choices.append(nums[i])\n",
    "                backtrack(i + 1)\n",
    "                choices.pop()\n",
    "        backtrack()\n",
    "        return ret"
   ]
  },
  {
   "cell_type": "code",
   "execution_count": 124,
   "metadata": {},
   "outputs": [
    {
     "data": {
      "text/plain": [
       "[[], [1], [1, 2], [1, 2, 3], [1, 3], [2], [2, 3], [3]]"
      ]
     },
     "execution_count": 124,
     "metadata": {},
     "output_type": "execute_result"
    }
   ],
   "source": [
    "solver_78 = Solution78()\n",
    "solver_78.subsets([1,2,3])"
   ]
  },
  {
   "cell_type": "markdown",
   "metadata": {},
   "source": [
    "### self-written top-down dynamic programming solution, damn fast"
   ]
  },
  {
   "cell_type": "code",
   "execution_count": 127,
   "metadata": {},
   "outputs": [],
   "source": [
    "class Solution78:\n",
    "    def subsets(self, nums: List[int]) -> List[List[int]]:\n",
    "        ret = []\n",
    "        def helper(index):\n",
    "            if index == -1:\n",
    "                return [[]]\n",
    "            subsets = helper(index-1)\n",
    "            length = len(subsets)\n",
    "            for i in range(length):\n",
    "                subsets.append(subsets[i] + [nums[index]])\n",
    "            return subsets\n",
    "        return helper(len(nums) - 1)"
   ]
  },
  {
   "cell_type": "code",
   "execution_count": 128,
   "metadata": {},
   "outputs": [
    {
     "data": {
      "text/plain": [
       "[[], [1], [2], [1, 2], [3], [1, 3], [2, 3], [1, 2, 3]]"
      ]
     },
     "execution_count": 128,
     "metadata": {},
     "output_type": "execute_result"
    }
   ],
   "source": [
    "solver_78 = Solution78()\n",
    "solver_78.subsets([1,2,3])"
   ]
  },
  {
   "cell_type": "markdown",
   "metadata": {},
   "source": [
    "### self-written bottom-up dynamic programing solution"
   ]
  },
  {
   "cell_type": "code",
   "execution_count": 138,
   "metadata": {},
   "outputs": [],
   "source": [
    "class Solution78:\n",
    "    def subsets(self, nums: List[int]) -> List[List[int]]:\n",
    "        ret = [[]]\n",
    "        for num in nums:\n",
    "            length = len(ret)\n",
    "            for i in range(length):\n",
    "                ret.append(ret[i] + [num])\n",
    "        return ret"
   ]
  },
  {
   "cell_type": "code",
   "execution_count": 139,
   "metadata": {},
   "outputs": [
    {
     "data": {
      "text/plain": [
       "[[], [1], [2], [1, 2], [3], [1, 3], [2, 3], [1, 2, 3]]"
      ]
     },
     "execution_count": 139,
     "metadata": {},
     "output_type": "execute_result"
    }
   ],
   "source": [
    "solver_78 = Solution78()\n",
    "solver_78.subsets([1,2,3])"
   ]
  },
  {
   "cell_type": "markdown",
   "metadata": {},
   "source": [
    "## 90. Subsets II"
   ]
  },
  {
   "cell_type": "markdown",
   "metadata": {},
   "source": [
    "### self-written bottom-up dynamic programming solution"
   ]
  },
  {
   "cell_type": "code",
   "execution_count": 148,
   "metadata": {},
   "outputs": [],
   "source": [
    "class Solution90:\n",
    "    def subsetsWithDup(self, nums: List[int]) -> List[List[int]]:\n",
    "        \"\"\"\n",
    "        misunderstood the problem.....\n",
    "        \"\"\"\n",
    "        visited = set()\n",
    "        ret = [[]]\n",
    "        for num in nums:\n",
    "            if num not in visited:\n",
    "                visited.add(num)\n",
    "                length = len(ret)\n",
    "                for i in range(length):\n",
    "                    ret.append(ret[i] + [num])\n",
    "        return ret"
   ]
  },
  {
   "cell_type": "code",
   "execution_count": 149,
   "metadata": {},
   "outputs": [
    {
     "data": {
      "text/plain": [
       "[[], [1], [2], [1, 2], [3], [1, 3], [2, 3], [1, 2, 3]]"
      ]
     },
     "execution_count": 149,
     "metadata": {},
     "output_type": "execute_result"
    }
   ],
   "source": [
    "solver_90 = Solution90()\n",
    "solver_90.subsetsWithDup([1,2,3,1,2,3,3,2,1])"
   ]
  },
  {
   "cell_type": "markdown",
   "metadata": {},
   "source": [
    "### problems of previous approach (duplicates)"
   ]
  },
  {
   "cell_type": "code",
   "execution_count": 150,
   "metadata": {},
   "outputs": [],
   "source": [
    "class Solution90:\n",
    "    def subsetsWithDup(self, nums: List[int]) -> List[List[int]]:\n",
    "        ret = [[]]\n",
    "        for num in nums:\n",
    "            length = len(ret)\n",
    "            for i in range(length):\n",
    "                ret.append(ret[i] + [num])\n",
    "        return ret"
   ]
  },
  {
   "cell_type": "code",
   "execution_count": 151,
   "metadata": {},
   "outputs": [
    {
     "data": {
      "text/plain": [
       "[[], [1], [2], [1, 2], [2], [1, 2], [2, 2], [1, 2, 2]]"
      ]
     },
     "execution_count": 151,
     "metadata": {},
     "output_type": "execute_result"
    }
   ],
   "source": [
    "solver_90 = Solution90()\n",
    "solver_90.subsetsWithDup([1,2,2])"
   ]
  },
  {
   "cell_type": "markdown",
   "metadata": {},
   "source": [
    "### backtrack solution in discussion area"
   ]
  },
  {
   "cell_type": "code",
   "execution_count": 155,
   "metadata": {},
   "outputs": [],
   "source": [
    "class Solution90:\n",
    "    def subsetsWithDup(self, nums: List[int]) -> List[List[int]]:\n",
    "        def backtrack(start, subset):\n",
    "            ret.append(subset)\n",
    "            for i in range(start, len(nums)):\n",
    "                if i > 0 and nums[i] == nums[i-1]:\n",
    "                    continue\n",
    "                backtrack(start + 1, subset + [nums[i]])\n",
    "        ret = []\n",
    "        nums.sort()\n",
    "        backtrack(0, [])\n",
    "        return ret"
   ]
  },
  {
   "cell_type": "code",
   "execution_count": 156,
   "metadata": {},
   "outputs": [
    {
     "data": {
      "text/plain": [
       "[[], [1], [1, 2], [2], [2, 2]]"
      ]
     },
     "execution_count": 156,
     "metadata": {},
     "output_type": "execute_result"
    }
   ],
   "source": [
    "solver_90 = Solution90()\n",
    "solver_90.subsetsWithDup([1, 2, 2, 2])"
   ]
  },
  {
   "cell_type": "code",
   "execution_count": 157,
   "metadata": {},
   "outputs": [],
   "source": [
    "class Solution90:\n",
    "    def subsetsWithDup(self, nums: List[int]) -> List[List[int]]:\n",
    "        \"\"\"\n",
    "        interesting solution, details remain to be understood\n",
    "        \"\"\"\n",
    "        def backtrack(nums, path):\n",
    "            res.append(path)\n",
    "            for i in range(len(nums)):\n",
    "                if i > 0 and nums[i] == nums[i-1]:\n",
    "                    continue\n",
    "                backtrack(nums[i+1:], path + [nums[i]])\n",
    "        nums.sort()\n",
    "        res = []\n",
    "        backtrack(nums, [])\n",
    "        return res"
   ]
  },
  {
   "cell_type": "code",
   "execution_count": 158,
   "metadata": {},
   "outputs": [
    {
     "data": {
      "text/plain": [
       "[[], [1], [1, 2], [1, 2, 2], [1, 2, 2, 2], [2], [2, 2], [2, 2, 2]]"
      ]
     },
     "execution_count": 158,
     "metadata": {},
     "output_type": "execute_result"
    }
   ],
   "source": [
    "solver_90 = Solution90()\n",
    "solver_90.subsetsWithDup([1, 2, 2, 2])"
   ]
  },
  {
   "cell_type": "markdown",
   "metadata": {},
   "source": [
    "## 37. Sudoku Solver"
   ]
  },
  {
   "cell_type": "markdown",
   "metadata": {},
   "source": [
    "### self-written backtrack solution with the help of sub-box tip, passed all tests, genius!!!"
   ]
  },
  {
   "cell_type": "code",
   "execution_count": 169,
   "metadata": {},
   "outputs": [],
   "source": [
    "class Solution37:\n",
    "    def solveSudoku(self, board: List[List[str]]) -> None:\n",
    "        \"\"\"\n",
    "        Do not return anything, modify board in-place instead.\n",
    "        \"\"\"\n",
    "        def getSubBox(row, col):\n",
    "            return (row // 3) * 3 + col // 3\n",
    "        def addNumber(row, col, number):\n",
    "            board[row][col] = str(number)\n",
    "            rows[row][number-1] = 1\n",
    "            cols[col][number-1] = 1\n",
    "            sub_boxes[getSubBox(row, col)][number-1] = 1\n",
    "        def removeNumber(row, col, number):\n",
    "            board[row][col] = '.'\n",
    "            rows[row][number-1] = 0\n",
    "            cols[col][number-1] = 0\n",
    "            sub_boxes[getSubBox(row, col)][number-1] = 0\n",
    "        def checkNumber(row, col, number):\n",
    "            return not rows[row][number-1] and \\\n",
    "                   not cols[col][number-1] and \\\n",
    "                   not sub_boxes[getSubBox(row, col)][number-1]\n",
    "        def getNextCell(row, col):\n",
    "            if col == 8:\n",
    "                return row + 1, 0\n",
    "            else:\n",
    "                return row, col + 1\n",
    "        # constraints\n",
    "        rows = [[0 for _ in range(9)] for _ in range(9)]\n",
    "        cols = [[0 for _ in range(9)] for _ in range(9)]\n",
    "        sub_boxes = [[0 for _ in range(9)] for _ in range(9)]\n",
    "        for row in range(9):\n",
    "            for col in range(9):\n",
    "                if board[row][col] != '.':\n",
    "                    number = int(board[row][col])\n",
    "                    addNumber(row, col, number)\n",
    "#         final_config = None\n",
    "        def backtrack(row=0, col=0):\n",
    "            if row == 9:\n",
    "#                 nonlocal final_config\n",
    "#                 final_config = [row[:] for row in board]\n",
    "                return True\n",
    "            nextrow, nextcol = getNextCell(row, col)\n",
    "            if board[row][col] != '.':\n",
    "                return backtrack(nextrow, nextcol)\n",
    "            if board[row][col] == '.':\n",
    "                ret = False\n",
    "                for number in range(1, 10):\n",
    "                    if checkNumber(row, col, number):\n",
    "                        addNumber(row, col, number)\n",
    "                        if backtrack(nextrow, nextcol):\n",
    "                            ret = True\n",
    "                            break\n",
    "                        removeNumber(row, col, number)\n",
    "                return ret\n",
    "        backtrack()\n",
    "#         return final_config"
   ]
  },
  {
   "cell_type": "code",
   "execution_count": 170,
   "metadata": {},
   "outputs": [],
   "source": [
    "board = [[\"5\",\"3\",\".\",\".\",\"7\",\".\",\".\",\".\",\".\"],[\"6\",\".\",\".\",\"1\",\"9\",\"5\",\".\",\".\",\".\"],[\".\",\"9\",\"8\",\".\",\".\",\".\",\".\",\"6\",\".\"],[\"8\",\".\",\".\",\".\",\"6\",\".\",\".\",\".\",\"3\"],[\"4\",\".\",\".\",\"8\",\".\",\"3\",\".\",\".\",\"1\"],[\"7\",\".\",\".\",\".\",\"2\",\".\",\".\",\".\",\"6\"],[\".\",\"6\",\".\",\".\",\".\",\".\",\"2\",\"8\",\".\"],[\".\",\".\",\".\",\"4\",\"1\",\"9\",\".\",\".\",\"5\"],[\".\",\".\",\".\",\".\",\"8\",\".\",\".\",\"7\",\"9\"]]"
   ]
  },
  {
   "cell_type": "code",
   "execution_count": 171,
   "metadata": {},
   "outputs": [
    {
     "data": {
      "text/plain": [
       "[['5', '3', '4', '6', '7', '8', '9', '1', '2'],\n",
       " ['6', '7', '2', '1', '9', '5', '3', '4', '8'],\n",
       " ['1', '9', '8', '3', '4', '2', '5', '6', '7'],\n",
       " ['8', '5', '9', '7', '6', '1', '4', '2', '3'],\n",
       " ['4', '2', '6', '8', '5', '3', '7', '9', '1'],\n",
       " ['7', '1', '3', '9', '2', '4', '8', '5', '6'],\n",
       " ['9', '6', '1', '5', '3', '7', '2', '8', '4'],\n",
       " ['2', '8', '7', '4', '1', '9', '6', '3', '5'],\n",
       " ['3', '4', '5', '2', '8', '6', '1', '7', '9']]"
      ]
     },
     "execution_count": 171,
     "metadata": {},
     "output_type": "execute_result"
    }
   ],
   "source": [
    "solver_37 = Solution37()\n",
    "solver_37.solveSudoku(board)"
   ]
  },
  {
   "cell_type": "code",
   "execution_count": 172,
   "metadata": {},
   "outputs": [
    {
     "data": {
      "text/plain": [
       "[['5', '3', '4', '6', '7', '8', '9', '1', '2'],\n",
       " ['6', '7', '2', '1', '9', '5', '3', '4', '8'],\n",
       " ['1', '9', '8', '3', '4', '2', '5', '6', '7'],\n",
       " ['8', '5', '9', '7', '6', '1', '4', '2', '3'],\n",
       " ['4', '2', '6', '8', '5', '3', '7', '9', '1'],\n",
       " ['7', '1', '3', '9', '2', '4', '8', '5', '6'],\n",
       " ['9', '6', '1', '5', '3', '7', '2', '8', '4'],\n",
       " ['2', '8', '7', '4', '1', '9', '6', '3', '5'],\n",
       " ['3', '4', '5', '2', '8', '6', '1', '7', '9']]"
      ]
     },
     "execution_count": 172,
     "metadata": {},
     "output_type": "execute_result"
    }
   ],
   "source": [
    "board"
   ]
  },
  {
   "cell_type": "markdown",
   "metadata": {},
   "source": [
    "## 1239. Maximum Length of a Concatenated String with Unique Characters"
   ]
  },
  {
   "cell_type": "code",
   "execution_count": 173,
   "metadata": {},
   "outputs": [],
   "source": [
    "from collections import defaultdict"
   ]
  },
  {
   "cell_type": "markdown",
   "metadata": {},
   "source": [
    "### self-written backtracking solution, passed all tests"
   ]
  },
  {
   "cell_type": "code",
   "execution_count": 192,
   "metadata": {},
   "outputs": [],
   "source": [
    "class Solution1239:\n",
    "    def maxLength(self, arr: List[str]) -> int:\n",
    "        ret = 0\n",
    "        chars = defaultdict(int)\n",
    "        def backtrack(start=0):\n",
    "            nonlocal ret\n",
    "            count = sum(chars.values())\n",
    "            ret = max(ret, count)\n",
    "            for i in range(start, len(arr)):\n",
    "                # placement\n",
    "                valid = True\n",
    "                for j, char in enumerate(arr[i]):\n",
    "                    chars[char] += 1\n",
    "                    if chars[char] > 1:\n",
    "                        valid = False\n",
    "                        for k in range(j, -1, -1):\n",
    "                             chars[arr[i][k]] -= 1\n",
    "                        break\n",
    "                if valid:\n",
    "                    backtrack(i + 1)\n",
    "                    # removal\n",
    "                    for char in arr[i]:\n",
    "                        chars[char] -= 1\n",
    "        backtrack()\n",
    "        return ret"
   ]
  },
  {
   "cell_type": "code",
   "execution_count": 193,
   "metadata": {},
   "outputs": [
    {
     "data": {
      "text/plain": [
       "(4, 6, 26, 16)"
      ]
     },
     "execution_count": 193,
     "metadata": {},
     "output_type": "execute_result"
    }
   ],
   "source": [
    "solver_1239 = Solution1239()\n",
    "solver_1239.maxLength([\"un\",\"iq\",\"ue\"]), solver_1239.maxLength(arr = [\"cha\",\"r\",\"act\",\"ers\"]),\\\n",
    "solver_1239.maxLength([\"abcdefghijklmnopqrstuvwxyz\"]), solver_1239.maxLength([\"jnfbyktlrqumowxd\",\"mvhgcpxnjzrdei\"])"
   ]
  },
  {
   "cell_type": "markdown",
   "metadata": {},
   "source": [
    "## 126. Word Ladder II"
   ]
  },
  {
   "cell_type": "markdown",
   "metadata": {},
   "source": [
    "### self-written BFS solution, time limit exceeded"
   ]
  },
  {
   "cell_type": "code",
   "execution_count": 201,
   "metadata": {},
   "outputs": [],
   "source": [
    "import string\n",
    "from collections import deque"
   ]
  },
  {
   "cell_type": "code",
   "execution_count": 215,
   "metadata": {},
   "outputs": [],
   "source": [
    "class Solution126:\n",
    "    def findLadders(self, beginWord: str, endWord: str, wordList: List[str]) -> List[List[str]]:   \n",
    "        ret = []\n",
    "        words = set(wordList)\n",
    "        if endWord not in wordList:\n",
    "            return ret\n",
    "        queue = deque([[beginWord]])\n",
    "        found = False\n",
    "        while queue:\n",
    "            sequence = queue.popleft()\n",
    "#             print(sequence)\n",
    "            if not found or (found and len(sequence) < minLength):\n",
    "                lastword = sequence[-1]\n",
    "#                 print(lastword)\n",
    "                wordsleft = words - set(sequence)\n",
    "#                 print(wordsleft)\n",
    "                valid_words = [lastword[:i] + char + lastword[i+1:] for i in range(len(lastword)) for char in string.ascii_lowercase]\n",
    "#                 print(valid_words)\n",
    "                for candidate_word in wordsleft:\n",
    "                    if candidate_word in valid_words:\n",
    "                        if candidate_word == endWord:\n",
    "                            if not found:\n",
    "                                found = True\n",
    "                                minLength = len(sequence) + 1\n",
    "                            ret.append(sequence + [candidate_word])\n",
    "                        else:\n",
    "                            queue.append(sequence + [candidate_word])\n",
    "            else:\n",
    "                break\n",
    "        return ret "
   ]
  },
  {
   "cell_type": "code",
   "execution_count": 217,
   "metadata": {},
   "outputs": [
    {
     "data": {
      "text/plain": [
       "([['hit', 'hot', 'dot', 'dog', 'cog'], ['hit', 'hot', 'lot', 'log', 'cog']],\n",
       " [])"
      ]
     },
     "execution_count": 217,
     "metadata": {},
     "output_type": "execute_result"
    }
   ],
   "source": [
    "solver_126 = Solution126()\n",
    "solver_126.findLadders(beginWord = \"hit\", endWord = \"cog\", wordList = [\"hot\",\"dot\",\"dog\",\"lot\",\"log\",\"cog\"]),\\\n",
    "solver_126.findLadders(beginWord = \"hit\", endWord = \"cog\", wordList = [\"hot\",\"dot\",\"dog\",\"lot\",\"log\"])"
   ]
  },
  {
   "cell_type": "markdown",
   "metadata": {},
   "source": [
    "### one-way BFS solution in discussion area, passed all tests"
   ]
  },
  {
   "cell_type": "code",
   "execution_count": 233,
   "metadata": {},
   "outputs": [],
   "source": [
    "class Solution126:\n",
    "    def findLadders(self, beginWord: str, endWord: str, wordList: List[str]) -> List[List[str]]:  \n",
    "        tree, words, n = defaultdict(set), set(wordList), len(beginWord)\n",
    "        if endWord not in wordList: return []\n",
    "        found, currLayer, nextLayer = False, {beginWord}, set()\n",
    "        while currLayer and not found:\n",
    "#             print(currLayer)\n",
    "            words -= set(currLayer)\n",
    "            for x in currLayer:\n",
    "                for y in [x[:i]+c+x[i+1:] for i in range(n) for c in string.ascii_lowercase]:\n",
    "                    if y in words:\n",
    "                        if y == endWord: \n",
    "                            found = True\n",
    "                        else: \n",
    "                            nextLayer.add(y)\n",
    "                        tree[x].add(y)\n",
    "            currLayer, nextLayer = nextLayer, set()\n",
    "        def constructPath(x): \n",
    "            # if a path ends at nowhere (i.e., != endWord, defaultdict will return empty tree[x])\n",
    "            return [[x]] if x == endWord else [[x] + rest for y in tree[x] for rest in constructPath(y)]\n",
    "#         print(tree)\n",
    "        return constructPath(beginWord)"
   ]
  },
  {
   "cell_type": "code",
   "execution_count": 234,
   "metadata": {},
   "outputs": [
    {
     "data": {
      "text/plain": [
       "([['hit', 'hot', 'dot', 'dog', 'cog'], ['hit', 'hot', 'lot', 'log', 'cog']],\n",
       " [])"
      ]
     },
     "execution_count": 234,
     "metadata": {},
     "output_type": "execute_result"
    }
   ],
   "source": [
    "solver_126 = Solution126()\n",
    "solver_126.findLadders(beginWord = \"hit\", endWord = \"cog\", wordList = [\"hot\",\"dot\",\"dog\",\"lot\",\"log\",\"cog\"]),\\\n",
    "solver_126.findLadders(beginWord = \"hit\", endWord = \"cog\", wordList = [\"hot\",\"dot\",\"dog\",\"lot\",\"log\"])"
   ]
  },
  {
   "cell_type": "markdown",
   "metadata": {},
   "source": [
    "### optimized two-way BFS solution in discussion area, passed all tests, genius solution"
   ]
  },
  {
   "cell_type": "code",
   "execution_count": 243,
   "metadata": {},
   "outputs": [],
   "source": [
    "class Solution126:\n",
    "    def findLadders(self, beginWord: str, endWord: str, wordList: List[str]) -> List[List[str]]: \n",
    "        tree, words, n = defaultdict(set), set(wordList), len(beginWord)\n",
    "        if endWord not in wordList: return []\n",
    "        found, bq, eq, nq, rev = False, {beginWord}, {endWord}, set(), False\n",
    "        while bq and not found:\n",
    "#             print(bq, eq, nq)\n",
    "            words -= set(bq)\n",
    "            for x in bq:\n",
    "                for y in [x[:i]+c+x[i+1:] for i in range(n) for c in string.ascii_lowercase]:\n",
    "                    if y in words:\n",
    "                        if y in eq: \n",
    "                            found = True\n",
    "                        else: \n",
    "                            nq.add(y)\n",
    "                        tree[y].add(x) if rev else tree[x].add(y) # keep record of flipping of bq and eq\n",
    "            bq, nq = nq, set()\n",
    "            if len(bq) > len(eq): \n",
    "                bq, eq, rev = eq, bq, not rev\n",
    "        def bt(x): \n",
    "            return [[x]] if x == endWord else [[x] + rest for y in tree[x] for rest in bt(y)]\n",
    "        return bt(beginWord)"
   ]
  },
  {
   "cell_type": "code",
   "execution_count": 244,
   "metadata": {},
   "outputs": [
    {
     "data": {
      "text/plain": [
       "([['hit', 'hot', 'dot', 'dog', 'cog'], ['hit', 'hot', 'lot', 'log', 'cog']],\n",
       " [])"
      ]
     },
     "execution_count": 244,
     "metadata": {},
     "output_type": "execute_result"
    }
   ],
   "source": [
    "solver_126 = Solution126()\n",
    "solver_126.findLadders(beginWord = \"hit\", endWord = \"cog\", wordList = [\"hot\",\"dot\",\"dog\",\"lot\",\"log\",\"cog\"]),\\\n",
    "solver_126.findLadders(beginWord = \"hit\", endWord = \"cog\", wordList = [\"hot\",\"dot\",\"dog\",\"lot\",\"log\"])"
   ]
  },
  {
   "cell_type": "markdown",
   "metadata": {},
   "source": [
    "## 131. Palindrome Partitioning"
   ]
  },
  {
   "cell_type": "markdown",
   "metadata": {},
   "source": [
    "### self-written backtracking solution after checking answers"
   ]
  },
  {
   "cell_type": "code",
   "execution_count": 247,
   "metadata": {},
   "outputs": [],
   "source": [
    "class Solution131:\n",
    "    def partition(self, s: str) -> List[List[str]]:\n",
    "        def checkPalindrome(i, j):\n",
    "            if i >= j:\n",
    "                return True\n",
    "            return s[i] == s[j] and checkPalindrome(i+1, j-1)\n",
    "        ret = []\n",
    "        choices = []\n",
    "        def backtrack(start=0):\n",
    "            if start == len(s):\n",
    "                ret.append(choices[:])\n",
    "            for i in range(start, len(s)):\n",
    "                if checkPalindrome(start, i):\n",
    "                    choices.append(s[start:i+1])\n",
    "                    backtrack(i+1)\n",
    "                    choices.pop()\n",
    "        backtrack()\n",
    "        return ret"
   ]
  },
  {
   "cell_type": "code",
   "execution_count": 249,
   "metadata": {},
   "outputs": [
    {
     "data": {
      "text/plain": [
       "([['a', 'a', 'b'], ['aa', 'b']],\n",
       " [['a', 'b', 'c', 'c', 'b', 'a'],\n",
       "  ['a', 'b', 'cc', 'b', 'a'],\n",
       "  ['a', 'bccb', 'a'],\n",
       "  ['abccba']])"
      ]
     },
     "execution_count": 249,
     "metadata": {},
     "output_type": "execute_result"
    }
   ],
   "source": [
    "solver_131 = Solution131()\n",
    "solver_131.partition(\"aab\"), solver_131.partition(\"abccba\")"
   ]
  },
  {
   "cell_type": "markdown",
   "metadata": {},
   "source": [
    "## 93. Restore IP Addresses"
   ]
  },
  {
   "cell_type": "markdown",
   "metadata": {},
   "source": [
    "### self-written backtracking solution"
   ]
  },
  {
   "cell_type": "code",
   "execution_count": 267,
   "metadata": {},
   "outputs": [],
   "source": [
    "class Solution93:\n",
    "    def restoreIpAddresses(self, s: str) -> List[str]:\n",
    "        ret = []\n",
    "        choices = []\n",
    "        def backtrack(start=0):\n",
    "            if len(choices) == 4:\n",
    "#                 print(choices, start)\n",
    "                if start == len(s):\n",
    "                    ret.append(choices[:])\n",
    "                else:\n",
    "                    return\n",
    "            # single digit\n",
    "            if start < len(s):\n",
    "                number = s[start]\n",
    "                choices.append(number)\n",
    "                backtrack(start + 1)\n",
    "                choices.pop()\n",
    "            if start + 2 <= len(s) and s[start] != '0':\n",
    "                number = s[start:start+2]\n",
    "                choices.append(number)\n",
    "                backtrack(start + 2)\n",
    "                choices.pop()\n",
    "            if start + 3 <= len(s) and s[start] != '0' and int(s[start:start+3]) <= 255:\n",
    "                number = s[start:start+3]\n",
    "                choices.append(number)\n",
    "                backtrack(start + 3)\n",
    "                choices.pop()\n",
    "        backtrack()\n",
    "        return [\".\".join(choice) for choice in ret]"
   ]
  },
  {
   "cell_type": "code",
   "execution_count": 268,
   "metadata": {},
   "outputs": [
    {
     "data": {
      "text/plain": [
       "['255.255.11.135', '255.255.111.35']"
      ]
     },
     "execution_count": 268,
     "metadata": {},
     "output_type": "execute_result"
    }
   ],
   "source": [
    "solver_93 = Solution93()\n",
    "solver_93.restoreIpAddresses(\"25525511135\")"
   ]
  },
  {
   "cell_type": "markdown",
   "metadata": {},
   "source": [
    "## 980. Unique Paths III"
   ]
  },
  {
   "cell_type": "markdown",
   "metadata": {},
   "source": [
    "### self-written backtracking solution"
   ]
  },
  {
   "cell_type": "code",
   "execution_count": 288,
   "metadata": {},
   "outputs": [],
   "source": [
    "class Solution980:\n",
    "    def uniquePathsIII(self, grid: List[List[int]]) -> int:\n",
    "        nrow = len(grid)\n",
    "        ncol = len(grid[0])\n",
    "        # search for start, end and non-obstacles\n",
    "        must = set() # this must acts like constraints\n",
    "        for row in range(nrow):\n",
    "            for col in range(ncol):\n",
    "                if grid[row][col] == 1:\n",
    "                    start = (row, col)\n",
    "                    must.add((row, col))\n",
    "                elif grid[row][col] == 2:\n",
    "                    end = (row, col)\n",
    "                elif grid[row][col] == 0:\n",
    "                    must.add((row, col))\n",
    "        count = 0\n",
    "#         print(start, end, must)\n",
    "        def backtrack(row, col):\n",
    "#             print(row, col)\n",
    "            if row == -1 or row == nrow or col == -1 or col == ncol:\n",
    "#                 print(\"out of boundary\")\n",
    "                return\n",
    "            # end condition or reach stop too early\n",
    "            if (row, col) == end:\n",
    "                if not must:\n",
    "                    nonlocal count\n",
    "                    count += 1\n",
    "#                     print(\"solution found\")\n",
    "                    return\n",
    "#                 print(\"reach stop too early\")\n",
    "                return\n",
    "            # either go back to start or run into obstacles or walk over empty cells twice\n",
    "            if (row, col) not in must:\n",
    "#                 print(\"go back to start or run into obstacles or walk over empty cells twice\")\n",
    "                return\n",
    "#             print(\"start exploring\")\n",
    "            for nextrow, nextcol in [(row+1, col), (row-1, col), (row, col+1), (row, col-1)]:\n",
    "                must.remove((row, col))\n",
    "                backtrack(nextrow, nextcol)\n",
    "                must.add((row, col))\n",
    "        backtrack(*start)\n",
    "        return count"
   ]
  },
  {
   "cell_type": "code",
   "execution_count": 291,
   "metadata": {},
   "outputs": [
    {
     "data": {
      "text/plain": [
       "(2, 4, 0)"
      ]
     },
     "execution_count": 291,
     "metadata": {},
     "output_type": "execute_result"
    }
   ],
   "source": [
    "solver_980 = Solution980()\n",
    "solver_980.uniquePathsIII([[1,0,0,0],[0,0,0,0],[0,0,2,-1]]),\\\n",
    "solver_980.uniquePathsIII([[1,0,0,0],[0,0,0,0],[0,0,0,2]]),\\\n",
    "solver_980.uniquePathsIII([[0,1],[2,0]])"
   ]
  },
  {
   "cell_type": "markdown",
   "metadata": {},
   "source": [
    "## 306. Additive Number"
   ]
  },
  {
   "cell_type": "markdown",
   "metadata": {},
   "source": [
    "### self-written backtracking solution, passed all tests, difficult code debugging"
   ]
  },
  {
   "cell_type": "code",
   "execution_count": 360,
   "metadata": {},
   "outputs": [],
   "source": [
    "class Solution306:\n",
    "    def isAdditiveNumber(self, num: str) -> bool:\n",
    "        \"\"\"\n",
    "        the bug was if num[start] != 0: instead of if num[start] != '0':\n",
    "        OMG...\n",
    "        \"\"\"\n",
    "        found = False\n",
    "        def backtrack(prev2, prev1, start):\n",
    "#             print(prev2, prev1, start)\n",
    "            if start == len(num):\n",
    "                if prev2 is not None:\n",
    "#                     print(prev2, prev1, start)\n",
    "                    nonlocal found\n",
    "                    found = True\n",
    "                    return\n",
    "                return\n",
    "            elif prev2 is None:\n",
    "                # haven't collected enough numbers yet\n",
    "                # need to iterate over all possible numbers\n",
    "                number = int(num[start])\n",
    "                # prevent edge case like \"10\"\n",
    "                # if two numbers are found and reached the end this is considered invalid\n",
    "                if prev1 is not None and start+1 == len(num):\n",
    "                    return\n",
    "#                 print(prev1, number, start+1)\n",
    "                backtrack(prev1, number, start+1)\n",
    "                if num[start] != '0':\n",
    "#                     print('entering iteration')\n",
    "                    for i in range(start+1, len(num)):\n",
    "                        if not found:\n",
    "                            number = int(num[start:i+1])\n",
    "                            # if two numbers are found and reached the end this is considered invalid\n",
    "                            if prev1 is not None and i+1 == len(num):\n",
    "                                return\n",
    "#                             print(prev1, number, i+1)\n",
    "                            backtrack(prev1, number, i+1)\n",
    "            else:\n",
    "                # faster searching\n",
    "                target = prev1 + prev2\n",
    "                i = len(str(target))\n",
    "                if start + i <= len(num):\n",
    "                    number = int(num[start:start+i])\n",
    "#                     print(prev2, prev1, num[start:start+i])\n",
    "                    if number == target and not found:\n",
    "#                         print(prev2, prev1, num[start:start+i])\n",
    "                        backtrack(prev1, number, start+i)\n",
    "        backtrack(None, None, 0)\n",
    "        return found"
   ]
  },
  {
   "cell_type": "code",
   "execution_count": 361,
   "metadata": {},
   "outputs": [
    {
     "data": {
      "text/plain": [
       "(False, False)"
      ]
     },
     "execution_count": 361,
     "metadata": {},
     "output_type": "execute_result"
    }
   ],
   "source": [
    "solver_306 = Solution306()\n",
    "# solver_306.isAdditiveNumber(\"112358\"), solver_306.isAdditiveNumber(\"199100199\"),\\\n",
    "solver_306.isAdditiveNumber(\"10\"), solver_306.isAdditiveNumber(\"1023\")"
   ]
  },
  {
   "cell_type": "markdown",
   "metadata": {},
   "source": [
    "## 89. Gray Code"
   ]
  },
  {
   "cell_type": "markdown",
   "metadata": {},
   "source": [
    "### self-written backtracking solution, passed all tests but very slow"
   ]
  },
  {
   "cell_type": "code",
   "execution_count": 382,
   "metadata": {},
   "outputs": [],
   "source": [
    "class Solution89:\n",
    "    def grayCode(self, n: int) -> List[int]:\n",
    "        allNumbers = set()\n",
    "        base = ['0'] * n\n",
    "        def backtrackBuildSet(start=0):\n",
    "            allNumbers.add(\"\".join(base))\n",
    "            for i in range(start, n):\n",
    "                base[i] = '1'\n",
    "                backtrackBuildSet(i+1)\n",
    "                base[i] = '0'\n",
    "        backtrackBuildSet()\n",
    "#         print(allNumbers)\n",
    "        choices = ['0'*n]\n",
    "        allNumbers.remove('0'*n)\n",
    "        found = False\n",
    "        def toggleDigit(number: List[str], i):\n",
    "            if number[i] == '1':\n",
    "                number[i] = '0'\n",
    "            else:\n",
    "                number[i] = '1'\n",
    "            return number\n",
    "        def backtrack():\n",
    "            if not allNumbers:\n",
    "                nonlocal found\n",
    "                found = True\n",
    "                return True\n",
    "            lastNumber = choices[-1]\n",
    "            ret = False\n",
    "            for i in range(n):\n",
    "                newNumber = toggleDigit(list(lastNumber), i)\n",
    "                newNumber = \"\".join(newNumber)\n",
    "                if newNumber in allNumbers and not found:\n",
    "                    allNumbers.remove(newNumber)\n",
    "                    choices.append(newNumber)\n",
    "                    if backtrack():\n",
    "                        ret = True\n",
    "                        break\n",
    "                    choices.pop()\n",
    "                    allNumbers.add(newNumber)\n",
    "            return ret\n",
    "        backtrack()\n",
    "        return [int(number, 2) for number in choices]"
   ]
  },
  {
   "cell_type": "code",
   "execution_count": 383,
   "metadata": {},
   "outputs": [
    {
     "data": {
      "text/plain": [
       "[0, 8, 12, 4, 6, 14, 10, 2, 3, 11, 15, 7, 5, 13, 9, 1]"
      ]
     },
     "execution_count": 383,
     "metadata": {},
     "output_type": "execute_result"
    }
   ],
   "source": [
    "solver_89 = Solution89()\n",
    "solver_89.grayCode(4)"
   ]
  },
  {
   "cell_type": "code",
   "execution_count": null,
   "metadata": {},
   "outputs": [],
   "source": []
  }
 ],
 "metadata": {
  "kernelspec": {
   "display_name": "Python 3",
   "language": "python",
   "name": "python3"
  },
  "language_info": {
   "codemirror_mode": {
    "name": "ipython",
    "version": 3
   },
   "file_extension": ".py",
   "mimetype": "text/x-python",
   "name": "python",
   "nbconvert_exporter": "python",
   "pygments_lexer": "ipython3",
   "version": "3.7.9"
  }
 },
 "nbformat": 4,
 "nbformat_minor": 4
}
