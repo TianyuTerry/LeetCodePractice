{
 "cells": [
  {
   "cell_type": "markdown",
   "metadata": {},
   "source": [
    "## 133. Clone Graph"
   ]
  },
  {
   "cell_type": "code",
   "execution_count": 7,
   "metadata": {},
   "outputs": [],
   "source": [
    "class Node:\n",
    "    def __init__(self, val = 0, neighbors = None):\n",
    "        self.val = val\n",
    "        self.neighbors = neighbors if neighbors is not None else []\n",
    "    def __str__():\n",
    "        visited = []\n",
    "        def helper(node):\n",
    "            if not node:\n",
    "                return node\n",
    "            if node.val in visited:\n",
    "                return ''\n",
    "            res = str(node.val) + ' -> '\n",
    "            if node.neighbors:\n",
    "                neighbors = ','.join([str(neighbor.val) for neighbor in node.neighbors])\n",
    "            else:\n",
    "                neighbors = ''\n",
    "            res += (neighbors + '\\n')\n",
    "            if node.neighbors:\n",
    "                for n in node.neighbors:\n",
    "                    res += helper(n)\n",
    "        return helper(self)"
   ]
  },
  {
   "cell_type": "markdown",
   "metadata": {},
   "source": [
    "### DFS"
   ]
  },
  {
   "cell_type": "code",
   "execution_count": 4,
   "metadata": {},
   "outputs": [],
   "source": [
    "class Solution:\n",
    "    def __init__(self):\n",
    "        self.visited = {}\n",
    "    # given that the values of nodes are unique\n",
    "    def cloneGraph(self, node: 'Node') -> 'Node':\n",
    "        if not node:\n",
    "            return node\n",
    "        \n",
    "        if node.val in self.visited:\n",
    "            return self.visited[node.val]\n",
    "        \n",
    "        clone_node = Node(node.val)\n",
    "        self.visited[node.val] = clone_node\n",
    "        if node.neighbors:\n",
    "            clone_node.neighbors = [self.cloneGraph(n) for n in node.neighbors]\n",
    "\n",
    "        return clone_node"
   ]
  },
  {
   "cell_type": "markdown",
   "metadata": {},
   "source": [
    "### BFS"
   ]
  },
  {
   "cell_type": "code",
   "execution_count": 8,
   "metadata": {},
   "outputs": [],
   "source": [
    "from collections import deque\n",
    "\n",
    "def cloneGraph(self, node):\n",
    "    \n",
    "    if not node:\n",
    "        return node\n",
    "    \n",
    "    visited = {}\n",
    "    clone_node = Node(node.val)\n",
    "    # visited stores the new node\n",
    "    visited[node.val] = clone_node\n",
    "    # queue stores the old node\n",
    "    queue = deque([node])\n",
    "    \n",
    "    while queue:\n",
    "        root = queue.popleft()\n",
    "        for neighbor in root.neighbors:\n",
    "            if neighbor.val not in visited:\n",
    "                visited[neighbor.val] = Node(neighbor.val)\n",
    "                # only append when not visited\n",
    "                queue.append(neighbor)\n",
    "            visited[root.val].neighbors.append(visited[neighbor.val])\n",
    "    \n",
    "    return visited[node.val]"
   ]
  },
  {
   "cell_type": "markdown",
   "metadata": {},
   "source": [
    "## 207. Course Schedule"
   ]
  },
  {
   "cell_type": "markdown",
   "metadata": {},
   "source": [
    "### Backtracking (the idea of toggle the path to false is very important)"
   ]
  },
  {
   "cell_type": "code",
   "execution_count": 10,
   "metadata": {},
   "outputs": [],
   "source": [
    "from collections import defaultdict\n",
    "\n",
    "def canFinish(self, numCourses, prerequisites):\n",
    "    \n",
    "    # build graph\n",
    "    courseDict = defaultdict(list)\n",
    "    for relation in prerequisites:\n",
    "        nextCourse, prevCourse = relation[0], relation[1]\n",
    "        courseDict[prevCourse].append(nextCourse)\n",
    "    \n",
    "    path = [False] * numCourses\n",
    "    \n",
    "    def isCyclic(currCourse, courseDict, path):\n",
    "        # occured previously\n",
    "        if path[currCourse]:\n",
    "            return True\n",
    "        path[currCourse] = True\n",
    "        res = False\n",
    "        for child in courseDict[currCourse]:\n",
    "            res = isCyclic(child, courseDict, path)\n",
    "            if res:\n",
    "                break\n",
    "        path[currCourse] = False\n",
    "        return res\n",
    "    \n",
    "    for currCourse in range(numCourses):\n",
    "        if isCyclic(currCourse, courseDict, path):\n",
    "            return False\n",
    "    return True"
   ]
  },
  {
   "cell_type": "markdown",
   "metadata": {},
   "source": [
    "### Optimized Backtracking (use checked to store previously-visited nodes)"
   ]
  },
  {
   "cell_type": "code",
   "execution_count": 11,
   "metadata": {},
   "outputs": [],
   "source": [
    "def canFinish(self, numCourses, prerequisites):\n",
    "    \n",
    "    # build graph\n",
    "    courseDict = defaultdict(list)\n",
    "    for relation in prerequisites:\n",
    "        nextCourse, prevCourse = relation[0], relation[1]\n",
    "        courseDict[prevCourse].append(nextCourse)\n",
    "    \n",
    "    path = [False] * numCourses\n",
    "    checked = [False] * numCourses\n",
    "    \n",
    "    def isCyclic(currCourse, courseDict, path, checked):\n",
    "        # checked previously, no cycle formed by this node\n",
    "        if checked[currCourse]:\n",
    "            return False\n",
    "        # occured previously\n",
    "        if path[currCourse]:\n",
    "            return True\n",
    "        path[currCourse] = True\n",
    "        res = False\n",
    "        for child in courseDict[currCourse]:\n",
    "            res = isCyclic(child, courseDict, path, checked)\n",
    "            if res:\n",
    "                break\n",
    "        path[currCourse] = False\n",
    "        checked[currCourse] = True\n",
    "        return res\n",
    "    \n",
    "    for currCourse in range(numCourses):\n",
    "        if isCyclic(currCourse, courseDict, path, checked):\n",
    "            return False\n",
    "    return True"
   ]
  },
  {
   "cell_type": "markdown",
   "metadata": {},
   "source": [
    "### modified topological sort (only check if some edges remain)"
   ]
  },
  {
   "cell_type": "code",
   "execution_count": 13,
   "metadata": {},
   "outputs": [],
   "source": [
    "class specialNode:\n",
    "    def __init__(self):\n",
    "        self.outNodes = []\n",
    "        self.inDegree = 0\n",
    "\n",
    "def canFinish(self, numCourses, prerequisites):\n",
    "    \n",
    "    # build graph\n",
    "    graph = defaultdict(specialNode)\n",
    "    totalEdges = 0\n",
    "    for relation in prerequisites:\n",
    "        nextCourse, prevCourse = relation[0], relation[1]\n",
    "        graph[prevCourse].outNodes.append(nextCourse)\n",
    "        graph[nextCourse].inDegree += 1\n",
    "        totalEdges += 1\n",
    "    \n",
    "    availableCourses = deque()\n",
    "    for index, node in graph.items():\n",
    "        if node.inDegree == 0:\n",
    "            availableCourses.append(index)\n",
    "    \n",
    "    removedEdges = 0\n",
    "    \n",
    "    while availableCourses:\n",
    "        course_taken = availableCourses.pop()\n",
    "        for course in graph[course_taken].outNodes:\n",
    "            graph[course].inDegree -= 1\n",
    "            removedEdges += 1\n",
    "            if graph[course].inDegree == 0:\n",
    "                availableCourses.append(course)\n",
    "    \n",
    "    if removedEdges == totalEdges:\n",
    "        return True\n",
    "    elif removedEdges < totalEdges:\n",
    "        return False"
   ]
  },
  {
   "cell_type": "markdown",
   "metadata": {},
   "source": [
    "## 210. Course Schedule II"
   ]
  },
  {
   "cell_type": "markdown",
   "metadata": {},
   "source": [
    "### self-written topological sort, all nodes need to be explicitly initialized \n",
    "### previously those stand-alone nodes don't matter"
   ]
  },
  {
   "cell_type": "code",
   "execution_count": 14,
   "metadata": {},
   "outputs": [],
   "source": [
    "def findOrder(self, numCourses, prerequisites):\n",
    "    \n",
    "    # build graph\n",
    "    graph = defaultdict(specialNode)\n",
    "    totalEdges = 0\n",
    "    for i in range(numCourses):\n",
    "        graph[i]\n",
    "    for relation in prerequisites:\n",
    "        nextCourse, prevCourse = relation[0], relation[1]\n",
    "        graph[prevCourse].outNodes.append(nextCourse)\n",
    "        graph[nextCourse].inDegree += 1\n",
    "        totalEdges += 1\n",
    "    \n",
    "    output = []\n",
    "    availableCourses = deque()\n",
    "    for index, node in graph.items():\n",
    "        if node.inDegree == 0:\n",
    "            availableCourses.append(index)\n",
    "    \n",
    "    removedEdges = 0\n",
    "    \n",
    "    while availableCourses:\n",
    "        course_taken = availableCourses.pop()\n",
    "        output.append(course_taken)\n",
    "        for course in graph[course_taken].outNodes:\n",
    "            graph[course].inDegree -= 1\n",
    "            removedEdges += 1\n",
    "            if graph[course].inDegree == 0:\n",
    "                availableCourses.append(course)\n",
    "    \n",
    "    if removedEdges == totalEdges:\n",
    "        return output\n",
    "    elif removedEdges < totalEdges:\n",
    "        return []"
   ]
  },
  {
   "cell_type": "markdown",
   "metadata": {},
   "source": [
    "### dfs"
   ]
  },
  {
   "cell_type": "code",
   "execution_count": 17,
   "metadata": {},
   "outputs": [],
   "source": [
    "from enum import Enum\n",
    "\n",
    "class Color(Enum):\n",
    "    WHITE = 1\n",
    "    GRAY = 2\n",
    "    BLACK = 3\n",
    "\n",
    "def findOrder(self, numCourses, prerequisites):\n",
    "    # build graph\n",
    "    graph = defaultdict(list)\n",
    "    for i in range(numCourses):\n",
    "        graph[i]\n",
    "    for relation in prerequisites:\n",
    "        nextCourse, prevCourse = relation[0], relation[1]\n",
    "        graph[prevCourse].append(nextCourse)\n",
    "    \n",
    "    color = {i: Color.WHITE for i in range(numCourses)}\n",
    "    cycle_found = False\n",
    "    reversed_topological_sort = []\n",
    "    \n",
    "    def dfs(course: int):\n",
    "        \n",
    "        nonlocal cycle_found\n",
    "        \n",
    "        if cycle_found:\n",
    "            return\n",
    "        \n",
    "        if color[course] == Color.GRAY:\n",
    "            cycle_found = True\n",
    "            return\n",
    "        \n",
    "        if color[course] == Color.WHITE:\n",
    "            color[course] = Color.GRAY\n",
    "            for child_course in graph[course]:\n",
    "                if color[child_course] != Color.BLACK:\n",
    "                    dfs(child_course)\n",
    "            color[course] = Color.BLACK\n",
    "            reversed_topological_sort.append(course)\n",
    "    \n",
    "    # perform dfs\n",
    "    for course in range(numCourses):\n",
    "        if color[course] != Color.BLACK:\n",
    "            dfs(course)\n",
    "    if cycle_found:\n",
    "        return []\n",
    "    else:\n",
    "        return reversed_topological_sort[::-1]"
   ]
  },
  {
   "cell_type": "markdown",
   "metadata": {},
   "source": [
    "### potentially faster dfs"
   ]
  },
  {
   "cell_type": "code",
   "execution_count": 19,
   "metadata": {},
   "outputs": [],
   "source": [
    "class Color(Enum):\n",
    "    WHITE = 1\n",
    "    GRAY = 2\n",
    "    BLACK = 3\n",
    "\n",
    "def findOrder(self, numCourses, prerequisites):\n",
    "    # build graph\n",
    "    graph = defaultdict(list)\n",
    "    for i in range(numCourses):\n",
    "        graph[i]\n",
    "    for relation in prerequisites:\n",
    "        nextCourse, prevCourse = relation[0], relation[1]\n",
    "        graph[prevCourse].append(nextCourse)\n",
    "    \n",
    "    color = {i: Color.WHITE for i in range(numCourses)}\n",
    "    cycle_found = False\n",
    "    reversed_topological_sort = []\n",
    "    \n",
    "    def dfs(course: int):\n",
    "        \n",
    "        nonlocal cycle_found\n",
    "        \n",
    "        if cycle_found:\n",
    "            return\n",
    "        \n",
    "        if color[course] == Color.WHITE:\n",
    "            color[course] = Color.GRAY\n",
    "            for child_course in graph[course]:\n",
    "                if color[child_course] == Color.GRAY:\n",
    "                    cycle_found = True\n",
    "                    return\n",
    "                elif color[child_course] == Color.WHITE:\n",
    "                    dfs(child_course)\n",
    "            color[course] = Color.BLACK\n",
    "            reversed_topological_sort.append(course)\n",
    "    \n",
    "    # perform dfs\n",
    "    for course in range(numCourses):\n",
    "        if color[course] != Color.BLACK:\n",
    "            dfs(course)\n",
    "    if cycle_found:\n",
    "        return []\n",
    "    else:\n",
    "        return reversed_topological_sort[::-1]"
   ]
  },
  {
   "cell_type": "markdown",
   "metadata": {},
   "source": [
    "## 269. Alien Dictionary"
   ]
  },
  {
   "cell_type": "markdown",
   "metadata": {},
   "source": [
    "## self-written Khan's algo and DFS"
   ]
  },
  {
   "cell_type": "code",
   "execution_count": 30,
   "metadata": {},
   "outputs": [],
   "source": [
    "from typing import *\n",
    "\"\"\"\n",
    "edge cases: \n",
    "[\"z\", \"z\"]\n",
    "[\"abc\",\"ab\"]\n",
    "\"\"\"\n",
    "\n",
    "class specialNode:\n",
    "    def __init__(self):\n",
    "        self.outNodes = []\n",
    "        self.inDegree = 0\n",
    "\n",
    "def alienOrder(self, words: List[str]) -> str:\n",
    "    \n",
    "    # extract dependencies, build graph\n",
    "    graph = defaultdict(specialNode)\n",
    "    totalEdges = 0\n",
    "    numWords = len(words)\n",
    "    \n",
    "    def addEdge(char1, char2):\n",
    "        nonlocal totalEdges\n",
    "        if char2 not in graph[char1].outNodes:\n",
    "            graph[char1].outNodes.append(char2)\n",
    "            graph[char2].inDegree += 1\n",
    "            totalEdges += 1\n",
    "    \n",
    "    for i in range(numWords - 1):\n",
    "        word = words[i]\n",
    "        for char in word:\n",
    "            graph[char]\n",
    "        nextword = words[i+1]\n",
    "        edgeFound = False\n",
    "        for i, (char1, char2) in enumerate(zip(word, nextword)):\n",
    "            if char1 != char2:\n",
    "                addEdge(char1, char2)\n",
    "                edgeFound = True\n",
    "                break\n",
    "        if not edgeFound and len(word) > len(nextword):\n",
    "            return \"\"\n",
    "    \n",
    "    for char in words[-1]:\n",
    "        graph[char]\n",
    "    \n",
    "    output = \"\"\n",
    "    availableChar = deque()\n",
    "    for char, node in graph.items():\n",
    "        if node.inDegree == 0:\n",
    "            availableChar.append(char)\n",
    "    \n",
    "    removedEdges = 0\n",
    "    \n",
    "    while availableChar:\n",
    "        char_parent = availableChar.pop()\n",
    "        output += char_parent\n",
    "        for char in graph[char_parent].outNodes:\n",
    "            graph[char].inDegree -= 1\n",
    "            removedEdges += 1\n",
    "            if graph[char].inDegree == 0:\n",
    "                availableChar.append(char)\n",
    "    \n",
    "    if removedEdges == totalEdges:\n",
    "        return output\n",
    "    elif removedEdges < totalEdges:\n",
    "        return \"\""
   ]
  },
  {
   "cell_type": "code",
   "execution_count": 44,
   "metadata": {},
   "outputs": [],
   "source": [
    "class Color(Enum):\n",
    "    WHITE = 1\n",
    "    GRAY = 2\n",
    "    BLACK = 3\n",
    "\n",
    "def alienOrder(self, words: List[str]) -> str:\n",
    "    \n",
    "    # build graph\n",
    "    graph = defaultdict(list)\n",
    "    numWords = len(words)\n",
    "    for i in range(numWords - 1):\n",
    "        word = words[i]\n",
    "        for char in word:\n",
    "            graph[char]\n",
    "        nextword = words[i+1]\n",
    "        edgeFound = False\n",
    "        for i, (char1, char2) in enumerate(zip(word, nextword)):\n",
    "            if char1 != char2:\n",
    "                graph[char1].append(char2)\n",
    "                edgeFound = True\n",
    "                break\n",
    "        if not edgeFound and len(word) > len(nextword):\n",
    "            return \"\"\n",
    "    \n",
    "    for char in words[-1]:\n",
    "        graph[char]\n",
    "    \n",
    "    color = {char: Color.WHITE for char in graph}\n",
    "    cycle_found = False\n",
    "    reversed_topological_sort = \"\"\n",
    "    \n",
    "    def dfs(node: str):\n",
    "        \n",
    "        nonlocal cycle_found\n",
    "        nonlocal reversed_topological_sort\n",
    "        \n",
    "        if cycle_found:\n",
    "            return\n",
    "        \n",
    "        if color[node] == Color.WHITE:\n",
    "            color[node] = Color.GRAY\n",
    "            for child_node in graph[node]:\n",
    "                if color[child_node] == Color.GRAY:\n",
    "                    cycle_found = True\n",
    "                    return\n",
    "                elif color[child_node] == Color.WHITE:\n",
    "                    dfs(child_node)\n",
    "            color[node] = Color.BLACK\n",
    "            reversed_topological_sort += node\n",
    "    \n",
    "    # perform dfs\n",
    "    for char in graph:\n",
    "        if color[char] != Color.BLACK:\n",
    "            dfs(char)\n",
    "    if cycle_found:\n",
    "        return \"\"\n",
    "    else:\n",
    "        return reversed_topological_sort[::-1]"
   ]
  },
  {
   "cell_type": "markdown",
   "metadata": {},
   "source": [
    "## 332. Reconstruct Itinerary"
   ]
  },
  {
   "cell_type": "markdown",
   "metadata": {},
   "source": [
    "### Backtracking + greedy"
   ]
  },
  {
   "cell_type": "code",
   "execution_count": 48,
   "metadata": {},
   "outputs": [],
   "source": [
    "def findItinerary(self, tickets: List[List[str]]) -> List[str]:\n",
    "    \n",
    "    # Build Graph\n",
    "    flightMap = defaultdict(list)\n",
    "    for ticket in tickets:\n",
    "        origin, dest = ticket[0], ticket[1]\n",
    "        flightMap[origin].append(dest)\n",
    "    # Build record keeper and sort destinations in lexical order\n",
    "    flightRecord = {}\n",
    "    for origin, destinations in flightMap.items():\n",
    "        destinations.sort()\n",
    "        flightRecord[origin] = [False]*len(destinations)\n",
    "    \n",
    "    def backtracking(origin, route):\n",
    "        \n",
    "        nonlocal tickets\n",
    "        # stopping condition\n",
    "        if len(route) == len(tickets) + 1:\n",
    "            return route\n",
    "        \n",
    "        nonlocal flightRecord\n",
    "        # recursive call\n",
    "        for i, nextStop in enumerate(flightMap[origin]):\n",
    "            if not flightRecord[origin][i]:\n",
    "                flightRecord[origin][i] = True\n",
    "                result = backtracking(nextStop, route + [nextStop])\n",
    "                if result:\n",
    "                    return result\n",
    "                flightRecord[origin][i] = False\n",
    "        return []   \n",
    "    \n",
    "    return backtracking('JFK', ['JFK'])"
   ]
  },
  {
   "cell_type": "markdown",
   "metadata": {},
   "source": [
    "### Hierholzer's Algorithm"
   ]
  },
  {
   "cell_type": "code",
   "execution_count": 55,
   "metadata": {},
   "outputs": [],
   "source": [
    "def findItinerary(self, tickets: List[List[str]]) -> List[str]:\n",
    "    \n",
    "    # Build Graph\n",
    "    flightMap = defaultdict(list)\n",
    "    for ticket in tickets:\n",
    "        origin, dest = ticket[0], ticket[1]\n",
    "        flightMap[origin].append(dest)\n",
    "    for origin, destinations in flightMap.items():\n",
    "        destinations.sort(reverse=True) # because of pop operation\n",
    "    \n",
    "    results = []\n",
    "    \n",
    "    def dfs(origin): # postorder traversal\n",
    "        nonlocal results\n",
    "        destinations = flightMap[origin]\n",
    "        while destinations:\n",
    "            dfs(destinations.pop())\n",
    "        results.append(origin)\n",
    "    \n",
    "    dfs('JFK')\n",
    "    \n",
    "    return results[::-1]"
   ]
  },
  {
   "cell_type": "markdown",
   "metadata": {},
   "source": [
    "## 399. Evaluate Division"
   ]
  },
  {
   "cell_type": "markdown",
   "metadata": {},
   "source": [
    "### self-written dfs path searching"
   ]
  },
  {
   "cell_type": "code",
   "execution_count": 75,
   "metadata": {},
   "outputs": [],
   "source": [
    "def calcEquation(self, equations: List[List[str]], values: List[float], queries: List[List[str]]) -> List[float]:\n",
    "    \n",
    "    # Build Graph\n",
    "    graph = defaultdict(defaultdict)\n",
    "    for equation, value in zip(equations, values):\n",
    "        n1, n2 = equation[0], equation[1]\n",
    "        graph[n1][n2] = value\n",
    "        graph[n2][n1] = 1/value\n",
    "    \n",
    "    def searchPath(curr_node, tgt_node, acc_product, visited):\n",
    "        if curr_node == tgt_node:\n",
    "            return acc_product\n",
    "        else:\n",
    "            for neighbor, weight in graph[curr_node].items():\n",
    "                if neighbor not in visited:                \n",
    "                    visited.add(neighbor)\n",
    "                    ret = searchPath(neighbor, tgt_node, acc_product*weight, visited)\n",
    "                    if ret != -1:\n",
    "                        return ret\n",
    "                    \n",
    "            return -1\n",
    "    \n",
    "    outputs = []\n",
    "    for n1, n2 in queries:\n",
    "        if n1 not in graph or n2 not in graph:\n",
    "            outputs.append(-1.0)\n",
    "            continue\n",
    "        outputs.append(searchPath(n1, n2, 1.0, set()))\n",
    "    \n",
    "    return outputs"
   ]
  },
  {
   "cell_type": "markdown",
   "metadata": {},
   "source": [
    "## 785. Is Graph Bipartite?"
   ]
  },
  {
   "cell_type": "markdown",
   "metadata": {},
   "source": [
    "### DFS"
   ]
  },
  {
   "cell_type": "code",
   "execution_count": 97,
   "metadata": {},
   "outputs": [],
   "source": [
    "def isBipartite(self, graph: List[List[int]]) -> bool:\n",
    "    color = {}\n",
    "    for node in range(len(graph)):\n",
    "        if node not in color:\n",
    "            stack = [node]\n",
    "            color[node] = 0\n",
    "            while stack:\n",
    "                curr_node = stack.pop()\n",
    "                for neighbor in graph[curr_node]:\n",
    "                    if neighbor not in color:\n",
    "                        stack.append(neighbor)\n",
    "                        color[neighbor] = color[curr_node] ^ 1 # bitwise operator\n",
    "                    elif color[neighbor] == color[curr_node]:\n",
    "                        return False\n",
    "    return True"
   ]
  },
  {
   "cell_type": "markdown",
   "metadata": {},
   "source": [
    "## 765. Couples Holding Hands"
   ]
  },
  {
   "cell_type": "markdown",
   "metadata": {},
   "source": [
    "### each swap increase number of cycles by one"
   ]
  },
  {
   "cell_type": "code",
   "execution_count": 92,
   "metadata": {},
   "outputs": [],
   "source": [
    "def minSwapsCouples(self, row: List[int]) -> int:\n",
    "    \n",
    "    N = len(row)//2\n",
    "    \n",
    "    # each couple are seated in two seat(s)\n",
    "    couples = [[] for _ in range(N)]\n",
    "    for i, person in enumerate(row):\n",
    "        couples[person//2].append(i//2)\n",
    "    \n",
    "    graph = [[] for _ in range(N)]\n",
    "    for seat1, seat2 in couples:\n",
    "        graph[seat1].append(seat2)\n",
    "        graph[seat2].append(seat1)\n",
    "#     print(graph)\n",
    "    \n",
    "    ans = N\n",
    "    # count cycles (connected components) in graph\n",
    "    for start in range(N):\n",
    "        if not graph[start]: \n",
    "            continue\n",
    "        ans -= 1\n",
    "        x, y = start, graph[start].pop()\n",
    "        while y != start:\n",
    "            graph[y].remove(x) # very important, delete bi-directional edge, but some edges will remain after for loop\n",
    "            x, y = y, graph[y].pop()\n",
    "    \n",
    "    # print(graph)\n",
    "    \n",
    "    return ans"
   ]
  },
  {
   "cell_type": "markdown",
   "metadata": {},
   "source": [
    "### Greedy"
   ]
  },
  {
   "cell_type": "code",
   "execution_count": 101,
   "metadata": {},
   "outputs": [],
   "source": [
    "def minSwapsCouples(self, row: List[int]) -> int:\n",
    "    person2seat = {person: seat for seat, person in enumerate(row)}\n",
    "    ans = 0\n",
    "    for i in range(0, len(row), 2):\n",
    "        x = row[i]\n",
    "        if row[i+1] == x^1: \n",
    "            continue\n",
    "        ans += 1\n",
    "        j = person2seat[x^1]\n",
    "        row[i+1], row[j] = row[j], row[i+1]\n",
    "        # update\n",
    "        person2seat[row[j]] = j\n",
    "        person2seat[row[i+1]] = i+1\n",
    "    return ans"
   ]
  },
  {
   "cell_type": "code",
   "execution_count": 102,
   "metadata": {},
   "outputs": [],
   "source": [
    "def minSwapsCouples(self, row: List[int]) -> int:\n",
    "    ans = 0\n",
    "    for i in range(0, len(row), 2):\n",
    "        x = row[i]\n",
    "        if row[i+1] == x^1: \n",
    "            continue\n",
    "        ans += 1\n",
    "        for j in range(i+1, len(row)):\n",
    "            if row[j] == x^1:\n",
    "                row[i+1], row[j] = row[j], row[i+1]\n",
    "                break\n",
    "    return ans"
   ]
  },
  {
   "cell_type": "markdown",
   "metadata": {},
   "source": [
    "## 797. All Paths From Source to Target"
   ]
  },
  {
   "cell_type": "markdown",
   "metadata": {},
   "source": [
    "### self-written DFS"
   ]
  },
  {
   "cell_type": "code",
   "execution_count": 105,
   "metadata": {},
   "outputs": [],
   "source": [
    "def allPathsSourceTarget(self, graph: List[List[int]]) -> List[List[int]]:\n",
    "    source = 0\n",
    "    target = len(graph) - 1\n",
    "    def searchPath(source, target, paths: List[List[int]]):\n",
    "        if source == target:\n",
    "            return paths\n",
    "        all_path_combined = []\n",
    "        for neighbor in graph[source]:\n",
    "            updated_path = [path + [neighbor] for path in paths]\n",
    "            all_path_combined += searchPath(neighbor, target, updated_path)\n",
    "        return all_path_combined\n",
    "    return searchPath(source, target, [[source]])"
   ]
  },
  {
   "cell_type": "markdown",
   "metadata": {},
   "source": [
    "### official backtracking algorithm"
   ]
  },
  {
   "cell_type": "code",
   "execution_count": 110,
   "metadata": {},
   "outputs": [],
   "source": [
    "def allPathsSourceTarget(self, graph: List[List[int]]) -> List[List[int]]:\n",
    "\n",
    "        target = len(graph) - 1\n",
    "        results = []\n",
    "\n",
    "        def backtrack(currNode, path):\n",
    "            # if we reach the target, no need to explore further.\n",
    "            if currNode == target:\n",
    "                results.append(list(path)) # copy the list\n",
    "                return\n",
    "            # explore the neighbor nodes one after another.\n",
    "            for nextNode in graph[currNode]:\n",
    "                path.append(nextNode)\n",
    "                backtrack(nextNode, path)\n",
    "                path.pop()\n",
    "        # kick of the backtracking, starting from the source node (0)\n",
    "        path = deque([0])\n",
    "        backtrack(0, path)\n",
    "\n",
    "        return results"
   ]
  },
  {
   "cell_type": "markdown",
   "metadata": {},
   "source": [
    "### official top-down DP with functool lru_cache as memoization tool"
   ]
  },
  {
   "cell_type": "code",
   "execution_count": 115,
   "metadata": {},
   "outputs": [],
   "source": [
    "def allPathsSourceTarget(self, graph: List[List[int]]) -> List[List[int]]:\n",
    "    \n",
    "    target = len(graph) - 1\n",
    "    # apply the memoization\n",
    "    @lru_cache(maxsize=None)\n",
    "    def allPathsToTarget(currNode):\n",
    "        if currNode == target:\n",
    "            return [[target]]\n",
    "        results = []\n",
    "        for nextNode in graph[currNode]:\n",
    "            for path in allPathsToTarget(nextNode):\n",
    "                results.append([currNode] + path)\n",
    "        return results\n",
    "    return allPathsToTarget(0)"
   ]
  },
  {
   "cell_type": "markdown",
   "metadata": {},
   "source": [
    "## 444. Sequence Reconstruction"
   ]
  },
  {
   "cell_type": "markdown",
   "metadata": {},
   "source": [
    "### self-written Khan's algorithm"
   ]
  },
  {
   "cell_type": "code",
   "execution_count": 162,
   "metadata": {},
   "outputs": [],
   "source": [
    "class specialNode:\n",
    "    def __init__(self):\n",
    "        self.outNodes = []\n",
    "        self.inDegree = 0\n",
    "\n",
    "def sequenceReconstruction(self, org: List[int], seqs: List[List[int]]) -> bool:\n",
    "    \"\"\"\n",
    "    edge case: org: [1], seqs: [[1],[1],[1]]\n",
    "    edge case: org: [1], seqs: [[1],[2,3],[3,2]]\n",
    "    \"\"\"\n",
    "    \n",
    "    # extract dependencies, build graph\n",
    "    graph = defaultdict(specialNode)\n",
    "    totalEdges = 0\n",
    "    \n",
    "    for seq in seqs:\n",
    "        for i in range(len(seq)-1):\n",
    "            graph[seq[i]].outNodes.append(seq[i+1])\n",
    "            graph[seq[i+1]].inDegree += 1\n",
    "            totalEdges += 1\n",
    "        # in case length of seq is 1\n",
    "        graph[seq[-1]]\n",
    "    \n",
    "    availableNodes = deque()\n",
    "    for node in graph:\n",
    "        if graph[node].inDegree == 0:\n",
    "            availableNodes.append(node)\n",
    "    \n",
    "    removedEdges = 0\n",
    "    \n",
    "    while availableNodes:\n",
    "        if len(availableNodes) > 1:\n",
    "#             print('count larger than 1')\n",
    "            return False\n",
    "        currNode = availableNodes.pop()\n",
    "        if len(org) == 0 or currNode != org.pop(0):\n",
    "#             print('not match')\n",
    "            return False\n",
    "        for neighbor in graph[currNode].outNodes:\n",
    "            graph[neighbor].inDegree -= 1\n",
    "            removedEdges += 1\n",
    "            if graph[neighbor].inDegree == 0:\n",
    "                availableNodes.append(neighbor)\n",
    "    \n",
    "    if removedEdges != totalEdges:\n",
    "#         print('contradiction detected')\n",
    "        return False\n",
    "    if org:\n",
    "#         print('too long')\n",
    "        return False\n",
    "    return True"
   ]
  },
  {
   "cell_type": "markdown",
   "metadata": {},
   "source": [
    "## 323. Number of Connected Components in an Undirected Graph"
   ]
  },
  {
   "cell_type": "markdown",
   "metadata": {},
   "source": [
    "### self-written dfs search"
   ]
  },
  {
   "cell_type": "code",
   "execution_count": 167,
   "metadata": {},
   "outputs": [],
   "source": [
    "def countComponents(self, n: int, edges: List[List[int]]) -> int:\n",
    "    \n",
    "    record = [False] * n\n",
    "    # build graph\n",
    "    adj = defaultdict(list)\n",
    "    for node1, node2 in edges:\n",
    "        adj[node1].append(node2)\n",
    "        adj[node2].append(node1)\n",
    "    \n",
    "    def dfs(node):\n",
    "        nonlocal record\n",
    "        if record[node]:\n",
    "            return\n",
    "        record[node] = True\n",
    "        for nextNode in adj[node]:\n",
    "            dfs(nextNode)\n",
    "    \n",
    "    count = 0\n",
    "    for i in range(n):\n",
    "        if not record[i]:\n",
    "            dfs(i)\n",
    "            count += 1\n",
    "    \n",
    "    return count"
   ]
  },
  {
   "cell_type": "code",
   "execution_count": null,
   "metadata": {},
   "outputs": [],
   "source": []
  }
 ],
 "metadata": {
  "kernelspec": {
   "display_name": "Python 3",
   "language": "python",
   "name": "python3"
  },
  "language_info": {
   "codemirror_mode": {
    "name": "ipython",
    "version": 3
   },
   "file_extension": ".py",
   "mimetype": "text/x-python",
   "name": "python",
   "nbconvert_exporter": "python",
   "pygments_lexer": "ipython3",
   "version": "3.7.1"
  }
 },
 "nbformat": 4,
 "nbformat_minor": 4
}
