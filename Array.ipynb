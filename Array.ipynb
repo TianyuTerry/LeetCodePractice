{
 "cells": [
  {
   "cell_type": "markdown",
   "metadata": {},
   "source": [
    "## 56. Merge Intervals"
   ]
  },
  {
   "cell_type": "markdown",
   "metadata": {},
   "source": [
    "### self-written sorting solution after checking answers"
   ]
  },
  {
   "cell_type": "code",
   "execution_count": 2,
   "metadata": {},
   "outputs": [],
   "source": [
    "from typing import List"
   ]
  },
  {
   "cell_type": "code",
   "execution_count": 3,
   "metadata": {},
   "outputs": [],
   "source": [
    "class Solution56:\n",
    "    def merge(self, intervals: List[List[int]]) -> List[List[int]]:\n",
    "        # the \"greedy\" chain is important, easy to prove\n",
    "        intervals.sort(key=lambda interval: interval[0])\n",
    "        ret = []\n",
    "        currEnd = intervals[0][0] - 1 # smallest value\n",
    "        for interval in intervals:\n",
    "            if interval[0] > currEnd:\n",
    "                ret.append(interval)\n",
    "                currEnd = interval[1]\n",
    "            else:\n",
    "                # overlapping interval\n",
    "                if interval[1] > currEnd:\n",
    "                    ret[-1][1] = interval[1]\n",
    "                    currEnd = interval[1]\n",
    "        return ret"
   ]
  },
  {
   "cell_type": "markdown",
   "metadata": {},
   "source": [
    "## 121. Best Time to Buy and Sell Stock (Review)"
   ]
  },
  {
   "cell_type": "markdown",
   "metadata": {},
   "source": [
    "### self-written solution"
   ]
  },
  {
   "cell_type": "code",
   "execution_count": 4,
   "metadata": {},
   "outputs": [],
   "source": [
    "class Solution121:\n",
    "    def maxProfit(self, prices: List[int]) -> int:\n",
    "        minPrice = prices[0]\n",
    "        maxProfit = 0\n",
    "        for price in prices:\n",
    "            if price < minPrice:\n",
    "                minPrice = price\n",
    "            else:\n",
    "                maxProfit = max(maxProfit, price - minPrice)\n",
    "        return maxProfit"
   ]
  },
  {
   "cell_type": "markdown",
   "metadata": {},
   "source": [
    "## 42. Trapping Rain Water"
   ]
  },
  {
   "cell_type": "markdown",
   "metadata": {},
   "source": [
    "### self-written solution"
   ]
  },
  {
   "cell_type": "code",
   "execution_count": 6,
   "metadata": {},
   "outputs": [],
   "source": [
    "class Solution42:\n",
    "    def trap(self, height: List[int]) -> int:\n",
    "        leftMax = [0]*len(height)\n",
    "        leftCurrMax = 0\n",
    "        for i in range(len(height)):\n",
    "            leftCurrMax = max(leftCurrMax, height[i])\n",
    "            leftMax[i] = leftCurrMax\n",
    "        rightMax = [0]*len(height)\n",
    "        rightCurrMax = 0\n",
    "        for i in range(len(height)-1, -1, -1):\n",
    "            rightCurrMax = max(rightCurrMax, height[i])\n",
    "            rightMax[i] = rightCurrMax\n",
    "        return sum([min(leftMax[i], rightMax[i])-height[i] for i in range(len(height))])"
   ]
  },
  {
   "cell_type": "markdown",
   "metadata": {},
   "source": [
    "### self-written stack solution after checking answers and watching YouTube video"
   ]
  },
  {
   "cell_type": "code",
   "execution_count": 8,
   "metadata": {},
   "outputs": [],
   "source": [
    "from collections import deque\n",
    "\n",
    "class Solution42:\n",
    "    # this method is elegant and beautiful but hard to remember the details\n",
    "    # practice makes perfect\n",
    "    def trap(self, height: List[int]) -> int:\n",
    "        ret = 0\n",
    "        stack = deque()\n",
    "        for i, h in enumerate(height):\n",
    "            while stack and h > height[stack[-1]]:\n",
    "                top = stack.pop()\n",
    "                if not stack:\n",
    "                    break\n",
    "                distance = i - stack[-1] - 1\n",
    "                ret += (min(h, height[stack[-1]]) - height[top]) * distance\n",
    "            stack.append(i)\n",
    "        return ret"
   ]
  },
  {
   "cell_type": "markdown",
   "metadata": {},
   "source": [
    "## 238. Product of Array Except Self"
   ]
  },
  {
   "cell_type": "markdown",
   "metadata": {},
   "source": [
    "### self-written solution inspired by Q42"
   ]
  },
  {
   "cell_type": "code",
   "execution_count": 11,
   "metadata": {},
   "outputs": [],
   "source": [
    "class Solution238:\n",
    "    def productExceptSelf(self, nums: List[int]) -> List[int]:\n",
    "        leftProduct = [nums[0]]*len(nums)\n",
    "        for i in range(1, len(nums)):\n",
    "            leftProduct[i] = nums[i]*leftProduct[i-1]\n",
    "        rightProduct = [nums[-1]]*len(nums)\n",
    "        for i in range(len(nums)-2, -1, -1):\n",
    "            rightProduct[i] = nums[i]*rightProduct[i+1]\n",
    "        ret = [0]*len(nums)\n",
    "        for i in range(len(nums)):\n",
    "            left = leftProduct[i-1] if i > 0 else 1\n",
    "            right = rightProduct[i+1] if i < len(nums)-1 else 1\n",
    "            ret[i] = left*right\n",
    "        return ret"
   ]
  },
  {
   "cell_type": "markdown",
   "metadata": {},
   "source": [
    "### self-written improved solution (constant space)"
   ]
  },
  {
   "cell_type": "code",
   "execution_count": 12,
   "metadata": {},
   "outputs": [],
   "source": [
    "class Solution238:\n",
    "    def productExceptSelf(self, nums: List[int]) -> List[int]:\n",
    "        ret = [1] * len(nums)\n",
    "        for i in range(1, len(nums)):\n",
    "            ret[i] = ret[i-1] * nums[i-1]\n",
    "        rightProduct = 1\n",
    "        for i in range(len(nums)-2, -1, -1):\n",
    "            rightProduct *= nums[i+1]\n",
    "            ret[i] *= rightProduct\n",
    "        return ret"
   ]
  },
  {
   "cell_type": "markdown",
   "metadata": {},
   "source": [
    "## 695. Max Area of Island"
   ]
  },
  {
   "cell_type": "markdown",
   "metadata": {},
   "source": [
    "### self-written recursive DFS solution after checking answers"
   ]
  },
  {
   "cell_type": "code",
   "execution_count": 13,
   "metadata": {},
   "outputs": [],
   "source": [
    "class Solution695:\n",
    "    def maxAreaOfIsland(self, grid: List[List[int]]) -> int:\n",
    "        visited = set()\n",
    "        def helper(row, col):\n",
    "            if 0 <= row < len(grid) and 0 <= col < len(grid[0]) and grid[row][col] and (row, col) not in visited:\n",
    "                visited.add((row, col))\n",
    "                return 1 + helper(row+1, col) + helper(row-1, col) + helper(row, col+1) + helper(row, col-1)\n",
    "            return 0\n",
    "        return max([helper(row, col) for row in range(len(grid)) for col in range(len(grid[0]))])"
   ]
  },
  {
   "cell_type": "markdown",
   "metadata": {},
   "source": [
    "## 31. Next Permutation"
   ]
  },
  {
   "cell_type": "markdown",
   "metadata": {},
   "source": [
    "### self-written solution after checking answers"
   ]
  },
  {
   "cell_type": "code",
   "execution_count": 47,
   "metadata": {},
   "outputs": [],
   "source": [
    "class Solution31:\n",
    "    def nextPermutation(self, nums: List[int]) -> None:\n",
    "        \"\"\"\n",
    "        Do not return anything, modify nums in-place instead.\n",
    "        \"\"\"\n",
    "        found_i = False\n",
    "        for i in range(len(nums)-2, -1, -1):\n",
    "            if nums[i] < nums[i+1]:\n",
    "                found_i = True\n",
    "                break\n",
    "        if found_i:\n",
    "#             print(f'i is {i}')\n",
    "            found_j = False\n",
    "            for j in range(i+1, len(nums)-1):\n",
    "                if nums[j+1] <= nums[i]: # <= is important here, edge case: [1, 5, 1]\n",
    "                    # cannot be strict <\n",
    "#                     j -= 1\n",
    "                    found_j = True\n",
    "                    break\n",
    "            if found_j:\n",
    "#                 print(f'j is {j}')\n",
    "                nums[i], nums[j] = nums[j], nums[i]\n",
    "            else:\n",
    "                nums[i], nums[-1] = nums[-1], nums[i]\n",
    "            nums[i+1:] = nums[:i:-1]\n",
    "        else:\n",
    "            nums[:] = nums[::-1]"
   ]
  },
  {
   "cell_type": "code",
   "execution_count": 48,
   "metadata": {},
   "outputs": [
    {
     "name": "stdout",
     "output_type": "stream",
     "text": [
      "i is 0\n",
      "j is 1\n"
     ]
    }
   ],
   "source": [
    "solver_31 = Solution31()\n",
    "test1 = [1, 2, 3]\n",
    "test2 = [3, 2, 1]\n",
    "test3 = [1, 1, 5]\n",
    "test4 = [1]\n",
    "test5 = [1, 5, 1]\n",
    "# solver_31.nextPermutation(test1)\n",
    "# solver_31.nextPermutation(test2)\n",
    "# solver_31.nextPermutation(test3)\n",
    "# solver_31.nextPermutation(test4)\n",
    "solver_31.nextPermutation(test5)"
   ]
  },
  {
   "cell_type": "code",
   "execution_count": 49,
   "metadata": {},
   "outputs": [
    {
     "data": {
      "text/plain": [
       "([1, 2, 3], [3, 2, 1], [1, 1, 5], [1], [5, 1, 1])"
      ]
     },
     "execution_count": 49,
     "metadata": {},
     "output_type": "execute_result"
    }
   ],
   "source": [
    "test1, test2, test3, test4, test5"
   ]
  },
  {
   "cell_type": "code",
   "execution_count": null,
   "metadata": {},
   "outputs": [],
   "source": []
  }
 ],
 "metadata": {
  "kernelspec": {
   "display_name": "Python 3",
   "language": "python",
   "name": "python3"
  },
  "language_info": {
   "codemirror_mode": {
    "name": "ipython",
    "version": 3
   },
   "file_extension": ".py",
   "mimetype": "text/x-python",
   "name": "python",
   "nbconvert_exporter": "python",
   "pygments_lexer": "ipython3",
   "version": "3.7.9"
  }
 },
 "nbformat": 4,
 "nbformat_minor": 4
}
