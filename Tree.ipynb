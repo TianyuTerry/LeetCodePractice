{
 "cells": [
  {
   "cell_type": "markdown",
   "metadata": {},
   "source": [
    "## 297. Serialize and Deserialize Binary Tree"
   ]
  },
  {
   "cell_type": "markdown",
   "metadata": {},
   "source": [
    "### self-written DFS solution after checking answers"
   ]
  },
  {
   "cell_type": "code",
   "execution_count": 1,
   "metadata": {},
   "outputs": [],
   "source": [
    "from collections import deque\n",
    "\n",
    "class TreeNode(object):\n",
    "    \n",
    "    def __init__(self, x, left=None, right=None):\n",
    "        self.val = x\n",
    "        self.left = left\n",
    "        self.right = right\n",
    "\n",
    "class Codec:\n",
    "\n",
    "    def serialize(self, root):\n",
    "        \"\"\"Encodes a tree to a single string.\n",
    "        \n",
    "        :type root: TreeNode\n",
    "        :rtype: str\n",
    "        \"\"\"\n",
    "#         if root is None:\n",
    "#             return \"\"\n",
    "        ret = []\n",
    "        stack = deque([root])\n",
    "        while stack:\n",
    "            node = stack.pop()\n",
    "            if node is None:\n",
    "                ret.append(\"None\")\n",
    "                continue\n",
    "            ret.append(str(node.val))\n",
    "            stack.append(node.right)\n",
    "            stack.append(node.left)\n",
    "        return \",\".join(ret)\n",
    "\n",
    "    def deserialize(self, data):\n",
    "        \"\"\"Decodes your encoded data to tree.\n",
    "        \n",
    "        :type data: str\n",
    "        :rtype: TreeNode\n",
    "        \"\"\"\n",
    "        def deserializeNode(l):\n",
    "            val = l.pop(0)\n",
    "            if val == \"None\":\n",
    "                return None\n",
    "            node = TreeNode(int(val))\n",
    "            node.left = deserializeNode(l)\n",
    "            node.right = deserializeNode(l)\n",
    "            return node\n",
    "        \n",
    "#         if not data:\n",
    "#             return None\n",
    "        return deserializeNode(data.split(\",\"))"
   ]
  },
  {
   "cell_type": "code",
   "execution_count": 2,
   "metadata": {},
   "outputs": [
    {
     "data": {
      "text/plain": [
       "'1,2,None,None,3,4,None,None,5,None,None'"
      ]
     },
     "execution_count": 2,
     "metadata": {},
     "output_type": "execute_result"
    }
   ],
   "source": [
    "root = TreeNode(1, TreeNode(2), TreeNode(3, TreeNode(4), TreeNode(5)))\n",
    "ser = Codec()\n",
    "deser = Codec()\n",
    "ans = deser.deserialize(ser.serialize(root))\n",
    "ser.serialize(ans)"
   ]
  },
  {
   "cell_type": "markdown",
   "metadata": {},
   "source": [
    "### modified official DFS solution with recursive serialization"
   ]
  },
  {
   "cell_type": "code",
   "execution_count": 3,
   "metadata": {},
   "outputs": [],
   "source": [
    "class Codec:\n",
    "\n",
    "    def serialize(self, root):\n",
    "        \"\"\" Encodes a tree to a single string.\n",
    "        \n",
    "        :type root: TreeNode\n",
    "        :rtype: str\n",
    "        \"\"\"\n",
    "        def rserialize(root, l):\n",
    "            if root is None:\n",
    "                l.append(\"None\")\n",
    "            else:\n",
    "                l.append(str(root.val))\n",
    "                l = rserialize(root.left, l)\n",
    "                l = rserialize(root.right, l)\n",
    "            return l\n",
    "        \n",
    "        return \",\".join(rserialize(root, []))\n",
    "\n",
    "    def deserialize(self, data):\n",
    "        \"\"\"Decodes your encoded data to tree.\n",
    "        \n",
    "        :type data: str\n",
    "        :rtype: TreeNode\n",
    "        \"\"\"\n",
    "        def deserializeNode(l):\n",
    "            val = l.pop(0)\n",
    "            if val == \"None\":\n",
    "                return None\n",
    "            node = TreeNode(int(val))\n",
    "            node.left = deserializeNode(l)\n",
    "            node.right = deserializeNode(l)\n",
    "            return node\n",
    "        \n",
    "#         if not data:\n",
    "#             return None\n",
    "        return deserializeNode(data.split(\",\"))"
   ]
  },
  {
   "cell_type": "code",
   "execution_count": 4,
   "metadata": {},
   "outputs": [
    {
     "data": {
      "text/plain": [
       "'1,2,None,None,3,4,None,None,5,None,None'"
      ]
     },
     "execution_count": 4,
     "metadata": {},
     "output_type": "execute_result"
    }
   ],
   "source": [
    "root = TreeNode(1, TreeNode(2), TreeNode(3, TreeNode(4), TreeNode(5)))\n",
    "ser = Codec()\n",
    "deser = Codec()\n",
    "ans = deser.deserialize(ser.serialize(root))\n",
    "ser.serialize(ans)"
   ]
  },
  {
   "cell_type": "markdown",
   "metadata": {},
   "source": [
    "### self-written BFS solution after checking answers"
   ]
  },
  {
   "cell_type": "code",
   "execution_count": 5,
   "metadata": {},
   "outputs": [],
   "source": [
    "class Codec:\n",
    "\n",
    "    def serialize(self, root):\n",
    "        \"\"\" Encodes a tree to a single string.\n",
    "        \n",
    "        :type root: TreeNode\n",
    "        :rtype: str\n",
    "        \"\"\"\n",
    "        ret = []\n",
    "        queue = deque([root])\n",
    "        while queue:\n",
    "            node = queue.popleft()\n",
    "            if node is None:\n",
    "                ret.append(\"None\")\n",
    "                continue\n",
    "            ret.append(str(node.val))\n",
    "            queue.append(node.left)\n",
    "            queue.append(node.right)\n",
    "        \n",
    "        return \",\".join(ret)\n",
    "\n",
    "    def deserialize(self, data):\n",
    "        \"\"\"Decodes your encoded data to tree.\n",
    "        \n",
    "        :type data: str\n",
    "        :rtype: TreeNode\n",
    "        \"\"\"\n",
    "        if data == \"None\":\n",
    "            return None\n",
    "        l = data.split(\",\")\n",
    "        root = TreeNode(int(l[0]))\n",
    "        l.pop(0)\n",
    "        queue = deque([root])\n",
    "        while queue:\n",
    "            node = queue.popleft()\n",
    "            val = l.pop(0)\n",
    "            if val == \"None\":\n",
    "                node.left = None\n",
    "            else:\n",
    "                left = TreeNode(int(val))\n",
    "                node.left = left\n",
    "                queue.append(left)\n",
    "            val = l.pop(0)\n",
    "            if val == \"None\":\n",
    "                node.right = None\n",
    "            else:\n",
    "                right = TreeNode(int(val))\n",
    "                node.right = right\n",
    "                queue.append(right)\n",
    "            \n",
    "        return root"
   ]
  },
  {
   "cell_type": "code",
   "execution_count": 6,
   "metadata": {},
   "outputs": [
    {
     "data": {
      "text/plain": [
       "'1,2,3,None,None,4,5,None,None,None,None'"
      ]
     },
     "execution_count": 6,
     "metadata": {},
     "output_type": "execute_result"
    }
   ],
   "source": [
    "root = TreeNode(1, TreeNode(2), TreeNode(3, TreeNode(4), TreeNode(5)))\n",
    "ser = Codec()\n",
    "deser = Codec()\n",
    "ans = deser.deserialize(ser.serialize(root))\n",
    "ser.serialize(ans)"
   ]
  },
  {
   "cell_type": "markdown",
   "metadata": {},
   "source": [
    "## 124. Binary Tree Maximum Path Sum"
   ]
  },
  {
   "cell_type": "markdown",
   "metadata": {},
   "source": [
    "### self-written recursive solution after checking answers"
   ]
  },
  {
   "cell_type": "code",
   "execution_count": 7,
   "metadata": {},
   "outputs": [],
   "source": [
    "class Solution124:\n",
    "    def maxPathSum(self, root: TreeNode) -> int:\n",
    "        maxSum = -float(\"inf\")\n",
    "        def maxGain(node: TreeNode):\n",
    "            if node is None:\n",
    "                return 0\n",
    "            nonlocal maxSum\n",
    "            leftMaxGain = max(maxGain(node.left), 0)\n",
    "            rightMaxGain = max(maxGain(node.right), 0)\n",
    "            maxSum = max(leftMaxGain+node.val+rightMaxGain, maxSum)\n",
    "            return node.val+max(leftMaxGain, rightMaxGain)\n",
    "        maxGain(root)\n",
    "        return maxSum"
   ]
  },
  {
   "cell_type": "code",
   "execution_count": 8,
   "metadata": {},
   "outputs": [
    {
     "data": {
      "text/plain": [
       "(6, 42)"
      ]
     },
     "execution_count": 8,
     "metadata": {},
     "output_type": "execute_result"
    }
   ],
   "source": [
    "tree1 = TreeNode(1, TreeNode(2), TreeNode(3))\n",
    "tree2 = TreeNode(-10, TreeNode(9), TreeNode(20, TreeNode(15), TreeNode(7)))\n",
    "solver_124 = Solution124()\n",
    "solver_124.maxPathSum(tree1), solver_124.maxPathSum(tree2)"
   ]
  },
  {
   "cell_type": "markdown",
   "metadata": {},
   "source": [
    "## 236. Lowest Common Ancestor of a Binary Tree"
   ]
  },
  {
   "cell_type": "markdown",
   "metadata": {},
   "source": [
    "### self-written recursive solution after checking answers"
   ]
  },
  {
   "cell_type": "code",
   "execution_count": 38,
   "metadata": {},
   "outputs": [],
   "source": [
    "class Solution237:\n",
    "    def lowestCommonAncestor(self, root: TreeNode, p: TreeNode, q: TreeNode) -> TreeNode:\n",
    "        ret = None\n",
    "        def parentBoth(node: TreeNode):\n",
    "            if node is None:\n",
    "                return False\n",
    "            left = parentBoth(node.left)\n",
    "            right = parentBoth(node.right)\n",
    "            mid = node == p or node == q\n",
    "            if left+right+mid == 2:\n",
    "                nonlocal ret\n",
    "                ret = node\n",
    "            return left or right or mid\n",
    "        parentBoth(root)    \n",
    "        return ret"
   ]
  },
  {
   "cell_type": "markdown",
   "metadata": {},
   "source": [
    "### self-written iterative solution after checking answers"
   ]
  },
  {
   "cell_type": "code",
   "execution_count": 9,
   "metadata": {},
   "outputs": [],
   "source": [
    "class Solution237:\n",
    "    def lowestCommonAncestor(self, root: TreeNode, p: TreeNode, q: TreeNode) -> TreeNode:\n",
    "        parent = {root: None}\n",
    "        stack = [root]\n",
    "        while p not in parent or q not in parent:\n",
    "            node = stack.pop()\n",
    "            if node.left:\n",
    "                parent[node.left] = node\n",
    "                stack.append(node.left)\n",
    "            if node.right:\n",
    "                parent[node.right] = node\n",
    "                stack.append(node.right)\n",
    "        p_ancestors = set()\n",
    "        node = p\n",
    "        while node != None:\n",
    "            p_ancestors.add(node)\n",
    "            node = parent[node]\n",
    "        node = q\n",
    "        while node != None:\n",
    "            if node in p_ancestors:\n",
    "                return node\n",
    "            node = parent[node]\n",
    "        return None"
   ]
  },
  {
   "cell_type": "markdown",
   "metadata": {},
   "source": [
    "### self-written iterative solution without parent pointers after checking answers"
   ]
  },
  {
   "cell_type": "code",
   "execution_count": 12,
   "metadata": {},
   "outputs": [],
   "source": [
    "class Solution237:\n",
    "    def lowestCommonAncestor(self, root: TreeNode, p: TreeNode, q: TreeNode) -> TreeNode:\n",
    "        BOTH_PENDING = 2\n",
    "        LEFT_DONE = 1\n",
    "        BOTH_DONE = 0\n",
    "        one_node_found = False\n",
    "        stack  = [[root, BOTH_PENDING]]\n",
    "        LCA_index = -1\n",
    "        # pre-order traversal\n",
    "        while stack:\n",
    "            parent, parent_state = stack[-1]\n",
    "            if parent_state != BOTH_DONE:\n",
    "                if parent_state == BOTH_PENDING:\n",
    "                    # check the node itself first\n",
    "                    if parent == p or parent == q:\n",
    "                        if not one_node_found:\n",
    "                            one_node_found = True\n",
    "                            LCA_index = len(stack) - 1\n",
    "                        else:\n",
    "                            return stack[LCA_index][0]\n",
    "                    stack[-1][1] -= 1\n",
    "                    if parent.left:\n",
    "                        stack.append([parent.left, BOTH_PENDING])\n",
    "                else:\n",
    "                    stack[-1][1] -= 1\n",
    "                    if parent.right:\n",
    "                        stack.append([parent.right, BOTH_PENDING])\n",
    "            else:\n",
    "                # we need to check if LCA_index is indeed the last index\n",
    "                # cases exists where we pop out the nodes from the right subtree of the LCA node\n",
    "                if one_node_found and LCA_index == len(stack)-1:\n",
    "                    LCA_index -= 1\n",
    "                stack.pop()\n",
    "        return stack[LCA_index][0]"
   ]
  },
  {
   "cell_type": "markdown",
   "metadata": {},
   "source": [
    "## 105. Construct Binary Tree from Preorder and Inorder Traversal"
   ]
  },
  {
   "cell_type": "markdown",
   "metadata": {},
   "source": [
    "### self-written recursive solution after checking answers"
   ]
  },
  {
   "cell_type": "code",
   "execution_count": 18,
   "metadata": {},
   "outputs": [],
   "source": [
    "from typing import List, Tuple\n",
    "\n",
    "class Solution105:\n",
    "    def buildTree(self, preorder: List[int], inorder: List[int]) -> TreeNode:\n",
    "        # left_idx and right_idx is for inorder traversal\n",
    "        # pre_idx is for preorder\n",
    "        def helper(left_idx, right_idx):\n",
    "            if left_idx > right_idx:\n",
    "                return None\n",
    "            nonlocal pre_idx\n",
    "            root = TreeNode(preorder[pre_idx])\n",
    "            split_idx = val2idx[preorder[pre_idx]]\n",
    "            pre_idx += 1\n",
    "            root.left = helper(left_idx, split_idx-1)\n",
    "            root.right = helper(split_idx+1, right_idx)\n",
    "            return root\n",
    "        val2idx = {val: i for i, val in enumerate(inorder)}\n",
    "        pre_idx = 0\n",
    "        return helper(0, len(preorder)-1)"
   ]
  },
  {
   "cell_type": "code",
   "execution_count": 19,
   "metadata": {},
   "outputs": [],
   "source": [
    "solver_105 = Solution105()\n",
    "tree = solver_105.buildTree(preorder = [3,9,20,15,7], inorder = [9,3,15,20,7])"
   ]
  },
  {
   "cell_type": "markdown",
   "metadata": {},
   "source": [
    "## 543. Diameter of Binary Tree"
   ]
  },
  {
   "cell_type": "markdown",
   "metadata": {},
   "source": [
    "### self-written solution"
   ]
  },
  {
   "cell_type": "code",
   "execution_count": 20,
   "metadata": {},
   "outputs": [],
   "source": [
    "class Solution543:\n",
    "    def diameterOfBinaryTree(self, root: TreeNode) -> int:\n",
    "        def maximumOneSideLength(node):\n",
    "            if node is None:\n",
    "                return 0\n",
    "            nonlocal maximumLength\n",
    "            leftLength = maximumOneSideLength(node.left)\n",
    "            rightLength = maximumOneSideLength(node.right)\n",
    "            maximumLength = max(maximumLength, leftLength+rightLength)\n",
    "            return max(leftLength, rightLength) + 1\n",
    "        maximumLength = 0\n",
    "        maximumOneSideLength(root)\n",
    "        return maximumLength"
   ]
  },
  {
   "cell_type": "markdown",
   "metadata": {},
   "source": [
    "## 863. All Nodes Distance K in Binary Tree"
   ]
  },
  {
   "cell_type": "markdown",
   "metadata": {},
   "source": [
    "### self-written annotating parent (tree-graph) solution after checking answers"
   ]
  },
  {
   "cell_type": "code",
   "execution_count": 26,
   "metadata": {},
   "outputs": [],
   "source": [
    "class Solution863:\n",
    "    def distanceK(self, root: TreeNode, target: TreeNode, K: int) -> List[int]:\n",
    "        # mark parent\n",
    "        def dfs(node, parent):\n",
    "            if node:\n",
    "                node.par = parent\n",
    "                dfs(node.left, node)\n",
    "                dfs(node.right, node)\n",
    "        dfs(root, None)\n",
    "        # bfs search\n",
    "        queue = deque([(target, 0)])\n",
    "        visited = set()\n",
    "        visited.add(target)\n",
    "        while queue:\n",
    "            if queue[0][1] == K:\n",
    "                return [node.val for node, _ in queue]\n",
    "            node, distance = queue.popleft()\n",
    "            for neighbor in (node.left, node.right, node.par):\n",
    "                if neighbor is None:\n",
    "                    continue\n",
    "                if neighbor not in visited:\n",
    "                    visited.add(neighbor)\n",
    "                    queue.append((neighbor, distance+1))\n",
    "        return []"
   ]
  },
  {
   "cell_type": "markdown",
   "metadata": {},
   "source": [
    "### use hashmap to store parents instead of creating new field"
   ]
  },
  {
   "cell_type": "code",
   "execution_count": 28,
   "metadata": {},
   "outputs": [],
   "source": [
    "class Solution863:\n",
    "    def distanceK(self, root: TreeNode, target: TreeNode, K: int) -> List[int]:\n",
    "        # mark parent\n",
    "        parentmap = dict()\n",
    "        def dfs(node, parent):\n",
    "            nonlocal parentmap\n",
    "            if node:\n",
    "                parentmap[node] = parent\n",
    "                dfs(node.left, node)\n",
    "                dfs(node.right, node)\n",
    "        dfs(root, None)\n",
    "        # bfs search\n",
    "        queue = deque([(target, 0)])\n",
    "        visited = set()\n",
    "        visited.add(target)\n",
    "        while queue:\n",
    "            if queue[0][1] == K:\n",
    "                return [node.val for node, _ in queue]\n",
    "            node, distance = queue.popleft()\n",
    "            for neighbor in (node.left, node.right, parentmap[node]):\n",
    "                if neighbor is None:\n",
    "                    continue\n",
    "                if neighbor not in visited:\n",
    "                    visited.add(neighbor)\n",
    "                    queue.append((neighbor, distance+1))\n",
    "        return []"
   ]
  },
  {
   "cell_type": "markdown",
   "metadata": {},
   "source": [
    "### self-written dfs + left-right-subtree method (percolating distance) after checking answers"
   ]
  },
  {
   "cell_type": "code",
   "execution_count": 42,
   "metadata": {},
   "outputs": [],
   "source": [
    "class Solution863:\n",
    "    def distanceK(self, root: TreeNode, target: TreeNode, K: int) -> List[int]:\n",
    "        ret = []\n",
    "        def subtreeAdd(node, distance):\n",
    "            if node:\n",
    "                if distance == K:\n",
    "                    ret.append(node.val)\n",
    "                elif distance < K:\n",
    "                    subtreeAdd(node.left, distance+1)\n",
    "                    subtreeAdd(node.right, distance+1)\n",
    "        def dfs(node):\n",
    "            \"\"\"\n",
    "            vertex distance: number of vertice in the path instead of length of path\n",
    "            \"\"\"\n",
    "            if node is None:\n",
    "                return -1\n",
    "            if node is target:\n",
    "                subtreeAdd(node, 0)\n",
    "                return 1\n",
    "            else:\n",
    "                L, R = dfs(node.left), dfs(node.right)\n",
    "                if L != -1:\n",
    "                    # missed this one at first\n",
    "                    if L == K:\n",
    "                        ret.append(node.val)\n",
    "                    else:\n",
    "                        subtreeAdd(node.right, L+1)\n",
    "                    return L+1\n",
    "                elif R != -1:\n",
    "                    # missed this one at first\n",
    "                    if R == K:\n",
    "                        ret.append(node.val)\n",
    "                    else:\n",
    "                        subtreeAdd(node.left, R+1)\n",
    "                    return R+1\n",
    "                else:\n",
    "                    return -1\n",
    "        dfs(root)\n",
    "        return ret"
   ]
  },
  {
   "cell_type": "code",
   "execution_count": 44,
   "metadata": {},
   "outputs": [
    {
     "data": {
      "text/plain": [
       "[1]"
      ]
     },
     "execution_count": 44,
     "metadata": {},
     "output_type": "execute_result"
    }
   ],
   "source": [
    "tree1 = TreeNode(0, TreeNode(1, TreeNode(3), TreeNode(2)), None)\n",
    "solver_863 = Solution863()\n",
    "solver_863.distanceK(tree1, tree1.left.right, 1)"
   ]
  },
  {
   "cell_type": "markdown",
   "metadata": {},
   "source": [
    "## 173. Binary Search Tree Iterator"
   ]
  },
  {
   "cell_type": "markdown",
   "metadata": {},
   "source": [
    "### self-written flattening solution, passed all tests"
   ]
  },
  {
   "cell_type": "code",
   "execution_count": 46,
   "metadata": {},
   "outputs": [],
   "source": [
    "class BSTIterator:\n",
    "\n",
    "    def __init__(self, root: TreeNode):\n",
    "        inorderlist = []\n",
    "        def inorderTraversal(node):\n",
    "            if node:\n",
    "                inorderTraversal(node.left)\n",
    "                inorderlist.append(node.val)\n",
    "                inorderTraversal(node.right)\n",
    "        inorderTraversal(root)\n",
    "        self.inorderlist = inorderlist\n",
    "\n",
    "    def next(self) -> int:\n",
    "        return self.inorderlist.pop(0)\n",
    "\n",
    "    def hasNext(self) -> bool:\n",
    "        return self.inorderlist"
   ]
  },
  {
   "cell_type": "markdown",
   "metadata": {},
   "source": [
    "### self-written controlled recursive solution after checking answers"
   ]
  },
  {
   "cell_type": "code",
   "execution_count": 48,
   "metadata": {},
   "outputs": [],
   "source": [
    "class BSTIterator:\n",
    "\n",
    "    def __init__(self, root: TreeNode):\n",
    "        self.stack = list()\n",
    "        self._addLeft(root)\n",
    "    \n",
    "    def _addLeft(self, node):\n",
    "        while node:\n",
    "            self.stack.append(node)\n",
    "            node = node.left\n",
    "        \n",
    "    def next(self) -> int:\n",
    "        node = self.stack.pop()\n",
    "        self._addLeft(node.right)\n",
    "        return node.val\n",
    "\n",
    "    def hasNext(self) -> bool:\n",
    "        return self.stack"
   ]
  },
  {
   "cell_type": "markdown",
   "metadata": {},
   "source": [
    "### self-written Morris traversal"
   ]
  },
  {
   "cell_type": "code",
   "execution_count": 101,
   "metadata": {},
   "outputs": [],
   "source": [
    "class BSTIterator:\n",
    "\n",
    "    def __init__(self, root: TreeNode):\n",
    "        self.curr = root\n",
    "        \n",
    "    def next(self) -> int:\n",
    "        while self.curr:\n",
    "            if not self.curr.left:\n",
    "                ret = self.curr.val\n",
    "                self.curr = self.curr.right\n",
    "                return ret  \n",
    "            else:\n",
    "                pre = self.curr.left\n",
    "                while pre.right and pre.right is not self.curr:\n",
    "                    pre = pre.right\n",
    "                if not pre.right:\n",
    "#                     print(f\"linking {pre.val} -> {curr.val}\")\n",
    "                    pre.right = self.curr\n",
    "                    self.curr = self.curr.left\n",
    "                else:\n",
    "#                     print(f\"delinking {pre.val} -> {pre.right.val}\")\n",
    "                    pre.right = None\n",
    "                    ret = self.curr.val \n",
    "                    self.curr = self.curr.right\n",
    "                    return ret           \n",
    "\n",
    "    def hasNext(self) -> bool:\n",
    "        return bool(self.curr)"
   ]
  },
  {
   "cell_type": "code",
   "execution_count": 102,
   "metadata": {},
   "outputs": [
    {
     "name": "stdout",
     "output_type": "stream",
     "text": [
      "10,5,30,-2,6,None,40,None,2,None,8,None,None,-1,None,None,None,None,None\n",
      "linking 8 -> 10\n",
      "linking 2 -> 5\n",
      "-2\n",
      "linking -1 -> 2\n",
      "-1\n",
      "delinking -1 -> 2\n",
      "2\n",
      "delinking 2 -> 5\n",
      "5\n",
      "6\n",
      "8\n",
      "delinking 8 -> 10\n",
      "10\n",
      "30\n",
      "40\n"
     ]
    }
   ],
   "source": [
    "tree = TreeNode(10, TreeNode(5, TreeNode(-2, None, TreeNode(2, TreeNode(-1), None)), TreeNode(6, None, TreeNode(8))), TreeNode(30, None, TreeNode(40)))\n",
    "curr= tree\n",
    "print(ser.serialize(tree))\n",
    "while curr:\n",
    "    if not curr.left:\n",
    "        print(curr.val)\n",
    "        curr = curr.right \n",
    "    else:\n",
    "        pre = curr.left\n",
    "        while pre.right and pre.right is not curr:\n",
    "            pre = pre.right\n",
    "        if not pre.right:\n",
    "            print(f\"linking {pre.val} -> {curr.val}\")\n",
    "            pre.right = curr\n",
    "            curr = curr.left\n",
    "        else:\n",
    "            print(f\"delinking {pre.val} -> {pre.right.val}\")\n",
    "            pre.right = None\n",
    "            print(curr.val)\n",
    "            curr = curr.right           "
   ]
  },
  {
   "cell_type": "code",
   "execution_count": 104,
   "metadata": {},
   "outputs": [
    {
     "name": "stdout",
     "output_type": "stream",
     "text": [
      "-2\n",
      "-1\n",
      "2\n",
      "5\n",
      "6\n",
      "8\n",
      "10\n",
      "30\n",
      "40\n"
     ]
    }
   ],
   "source": [
    "tree1 = TreeNode(10, TreeNode(5, TreeNode(-2, None, TreeNode(2, TreeNode(-1), None)), TreeNode(6, None, TreeNode(8))), TreeNode(30, None, TreeNode(40)))\n",
    "iterator = BSTIterator(tree1)\n",
    "while iterator.hasNext():\n",
    "    print(iterator.next())"
   ]
  },
  {
   "cell_type": "markdown",
   "metadata": {},
   "source": [
    "## 572. Subtree of Another Tree"
   ]
  },
  {
   "cell_type": "markdown",
   "metadata": {},
   "source": [
    "### self-written substring solution after checking answers"
   ]
  },
  {
   "cell_type": "code",
   "execution_count": 57,
   "metadata": {},
   "outputs": [],
   "source": [
    "class Solution572:\n",
    "    def isSubtree(self, s: TreeNode, t: TreeNode) -> bool:\n",
    "        \"\"\"\n",
    "        two important thing: # and left/right None\n",
    "        \"\"\"\n",
    "        def preorderTraversal(node, l, left):\n",
    "            if node is None:\n",
    "                if left:\n",
    "                    l.append(\"L\")\n",
    "                else:\n",
    "                    l.append(\"R\")\n",
    "            else:\n",
    "                l.append(str(node.val))\n",
    "                preorderTraversal(node.left, l, True)\n",
    "                preorderTraversal(node.right, l, False)\n",
    "        l_s, l_t = [], []\n",
    "        preorderTraversal(s, l_s, True)\n",
    "        preorderTraversal(t, l_t, True)\n",
    "#         print(l_s, l_t)\n",
    "        return (\"#\"+\"#\".join(l_s)).find(\"#\"+\"#\".join(l_t)) != -1"
   ]
  },
  {
   "cell_type": "code",
   "execution_count": 58,
   "metadata": {},
   "outputs": [
    {
     "data": {
      "text/plain": [
       "False"
      ]
     },
     "execution_count": 58,
     "metadata": {},
     "output_type": "execute_result"
    }
   ],
   "source": [
    "tree1 = TreeNode(1, TreeNode(2), TreeNode(3))\n",
    "tree2 = TreeNode(1, TreeNode(2), None)\n",
    "solver_572 = Solution572()\n",
    "solver_572.isSubtree(tree1, tree2)"
   ]
  },
  {
   "cell_type": "code",
   "execution_count": 60,
   "metadata": {},
   "outputs": [],
   "source": [
    "class Solution572:\n",
    "    def isSubtree(self, s: TreeNode, t: TreeNode) -> bool:\n",
    "        \"\"\"\n",
    "        one important thing: #, no need for left null / right null\n",
    "        \"\"\"\n",
    "        def preorderTraversal(node, l):\n",
    "            if node is None:\n",
    "                l.append(\"N\")\n",
    "            else:\n",
    "                l.append(str(node.val))\n",
    "                preorderTraversal(node.left, l)\n",
    "                preorderTraversal(node.right, l)\n",
    "        l_s, l_t = [], []\n",
    "        preorderTraversal(s, l_s)\n",
    "        preorderTraversal(t, l_t)\n",
    "#         print(l_s, l_t)\n",
    "        return (\"#\"+\"#\".join(l_s)).find(\"#\"+\"#\".join(l_t)) != -1"
   ]
  },
  {
   "cell_type": "code",
   "execution_count": 61,
   "metadata": {},
   "outputs": [
    {
     "data": {
      "text/plain": [
       "False"
      ]
     },
     "execution_count": 61,
     "metadata": {},
     "output_type": "execute_result"
    }
   ],
   "source": [
    "tree1 = TreeNode(1, TreeNode(2), TreeNode(3))\n",
    "tree2 = TreeNode(1, TreeNode(2), None)\n",
    "solver_572 = Solution572()\n",
    "solver_572.isSubtree(tree1, tree2)"
   ]
  },
  {
   "cell_type": "markdown",
   "metadata": {},
   "source": [
    "### self-written recursive solution after checking answers"
   ]
  },
  {
   "cell_type": "code",
   "execution_count": 64,
   "metadata": {},
   "outputs": [],
   "source": [
    "class Solution572:\n",
    "    def isSubtree(self, s: TreeNode, t: TreeNode) -> bool:\n",
    "        def isEqual(s, t):\n",
    "            if s is None:\n",
    "                return t is None\n",
    "            if t is None:\n",
    "                return False\n",
    "            return s.val == t.val and isEqual(s.left, t.left) and isEqual(s.right, t.right)\n",
    "        def traverse(s, t):\n",
    "            if s is None:\n",
    "                return t is None\n",
    "            return isEqual(s, t) or traverse(s.left, t) or traverse(s.right, t)\n",
    "        return traverse(s, t)"
   ]
  },
  {
   "cell_type": "markdown",
   "metadata": {},
   "source": [
    "## 226. Invert Binary Tree"
   ]
  },
  {
   "cell_type": "markdown",
   "metadata": {},
   "source": [
    "### self-written recursive solution"
   ]
  },
  {
   "cell_type": "code",
   "execution_count": 66,
   "metadata": {},
   "outputs": [],
   "source": [
    "class Solution226:\n",
    "    def invertTree(self, root: TreeNode) -> TreeNode:\n",
    "        if root is None:\n",
    "            return None\n",
    "        node = TreeNode(root.val)\n",
    "        node.left = self.invertTree(root.right)\n",
    "        node.right = self.invertTree(root.left)\n",
    "        return node"
   ]
  },
  {
   "cell_type": "markdown",
   "metadata": {},
   "source": [
    "### self-written iterative solution after checking answers"
   ]
  },
  {
   "cell_type": "code",
   "execution_count": 70,
   "metadata": {},
   "outputs": [],
   "source": [
    "class Solution226:\n",
    "    def invertTree(self, root: TreeNode) -> TreeNode:\n",
    "        if root is None:\n",
    "            return None\n",
    "        queue = deque([root])\n",
    "        while queue:\n",
    "            curr = queue.popleft()\n",
    "            curr.left, curr.right = curr.right, curr.left\n",
    "            if curr.left:\n",
    "                queue.append(curr.left)\n",
    "            if curr.right:\n",
    "                queue.append(curr.right)\n",
    "        return root"
   ]
  },
  {
   "cell_type": "markdown",
   "metadata": {},
   "source": [
    "## 199. Binary Tree Right Side View"
   ]
  },
  {
   "cell_type": "markdown",
   "metadata": {},
   "source": [
    "### self-written BFS with level solution"
   ]
  },
  {
   "cell_type": "code",
   "execution_count": 72,
   "metadata": {},
   "outputs": [],
   "source": [
    "class Solution199:\n",
    "    def rightSideView(self, root: TreeNode) -> List[int]:\n",
    "        if root is None:\n",
    "            return []\n",
    "        ret = []\n",
    "        queue = deque([(root, 0)])\n",
    "        curr_level = -1\n",
    "        while queue:\n",
    "            node, level = queue.popleft()\n",
    "            if level != curr_level:\n",
    "                ret.append(node.val)\n",
    "            curr_level = level\n",
    "            if node.right:\n",
    "                queue.append((node.right, level+1))\n",
    "            if node.left:\n",
    "                queue.append((node.left, level+1))\n",
    "        return ret"
   ]
  },
  {
   "cell_type": "markdown",
   "metadata": {},
   "source": [
    "### self-written BFS with two queues solution"
   ]
  },
  {
   "cell_type": "code",
   "execution_count": 73,
   "metadata": {},
   "outputs": [],
   "source": [
    "class Solution199:\n",
    "    def rightSideView(self, root: TreeNode) -> List[int]:\n",
    "        if root is None:\n",
    "            return []\n",
    "        ret = []\n",
    "        curr_queue = deque([root])\n",
    "        next_queue = deque()\n",
    "        while curr_queue:\n",
    "            if len(curr_queue) == 1:\n",
    "                node = curr_queue.popleft()\n",
    "                ret.append(node.val)\n",
    "                if node.left:\n",
    "                    next_queue.append(node.left)\n",
    "                if node.right:\n",
    "                    next_queue.append(node.right)\n",
    "                curr_queue = next_queue\n",
    "                next_queue = deque()\n",
    "                continue\n",
    "            node = curr_queue.popleft()\n",
    "            if node.left:\n",
    "                next_queue.append(node.left)\n",
    "            if node.right:\n",
    "                next_queue.append(node.right)\n",
    "        return ret"
   ]
  },
  {
   "cell_type": "markdown",
   "metadata": {},
   "source": [
    "### more elegant two-queue solution"
   ]
  },
  {
   "cell_type": "code",
   "execution_count": 74,
   "metadata": {},
   "outputs": [],
   "source": [
    "class Solution199:\n",
    "    def rightSideView(self, root: TreeNode) -> List[int]:\n",
    "        if root is None:\n",
    "            return []\n",
    "        ret = []\n",
    "        curr_queue = deque([root])\n",
    "        next_queue = deque()\n",
    "        while curr_queue:\n",
    "            node = curr_queue.popleft()\n",
    "            if node.left:\n",
    "                next_queue.append(node.left)\n",
    "            if node.right:\n",
    "                next_queue.append(node.right)\n",
    "            if not curr_queue:\n",
    "                ret.append(node.val)\n",
    "                curr_queue = next_queue\n",
    "                next_queue = deque()\n",
    "        return ret"
   ]
  },
  {
   "cell_type": "markdown",
   "metadata": {},
   "source": [
    "### self-written BFS with sentinel solution after checking answers"
   ]
  },
  {
   "cell_type": "code",
   "execution_count": 76,
   "metadata": {},
   "outputs": [],
   "source": [
    "class Solution199:\n",
    "    def rightSideView(self, root: TreeNode) -> List[int]:\n",
    "        if root is None:\n",
    "            return []\n",
    "        ret = []\n",
    "        queue = deque([root, None])\n",
    "        curr = root\n",
    "        while queue:\n",
    "            prev, curr = curr, queue.popleft()\n",
    "            while curr:\n",
    "                if curr.left:\n",
    "                    queue.append(curr.left)\n",
    "                if curr.right:\n",
    "                    queue.append(curr.right)\n",
    "                prev, curr = curr, queue.popleft()\n",
    "            ret.append(prev.val)\n",
    "            if queue:\n",
    "                queue.append(None)\n",
    "        return ret"
   ]
  },
  {
   "cell_type": "markdown",
   "metadata": {},
   "source": [
    "### self-written DFS solution after checking answers"
   ]
  },
  {
   "cell_type": "code",
   "execution_count": null,
   "metadata": {},
   "outputs": [],
   "source": [
    "class Solution199:\n",
    "    def rightSideView(self, root: TreeNode) -> List[int]:\n",
    "        if root is None:\n",
    "            return []\n",
    "        ret = []\n",
    "        def helper(node, level):\n",
    "            if level == len(ret):\n",
    "                ret.append(node.val)\n",
    "            if node.right:\n",
    "                helper(node.right, level+1)\n",
    "            if node.left:\n",
    "                helper(node.left, level+1)\n",
    "        helper(root, 0)\n",
    "        return ret"
   ]
  },
  {
   "cell_type": "markdown",
   "metadata": {},
   "source": [
    "## 314. Binary Tree Vertical Order Traversal"
   ]
  },
  {
   "cell_type": "markdown",
   "metadata": {},
   "source": [
    "### self-written solution, done in 10 minutes, passed all tests, genius"
   ]
  },
  {
   "cell_type": "code",
   "execution_count": 77,
   "metadata": {},
   "outputs": [],
   "source": [
    "class Solution314:\n",
    "    def verticalOrder(self, root: TreeNode) -> List[List[int]]:\n",
    "        if root is None:\n",
    "            return []\n",
    "        curr_min = 0\n",
    "        queue = deque([(root, 0, 0)])\n",
    "        ret = [[]]\n",
    "        while queue:\n",
    "            node, row, col = queue.popleft()\n",
    "            if col-curr_min == -1:\n",
    "                curr_min = col\n",
    "                ret.insert(0, [])\n",
    "            elif col-curr_min == len(ret):\n",
    "                ret.append([])\n",
    "            ret[col-curr_min].append(node.val)\n",
    "            if node.left:\n",
    "                queue.append((node.left, row+1, col-1))\n",
    "            if node.right:\n",
    "                queue.append((node.right, row+1, col+1))\n",
    "        return ret"
   ]
  },
  {
   "cell_type": "markdown",
   "metadata": {},
   "source": [
    "### without row (redundant information)"
   ]
  },
  {
   "cell_type": "code",
   "execution_count": 78,
   "metadata": {},
   "outputs": [],
   "source": [
    "class Solution314:\n",
    "    def verticalOrder(self, root: TreeNode) -> List[List[int]]:\n",
    "        if root is None:\n",
    "            return []\n",
    "        curr_min = 0\n",
    "        queue = deque([(root, 0)])\n",
    "        ret = [[]]\n",
    "        while queue:\n",
    "            node, col = queue.popleft()\n",
    "            if col-curr_min == -1:\n",
    "                curr_min = col\n",
    "                ret.insert(0, [])\n",
    "            elif col-curr_min == len(ret):\n",
    "                ret.append([])\n",
    "            ret[col-curr_min].append(node.val)\n",
    "            if node.left:\n",
    "                queue.append((node.left, col-1))\n",
    "            if node.right:\n",
    "                queue.append((node.right, col+1))\n",
    "        return ret"
   ]
  },
  {
   "cell_type": "markdown",
   "metadata": {},
   "source": [
    "### self-written sorting solution after checking answers"
   ]
  },
  {
   "cell_type": "code",
   "execution_count": 79,
   "metadata": {},
   "outputs": [],
   "source": [
    "class Solution314:\n",
    "    def verticalOrder(self, root: TreeNode) -> List[List[int]]:\n",
    "        if root is None:\n",
    "            return []\n",
    "        column2nodes = defaultdict(list)\n",
    "        queue = deque([(root, 0)])\n",
    "        ret = [[]]\n",
    "        while queue:\n",
    "            node, col = queue.popleft()\n",
    "            column2nodes[col].append(node.val)\n",
    "            if node.left:\n",
    "                queue.append((node.left, col-1))\n",
    "            if node.right:\n",
    "                queue.append((node.right, col+1))\n",
    "        return [column2nodes[key] for key in sorted(column2nodes.keys())]"
   ]
  },
  {
   "cell_type": "markdown",
   "metadata": {},
   "source": [
    "## 987. Vertical Order Traversal of a Binary Tree"
   ]
  },
  {
   "cell_type": "markdown",
   "metadata": {},
   "source": [
    "### self-written sorting solution"
   ]
  },
  {
   "cell_type": "code",
   "execution_count": null,
   "metadata": {},
   "outputs": [],
   "source": [
    "class Solution987:\n",
    "    def verticalTraversal(self, root: TreeNode) -> List[List[int]]:"
   ]
  }
 ],
 "metadata": {
  "kernelspec": {
   "display_name": "Python 3",
   "language": "python",
   "name": "python3"
  },
  "language_info": {
   "codemirror_mode": {
    "name": "ipython",
    "version": 3
   },
   "file_extension": ".py",
   "mimetype": "text/x-python",
   "name": "python",
   "nbconvert_exporter": "python",
   "pygments_lexer": "ipython3",
   "version": "3.7.1"
  }
 },
 "nbformat": 4,
 "nbformat_minor": 4
}
