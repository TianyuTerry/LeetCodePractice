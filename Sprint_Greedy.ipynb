{
 "cells": [
  {
   "cell_type": "markdown",
   "metadata": {},
   "source": [
    "## Greedy"
   ]
  },
  {
   "cell_type": "markdown",
   "metadata": {},
   "source": [
    "### The idea of greedy algorithm is to pick locally optimal move at each step, that will lead to globally optimal solution."
   ]
  },
  {
   "cell_type": "markdown",
   "metadata": {},
   "source": [
    "### 122. Best Time to Buy and Sell Stock II"
   ]
  },
  {
   "cell_type": "code",
   "execution_count": 1,
   "metadata": {},
   "outputs": [],
   "source": [
    "def maxProfit(prices):\n",
    "    \"\"\"\n",
    "    :type prices: List[int]\n",
    "    :rtype: int\n",
    "    \"\"\"\n",
    "    if len(prices) == 1:\n",
    "        return 0\n",
    "    total = 0\n",
    "    for i in range(len(prices)-1):\n",
    "        total += max(prices[i+1] - prices[i], 0)\n",
    "    return total"
   ]
  },
  {
   "cell_type": "code",
   "execution_count": 2,
   "metadata": {},
   "outputs": [],
   "source": [
    "def maxProfit(prices):\n",
    "    \"\"\"\n",
    "    :type prices: List[int]\n",
    "    :rtype: int\n",
    "    \"\"\"\n",
    "    if len(prices) == 1:\n",
    "        return 0\n",
    "    total = 0\n",
    "    for i in range(len(prices)-1):\n",
    "        if prices[i+1] > prices[i]:\n",
    "            total += prices[i+1] - prices[i]\n",
    "    return total"
   ]
  },
  {
   "cell_type": "markdown",
   "metadata": {},
   "source": [
    "### 55. Jump Game (no idea how greedy algorithm is possible)"
   ]
  },
  {
   "cell_type": "code",
   "execution_count": 16,
   "metadata": {},
   "outputs": [],
   "source": [
    "def canJumpDPBottomUp(nums): # time limit exceeded, this is bottom-up DP, since we use tabulation\n",
    "    \"\"\"\n",
    "    :type nums: List[int]\n",
    "    :rtype: bool\n",
    "    \"\"\"\n",
    "    length = len(nums)\n",
    "    res = [False] * (length-1) + [True]\n",
    "    for n in range(length-2,-1,-1):\n",
    "        for i in range(n+1, min(n+nums[n]+1, length)):\n",
    "            if res[i] == True:\n",
    "                res[n] = True\n",
    "                break\n",
    "    return res[0]"
   ]
  },
  {
   "cell_type": "code",
   "execution_count": 17,
   "metadata": {},
   "outputs": [
    {
     "data": {
      "text/plain": [
       "True"
      ]
     },
     "execution_count": 17,
     "metadata": {},
     "output_type": "execute_result"
    }
   ],
   "source": [
    "canJumpDPBottomUp([2,3,1,1,4])"
   ]
  },
  {
   "cell_type": "code",
   "execution_count": 18,
   "metadata": {},
   "outputs": [
    {
     "data": {
      "text/plain": [
       "False"
      ]
     },
     "execution_count": 18,
     "metadata": {},
     "output_type": "execute_result"
    }
   ],
   "source": [
    "canJumpDPBottomUp([3,2,1,0,4])"
   ]
  },
  {
   "cell_type": "code",
   "execution_count": 13,
   "metadata": {},
   "outputs": [],
   "source": [
    "def canJumpBT(nums): # Time limit exceeded even before the last test case\n",
    "    length = len(nums)\n",
    "    def canJumpFromPosition(pos):\n",
    "        if pos == length-1:\n",
    "            return True\n",
    "        for reachable in range(pos+1, min(pos+nums[pos]+1, length)):\n",
    "            if canJumpFromPosition(reachable):\n",
    "                return True\n",
    "        return False\n",
    "    return canJumpFromPosition(0)"
   ]
  },
  {
   "cell_type": "code",
   "execution_count": 14,
   "metadata": {},
   "outputs": [
    {
     "data": {
      "text/plain": [
       "True"
      ]
     },
     "execution_count": 14,
     "metadata": {},
     "output_type": "execute_result"
    }
   ],
   "source": [
    "canJumpBT([2,3,1,1,4])"
   ]
  },
  {
   "cell_type": "code",
   "execution_count": 15,
   "metadata": {},
   "outputs": [
    {
     "data": {
      "text/plain": [
       "False"
      ]
     },
     "execution_count": 15,
     "metadata": {},
     "output_type": "execute_result"
    }
   ],
   "source": [
    "canJumpBT([3,2,1,0,4])"
   ]
  },
  {
   "cell_type": "code",
   "execution_count": 49,
   "metadata": {},
   "outputs": [],
   "source": [
    "# enum = {'Good': 1, 'Bad': -1, 'Unknown': 0}\n",
    "# This method indicates how we move from backtracking to top-down dynamic programming (memoization used)\n",
    "def canJumpDPTopDown(nums): # Memory limit exceeded\n",
    "    length = len(nums)\n",
    "    memo = [0]*(length-1) + [1]\n",
    "    def canJumpFromPosition(pos):\n",
    "        #nonlocal memo\n",
    "        if memo[pos] != 0:\n",
    "            return True if memo[pos] == 1 else False\n",
    "        for reachable in range(pos+1, min(pos+nums[pos]+1, length)):\n",
    "            if canJumpFromPosition(reachable):\n",
    "                memo[pos] = 1\n",
    "                return True\n",
    "        memo[pos] = -1\n",
    "        return False\n",
    "    return canJumpFromPosition(0)"
   ]
  },
  {
   "cell_type": "code",
   "execution_count": 50,
   "metadata": {},
   "outputs": [
    {
     "data": {
      "text/plain": [
       "True"
      ]
     },
     "execution_count": 50,
     "metadata": {},
     "output_type": "execute_result"
    }
   ],
   "source": [
    "canJumpDPTopDown([2,3,1,1,4])"
   ]
  },
  {
   "cell_type": "code",
   "execution_count": 51,
   "metadata": {},
   "outputs": [
    {
     "data": {
      "text/plain": [
       "False"
      ]
     },
     "execution_count": 51,
     "metadata": {},
     "output_type": "execute_result"
    }
   ],
   "source": [
    "canJumpDPTopDown([3,2,1,0,4])"
   ]
  },
  {
   "cell_type": "code",
   "execution_count": 53,
   "metadata": {},
   "outputs": [],
   "source": [
    "def canJumpDPTopDownOptimized(nums): # Time limit exceeded lmao\n",
    "    length = len(nums)\n",
    "    memo = [0]*(length-1) + [1]\n",
    "    def canJumpFromPosition(pos):\n",
    "        #nonlocal memo\n",
    "        if memo[pos] != 0:\n",
    "            return True if memo[pos] == 1 else False\n",
    "        for reachable in range(min(pos+nums[pos], length-1), pos, -1):\n",
    "            if canJumpFromPosition(reachable):\n",
    "                memo[pos] = 1\n",
    "                return True\n",
    "        memo[pos] = -1\n",
    "        return False\n",
    "    return canJumpFromPosition(0)"
   ]
  },
  {
   "cell_type": "code",
   "execution_count": 54,
   "metadata": {},
   "outputs": [
    {
     "data": {
      "text/plain": [
       "True"
      ]
     },
     "execution_count": 54,
     "metadata": {},
     "output_type": "execute_result"
    }
   ],
   "source": [
    "canJumpDPTopDownOptimized([2,3,1,1,4])"
   ]
  },
  {
   "cell_type": "code",
   "execution_count": 55,
   "metadata": {},
   "outputs": [
    {
     "data": {
      "text/plain": [
       "False"
      ]
     },
     "execution_count": 55,
     "metadata": {},
     "output_type": "execute_result"
    }
   ],
   "source": [
    "canJumpDPTopDownOptimized([3,2,1,0,4])"
   ]
  },
  {
   "cell_type": "code",
   "execution_count": 61,
   "metadata": {},
   "outputs": [],
   "source": [
    "def canJumpGreedy(nums): \n",
    "    '''\n",
    "    This originates from bottom-up DP (Inspired by the break statement)\n",
    "    whether a position can reach the end or not\n",
    "    is equivalent to whether the break statement is triggered\n",
    "    is equivalent to the leftmost good position is in reach\n",
    "    Therefore we keep track of the leftmost good position and \n",
    "    update accordingly when the list is iterated from right to left\n",
    "    '''\n",
    "    leftmost = len(nums)-1\n",
    "    for i in range(len(nums)-2, -1, -1):\n",
    "        if i+nums[i] >= leftmost:\n",
    "            leftmost = i\n",
    "    return leftmost == 0"
   ]
  },
  {
   "cell_type": "code",
   "execution_count": 62,
   "metadata": {},
   "outputs": [
    {
     "data": {
      "text/plain": [
       "True"
      ]
     },
     "execution_count": 62,
     "metadata": {},
     "output_type": "execute_result"
    }
   ],
   "source": [
    "canJumpGreedy([2,3,1,1,4])"
   ]
  },
  {
   "cell_type": "code",
   "execution_count": 63,
   "metadata": {},
   "outputs": [
    {
     "data": {
      "text/plain": [
       "False"
      ]
     },
     "execution_count": 63,
     "metadata": {},
     "output_type": "execute_result"
    }
   ],
   "source": [
    "canJumpGreedy([3,2,1,0,4])"
   ]
  },
  {
   "cell_type": "markdown",
   "metadata": {},
   "source": [
    "### 45. Jump Game II"
   ]
  },
  {
   "cell_type": "code",
   "execution_count": 76,
   "metadata": {},
   "outputs": [],
   "source": [
    "def jump(nums): # self-implemented, brilliant!\n",
    "    \"\"\"\n",
    "    :type nums: List[int]\n",
    "    :rtype: int\n",
    "    \"\"\"\n",
    "    \"\"\"\n",
    "    It is important to know that if max_pos is updated, all the positions within the previous max_pos and current\n",
    "    max_pos are reachable since the update is the result of introducing one more position i before the current max_pos. \n",
    "    All positions within i and current max_pos are reachable. If there is no guarantee that end can be reached, we need to check if \n",
    "    new_max_pos == i.\n",
    "    \"\"\"\n",
    "    if len(nums) == 1: # This edge case makes our first submission fail\n",
    "        return 0\n",
    "    max_pos = new_max_pos = 0\n",
    "    jumps = 0\n",
    "    i = 0     \n",
    "    for i in range(len(nums)):\n",
    "        #print(i,max_pos)\n",
    "        if i > max_pos:\n",
    "            max_pos = new_max_pos\n",
    "            jumps += 1\n",
    "            if max_pos >= len(nums)-1:\n",
    "                return jumps\n",
    "        if i+nums[i] > new_max_pos:\n",
    "            new_max_pos = i+nums[i]"
   ]
  },
  {
   "cell_type": "code",
   "execution_count": 77,
   "metadata": {},
   "outputs": [
    {
     "data": {
      "text/plain": [
       "2"
      ]
     },
     "execution_count": 77,
     "metadata": {},
     "output_type": "execute_result"
    }
   ],
   "source": [
    "jump([2,3,1,1,4])"
   ]
  },
  {
   "cell_type": "code",
   "execution_count": 78,
   "metadata": {},
   "outputs": [],
   "source": [
    "def jumpStandard(nums):   \n",
    "    n = len(nums)\n",
    "    if n < 2:\n",
    "        return 0 \n",
    "\n",
    "    # max position one could reach \n",
    "    # starting from index <= i \n",
    "    max_pos = nums[0]\n",
    "    # max number of steps one could do\n",
    "    # inside this jump\n",
    "    max_steps = nums[0]\n",
    "\n",
    "    jumps = 1\n",
    "    for i in range(1, n):\n",
    "        # if to reach this point \n",
    "        # one needs one more jump\n",
    "        if max_steps < i:\n",
    "            jumps += 1\n",
    "            max_steps = max_pos\n",
    "        max_pos = max(max_pos, nums[i] + i)\n",
    "\n",
    "    return jumps"
   ]
  },
  {
   "cell_type": "markdown",
   "metadata": {},
   "source": [
    "### 134. Gas Station"
   ]
  },
  {
   "cell_type": "markdown",
   "metadata": {},
   "source": [
    "#### Had some basic idea first and checked the answer, this question is quite hard"
   ]
  },
  {
   "cell_type": "code",
   "execution_count": 80,
   "metadata": {},
   "outputs": [],
   "source": [
    "def canCompleteCircuit(gas, cost): \n",
    "    \"\"\"\n",
    "    Amazing question! Mathematical proof needed! This indicates that if the net oil gain is positive,\n",
    "    there is a possible starting point for sure!!! Since the uniqueness is guaranteed, we can implement this algo.\n",
    "    \"\"\"\n",
    "    \"\"\"\n",
    "    :type gas: List[int]\n",
    "    :type cost: List[int]\n",
    "    :rtype: int\n",
    "    \"\"\"\n",
    "    diff = [gas[i]-cost[i] for i in range(len(gas))]\n",
    "    total_tank, curr_tank, start_station = 0, 0, 0\n",
    "    for i in range(len(gas)):\n",
    "        total_tank += diff[i]\n",
    "        curr_tank += diff[i]\n",
    "        if curr_tank < 0:\n",
    "            start_station = i+1\n",
    "            curr_tank = 0\n",
    "    return -1 if total_tank < 0 else start_station"
   ]
  },
  {
   "cell_type": "code",
   "execution_count": 81,
   "metadata": {},
   "outputs": [],
   "source": [
    "def canCompleteCircuitStandard(gas, cost):\n",
    "    n = len(gas)\n",
    "        \n",
    "    total_tank, curr_tank = 0, 0\n",
    "    starting_station = 0\n",
    "    for i in range(n):\n",
    "        total_tank += gas[i] - cost[i]\n",
    "        curr_tank += gas[i] - cost[i]\n",
    "        # If one couldn't get here,\n",
    "        if curr_tank < 0:\n",
    "            # Pick up the next station as the starting one.\n",
    "            starting_station = i + 1\n",
    "            # Start with an empty tank.\n",
    "            curr_tank = 0\n",
    "\n",
    "    return starting_station if total_tank >= 0 else -1"
   ]
  },
  {
   "cell_type": "markdown",
   "metadata": {},
   "source": [
    "### 253. Meeting Rooms II"
   ]
  },
  {
   "cell_type": "markdown",
   "metadata": {},
   "source": [
    "#### implemented after examining the official solution"
   ]
  },
  {
   "cell_type": "code",
   "execution_count": 83,
   "metadata": {},
   "outputs": [],
   "source": [
    "def minMeetingRooms(intervals):\n",
    "    \"\"\"\n",
    "    :type intervals: List[List[int]]\n",
    "    :rtype: int\n",
    "    \"\"\"\n",
    "    if not intervals:\n",
    "        return 0\n",
    "    intervals.sort(key=lambda x: x[0])\n",
    "    rooms = []\n",
    "    heapq.heappush(rooms, intervals[0][1])\n",
    "    for interval in intervals[1:]:\n",
    "        if interval[0] >= rooms[0]:\n",
    "            heapq.heappop(rooms)\n",
    "        heapq.heappush(rooms, interval[1])\n",
    "    return len(rooms)"
   ]
  },
  {
   "cell_type": "markdown",
   "metadata": {},
   "source": [
    "#### Intuitive Solution (self-implemented)"
   ]
  },
  {
   "cell_type": "code",
   "execution_count": 91,
   "metadata": {},
   "outputs": [],
   "source": [
    "def minMeetingRoomsChronological(intervals):\n",
    "    start_times = [interval[0] for interval in intervals]\n",
    "    end_times = [interval[1] for interval in intervals]\n",
    "    start_times.sort()\n",
    "    end_times.sort()\n",
    "    i = j = room_count = current_room = 0\n",
    "    while i < len(intervals):\n",
    "        if start_times[i] < end_times[j]:\n",
    "            current_room += 1\n",
    "            if (current_room > room_count):\n",
    "                room_count = current_room\n",
    "            i += 1\n",
    "        else:\n",
    "            current_room -= 1\n",
    "            j += 1\n",
    "    return room_count"
   ]
  },
  {
   "cell_type": "code",
   "execution_count": 86,
   "metadata": {},
   "outputs": [],
   "source": [
    "import heapq"
   ]
  },
  {
   "cell_type": "code",
   "execution_count": 87,
   "metadata": {},
   "outputs": [
    {
     "data": {
      "text/plain": [
       "2"
      ]
     },
     "execution_count": 87,
     "metadata": {},
     "output_type": "execute_result"
    }
   ],
   "source": [
    "minMeetingRooms([[0,30],[5,10],[15,20]])"
   ]
  },
  {
   "cell_type": "code",
   "execution_count": 88,
   "metadata": {},
   "outputs": [
    {
     "data": {
      "text/plain": [
       "4"
      ]
     },
     "execution_count": 88,
     "metadata": {},
     "output_type": "execute_result"
    }
   ],
   "source": [
    "minMeetingRooms([[1, 10], [2, 7], [3, 19], [8, 12], [10, 20], [11, 30]])"
   ]
  },
  {
   "cell_type": "code",
   "execution_count": 89,
   "metadata": {},
   "outputs": [
    {
     "data": {
      "text/plain": [
       "2"
      ]
     },
     "execution_count": 89,
     "metadata": {},
     "output_type": "execute_result"
    }
   ],
   "source": [
    "minMeetingRoomsChronological([[0,30],[5,10],[15,20]])"
   ]
  },
  {
   "cell_type": "code",
   "execution_count": 90,
   "metadata": {},
   "outputs": [
    {
     "data": {
      "text/plain": [
       "4"
      ]
     },
     "execution_count": 90,
     "metadata": {},
     "output_type": "execute_result"
    }
   ],
   "source": [
    "minMeetingRoomsChronological([[1, 10], [2, 7], [3, 19], [8, 12], [10, 20], [11, 30]])"
   ]
  },
  {
   "cell_type": "markdown",
   "metadata": {},
   "source": [
    "#### Standard chronological method (a bit difficult to understand, but faster!)"
   ]
  },
  {
   "cell_type": "code",
   "execution_count": 93,
   "metadata": {},
   "outputs": [],
   "source": [
    "from typing import List, Tuple, Dict"
   ]
  },
  {
   "cell_type": "code",
   "execution_count": 95,
   "metadata": {},
   "outputs": [],
   "source": [
    "def minMeetingRoomsStandard(intervals: List[List[int]]) -> int:\n",
    "    \"\"\"\n",
    "    we check if this start timing is greater than the meeting pointed to by e_ptr. \n",
    "    If this is the case then that would mean some meeting has ended by the time the meeting at s_ptr had to start. \n",
    "    So we can reuse one of the rooms. Otherwise, we have to allocate a new room.\n",
    "    \"\"\"\n",
    "    # If there are no meetings, we don't need any rooms.\n",
    "    if not intervals:\n",
    "        return 0\n",
    "\n",
    "    used_rooms = 0\n",
    "\n",
    "    # Separate out the start and the end timings and sort them individually.\n",
    "    start_timings = sorted([i[0] for i in intervals])\n",
    "    end_timings = sorted(i[1] for i in intervals)\n",
    "    L = len(intervals)\n",
    "\n",
    "    # The two pointers in the algorithm: e_ptr and s_ptr.\n",
    "    end_pointer = 0\n",
    "    start_pointer = 0\n",
    "\n",
    "    # Until all the meetings have been processed\n",
    "    while start_pointer < L:\n",
    "        # If there is a meeting that has ended by the time the meeting at `start_pointer` starts\n",
    "        if start_timings[start_pointer] >= end_timings[end_pointer]:\n",
    "            # Free up a room and increment the end_pointer.\n",
    "            used_rooms -= 1\n",
    "            end_pointer += 1\n",
    "\n",
    "        # We do this irrespective of whether a room frees up or not.\n",
    "        # If a room got free, then this used_rooms += 1 wouldn't have any effect. used_rooms would\n",
    "        # remain the same in that case. If no room was free, then this would increase used_rooms\n",
    "        used_rooms += 1    \n",
    "        start_pointer += 1   \n",
    "\n",
    "    return used_rooms"
   ]
  },
  {
   "cell_type": "code",
   "execution_count": 97,
   "metadata": {},
   "outputs": [
    {
     "data": {
      "text/plain": [
       "4"
      ]
     },
     "execution_count": 97,
     "metadata": {},
     "output_type": "execute_result"
    }
   ],
   "source": [
    "minMeetingRoomsStandard([[1, 10], [2, 7], [3, 19], [8, 12], [10, 20], [11, 30]])"
   ]
  },
  {
   "cell_type": "code",
   "execution_count": null,
   "metadata": {},
   "outputs": [],
   "source": []
  }
 ],
 "metadata": {
  "kernelspec": {
   "display_name": "Python 3",
   "language": "python",
   "name": "python3"
  },
  "language_info": {
   "codemirror_mode": {
    "name": "ipython",
    "version": 3
   },
   "file_extension": ".py",
   "mimetype": "text/x-python",
   "name": "python",
   "nbconvert_exporter": "python",
   "pygments_lexer": "ipython3",
   "version": "3.7.1"
  }
 },
 "nbformat": 4,
 "nbformat_minor": 2
}
