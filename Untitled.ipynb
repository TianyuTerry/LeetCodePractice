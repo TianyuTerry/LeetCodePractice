{
 "cells": [
  {
   "cell_type": "code",
   "execution_count": 14,
   "metadata": {},
   "outputs": [],
   "source": [
    "def map_to_right_view(level_traversal):\n",
    "    right_view = []\n",
    "    depth = 0\n",
    "    pointer = 0\n",
    "    while pointer < len(level_traversal):\n",
    "        length = 2 ** depth\n",
    "        last_element = None\n",
    "        for i in range(length):\n",
    "            if pointer + i == len(level_traversal):\n",
    "                pointer += i\n",
    "                break\n",
    "            if level_traversal[pointer + i] is not None:\n",
    "                print(\"last element: \", level_traversal[pointer + i])\n",
    "                last_element = level_traversal[pointer + i]\n",
    "        right_view.append(last_element)\n",
    "        pointer += length\n",
    "        depth += 1\n",
    "\n",
    "    return right_view"
   ]
  },
  {
   "cell_type": "code",
   "execution_count": 15,
   "metadata": {},
   "outputs": [
    {
     "name": "stdout",
     "output_type": "stream",
     "text": [
      "last element:  1\n",
      "last element:  2\n",
      "last element:  3\n",
      "last element:  6\n",
      "last element:  4\n"
     ]
    },
    {
     "data": {
      "text/plain": [
       "[1, 3, 4]"
      ]
     },
     "execution_count": 15,
     "metadata": {},
     "output_type": "execute_result"
    }
   ],
   "source": [
    "map_to_right_view([1, 2, 3, None, 6, 4])"
   ]
  },
  {
   "cell_type": "code",
   "execution_count": null,
   "metadata": {},
   "outputs": [],
   "source": [
    "map_to_right_view([])"
   ]
  }
 ],
 "metadata": {
  "kernelspec": {
   "display_name": "Python 3",
   "language": "python",
   "name": "python3"
  },
  "language_info": {
   "codemirror_mode": {
    "name": "ipython",
    "version": 3
   },
   "file_extension": ".py",
   "mimetype": "text/x-python",
   "name": "python",
   "nbconvert_exporter": "python",
   "pygments_lexer": "ipython3",
   "version": "3.7.1"
  }
 },
 "nbformat": 4,
 "nbformat_minor": 2
}
