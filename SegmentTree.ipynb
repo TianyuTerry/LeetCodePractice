{
 "cells": [
  {
   "cell_type": "markdown",
   "metadata": {},
   "source": [
    "## self-implemented segment tree after watching YouTube video"
   ]
  },
  {
   "cell_type": "markdown",
   "metadata": {},
   "source": [
    "### trees are implemented in array"
   ]
  },
  {
   "cell_type": "code",
   "execution_count": 1,
   "metadata": {},
   "outputs": [],
   "source": [
    "from typing import List"
   ]
  },
  {
   "cell_type": "code",
   "execution_count": 67,
   "metadata": {},
   "outputs": [],
   "source": [
    "class SegmentTree:\n",
    "    \n",
    "    def __init__(self, array: List[int]) -> None:\n",
    "        \"\"\"\n",
    "        for range minimum query,\n",
    "        low and high is for the real array,\n",
    "        pos is for segment tree, \n",
    "        trick is that 2 * pos + 1 is the left child and 2 * pos + 2 is the right child\n",
    "        the leaf node condition is low == high\n",
    "        \"\"\"\n",
    "        self.array = [array[i] if i < len(array) else float(\"inf\") \\\n",
    "                      for i in range(self._get_next_power_of_two(len(array)))]\n",
    "        self.segTree = [float(\"inf\") for i in range(2*len(self.array)-1)]\n",
    "        self._construct_tree(0, len(self.array)-1, 0)\n",
    "        print(\"*** successfully construct segment tree ***\")\n",
    "        print(\"*** array ***\")\n",
    "        print(self.array)\n",
    "        print(\"*** segment tree ***\")\n",
    "        print(self.segTree)\n",
    "    \n",
    "    \n",
    "    def min_query(self, qlow: int, qhigh: int) -> int:\n",
    "        return self._range_min_query(qlow, qhigh, 0, len(self.array)-1, 0)\n",
    "        \n",
    "    \n",
    "    def _get_next_power_of_two(self, n: int) -> int:\n",
    "        # this for power of 2\n",
    "        if n and not(n & (n - 1)):\n",
    "            return n\n",
    "        count = 0\n",
    "        while n != 0:\n",
    "            n >>= 1\n",
    "            count += 1\n",
    "        return 1 << count\n",
    "\n",
    "    \n",
    "    def _construct_tree(self, low: int, high: int, pos: int) -> None:\n",
    "#         print(\"low, high, pos\", low, high, pos)\n",
    "        # leaf node condition\n",
    "        if low == high:\n",
    "            self.segTree[pos] = self.array[low]\n",
    "            return\n",
    "        mid = (low + high) // 2\n",
    "        self._construct_tree(low, mid, 2*pos+1)\n",
    "        self._construct_tree(mid+1, high, 2*pos+2)\n",
    "        self.segTree[pos] = min(self.segTree[2*pos+1], self.segTree[2*pos+2])\n",
    "    \n",
    "    \n",
    "    def _range_min_query(self, qlow: int, qhigh: int, low: int, high: int, pos: int) -> int:\n",
    "#         print(\"qlow, qhigh, low, high, pos\", qlow, qhigh, low, high, pos)\n",
    "        # total overlap\n",
    "        if qlow <= low and qhigh >= high:\n",
    "            return self.segTree[pos]\n",
    "        # no overlap\n",
    "        if qlow > high or qhigh < low:\n",
    "            return float(\"inf\")\n",
    "        # partial overlap\n",
    "        mid = (low + high) // 2\n",
    "        return min(self._range_min_query(qlow, qhigh, low, mid, 2*pos+1),\\\n",
    "                   self._range_min_query(qlow, qhigh, mid+1, high, 2*pos+2))"
   ]
  },
  {
   "cell_type": "code",
   "execution_count": 69,
   "metadata": {},
   "outputs": [
    {
     "name": "stdout",
     "output_type": "stream",
     "text": [
      "*** successfully construct segment tree ***\n",
      "*** array ***\n",
      "[-1, 2, 4, 0]\n",
      "*** segment tree ***\n",
      "[-1, -1, 0, -1, 2, 4, 0]\n"
     ]
    },
    {
     "data": {
      "text/plain": [
       "(-1, 2, 0)"
      ]
     },
     "execution_count": 69,
     "metadata": {},
     "output_type": "execute_result"
    }
   ],
   "source": [
    "segTree = SegmentTree([-1, 2, 4, 0])\n",
    "segTree.min_query(0, 3), segTree.min_query(1, 2), segTree.min_query(2, 3)"
   ]
  },
  {
   "cell_type": "code",
   "execution_count": 70,
   "metadata": {},
   "outputs": [
    {
     "name": "stdout",
     "output_type": "stream",
     "text": [
      "*** successfully construct segment tree ***\n",
      "*** array ***\n",
      "[-1, 2, 4, 0, -2, -3, inf, inf]\n",
      "*** segment tree ***\n",
      "[-3, -1, -3, -1, 0, -3, inf, -1, 2, 4, 0, -2, -3, inf, inf]\n"
     ]
    },
    {
     "data": {
      "text/plain": [
       "(-2, -2, -2, -3)"
      ]
     },
     "execution_count": 70,
     "metadata": {},
     "output_type": "execute_result"
    }
   ],
   "source": [
    "segTree = SegmentTree([-1, 2, 4, 0, -2, -3])\n",
    "segTree.min_query(0, 4), segTree.min_query(2, 4), segTree.min_query(3, 4), segTree.min_query(3, 5)"
   ]
  },
  {
   "cell_type": "code",
   "execution_count": 71,
   "metadata": {},
   "outputs": [],
   "source": [
    "from operator import add, mul"
   ]
  },
  {
   "cell_type": "code",
   "execution_count": 72,
   "metadata": {},
   "outputs": [],
   "source": [
    "class SegmentTreeGeneral:\n",
    "    \n",
    "    def __init__(self, array: List[int], operation: str) -> None:\n",
    "        \"\"\"\n",
    "        to generalize the implementation above\n",
    "        sum: 0\n",
    "        mul: 1\n",
    "        min: float(\"inf\")\n",
    "        max: -float(\"inf\")\n",
    "        \"\"\"\n",
    "        self.support = {\"sum\": (0, add), \"mul\": (1, mul), \\\n",
    "                        \"min\": (float(\"inf\"), min), \\\n",
    "                        \"max\": (-float(\"inf\"), max)}\n",
    "        assert operation in self.support\n",
    "        self.defaultVal = self.support[operation][0]\n",
    "        self.func = self.support[operation][1]\n",
    "        self.array = [array[i] if i < len(array) else self.defaultVal \\\n",
    "                      for i in range(self._get_next_power_of_two(len(array)))]\n",
    "        self.segTree = [self.defaultVal for i in range(2*len(self.array)-1)]\n",
    "        self._construct_tree(0, len(self.array)-1, 0)\n",
    "        print(\"*** successfully construct segment tree ***\")\n",
    "        print(\"*** array ***\")\n",
    "        print(self.array)\n",
    "        print(\"*** segment tree ***\")\n",
    "        print(self.segTree)\n",
    "    \n",
    "    \n",
    "    def query(self, qlow: int, qhigh: int) -> int:\n",
    "        return self._range_query(qlow, qhigh, 0, len(self.array)-1, 0)\n",
    "        \n",
    "    \n",
    "    def _get_next_power_of_two(self, n: int) -> int:\n",
    "        # this for power of 2\n",
    "        if n and not(n & (n - 1)):\n",
    "            return n\n",
    "        count = 0\n",
    "        while n != 0:\n",
    "            n >>= 1\n",
    "            count += 1\n",
    "        return 1 << count\n",
    "\n",
    "    \n",
    "    def _construct_tree(self, low: int, high: int, pos: int) -> None:\n",
    "        # leaf node condition\n",
    "        if low == high:\n",
    "            self.segTree[pos] = self.array[low]\n",
    "            return\n",
    "        mid = (low + high) // 2\n",
    "        self._construct_tree(low, mid, 2*pos+1)\n",
    "        self._construct_tree(mid + 1, high, 2*pos+2)\n",
    "        self.segTree[pos] = self.func(self.segTree[2*pos+1], self.segTree[2*pos+2])\n",
    "    \n",
    "    \n",
    "    def _range_query(self, qlow: int, qhigh: int, low: int, high: int, pos: int) -> int:\n",
    "        # total overlap\n",
    "        if qlow <= low and qhigh >= high:\n",
    "            return self.segTree[pos]\n",
    "        # no overlap\n",
    "        if qlow > high or qhigh < low:\n",
    "            return self.defaultVal\n",
    "        # partial overlap\n",
    "        mid = (low + high) // 2\n",
    "        return self.func(self._range_query(qlow, qhigh, low, mid, 2*pos+ 1),\\\n",
    "                         self._range_query(qlow, qhigh, mid+1, high, 2*pos+2))"
   ]
  },
  {
   "cell_type": "code",
   "execution_count": 73,
   "metadata": {},
   "outputs": [
    {
     "name": "stdout",
     "output_type": "stream",
     "text": [
      "*** successfully construct segment tree ***\n",
      "*** array ***\n",
      "[-1, 2, 4, 0]\n",
      "*** segment tree ***\n",
      "[5, 1, 4, -1, 2, 4, 0]\n"
     ]
    },
    {
     "data": {
      "text/plain": [
       "(5, 6, 4)"
      ]
     },
     "execution_count": 73,
     "metadata": {},
     "output_type": "execute_result"
    }
   ],
   "source": [
    "segTree = SegmentTreeGeneral([-1, 2, 4, 0], \"sum\")\n",
    "segTree.query(0, 3), segTree.query(1, 2), segTree.query(2, 3)"
   ]
  },
  {
   "cell_type": "code",
   "execution_count": 74,
   "metadata": {},
   "outputs": [
    {
     "name": "stdout",
     "output_type": "stream",
     "text": [
      "*** successfully construct segment tree ***\n",
      "*** array ***\n",
      "[-1, 2, 4, 0, -2, -3, 1, 1]\n",
      "*** segment tree ***\n",
      "[0, 0, 6, -2, 0, 6, 1, -1, 2, 4, 0, -2, -3, 1, 1]\n"
     ]
    },
    {
     "data": {
      "text/plain": [
       "(0, 0, 0, 0)"
      ]
     },
     "execution_count": 74,
     "metadata": {},
     "output_type": "execute_result"
    }
   ],
   "source": [
    "segTree = SegmentTreeGeneral([-1, 2, 4, 0, -2, -3], \"mul\")\n",
    "segTree.query(0, 4), segTree.query(2, 4), segTree.query(3, 4), segTree.query(3, 5)"
   ]
  },
  {
   "cell_type": "code",
   "execution_count": 75,
   "metadata": {},
   "outputs": [
    {
     "name": "stdout",
     "output_type": "stream",
     "text": [
      "*** successfully construct segment tree ***\n",
      "*** array ***\n",
      "[-1, 2, 4, 5, -2, -3, 1, 1]\n",
      "*** segment tree ***\n",
      "[-240, -40, 6, -2, 20, 6, 1, -1, 2, 4, 5, -2, -3, 1, 1]\n"
     ]
    },
    {
     "data": {
      "text/plain": [
       "(80, -40, -10, 30)"
      ]
     },
     "execution_count": 75,
     "metadata": {},
     "output_type": "execute_result"
    }
   ],
   "source": [
    "segTree = SegmentTreeGeneral([-1, 2, 4, 5, -2, -3], \"mul\")\n",
    "segTree.query(0, 4), segTree.query(2, 4), segTree.query(3, 4), segTree.query(3, 5)"
   ]
  },
  {
   "cell_type": "markdown",
   "metadata": {},
   "source": [
    "### lazy propagation for range update"
   ]
  },
  {
   "cell_type": "code",
   "execution_count": 78,
   "metadata": {},
   "outputs": [],
   "source": [
    "class SegmentTree:\n",
    "    \n",
    "    def __init__(self, array: List[int]) -> None:\n",
    "        \"\"\"\n",
    "        implement lazy propagation to incrementally update segment tree for minimum range query\n",
    "        the update is incremental (+) only, because max(elements + delta) = max(elements) + delta\n",
    "        that is the condition the update needs to meet to do lazy propagation\n",
    "        another case might be sum(elements * delta) = sum(elements) * delta\n",
    "        update function needs to be implemented from scratch and query function needs to be updated\n",
    "        \"\"\"\n",
    "        self.array = [array[i] if i < len(array) else float(\"inf\") \\\n",
    "                      for i in range(self._get_next_power_of_two(len(array)))]\n",
    "        self.segTree = [float(\"inf\") for i in range(2*len(self.array)-1)]\n",
    "        self.lazyTree = [0 for i in range(len(self.segTree))]\n",
    "        self._construct_tree(0, len(self.array)-1, 0)\n",
    "        print(\"*** successfully construct segment tree ***\")\n",
    "        print(\"*** array ***\")\n",
    "        print(self.array)\n",
    "        print(\"*** segment tree ***\")\n",
    "        print(self.segTree)\n",
    "    \n",
    "    \n",
    "    def min_query(self, qlow: int, qhigh: int) -> int:\n",
    "        return self._range_min_query_lazy(qlow, qhigh, 0, len(self.array)-1, 0)\n",
    "    \n",
    "    \n",
    "    def update(self, uplow: int, uphigh: int, delta: int) -> None:\n",
    "        self._range_update_lazy(uplow, uphigh, delta, 0, len(self.array)-1, 0)\n",
    "        \n",
    "    \n",
    "    def _get_next_power_of_two(self, n: int) -> int:\n",
    "        # this for power of 2\n",
    "        if n and not(n & (n - 1)):\n",
    "            return n\n",
    "        count = 0\n",
    "        while n != 0:\n",
    "            n >>= 1\n",
    "            count += 1\n",
    "        return 1 << count\n",
    "\n",
    "    \n",
    "    def _construct_tree(self, low: int, high: int, pos: int) -> None:\n",
    "        # leaf node condition\n",
    "        if low == high:\n",
    "            self.segTree[pos] = self.array[low]\n",
    "            return\n",
    "        mid = (low + high) // 2\n",
    "        self._construct_tree(low, mid, 2*pos+1)\n",
    "        self._construct_tree(mid+1, high, 2*pos+2)\n",
    "        self.segTree[pos] = min(self.segTree[2*pos+1], self.segTree[2*pos+2])\n",
    "    \n",
    "    \n",
    "    def _range_min_query_lazy(self, qlow: int, qhigh: int, low: int, high: int, pos: int) -> int:\n",
    "        # make sure the node is up-to-date and propagate lazily if needed\n",
    "        if self.lazyTree[pos] != 0:\n",
    "            self.segTree[pos] += self.lazyTree[pos]\n",
    "            # leaf node check\n",
    "            if low != high:\n",
    "                self.lazyTree[2*pos+1] += self.lazyTree[pos]\n",
    "                self.lazyTree[2*pos+2] += self.lazyTree[pos]\n",
    "            self.lazyTree[pos] = 0       \n",
    "        # total overlap\n",
    "        if qlow <= low and qhigh >= high:\n",
    "            return self.segTree[pos]\n",
    "        # no overlap\n",
    "        if qlow > high or qhigh < low:\n",
    "            return float(\"inf\")\n",
    "        # partial overlap\n",
    "        mid = (low + high) // 2\n",
    "        return min(self._range_min_query_lazy(qlow, qhigh, low, mid, 2*pos+1),\\\n",
    "                   self._range_min_query_lazy(qlow, qhigh, mid+1, high, 2*pos+2))\n",
    "    \n",
    "    def _range_update_lazy(self, uplow: int, uphigh: int, delta: int, low: int, high: int, pos: int) -> None:\n",
    "        # make sure all propagation is done at current node and propagate to children if needed\n",
    "        if self.lazyTree[pos] != 0:\n",
    "            self.segTree[pos] += self.lazyTree[pos]\n",
    "            # leaf node check\n",
    "            if low != high:\n",
    "                self.lazyTree[2*pos+1] += self.lazyTree[pos]\n",
    "                self.lazyTree[2*pos+2] += self.lazyTree[pos]\n",
    "            self.lazyTree[pos] = 0\n",
    "        # no overlap\n",
    "        if uplow > high or uphigh < low:\n",
    "            return\n",
    "        # total overlap, update current node and propagate lazily to children\n",
    "        if uplow <= low and uphigh >= high:\n",
    "            self.segTree[pos] += delta\n",
    "            if low != high:\n",
    "                self.lazyTree[2*pos+1] += delta\n",
    "                self.lazyTree[2*pos+2] += delta\n",
    "            return\n",
    "        # partial overlap\n",
    "        mid = (low + high) // 2\n",
    "        self._range_update_lazy(uplow, uphigh, delta, low, mid, 2*pos+1)\n",
    "        self._range_update_lazy(uplow, uphigh, delta, mid+1, high, 2*pos+2)\n",
    "        # after the update function is executed, the node at pos is up-to-date, this is important\n",
    "        self.segTree[pos] = min(self.segTree[2*pos+1], self.segTree[2*pos+2])"
   ]
  },
  {
   "cell_type": "code",
   "execution_count": 79,
   "metadata": {},
   "outputs": [
    {
     "name": "stdout",
     "output_type": "stream",
     "text": [
      "*** successfully construct segment tree ***\n",
      "*** array ***\n",
      "[-1, 2, 4, 1, 7, 1, 3, 2]\n",
      "*** segment tree ***\n",
      "[-1, -1, 1, -1, 1, 1, 2, -1, 2, 4, 1, 7, 1, 3, 2]\n"
     ]
    },
    {
     "data": {
      "text/plain": [
       "1"
      ]
     },
     "execution_count": 79,
     "metadata": {},
     "output_type": "execute_result"
    }
   ],
   "source": [
    "segTree = SegmentTree([-1, 2, 4, 1, 7, 1, 3, 2])\n",
    "segTree.update(0, 3, 3)\n",
    "segTree.update(0, 3, 1)\n",
    "segTree.update(0, 0, 2)\n",
    "segTree.min_query(3, 5)"
   ]
  },
  {
   "cell_type": "code",
   "execution_count": 80,
   "metadata": {},
   "outputs": [
    {
     "name": "stdout",
     "output_type": "stream",
     "text": [
      "*** successfully construct segment tree ***\n",
      "*** array ***\n",
      "[2, 3, -1, 4]\n",
      "*** segment tree ***\n",
      "[-1, 2, -1, 2, 3, -1, 4]\n"
     ]
    },
    {
     "data": {
      "text/plain": [
       "5"
      ]
     },
     "execution_count": 80,
     "metadata": {},
     "output_type": "execute_result"
    }
   ],
   "source": [
    "segTree = SegmentTree([2, 3, -1, 4])\n",
    "segTree.update(0, 3, 2)\n",
    "segTree.update(2, 2, 4)\n",
    "segTree.min_query(1, 2)"
   ]
  },
  {
   "cell_type": "markdown",
   "metadata": {},
   "source": [
    "## 307. Range Sum Query - Mutable"
   ]
  },
  {
   "cell_type": "markdown",
   "metadata": {},
   "source": [
    "### self-written solution, passed all tests, but a bit slow"
   ]
  },
  {
   "cell_type": "code",
   "execution_count": 89,
   "metadata": {},
   "outputs": [],
   "source": [
    "class SegmentTreeSum:\n",
    "    \n",
    "    def __init__(self, array: List[int]) -> None:\n",
    "        \"\"\"\n",
    "        no lazy propagation update\n",
    "        \"\"\"\n",
    "        self.array = [array[i] if i < len(array) else 0 \\\n",
    "                      for i in range(self._get_next_power_of_two(len(array)))]\n",
    "        self.segTree = [0 for i in range(2*len(self.array)-1)]\n",
    "        self._construct_tree(0, len(self.array)-1, 0)\n",
    "    \n",
    "    \n",
    "    def sum_query(self, qlow: int, qhigh: int) -> int:\n",
    "        return self._range_sum_query(qlow, qhigh, 0, len(self.array)-1, 0)\n",
    "    \n",
    "    def update(self, index: int, val: int) -> int:\n",
    "        self._update_single(index, val-self.array[index], 0, len(self.array)-1, 0)\n",
    "        self.array[index] = val\n",
    "        \n",
    "    \n",
    "    def _get_next_power_of_two(self, n: int) -> int:\n",
    "        # this for power of 2\n",
    "        if n and not(n & (n - 1)):\n",
    "            return n\n",
    "        count = 0\n",
    "        while n != 0:\n",
    "            n >>= 1\n",
    "            count += 1\n",
    "        return 1 << count\n",
    "\n",
    "    \n",
    "    def _construct_tree(self, low: int, high: int, pos: int) -> None:\n",
    "        # leaf node condition\n",
    "        if low == high:\n",
    "            self.segTree[pos] = self.array[low]\n",
    "            return\n",
    "        mid = (low + high) // 2\n",
    "        self._construct_tree(low, mid, 2*pos+1)\n",
    "        self._construct_tree(mid+1, high, 2*pos+2)\n",
    "        self.segTree[pos] = self.segTree[2*pos+1] + self.segTree[2*pos+2]\n",
    "    \n",
    "    \n",
    "    def _range_sum_query(self, qlow: int, qhigh: int, low: int, high: int, pos: int) -> int:\n",
    "        # total overlap\n",
    "        if qlow <= low and qhigh >= high:\n",
    "            return self.segTree[pos]\n",
    "        # no overlap\n",
    "        if qlow > high or qhigh < low:\n",
    "            return 0\n",
    "        # partial overlap\n",
    "        mid = (low + high) // 2\n",
    "        return self._range_sum_query(qlow, qhigh, low, mid, 2*pos+1) + \\\n",
    "               self._range_sum_query(qlow, qhigh, mid+1, high, 2*pos+2)\n",
    "    \n",
    "    \n",
    "    def _update_single(self, index: int, delta: int, low: int, high: int, pos: int) -> None:\n",
    "        self.segTree[pos] += delta\n",
    "        # leaf node check\n",
    "        if low != high:\n",
    "            mid = (low + high) // 2\n",
    "            if low <= index <= mid:\n",
    "                self._update_single(index, delta, low, mid, 2*pos+1)\n",
    "            else:\n",
    "                self._update_single(index, delta, mid+1, high, 2*pos+2)"
   ]
  },
  {
   "cell_type": "code",
   "execution_count": 90,
   "metadata": {},
   "outputs": [],
   "source": [
    "class NumArray:\n",
    "\n",
    "    def __init__(self, nums: List[int]):\n",
    "        self.segTree = SegmentTreeSum(nums)\n",
    "        \n",
    "\n",
    "    def update(self, index: int, val: int) -> None:\n",
    "        self.segTree.update(index, val)\n",
    "        \n",
    "\n",
    "    def sumRange(self, left: int, right: int) -> int:\n",
    "        return self.segTree.sum_query(left, right)"
   ]
  },
  {
   "cell_type": "code",
   "execution_count": 91,
   "metadata": {},
   "outputs": [
    {
     "name": "stdout",
     "output_type": "stream",
     "text": [
      "9\n",
      "8\n"
     ]
    }
   ],
   "source": [
    "numArray = NumArray([1, 3, 5])\n",
    "print(numArray.sumRange(0, 2)) # return 1 + 3 + 5 = 9\n",
    "numArray.update(1, 2) # nums = [1, 2, 5]\n",
    "print(numArray.sumRange(0, 2)) # return 1 + 2 + 5 = 8"
   ]
  },
  {
   "cell_type": "markdown",
   "metadata": {},
   "source": [
    "### self-written bottom-up iterative approach for range query and single update after checking solution"
   ]
  },
  {
   "cell_type": "code",
   "execution_count": 94,
   "metadata": {},
   "outputs": [],
   "source": [
    "class NumArray:\n",
    "\n",
    "    def __init__(self, nums: List[int]):\n",
    "        \"\"\"\n",
    "        the trick is leave the first element in segment tree empty\n",
    "        then the left and right child would be 2*pos and 2*pos+1\n",
    "        parent would be pos // 2\n",
    "        \"\"\"\n",
    "        self.length = n = len(nums)\n",
    "        self.segTree = [0] * (2*n)\n",
    "        # fill in leaf nodes first\n",
    "        for i in range(n, 2*n):\n",
    "            self.segTree[i] = nums[i-n]\n",
    "        # fill in parent nodes bottom-up\n",
    "        for j in range(n-1, 0, -1):\n",
    "            self.segTree[j] = self.segTree[2*j] + self.segTree[2*j+1]\n",
    "\n",
    "        \n",
    "    # two approach here\n",
    "    def _update_1(self, index: int, val: int) -> None:\n",
    "        # this approach tells us how to identify right/left child and is more general\n",
    "        pos = index + self.length\n",
    "        self.segTree[pos] = val\n",
    "        while pos > 1:\n",
    "            if pos % 2 == 0:\n",
    "                left, right = pos, pos+1\n",
    "            else:\n",
    "                left, right = pos-1, pos\n",
    "            # update parent \n",
    "            self.segTree[pos//2] = self.segTree[left] + self.segTree[right]\n",
    "            pos //= 2  \n",
    "            \n",
    "    \n",
    "    def _update_2(self, index: int, val: int) -> None:\n",
    "        # special approach for this question\n",
    "        pos = index + self.length\n",
    "        delta = val - self.segTree[pos]\n",
    "        while pos > 0:\n",
    "            # update current\n",
    "            self.segTree[pos] += delta\n",
    "            pos //= 2    \n",
    "        \n",
    "    \n",
    "    def update(self, index: int, val: int) -> None: \n",
    "        return self._update_2(index, val)\n",
    "    \n",
    "    # this is really genius!!! Can't fully understand\n",
    "    def sumRange(self, left: int, right: int) -> int:\n",
    "        \"\"\"\n",
    "        the idea here is to shrink [left, right] iteratively to fully cover the range\n",
    "        the details can refer to http://codeforces.com/blog/entry/18051\n",
    "        \"\"\"\n",
    "        left += self.length\n",
    "        right += self.length\n",
    "        ret = 0\n",
    "        while left <= right:\n",
    "            if left % 2 == 1:\n",
    "                ret += self.segTree[left]\n",
    "                left += 1\n",
    "            if right % 2 == 0:\n",
    "                ret += self.segTree[right]\n",
    "                right -= 1\n",
    "            left //= 2\n",
    "            right //= 2\n",
    "        return ret"
   ]
  },
  {
   "cell_type": "code",
   "execution_count": 95,
   "metadata": {},
   "outputs": [
    {
     "name": "stdout",
     "output_type": "stream",
     "text": [
      "9\n",
      "8\n"
     ]
    }
   ],
   "source": [
    "numArray = NumArray([1, 3, 5])\n",
    "print(numArray.sumRange(0, 2)) # return 1 + 3 + 5 = 9\n",
    "numArray.update(1, 2) # nums = [1, 2, 5]\n",
    "print(numArray.sumRange(0, 2)) # return 1 + 2 + 5 = 8"
   ]
  },
  {
   "cell_type": "markdown",
   "metadata": {},
   "source": [
    "## 303. Range Sum Query - Immutable"
   ]
  },
  {
   "cell_type": "markdown",
   "metadata": {},
   "source": [
    "### self-written solution"
   ]
  },
  {
   "cell_type": "code",
   "execution_count": 99,
   "metadata": {},
   "outputs": [],
   "source": [
    "class NumArray:\n",
    "\n",
    "    def __init__(self, nums: List[int]):\n",
    "        self.cumsum = [0] * (len(nums)+1)\n",
    "        for i in range(len(nums)):\n",
    "            self.cumsum[i+1] = self.cumsum[i] + nums[i]\n",
    "\n",
    "    def sumRange(self, left: int, right: int) -> int:\n",
    "        return self.cumsum[right+1] - self.cumsum[left]"
   ]
  },
  {
   "cell_type": "code",
   "execution_count": 101,
   "metadata": {},
   "outputs": [
    {
     "name": "stdout",
     "output_type": "stream",
     "text": [
      "1\n",
      "-1\n",
      "-3\n"
     ]
    }
   ],
   "source": [
    "numArray = NumArray([-2, 0, 3, -5, 2, -1])\n",
    "print(numArray.sumRange(0, 2)) # return (-2) + 0 + 3 = 1\n",
    "print(numArray.sumRange(2, 5)) # return 3 + (-5) + 2 + (-1) = -1\n",
    "print(numArray.sumRange(0, 5)) # return (-2) + 0 + 3 + (-5) + 2 + (-1) = -3"
   ]
  },
  {
   "cell_type": "markdown",
   "metadata": {},
   "source": [
    "## 218. The Skyline Problem"
   ]
  },
  {
   "cell_type": "markdown",
   "metadata": {},
   "source": [
    "### self-written priority queue solution after watching YouTube video and checking solution in discussion area"
   ]
  },
  {
   "cell_type": "code",
   "execution_count": 103,
   "metadata": {},
   "outputs": [],
   "source": [
    "import heapq\n",
    "from collections import defaultdict"
   ]
  },
  {
   "cell_type": "code",
   "execution_count": 107,
   "metadata": {},
   "outputs": [],
   "source": [
    "class Solution218:\n",
    "    def getSkyline(self, buildings: List[List[int]]) -> List[List[int]]:\n",
    "        \"\"\"\n",
    "        ideally the process runs as following:\n",
    "        for each point:\n",
    "            add new buildings starting at point\n",
    "            remove old buildings ending at point\n",
    "            check the currently highest building\n",
    "        however priority queue doesn't support removing operation\n",
    "        the workaround is to remove the high buildings ending at the point that will affect the skyline,\n",
    "        and leave those lower buildings (which doesn't affect the skyline yet) in the priority queue\n",
    "        \"\"\"\n",
    "        # points of interests\n",
    "        points = sorted(set([b[0] for b in buildings] + [b[1] for b in buildings]))\n",
    "        point2building = defaultdict(list)\n",
    "        for b in buildings:\n",
    "            point2building[b[0]].append(b)\n",
    "        skyline_tracker = []\n",
    "        last_highest = 0\n",
    "        res = []\n",
    "        for point in points:\n",
    "            # add buildings, negate cause heapq is a minimum queue\n",
    "            for b in point2building[point]:\n",
    "                _, end, height = b\n",
    "                heapq.heappush(skyline_tracker, (-height, end)) # end is just for records\n",
    "            # pop tall buildings, <= is because of the workaround (otherwise == is enough)\n",
    "            while skyline_tracker and skyline_tracker[0][1] <= point:\n",
    "                heapq.heappop(skyline_tracker)\n",
    "            # important: heap root is at [0]\n",
    "            curr_highest = -skyline_tracker[0][0] if skyline_tracker else 0\n",
    "            if last_highest != curr_highest:\n",
    "                res.append([point, curr_highest])\n",
    "                last_highest = curr_highest\n",
    "        return res"
   ]
  },
  {
   "cell_type": "code",
   "execution_count": 108,
   "metadata": {},
   "outputs": [
    {
     "data": {
      "text/plain": [
       "[[2, 10], [3, 15], [7, 12], [12, 0], [15, 10], [20, 8], [24, 0]]"
      ]
     },
     "execution_count": 108,
     "metadata": {},
     "output_type": "execute_result"
    }
   ],
   "source": [
    "solver_218 = Solution218()\n",
    "solver_218.getSkyline([[2,9,10],[3,7,15],[5,12,12],[15,20,10],[19,24,8]])"
   ]
  },
  {
   "cell_type": "code",
   "execution_count": 109,
   "metadata": {},
   "outputs": [
    {
     "data": {
      "text/plain": [
       "[[0, 3], [5, 0]]"
      ]
     },
     "execution_count": 109,
     "metadata": {},
     "output_type": "execute_result"
    }
   ],
   "source": [
    "solver_218 = Solution218()\n",
    "solver_218.getSkyline([[0,2,3],[2,5,3]])"
   ]
  },
  {
   "cell_type": "markdown",
   "metadata": {},
   "source": [
    "### self-translated iterative approach for range update without lazy propagation and single query"
   ]
  },
  {
   "cell_type": "markdown",
   "metadata": {},
   "source": [
    "#### many bitwise tricks learned from the post"
   ]
  },
  {
   "cell_type": "code",
   "execution_count": 137,
   "metadata": {},
   "outputs": [],
   "source": [
    "class SegmentTreeMax:\n",
    "    \n",
    "    def __init__(self, length: int) -> None:\n",
    "        \"\"\"\n",
    "        without initializing\n",
    "        support range update and single query\n",
    "        [left, right) implementation\n",
    "        refer to http://codeforces.com/blog/entry/18051\n",
    "        \"\"\"\n",
    "        self.segTree = [0 for _ in range(2*length)]\n",
    "        self.length = length\n",
    "    \n",
    "    def range_update(self, left, right, value):\n",
    "        left += self.length\n",
    "        right += self.length\n",
    "        while left < right:\n",
    "            if left & 1:\n",
    "                self.segTree[left] = max(self.segTree[left], value)\n",
    "                left += 1\n",
    "            if right & 1:\n",
    "                right -= 1\n",
    "                self.segTree[right] = max(self.segTree[right], value)\n",
    "            left >>= 1\n",
    "            right >>= 1\n",
    "    \n",
    "    def query_single(self, index):\n",
    "        res = 0\n",
    "        index += self.length\n",
    "        while index > 0:\n",
    "            res = max(res, self.segTree[index])\n",
    "            index >>= 1\n",
    "        return res\n",
    "    \n",
    "    def push(self):\n",
    "        for i in range(1, self.length):\n",
    "            self.segTree[i<<1] = max(self.segTree[i<<1], self.segTree[i])\n",
    "            self.segTree[i<<1|1] = max(self.segTree[i<<1|1], self.segTree[i])\n",
    "            self.segTree[i] = 0"
   ]
  },
  {
   "cell_type": "markdown",
   "metadata": {},
   "source": [
    "### self-written segment tree solution"
   ]
  },
  {
   "cell_type": "code",
   "execution_count": 140,
   "metadata": {},
   "outputs": [],
   "source": [
    "class Solution218:\n",
    "    def getSkyline(self, buildings: List[List[int]]) -> List[List[int]]:\n",
    "        # points of interests\n",
    "        points = sorted(set([b[0] for b in buildings] + [b[1] for b in buildings]))\n",
    "        point2idx = {point: idx for idx, point in enumerate(points)}\n",
    "        segment_tree = SegmentTreeMax(len(points))\n",
    "        for start, end, height in buildings:\n",
    "            # important that we should not take end into account of the skyline (take one building as an example)\n",
    "            # the update here is open interval\n",
    "            segment_tree.range_update(point2idx[start], point2idx[end], height)\n",
    "#         # the update is not pushed to leaf layer yet\n",
    "#         print(segment_tree.segTree[-len(points):])\n",
    "#         segment_tree.push()\n",
    "#         print(segment_tree.segTree[-len(points):])\n",
    "        res = []\n",
    "        last_highest = 0\n",
    "        for idx, point in enumerate(points):\n",
    "            curr_highest = segment_tree.query_single(idx)\n",
    "            if last_highest != curr_highest:\n",
    "                res.append([point, curr_highest])\n",
    "                last_highest = curr_highest\n",
    "        return res"
   ]
  },
  {
   "cell_type": "code",
   "execution_count": 141,
   "metadata": {},
   "outputs": [
    {
     "data": {
      "text/plain": [
       "[[2, 10], [3, 15], [7, 12], [12, 0], [15, 10], [20, 8], [24, 0]]"
      ]
     },
     "execution_count": 141,
     "metadata": {},
     "output_type": "execute_result"
    }
   ],
   "source": [
    "solver_218 = Solution218()\n",
    "solver_218.getSkyline([[2,9,10],[3,7,15],[5,12,12],[15,20,10],[19,24,8]])"
   ]
  },
  {
   "cell_type": "code",
   "execution_count": 142,
   "metadata": {},
   "outputs": [
    {
     "data": {
      "text/plain": [
       "[[0, 3], [5, 0]]"
      ]
     },
     "execution_count": 142,
     "metadata": {},
     "output_type": "execute_result"
    }
   ],
   "source": [
    "solver_218 = Solution218()\n",
    "solver_218.getSkyline([[0,2,3],[2,5,3]])"
   ]
  },
  {
   "cell_type": "markdown",
   "metadata": {},
   "source": [
    "### self-written recursive segment tree solution with lazy propagation, slow but passed all tests"
   ]
  },
  {
   "cell_type": "code",
   "execution_count": 174,
   "metadata": {},
   "outputs": [],
   "source": [
    "class SegmentTreeMax:\n",
    "    \n",
    "    def __init__(self, length: int) -> None:\n",
    "        self.length = length\n",
    "        self.segTree = [0 for i in range(2*self._get_next_power_of_two(length)-1)]\n",
    "        self.lazyTree = [0 for i in range(len(self.segTree))]\n",
    "    \n",
    "    \n",
    "    def query_single(self, index: int) -> int:\n",
    "        return self._single_max_query_lazy(index, 0, self.length-1, 0)\n",
    "    \n",
    "    \n",
    "    def range_update(self, uplow: int, uphigh: int, val: int) -> None:\n",
    "        self._range_update_lazy(uplow, uphigh, val, 0, self.length-1, 0)\n",
    "        \n",
    "    \n",
    "    def _get_next_power_of_two(self, n: int) -> int:\n",
    "        # this for power of 2\n",
    "        if n and not(n & (n - 1)):\n",
    "            return n\n",
    "        count = 0\n",
    "        while n != 0:\n",
    "            n >>= 1\n",
    "            count += 1\n",
    "        return 1 << count\n",
    "    \n",
    "    \n",
    "    def _single_max_query_lazy(self, index: int, low: int, high: int, pos: int) -> int:\n",
    "        # make sure the node is up-to-date and propagate lazily if needed\n",
    "        if self.lazyTree[pos] != 0:\n",
    "            self.segTree[pos] = max(self.segTree[pos], self.lazyTree[pos])\n",
    "            # leaf node check\n",
    "            if low != high:\n",
    "                self.lazyTree[2*pos+1] = max(self.lazyTree[2*pos+1], self.lazyTree[pos])\n",
    "                self.lazyTree[2*pos+2] = max(self.lazyTree[2*pos+2], self.lazyTree[pos])\n",
    "            self.lazyTree[pos] = 0\n",
    "        # reach the leaf\n",
    "        if low == high:\n",
    "            return self.segTree[pos]\n",
    "        # partial overlap\n",
    "        mid = (low + high) // 2\n",
    "        if index <= mid:\n",
    "            return self._single_max_query_lazy(index, low, mid, 2*pos+1)\n",
    "        return self._single_max_query_lazy(index, mid+1, high, 2*pos+2)\n",
    "    \n",
    "    def _range_update_lazy(self, uplow: int, uphigh: int, val: int, low: int, high: int, pos: int) -> None:\n",
    "        # make sure all propagation is done at current node and propagate to children if needed\n",
    "        if self.lazyTree[pos] != 0:\n",
    "            self.segTree[pos] = max(self.segTree[pos], self.lazyTree[pos])\n",
    "            # leaf node check\n",
    "            if low != high:\n",
    "                self.lazyTree[2*pos+1] = max(self.lazyTree[2*pos+1], self.lazyTree[pos])\n",
    "                self.lazyTree[2*pos+2] = max(self.lazyTree[2*pos+2], self.lazyTree[pos])\n",
    "            self.lazyTree[pos] = 0\n",
    "        # no overlap\n",
    "        if uplow > high or uphigh < low:\n",
    "            return\n",
    "        # total overlap, update current node and propagate lazily to children\n",
    "        if uplow <= low and uphigh >= high:\n",
    "            self.segTree[pos] = max(self.segTree[pos], val)\n",
    "            if low != high:\n",
    "                self.lazyTree[2*pos+1] = max(self.lazyTree[2*pos+1], val)\n",
    "                self.lazyTree[2*pos+2] = max(self.lazyTree[2*pos+2], val)\n",
    "            return\n",
    "        # partial overlap\n",
    "        mid = (low + high) // 2\n",
    "        self._range_update_lazy(uplow, uphigh, val, low, mid, 2*pos+1)\n",
    "        self._range_update_lazy(uplow, uphigh, val, mid+1, high, 2*pos+2)\n",
    "        # after the update function is executed, the node at pos is up-to-date, this is important\n",
    "        self.segTree[pos] = max(self.segTree[2*pos+1], self.segTree[2*pos+2])"
   ]
  },
  {
   "cell_type": "code",
   "execution_count": 175,
   "metadata": {},
   "outputs": [],
   "source": [
    "class Solution218:\n",
    "    def getSkyline(self, buildings: List[List[int]]) -> List[List[int]]:\n",
    "        # points of interests\n",
    "        points = sorted(set([b[0] for b in buildings] + [b[1] for b in buildings]))\n",
    "        point2idx = {point: idx for idx, point in enumerate(points)}\n",
    "        segment_tree = SegmentTreeMax(len(points))\n",
    "        for start, end, height in buildings:\n",
    "            # the update here is closed interval\n",
    "            segment_tree.range_update(point2idx[start], point2idx[end]-1, height)\n",
    "        res = []\n",
    "        last_highest = 0\n",
    "        for idx, point in enumerate(points):\n",
    "            curr_highest = segment_tree.query_single(idx)\n",
    "            if last_highest != curr_highest:\n",
    "                res.append([point, curr_highest])\n",
    "                last_highest = curr_highest\n",
    "        return res"
   ]
  },
  {
   "cell_type": "code",
   "execution_count": 176,
   "metadata": {},
   "outputs": [
    {
     "data": {
      "text/plain": [
       "[[2, 10], [3, 15], [7, 12], [12, 0], [15, 10], [20, 8], [24, 0]]"
      ]
     },
     "execution_count": 176,
     "metadata": {},
     "output_type": "execute_result"
    }
   ],
   "source": [
    "solver_218 = Solution218()\n",
    "solver_218.getSkyline([[2,9,10],[3,7,15],[5,12,12],[15,20,10],[19,24,8]])"
   ]
  },
  {
   "cell_type": "code",
   "execution_count": 177,
   "metadata": {},
   "outputs": [
    {
     "data": {
      "text/plain": [
       "[[0, 3], [5, 0]]"
      ]
     },
     "execution_count": 177,
     "metadata": {},
     "output_type": "execute_result"
    }
   ],
   "source": [
    "solver_218 = Solution218()\n",
    "solver_218.getSkyline([[0,2,3],[2,5,3]])"
   ]
  },
  {
   "cell_type": "markdown",
   "metadata": {},
   "source": [
    "## 850. Rectangle Area II"
   ]
  },
  {
   "cell_type": "markdown",
   "metadata": {},
   "source": [
    "### self-writtenn line sweep solution after checking answers"
   ]
  },
  {
   "cell_type": "code",
   "execution_count": null,
   "metadata": {},
   "outputs": [],
   "source": [
    "class Solution850:\n",
    "    def rectangleArea(self, rectangles: List[List[int]]) -> int:\n",
    "        \"\"\"\n",
    "        vertical line sweep horizontally\n",
    "        \"\"\"\n",
    "        START, END = 0, 1\n",
    "        intervals = [(x1, START, y1, y2) for x1, y1, x2, y2 in rectangles]\n",
    "        intervals.extend([(x2, END, y1, y2) for x1, y1, x2, y2 in rectangles])\n",
    "        intervals.sort()\n",
    "        active_intervals, area, prev_x = [], 0, inntervals[0][0]\n",
    "        for x, flag, y1, y2 in intervals:\n",
    "            if x != prev_x:\n",
    "            if flag == START:\n",
    "                intervals.append((y1, y2))"
   ]
  }
 ],
 "metadata": {
  "kernelspec": {
   "display_name": "Python 3",
   "language": "python",
   "name": "python3"
  },
  "language_info": {
   "codemirror_mode": {
    "name": "ipython",
    "version": 3
   },
   "file_extension": ".py",
   "mimetype": "text/x-python",
   "name": "python",
   "nbconvert_exporter": "python",
   "pygments_lexer": "ipython3",
   "version": "3.7.1"
  }
 },
 "nbformat": 4,
 "nbformat_minor": 2
}
