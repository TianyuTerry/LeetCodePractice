{
 "cells": [
  {
   "cell_type": "markdown",
   "metadata": {},
   "source": [
    "## 208. Implement Trie (Prefix Tree)"
   ]
  },
  {
   "cell_type": "markdown",
   "metadata": {},
   "source": [
    "### self-written solution after checking answers"
   ]
  },
  {
   "cell_type": "code",
   "execution_count": 1,
   "metadata": {},
   "outputs": [],
   "source": [
    "class TrieNode:\n",
    "    \n",
    "    charSize = 26\n",
    "    \n",
    "    def __init__(self):\n",
    "        self.links = [None] * TrieNode.charSize\n",
    "        self.isEnd_ = False\n",
    "\n",
    "    def containsKey(self, char):\n",
    "        return self.links[ord(char) - ord('a')] is not None\n",
    "    \n",
    "    def get(self, char):\n",
    "        return self.links[ord(char) -ord('a')]\n",
    "    \n",
    "    def put(self, char, node):\n",
    "        self.links[ord(char) - ord('a')] = node\n",
    "    \n",
    "    def setEnd(self):\n",
    "        self.isEnd_ = True\n",
    "    \n",
    "    def isEnd(self):\n",
    "        return self.isEnd_\n",
    "\n",
    "    \n",
    "class Trie:\n",
    "\n",
    "    def __init__(self):\n",
    "        \"\"\"\n",
    "        Initialize your data structure here.\n",
    "        \"\"\"\n",
    "        self.root = TrieNode()\n",
    "\n",
    "    def insert(self, word: str) -> None:\n",
    "        \"\"\"\n",
    "        Inserts a word into the trie.\n",
    "        \"\"\"\n",
    "        node = self.root\n",
    "        for char in word:\n",
    "            if not node.containsKey(char):\n",
    "                node.put(char, TrieNode())\n",
    "            node = node.get(char)\n",
    "        node.setEnd()\n",
    "\n",
    "    def search(self, word: str) -> bool:\n",
    "        \"\"\"\n",
    "        Returns if the word is in the trie.\n",
    "        \"\"\"\n",
    "        node = self.root\n",
    "        for char in word:\n",
    "            if node.containsKey(char):\n",
    "                node = node.get(char)\n",
    "            else:\n",
    "                return False\n",
    "        return node.isEnd()\n",
    "\n",
    "    def startsWith(self, prefix: str) -> bool:\n",
    "        \"\"\"\n",
    "        Returns if there is any word in the trie that starts with the given prefix.\n",
    "        \"\"\"\n",
    "        node = self.root\n",
    "        for char in prefix:\n",
    "            if node.containsKey(char):\n",
    "                node = node.get(char)\n",
    "            else:\n",
    "                return False\n",
    "        return True"
   ]
  },
  {
   "cell_type": "markdown",
   "metadata": {},
   "source": [
    "### self-written solution (faster and simpler)"
   ]
  },
  {
   "cell_type": "code",
   "execution_count": 2,
   "metadata": {},
   "outputs": [],
   "source": [
    "class Trie:\n",
    "\n",
    "    def __init__(self):\n",
    "        \"\"\"\n",
    "        Initialize your data structure here.\n",
    "        \"\"\"\n",
    "        self.root = {}\n",
    "\n",
    "    def insert(self, word: str) -> None:\n",
    "        \"\"\"\n",
    "        Inserts a word into the trie.\n",
    "        \"\"\"\n",
    "        node = self.root\n",
    "        for char in word:\n",
    "            if char not in node:\n",
    "                node[char] = {}\n",
    "            node = node.get(char)\n",
    "        node['#'] = True # True is not important here actually\n",
    "\n",
    "    def search(self, word: str) -> bool:\n",
    "        \"\"\"\n",
    "        Returns if the word is in the trie.\n",
    "        \"\"\"\n",
    "        node = self.root\n",
    "        for char in word:\n",
    "            if char in node:\n",
    "                node = node.get(char)\n",
    "            else:\n",
    "                return False\n",
    "        return '#' in node\n",
    "\n",
    "    def startsWith(self, prefix: str) -> bool:\n",
    "        \"\"\"\n",
    "        Returns if there is any word in the trie that starts with the given prefix.\n",
    "        \"\"\"\n",
    "        node = self.root\n",
    "        for char in prefix:\n",
    "            if char in node:\n",
    "                node = node.get(char)\n",
    "            else:\n",
    "                return False\n",
    "        return True"
   ]
  },
  {
   "cell_type": "markdown",
   "metadata": {},
   "source": [
    "## 146. LRU (Least Recently Used) Cache"
   ]
  },
  {
   "cell_type": "markdown",
   "metadata": {},
   "source": [
    "### self-written solution after checking answers"
   ]
  },
  {
   "cell_type": "code",
   "execution_count": 33,
   "metadata": {},
   "outputs": [],
   "source": [
    "# need two structures: linked list and hashmap\n",
    "# hashmap linked key to node and linked list perform O(1) eviction and O(1) insertion\n",
    "# key -> node enables fast insertion and eviction\n",
    "\n",
    "class DLinkedNode: \n",
    "    \n",
    "    def __init__(self):\n",
    "        self.key = 0\n",
    "        self.value = 0\n",
    "        self.prev = None\n",
    "        self.next = None\n",
    "\n",
    "class LRUCache:\n",
    "\n",
    "    def __init__(self, capacity: int): # important that capacity > 0\n",
    "        self.cache = {} # key -> node\n",
    "        self.capacity = capacity\n",
    "        self.size = 0\n",
    "        # initialize two dummy nodes for easy eviction and insertion\n",
    "        self.head, self.tail = DLinkedNode(), DLinkedNode()\n",
    "        # add linkds between head and tail\n",
    "        self.head.next = self.tail\n",
    "        self.tail.prev = self.head\n",
    "    \n",
    "    def _remove_node(self, node):\n",
    "        prev_node = node.prev\n",
    "        next_node = node.next\n",
    "        prev_node.next = next_node\n",
    "        next_node.prev = prev_node\n",
    "    \n",
    "    def _add_node(self, node):\n",
    "        # always add node right after head\n",
    "        node.next = self.head.next\n",
    "        self.head.next.prev = node\n",
    "        \n",
    "        self.head.next = node\n",
    "        node.prev = self.head\n",
    "        \n",
    "    # eviction\n",
    "    def _pop_tail(self):\n",
    "        # need to return key value of the least recently used key to update hashmap\n",
    "        node_to_be_popped = self.tail.prev\n",
    "        self._remove_node(node_to_be_popped)\n",
    "        return node_to_be_popped.key\n",
    "    \n",
    "    def _move_to_head(self, node):\n",
    "        self._remove_node(node)\n",
    "        self._add_node(node)      \n",
    "\n",
    "    def get(self, key: int) -> int:\n",
    "        # can't simply use return -1 if key nnot in self.cache else self.cache[key].value\n",
    "        # need to update order\n",
    "        if key not in self.cache:\n",
    "            return -1  \n",
    "        else:\n",
    "            node = self.cache[key]\n",
    "            self._move_to_head(node)\n",
    "            return node.value\n",
    "\n",
    "    def put(self, key: int, value: int) -> None:\n",
    "        if key in self.cache:\n",
    "            node = self.cache[key]\n",
    "            node.value = value\n",
    "            self._move_to_head(node)\n",
    "        else:\n",
    "            node = DLinkedNode()\n",
    "            node.key = key\n",
    "            node.value = value\n",
    "            if self.size == self.capacity:\n",
    "                removed_key = self._pop_tail()\n",
    "#                 print(removed_key)\n",
    "                del self.cache[removed_key]\n",
    "                self.size -= 1\n",
    "            self._add_node(node)\n",
    "            self.cache[key] = node\n",
    "            self.size += 1\n",
    "#         print(self.cache.keys())"
   ]
  },
  {
   "cell_type": "code",
   "execution_count": 34,
   "metadata": {},
   "outputs": [
    {
     "name": "stdout",
     "output_type": "stream",
     "text": [
      "1\n",
      "-1\n",
      "-1\n",
      "3\n",
      "4\n"
     ]
    }
   ],
   "source": [
    "lRUCache = LRUCache(2)\n",
    "lRUCache.put(1, 1) # cache is {1=1}\n",
    "lRUCache.put(2, 2) # cache is {1=1, 2=2}\n",
    "print(lRUCache.get(1)) # return 1\n",
    "lRUCache.put(3, 3), # LRU key was 2, evicts key 2, cache is {1=1, 3=3}\n",
    "print(lRUCache.get(2)) # returns -1 (not found)\n",
    "lRUCache.put(4, 4) # LRU key was 1, evicts key 1, cache is {4=4, 3=3}\n",
    "print(lRUCache.get(1)) # return -1 (not found)\n",
    "print(lRUCache.get(3)) # return 3\n",
    "print(lRUCache.get(4)) # return 4"
   ]
  },
  {
   "cell_type": "markdown",
   "metadata": {},
   "source": [
    "## 353. Design Snake Game"
   ]
  },
  {
   "cell_type": "markdown",
   "metadata": {},
   "source": [
    "### self-written solution"
   ]
  },
  {
   "cell_type": "code",
   "execution_count": 48,
   "metadata": {},
   "outputs": [],
   "source": [
    "from typing import List, Tuple"
   ]
  },
  {
   "cell_type": "code",
   "execution_count": 75,
   "metadata": {},
   "outputs": [],
   "source": [
    "from collections import deque\n",
    "\n",
    "# this implementation is quite easy and straightforward\n",
    "# hashset to check existence and queue to perform O(1) append and pop\n",
    "class SnakeGame:\n",
    "\n",
    "    def __init__(self, width: int, height: int, food: List[List[int]]):\n",
    "        self.score = 0\n",
    "        self.curr_pos = (0, 0)\n",
    "        self.food_index = 0\n",
    "        self.queue = deque()\n",
    "        self.hashset = set()\n",
    "        self.width = width\n",
    "        self.height = height\n",
    "        self.food = [(x, y) for x, y in food]\n",
    "    \n",
    "    def _get_next_pos(self, direction: str) -> Tuple[int]:\n",
    "        if direction == \"R\":\n",
    "            return (self.curr_pos[0], self.curr_pos[1] + 1)\n",
    "        elif direction == \"L\":\n",
    "            return (self.curr_pos[0], self.curr_pos[1] - 1)\n",
    "        elif direction == \"U\":\n",
    "            return (self.curr_pos[0] - 1, self.curr_pos[1])\n",
    "        elif direction == \"D\":\n",
    "            return (self.curr_pos[0] + 1, self.curr_pos[1])\n",
    "        return -1, -1\n",
    "    \n",
    "    def _is_valid_pos(self, pos: Tuple[int]) -> bool:\n",
    "        return (0 <= pos[0] <= (self.height - 1)) and \\\n",
    "               (0 <= pos[1] <= (self.width - 1)) and \\\n",
    "               (pos not in self.hashset)\n",
    "        \n",
    "    def move(self, direction: str) -> int:\n",
    "        next_pos = self._get_next_pos(direction)\n",
    "        is_valid = self._is_valid_pos(next_pos)\n",
    "        if is_valid:\n",
    "            is_food = self.food_index < len(self.food) and \\\n",
    "                      self.food[self.food_index] == next_pos\n",
    "            self.queue.append(next_pos)\n",
    "            self.hashset.add(next_pos)\n",
    "            self.curr_pos = next_pos\n",
    "            if is_food:\n",
    "                self.score += 1\n",
    "                self.food_index += 1\n",
    "            else:\n",
    "                pos_to_be_removed = self.queue.popleft()\n",
    "                self.hashset.remove(pos_to_be_removed)\n",
    "            return self.score\n",
    "        else:\n",
    "            return -1"
   ]
  },
  {
   "cell_type": "code",
   "execution_count": 76,
   "metadata": {},
   "outputs": [
    {
     "name": "stdout",
     "output_type": "stream",
     "text": [
      "0\n",
      "0\n",
      "1\n",
      "1\n",
      "2\n",
      "-1\n"
     ]
    }
   ],
   "source": [
    "snakeGame = SnakeGame(3, 2, [[1, 2], [0, 1]])\n",
    "print(snakeGame.move(\"R\")) # return 0\n",
    "print(snakeGame.move(\"D\")) # return 0\n",
    "print(snakeGame.move(\"R\")) \n",
    "# return 1, snake eats the first piece of food. The second piece of food appears at (0, 1).\n",
    "print(snakeGame.move(\"U\")) # return 1\n",
    "print(snakeGame.move(\"L\")) # return 2, snake eats the second food. No more food appears.\n",
    "print(snakeGame.move(\"U\")) # return -1, game over because snake collides with border"
   ]
  },
  {
   "cell_type": "markdown",
   "metadata": {},
   "source": [
    "## 155. Min Stack"
   ]
  },
  {
   "cell_type": "markdown",
   "metadata": {},
   "source": [
    "### self-written solution after checking answers"
   ]
  },
  {
   "cell_type": "markdown",
   "metadata": {},
   "source": [
    "#### the trick for this question is the \"invariant\": the numbers below the top of the stack never change, so do their minimum value"
   ]
  },
  {
   "cell_type": "code",
   "execution_count": 83,
   "metadata": {},
   "outputs": [],
   "source": [
    "class MinStack:\n",
    "\n",
    "    def __init__(self):\n",
    "        self.stack = deque()      \n",
    "\n",
    "    def push(self, val: int) -> None:\n",
    "        min_val = min(self.stack[-1][1], val) if self.stack else val\n",
    "        self.stack.append((val, min_val))   \n",
    "\n",
    "    def pop(self) -> None:\n",
    "        self.stack.pop()\n",
    "\n",
    "    def top(self) -> int:\n",
    "        return self.stack[-1][0]   \n",
    "\n",
    "    def getMin(self) -> int:\n",
    "        return self.stack[-1][1]"
   ]
  },
  {
   "cell_type": "code",
   "execution_count": 84,
   "metadata": {},
   "outputs": [
    {
     "name": "stdout",
     "output_type": "stream",
     "text": [
      "-3\n",
      "0\n",
      "-2\n"
     ]
    }
   ],
   "source": [
    "minStack = MinStack()\n",
    "minStack.push(-2)\n",
    "minStack.push(0)\n",
    "minStack.push(-3)\n",
    "print(minStack.getMin()) # return -3\n",
    "minStack.pop()\n",
    "print(minStack.top()) # return 0\n",
    "print(minStack.getMin()) # return -2"
   ]
  },
  {
   "cell_type": "markdown",
   "metadata": {},
   "source": [
    "#### implementation with two stacks for less memory usage"
   ]
  },
  {
   "cell_type": "code",
   "execution_count": 89,
   "metadata": {},
   "outputs": [],
   "source": [
    "class MinStack:\n",
    "\n",
    "    def __init__(self):\n",
    "        self.stack = deque()\n",
    "        self.min_tracker = deque()\n",
    "\n",
    "    def push(self, val: int) -> None:\n",
    "        curr_min = self.min_tracker[-1] if self.min_tracker else val\n",
    "        if curr_min >= val:\n",
    "            self.min_tracker.append(val)\n",
    "        self.stack.append(val)            \n",
    "\n",
    "    def pop(self) -> None:\n",
    "        if self.min_tracker[-1] == self.stack[-1]:\n",
    "            self.min_tracker.pop()\n",
    "        self.stack.pop()\n",
    "\n",
    "    def top(self) -> int:\n",
    "        return self.stack[-1]  \n",
    "\n",
    "    def getMin(self) -> int:\n",
    "        return self.min_tracker[-1]"
   ]
  },
  {
   "cell_type": "code",
   "execution_count": 90,
   "metadata": {},
   "outputs": [
    {
     "name": "stdout",
     "output_type": "stream",
     "text": [
      "-3\n",
      "0\n",
      "-2\n"
     ]
    }
   ],
   "source": [
    "minStack = MinStack()\n",
    "minStack.push(-2)\n",
    "minStack.push(0)\n",
    "minStack.push(-3)\n",
    "print(minStack.getMin()) # return -3\n",
    "minStack.pop()\n",
    "print(minStack.top()) # return 0\n",
    "print(minStack.getMin()) # return -2"
   ]
  },
  {
   "cell_type": "markdown",
   "metadata": {},
   "source": [
    "#### implementation with two stacks for maybe even less memory usage"
   ]
  },
  {
   "cell_type": "code",
   "execution_count": 91,
   "metadata": {},
   "outputs": [],
   "source": [
    "class MinStack:\n",
    "\n",
    "    def __init__(self):\n",
    "        self.stack = deque()\n",
    "        self.min_tracker = deque()\n",
    "\n",
    "    def push(self, val: int) -> None:\n",
    "        if not self.min_tracker:\n",
    "            self.min_tracker.append([val, 0])\n",
    "        curr_min = self.min_tracker[-1][0]\n",
    "        if curr_min > val:\n",
    "            self.min_tracker.append([val, 1])\n",
    "        elif curr_min == val:\n",
    "            self.min_tracker[-1][1] += 1\n",
    "        self.stack.append(val)            \n",
    "\n",
    "    def pop(self) -> None:\n",
    "        if self.min_tracker[-1][0] == self.stack[-1]:\n",
    "            self.min_tracker[-1][1] -= 1\n",
    "            if self.min_tracker[-1][1] == 0:\n",
    "                self.min_tracker.pop()\n",
    "        self.stack.pop()\n",
    "\n",
    "    def top(self) -> int:\n",
    "        return self.stack[-1]  \n",
    "\n",
    "    def getMin(self) -> int:\n",
    "        return self.min_tracker[-1][0]"
   ]
  },
  {
   "cell_type": "code",
   "execution_count": 92,
   "metadata": {},
   "outputs": [
    {
     "name": "stdout",
     "output_type": "stream",
     "text": [
      "-3\n",
      "0\n",
      "-2\n"
     ]
    }
   ],
   "source": [
    "minStack = MinStack()\n",
    "minStack.push(-2)\n",
    "minStack.push(0)\n",
    "minStack.push(-3)\n",
    "print(minStack.getMin()) # return -3\n",
    "minStack.pop()\n",
    "print(minStack.top()) # return 0\n",
    "print(minStack.getMin()) # return -2"
   ]
  },
  {
   "cell_type": "markdown",
   "metadata": {},
   "source": [
    "## 1146. Snapshot Array"
   ]
  },
  {
   "cell_type": "markdown",
   "metadata": {},
   "source": [
    "### self-written solution, time limit exceeded"
   ]
  },
  {
   "cell_type": "code",
   "execution_count": 103,
   "metadata": {},
   "outputs": [],
   "source": [
    "\"\"\"\n",
    "this solution is brutal, with more memory used but faster when retrieving results\n",
    "another alternative is to use an list of tuples to store snapshots that changed the value of each entry\n",
    "that design stores less value and speeds up the setting process if adjacent snapshots differ little but \n",
    "requires binary search to return a certain snapshot\n",
    "\"\"\"\n",
    "class SnapshotArray:\n",
    "\n",
    "    def __init__(self, length: int):\n",
    "        self.length = length\n",
    "        self.array = [0] * length\n",
    "        self.history = [[] for _ in range(length)]\n",
    "        self.count = 0\n",
    "\n",
    "    def set(self, index: int, val: int) -> None:\n",
    "        self.array[index] = val\n",
    "\n",
    "    def snap(self) -> int:\n",
    "        for i in range(self.length):\n",
    "            self.history[i].append(self.array[i])\n",
    "        self.count += 1\n",
    "        return self.count - 1        \n",
    "\n",
    "    def get(self, index: int, snap_id: int) -> int:\n",
    "        return self.history[index][snap_id]"
   ]
  },
  {
   "cell_type": "code",
   "execution_count": 104,
   "metadata": {},
   "outputs": [
    {
     "name": "stdout",
     "output_type": "stream",
     "text": [
      "0\n",
      "5\n"
     ]
    }
   ],
   "source": [
    "snapshotArr = SnapshotArray(3) # set the length to be 3\n",
    "snapshotArr.set(0,5) # Set array[0] = 5\n",
    "print(snapshotArr.snap()) # Take a snapshot, return snap_id = 0\n",
    "snapshotArr.set(0,6)\n",
    "print(snapshotArr.get(0,0)) # Get the value of array[0] with snap_id = 0, return 5"
   ]
  },
  {
   "cell_type": "markdown",
   "metadata": {},
   "source": [
    "### self-written solution with binanry search"
   ]
  },
  {
   "cell_type": "code",
   "execution_count": null,
   "metadata": {},
   "outputs": [],
   "source": [
    "class SnapshotArray:\n",
    "\n",
    "    def __init__(self, length: int):\n",
    "        self.length = length\n",
    "        self.array = [0] * length\n",
    "        self.history = [[] for _ in range(length)]\n",
    "        self.count = 0\n",
    "\n",
    "    def set(self, index: int, val: int) -> None:\n",
    "        self.array[index] = val\n",
    "\n",
    "    def snap(self) -> int:\n",
    "        for i in range(self.length):\n",
    "            snapshots = self.history[i]\n",
    "            value = self.array[i]\n",
    "            # snap_id would be 0 for the first case\n",
    "            if not snapshots or snapshots[-1][1] != value:\n",
    "                snapshots.append((self.count, self.array[i]))\n",
    "        self.count += 1\n",
    "        return self.count - 1        \n",
    "\n",
    "    def get(self, index: int, snap_id: int) -> int:\n",
    "        "
   ]
  }
 ],
 "metadata": {
  "kernelspec": {
   "display_name": "Python 3",
   "language": "python",
   "name": "python3"
  },
  "language_info": {
   "codemirror_mode": {
    "name": "ipython",
    "version": 3
   },
   "file_extension": ".py",
   "mimetype": "text/x-python",
   "name": "python",
   "nbconvert_exporter": "python",
   "pygments_lexer": "ipython3",
   "version": "3.7.1"
  }
 },
 "nbformat": 4,
 "nbformat_minor": 4
}
