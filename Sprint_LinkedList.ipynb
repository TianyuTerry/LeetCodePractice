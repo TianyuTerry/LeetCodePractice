{
 "cells": [
  {
   "cell_type": "markdown",
   "metadata": {},
   "source": [
    "## Linked List"
   ]
  },
  {
   "cell_type": "markdown",
   "metadata": {},
   "source": [
    "### 2. Add Two Numbers 1~"
   ]
  },
  {
   "cell_type": "markdown",
   "metadata": {},
   "source": [
    "#### Self-implemented helper functions"
   ]
  },
  {
   "cell_type": "code",
   "execution_count": 1,
   "metadata": {},
   "outputs": [],
   "source": [
    "class ListNode(object):\n",
    "    def __init__(self, x, node=None):\n",
    "        self.val = x\n",
    "        self.next = node\n",
    "    \n",
    "    def __str__(self):\n",
    "        if (self == None):\n",
    "            return \"\"\n",
    "        else:\n",
    "            pointer = self\n",
    "            string = str(pointer.val)\n",
    "            while (pointer.next != None):\n",
    "                string += \" -> \" + str(pointer.next.val)\n",
    "                pointer = pointer.next\n",
    "            return string\n",
    "    \n",
    "    def copy(self):\n",
    "        curr = dummy = ListNode(0)\n",
    "        pointer = self\n",
    "        while (pointer != None):\n",
    "            curr.next = ListNode(pointer.val)\n",
    "            pointer = pointer.next\n",
    "            curr = curr.next\n",
    "        return dummy.next"
   ]
  },
  {
   "cell_type": "code",
   "execution_count": 2,
   "metadata": {},
   "outputs": [],
   "source": [
    "def IntListFromString(string):\n",
    "    curr = dummy = ListNode(0)\n",
    "    parsed = string.split('->')\n",
    "    if parsed == ['']:\n",
    "        return None\n",
    "    for n in parsed:\n",
    "        curr.next = ListNode(int(n.strip()))\n",
    "        curr = curr.next\n",
    "    return dummy.next"
   ]
  },
  {
   "cell_type": "code",
   "execution_count": 3,
   "metadata": {},
   "outputs": [],
   "source": [
    "def LLCopy(self):\n",
    "    curr = dummy = ListNode(0)\n",
    "    pointer = self\n",
    "    while (pointer != None):\n",
    "        curr.next = ListNode(pointer.val)\n",
    "        pointer = pointer.next\n",
    "        curr = curr.next\n",
    "    return dummy.next"
   ]
  },
  {
   "cell_type": "markdown",
   "metadata": {},
   "source": [
    "#### self-implemented solution"
   ]
  },
  {
   "cell_type": "code",
   "execution_count": 4,
   "metadata": {},
   "outputs": [],
   "source": [
    "def addTwoNumbers(l1, l2):\n",
    "    \"\"\"\n",
    "    :type l1: ListNode\n",
    "    :type l2: ListNode\n",
    "    :rtype: ListNode\n",
    "    \"\"\"\n",
    "    if (l1 == None) & (l2 == None):\n",
    "        return None\n",
    "    elif l1 == None:\n",
    "        Sum = ListNode(l2.val)\n",
    "        pointer = Sum\n",
    "        while l2.next != None:\n",
    "            pointer.next = ListNode(l2.next.val)\n",
    "            l2 = l2.next\n",
    "            pointer = pointer.next\n",
    "        return Sum\n",
    "    elif l2 == None:\n",
    "        return addTwoNumbers(l2, l1)\n",
    "    else:\n",
    "        value_sum = l1.val + l2.val\n",
    "        Sum = ListNode(value_sum % 10)\n",
    "        carry = value_sum // 10\n",
    "        pointer = Sum\n",
    "        while (l1.next != None) & (l2.next != None):\n",
    "            value_sum = l1.next.val + l2.next.val + carry\n",
    "            carry = value_sum // 10\n",
    "            pointer.next = ListNode(value_sum % 10)\n",
    "            pointer = pointer.next\n",
    "            l1 = l1.next\n",
    "            l2 = l2.next\n",
    "        while l1.next != None:\n",
    "            value_sum = l1.next.val + carry\n",
    "            carry = value_sum // 10\n",
    "            pointer.next = ListNode(value_sum % 10)\n",
    "            pointer = pointer.next\n",
    "            l1 = l1.next\n",
    "        while l2.next != None:\n",
    "            value_sum = l2.next.val + carry\n",
    "            carry = value_sum // 10\n",
    "            pointer.next = ListNode(value_sum % 10)\n",
    "            pointer = pointer.next\n",
    "            l2 = l2.next\n",
    "        if (carry == 0):\n",
    "            return Sum\n",
    "        else:\n",
    "            pointer.next = ListNode(carry)\n",
    "            return Sum"
   ]
  },
  {
   "cell_type": "markdown",
   "metadata": {},
   "source": [
    "#### code written after reading pseudocode, brilliantly elegant!"
   ]
  },
  {
   "cell_type": "code",
   "execution_count": 5,
   "metadata": {},
   "outputs": [],
   "source": [
    "def addTwoNumbersDummy(l1, l2):\n",
    "    curr = dummy = ListNode(0)\n",
    "    p, q, carry = l1, l2, 0\n",
    "    while p or q:\n",
    "        x = p.val if p else 0\n",
    "        y = q.val if q else 0\n",
    "        Sum = x+y+carry\n",
    "        carry = Sum//10\n",
    "        if p: \n",
    "            p = p.next\n",
    "        if q: \n",
    "            q = q.next\n",
    "        curr.next = ListNode(Sum%10) # what we assign is next, that's why we need a dummy head\n",
    "        curr = curr.next\n",
    "    if carry == 1:\n",
    "        curr.next = ListNode(1)\n",
    "    return dummy.next"
   ]
  },
  {
   "cell_type": "code",
   "execution_count": 6,
   "metadata": {},
   "outputs": [
    {
     "name": "stdout",
     "output_type": "stream",
     "text": [
      "7 -> 0 -> 2 -> 1\n"
     ]
    }
   ],
   "source": [
    "print(addTwoNumbersDummy(IntListFromString('2 -> 4 -> 3'), IntListFromString('5 -> 6 -> 8')))"
   ]
  },
  {
   "cell_type": "markdown",
   "metadata": {},
   "source": [
    "### 21. Merge Two Sorted Lists 2~"
   ]
  },
  {
   "cell_type": "markdown",
   "metadata": {},
   "source": [
    "#### self-implemented solution"
   ]
  },
  {
   "cell_type": "code",
   "execution_count": 7,
   "metadata": {},
   "outputs": [],
   "source": [
    "def merge(l1, l2):\n",
    "    if (l1 == None) & (l2 == None):\n",
    "        return None\n",
    "    elif (l2 == None):\n",
    "        output = ListNode(l1.val)\n",
    "        pointer = output\n",
    "        l1 = l1.next\n",
    "        while (l1 != None):\n",
    "            pointer.next = ListNode(l1.val)\n",
    "            l1 = l1.next\n",
    "            pointer = pointer.next\n",
    "        return output\n",
    "    elif (l1 == None):\n",
    "        output = ListNode(l2.val)\n",
    "        pointer = output\n",
    "        l2 = l2.next\n",
    "        while (l2 != None):\n",
    "            pointer.next = ListNode(l2.val)\n",
    "            l2 = l2.next\n",
    "            pointer = pointer.next\n",
    "        return output\n",
    "    if (l1.val <= l2.val):\n",
    "        output = ListNode(l1.val)\n",
    "        l1 = l1.next\n",
    "    else:\n",
    "        output = ListNode(l2.val)\n",
    "        l2 = l2.next\n",
    "    pointer = output\n",
    "    while (l1 != None) & (l2 != None):\n",
    "        if (l1.val <= l2.val):\n",
    "            pointer.next = ListNode(l1.val)\n",
    "            l1 = l1.next\n",
    "            pointer = pointer.next\n",
    "        else:\n",
    "            pointer.next = ListNode(l2.val)\n",
    "            l2 = l2.next\n",
    "            pointer = pointer.next\n",
    "    if (l1 == None):\n",
    "        pointer.next = merge(l2, None)\n",
    "    else:\n",
    "        pointer.next = merge(l1, None)\n",
    "    return output"
   ]
  },
  {
   "cell_type": "code",
   "execution_count": 8,
   "metadata": {},
   "outputs": [
    {
     "name": "stdout",
     "output_type": "stream",
     "text": [
      "1 -> 1 -> 2 -> 3 -> 4 -> 4\n"
     ]
    }
   ],
   "source": [
    "print(merge(IntListFromString('1->2->4'), IntListFromString('1->3->4')))"
   ]
  },
  {
   "cell_type": "markdown",
   "metadata": {},
   "source": [
    "#### code written after reading pseudocode"
   ]
  },
  {
   "cell_type": "code",
   "execution_count": 9,
   "metadata": {},
   "outputs": [],
   "source": [
    "def mergeRecursive(l1, l2):\n",
    "    if not l1:\n",
    "        return LLCopy(l2)\n",
    "    if not l2:\n",
    "        return LLCopy(l1)\n",
    "    if l1.val < l2.val:\n",
    "        newNode = ListNode(l1.val)\n",
    "        newNode.next = mergeRecursive(l1.next, l2)\n",
    "    else:\n",
    "        newNode = ListNode(l2.val)\n",
    "        newNode.next = mergeRecursive(l1, l2.next)\n",
    "    return newNode"
   ]
  },
  {
   "cell_type": "code",
   "execution_count": 10,
   "metadata": {},
   "outputs": [
    {
     "name": "stdout",
     "output_type": "stream",
     "text": [
      "1 -> 1 -> 2 -> 3 -> 4 -> 4\n"
     ]
    }
   ],
   "source": [
    "l1 = IntListFromString('1->2->4')\n",
    "l2 = IntListFromString('1->3->4')\n",
    "print(mergeRecursive(l1, l2))"
   ]
  },
  {
   "cell_type": "code",
   "execution_count": 11,
   "metadata": {},
   "outputs": [],
   "source": [
    "def mergeIterative(l1, l2): # This is pretty fast\n",
    "    curr = dummy = ListNode(0)\n",
    "    \n",
    "    if not l1 and not l2:\n",
    "        return None\n",
    "    \n",
    "    while l1 and l2:\n",
    "        if l1.val <= l2.val:\n",
    "            curr.next = ListNode(l1.val)\n",
    "            l1 = l1.next\n",
    "        else:\n",
    "            curr.next = ListNode(l2.val)\n",
    "            l2 = l2.next            \n",
    "        curr = curr.next\n",
    "\n",
    "    curr.next = LLCopy(l1) if not l2 else LLCopy(l2)\n",
    "\n",
    "    return dummy.next"
   ]
  },
  {
   "cell_type": "code",
   "execution_count": 12,
   "metadata": {},
   "outputs": [
    {
     "name": "stdout",
     "output_type": "stream",
     "text": [
      "1 -> 1 -> 2 -> 3 -> 4 -> 4\n"
     ]
    }
   ],
   "source": [
    "print(mergeIterative(l1, l2))"
   ]
  },
  {
   "cell_type": "markdown",
   "metadata": {},
   "source": [
    "### 206. Reverse Linked List 3~"
   ]
  },
  {
   "cell_type": "markdown",
   "metadata": {},
   "source": [
    "#### Brilliant recursive method! (animation would be great!)"
   ]
  },
  {
   "cell_type": "code",
   "execution_count": 13,
   "metadata": {},
   "outputs": [],
   "source": [
    "def reverseList(head): # This is destructive, the reamining head will be a list of length 1\n",
    "    \"\"\"\n",
    "    :type head: ListNode\n",
    "    :rtype: ListNode\n",
    "    \"\"\"\n",
    "    if not head or not head.next: # But the listnodes and the values remain unchanged, only links are changed\n",
    "        return head\n",
    "    head_new = reverseList(head.next)\n",
    "    head.next.next = head\n",
    "    head.next = None\n",
    "    return head_new"
   ]
  },
  {
   "cell_type": "code",
   "execution_count": 14,
   "metadata": {},
   "outputs": [
    {
     "name": "stdout",
     "output_type": "stream",
     "text": [
      "2 -> 1\n"
     ]
    }
   ],
   "source": [
    "l3 = IntListFromString('1->2')\n",
    "print(reverseList(l3))"
   ]
  },
  {
   "cell_type": "code",
   "execution_count": 15,
   "metadata": {},
   "outputs": [
    {
     "name": "stdout",
     "output_type": "stream",
     "text": [
      "4 -> 2 -> 1\n"
     ]
    }
   ],
   "source": [
    "print(reverseList(l1))\n",
    "l1 = IntListFromString('1->2->4')"
   ]
  },
  {
   "cell_type": "markdown",
   "metadata": {},
   "source": [
    "#### Iterative (self-implemented)"
   ]
  },
  {
   "cell_type": "code",
   "execution_count": 16,
   "metadata": {},
   "outputs": [],
   "source": [
    "def reverseListIterative(head): \n",
    "    \"\"\"\n",
    "    :type head: ListNode\n",
    "    :rtype: ListNode\n",
    "    \"\"\"\n",
    "    prev = None\n",
    "    curr = head\n",
    "    while curr:\n",
    "        nextTemp = curr.next\n",
    "        curr.next = prev\n",
    "        prev = curr\n",
    "        curr = nextTemp\n",
    "    return prev"
   ]
  },
  {
   "cell_type": "code",
   "execution_count": 17,
   "metadata": {},
   "outputs": [
    {
     "name": "stdout",
     "output_type": "stream",
     "text": [
      "4 -> 2 -> 1\n"
     ]
    }
   ],
   "source": [
    "print(reverseListIterative(l1))\n",
    "l1 = IntListFromString('1->2->4')"
   ]
  },
  {
   "cell_type": "code",
   "execution_count": 18,
   "metadata": {},
   "outputs": [],
   "source": [
    "def reverseListIterativeStandard(head):  # This is significantly faster than the self-implemented one\n",
    "    prev, curr = None, head\n",
    "    while curr:\n",
    "        curr.next, prev, curr = prev, curr, curr.next\n",
    "    return prev"
   ]
  },
  {
   "cell_type": "code",
   "execution_count": 19,
   "metadata": {},
   "outputs": [
    {
     "name": "stdout",
     "output_type": "stream",
     "text": [
      "4 -> 2 -> 1\n"
     ]
    }
   ],
   "source": [
    "print(reverseListIterativeStandard(l1))\n",
    "l1 = IntListFromString('1->2->4')"
   ]
  },
  {
   "cell_type": "markdown",
   "metadata": {},
   "source": [
    "### 23. Merge k Sorted Lists 4~"
   ]
  },
  {
   "cell_type": "markdown",
   "metadata": {},
   "source": [
    "#### Brute Force extract, sort and recover, standard solution"
   ]
  },
  {
   "cell_type": "code",
   "execution_count": 20,
   "metadata": {},
   "outputs": [],
   "source": [
    "def mergeKListsNLogN(lists):\n",
    "    \"\"\"\n",
    "    :type lists: List[ListNode]\n",
    "    :rtype: ListNode\n",
    "    \"\"\"\n",
    "    nodes = []\n",
    "    head = point = ListNode(0)\n",
    "    for l in lists:\n",
    "        while l:\n",
    "            nodes.append(l.val)\n",
    "            l = l.next\n",
    "    for x in sorted(nodes):\n",
    "        point.next = ListNode(x)\n",
    "        point = point.next\n",
    "    return head.next"
   ]
  },
  {
   "cell_type": "code",
   "execution_count": 21,
   "metadata": {},
   "outputs": [
    {
     "name": "stdout",
     "output_type": "stream",
     "text": [
      "1 -> 2 -> 4\n",
      "1 -> 3 -> 4\n",
      "1\n",
      "1 -> 1 -> 1 -> 2 -> 3 -> 4 -> 4\n"
     ]
    }
   ],
   "source": [
    "print(l1)\n",
    "print(l2)\n",
    "print(l3)\n",
    "print(mergeKListsNLogN([l1, l2, l3]))"
   ]
  },
  {
   "cell_type": "markdown",
   "metadata": {},
   "source": [
    "#### Compare one by one with the help of priority queue, standard solution"
   ]
  },
  {
   "cell_type": "code",
   "execution_count": 22,
   "metadata": {},
   "outputs": [],
   "source": [
    "from queue import PriorityQueue\n",
    "\n",
    "def mergeKListsNLogK(lists):\n",
    "    \"\"\"\n",
    "    :type lists: List[ListNode]\n",
    "    :rtype: ListNode\n",
    "    \"\"\"\n",
    "    class Wrapper(): \n",
    "        \"\"\"\n",
    "        This is for comparison between nodes without changing the original definition of ListNode.\n",
    "        Otherwise TypeError '<' not supported between instances of 'ListNode' and 'ListNode' will occur.\n",
    "        \"\"\"\n",
    "        def __init__(self, node):\n",
    "            self.node = node\n",
    "        def __lt__(self, other): \n",
    "            # This is less than, equivalent to < method!\n",
    "            return self.node.val < other.node.val\n",
    "\n",
    "    head = point = ListNode(0)\n",
    "    q = PriorityQueue()\n",
    "    for l in lists:\n",
    "        if l:\n",
    "            q.put(Wrapper(l))\n",
    "    while not q.empty():\n",
    "        node = q.get().node\n",
    "        point.next = ListNode(node.val)\n",
    "        point = point.next\n",
    "        node = node.next\n",
    "        if node:\n",
    "            q.put(Wrapper(node))\n",
    "    return head.next"
   ]
  },
  {
   "cell_type": "code",
   "execution_count": 23,
   "metadata": {},
   "outputs": [
    {
     "name": "stdout",
     "output_type": "stream",
     "text": [
      "1 -> 1 -> 1 -> 2 -> 2 -> 3 -> 4 -> 4\n",
      "1 -> 2 -> 4\n",
      "1 -> 3 -> 4\n",
      "1 -> 2\n"
     ]
    }
   ],
   "source": [
    "l1 = IntListFromString('1->2->4')\n",
    "l2 = IntListFromString('1->3->4')\n",
    "l3 = IntListFromString('1->2')\n",
    "print(mergeKListsNLogK([l1, l2, l3]))\n",
    "print(l1)\n",
    "print(l2)\n",
    "print(l3)"
   ]
  },
  {
   "cell_type": "markdown",
   "metadata": {},
   "source": [
    "#### Divide and Conquer, standard solution"
   ]
  },
  {
   "cell_type": "code",
   "execution_count": 24,
   "metadata": {},
   "outputs": [],
   "source": [
    "def mergeKListsDIVCONQ(lists): # This is destructive, but the use of interval variable is amazing!\n",
    "    \"\"\"\n",
    "    :type lists: List[ListNode]\n",
    "    :rtype: ListNode\n",
    "    \"\"\"\n",
    "    def merge2Lists(l1, l2):\n",
    "        head = point = ListNode(0)\n",
    "        while l1 and l2:\n",
    "            if l1.val <= l2.val:\n",
    "                point.next = l1\n",
    "                l1 = l1.next\n",
    "            else:\n",
    "                point.next = l2 # When merge is destructive, space complexity is O(1)\n",
    "                l2 = l1\n",
    "                l1 = point.next.next\n",
    "            point = point.next\n",
    "        if not l1:\n",
    "            point.next=l2\n",
    "        else:\n",
    "            point.next=l1\n",
    "        return head.next\n",
    "    \n",
    "    amount = len(lists)\n",
    "    interval = 1\n",
    "    while interval < amount:\n",
    "        for i in range(0, amount - interval, interval * 2):\n",
    "            lists[i] = merge2Lists(lists[i], lists[i + interval])\n",
    "        interval *= 2\n",
    "    return lists[0] if amount > 0 else None"
   ]
  },
  {
   "cell_type": "markdown",
   "metadata": {},
   "source": [
    "### 92. Reverse Linked List II (Difficult!) 5~"
   ]
  },
  {
   "cell_type": "markdown",
   "metadata": {},
   "source": [
    "#### I give up writing recursive on my own even after checking the idea behind it"
   ]
  },
  {
   "cell_type": "markdown",
   "metadata": {},
   "source": [
    "#### Recursive standard solution, really really brilliant!"
   ]
  },
  {
   "cell_type": "code",
   "execution_count": 25,
   "metadata": {},
   "outputs": [],
   "source": [
    "def reverseBetweenRecursiveTwoPass(head, m, n):\n",
    "    \"\"\"\n",
    "    In case when m = 1, n = length of list, right pointer points to the end first (1 pass), \n",
    "    then check and reverse in the backtracking process (1 pass). \n",
    "    That's why it is a two-pass algorithm.\n",
    "    If we track right, it will -> to the end and <- to the beginning.\n",
    "    \"\"\"\n",
    "    \"\"\"\n",
    "    :type head: ListNode\n",
    "    :type m: int\n",
    "    :type n: int\n",
    "    :rtype: ListNode\n",
    "    \"\"\"\n",
    "\n",
    "    if not head:\n",
    "        return None\n",
    "\n",
    "    left, right = head, head\n",
    "    stop = False\n",
    "    def recurseAndReverse(right, m, n):\n",
    "        nonlocal left, stop\n",
    "\n",
    "        # base case. Don't proceed any further\n",
    "        if n == 1:\n",
    "            return\n",
    "\n",
    "        # Keep moving the right pointer one step forward until (n == 1)\n",
    "        right = right.next\n",
    "\n",
    "        # Keep moving left pointer to the right until we reach the proper node\n",
    "        # from where the reversal is to start.\n",
    "        if m > 1:\n",
    "            left = left.next\n",
    "\n",
    "        # Recurse with m and n reduced.\n",
    "        recurseAndReverse(right, m - 1, n - 1)\n",
    "\n",
    "        # In case both the pointers cross each other or become equal, we\n",
    "        # stop i.e. don't swap data any further. We are done reversing at this\n",
    "        # point.\n",
    "        print(right.val)\n",
    "        if left == right or right.next == left:\n",
    "            stop = True\n",
    "\n",
    "        # Until the boolean stop is false, swap data between the two pointers     \n",
    "        if not stop:\n",
    "            left.val, right.val = right.val, left.val\n",
    "\n",
    "            # Move left one step to the right.\n",
    "            # The right pointer moves one step back via backtracking.\n",
    "            left = left.next           \n",
    "\n",
    "    recurseAndReverse(right, m, n)\n",
    "    return head \n",
    "    # This return is interesting, if we are not going to return anything, we don't need define an inner function.\n",
    "    # I am stuck and give up partially becasue of this!"
   ]
  },
  {
   "cell_type": "code",
   "execution_count": 26,
   "metadata": {},
   "outputs": [
    {
     "data": {
      "text/plain": [
       "'It is symmetric because unfortunately this is the result after swapping (supposedly it should be the entire\\nlist except the first value in the reversing order)'"
      ]
     },
     "execution_count": 26,
     "metadata": {},
     "output_type": "execute_result"
    }
   ],
   "source": [
    "\"\"\"It is symmetric because unfortunately this is the result after swapping (supposedly it should be the entire\n",
    "list except the first value in the reversing order)\"\"\""
   ]
  },
  {
   "cell_type": "code",
   "execution_count": 27,
   "metadata": {},
   "outputs": [
    {
     "name": "stdout",
     "output_type": "stream",
     "text": [
      "2\n",
      "10\n",
      "10\n",
      "2\n",
      "9\n",
      "7 -> 9 -> 2 -> 10 -> 1 -> 8 -> 6\n",
      "7 -> 9 -> 2 -> 10 -> 1 -> 8 -> 6\n"
     ]
    }
   ],
   "source": [
    "l4 = IntListFromString('7->9->8->1->10->2->6')\n",
    "print(reverseBetweenRecursiveTwoPass(l4, 3, 6))\n",
    "print(l4)\n",
    "l4 = IntListFromString('7->9->8->1->10->2->6')"
   ]
  },
  {
   "cell_type": "code",
   "execution_count": 28,
   "metadata": {},
   "outputs": [
    {
     "name": "stdout",
     "output_type": "stream",
     "text": [
      "6\n",
      "2\n",
      "10\n",
      "1\n",
      "10\n",
      "2\n",
      "6 -> 2 -> 10 -> 1 -> 8 -> 9 -> 7\n",
      "6 -> 2 -> 10 -> 1 -> 8 -> 9 -> 7\n"
     ]
    }
   ],
   "source": [
    "print(reverseBetweenRecursiveTwoPass(l4, 1, 7))\n",
    "print(l4)\n",
    "l4 = IntListFromString('7->9->8->1->10->2->6')"
   ]
  },
  {
   "cell_type": "code",
   "execution_count": 29,
   "metadata": {},
   "outputs": [],
   "source": [
    "def reverseBetweenRecursiveTwoPassImproved(head, m, n):\n",
    "    \"\"\"\n",
    "    In case when m = 1, n = length of list, right pointer points to the end first (1 pass), \n",
    "    then check and reverse in the backtracking process (1 pass). \n",
    "    That's why it is a two-pass algorithm.\n",
    "    If we track right, it will -> to the end and <- to the beginning.\n",
    "    \"\"\"\n",
    "    \"\"\"\n",
    "    :type head: ListNode\n",
    "    :type m: int\n",
    "    :type n: int\n",
    "    :rtype: ListNode\n",
    "    \"\"\"\n",
    "\n",
    "    if not head:\n",
    "        return None\n",
    "\n",
    "    left, right = head, head\n",
    "    stop = False\n",
    "    def recurseAndReverse(right, m, n):\n",
    "        nonlocal left, stop\n",
    "\n",
    "        # base case. Don't proceed any further\n",
    "        if n == 1:\n",
    "            return\n",
    "\n",
    "        # Keep moving the right pointer one step forward until (n == 1)\n",
    "        right = right.next\n",
    "\n",
    "        # Keep moving left pointer to the right until we reach the proper node\n",
    "        # from where the reversal is to start.\n",
    "        if m > 1:\n",
    "            left = left.next\n",
    "\n",
    "        # Recurse with m and n reduced.\n",
    "        recurseAndReverse(right, m - 1, n - 1)\n",
    "\n",
    "        # In case both the pointers cross each other or become equal, we\n",
    "        # stop i.e. don't swap data any further. We are done reversing at this\n",
    "        # point.\n",
    "        #print(right.val)\n",
    "        if stop:\n",
    "            return\n",
    "        \n",
    "        if left == right or right.next == left:\n",
    "            stop = True\n",
    "            return\n",
    "                \n",
    "        # When the boolean stop is false, swap data between the two pointers     \n",
    "        left.val, right.val = right.val, left.val\n",
    "\n",
    "        # Move left one step to the right.\n",
    "        # The right pointer moves one step back via backtracking.\n",
    "        left = left.next           \n",
    "\n",
    "    recurseAndReverse(right, m, n)\n",
    "    return head \n",
    "    # This return is interesting, if we are not going to return anything, we don't need define an inner function.\n",
    "    # I am stuck and give up partially becasue of this!"
   ]
  },
  {
   "cell_type": "code",
   "execution_count": 30,
   "metadata": {},
   "outputs": [
    {
     "name": "stdout",
     "output_type": "stream",
     "text": [
      "7 -> 9 -> 2 -> 10 -> 1 -> 8 -> 6\n",
      "7 -> 9 -> 2 -> 10 -> 1 -> 8 -> 6\n"
     ]
    }
   ],
   "source": [
    "l4 = IntListFromString('7->9->8->1->10->2->6')\n",
    "print(reverseBetweenRecursiveTwoPassImproved(l4, 3, 6))\n",
    "print(l4)\n",
    "l4 = IntListFromString('7->9->8->1->10->2->6')"
   ]
  },
  {
   "cell_type": "code",
   "execution_count": 31,
   "metadata": {},
   "outputs": [
    {
     "name": "stdout",
     "output_type": "stream",
     "text": [
      "6 -> 2 -> 10 -> 1 -> 8 -> 9 -> 7\n",
      "6 -> 2 -> 10 -> 1 -> 8 -> 9 -> 7\n"
     ]
    }
   ],
   "source": [
    "print(reverseBetweenRecursiveTwoPassImproved(l4, 1, 7))\n",
    "print(l4)\n",
    "l4 = IntListFromString('7->9->8->1->10->2->6')"
   ]
  },
  {
   "cell_type": "markdown",
   "metadata": {},
   "source": [
    "#### Recursive from discussion area (also brilliant!)"
   ]
  },
  {
   "cell_type": "code",
   "execution_count": 32,
   "metadata": {},
   "outputs": [],
   "source": [
    "def reverseFirstN(head, n):\n",
    "    successor = None;\n",
    "    def reverseN(head, n): \n",
    "        nonlocal successor\n",
    "        if n == 1:\n",
    "            successor = head.next;\n",
    "            return head;\n",
    "        last = reverseN(head.next, n-1);\n",
    "        head.next.next = head;\n",
    "        head.next = successor;\n",
    "        return last\n",
    "    return reverseN(head, n)"
   ]
  },
  {
   "cell_type": "code",
   "execution_count": 33,
   "metadata": {},
   "outputs": [
    {
     "name": "stdout",
     "output_type": "stream",
     "text": [
      "1 -> 8 -> 9 -> 7 -> 10 -> 2 -> 6\n",
      "7 -> 10 -> 2 -> 6\n"
     ]
    }
   ],
   "source": [
    "print(reverseFirstN(l4, 4))\n",
    "print(l4)\n",
    "l4 = IntListFromString('7->9->8->1->10->2->6')"
   ]
  },
  {
   "cell_type": "code",
   "execution_count": 34,
   "metadata": {},
   "outputs": [],
   "source": [
    "def reverseBetween(head, m, n): # This is faster than the previous recursion\n",
    "    def reverseFirstN(head, n):\n",
    "        successor = None;\n",
    "        def reverseN(head, n): \n",
    "            nonlocal successor\n",
    "            if n == 1:\n",
    "                successor = head.next;\n",
    "                return head;\n",
    "            last = reverseN(head.next, n-1);\n",
    "            head.next.next = head;\n",
    "            head.next = successor;\n",
    "            return last\n",
    "        return reverseN(head, n)\n",
    "    if m == 1:\n",
    "        return reverseFirstN(head, n)\n",
    "    head.next = reverseBetween(head.next, m - 1, n - 1); # Only one of this step really works.\n",
    "    return head"
   ]
  },
  {
   "cell_type": "code",
   "execution_count": 35,
   "metadata": {},
   "outputs": [
    {
     "name": "stdout",
     "output_type": "stream",
     "text": [
      "7 -> 9 -> 2 -> 10 -> 1 -> 8 -> 6\n",
      "7 -> 9 -> 2 -> 10 -> 1 -> 8 -> 6\n"
     ]
    }
   ],
   "source": [
    "print(reverseBetween(l4, 3, 6))\n",
    "print(l4)\n",
    "l4 = IntListFromString('7->9->8->1->10->2->6')"
   ]
  },
  {
   "cell_type": "markdown",
   "metadata": {},
   "source": [
    "#### self-implemented iterative method"
   ]
  },
  {
   "cell_type": "code",
   "execution_count": 36,
   "metadata": {},
   "outputs": [],
   "source": [
    "def reverseBetweenIterative(head, m, n):\n",
    "    tail1, curr = None, head\n",
    "    while m != 1:\n",
    "        tail1, curr = curr, curr.next\n",
    "        m -= 1\n",
    "        n -= 1     \n",
    "    prev = None\n",
    "    tail2 = curr\n",
    "    while n != 0:\n",
    "        curr.next, prev, curr = prev, curr, curr.next\n",
    "        n -= 1\n",
    "    tail2.next = curr\n",
    "    if tail1 is None:\n",
    "        return prev\n",
    "    tail1.next = prev\n",
    "    return head"
   ]
  },
  {
   "cell_type": "code",
   "execution_count": 37,
   "metadata": {},
   "outputs": [
    {
     "name": "stdout",
     "output_type": "stream",
     "text": [
      "7 -> 9 -> 2 -> 10 -> 1 -> 8 -> 6\n",
      "7 -> 9 -> 2 -> 10 -> 1 -> 8 -> 6\n"
     ]
    }
   ],
   "source": [
    "l4 = IntListFromString('7->9->8->1->10->2->6')\n",
    "print(reverseBetweenIterative(l4, 3, 6))\n",
    "print(l4)\n",
    "l4 = IntListFromString('7->9->8->1->10->2->6')"
   ]
  },
  {
   "cell_type": "code",
   "execution_count": 38,
   "metadata": {},
   "outputs": [
    {
     "name": "stdout",
     "output_type": "stream",
     "text": [
      "2 -> 10 -> 1 -> 8 -> 9 -> 7 -> 6\n",
      "7 -> 6\n"
     ]
    }
   ],
   "source": [
    "l4 = IntListFromString('7->9->8->1->10->2->6')\n",
    "print(reverseBetweenIterative(l4, 1, 6))\n",
    "print(l4)\n",
    "l4 = IntListFromString('7->9->8->1->10->2->6')"
   ]
  },
  {
   "cell_type": "code",
   "execution_count": 39,
   "metadata": {},
   "outputs": [
    {
     "name": "stdout",
     "output_type": "stream",
     "text": [
      "6 -> 2 -> 10 -> 1 -> 8 -> 9 -> 7\n",
      "7\n"
     ]
    }
   ],
   "source": [
    "l4 = IntListFromString('7->9->8->1->10->2->6')\n",
    "print(reverseBetweenIterative(l4, 1, 7))\n",
    "print(l4)\n",
    "l4 = IntListFromString('7->9->8->1->10->2->6')"
   ]
  },
  {
   "cell_type": "markdown",
   "metadata": {},
   "source": [
    "#### Iterative standard solution"
   ]
  },
  {
   "cell_type": "code",
   "execution_count": 40,
   "metadata": {},
   "outputs": [],
   "source": [
    "def reverseBetweenIterativeStandard(head, m, n):\n",
    "    \"\"\"\n",
    "    :type head: ListNode\n",
    "    :type m: int\n",
    "    :type n: int\n",
    "    :rtype: ListNode\n",
    "    \"\"\"\n",
    "\n",
    "    # Empty list\n",
    "    if not head:\n",
    "        return None\n",
    "\n",
    "    # Move the two pointers until they reach the proper starting point\n",
    "    # in the list.\n",
    "    cur, prev = head, None\n",
    "    while m > 1:\n",
    "        prev = cur\n",
    "        cur = cur.next\n",
    "        m, n = m - 1, n - 1\n",
    "\n",
    "    # The two pointers that will fix the final connections.\n",
    "    tail, con = cur, prev\n",
    "\n",
    "    # Iteratively reverse the nodes until n becomes 0.\n",
    "    while n:\n",
    "        third = cur.next\n",
    "        cur.next = prev\n",
    "        prev = cur\n",
    "        cur = third\n",
    "        n -= 1\n",
    "\n",
    "    # Adjust the final connections as explained in the algorithm\n",
    "    if con:\n",
    "        con.next = prev\n",
    "    else:\n",
    "        head = prev\n",
    "    tail.next = cur\n",
    "    return head"
   ]
  },
  {
   "cell_type": "markdown",
   "metadata": {},
   "source": [
    "### 19. Remove Nth Node From End of List 6~"
   ]
  },
  {
   "cell_type": "markdown",
   "metadata": {},
   "source": [
    "#### Self-implemented solution previously"
   ]
  },
  {
   "cell_type": "code",
   "execution_count": 43,
   "metadata": {},
   "outputs": [],
   "source": [
    "def removeNthFromEnd(head, n):\n",
    "        \"\"\"\n",
    "        :type head: ListNode\n",
    "        :type n: int\n",
    "        :rtype: ListNode\n",
    "        \"\"\"\n",
    "        length = 0\n",
    "        pointer = head\n",
    "        while (pointer != None):\n",
    "            length += 1\n",
    "            pointer = pointer.next\n",
    "        if (n == length):\n",
    "            if (n == 1):\n",
    "                return None\n",
    "            else:\n",
    "                head = head.next\n",
    "                output = ListNode(head.val)\n",
    "                pointer_write = output\n",
    "                while (head.next != None):\n",
    "                    pointer_write.next = ListNode(head.next.val) # copy everything without the first node\n",
    "                    pointer_write = pointer_write.next\n",
    "                    head = head.next\n",
    "                return output\n",
    "        else:\n",
    "            output = ListNode(head.val)\n",
    "            pointer = head.next\n",
    "            pointer_write = output\n",
    "            for i in range(length-n-1):\n",
    "                pointer_write.next = ListNode(pointer.val)\n",
    "                pointer = pointer.next\n",
    "                pointer_write = pointer_write.next\n",
    "\n",
    "            pointer = pointer.next\n",
    "\n",
    "            while (pointer != None):\n",
    "                pointer_write.next = ListNode(pointer.val)\n",
    "                pointer = pointer.next \n",
    "                pointer_write = pointer_write.next\n",
    "            return output"
   ]
  },
  {
   "cell_type": "code",
   "execution_count": 45,
   "metadata": {},
   "outputs": [
    {
     "name": "stdout",
     "output_type": "stream",
     "text": [
      "1 -> 2 -> 3 -> 5\n"
     ]
    }
   ],
   "source": [
    "print(removeNthFromEnd(IntListFromString('1->2->3->4->5'),2))"
   ]
  },
  {
   "cell_type": "code",
   "execution_count": 46,
   "metadata": {},
   "outputs": [
    {
     "name": "stdout",
     "output_type": "stream",
     "text": [
      "1 -> 2 -> 3 -> 4\n"
     ]
    }
   ],
   "source": [
    "print(removeNthFromEnd(IntListFromString('1->2->3->4->5'),1))"
   ]
  },
  {
   "cell_type": "markdown",
   "metadata": {},
   "source": [
    "#### Two pass algorithm (self-implemented after checking idea behind it)"
   ]
  },
  {
   "cell_type": "code",
   "execution_count": 50,
   "metadata": {},
   "outputs": [],
   "source": [
    "def removeNthFromEndTwoPass(head, n):\n",
    "    \"\"\"\n",
    "    Remove the (L - n + 1)(L−n+1) th node from the beginning in the list , where LL is the list length. \n",
    "    This problem is easy to solve once we found list length LL.\n",
    "    First we will add an auxiliary \"dummy\" node, which points to the list head. \n",
    "    The \"dummy\" node is used to simplify some corner cases such as a list with only one node, \n",
    "    or removing the head of the list. \n",
    "    On the first pass, we find the list length LL. \n",
    "    Then we set a pointer to the dummy node and start to move it through the list till it comes to the \n",
    "    (L - n)th node. \n",
    "    We relink next pointer of the (L - n)(L−n) th node to the (L - n + 2)(L−n+2) th node and we are done.\n",
    "    \"\"\"\n",
    "    dummy = ListNode(0)\n",
    "    dummy.next = head\n",
    "    pointer = head\n",
    "    L = 0\n",
    "    while (pointer != None):\n",
    "        L += 1\n",
    "        pointer = pointer.next\n",
    "    pointer = dummy\n",
    "    for i in range(L-n):\n",
    "        pointer = pointer.next\n",
    "    pointer.next = pointer.next.next\n",
    "    return dummy.next"
   ]
  },
  {
   "cell_type": "code",
   "execution_count": 51,
   "metadata": {},
   "outputs": [
    {
     "name": "stdout",
     "output_type": "stream",
     "text": [
      "1 -> 2 -> 3 -> 5\n"
     ]
    }
   ],
   "source": [
    "print(removeNthFromEndTwoPass(IntListFromString('1->2->3->4->5'),2))"
   ]
  },
  {
   "cell_type": "code",
   "execution_count": 52,
   "metadata": {},
   "outputs": [
    {
     "name": "stdout",
     "output_type": "stream",
     "text": [
      "1 -> 2 -> 3 -> 4\n"
     ]
    }
   ],
   "source": [
    "print(removeNthFromEndTwoPass(IntListFromString('1->2->3->4->5'),1))"
   ]
  },
  {
   "cell_type": "code",
   "execution_count": 53,
   "metadata": {},
   "outputs": [
    {
     "name": "stdout",
     "output_type": "stream",
     "text": [
      "2 -> 3 -> 4 -> 5\n"
     ]
    }
   ],
   "source": [
    "print(removeNthFromEndTwoPass(IntListFromString('1->2->3->4->5'),5))"
   ]
  },
  {
   "cell_type": "code",
   "execution_count": 54,
   "metadata": {},
   "outputs": [],
   "source": [
    "def removeNthFromEndOnePass(head, n):\n",
    "    \"\"\"\n",
    "    first first, second follows\n",
    "    \"\"\"\n",
    "    dummy = ListNode(0)\n",
    "    dummy.next = head\n",
    "    first = second = dummy\n",
    "    for i in range(n+1):\n",
    "        first = first.next\n",
    "    while first != None:\n",
    "        first = first.next\n",
    "        second = second.next\n",
    "    second.next = second.next.next\n",
    "    return dummy.next"
   ]
  },
  {
   "cell_type": "code",
   "execution_count": 55,
   "metadata": {},
   "outputs": [
    {
     "name": "stdout",
     "output_type": "stream",
     "text": [
      "1 -> 2 -> 3 -> 4\n"
     ]
    }
   ],
   "source": [
    "print(removeNthFromEndOnePass(IntListFromString('1->2->3->4->5'),1))"
   ]
  },
  {
   "cell_type": "code",
   "execution_count": 56,
   "metadata": {},
   "outputs": [
    {
     "name": "stdout",
     "output_type": "stream",
     "text": [
      "2 -> 3 -> 4 -> 5\n"
     ]
    }
   ],
   "source": [
    "print(removeNthFromEndOnePass(IntListFromString('1->2->3->4->5'),5))"
   ]
  },
  {
   "cell_type": "markdown",
   "metadata": {},
   "source": [
    "### 24. Swap Nodes in Pairs 7~"
   ]
  },
  {
   "cell_type": "markdown",
   "metadata": {},
   "source": [
    "#### Self-implemented recursion"
   ]
  },
  {
   "cell_type": "code",
   "execution_count": 61,
   "metadata": {},
   "outputs": [],
   "source": [
    "def swapPairsRecursive(head):\n",
    "    \"\"\"\n",
    "    :type head: ListNode\n",
    "    :rtype: ListNode\n",
    "    \"\"\"\n",
    "    if head is None or head.next is None:\n",
    "        return head\n",
    "    head.next.next = swapPairsRecursive(head.next.next)\n",
    "    newhead = head.next\n",
    "    newhead.next, head.next = head, newhead.next\n",
    "    return newhead"
   ]
  },
  {
   "cell_type": "code",
   "execution_count": 62,
   "metadata": {},
   "outputs": [
    {
     "name": "stdout",
     "output_type": "stream",
     "text": [
      "2 -> 1 -> 4 -> 3 -> 5\n"
     ]
    }
   ],
   "source": [
    "print(swapPairsRecursive(IntListFromString('1->2->3->4->5')))"
   ]
  },
  {
   "cell_type": "code",
   "execution_count": 64,
   "metadata": {},
   "outputs": [
    {
     "name": "stdout",
     "output_type": "stream",
     "text": [
      "2 -> 1 -> 4 -> 3\n"
     ]
    }
   ],
   "source": [
    "print(swapPairsRecursive(IntListFromString('1->2->3->4')))"
   ]
  },
  {
   "cell_type": "markdown",
   "metadata": {},
   "source": [
    "#### Standard recursion"
   ]
  },
  {
   "cell_type": "code",
   "execution_count": 66,
   "metadata": {},
   "outputs": [],
   "source": [
    "def swapPairs(head: ListNode) -> ListNode:\n",
    "    \"\"\"\n",
    "    :type head: ListNode\n",
    "    :rtype: ListNode\n",
    "    \"\"\"\n",
    "    if not head or not head.next:\n",
    "        return head\n",
    "\n",
    "    first_node = head\n",
    "    second_node = head.next\n",
    "\n",
    "    first_node.next  = swapPairs(second_node.next)\n",
    "    second_node.next = first_node\n",
    "\n",
    "    return second_node"
   ]
  },
  {
   "cell_type": "markdown",
   "metadata": {},
   "source": [
    "#### self-implemented iterative apporach after checking the idea behind it"
   ]
  },
  {
   "cell_type": "code",
   "execution_count": 73,
   "metadata": {},
   "outputs": [],
   "source": [
    "def swapPairsIterative(head: ListNode) -> ListNode:\n",
    "    \"\"\"\n",
    "    :type head: ListNode\n",
    "    :rtype: ListNode\n",
    "    \"\"\"\n",
    "    \"\"\"\n",
    "    dummy node, keep track of the previous one\n",
    "    \"\"\"\n",
    "    dummy = ListNode(0)\n",
    "    dummy.next = head\n",
    "    prev = dummy\n",
    "    while head and head.next:\n",
    "        first, second = head, head.next\n",
    "        first.next = second.next\n",
    "        second.next = first\n",
    "        prev.next = second\n",
    "        \n",
    "        prev = first\n",
    "        head = first.next\n",
    "    return dummy.next"
   ]
  },
  {
   "cell_type": "code",
   "execution_count": 74,
   "metadata": {},
   "outputs": [
    {
     "name": "stdout",
     "output_type": "stream",
     "text": [
      "2 -> 1 -> 4 -> 3\n"
     ]
    }
   ],
   "source": [
    "print(swapPairsIterative(IntListFromString('1->2->3->4')))"
   ]
  },
  {
   "cell_type": "code",
   "execution_count": 83,
   "metadata": {},
   "outputs": [],
   "source": [
    "import torch"
   ]
  },
  {
   "cell_type": "code",
   "execution_count": 85,
   "metadata": {},
   "outputs": [
    {
     "data": {
      "text/plain": [
       "tensor([[0, 1],\n",
       "        [0, 2],\n",
       "        [1, 0]])"
      ]
     },
     "execution_count": 85,
     "metadata": {},
     "output_type": "execute_result"
    }
   ],
   "source": [
    "torch.Tensor([[0,1,3],[4,0,0]]).nonzero()"
   ]
  },
  {
   "cell_type": "code",
   "execution_count": 86,
   "metadata": {},
   "outputs": [],
   "source": [
    "import numpy as np"
   ]
  },
  {
   "cell_type": "code",
   "execution_count": 111,
   "metadata": {},
   "outputs": [],
   "source": [
    "a = np.arange(6)\n",
    "np.random.shuffle(a)"
   ]
  },
  {
   "cell_type": "code",
   "execution_count": 112,
   "metadata": {},
   "outputs": [
    {
     "data": {
      "text/plain": [
       "array([1, 5, 0, 3, 4, 2])"
      ]
     },
     "execution_count": 112,
     "metadata": {},
     "output_type": "execute_result"
    }
   ],
   "source": [
    "a"
   ]
  },
  {
   "cell_type": "code",
   "execution_count": 105,
   "metadata": {},
   "outputs": [],
   "source": [
    "b = torch.Tensor([[0,1,0],[1,0,0], [1,0,1], [1,0,1]]).nonzero()"
   ]
  },
  {
   "cell_type": "code",
   "execution_count": 106,
   "metadata": {},
   "outputs": [
    {
     "data": {
      "text/plain": [
       "tensor([[0, 1],\n",
       "        [1, 0],\n",
       "        [2, 0],\n",
       "        [2, 2],\n",
       "        [3, 0],\n",
       "        [3, 2]])"
      ]
     },
     "execution_count": 106,
     "metadata": {},
     "output_type": "execute_result"
    }
   ],
   "source": [
    "b"
   ]
  },
  {
   "cell_type": "code",
   "execution_count": 107,
   "metadata": {},
   "outputs": [
    {
     "data": {
      "text/plain": [
       "torch.Size([6, 2])"
      ]
     },
     "execution_count": 107,
     "metadata": {},
     "output_type": "execute_result"
    }
   ],
   "source": [
    "b.size()"
   ]
  },
  {
   "cell_type": "code",
   "execution_count": 114,
   "metadata": {},
   "outputs": [
    {
     "data": {
      "text/plain": [
       "tensor([[1, 0],\n",
       "        [3, 2],\n",
       "        [0, 1]])"
      ]
     },
     "execution_count": 114,
     "metadata": {},
     "output_type": "execute_result"
    }
   ],
   "source": [
    "b[a[:3]]"
   ]
  },
  {
   "cell_type": "code",
   "execution_count": 115,
   "metadata": {},
   "outputs": [
    {
     "data": {
      "text/plain": [
       "tensor([], size=(0, 2), dtype=torch.int64)"
      ]
     },
     "execution_count": 115,
     "metadata": {},
     "output_type": "execute_result"
    }
   ],
   "source": [
    "c = torch.Tensor([[0,0,0],[0,0,0],[0,0,0],[0,0,0]])\n",
    "c.nonzero()"
   ]
  },
  {
   "cell_type": "code",
   "execution_count": 116,
   "metadata": {},
   "outputs": [
    {
     "data": {
      "text/plain": [
       "tensor(0.3135)"
      ]
     },
     "execution_count": 116,
     "metadata": {},
     "output_type": "execute_result"
    }
   ],
   "source": [
    "target = torch.ones([10, 64], dtype=torch.float32)  # 64 classes, batch size = 10\n",
    "output = torch.full([10, 64], 0.999)  # A prediction (logit)\n",
    "pos_weight = torch.ones([64])  # All weights are equal to 1\n",
    "criterion = torch.nn.BCEWithLogitsLoss(pos_weight=pos_weight)\n",
    "criterion(output, target)"
   ]
  },
  {
   "cell_type": "code",
   "execution_count": 127,
   "metadata": {},
   "outputs": [
    {
     "data": {
      "text/plain": [
       "tensor([0.3135])"
      ]
     },
     "execution_count": 127,
     "metadata": {},
     "output_type": "execute_result"
    }
   ],
   "source": [
    "-np.log(torch.sigmoid((torch.Tensor([0.999]))))"
   ]
  },
  {
   "cell_type": "code",
   "execution_count": 117,
   "metadata": {},
   "outputs": [
    {
     "data": {
      "text/plain": [
       "tensor(200.6597)"
      ]
     },
     "execution_count": 117,
     "metadata": {},
     "output_type": "execute_result"
    }
   ],
   "source": [
    "target = torch.ones([10, 64], dtype=torch.float32)  # 64 classes, batch size = 10\n",
    "output = torch.full([10, 64], 0.999)  # A prediction (logit)\n",
    "pos_weight = torch.ones([64])  # All weights are equal to 1\n",
    "criterion = torch.nn.BCEWithLogitsLoss(pos_weight=pos_weight, reduction='sum')\n",
    "criterion(output, target)"
   ]
  },
  {
   "cell_type": "code",
   "execution_count": 130,
   "metadata": {},
   "outputs": [
    {
     "data": {
      "text/plain": [
       "tensor(313.7846)"
      ]
     },
     "execution_count": 130,
     "metadata": {},
     "output_type": "execute_result"
    }
   ],
   "source": [
    "target = torch.ones([10, 64], dtype=torch.float32)  # 64 classes, batch size = 10\n",
    "output = torch.rand([10, 64])  # A prediction (logit)\n",
    "pos_weight = torch.ones([64])  # All weights are equal to 1\n",
    "criterion = torch.nn.BCEWithLogitsLoss(pos_weight=pos_weight, reduction='sum')\n",
    "criterion(output, target)"
   ]
  },
  {
   "cell_type": "code",
   "execution_count": 132,
   "metadata": {},
   "outputs": [
    {
     "data": {
      "text/plain": [
       "tensor(0.6931)"
      ]
     },
     "execution_count": 132,
     "metadata": {},
     "output_type": "execute_result"
    }
   ],
   "source": [
    "target = torch.ones([10, 64], dtype=torch.float32)  # 64 classes, batch size = 10\n",
    "output = torch.full([10, 64], 0)  # A prediction (logit)\n",
    "pos_weight = torch.ones([64])  # All weights are equal to 1\n",
    "criterion = torch.nn.BCEWithLogitsLoss(pos_weight=pos_weight, reduction='mean')\n",
    "criterion(output, target)"
   ]
  },
  {
   "cell_type": "code",
   "execution_count": 133,
   "metadata": {},
   "outputs": [
    {
     "ename": "NameError",
     "evalue": "name 'batchsize' is not defined",
     "output_type": "error",
     "traceback": [
      "\u001b[0;31m---------------------------------------------------------------------------\u001b[0m",
      "\u001b[0;31mNameError\u001b[0m                                 Traceback (most recent call last)",
      "\u001b[0;32m<ipython-input-133-0a25307cf8fe>\u001b[0m in \u001b[0;36m<module>\u001b[0;34m\u001b[0m\n\u001b[1;32m      2\u001b[0m \u001b[0mflattened_target\u001b[0m \u001b[0;34m=\u001b[0m \u001b[0;34m[\u001b[0m\u001b[0;34m]\u001b[0m\u001b[0;34m\u001b[0m\u001b[0;34m\u001b[0m\u001b[0m\n\u001b[1;32m      3\u001b[0m \u001b[0;34m\u001b[0m\u001b[0m\n\u001b[0;32m----> 4\u001b[0;31m \u001b[0;32mfor\u001b[0m \u001b[0minst\u001b[0m \u001b[0;32min\u001b[0m \u001b[0mrange\u001b[0m\u001b[0;34m(\u001b[0m\u001b[0mbatchsize\u001b[0m\u001b[0;34m)\u001b[0m\u001b[0;34m:\u001b[0m\u001b[0;34m\u001b[0m\u001b[0;34m\u001b[0m\u001b[0m\n\u001b[0m\u001b[1;32m      5\u001b[0m     \u001b[0;32mfor\u001b[0m \u001b[0mj\u001b[0m \u001b[0;32min\u001b[0m \u001b[0;36m33\u001b[0m\u001b[0;34m:\u001b[0m\u001b[0;34m\u001b[0m\u001b[0;34m\u001b[0m\u001b[0m\n\u001b[1;32m      6\u001b[0m         \u001b[0meffective_index\u001b[0m \u001b[0;34m=\u001b[0m \u001b[0mmask_tensor\u001b[0m\u001b[0;34m[\u001b[0m\u001b[0minst\u001b[0m\u001b[0;34m,\u001b[0m \u001b[0mj\u001b[0m\u001b[0;34m]\u001b[0m\u001b[0;34m.\u001b[0m\u001b[0mnonzero\u001b[0m\u001b[0;34m(\u001b[0m\u001b[0;34m)\u001b[0m\u001b[0;34m\u001b[0m\u001b[0;34m\u001b[0m\u001b[0m\n",
      "\u001b[0;31mNameError\u001b[0m: name 'batchsize' is not defined"
     ]
    }
   ],
   "source": [
    "flattened_probability = []\n",
    "flattened_target = []\n",
    "\n",
    "for inst in range(batchsize):\n",
    "    for j in 33:\n",
    "        effective_index = mask_tensor[inst, j].nonzero()\n",
    "        if effective_index.nelement() == 0:\n",
    "            continue\n",
    "        one_index = target_tensor[inst, j].nonzero()\n",
    "        zero_index = (target_tensor[inst, j] != 0).nonzero()\n",
    "        shuffled = torch.randperm(one_index.size()[0])\n",
    "        if one_index.size()[0] > 2:\n",
    "            flattened_probability.append(probability_tensor[inst][j][shuffled[0]])\n",
    "            flattened_probability.append(probability_tensor[inst][j][shuffled[1]])\n",
    "            flattened_target.append(target_tensor[inst][j][shuffled[0]])\n",
    "            flattened_target.append(target_tensor[inst][j][shuffled[1]])\n",
    "        elif one_index.size()[0] == 2:\n",
    "            flattened_probability.append(probability_tensor[inst][j][shuffled[0]])\n",
    "            flattened_probability.append(probability_tensor[inst][j][shuffled[0]])\n",
    "            flattened_target.append(target_tensor[inst][j][shuffled[0]])\n",
    "            flattened_target.append(target_tensor[inst][j][shuffled[0]])\n",
    "        shuffled = torch.randperm(zero_index.size()[0])\n",
    "        if zero_index.size()[0] > 2:\n",
    "            flattened_probability.append(probability_tensor[inst][j][shuffled[0]])\n",
    "            flattened_probability.append(probability_tensor[inst][j][shuffled[1]])\n",
    "            flattened_target.append(target_tensor[inst][j][shuffled[0]])\n",
    "            flattened_target.append(target_tensor[inst][j][shuffled[1]])\n",
    "        elif zero_index.size()[0] == 2:\n",
    "            flattened_probability.append(probability_tensor[inst][j][shuffled[0]])\n",
    "            flattened_probability.append(probability_tensor[inst][j][shuffled[0]])\n",
    "            flattened_target.append(target_tensor[inst][j][shuffled[0]])\n",
    "            flattened_target.append(target_tensor[inst][j][shuffled[0]])"
   ]
  },
  {
   "cell_type": "code",
   "execution_count": null,
   "metadata": {},
   "outputs": [],
   "source": []
  }
 ],
 "metadata": {
  "kernelspec": {
   "display_name": "Python 3",
   "language": "python",
   "name": "python3"
  },
  "language_info": {
   "codemirror_mode": {
    "name": "ipython",
    "version": 3
   },
   "file_extension": ".py",
   "mimetype": "text/x-python",
   "name": "python",
   "nbconvert_exporter": "python",
   "pygments_lexer": "ipython3",
   "version": "3.7.1"
  }
 },
 "nbformat": 4,
 "nbformat_minor": 2
}
