{
 "cells": [
  {
   "cell_type": "markdown",
   "metadata": {},
   "source": [
    "## Linked List"
   ]
  },
  {
   "cell_type": "markdown",
   "metadata": {},
   "source": [
    "### 2. Add Two Numbers"
   ]
  },
  {
   "cell_type": "markdown",
   "metadata": {},
   "source": [
    "#### Self-implemented helper functions"
   ]
  },
  {
   "cell_type": "code",
   "execution_count": 1,
   "metadata": {},
   "outputs": [],
   "source": [
    "class ListNode(object):\n",
    "    def __init__(self, x, node=None):\n",
    "        self.val = x\n",
    "        self.next = node\n",
    "    \n",
    "    def __str__(self):\n",
    "        if (self == None):\n",
    "            return \"\"\n",
    "        else:\n",
    "            pointer = self\n",
    "            string = str(pointer.val)\n",
    "            while (pointer.next != None):\n",
    "                string += \" -> \" + str(pointer.next.val)\n",
    "                pointer = pointer.next\n",
    "            return string\n",
    "    \n",
    "    def copy(self):\n",
    "        curr = dummy = ListNode(0)\n",
    "        pointer = self\n",
    "        while (pointer != None):\n",
    "            curr.next = ListNode(pointer.val)\n",
    "            pointer = pointer.next\n",
    "            curr = curr.next\n",
    "        return dummy.next"
   ]
  },
  {
   "cell_type": "code",
   "execution_count": 2,
   "metadata": {},
   "outputs": [],
   "source": [
    "def IntListFromString(string):\n",
    "    curr = dummy = ListNode(0)\n",
    "    parsed = string.split('->')\n",
    "    if parsed == ['']:\n",
    "        return None\n",
    "    for n in parsed:\n",
    "        curr.next = ListNode(int(n.strip()))\n",
    "        curr = curr.next\n",
    "    return dummy.next"
   ]
  },
  {
   "cell_type": "code",
   "execution_count": 3,
   "metadata": {},
   "outputs": [],
   "source": [
    "def LLCopy(self):\n",
    "    curr = dummy = ListNode(0)\n",
    "    pointer = self\n",
    "    while (pointer != None):\n",
    "        curr.next = ListNode(pointer.val)\n",
    "        pointer = pointer.next\n",
    "        curr = curr.next\n",
    "    return dummy.next"
   ]
  },
  {
   "cell_type": "markdown",
   "metadata": {},
   "source": [
    "#### self-implemented solution"
   ]
  },
  {
   "cell_type": "code",
   "execution_count": 4,
   "metadata": {},
   "outputs": [],
   "source": [
    "def addTwoNumbers(l1, l2):\n",
    "    \"\"\"\n",
    "    :type l1: ListNode\n",
    "    :type l2: ListNode\n",
    "    :rtype: ListNode\n",
    "    \"\"\"\n",
    "    if (l1 == None) & (l2 == None):\n",
    "        return None\n",
    "    elif l1 == None:\n",
    "        Sum = ListNode(l2.val)\n",
    "        pointer = Sum\n",
    "        while l2.next != None:\n",
    "            pointer.next = ListNode(l2.next.val)\n",
    "            l2 = l2.next\n",
    "            pointer = pointer.next\n",
    "        return Sum\n",
    "    elif l2 == None:\n",
    "        return addTwoNumbers(l2, l1)\n",
    "    else:\n",
    "        value_sum = l1.val + l2.val\n",
    "        Sum = ListNode(value_sum % 10)\n",
    "        carry = value_sum // 10\n",
    "        pointer = Sum\n",
    "        while (l1.next != None) & (l2.next != None):\n",
    "            value_sum = l1.next.val + l2.next.val + carry\n",
    "            carry = value_sum // 10\n",
    "            pointer.next = ListNode(value_sum % 10)\n",
    "            pointer = pointer.next\n",
    "            l1 = l1.next\n",
    "            l2 = l2.next\n",
    "        while l1.next != None:\n",
    "            value_sum = l1.next.val + carry\n",
    "            carry = value_sum // 10\n",
    "            pointer.next = ListNode(value_sum % 10)\n",
    "            pointer = pointer.next\n",
    "            l1 = l1.next\n",
    "        while l2.next != None:\n",
    "            value_sum = l2.next.val + carry\n",
    "            carry = value_sum // 10\n",
    "            pointer.next = ListNode(value_sum % 10)\n",
    "            pointer = pointer.next\n",
    "            l2 = l2.next\n",
    "        if (carry == 0):\n",
    "            return Sum\n",
    "        else:\n",
    "            pointer.next = ListNode(carry)\n",
    "            return Sum"
   ]
  },
  {
   "cell_type": "markdown",
   "metadata": {},
   "source": [
    "#### code written after reading pseudocode, brilliantly elegant!"
   ]
  },
  {
   "cell_type": "code",
   "execution_count": 5,
   "metadata": {},
   "outputs": [],
   "source": [
    "def addTwoNumbersDummy(l1, l2):\n",
    "    curr = dummy = ListNode(0)\n",
    "    p, q, carry = l1, l2, 0\n",
    "    while p or q:\n",
    "        x = p.val if p else 0\n",
    "        y = q.val if q else 0\n",
    "        Sum = x+y+carry\n",
    "        carry = Sum//10\n",
    "        if p: \n",
    "            p = p.next\n",
    "        if q: \n",
    "            q = q.next\n",
    "        curr.next = ListNode(Sum%10) # what we assign is next, that's why we need a dummy head\n",
    "        curr = curr.next\n",
    "    if carry == 1:\n",
    "        curr.next = ListNode(1)\n",
    "    return dummy.next"
   ]
  },
  {
   "cell_type": "code",
   "execution_count": 6,
   "metadata": {},
   "outputs": [
    {
     "name": "stdout",
     "output_type": "stream",
     "text": [
      "7 -> 0 -> 2 -> 1\n"
     ]
    }
   ],
   "source": [
    "print(addTwoNumbersDummy(IntListFromString('2 -> 4 -> 3'), IntListFromString('5 -> 6 -> 8')))"
   ]
  },
  {
   "cell_type": "markdown",
   "metadata": {},
   "source": [
    "### 21. Merge Two Sorted Lists"
   ]
  },
  {
   "cell_type": "markdown",
   "metadata": {},
   "source": [
    "#### self-implemented solution"
   ]
  },
  {
   "cell_type": "code",
   "execution_count": 7,
   "metadata": {},
   "outputs": [],
   "source": [
    "def merge(l1, l2):\n",
    "    if (l1 == None) & (l2 == None):\n",
    "        return None\n",
    "    elif (l2 == None):\n",
    "        output = ListNode(l1.val)\n",
    "        pointer = output\n",
    "        l1 = l1.next\n",
    "        while (l1 != None):\n",
    "            pointer.next = ListNode(l1.val)\n",
    "            l1 = l1.next\n",
    "            pointer = pointer.next\n",
    "        return output\n",
    "    elif (l1 == None):\n",
    "        output = ListNode(l2.val)\n",
    "        pointer = output\n",
    "        l2 = l2.next\n",
    "        while (l2 != None):\n",
    "            pointer.next = ListNode(l2.val)\n",
    "            l2 = l2.next\n",
    "            pointer = pointer.next\n",
    "        return output\n",
    "    if (l1.val <= l2.val):\n",
    "        output = ListNode(l1.val)\n",
    "        l1 = l1.next\n",
    "    else:\n",
    "        output = ListNode(l2.val)\n",
    "        l2 = l2.next\n",
    "    pointer = output\n",
    "    while (l1 != None) & (l2 != None):\n",
    "        if (l1.val <= l2.val):\n",
    "            pointer.next = ListNode(l1.val)\n",
    "            l1 = l1.next\n",
    "            pointer = pointer.next\n",
    "        else:\n",
    "            pointer.next = ListNode(l2.val)\n",
    "            l2 = l2.next\n",
    "            pointer = pointer.next\n",
    "    if (l1 == None):\n",
    "        pointer.next = merge(l2, None)\n",
    "    else:\n",
    "        pointer.next = merge(l1, None)\n",
    "    return output"
   ]
  },
  {
   "cell_type": "code",
   "execution_count": 8,
   "metadata": {},
   "outputs": [
    {
     "name": "stdout",
     "output_type": "stream",
     "text": [
      "1 -> 1 -> 2 -> 3 -> 4 -> 4\n"
     ]
    }
   ],
   "source": [
    "print(merge(IntListFromString('1->2->4'), IntListFromString('1->3->4')))"
   ]
  },
  {
   "cell_type": "markdown",
   "metadata": {},
   "source": [
    "#### code written after reading pseudocode"
   ]
  },
  {
   "cell_type": "code",
   "execution_count": 9,
   "metadata": {},
   "outputs": [],
   "source": [
    "def mergeRecursive(l1, l2):\n",
    "    if not l1:\n",
    "        return LLCopy(l2)\n",
    "    if not l2:\n",
    "        return LLCopy(l1)\n",
    "    if l1.val < l2.val:\n",
    "        newNode = ListNode(l1.val)\n",
    "        newNode.next = mergeRecursive(l1.next, l2)\n",
    "    else:\n",
    "        newNode = ListNode(l2.val)\n",
    "        newNode.next = mergeRecursive(l1, l2.next)\n",
    "    return newNode"
   ]
  },
  {
   "cell_type": "code",
   "execution_count": 10,
   "metadata": {},
   "outputs": [
    {
     "name": "stdout",
     "output_type": "stream",
     "text": [
      "1 -> 1 -> 2 -> 3 -> 4 -> 4\n"
     ]
    }
   ],
   "source": [
    "l1 = IntListFromString('1->2->4')\n",
    "l2 = IntListFromString('1->3->4')\n",
    "print(mergeRecursive(l1, l2))"
   ]
  },
  {
   "cell_type": "code",
   "execution_count": 11,
   "metadata": {},
   "outputs": [],
   "source": [
    "def mergeIterative(l1, l2): # This is pretty fast\n",
    "    curr = dummy = ListNode(0)\n",
    "    \n",
    "    if not l1 and not l2:\n",
    "        return None\n",
    "    \n",
    "    while l1 and l2:\n",
    "        if l1.val <= l2.val:\n",
    "            curr.next = ListNode(l1.val)\n",
    "            l1 = l1.next\n",
    "        else:\n",
    "            curr.next = ListNode(l2.val)\n",
    "            l2 = l2.next            \n",
    "        curr = curr.next\n",
    "\n",
    "    curr.next = LLCopy(l1) if not l2 else LLCopy(l2)\n",
    "\n",
    "    return dummy.next"
   ]
  },
  {
   "cell_type": "code",
   "execution_count": 12,
   "metadata": {},
   "outputs": [
    {
     "name": "stdout",
     "output_type": "stream",
     "text": [
      "1 -> 1 -> 2 -> 3 -> 4 -> 4\n"
     ]
    }
   ],
   "source": [
    "print(mergeIterative(l1, l2))"
   ]
  },
  {
   "cell_type": "markdown",
   "metadata": {},
   "source": [
    "### 206. Reverse Linked List"
   ]
  },
  {
   "cell_type": "markdown",
   "metadata": {},
   "source": [
    "#### Brilliant recursive method! (animation would be great!)"
   ]
  },
  {
   "cell_type": "code",
   "execution_count": 13,
   "metadata": {},
   "outputs": [],
   "source": [
    "def reverseList(head): # This is destructive, the reamining head will be a list of length 1\n",
    "    \"\"\"\n",
    "    :type head: ListNode\n",
    "    :rtype: ListNode\n",
    "    \"\"\"\n",
    "    if not head or not head.next: # But the listnodes and the values remain unchanged, only links are changed\n",
    "        return head\n",
    "    head_new = reverseList(head.next)\n",
    "    head.next.next = head\n",
    "    head.next = None\n",
    "    return head_new"
   ]
  },
  {
   "cell_type": "code",
   "execution_count": 14,
   "metadata": {},
   "outputs": [
    {
     "name": "stdout",
     "output_type": "stream",
     "text": [
      "2 -> 1\n"
     ]
    }
   ],
   "source": [
    "l3 = IntListFromString('1->2')\n",
    "print(reverseList(l3))"
   ]
  },
  {
   "cell_type": "code",
   "execution_count": 15,
   "metadata": {},
   "outputs": [
    {
     "name": "stdout",
     "output_type": "stream",
     "text": [
      "4 -> 2 -> 1\n"
     ]
    }
   ],
   "source": [
    "print(reverseList(l1))\n",
    "l1 = IntListFromString('1->2->4')"
   ]
  },
  {
   "cell_type": "markdown",
   "metadata": {},
   "source": [
    "#### Iterative (self-implemented)"
   ]
  },
  {
   "cell_type": "code",
   "execution_count": 16,
   "metadata": {},
   "outputs": [],
   "source": [
    "def reverseListIterative(head): \n",
    "    \"\"\"\n",
    "    :type head: ListNode\n",
    "    :rtype: ListNode\n",
    "    \"\"\"\n",
    "    prev = None\n",
    "    curr = head\n",
    "    while curr:\n",
    "        nextTemp = curr.next\n",
    "        curr.next = prev\n",
    "        prev = curr\n",
    "        curr = nextTemp\n",
    "    return prev"
   ]
  },
  {
   "cell_type": "code",
   "execution_count": 17,
   "metadata": {},
   "outputs": [
    {
     "name": "stdout",
     "output_type": "stream",
     "text": [
      "4 -> 2 -> 1\n"
     ]
    }
   ],
   "source": [
    "print(reverseListIterative(l1))\n",
    "l1 = IntListFromString('1->2->4')"
   ]
  },
  {
   "cell_type": "code",
   "execution_count": 18,
   "metadata": {},
   "outputs": [],
   "source": [
    "def reverseListIterativeStandard(head):  # This is significantly faster than the self-implemented one\n",
    "    prev, curr = None, head\n",
    "    while curr:\n",
    "        curr.next, prev, curr = prev, curr, curr.next\n",
    "    return prev"
   ]
  },
  {
   "cell_type": "code",
   "execution_count": 19,
   "metadata": {},
   "outputs": [
    {
     "name": "stdout",
     "output_type": "stream",
     "text": [
      "4 -> 2 -> 1\n"
     ]
    }
   ],
   "source": [
    "print(reverseListIterativeStandard(l1))\n",
    "l1 = IntListFromString('1->2->4')"
   ]
  },
  {
   "cell_type": "code",
   "execution_count": null,
   "metadata": {},
   "outputs": [],
   "source": []
  }
 ],
 "metadata": {
  "kernelspec": {
   "display_name": "Python 3",
   "language": "python",
   "name": "python3"
  },
  "language_info": {
   "codemirror_mode": {
    "name": "ipython",
    "version": 3
   },
   "file_extension": ".py",
   "mimetype": "text/x-python",
   "name": "python",
   "nbconvert_exporter": "python",
   "pygments_lexer": "ipython3",
   "version": "3.7.1"
  }
 },
 "nbformat": 4,
 "nbformat_minor": 2
}
