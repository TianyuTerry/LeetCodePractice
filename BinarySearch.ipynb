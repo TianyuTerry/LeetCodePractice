{
 "cells": [
  {
   "cell_type": "markdown",
   "metadata": {},
   "source": [
    "## 4. Median of Two Sorted Arrays"
   ]
  },
  {
   "cell_type": "markdown",
   "metadata": {},
   "source": [
    "### self-written solution after watching YouTube video"
   ]
  },
  {
   "cell_type": "code",
   "execution_count": 2,
   "metadata": {},
   "outputs": [],
   "source": [
    "from typing import List"
   ]
  },
  {
   "cell_type": "code",
   "execution_count": 25,
   "metadata": {},
   "outputs": [],
   "source": [
    "class Solution4:\n",
    "    def findMedianSortedArrays(self, nums1: List[int], nums2: List[int]) -> float:\n",
    "        # this question is indeed hard, the setting of infinity is important and crucial\n",
    "        if len(nums1) < len(nums2):\n",
    "            x = nums1\n",
    "            y = nums2\n",
    "        else:\n",
    "            x = nums2\n",
    "            y = nums1\n",
    "#         print(\"smaller array: \", x)\n",
    "        start, end = 0, len(x)\n",
    "        while start <= end:\n",
    "#             print(start, end)\n",
    "            len_x_left = (start + end) // 2\n",
    "            len_y_left = (len(x) + len(y) + 1) // 2 - len_x_left\n",
    "            x_left_max = x[len_x_left-1] if len_x_left > 0 else float(\"-inf\")\n",
    "            x_right_min = x[len_x_left] if len_x_left < len(x) else float(\"inf\")\n",
    "            y_left_max = y[len_y_left-1] if len_y_left > 0 else float(\"-inf\")\n",
    "            y_right_min = y[len_y_left] if len_y_left < len(y) else float(\"inf\")\n",
    "            if x_left_max <= y_right_min and y_left_max <= x_right_min:\n",
    "#                 print(x_left_max, x_right_min, y_left_max, y_right_min)\n",
    "                if (len(x) + len(y)) % 2 == 0:\n",
    "#                     print(\"even\")\n",
    "                    return (max(x_left_max, y_left_max) + min(x_right_min, y_right_min)) / 2 \n",
    "#                 print(\"odd\")\n",
    "                return max(x_left_max, y_left_max)\n",
    "            if x_left_max > y_right_min:\n",
    "                end = len_x_left - 1\n",
    "            else:\n",
    "                start = len_x_left + 1"
   ]
  },
  {
   "cell_type": "code",
   "execution_count": 26,
   "metadata": {},
   "outputs": [
    {
     "data": {
      "text/plain": [
       "(2, 2.5, 2, 1)"
      ]
     },
     "execution_count": 26,
     "metadata": {},
     "output_type": "execute_result"
    }
   ],
   "source": [
    "solver_4 = Solution4()\n",
    "solver_4.findMedianSortedArrays(nums1 = [1,3], nums2 = [2]),\\\n",
    "solver_4.findMedianSortedArrays(nums1 = [1,2], nums2 = [3,4]),\\\n",
    "solver_4.findMedianSortedArrays(nums1 = [2], nums2 = []),\\\n",
    "solver_4.findMedianSortedArrays(nums1 = [], nums2 = [1])"
   ]
  },
  {
   "cell_type": "markdown",
   "metadata": {},
   "source": [
    "## Three templates of Binary Search"
   ]
  },
  {
   "cell_type": "markdown",
   "metadata": {},
   "source": [
    "### template 1"
   ]
  },
  {
   "cell_type": "code",
   "execution_count": 27,
   "metadata": {},
   "outputs": [],
   "source": [
    "def binarySearch(nums, target):\n",
    "    \"\"\"\n",
    "    :type nums: List[int]\n",
    "    :type target: int\n",
    "    :rtype: int\n",
    "    \"\"\"\n",
    "    if len(nums) == 0:\n",
    "        return -1\n",
    "\n",
    "    left, right = 0, len(nums) - 1\n",
    "    while left <= right:\n",
    "        mid = (left + right) // 2\n",
    "        if nums[mid] == target:\n",
    "            return mid\n",
    "        elif nums[mid] < target:\n",
    "            left = mid + 1\n",
    "        else:\n",
    "            right = mid - 1\n",
    "    # no more post-processing\n",
    "    # End Condition: left > right\n",
    "    return -1"
   ]
  },
  {
   "cell_type": "markdown",
   "metadata": {},
   "source": [
    "### template 2"
   ]
  },
  {
   "cell_type": "code",
   "execution_count": 28,
   "metadata": {},
   "outputs": [],
   "source": [
    "def binarySearch(nums, target):\n",
    "    \"\"\"\n",
    "    :type nums: List[int]\n",
    "    :type target: int\n",
    "    :rtype: int\n",
    "    \"\"\"\n",
    "    if len(nums) == 0:\n",
    "        return -1\n",
    "\n",
    "    left, right = 0, len(nums)\n",
    "    while left < right:\n",
    "        mid = (left + right) // 2\n",
    "        if nums[mid] == target:\n",
    "            return mid\n",
    "        elif nums[mid] < target:\n",
    "            left = mid + 1\n",
    "        else:\n",
    "            right = mid\n",
    "\n",
    "    # Post-processing: one more candidate\n",
    "    # Loop/Recursion ends when you have 1 element left. Need to assess if the remaining element meets the condition.\n",
    "    # End Condition: left == right\n",
    "    # Search Condition needs to access element's immediate right neighbor\n",
    "    if left != len(nums) and nums[left] == target:\n",
    "        return left\n",
    "    return -1"
   ]
  },
  {
   "cell_type": "markdown",
   "metadata": {},
   "source": [
    "### template 3"
   ]
  },
  {
   "cell_type": "code",
   "execution_count": 29,
   "metadata": {},
   "outputs": [],
   "source": [
    "def binarySearch(nums, target):\n",
    "    \"\"\"\n",
    "    :type nums: List[int]\n",
    "    :type target: int\n",
    "    :rtype: int\n",
    "    \"\"\"\n",
    "    if len(nums) == 0:\n",
    "        return -1\n",
    "\n",
    "    left, right = 0, len(nums) - 1\n",
    "    while left + 1 < right:\n",
    "        mid = (left + right) // 2\n",
    "        if nums[mid] == target:\n",
    "            return mid\n",
    "        elif nums[mid] < target:\n",
    "            left = mid\n",
    "        else:\n",
    "            right = mid\n",
    "\n",
    "    # Post-processing: two more candidate\n",
    "    # Loop/Recursion ends when you have 2 elements left. Need to assess if the remaining elements meet the condition.\n",
    "    # End Condition: left + 1 == right\n",
    "    # Search Condition needs to access element's immediate left and right neighbors\n",
    "    if nums[left] == target: return left\n",
    "    if nums[right] == target: return right\n",
    "    return -1"
   ]
  },
  {
   "cell_type": "markdown",
   "metadata": {},
   "source": [
    "### Template 1 and 3 are the most commonly used and almost all binary search problems can be easily implemented in one of them. Template 2 is a bit more advanced and used for certain types of problems."
   ]
  },
  {
   "cell_type": "markdown",
   "metadata": {},
   "source": [
    "## 528. Random Pick with Weight"
   ]
  },
  {
   "cell_type": "code",
   "execution_count": 33,
   "metadata": {},
   "outputs": [],
   "source": [
    "import random\n",
    "\n",
    "class Solution528:\n",
    "\n",
    "    def __init__(self, w: List[int]):\n",
    "        self.weights = []\n",
    "        cumsum = 0\n",
    "        for val in w:\n",
    "            cumsum += val\n",
    "            self.weights.append(cumsum)\n",
    "\n",
    "    def pickIndex(self) -> int:\n",
    "        target = self.weights[-1]*random.random()\n",
    "        left, right = 0, len(self.weights)\n",
    "        while left < right:\n",
    "            mid = (left + right) // 2\n",
    "            if self.weights[mid] < target:\n",
    "                left = mid + 1\n",
    "            else:\n",
    "                right = mid\n",
    "        return left"
   ]
  },
  {
   "cell_type": "markdown",
   "metadata": {},
   "source": [
    "## 50. Pow(x, n)"
   ]
  },
  {
   "cell_type": "markdown",
   "metadata": {},
   "source": [
    "### self-written recursive solution after checking answers"
   ]
  },
  {
   "cell_type": "code",
   "execution_count": 35,
   "metadata": {},
   "outputs": [],
   "source": [
    "class Solution:\n",
    "    def myPow(self, x: float, n: int) -> float:\n",
    "        if n == 0:\n",
    "            return 1\n",
    "        if n < 0:\n",
    "            return self.myPow(1/x, -n)\n",
    "        if n % 2 == 0:\n",
    "            half = self.myPow(x, n//2)\n",
    "            return half*half\n",
    "        else:\n",
    "            half = self.myPow(x, n//2)\n",
    "            return half*half*x"
   ]
  },
  {
   "cell_type": "markdown",
   "metadata": {},
   "source": [
    "### self-written iterative solution after checking answers"
   ]
  },
  {
   "cell_type": "code",
   "execution_count": 36,
   "metadata": {},
   "outputs": [],
   "source": [
    "class Solution:\n",
    "    def myPow(self, x: float, n: int) -> float:\n",
    "        if n < 0:\n",
    "            return self.myPow(1/x, -n)\n",
    "        ret = 1\n",
    "        currProduct = x\n",
    "        while n > 0:\n",
    "            if n % 2 == 1:\n",
    "                ret *= currProduct\n",
    "            currProduct *= currProduct\n",
    "            n //= 2\n",
    "        return ret"
   ]
  },
  {
   "cell_type": "code",
   "execution_count": null,
   "metadata": {},
   "outputs": [],
   "source": []
  }
 ],
 "metadata": {
  "kernelspec": {
   "display_name": "Python 3",
   "language": "python",
   "name": "python3"
  },
  "language_info": {
   "codemirror_mode": {
    "name": "ipython",
    "version": 3
   },
   "file_extension": ".py",
   "mimetype": "text/x-python",
   "name": "python",
   "nbconvert_exporter": "python",
   "pygments_lexer": "ipython3",
   "version": "3.7.1"
  }
 },
 "nbformat": 4,
 "nbformat_minor": 4
}
