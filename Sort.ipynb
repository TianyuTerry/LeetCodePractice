{
 "cells": [
  {
   "cell_type": "markdown",
   "metadata": {},
   "source": [
    "## 973. K Closest Points to Origin"
   ]
  },
  {
   "cell_type": "markdown",
   "metadata": {},
   "source": [
    "### self-written sorting solution"
   ]
  },
  {
   "cell_type": "code",
   "execution_count": 2,
   "metadata": {},
   "outputs": [],
   "source": [
    "from typing import List"
   ]
  },
  {
   "cell_type": "code",
   "execution_count": 4,
   "metadata": {},
   "outputs": [],
   "source": [
    "class Solution973:\n",
    "    def kClosest(self, points: List[List[int]], k: int) -> List[List[int]]:\n",
    "        return sorted(points, key=lambda point: point[0]**2 + point[1]**2)[:k]"
   ]
  },
  {
   "cell_type": "markdown",
   "metadata": {},
   "source": [
    "### self-written heap solution, passed all tests"
   ]
  },
  {
   "cell_type": "code",
   "execution_count": 5,
   "metadata": {},
   "outputs": [],
   "source": [
    "# haven't used this pq for a long time... take some time to refresh\n",
    "from queue import PriorityQueue"
   ]
  },
  {
   "cell_type": "code",
   "execution_count": 34,
   "metadata": {},
   "outputs": [],
   "source": [
    "class Solution973:\n",
    "    def kClosest(self, points: List[List[int]], k: int) -> List[List[int]]:\n",
    "        queue = PriorityQueue(maxsize=k)\n",
    "        for point in points:\n",
    "            distance = point[0]**2 + point[1]**2\n",
    "            if queue.full():\n",
    "                if queue.queue[0][0] > -distance:\n",
    "                    continue\n",
    "                queue.get()\n",
    "            queue.put((-distance, point))\n",
    "        ret = []\n",
    "        while not queue.empty():\n",
    "            ret.append(queue.get()[1])\n",
    "        return ret"
   ]
  },
  {
   "cell_type": "code",
   "execution_count": 35,
   "metadata": {},
   "outputs": [
    {
     "data": {
      "text/plain": [
       "[[-69, -8], [-36, -57], [53, 20], [-2, -42], [17, 7]]"
      ]
     },
     "execution_count": 35,
     "metadata": {},
     "output_type": "execute_result"
    }
   ],
   "source": [
    "solver_973 = Solution973()\n",
    "# solver_973.kClosest([[3,3],[5,-1],[-2,4]], 2)\n",
    "solver_973.kClosest([[-95,76],[17,7],[-55,-58],[53,20],[-69,-8],[-57,87],[-2,-42],[-10,-87],[-36,-57],[97,-39],[97,49]], 5)"
   ]
  },
  {
   "cell_type": "markdown",
   "metadata": {},
   "source": [
    "### self-written heap solution, passed all tests"
   ]
  },
  {
   "cell_type": "code",
   "execution_count": 56,
   "metadata": {},
   "outputs": [],
   "source": [
    "import heapq"
   ]
  },
  {
   "cell_type": "code",
   "execution_count": 62,
   "metadata": {},
   "outputs": [],
   "source": [
    "class Solution973:\n",
    "    def kClosest(self, points: List[List[int]], k: int) -> List[List[int]]:\n",
    "        return heapq.nlargest(k, points, key=lambda point: - (point[0]**2 + point[1]**2))"
   ]
  },
  {
   "cell_type": "code",
   "execution_count": 63,
   "metadata": {},
   "outputs": [
    {
     "data": {
      "text/plain": [
       "[[17, 7], [-2, -42], [53, 20], [-36, -57], [-69, -8]]"
      ]
     },
     "execution_count": 63,
     "metadata": {},
     "output_type": "execute_result"
    }
   ],
   "source": [
    "solver_973 = Solution973()\n",
    "# solver_973.kClosest([[3,3],[5,-1],[-2,4]], 2)\n",
    "solver_973.kClosest([[-95,76],[17,7],[-55,-58],[53,20],[-69,-8],[-57,87],[-2,-42],[-10,-87],[-36,-57],[97,-39],[97,49]], 5)"
   ]
  },
  {
   "cell_type": "markdown",
   "metadata": {},
   "source": [
    "### self-written quik selection, passed all tests"
   ]
  },
  {
   "cell_type": "code",
   "execution_count": 36,
   "metadata": {},
   "outputs": [],
   "source": [
    "import random"
   ]
  },
  {
   "cell_type": "code",
   "execution_count": 54,
   "metadata": {},
   "outputs": [],
   "source": [
    "class Solution973:\n",
    "    def kClosest(self, points: List[List[int]], k: int) -> List[List[int]]:\n",
    "        # haven't implemented quick selection for a long time, take some time to refresh\n",
    "        distances = {}\n",
    "        for point in points:\n",
    "            distances[tuple(point)] = point[0]**2 + point[1]**2\n",
    "        def partition(left, right, k):\n",
    "            # inclusive\n",
    "            pivot = random.randint(left, right)\n",
    "            points[pivot], points[right] = points[right], points[pivot]\n",
    "            store_index = left\n",
    "            for i in range(left, right):\n",
    "                if distances[tuple(points[i])] < distances[tuple(points[right])]:\n",
    "                    points[i], points[store_index] = points[store_index], points[i]\n",
    "                    store_index += 1\n",
    "            points[store_index], points[right] = points[right], points[store_index]\n",
    "            return store_index # 0-indexed\n",
    "        def select(left, right, k):\n",
    "            if left == right:\n",
    "                return points[:k+1] # important here, not to return points[k] but points[:k+1] instead\n",
    "            middle_index = partition(left, right, k)\n",
    "            if middle_index == k:\n",
    "                return points[:k+1]\n",
    "            elif middle_index < k:\n",
    "                return select(middle_index+1, right, k)\n",
    "            else:\n",
    "                return select(left, middle_index-1, k)\n",
    "        return select(0, len(points)-1, k-1)"
   ]
  },
  {
   "cell_type": "code",
   "execution_count": 55,
   "metadata": {},
   "outputs": [
    {
     "data": {
      "text/plain": [
       "([[3, 3], [-2, 4]],\n",
       " [[-2, 2]],\n",
       " [[17, 7], [53, 20], [-2, -42], [-36, -57], [-69, -8]])"
      ]
     },
     "execution_count": 55,
     "metadata": {},
     "output_type": "execute_result"
    }
   ],
   "source": [
    "solver_973 = Solution973()\n",
    "solver_973.kClosest([[3,3],[5,-1],[-2,4]], 2), solver_973.kClosest([[1,3],[-2,2]], 1),\\\n",
    "solver_973.kClosest([[-95,76],[17,7],[-55,-58],[53,20],[-69,-8],[-57,87],[-2,-42],[-10,-87],[-36,-57],[97,-39],[97,49]], 5)"
   ]
  },
  {
   "cell_type": "markdown",
   "metadata": {},
   "source": [
    "## 215. Kth Largest Element in an Array"
   ]
  },
  {
   "cell_type": "markdown",
   "metadata": {},
   "source": [
    "### self-written heap solution"
   ]
  },
  {
   "cell_type": "code",
   "execution_count": 57,
   "metadata": {},
   "outputs": [],
   "source": [
    "class Solution215:\n",
    "    def findKthLargest(self, nums: List[int], k: int) -> int:\n",
    "        return heapq.nlargest(k, nums)[-1]"
   ]
  },
  {
   "cell_type": "markdown",
   "metadata": {},
   "source": [
    "### self-written quick selection"
   ]
  },
  {
   "cell_type": "code",
   "execution_count": 59,
   "metadata": {},
   "outputs": [],
   "source": [
    "class Solution215:\n",
    "    def findKthLargest(self, nums: List[int], k: int) -> int:\n",
    "        def partition(left, right, k):\n",
    "            # inclusive\n",
    "            pivot = random.randint(left, right)\n",
    "            nums[pivot], nums[right] = nums[right], nums[pivot]\n",
    "            store_index = left\n",
    "            for i in range(left, right):\n",
    "                if nums[i] < nums[right]:\n",
    "                    nums[i], nums[store_index] = nums[store_index], nums[i]\n",
    "                    store_index += 1\n",
    "            nums[store_index], nums[right] = nums[right], nums[store_index]\n",
    "            return store_index # 0-indexed\n",
    "        def select(left, right, k):\n",
    "            if left == right:\n",
    "                return nums[k]\n",
    "            middle_index = partition(left, right, k)\n",
    "            if middle_index == k:\n",
    "                return nums[k]\n",
    "            elif middle_index < k:\n",
    "                return select(middle_index+1, right, k)\n",
    "            else:\n",
    "                return select(left, middle_index-1, k)\n",
    "        return select(0, len(nums)-1, len(nums)-k)"
   ]
  },
  {
   "cell_type": "markdown",
   "metadata": {},
   "source": [
    "## 767. Reorganize String"
   ]
  },
  {
   "cell_type": "markdown",
   "metadata": {},
   "source": [
    "### self-written interleaving solution after checking answers, passed all tests"
   ]
  },
  {
   "cell_type": "code",
   "execution_count": 64,
   "metadata": {},
   "outputs": [],
   "source": [
    "from collections import Counter"
   ]
  },
  {
   "cell_type": "code",
   "execution_count": 78,
   "metadata": {},
   "outputs": [],
   "source": [
    "class Solution767:\n",
    "    def reorganizeString(self, S: str) -> str:\n",
    "        length = len(S)\n",
    "        string_list = []\n",
    "        ret = [None] * length\n",
    "        for char, count in sorted(Counter(S).items(), reverse=True, key=lambda x: x[1]): \n",
    "            # sorting here is essential (counter example: baaba)\n",
    "            # to make sure that most common letters don't touch with each other\n",
    "            if count > (length + 1) // 2:\n",
    "                return \"\"\n",
    "#             print(char, count)\n",
    "            string_list.extend([char] * count)\n",
    "        ret[::2], ret[1::2] = string_list[:(length+1)//2], string_list[(length+1)//2:]\n",
    "        return \"\".join(ret)"
   ]
  },
  {
   "cell_type": "code",
   "execution_count": 79,
   "metadata": {},
   "outputs": [
    {
     "data": {
      "text/plain": [
       "('aba', '', 'ababa')"
      ]
     },
     "execution_count": 79,
     "metadata": {},
     "output_type": "execute_result"
    }
   ],
   "source": [
    "solver_767 = Solution767()\n",
    "solver_767.reorganizeString(\"aab\"), solver_767.reorganizeString(\"aaab\"),\\\n",
    "solver_767.reorganizeString(\"baaba\")"
   ]
  },
  {
   "cell_type": "markdown",
   "metadata": {},
   "source": [
    "### self-written heap-greedy solution after checking answers, use heapq library"
   ]
  },
  {
   "cell_type": "code",
   "execution_count": 84,
   "metadata": {},
   "outputs": [],
   "source": [
    "class Solution767:\n",
    "    def reorganizeString(self, S: str) -> str:\n",
    "        pq = [(-count, char) for char, count in Counter(S).items()]\n",
    "        heapq.heapify(pq)\n",
    "#         print(pq)\n",
    "        if -pq[0][0] > (len(S) + 1) // 2:\n",
    "            return \"\"\n",
    "        ret = []\n",
    "        while len(pq) > 1:\n",
    "            nct1, char1 = heapq.heappop(pq)\n",
    "            nct2, char2 = heapq.heappop(pq)\n",
    "            if nct1 != -1:\n",
    "                heapq.heappush(pq, (nct1+1, char1))\n",
    "            if nct2 != -1:\n",
    "                heapq.heappush(pq, (nct2+1, char2))\n",
    "            ret.extend([char1, char2])\n",
    "        return \"\".join(ret) + (pq[0][1] if pq else \"\")"
   ]
  },
  {
   "cell_type": "code",
   "execution_count": 85,
   "metadata": {},
   "outputs": [
    {
     "data": {
      "text/plain": [
       "('aba', '', 'ababa')"
      ]
     },
     "execution_count": 85,
     "metadata": {},
     "output_type": "execute_result"
    }
   ],
   "source": [
    "solver_767 = Solution767()\n",
    "solver_767.reorganizeString(\"aab\"), solver_767.reorganizeString(\"aaab\"),\\\n",
    "solver_767.reorganizeString(\"baaba\")"
   ]
  },
  {
   "cell_type": "markdown",
   "metadata": {},
   "source": [
    "## 1383. Maximum Performance of a Team"
   ]
  },
  {
   "cell_type": "markdown",
   "metadata": {},
   "source": [
    "### self-written heapq solution with the help of hint, time limit exceeded but the answer should be correct"
   ]
  },
  {
   "cell_type": "code",
   "execution_count": 124,
   "metadata": {},
   "outputs": [],
   "source": [
    "class Solution1383:\n",
    "    def maxPerformance(self, n: int, speed: List[int], efficiency: List[int], k: int) -> int:\n",
    "        \"\"\"\n",
    "        it is important to remember that a heapified list is not ordered!!!!\n",
    "        we need to take nlargest operation if we want the k-largest elements instead of [:k]\n",
    "        \"\"\"\n",
    "        # sorted by efficiency first\n",
    "        engineers = [(spd, eff) for spd, eff in zip(speed, efficiency)]\n",
    "        engineers.sort(key=lambda x: x[1], reverse=True)\n",
    "        fastest_speeds = []\n",
    "        ret = 0\n",
    "        for i in range(n):\n",
    "            heapq.heappush(fastest_speeds, engineers[i][0])\n",
    "#             print(fastest_speeds)\n",
    "            min_efficiency = engineers[i][1]\n",
    "            if i < k:\n",
    "                sum_speed = sum(fastest_speeds)\n",
    "            else:\n",
    "                sum_speed = sum(heapq.nlargest(k, fastest_speeds))\n",
    "            ret = max(ret, min_efficiency * sum_speed)\n",
    "        return ret % (10 ** 9 + 7)"
   ]
  },
  {
   "cell_type": "code",
   "execution_count": 125,
   "metadata": {},
   "outputs": [
    {
     "data": {
      "text/plain": [
       "(60, 68, 72)"
      ]
     },
     "execution_count": 125,
     "metadata": {},
     "output_type": "execute_result"
    }
   ],
   "source": [
    "solver_1383 = Solution1383()\n",
    "solver_1383.maxPerformance(n = 6, speed = [2,10,3,1,5,8], efficiency = [5,4,3,9,7,2], k = 2),\\\n",
    "solver_1383.maxPerformance(n = 6, speed = [2,10,3,1,5,8], efficiency = [5,4,3,9,7,2], k = 3),\\\n",
    "solver_1383.maxPerformance(n = 6, speed = [2,10,3,1,5,8], efficiency = [5,4,3,9,7,2], k = 4)"
   ]
  },
  {
   "cell_type": "code",
   "execution_count": 126,
   "metadata": {},
   "outputs": [
    {
     "data": {
      "text/plain": [
       "728685483"
      ]
     },
     "execution_count": 126,
     "metadata": {},
     "output_type": "execute_result"
    }
   ],
   "source": [
    "solver_1383.maxPerformance(n = 378,\n",
    "                           speed = [48842,98221,44112,59789,63403,18966,19433,22555,48204,77278,54122,67344,96931,90613,56821,63675,93778,52679,55722,8447,27020,30046,3426,33191,62887,52315,94832,393,56058,6668,28611,55297,6165,13523,72462,55002,97141,34778,36537,62877,6249,88711,11429,16226,58628,89386,65269,15225,62809,19548,80431,26372,68255,54606,70349,64550,71408,99571,44183,13482,99324,86152,92904,7398,81980,39304,29958,35988,92572,53955,17066,25600,73512,78446,69833,66764,54238,36673,91151,35004,28102,48194,61676,44355,79395,96890,90987,70093,7624,42731,90454,84550,41336,64715,43260,16768,91534,29495,83266,92134,73804,89754,29655,26137,74394,40353,42945,2629,80659,11085,29428,89220,44706,78793,67952,3032,43233,18277,32876,89287,5377,10142,95018,39320,32631,69420,47417,10266,52341,94379,90611,12303,43100,1044,42183,46185,94918,79451,53106,88999,81349,69172,73983,70224,39466,82934,71975,7070,66654,22957,28184,35979,2620,70626,69488,62028,52860,13600,48953,85777,47598,72809,66501,76130,81140,58391,17330,9745,18603,28347,43971,38319,20396,57635,15449,19025,38705,90041,79127,70423,84271,49743,13258,3981,78455,55349,48516,53233,60554,13001,4904,92293,78,14566,18295,66595,72225,74479,46717,91420,81500,13834,46887,15258,92282,55365,45385,86188,7297,57000,49323,38527,57806,31203,79908,18924,44761,14877,22571,84246,63890,99284,15923,2840,27423,82786,52068,29859,32553,43130,32136,60465,61757,64570,86925,25398,57751,71045,74899,34926,19646,49299,14284,85512,23982,49417,65804,20384,68761,33370,60874,83074,96479,70482,51222,71320,55440,86805,44889,31346,70302,21096,49242,2828,28425,30889,67589,24936,66065,80199,70354,32495,60942,74320,6337,11756,12399,62774,67958,1595,40896,36448,54469,77984,73619,41723,83428,65745,72591,91604,91560,26309,36495,19856,74302,22959,81533,95819,44056,33878,33067,50367,74118,1766,17074,29612,9236,70459,26007,56259,31435,18245,60360,93262,10823,10113,87464,3967,50152,89446,77465,16932,70583,9722,50027,37444,86739,52059,98181,29505,92974,45577,70172,11611,39183,92456,2871,81537,13506,48842,33410,7635,41367,17350,13539,57055,76874,97606,66092,52013,92781,50309,67823,93881,33372,477,15846,73756,86908,71434,30235,4943,21991,87897,65912,53798,86722,52239,64747,87725,24465,2081,98801,64023,51635,70604,31914,10108],\n",
    "                           efficiency = [85340554,64615150,52138061,15637635,47579750,55726454,2437874,34927889,17061584,38539937,34617517,38557657,56472622,36732050,45084193,28919126,65951443,96124045,12264446,17377187,20079421,98001151,13859996,20899422,13281162,87195934,25157099,11967124,82126748,73765523,71737521,46533628,87454907,98585727,91142944,90146822,15924482,91879339,24030573,94511177,28752098,86472701,52306941,89751613,39493269,68158232,52758668,81350878,14204219,51856957,94272953,22430927,34575768,99747536,38734238,85048717,28806472,83692369,65226377,1149160,97882637,46557257,35907764,72549511,59089521,13523596,68184457,36284107,33064450,19909434,34402173,54722966,84560664,7842329,81736015,19978947,36260559,64444234,41043386,65944722,66942187,80397320,32435395,23643634,24320745,77919701,60547448,20056095,67638547,70931586,18128433,28612643,83556934,64479131,15892331,18806198,34422747,11815021,72319939,6715049,23096679,15587710,75599525,67513770,88570890,56675389,568633,40977289,29563666,99730571,37604126,83973651,36114537,96471047,50905636,16328441,46576671,15220369,19230588,77042078,46573777,12323886,13852572,42549703,36149885,6679549,4183564,18660933,49936672,85681662,32488878,91220299,36726426,69154076,15060854,86059463,16898002,36383718,12223613,77395850,97358092,63832019,56199793,52851012,29446367,40623874,17867592,80542907,14746298,32290302,58332672,73277085,33609748,36364197,35130804,16921265,95143294,99980902,9271061,73041146,73115472,97061302,91884013,4082053,41356235,91591832,20907469,77750089,90814192,64970975,49001704,21443671,51235544,54444089,80665562,36206014,89507025,85747958,1098547,1301694,17794236,75418789,61676913,57975871,91167299,37052520,54818669,81306298,7150355,63184857,86715795,93598706,5645945,78838329,71194985,47820220,36360027,87894136,63607653,32906622,32186972,75478220,21294878,5446358,42103908,97613499,34022961,83989889,82805943,55691672,48149835,45799918,93850445,85219015,69658436,7520384,90333263,68859521,72884779,84007513,45766176,95351861,78219542,64458866,51437420,23449366,96179296,13381037,45044834,88129442,90838226,99721903,49600144,87433251,97072946,57980878,53533810,16161191,65535524,16806050,1602872,55648957,3519702,10010758,61578716,89552944,38722273,20708273,14191528,2521559,53223702,94580881,30650848,93349486,714578,33483883,21327854,24032050,88906270,10208241,74874240,23569624,78564717,68869569,57368037,5429861,97257498,93993462,92692712,87718896,10364402,53440548,15984451,86421208,51940559,75156901,86092129,6037049,32103948,2798584,62603087,97031016,22373843,17877988,94962356,71764646,60221548,56050424,22497289,53080973,52222655,66490664,48317164,34823147,37512283,96765366,11229123,48388659,19154408,34226818,46889453,37464701,62781874,20002781,33920024,26374280,77758473,83003806,72881842,96114639,77525791,74345113,52521823,26284857,83940450,20546147,7720856,54410190,56002897,18448857,80115109,90286695,73329803,32375774,18713584,27167244,96490146,47897142,23931473,39975573,19300785,66051547,39160576,69026120,28029378,62203576,38962842,79536719,82568725,59538046,82994865,6987977,21461666,84448620,15101873,85017284,33004033,27900112,68145202,16316292,28477627,88698230,17979105,77624625,97316974,96329487,27050784,50741007,64697058,82353560,35924768,85689106,90136859,74406074,31288485,36734043,56531412,36504511,13117351,17394621,75096551,60925550,6019185,28767929,97995501,45130696,12620166,91015298],\n",
    "                           k = 22)"
   ]
  },
  {
   "cell_type": "markdown",
   "metadata": {},
   "source": [
    "### optimized version of heapq solution, passed all tests"
   ]
  },
  {
   "cell_type": "code",
   "execution_count": 99,
   "metadata": {},
   "outputs": [],
   "source": [
    "class Solution1383:\n",
    "    def maxPerformance(self, n: int, speed: List[int], efficiency: List[int], k: int) -> int:\n",
    "        # sorted by efficiency first\n",
    "        engineers = [(spd, eff) for spd, eff in zip(speed, efficiency)]\n",
    "        engineers.sort(key=lambda x: x[1], reverse=True)\n",
    "        fastest_speeds = []\n",
    "        ret = cum_sum = 0\n",
    "        for i in range(n):\n",
    "            heapq.heappush(fastest_speeds, engineers[i][0])\n",
    "            cum_sum += engineers[i][0]\n",
    "            if i >= k:\n",
    "                cum_sum -= heapq.heappop(fastest_speeds)\n",
    "            ret = max(ret, engineers[i][1] * cum_sum)\n",
    "        return ret % (10 ** 9 + 7)"
   ]
  },
  {
   "cell_type": "code",
   "execution_count": 100,
   "metadata": {},
   "outputs": [
    {
     "data": {
      "text/plain": [
       "(60, 68, 72)"
      ]
     },
     "execution_count": 100,
     "metadata": {},
     "output_type": "execute_result"
    }
   ],
   "source": [
    "solver_1383 = Solution1383()\n",
    "solver_1383.maxPerformance(n = 6, speed = [2,10,3,1,5,8], efficiency = [5,4,3,9,7,2], k = 2),\\\n",
    "solver_1383.maxPerformance(n = 6, speed = [2,10,3,1,5,8], efficiency = [5,4,3,9,7,2], k = 3),\\\n",
    "solver_1383.maxPerformance(n = 6, speed = [2,10,3,1,5,8], efficiency = [5,4,3,9,7,2], k = 4)"
   ]
  },
  {
   "cell_type": "markdown",
   "metadata": {},
   "source": [
    "## 1353. Maximum Number of Events That Can Be Attended"
   ]
  },
  {
   "cell_type": "markdown",
   "metadata": {},
   "source": [
    "### self-written heap solution with the help of solution from discussion area, genius solution, passed all tests"
   ]
  },
  {
   "cell_type": "code",
   "execution_count": 143,
   "metadata": {},
   "outputs": [],
   "source": [
    "class Solution1353:\n",
    "    def maxEvents(self, events: List[List[int]]) -> int:\n",
    "        # sort by start time\n",
    "        events.sort(key=lambda x: x[0])\n",
    "        pq = []\n",
    "        total_days = max([event[1] for event in events])\n",
    "        day, event_id, count = 1, 0, 0\n",
    "        while day <= total_days:\n",
    "            # time flies, fast forward\n",
    "            if event_id < len(events) and not pq:\n",
    "                day = events[event_id][0]\n",
    "            # add new available events\n",
    "            while event_id < len(events) and events[event_id][0] <= day:\n",
    "                heapq.heappush(pq, events[event_id][1]) # end time as pq key\n",
    "                event_id += 1\n",
    "            # discard events that cannot be attended\n",
    "            while pq and pq[0] < day:\n",
    "                heapq.heappop(pq)\n",
    "            # attend the event that ends the earliest\n",
    "            if pq:\n",
    "                heapq.heappop(pq)\n",
    "                count += 1\n",
    "            # only end when the heap is empty, otherwise can still attend events (possible), that's why elif\n",
    "            elif event_id == len(events):\n",
    "                break\n",
    "            day += 1\n",
    "        return count"
   ]
  },
  {
   "cell_type": "code",
   "execution_count": 144,
   "metadata": {},
   "outputs": [
    {
     "data": {
      "text/plain": [
       "(4, 7, 5, 5)"
      ]
     },
     "execution_count": 144,
     "metadata": {},
     "output_type": "execute_result"
    }
   ],
   "source": [
    "solver_1353 = Solution1353()\n",
    "solver_1353.maxEvents([[1,4],[4,4],[2,2],[3,4],[1,1]]),\\\n",
    "solver_1353.maxEvents([[1,1],[1,2],[1,3],[1,4],[1,5],[1,6],[1,7]]),\\\n",
    "solver_1353.maxEvents([[1,2],[1,2],[3,3],[1,5],[1,5]]),\\\n",
    "solver_1353.maxEvents([[1,5],[1,5],[1,5],[2,3],[2,3]])"
   ]
  },
  {
   "cell_type": "markdown",
   "metadata": {},
   "source": [
    "## Quick Sort Review"
   ]
  },
  {
   "cell_type": "markdown",
   "metadata": {},
   "source": [
    "### self-written in-place solution"
   ]
  },
  {
   "cell_type": "code",
   "execution_count": 149,
   "metadata": {},
   "outputs": [
    {
     "name": "stdout",
     "output_type": "stream",
     "text": [
      "nums1 [6, 26, 17, 19, 21, 5, 10, 18, 20, 23, 14, 12, 0, 11, 29, 7, 8, 15, 2, 22, 25, 9, 24, 1, 27, 3, 13, 4, 16, 28]\n",
      "nums2 [18, 6, 17, 12, 28, 7, 16, 24, 2, 22, 27, 14, 10, 0, 5, 20, 4, 11, 21, 15, 26, 19, 9, 23, 8, 3, 25, 13, 1, 29]\n",
      "nums1 sorted [0, 1, 2, 3, 4, 5, 6, 7, 8, 9, 10, 11, 12, 13, 14, 15, 16, 17, 18, 19, 20, 21, 22, 23, 24, 25, 26, 27, 28, 29]\n",
      "nums2 sorted [0, 1, 2, 3, 4, 5, 6, 7, 8, 9, 10, 11, 12, 13, 14, 15, 16, 17, 18, 19, 20, 21, 22, 23, 24, 25, 26, 27, 28, 29]\n"
     ]
    }
   ],
   "source": [
    "def partition(nums, low, high):\n",
    "    pivot_index = random.randint(low, high)\n",
    "    nums[pivot_index], nums[high] = nums[high], nums[pivot_index]\n",
    "    store_index = low\n",
    "    for i in range(low, high):\n",
    "        if nums[i] < nums[high]:\n",
    "            nums[i], nums[store_index] = nums[store_index], nums[i]\n",
    "            store_index += 1\n",
    "    nums[store_index], nums[high] = nums[high], nums[store_index]\n",
    "    return store_index # correct position of pivot element\n",
    "\n",
    "def quickSort(nums, low, high):\n",
    "    if low >= high:\n",
    "        return\n",
    "    pivot_index = partition(nums, low, high)\n",
    "    quickSort(nums, low, pivot_index - 1)\n",
    "    quickSort(nums, pivot_index + 1, high)\n",
    "\n",
    "nums1 = list(range(30))\n",
    "random.shuffle(nums1)\n",
    "print('nums1', nums1)\n",
    "nums2 = list(range(30))\n",
    "random.shuffle(nums2)\n",
    "print('nums2', nums2)\n",
    "quickSort(nums1, 0, len(nums1) - 1)\n",
    "quickSort(nums2, 0, len(nums2) - 1)\n",
    "print('nums1 sorted', nums1)\n",
    "print('nums2 sorted', nums2)"
   ]
  },
  {
   "cell_type": "markdown",
   "metadata": {},
   "source": [
    "### self-written 7-line pythonic solution (return a brand-new list)"
   ]
  },
  {
   "cell_type": "code",
   "execution_count": 156,
   "metadata": {},
   "outputs": [],
   "source": [
    "def quickSortPython(nums):\n",
    "    if len(nums) <= 1:\n",
    "        return nums\n",
    "    pivot = random.choice(nums)\n",
    "    lt = [v for v in nums if v < pivot]\n",
    "    eq = [v for v in nums if v == pivot]\n",
    "    gt = [v for v in nums if v > pivot]\n",
    "\n",
    "    return quickSortPython(lt) + eq + quickSortPython(gt)"
   ]
  },
  {
   "cell_type": "code",
   "execution_count": 157,
   "metadata": {},
   "outputs": [
    {
     "name": "stdout",
     "output_type": "stream",
     "text": [
      "nums1 [11, 9, 12, 7, 5, 6, 13, 16, 21, 27, 26, 8, 4, 25, 19, 17, 15, 18, 10, 24, 22, 3, 1, 2, 20, 23, 28, 0, 29, 14]\n",
      "nums2 [28, 25, 6, 23, 11, 7, 20, 19, 12, 13, 24, 22, 14, 0, 9, 16, 18, 26, 27, 8, 21, 15, 2, 29, 3, 17, 1, 4, 10, 5]\n",
      "nums1 sorted [0, 1, 2, 3, 4, 5, 6, 7, 8, 9, 10, 11, 12, 13, 14, 15, 16, 17, 18, 19, 20, 21, 22, 23, 24, 25, 26, 27, 28, 29]\n",
      "nums2 sorted [0, 1, 2, 3, 4, 5, 6, 7, 8, 9, 10, 11, 12, 13, 14, 15, 16, 17, 18, 19, 20, 21, 22, 23, 24, 25, 26, 27, 28, 29]\n"
     ]
    }
   ],
   "source": [
    "nums1 = list(range(30))\n",
    "random.shuffle(nums1)\n",
    "print('nums1', nums1)\n",
    "nums2 = list(range(30))\n",
    "random.shuffle(nums2)\n",
    "print('nums2', nums2)\n",
    "print('nums1 sorted', quickSortPython(nums1))\n",
    "print('nums2 sorted', quickSortPython(nums2))"
   ]
  },
  {
   "cell_type": "markdown",
   "metadata": {},
   "source": [
    "## 912. Sort an Array"
   ]
  },
  {
   "cell_type": "markdown",
   "metadata": {},
   "source": [
    "### self-written quick sort"
   ]
  },
  {
   "cell_type": "code",
   "execution_count": 158,
   "metadata": {},
   "outputs": [],
   "source": [
    "class Solution912:\n",
    "    def sortArray(self, nums: List[int]) -> List[int]:\n",
    "        if len(nums) <= 1:\n",
    "            return nums\n",
    "        pivot = random.choice(nums)\n",
    "        lt = [v for v in nums if v < pivot]\n",
    "        eq = [v for v in nums if v == pivot]\n",
    "        gt = [v for v in nums if v > pivot]\n",
    "\n",
    "        return self.sortArray(lt) + eq + self.sortArray(gt)"
   ]
  },
  {
   "cell_type": "markdown",
   "metadata": {},
   "source": [
    "## 315. Count of Smaller Numbers After Self"
   ]
  },
  {
   "cell_type": "markdown",
   "metadata": {},
   "source": [
    "### self-written divide and conquer merge sort solution after checking answers in discussion area"
   ]
  },
  {
   "cell_type": "code",
   "execution_count": 169,
   "metadata": {},
   "outputs": [],
   "source": [
    "class Solution315:\n",
    "    \"\"\"\n",
    "    I think this is the peak application of merge sort, brilliant\n",
    "    \"\"\"\n",
    "    def countSmaller(self, nums: List[int]) -> List[int]:\n",
    "        def mergeSort(low, high):\n",
    "            \"\"\"\n",
    "            the low and high index here is inclusive, same as quick sort\n",
    "            \"\"\"\n",
    "            if low >= high:\n",
    "                return\n",
    "            mid = (low + high) // 2\n",
    "            mergeSort(low, mid)\n",
    "            mergeSort(mid + 1, high)\n",
    "            merge(low, mid, high)\n",
    "        def merge(start, mid, end):\n",
    "            \"\"\"\n",
    "            all inclusive\n",
    "            \"\"\"\n",
    "            left, right = start, mid + 1\n",
    "            inversion_count = 0\n",
    "            sorted_enums = []\n",
    "            nonlocal res, enums\n",
    "            while left <= mid and right <= end:\n",
    "                if enums[left][1] <= enums[right][1]: \n",
    "                    # this indicates that no more elements from right sub-array is smaller\n",
    "                    res[enums[left][0]] += inversion_count\n",
    "                    sorted_enums.append(enums[left])\n",
    "                    left += 1\n",
    "                else:\n",
    "                    inversion_count += 1\n",
    "                    sorted_enums.append(enums[right])\n",
    "                    right += 1\n",
    "            while right <= end:\n",
    "                sorted_enums.append(enums[right])\n",
    "                right += 1\n",
    "            while left <= mid:\n",
    "                sorted_enums.append(enums[left])\n",
    "                res[enums[left][0]] += inversion_count\n",
    "                left += 1\n",
    "            enums[start:end+1] = sorted_enums\n",
    "        res = [0] * len(nums)\n",
    "        enums = list(enumerate(nums))\n",
    "        mergeSort(0, len(nums)-1)\n",
    "        return res"
   ]
  },
  {
   "cell_type": "code",
   "execution_count": 171,
   "metadata": {},
   "outputs": [
    {
     "data": {
      "text/plain": [
       "([2, 1, 1, 0], [0], [0, 0])"
      ]
     },
     "execution_count": 171,
     "metadata": {},
     "output_type": "execute_result"
    }
   ],
   "source": [
    "solver_315 = Solution315()\n",
    "solver_315.countSmaller([5,2,6,1]), solver_315.countSmaller([-1]), solver_315.countSmaller([-1,-1])"
   ]
  },
  {
   "cell_type": "markdown",
   "metadata": {},
   "source": [
    "### binary search solution copied from discussion area, still quite slow"
   ]
  },
  {
   "cell_type": "code",
   "execution_count": 179,
   "metadata": {},
   "outputs": [],
   "source": [
    "class Solution315:\n",
    "    def countSmaller(self, nums: List[int]) -> List[int]:\n",
    "        elements = [] # range element from smaller to larger\n",
    "        for item in range(len(nums) - 1, -1, -1):\n",
    "            val = nums[item]\n",
    "            if not elements or val > elements[-1]:\n",
    "                nums[item] = 0 if not elements else len(elements)\n",
    "                elements.append(val)\n",
    "            else:\n",
    "                low, high = 0, len(elements) - 1\n",
    "                while low <= high:\n",
    "                    mid = low + (high - low) // 2\n",
    "                    if elements[mid] < val:\n",
    "                        low = mid + 1\n",
    "                    else:\n",
    "                        high = mid - 1\n",
    "                nums[item] = low\n",
    "                elements.insert(low, val)\n",
    "        return nums"
   ]
  },
  {
   "cell_type": "code",
   "execution_count": 180,
   "metadata": {},
   "outputs": [
    {
     "data": {
      "text/plain": [
       "([2, 1, 1, 0], [0], [0, 0])"
      ]
     },
     "execution_count": 180,
     "metadata": {},
     "output_type": "execute_result"
    }
   ],
   "source": [
    "solver_315 = Solution315()\n",
    "solver_315.countSmaller([5,2,6,1]), solver_315.countSmaller([-1]), solver_315.countSmaller([-1,-1])"
   ]
  },
  {
   "cell_type": "code",
   "execution_count": null,
   "metadata": {},
   "outputs": [],
   "source": []
  }
 ],
 "metadata": {
  "kernelspec": {
   "display_name": "Python 3",
   "language": "python",
   "name": "python3"
  },
  "language_info": {
   "codemirror_mode": {
    "name": "ipython",
    "version": 3
   },
   "file_extension": ".py",
   "mimetype": "text/x-python",
   "name": "python",
   "nbconvert_exporter": "python",
   "pygments_lexer": "ipython3",
   "version": "3.7.9"
  }
 },
 "nbformat": 4,
 "nbformat_minor": 4
}
