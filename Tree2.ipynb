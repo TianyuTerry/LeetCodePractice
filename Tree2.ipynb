{
 "cells": [
  {
   "cell_type": "code",
   "execution_count": 265,
   "metadata": {},
   "outputs": [],
   "source": [
    "class TreeNode(object):\n",
    "    \n",
    "    def __init__(self, x, left=None, right=None):\n",
    "        self.val = x\n",
    "        self.left = left\n",
    "        self.right = right"
   ]
  },
  {
   "cell_type": "markdown",
   "metadata": {},
   "source": [
    "## 112. Path Sum"
   ]
  },
  {
   "cell_type": "markdown",
   "metadata": {},
   "source": [
    "### self-written recursive solution"
   ]
  },
  {
   "cell_type": "code",
   "execution_count": 2,
   "metadata": {},
   "outputs": [],
   "source": [
    "class Solution112:\n",
    "    def hasPathSum(self, root: TreeNode, targetSum: int) -> bool:\n",
    "        if not root:\n",
    "            return False\n",
    "        ret = False\n",
    "        def helper(node, currSum):\n",
    "            pathSum = currSum + node.val\n",
    "            if not node.left and not node.right:\n",
    "                if pathSum == targetSum:\n",
    "                    nonlocal ret\n",
    "                    ret = True\n",
    "            else: \n",
    "                if node.left:\n",
    "                    helper(node.left, pathSum)\n",
    "                if node.right:\n",
    "                    helper(node.right, pathSum)\n",
    "        helper(root, 0)\n",
    "        return ret"
   ]
  },
  {
   "cell_type": "code",
   "execution_count": 3,
   "metadata": {},
   "outputs": [
    {
     "data": {
      "text/plain": [
       "True"
      ]
     },
     "execution_count": 3,
     "metadata": {},
     "output_type": "execute_result"
    }
   ],
   "source": [
    "tree = TreeNode(5, TreeNode(4, TreeNode(11, TreeNode(7), TreeNode(2)), None), \\\n",
    "                TreeNode(8, TreeNode(13), TreeNode(4, None, TreeNode(1))))\n",
    "solver_112 = Solution112()\n",
    "solver_112.hasPathSum(tree, 22)"
   ]
  },
  {
   "cell_type": "markdown",
   "metadata": {},
   "source": [
    "### self-written recursive solution after checking answers, very dedicate"
   ]
  },
  {
   "cell_type": "code",
   "execution_count": 4,
   "metadata": {},
   "outputs": [],
   "source": [
    "class Solution112:\n",
    "    def hasPathSum(self, root: TreeNode, targetSum: int) -> bool:\n",
    "        if not root:\n",
    "            return False\n",
    "        targetSum -= root.val\n",
    "        if not root.left and not root.right:\n",
    "            return targetSum == 0\n",
    "        return self.hasPathSum(root.left, targetSum) or self.hasPathSum(root.right, targetSum)"
   ]
  },
  {
   "cell_type": "markdown",
   "metadata": {},
   "source": [
    "### self-written iterative solution"
   ]
  },
  {
   "cell_type": "code",
   "execution_count": 5,
   "metadata": {},
   "outputs": [],
   "source": [
    "from collections import deque\n",
    "\n",
    "class Solution112:\n",
    "    def hasPathSum(self, root: TreeNode, targetSum: int) -> bool:\n",
    "        if not root:\n",
    "            return False\n",
    "        stack = deque([(root, 0)])\n",
    "        while stack:\n",
    "            node, pathSum = stack.pop()\n",
    "            pathSum += node.val\n",
    "            if not node.left and not node.right and targetSum == pathSum:\n",
    "                return True\n",
    "            if node.left:\n",
    "                stack.append((node.left, pathSum))\n",
    "            if node.right:\n",
    "                stack.append((node.right, pathSum))\n",
    "        return False"
   ]
  },
  {
   "cell_type": "code",
   "execution_count": 6,
   "metadata": {},
   "outputs": [
    {
     "data": {
      "text/plain": [
       "True"
      ]
     },
     "execution_count": 6,
     "metadata": {},
     "output_type": "execute_result"
    }
   ],
   "source": [
    "tree = TreeNode(5, TreeNode(4, TreeNode(11, TreeNode(7), TreeNode(2)), None), \\\n",
    "                TreeNode(8, TreeNode(13), TreeNode(4, None, TreeNode(1))))\n",
    "solver_112 = Solution112()\n",
    "solver_112.hasPathSum(tree, 22)"
   ]
  },
  {
   "cell_type": "markdown",
   "metadata": {},
   "source": [
    "## 113. Path Sum II"
   ]
  },
  {
   "cell_type": "markdown",
   "metadata": {},
   "source": [
    "### self-written recursive solution"
   ]
  },
  {
   "cell_type": "code",
   "execution_count": 7,
   "metadata": {},
   "outputs": [],
   "source": [
    "from typing import List, Dict, Tuple\n",
    "\n",
    "class Solution113:\n",
    "    def pathSum(self, root: TreeNode, targetSum: int) -> List[List[int]]:\n",
    "        if not root:\n",
    "            return []\n",
    "        ret = []\n",
    "        def helper(node, path, pathSum):\n",
    "            pathSum += node.val\n",
    "            if not node.left and not node.right and pathSum == targetSum:\n",
    "                ret.append(path + [node.val])\n",
    "            if node.left:\n",
    "                helper(node.left, path + [node.val], pathSum)\n",
    "            if node.right:\n",
    "                helper(node.right, path + [node.val], pathSum)\n",
    "        helper(root, [], 0)\n",
    "        return ret"
   ]
  },
  {
   "cell_type": "code",
   "execution_count": 8,
   "metadata": {},
   "outputs": [
    {
     "data": {
      "text/plain": [
       "[[5, 4, 11, 2], [5, 8, 4, 5]]"
      ]
     },
     "execution_count": 8,
     "metadata": {},
     "output_type": "execute_result"
    }
   ],
   "source": [
    "tree = TreeNode(5, TreeNode(4, TreeNode(11, TreeNode(7), TreeNode(2)), None), \\\n",
    "                TreeNode(8, TreeNode(13), TreeNode(4, TreeNode(5), TreeNode(1))))\n",
    "solver_113 = Solution113()\n",
    "solver_113.pathSum(tree, 22)"
   ]
  },
  {
   "cell_type": "markdown",
   "metadata": {},
   "source": [
    "### self-written iterative solution"
   ]
  },
  {
   "cell_type": "code",
   "execution_count": 9,
   "metadata": {},
   "outputs": [],
   "source": [
    "class Solution113:\n",
    "    def pathSum(self, root: TreeNode, targetSum: int) -> List[List[int]]:\n",
    "        if not root:\n",
    "            return []\n",
    "        stack = deque([(root, [], 0)])\n",
    "        ret = []\n",
    "        while stack:\n",
    "            node, path, pathSum = stack.pop()\n",
    "            pathSum += node.val\n",
    "            if not node.left and not node.right and targetSum == pathSum:\n",
    "                ret.append(path + [node.val])\n",
    "            if node.left:\n",
    "                stack.append((node.left, path + [node.val], pathSum))\n",
    "            if node.right:\n",
    "                stack.append((node.right, path + [node.val], pathSum))\n",
    "        return ret"
   ]
  },
  {
   "cell_type": "code",
   "execution_count": 10,
   "metadata": {},
   "outputs": [
    {
     "data": {
      "text/plain": [
       "[[5, 8, 4, 5], [5, 4, 11, 2]]"
      ]
     },
     "execution_count": 10,
     "metadata": {},
     "output_type": "execute_result"
    }
   ],
   "source": [
    "tree = TreeNode(5, TreeNode(4, TreeNode(11, TreeNode(7), TreeNode(2)), None), \\\n",
    "                TreeNode(8, TreeNode(13), TreeNode(4, TreeNode(5), TreeNode(1))))\n",
    "solver_113 = Solution113()\n",
    "solver_113.pathSum(tree, 22)"
   ]
  },
  {
   "cell_type": "markdown",
   "metadata": {},
   "source": [
    "## 437. Path Sum III"
   ]
  },
  {
   "cell_type": "markdown",
   "metadata": {},
   "source": [
    "### self-written solution, passed all tests"
   ]
  },
  {
   "cell_type": "code",
   "execution_count": 11,
   "metadata": {},
   "outputs": [],
   "source": [
    "from collections import defaultdict\n",
    "\n",
    "class Solution437:\n",
    "    def pathSum(self, root: TreeNode, sum: int) -> int:\n",
    "        if not root:\n",
    "            return 0\n",
    "        allPath = defaultdict(int)\n",
    "        def helper(node):\n",
    "            if not node.left and not node.right:\n",
    "                allPath[node.val] += 1\n",
    "                return {node.val: 1}\n",
    "            ret = defaultdict(int)\n",
    "            ret[node.val] += 1\n",
    "            allPath[node.val] += 1\n",
    "            if node.left:\n",
    "                left_dict = helper(node.left)\n",
    "                for k, v in left_dict.items():\n",
    "                    ret[node.val + k] += v\n",
    "                    allPath[node.val + k] += v\n",
    "            if node.right:\n",
    "                right_dict = helper(node.right)\n",
    "                for k, v in right_dict.items():\n",
    "                    ret[node.val + k] += v\n",
    "                    allPath[node.val + k] += v\n",
    "            return ret\n",
    "        helper(root)\n",
    "        return allPath[sum]"
   ]
  },
  {
   "cell_type": "code",
   "execution_count": 12,
   "metadata": {},
   "outputs": [
    {
     "data": {
      "text/plain": [
       "3"
      ]
     },
     "execution_count": 12,
     "metadata": {},
     "output_type": "execute_result"
    }
   ],
   "source": [
    "tree = TreeNode(10, TreeNode(5, TreeNode(3, TreeNode(3), TreeNode(-2)), TreeNode(2, None, TreeNode(1))), \\\n",
    "                TreeNode(-3, None, TreeNode(11)))\n",
    "solver_437 = Solution437()\n",
    "solver_437.pathSum(tree, 8)"
   ]
  },
  {
   "cell_type": "markdown",
   "metadata": {},
   "source": [
    "## 560. Subarray Sum Equals K (Review)"
   ]
  },
  {
   "cell_type": "markdown",
   "metadata": {},
   "source": [
    "### self-written hashmap solution"
   ]
  },
  {
   "cell_type": "code",
   "execution_count": 13,
   "metadata": {},
   "outputs": [],
   "source": [
    "class Solution560:\n",
    "    def subarraySum(self, nums: List[int], k: int) -> int:\n",
    "        hashmap = defaultdict(int)\n",
    "        hashmap[0] += 1\n",
    "        count = cumsum = 0\n",
    "        for num in nums:\n",
    "            cumsum += num\n",
    "            count += hashmap[cumsum-k]\n",
    "            hashmap[cumsum] += 1\n",
    "        return count"
   ]
  },
  {
   "cell_type": "code",
   "execution_count": 14,
   "metadata": {},
   "outputs": [],
   "source": [
    "class Solution560:\n",
    "    def subarraySum(self, nums: List[int], k: int) -> int:\n",
    "        hashmap = defaultdict(int)\n",
    "        count = cumsum = 0\n",
    "        for num in nums:\n",
    "            cumsum += num\n",
    "            if cumsum == k:\n",
    "                count += 1\n",
    "            count += hashmap[cumsum-k]\n",
    "            hashmap[cumsum] += 1\n",
    "        return count"
   ]
  },
  {
   "cell_type": "markdown",
   "metadata": {},
   "source": [
    "### self-written hashmap solution analogous to question 560"
   ]
  },
  {
   "cell_type": "code",
   "execution_count": 15,
   "metadata": {},
   "outputs": [],
   "source": [
    "class Solution437:\n",
    "    def pathSum(self, root: TreeNode, sum: int) -> int:\n",
    "        if not root:\n",
    "            return 0\n",
    "        hashmap = defaultdict(int)\n",
    "        hashmap[0] += 1\n",
    "        count = 0\n",
    "        def helper(node, cumsum):\n",
    "            cumsum += node.val\n",
    "            nonlocal count\n",
    "            count += hashmap[cumsum-sum]\n",
    "            hashmap[cumsum] += 1\n",
    "            if node.left:\n",
    "                helper(node.left, cumsum)\n",
    "            if node.right:\n",
    "                helper(node.right, cumsum)\n",
    "            hashmap[cumsum] -= 1\n",
    "        helper(root, 0)\n",
    "        return count"
   ]
  },
  {
   "cell_type": "code",
   "execution_count": 16,
   "metadata": {},
   "outputs": [
    {
     "data": {
      "text/plain": [
       "3"
      ]
     },
     "execution_count": 16,
     "metadata": {},
     "output_type": "execute_result"
    }
   ],
   "source": [
    "tree = TreeNode(10, TreeNode(5, TreeNode(3, TreeNode(3), TreeNode(-2)), TreeNode(2, None, TreeNode(1))), \\\n",
    "                TreeNode(-3, None, TreeNode(11)))\n",
    "solver_437 = Solution437()\n",
    "solver_437.pathSum(tree, 8)"
   ]
  },
  {
   "cell_type": "code",
   "execution_count": 17,
   "metadata": {},
   "outputs": [],
   "source": [
    "class Solution437:\n",
    "    def pathSum(self, root: TreeNode, sum: int) -> int:\n",
    "        if not root:\n",
    "            return 0\n",
    "        hashmap = defaultdict(int)\n",
    "        count = 0\n",
    "        def helper(node, cumsum):\n",
    "            cumsum += node.val\n",
    "            nonlocal count\n",
    "            if cumsum == sum:\n",
    "                count += 1\n",
    "            count += hashmap[cumsum-sum]\n",
    "            hashmap[cumsum] += 1\n",
    "            if node.left:\n",
    "                helper(node.left, cumsum)\n",
    "            if node.right:\n",
    "                helper(node.right, cumsum)\n",
    "            hashmap[cumsum] -= 1\n",
    "        helper(root, 0)\n",
    "        return count"
   ]
  },
  {
   "cell_type": "code",
   "execution_count": 18,
   "metadata": {},
   "outputs": [
    {
     "data": {
      "text/plain": [
       "3"
      ]
     },
     "execution_count": 18,
     "metadata": {},
     "output_type": "execute_result"
    }
   ],
   "source": [
    "tree = TreeNode(10, TreeNode(5, TreeNode(3, TreeNode(3), TreeNode(-2)), TreeNode(2, None, TreeNode(1))), \\\n",
    "                TreeNode(-3, None, TreeNode(11)))\n",
    "solver_437 = Solution437()\n",
    "solver_437.pathSum(tree, 8)"
   ]
  },
  {
   "cell_type": "markdown",
   "metadata": {},
   "source": [
    "## 938. Range Sum of BST"
   ]
  },
  {
   "cell_type": "markdown",
   "metadata": {},
   "source": [
    "### self-written solution"
   ]
  },
  {
   "cell_type": "code",
   "execution_count": 19,
   "metadata": {},
   "outputs": [],
   "source": [
    "class Solution938:\n",
    "    def rangeSumBST(self, root: TreeNode, low: int, high: int) -> int:\n",
    "        ret = 0\n",
    "        def helper(node):\n",
    "            if node:\n",
    "                if node.val <= low:\n",
    "                    helper(node.right)\n",
    "                elif node.val >= high:\n",
    "                    helper(node.left)\n",
    "                else:\n",
    "                    helper(node.left)\n",
    "                    helper(node.right)\n",
    "                if low <= node.val <= high:\n",
    "                    nonlocal ret\n",
    "                    ret += node.val\n",
    "        helper(root)\n",
    "        return ret"
   ]
  },
  {
   "cell_type": "code",
   "execution_count": 20,
   "metadata": {},
   "outputs": [
    {
     "data": {
      "text/plain": [
       "32"
      ]
     },
     "execution_count": 20,
     "metadata": {},
     "output_type": "execute_result"
    }
   ],
   "source": [
    "tree = TreeNode(10, TreeNode(5, TreeNode(3), TreeNode(7)), TreeNode(15, None, TreeNode(18)))\n",
    "solver_938 = Solution938()\n",
    "solver_938.rangeSumBST(tree, 7, 15)"
   ]
  },
  {
   "cell_type": "markdown",
   "metadata": {},
   "source": [
    "### more succinct code"
   ]
  },
  {
   "cell_type": "code",
   "execution_count": 21,
   "metadata": {},
   "outputs": [],
   "source": [
    "class Solution938:\n",
    "    def rangeSumBST(self, root: TreeNode, low: int, high: int) -> int:\n",
    "        ret = 0\n",
    "        def helper(node):\n",
    "            if node:\n",
    "                if node.val > low:\n",
    "                    helper(node.left)\n",
    "                if node.val < high:\n",
    "                    helper(node.right)\n",
    "                if low <= node.val <= high:\n",
    "                    nonlocal ret\n",
    "                    ret += node.val\n",
    "        helper(root)\n",
    "        return ret"
   ]
  },
  {
   "cell_type": "code",
   "execution_count": 22,
   "metadata": {},
   "outputs": [
    {
     "data": {
      "text/plain": [
       "32"
      ]
     },
     "execution_count": 22,
     "metadata": {},
     "output_type": "execute_result"
    }
   ],
   "source": [
    "tree = TreeNode(10, TreeNode(5, TreeNode(3), TreeNode(7)), TreeNode(15, None, TreeNode(18)))\n",
    "solver_938 = Solution938()\n",
    "solver_938.rangeSumBST(tree, 7, 15)"
   ]
  },
  {
   "cell_type": "markdown",
   "metadata": {},
   "source": [
    "### self-written iterative solution"
   ]
  },
  {
   "cell_type": "code",
   "execution_count": 23,
   "metadata": {},
   "outputs": [],
   "source": [
    "class Solution938:\n",
    "    def rangeSumBST(self, root: TreeNode, low: int, high: int) -> int:\n",
    "        ret = 0\n",
    "        stack = deque([root])\n",
    "        while stack:\n",
    "            node = stack.pop()\n",
    "            if node.val > low and node.left:\n",
    "                stack.append(node.left)\n",
    "            if node.val < high and node.right:\n",
    "                stack.append(node.right)\n",
    "            if low <= node.val <= high:\n",
    "                ret += node.val\n",
    "        return ret"
   ]
  },
  {
   "cell_type": "code",
   "execution_count": 24,
   "metadata": {},
   "outputs": [
    {
     "data": {
      "text/plain": [
       "32"
      ]
     },
     "execution_count": 24,
     "metadata": {},
     "output_type": "execute_result"
    }
   ],
   "source": [
    "tree = TreeNode(10, TreeNode(5, TreeNode(3), TreeNode(7)), TreeNode(15, None, TreeNode(18)))\n",
    "solver_938 = Solution938()\n",
    "solver_938.rangeSumBST(tree, 7, 15)"
   ]
  },
  {
   "cell_type": "markdown",
   "metadata": {},
   "source": [
    "## 101. Symmetric Tree (Review)"
   ]
  },
  {
   "cell_type": "markdown",
   "metadata": {},
   "source": [
    "### self-written recursive solution, use the same function name as official solution, genius!"
   ]
  },
  {
   "cell_type": "code",
   "execution_count": 25,
   "metadata": {},
   "outputs": [],
   "source": [
    "class Solution101:\n",
    "    def isSymmetric(self, root: TreeNode) -> bool:\n",
    "        def isMirror(node1, node2):\n",
    "            if not node1:\n",
    "                return not node2\n",
    "            if not node2:\n",
    "                return False\n",
    "            return node1.val == node2.val and isMirror(node1.left, node2.right) and isMirror(node1.right, node2.left)\n",
    "        return isMirror(root.left, root.right)"
   ]
  },
  {
   "cell_type": "markdown",
   "metadata": {},
   "source": [
    "### self-written iterative solution"
   ]
  },
  {
   "cell_type": "code",
   "execution_count": 26,
   "metadata": {},
   "outputs": [],
   "source": [
    "class Solution101:\n",
    "    def isSymmetric(self, root: TreeNode) -> bool:\n",
    "        queue = deque([root, root])\n",
    "        while queue:\n",
    "            node1 = queue.popleft()\n",
    "            node2 = queue.popleft()\n",
    "            if not node1 and not node2:\n",
    "                continue\n",
    "            elif not node1 or not node2:\n",
    "                return False\n",
    "            else:\n",
    "                if node1.val != node2.val:\n",
    "                    return False\n",
    "                queue.append(node1.left)\n",
    "                queue.append(node2.right)\n",
    "                queue.append(node1.right)\n",
    "                queue.append(node2.left)\n",
    "        return True"
   ]
  },
  {
   "cell_type": "markdown",
   "metadata": {},
   "source": [
    "## 116. Populating Next Right Pointers in Each Node"
   ]
  },
  {
   "cell_type": "markdown",
   "metadata": {},
   "source": [
    "### self-written solution after checking answers"
   ]
  },
  {
   "cell_type": "code",
   "execution_count": 27,
   "metadata": {},
   "outputs": [],
   "source": [
    "class Node:\n",
    "    def __init__(self, val: int = 0, left: 'Node' = None, right: 'Node' = None, next: 'Node' = None):\n",
    "        self.val = val\n",
    "        self.left = left\n",
    "        self.right = right\n",
    "        self.next = next\n",
    "\n",
    "class Solution116:\n",
    "    def connect(self, root: 'Node') -> 'Node':\n",
    "        if not root:\n",
    "            return root\n",
    "        leftmost = root\n",
    "        while leftmost.left:\n",
    "            head = leftmost\n",
    "            while head:\n",
    "                head.left.next = head.right\n",
    "                if head.next:\n",
    "                    head.right.next = head.next.left\n",
    "                head = head.next\n",
    "            leftmost = leftmost.left\n",
    "        return root"
   ]
  },
  {
   "cell_type": "markdown",
   "metadata": {},
   "source": [
    "## 108. Convert Sorted Array to Binary Search Tree"
   ]
  },
  {
   "cell_type": "markdown",
   "metadata": {},
   "source": [
    "### self-written left-middle solution after checking answers, both beats 100%"
   ]
  },
  {
   "cell_type": "code",
   "execution_count": 28,
   "metadata": {},
   "outputs": [],
   "source": [
    "class Solution108:\n",
    "    def sortedArrayToBST(self, nums: List[int]) -> TreeNode:\n",
    "        def helper(start, end):\n",
    "            if start > end:\n",
    "                return None\n",
    "            middle = (start + end) // 2\n",
    "            node = TreeNode(nums[middle])\n",
    "            node.left = helper(start, middle-1)\n",
    "            node.right = helper(middle+1, end)\n",
    "            return node\n",
    "        return helper(0, len(nums)-1)"
   ]
  },
  {
   "cell_type": "code",
   "execution_count": 29,
   "metadata": {},
   "outputs": [],
   "source": [
    "solver_108 = Solution108()\n",
    "tree = solver_108.sortedArrayToBST([-10,-3,0,5,9])"
   ]
  },
  {
   "cell_type": "markdown",
   "metadata": {},
   "source": [
    "## 1130. Minimum Cost Tree From Leaf Values"
   ]
  },
  {
   "cell_type": "code",
   "execution_count": 30,
   "metadata": {},
   "outputs": [],
   "source": [
    "class Solution1130:\n",
    "    def mctFromLeafValues(self, arr: List[int]) -> int:\n",
    "        memo = dict()\n",
    "        def helper(i, j):\n",
    "            if i == j:\n",
    "                return 0\n",
    "            if (i, j) in memo:\n",
    "                return memo[(i, j)]\n",
    "            memo[(i, j)] = min([max(arr[i: k+1])*max(arr[k+1:j+1]) + helper(i, k) + helper(k+1, j) for k in range(i, j)])\n",
    "            return memo[(i, j)]\n",
    "        return helper(0, len(arr)-1)"
   ]
  },
  {
   "cell_type": "code",
   "execution_count": 31,
   "metadata": {},
   "outputs": [
    {
     "data": {
      "text/plain": [
       "32"
      ]
     },
     "execution_count": 31,
     "metadata": {},
     "output_type": "execute_result"
    }
   ],
   "source": [
    "solver_1130 = Solution1130()\n",
    "solver_1130.mctFromLeafValues([6,2,4])"
   ]
  },
  {
   "cell_type": "markdown",
   "metadata": {},
   "source": [
    "## 114. Flatten Binary Tree to Linked List"
   ]
  },
  {
   "cell_type": "markdown",
   "metadata": {},
   "source": [
    "### self-written recursive solution after checking answers"
   ]
  },
  {
   "cell_type": "code",
   "execution_count": 32,
   "metadata": {},
   "outputs": [],
   "source": [
    "class Solution114:\n",
    "    def flatten(self, root: TreeNode) -> None:\n",
    "        \"\"\"\n",
    "        Do not return anything, modify root in-place instead.\n",
    "        \"\"\"\n",
    "        def helper(node):\n",
    "            \"\"\"\n",
    "            modify and return tail\n",
    "            \"\"\"\n",
    "            if not node:\n",
    "                return None\n",
    "            if not node.left and not node.right:\n",
    "                return node\n",
    "            left_tail = helper(node.left)\n",
    "            right_tail = helper(node.right)\n",
    "            if left_tail:\n",
    "                left_tail.right = node.right\n",
    "                node.right = node.left\n",
    "                node.left = None\n",
    "            return right_tail if right_tail else left_tail\n",
    "        helper(root)"
   ]
  },
  {
   "cell_type": "markdown",
   "metadata": {},
   "source": [
    "### self-written iterative solution after checking answers, passed all tests"
   ]
  },
  {
   "cell_type": "code",
   "execution_count": 33,
   "metadata": {},
   "outputs": [],
   "source": [
    "class Solution114:\n",
    "    def flatten(self, root: TreeNode) -> None:\n",
    "        \"\"\"\n",
    "        This is damn damn hard\n",
    "        \"\"\"\n",
    "        if not root:\n",
    "            return root\n",
    "        START, END = 0, 1\n",
    "        tailnode = None\n",
    "        stack = deque([(root, START)])\n",
    "        while stack:\n",
    "            node, state = stack.pop()\n",
    "            if not node.left and not node.right:\n",
    "                tailnode = node\n",
    "            if state == START:\n",
    "                if node.left:\n",
    "                    stack.append((node, END))\n",
    "                    stack.append((node.left, START))\n",
    "                elif node.right:\n",
    "                    stack.append((node.right, START))\n",
    "            elif state == END:\n",
    "                if node.right:\n",
    "                    stack.append((node.right, START))\n",
    "                if tailnode:\n",
    "                    tailnode.right = node.right\n",
    "                    node.right = node.left\n",
    "                    node.left = None                     "
   ]
  },
  {
   "cell_type": "markdown",
   "metadata": {},
   "source": [
    "### self-written tree traversal after checking answers"
   ]
  },
  {
   "cell_type": "code",
   "execution_count": 34,
   "metadata": {},
   "outputs": [],
   "source": [
    "class Solution114:\n",
    "    def flatten(self, root: TreeNode) -> None:\n",
    "        \"\"\"\n",
    "        How the hell did people come up with this kind of algorithm?\n",
    "        \"\"\"\n",
    "        if not root:\n",
    "            return root\n",
    "        curr = root\n",
    "        while curr:\n",
    "            if curr.left:\n",
    "                node = curr.left\n",
    "                while node.right:\n",
    "                    node = node.right\n",
    "                node.right = curr.right\n",
    "                curr.right = curr.left\n",
    "                curr.left = None\n",
    "            curr = curr.right"
   ]
  },
  {
   "cell_type": "markdown",
   "metadata": {},
   "source": [
    "## 117. Populating Next Right Pointers in Each Node II"
   ]
  },
  {
   "cell_type": "markdown",
   "metadata": {},
   "source": [
    "### self-written solution after checking answers, such a genius solution"
   ]
  },
  {
   "cell_type": "code",
   "execution_count": 35,
   "metadata": {},
   "outputs": [],
   "source": [
    "class Solution117:\n",
    "    def process_child(self, node, prev, leftmost):\n",
    "        # as there are no difference between left child and right child, we extract the functionality out to avoid code redundance\n",
    "        if node:\n",
    "            if not prev:\n",
    "                prev = node\n",
    "                leftmost = node\n",
    "            else:\n",
    "                prev.next = node\n",
    "                prev = node\n",
    "        return prev, leftmost # leftmost won't be updated any further\n",
    "    def connect(self, root: 'Node') -> 'Node':\n",
    "        if not root:\n",
    "            return root\n",
    "        leftmost = root\n",
    "        while leftmost:\n",
    "            prev = None # undefined yet\n",
    "            curr = leftmost # curr is the current built level\n",
    "            leftmost = None # release leftmost to accept the leftmost node at next level, None is important for identifying the terminating condition\n",
    "            while curr:\n",
    "                prev, leftmost = self.process_child(curr.left, prev, leftmost)\n",
    "                prev, leftmost = self.process_child(curr.right, prev, leftmost)\n",
    "                curr = curr.next\n",
    "        return root"
   ]
  },
  {
   "cell_type": "markdown",
   "metadata": {},
   "source": [
    "## 1110. Delete Nodes And Return Forest"
   ]
  },
  {
   "cell_type": "markdown",
   "metadata": {},
   "source": [
    "### self-written recursive solution"
   ]
  },
  {
   "cell_type": "code",
   "execution_count": 37,
   "metadata": {},
   "outputs": [],
   "source": [
    "class Solution1110(object):\n",
    "    def delNodes(self, root, to_delete):\n",
    "        \"\"\"\n",
    "        :type root: TreeNode\n",
    "        :type to_delete: List[int]\n",
    "        :rtype: List[TreeNode]\n",
    "        \"\"\"\n",
    "        to_delete = set(to_delete)\n",
    "        ret = []\n",
    "        def helper(node, parent, left):\n",
    "            if not node:\n",
    "                return\n",
    "            if node.val in to_delete:\n",
    "                if parent and left:\n",
    "                    parent.left = None\n",
    "                elif parent and not left:\n",
    "                    parent.right = None\n",
    "                # children become new root\n",
    "                helper(node.left, None, True)\n",
    "                helper(node.right, None, False)\n",
    "            else:\n",
    "                # append in results if it is the new root\n",
    "                if not parent:\n",
    "                    ret.append(node)\n",
    "                helper(node.left, node, True)\n",
    "                helper(node.right, node, False)\n",
    "        helper(root, None, None)\n",
    "        return ret"
   ]
  },
  {
   "cell_type": "markdown",
   "metadata": {},
   "source": [
    "### self-written iterative solution"
   ]
  },
  {
   "cell_type": "code",
   "execution_count": 39,
   "metadata": {},
   "outputs": [],
   "source": [
    "class Solution1110(object):\n",
    "    def delNodes(self, root, to_delete):\n",
    "        \"\"\"\n",
    "        :type root: TreeNode\n",
    "        :type to_delete: List[int]\n",
    "        :rtype: List[TreeNode]\n",
    "        \"\"\"\n",
    "        if not root:\n",
    "            return []\n",
    "        to_delete = set(to_delete)\n",
    "        ret = []\n",
    "        stack = deque([(root, None, None)])\n",
    "        while stack:\n",
    "            node, parent, left = stack.pop()\n",
    "            if node.val in to_delete:\n",
    "                if parent and left:\n",
    "                    parent.left = None\n",
    "                elif parent and not left:\n",
    "                    parent.right = None\n",
    "                parent = None\n",
    "            else:\n",
    "                if not parent:\n",
    "                    ret.append(node)\n",
    "                parent = node\n",
    "            if node.left:\n",
    "                stack.append((node.left, parent, True))\n",
    "            if node.right:\n",
    "                stack.append((node.right, parent, False))\n",
    "        return ret"
   ]
  },
  {
   "cell_type": "markdown",
   "metadata": {},
   "source": [
    "## 652. Find Duplicate Subtrees"
   ]
  },
  {
   "cell_type": "markdown",
   "metadata": {},
   "source": [
    "### self-written serialization solution after checking answers"
   ]
  },
  {
   "cell_type": "code",
   "execution_count": 42,
   "metadata": {},
   "outputs": [],
   "source": [
    "class Solution(object):\n",
    "    def findDuplicateSubtrees(self, root):\n",
    "        \"\"\"\n",
    "        :type root: TreeNode\n",
    "        :rtype: List[TreeNode]\n",
    "        \"\"\"\n",
    "        hashmap = defaultdict(int)\n",
    "        ret = []\n",
    "        def helper(node):\n",
    "            if not node:\n",
    "                return \"#\"\n",
    "            serialization = f\"{node.val},{helper(node.left)},{helper(node.right)}\"\n",
    "            hashmap[serialization] += 1\n",
    "            if hashmap[serialization] == 2:\n",
    "                ret.append(node)\n",
    "            return serialization\n",
    "        helper(root)\n",
    "        return ret"
   ]
  },
  {
   "cell_type": "markdown",
   "metadata": {},
   "source": [
    "## 270. Closest Binary Search Tree Value"
   ]
  },
  {
   "cell_type": "markdown",
   "metadata": {},
   "source": [
    "### self-written solution"
   ]
  },
  {
   "cell_type": "code",
   "execution_count": 43,
   "metadata": {},
   "outputs": [],
   "source": [
    "class Solution270:\n",
    "    def closestValue(self, root: TreeNode, target: float) -> int:\n",
    "        node = root\n",
    "        min_diff, ret = float(\"inf\"), None\n",
    "        while node:\n",
    "            diff = abs(node.val-target)\n",
    "            if diff < min_diff:\n",
    "                min_diff = diff\n",
    "                ret = node.val\n",
    "            if target < node.val:\n",
    "                node = node.left\n",
    "            else:\n",
    "                node = node.right\n",
    "        return ret"
   ]
  },
  {
   "cell_type": "markdown",
   "metadata": {},
   "source": [
    "## 257. Binary Tree Paths"
   ]
  },
  {
   "cell_type": "markdown",
   "metadata": {},
   "source": [
    "### self-written iterative solution"
   ]
  },
  {
   "cell_type": "code",
   "execution_count": 45,
   "metadata": {},
   "outputs": [],
   "source": [
    "class Solution257:\n",
    "    def binaryTreePaths(self, root: TreeNode) -> List[str]:\n",
    "        if not root:\n",
    "            return []\n",
    "        ret = []\n",
    "        stack = deque([(root, [])])\n",
    "        while stack:\n",
    "            node, path = stack.pop()\n",
    "            path = path + [str(node.val)]\n",
    "            if not node.left and not node.right:\n",
    "                ret.append(path)\n",
    "                continue\n",
    "            if node.left:\n",
    "                stack.append((node.left, path))\n",
    "            if node.right:\n",
    "                stack.append((node.right, path))\n",
    "        return [\"->\".join(path) for path in ret]"
   ]
  },
  {
   "cell_type": "markdown",
   "metadata": {},
   "source": [
    "### self-written recursive solution"
   ]
  },
  {
   "cell_type": "code",
   "execution_count": 47,
   "metadata": {},
   "outputs": [],
   "source": [
    "class Solution257:\n",
    "    def binaryTreePaths(self, root: TreeNode) -> List[str]:\n",
    "        ret = []\n",
    "        def helper(node, path):\n",
    "            if not node:\n",
    "                return\n",
    "            path = path + [str(node.val)]\n",
    "            if not node.left and not node.right:\n",
    "                ret.append(path)\n",
    "                return\n",
    "            helper(node.left, path)\n",
    "            helper(node.right, path)\n",
    "        helper(root, [])\n",
    "        return [\"->\".join(path) for path in ret]"
   ]
  },
  {
   "cell_type": "markdown",
   "metadata": {},
   "source": [
    "## 404. Sum of Left Leaves"
   ]
  },
  {
   "cell_type": "markdown",
   "metadata": {},
   "source": [
    "### self-written recursive solution"
   ]
  },
  {
   "cell_type": "code",
   "execution_count": 48,
   "metadata": {},
   "outputs": [],
   "source": [
    "class Solution404:\n",
    "    def sumOfLeftLeaves(self, root: TreeNode) -> int:\n",
    "        \"\"\"\n",
    "        it is very wierd that single-noded tree's root is not considered as left leaf\n",
    "        \"\"\"\n",
    "        if not root:\n",
    "            return 0\n",
    "        ret = 0\n",
    "        def helper(node, left):\n",
    "            if not node.left and not node.right:\n",
    "                if left:\n",
    "                    nonlocal ret\n",
    "                    ret += node.val\n",
    "                return\n",
    "            if node.left:\n",
    "                helper(node.left, True)\n",
    "            if node.right:\n",
    "                helper(node.right, False)\n",
    "        helper(root, False)\n",
    "        return ret"
   ]
  },
  {
   "cell_type": "markdown",
   "metadata": {},
   "source": [
    "### self-written iterative solution"
   ]
  },
  {
   "cell_type": "code",
   "execution_count": 49,
   "metadata": {},
   "outputs": [],
   "source": [
    "class Solution404:\n",
    "    def sumOfLeftLeaves(self, root: TreeNode) -> int:\n",
    "        if not root:\n",
    "            return 0\n",
    "        ret = 0\n",
    "        stack = deque([(root, False)])\n",
    "        while stack:\n",
    "            node, left = stack.pop()\n",
    "            if not node.left and not node.right:\n",
    "                if left:\n",
    "                    ret += node.val\n",
    "                continue\n",
    "            if node.left:\n",
    "                stack.append((node.left, True))\n",
    "            if node.right:\n",
    "                stack.append((node.right, False))\n",
    "        return ret"
   ]
  },
  {
   "cell_type": "markdown",
   "metadata": {},
   "source": [
    "### self-written morris traversal solution without reference"
   ]
  },
  {
   "cell_type": "code",
   "execution_count": 50,
   "metadata": {},
   "outputs": [],
   "source": [
    "class Solution404:\n",
    "    def sumOfLeftLeaves(self, root: TreeNode) -> int:\n",
    "        \"\"\"\n",
    "        a bit less wierd\n",
    "        \"\"\"\n",
    "        ret = 0\n",
    "        curr = root\n",
    "        while curr:\n",
    "            if not curr.left:\n",
    "                curr = curr.right\n",
    "            else:\n",
    "                if not curr.left.left and not curr.left.right:\n",
    "                    ret += curr.left.val\n",
    "                node = curr.left\n",
    "                while node.right and node.right is not curr:\n",
    "                    node = node.right\n",
    "                if not node.right:\n",
    "                    node.right = curr\n",
    "                    curr = curr.left\n",
    "                else:\n",
    "                    node.right = None\n",
    "                    curr = curr.right\n",
    "        return ret"
   ]
  },
  {
   "cell_type": "markdown",
   "metadata": {},
   "source": [
    "## 105. Construct Binary Tree from Preorder and Inorder Traversal (review)"
   ]
  },
  {
   "cell_type": "markdown",
   "metadata": {},
   "source": [
    "### self-written recursive solution"
   ]
  },
  {
   "cell_type": "code",
   "execution_count": 52,
   "metadata": {},
   "outputs": [],
   "source": [
    "class Solution105:\n",
    "    def buildTree(self, preorder: List[int], inorder: List[int]) -> TreeNode:\n",
    "        val2idx = {val: i for i, val in enumerate(inorder)}\n",
    "        idx = 0\n",
    "        def helper(left, right):\n",
    "            # left and right are for inorder idx\n",
    "            if left > right:\n",
    "                return None\n",
    "            nonlocal idx\n",
    "            pivot = val2idx[preorder[idx]]\n",
    "            node = TreeNode(preorder[idx])\n",
    "            idx += 1\n",
    "            node.left = helper(left, pivot-1)\n",
    "            node.right = helper(pivot+1, right)\n",
    "            return node\n",
    "        return helper(0, len(preorder)-1)     "
   ]
  },
  {
   "cell_type": "markdown",
   "metadata": {},
   "source": [
    "### self-written iterative solution after checking answers in discussion area"
   ]
  },
  {
   "cell_type": "code",
   "execution_count": 54,
   "metadata": {},
   "outputs": [],
   "source": [
    "class Solution105:\n",
    "    def buildTree(self, preorder: List[int], inorder: List[int]) -> TreeNode:\n",
    "        \"\"\"\n",
    "        genius solution! Brilliant!\n",
    "        \"\"\"\n",
    "        val2idx = {val: i for i, val in enumerate(inorder)}\n",
    "        idx = 0\n",
    "        head = None\n",
    "        stack = deque()\n",
    "        for val in preorder:\n",
    "            if not head:\n",
    "                head = TreeNode(val)\n",
    "                stack.append(head)\n",
    "                continue\n",
    "            node = TreeNode(val)\n",
    "            if val2idx[val] < val2idx[stack[-1].val]:\n",
    "                stack[-1].left = node\n",
    "            else:\n",
    "                while stack and val2idx[stack[-1].val] < val2idx[val]:\n",
    "                    parent = stack.pop()\n",
    "                parent.right = node\n",
    "            stack.append(node)\n",
    "        return head"
   ]
  },
  {
   "cell_type": "markdown",
   "metadata": {},
   "source": [
    "## 106. Construct Binary Tree from Inorder and Postorder Traversal"
   ]
  },
  {
   "cell_type": "markdown",
   "metadata": {},
   "source": [
    "### self-written recursive solution"
   ]
  },
  {
   "cell_type": "code",
   "execution_count": 57,
   "metadata": {},
   "outputs": [],
   "source": [
    "class Solution106:\n",
    "    def buildTree(self, inorder: List[int], postorder: List[int]) -> TreeNode:\n",
    "        val2idx = {val: i for i, val in enumerate(inorder)}\n",
    "        idx = len(inorder) - 1\n",
    "        def helper(left, right):\n",
    "            # left and right are for inorder idx\n",
    "            if left > right:\n",
    "                return None\n",
    "            nonlocal idx\n",
    "            pivot = val2idx[postorder[idx]]\n",
    "            node = TreeNode(postorder[idx])\n",
    "            idx -= 1\n",
    "            node.right = helper(pivot+1, right)\n",
    "            node.left = helper(left, pivot-1)\n",
    "            return node\n",
    "        return helper(0, len(postorder)-1)     "
   ]
  },
  {
   "cell_type": "markdown",
   "metadata": {},
   "source": [
    "### self-written iterative solution"
   ]
  },
  {
   "cell_type": "code",
   "execution_count": 58,
   "metadata": {},
   "outputs": [],
   "source": [
    "class Solution105:\n",
    "    def buildTree(self, preorder: List[int], inorder: List[int]) -> TreeNode:\n",
    "        \"\"\"\n",
    "        almost copied the code\n",
    "        \"\"\"\n",
    "        val2idx = {val: i for i, val in enumerate(inorder)}\n",
    "        idx = 0\n",
    "        head = None\n",
    "        stack = deque()\n",
    "        for val in postorder[::-1]:\n",
    "            if not head:\n",
    "                head = TreeNode(val)\n",
    "                stack.append(head)\n",
    "                continue\n",
    "            node = TreeNode(val)\n",
    "            if val2idx[val] > val2idx[stack[-1].val]:\n",
    "                stack[-1].right = node\n",
    "            else:\n",
    "                while stack and val2idx[stack[-1].val] > val2idx[val]:\n",
    "                    parent = stack.pop()\n",
    "                parent.left = node\n",
    "            stack.append(node)\n",
    "        return head"
   ]
  },
  {
   "cell_type": "markdown",
   "metadata": {},
   "source": [
    "## 889. Construct Binary Tree from Preorder and Postorder Traversal"
   ]
  },
  {
   "cell_type": "markdown",
   "metadata": {},
   "source": [
    "### self-written recursive solution after checking answers"
   ]
  },
  {
   "cell_type": "code",
   "execution_count": 61,
   "metadata": {},
   "outputs": [],
   "source": [
    "class Solution889:\n",
    "    def constructFromPrePost(self, pre: List[int], post: List[int]) -> TreeNode:\n",
    "        \"\"\"\n",
    "        the empty list check is crucial as there might not be two subtree under current node\n",
    "        \"\"\"\n",
    "        if not pre:\n",
    "            return None\n",
    "        node = TreeNode(pre[0])\n",
    "        if len(pre) == 1:\n",
    "            return node\n",
    "        L = post.index(pre[1]) # end of the left subtree in pre\n",
    "        node.left = self.constructFromPrePost(pre[1:L+2], post[:L+1])\n",
    "        node.right = self.constructFromPrePost(pre[L+2:], post[L+1:-1])\n",
    "        return node"
   ]
  },
  {
   "cell_type": "markdown",
   "metadata": {},
   "source": [
    "### self-written optimized recursive solution with index and hashtable, genius"
   ]
  },
  {
   "cell_type": "code",
   "execution_count": 72,
   "metadata": {},
   "outputs": [],
   "source": [
    "class Solution889:\n",
    "    def constructFromPrePost(self, pre: List[int], post: List[int]) -> TreeNode:\n",
    "        # level means the difference/lag (more node constructed, more lagging)\n",
    "        val2idx = {val: i for i, val in enumerate(post)}\n",
    "        def helper(preleft, preright, postleft, postright, level=0):\n",
    "            # all inclusive\n",
    "            if preleft > preright:\n",
    "                return None\n",
    "            node = TreeNode(pre[preleft])\n",
    "            if preleft == preright:\n",
    "                return node\n",
    "            L = val2idx[pre[preleft+1]]\n",
    "            print(preleft+1, L+1+level, postleft, L, level+1)\n",
    "            print(L+2+level, preright, L+1, postright-1, level+1)\n",
    "            node.left = helper(preleft+1, L+1+level, postleft, L, level+1)\n",
    "            node.right = helper(L+2+level, preright, L+1, postright-1, level+1)\n",
    "            return node\n",
    "        return helper(0, len(pre)-1, 0, len(pre)-1)"
   ]
  },
  {
   "cell_type": "code",
   "execution_count": 73,
   "metadata": {},
   "outputs": [
    {
     "name": "stdout",
     "output_type": "stream",
     "text": [
      "1 3 0 2 1\n",
      "4 6 3 5 1\n",
      "2 2 0 0 2\n",
      "3 3 1 1 2\n",
      "5 5 3 3 2\n",
      "6 6 4 4 2\n"
     ]
    }
   ],
   "source": [
    "solver_889 = Solution889()\n",
    "tree = solver_889.constructFromPrePost([1,2,4,5,3,6,7], [4,5,2,6,7,3,1])"
   ]
  },
  {
   "cell_type": "markdown",
   "metadata": {},
   "source": [
    "## 510. Inorder Successor in BST II"
   ]
  },
  {
   "cell_type": "code",
   "execution_count": 76,
   "metadata": {},
   "outputs": [],
   "source": [
    "class Node:\n",
    "    def __init__(self, val):\n",
    "        self.val = val\n",
    "        self.left = None\n",
    "        self.right = None\n",
    "        self.parent = None\n",
    "\n",
    "class Solution510:\n",
    "    def inorderSuccessor(self, node: 'Node') -> 'Node':\n",
    "        if node.right:\n",
    "            node = node.right\n",
    "            while node.left:\n",
    "                node = node.left\n",
    "            return node\n",
    "        else:\n",
    "            while node.parent:\n",
    "                if node is node.parent.left:\n",
    "                    return node.parent\n",
    "                else:\n",
    "                    node = node.parent\n",
    "        return None"
   ]
  },
  {
   "cell_type": "markdown",
   "metadata": {},
   "source": [
    "## 285. Inorder Successor in BST"
   ]
  },
  {
   "cell_type": "markdown",
   "metadata": {},
   "source": [
    "### self-written iterative in-order traversal with the help of pseudocode"
   ]
  },
  {
   "cell_type": "code",
   "execution_count": 94,
   "metadata": {},
   "outputs": [],
   "source": [
    "class Solution285:\n",
    "    def inorderSuccessor(self, root: 'TreeNode', p: 'TreeNode') -> 'TreeNode':\n",
    "        if p.right:\n",
    "#             print(\"entering right\")\n",
    "            node = p.right\n",
    "            while node.left:\n",
    "                node = node.left\n",
    "            return node\n",
    "        stack = deque()\n",
    "        predecessor = None\n",
    "#         print(\"entering loop\")\n",
    "        while True:\n",
    "            if root:\n",
    "                stack.append(root)\n",
    "                root = root.left\n",
    "            else:\n",
    "                if not stack:\n",
    "                    break\n",
    "                root = stack.pop()\n",
    "                if predecessor is p:\n",
    "                    return root\n",
    "                predecessor = root\n",
    "#                 print(root.val)\n",
    "                root = root.right\n",
    "        return None"
   ]
  },
  {
   "cell_type": "code",
   "execution_count": 95,
   "metadata": {},
   "outputs": [],
   "source": [
    "tree = TreeNode(5, TreeNode(3, TreeNode(2, TreeNode(1), None), TreeNode(4)), TreeNode(6))\n",
    "solver_285 = Solution285()\n",
    "solver_285.inorderSuccessor(tree, tree.right)"
   ]
  },
  {
   "cell_type": "markdown",
   "metadata": {},
   "source": [
    "### self-written iterative in-order traversal after checking answers"
   ]
  },
  {
   "cell_type": "code",
   "execution_count": 96,
   "metadata": {},
   "outputs": [],
   "source": [
    "class Solution285:\n",
    "    def inorderSuccessor(self, root: 'TreeNode', p: 'TreeNode') -> 'TreeNode':\n",
    "        if p.right:\n",
    "#             print(\"entering right\")\n",
    "            node = p.right\n",
    "            while node.left:\n",
    "                node = node.left\n",
    "            return node\n",
    "        stack = deque()\n",
    "        predecessor = None\n",
    "#         print(\"entering loop\")\n",
    "        while stack or root:\n",
    "            while root:\n",
    "                stack.append(root)\n",
    "                root = root.left\n",
    "            root = stack.pop()\n",
    "            if predecessor is p:\n",
    "                return root\n",
    "            predecessor = root\n",
    "            root = root.right\n",
    "        return None"
   ]
  },
  {
   "cell_type": "markdown",
   "metadata": {},
   "source": [
    "## 1666. Change the Root of a Binary Tree"
   ]
  },
  {
   "cell_type": "markdown",
   "metadata": {},
   "source": [
    "### self-written solution, time limit exceeded, don't know why, skip first, unsolved"
   ]
  },
  {
   "cell_type": "code",
   "execution_count": 101,
   "metadata": {},
   "outputs": [],
   "source": [
    "class Node:\n",
    "    def __init__(self, val):\n",
    "        self.val = val\n",
    "        self.left = None\n",
    "        self.right = None\n",
    "        self.parent = None\n",
    "\n",
    "class Solution1666:\n",
    "    def flipBinaryTree(self, root: 'Node', leaf: 'Node') -> 'Node':\n",
    "        curr = leaf\n",
    "        parent = None\n",
    "        while curr is not root:\n",
    "            # If cur has a left child, then that child becomes cur's right child.\n",
    "            if curr.left:\n",
    "                curr.right = curr.left\n",
    "            # cur's original parent becomes cur's left child. \n",
    "            # Note that in this process the original parent's pointer to cur becomes null, \n",
    "            # making it have at most one child.\n",
    "            curr.left = curr.parent\n",
    "            curr.left.parent = curr\n",
    "            if curr.parent.left is curr:\n",
    "                curr.parent.left = None\n",
    "            else:\n",
    "                curr.parent.right = None\n",
    "            curr.parent, parent, curr = parent, curr, curr.parent\n",
    "#         if parent is curr.right: \n",
    "#             node.right = None\n",
    "#         else: \n",
    "#             node.left = None\n",
    "        return leaf"
   ]
  },
  {
   "cell_type": "markdown",
   "metadata": {},
   "source": [
    "## 449. Serialize and Deserialize BST"
   ]
  },
  {
   "cell_type": "markdown",
   "metadata": {},
   "source": [
    "### self-written solution after checking answers"
   ]
  },
  {
   "cell_type": "code",
   "execution_count": 111,
   "metadata": {},
   "outputs": [],
   "source": [
    "class Codec:\n",
    "\n",
    "    def serialize(self, root: TreeNode) -> str:\n",
    "        \"\"\"Encodes a tree to a single string.\n",
    "        \"\"\"\n",
    "        # postorder traversal here\n",
    "        def postorder(node):\n",
    "            return postorder(node.left) + postorder(node.right) + [node.val] if node else []\n",
    "        return \",\".join(map(str, postorder(root)))\n",
    "    \n",
    "\n",
    "    def deserialize(self, data: str) -> TreeNode:\n",
    "        \"\"\"Decodes your encoded data to tree.\n",
    "        \"\"\"\n",
    "        def construct(lower=-float(\"inf\"), upper=float(\"inf\")):\n",
    "            if not data or data[-1] > upper or data[-1] < lower:\n",
    "                return None\n",
    "            val = data.pop()\n",
    "            node = TreeNode(val)\n",
    "            node.right = construct(lower=val, upper=upper)\n",
    "            node.left = construct(lower=lower, upper=val)\n",
    "            return node\n",
    "        \n",
    "        data = [int(val) for val in data.split(\",\") if data] \n",
    "        # if data is important as \",\".join([]).split(\",\") -> ['']\n",
    "        return construct()"
   ]
  },
  {
   "cell_type": "code",
   "execution_count": 112,
   "metadata": {},
   "outputs": [],
   "source": [
    "ser = Codec()\n",
    "deser = Codec()\n",
    "tree = ser.serialize(None)\n",
    "ans = deser.deserialize(tree)"
   ]
  },
  {
   "cell_type": "markdown",
   "metadata": {},
   "source": [
    "### self-written preorder traversal"
   ]
  },
  {
   "cell_type": "code",
   "execution_count": 114,
   "metadata": {},
   "outputs": [],
   "source": [
    "class Codec:\n",
    "\n",
    "    def serialize(self, root: TreeNode) -> str:\n",
    "        \"\"\"Encodes a tree to a single string.\n",
    "        \"\"\"\n",
    "        # postorder traversal here\n",
    "        def preorder(node):\n",
    "            return [node.val] + preorder(node.left) + preorder(node.right) if node else []\n",
    "        return \",\".join(map(str, preorder(root)))\n",
    "    \n",
    "\n",
    "    def deserialize(self, data: str) -> TreeNode:\n",
    "        \"\"\"Decodes your encoded data to tree.\n",
    "        \"\"\"\n",
    "        def construct(lower=-float(\"inf\"), upper=float(\"inf\")):\n",
    "            if not data or data[0] > upper or data[0] < lower:\n",
    "                return None\n",
    "            val = data.pop(0)\n",
    "            node = TreeNode(val)\n",
    "            node.left = construct(lower=lower, upper=val)\n",
    "            node.right = construct(lower=val, upper=upper)\n",
    "            return node\n",
    "        \n",
    "        data = [int(val) for val in data.split(\",\") if data] \n",
    "        # if data is important as \",\".join([]).split(\",\") -> ['']\n",
    "        return construct()"
   ]
  },
  {
   "cell_type": "markdown",
   "metadata": {},
   "source": [
    "## 230. Kth Smallest Element in a BST"
   ]
  },
  {
   "cell_type": "markdown",
   "metadata": {},
   "source": [
    "### self-written recursive inorder traversal"
   ]
  },
  {
   "cell_type": "code",
   "execution_count": 115,
   "metadata": {},
   "outputs": [],
   "source": [
    "class Solution230:\n",
    "    def kthSmallest(self, root: TreeNode, k: int) -> int:\n",
    "        def inorder(node):\n",
    "            return inorder(node.left) + [node.val] + inorder(node.right) if node else []\n",
    "        return inorder(root)[k-1]       "
   ]
  },
  {
   "cell_type": "markdown",
   "metadata": {},
   "source": [
    "### self-written iterative inorder traversal"
   ]
  },
  {
   "cell_type": "code",
   "execution_count": 116,
   "metadata": {},
   "outputs": [],
   "source": [
    "class Solution230:\n",
    "    def kthSmallest(self, root: TreeNode, k: int) -> int:\n",
    "        stack = deque()\n",
    "        cnt = 0\n",
    "        while True:\n",
    "            if root:\n",
    "                stack.append(root)\n",
    "                root = root.left\n",
    "            else:\n",
    "                root = stack.pop()\n",
    "                cnt += 1\n",
    "                if cnt == k:\n",
    "                    return root.val\n",
    "                root = root.right\n",
    "        return 0"
   ]
  },
  {
   "cell_type": "markdown",
   "metadata": {},
   "source": [
    "### official solution"
   ]
  },
  {
   "cell_type": "code",
   "execution_count": 117,
   "metadata": {},
   "outputs": [],
   "source": [
    "class Solution230:\n",
    "    def kthSmallest(self, root: TreeNode, k: int) -> int:\n",
    "        stack = []\n",
    "        while True:\n",
    "            while root:\n",
    "                stack.append(root)\n",
    "                root = root.left\n",
    "            root = stack.pop()\n",
    "            k -= 1\n",
    "            if not k:\n",
    "                return root.val\n",
    "            root = root.right"
   ]
  },
  {
   "cell_type": "markdown",
   "metadata": {},
   "source": [
    "## 98. Validate Binary Search Tree (Review)"
   ]
  },
  {
   "cell_type": "markdown",
   "metadata": {},
   "source": [
    "### self-written solution"
   ]
  },
  {
   "cell_type": "code",
   "execution_count": 118,
   "metadata": {},
   "outputs": [],
   "source": [
    "class Solution98:\n",
    "    def isValidBST(self, root: TreeNode) -> bool:\n",
    "        def helper(node, lower, upper):\n",
    "            if not node:\n",
    "                return True\n",
    "            return lower < node.val < upper and helper(node.left, lower, node.val) and helper(node.right, node.val, upper)\n",
    "        return helper(root, -float(\"inf\"), float(\"inf\"))       "
   ]
  },
  {
   "cell_type": "markdown",
   "metadata": {},
   "source": [
    "## 333. Largest BST Subtree (no official solution)"
   ]
  },
  {
   "cell_type": "markdown",
   "metadata": {},
   "source": [
    "### self-written solution, time limit exceeded"
   ]
  },
  {
   "cell_type": "code",
   "execution_count": 121,
   "metadata": {},
   "outputs": [],
   "source": [
    "class Solution333:\n",
    "    def largestBSTSubtree(self, root: TreeNode) -> int:\n",
    "        def countNode(node, lower, upper):\n",
    "            if not node:\n",
    "                return 0, True\n",
    "            leftCount, leftValid = countNode(node.left, lower, node.val)\n",
    "            countNode(node.left, -float(\"inf\"), float(\"inf\"))\n",
    "            rightCount, rightValid = countNode(node.right, node.val, upper)\n",
    "            countNode(node.right, -float(\"inf\"), float(\"inf\"))\n",
    "            if lower < node.val < upper and leftValid and rightValid:\n",
    "                nodeCount = leftCount + rightCount + 1\n",
    "                nonlocal ret\n",
    "                ret = max(ret, nodeCount)\n",
    "                return nodeCount, True\n",
    "            return 0, False\n",
    "        ret = 0\n",
    "        countNode(root, -float(\"inf\"), float(\"inf\"))\n",
    "        return ret"
   ]
  },
  {
   "cell_type": "markdown",
   "metadata": {},
   "source": [
    "### self-written solution without any guidance, passed all tests, genius"
   ]
  },
  {
   "cell_type": "code",
   "execution_count": 122,
   "metadata": {},
   "outputs": [],
   "source": [
    "class Solution333:\n",
    "    def largestBSTSubtree(self, root: TreeNode) -> int:\n",
    "        # return nodeCount, isValidBST, minVal, maxVal\n",
    "        def helper(node):\n",
    "            if not node:\n",
    "                return 0, True, None, None\n",
    "            leftCount, leftValid, leftLower, leftUpper = helper(node.left)\n",
    "            rightCount, rightValid, rightLower, rightUpper = helper(node.right)\n",
    "            if (not leftUpper or leftUpper < node.val) and (not rightLower or node.val < rightLower) and leftValid and rightValid:\n",
    "                nodeCount = leftCount + rightCount + 1\n",
    "                nonlocal ret\n",
    "                ret = max(ret, nodeCount)\n",
    "                return nodeCount, True, leftLower if leftLower else node.val, rightUpper if rightUpper else node.val\n",
    "            return -1, False, None, None\n",
    "        ret = 0\n",
    "        helper(root)\n",
    "        return ret"
   ]
  },
  {
   "cell_type": "markdown",
   "metadata": {},
   "source": [
    "## 701. Insert into a Binary Search Tree"
   ]
  },
  {
   "cell_type": "markdown",
   "metadata": {},
   "source": [
    "### self-written iterative solution"
   ]
  },
  {
   "cell_type": "code",
   "execution_count": 124,
   "metadata": {},
   "outputs": [],
   "source": [
    "class Solution701:\n",
    "    def insertIntoBST(self, root: TreeNode, val: int) -> TreeNode:\n",
    "        if not root:\n",
    "            return TreeNode(val)\n",
    "        node = root\n",
    "        while True:\n",
    "            if val < node.val:\n",
    "                if node.left:\n",
    "                    node = node.left\n",
    "                else:\n",
    "                    node.left = TreeNode(val)\n",
    "                    return root\n",
    "            else:\n",
    "                if node.right:\n",
    "                    node = node.right\n",
    "                else:\n",
    "                    node.right = TreeNode(val)\n",
    "                    return root"
   ]
  },
  {
   "cell_type": "markdown",
   "metadata": {},
   "source": [
    "### self-written recursive solution after checking answers, very ingenious"
   ]
  },
  {
   "cell_type": "code",
   "execution_count": 125,
   "metadata": {},
   "outputs": [],
   "source": [
    "class Solution701:\n",
    "    def insertIntoBST(self, root: TreeNode, val: int) -> TreeNode:\n",
    "        if not root:\n",
    "            return TreeNode(val)\n",
    "        if val < root.val:\n",
    "            root.left = self.insertIntoBST(root.left, val)\n",
    "        else:\n",
    "            root.right = self.insertIntoBST(root.right, val)\n",
    "        return root"
   ]
  },
  {
   "cell_type": "markdown",
   "metadata": {},
   "source": [
    "## 450. Delete Node in a BST"
   ]
  },
  {
   "cell_type": "markdown",
   "metadata": {},
   "source": [
    "### self-written solution after checking answers"
   ]
  },
  {
   "cell_type": "code",
   "execution_count": 246,
   "metadata": {},
   "outputs": [],
   "source": [
    "class Solution450:\n",
    "    # this is a bit complicated\n",
    "    def findSuccessor(self, node) -> int: \n",
    "        node = node.right\n",
    "        while node.left:\n",
    "            node = node.left\n",
    "        return node.val\n",
    "    def findPredecessor(self, node) -> int:\n",
    "        node = node.left\n",
    "        while node.right:\n",
    "            node = node.right\n",
    "        return node.val\n",
    "    def deleteNode(self, root: TreeNode, key: int) -> TreeNode:\n",
    "        if not root:\n",
    "            return None\n",
    "        if root.val < key:\n",
    "            root.right = self.deleteNode(root.right, key)\n",
    "        elif root.val > key:\n",
    "            root.left = self.deleteNode(root.left, key)\n",
    "        else:\n",
    "            if not root.left and not root.right:\n",
    "                root = None\n",
    "            elif root.right:\n",
    "                root.val = self.findSuccessor(root)\n",
    "                root.right = self.deleteNode(root.right, root.val)\n",
    "            else:\n",
    "                root.val = self.findPredecessor(root)\n",
    "                root.left = self.deleteNode(root.left, root.val)\n",
    "        return root"
   ]
  },
  {
   "cell_type": "markdown",
   "metadata": {},
   "source": [
    "## 536. Construct Binary Tree from String"
   ]
  },
  {
   "cell_type": "markdown",
   "metadata": {},
   "source": [
    "### self-written recursive solution, passed all tests after several failures, genius"
   ]
  },
  {
   "cell_type": "code",
   "execution_count": 176,
   "metadata": {},
   "outputs": [],
   "source": [
    "class Solution536:\n",
    "    def str2tree(self, s: str) -> TreeNode:\n",
    "        \"\"\"\n",
    "        edge case: \"4\" as input\n",
    "        \"\"\"\n",
    "        def getVal(i):\n",
    "            j = i\n",
    "            while j < len(s) and (s[j] == '-' or s[j].isdigit()):\n",
    "                j += 1\n",
    "#             print(int(s[i:j]))\n",
    "            return int(s[i:j]), j\n",
    "        def helper(i):\n",
    "            # this check is only for empty string, can be removed\n",
    "            if i == len(s):\n",
    "                return None, -1\n",
    "            val, i = getVal(i)\n",
    "            node = TreeNode(val)\n",
    "#             print(\"done with val\", i)\n",
    "            # left tree\n",
    "            if i < len(s) and s[i] == \"(\":\n",
    "#                 print(f\"( at {i}\")\n",
    "                node.left, i = helper(i+1)\n",
    "#                 print(\"done with left tree\", i)\n",
    "                i += 1\n",
    "            # right tree\n",
    "#             print(s[i] == \"(\")\n",
    "            if i < len(s) and node.left and s[i] == \"(\":\n",
    "#                 print(\"entering right tree\")\n",
    "#                 print(f\"( at {i}\")\n",
    "                node.right, i = helper(i+1)\n",
    "#                 print(\"done with right tree\", i)\n",
    "                i += 1\n",
    "#             if s[i] == \")\":\n",
    "#                 print(f\") at {i}\")\n",
    "#                 return node, i\n",
    "            return node, i\n",
    "        return helper(0)[0]     "
   ]
  },
  {
   "cell_type": "code",
   "execution_count": 177,
   "metadata": {},
   "outputs": [],
   "source": [
    "solver_536 = Solution536()\n",
    "# tree = solver_536.str2tree(\"4(2(3)(1))(6(5))\")\n",
    "tree = solver_536.str2tree(\"4\")"
   ]
  },
  {
   "cell_type": "markdown",
   "metadata": {},
   "source": [
    "### cleaner version without comment"
   ]
  },
  {
   "cell_type": "code",
   "execution_count": 178,
   "metadata": {},
   "outputs": [],
   "source": [
    "class Solution536:\n",
    "    def str2tree(self, s: str) -> TreeNode:\n",
    "        def getVal(i):\n",
    "            j = i\n",
    "            while j < len(s) and (s[j] == '-' or s[j].isdigit()):\n",
    "                j += 1\n",
    "            return int(s[i:j]), j\n",
    "        def helper(i):\n",
    "            val, i = getVal(i)\n",
    "            node = TreeNode(val)\n",
    "            if i < len(s) and s[i] == \"(\":\n",
    "                node.left, i = helper(i+1)\n",
    "                i += 1\n",
    "            if i < len(s) and node.left and s[i] == \"(\":\n",
    "                node.right, i = helper(i+1)\n",
    "                i += 1\n",
    "            return node, i\n",
    "        if not s:\n",
    "            return None\n",
    "        return helper(0)[0]     "
   ]
  },
  {
   "cell_type": "markdown",
   "metadata": {},
   "source": [
    "### -1+1 difference, play around with index"
   ]
  },
  {
   "cell_type": "code",
   "execution_count": 179,
   "metadata": {},
   "outputs": [],
   "source": [
    "class Solution536:\n",
    "    def str2tree(self, s: str) -> TreeNode:\n",
    "        def getVal(i):\n",
    "            j = i\n",
    "            while j < len(s) and (s[j] == '-' or s[j].isdigit()):\n",
    "                j += 1\n",
    "            return int(s[i:j]), j\n",
    "        def helper(i):\n",
    "            val, i = getVal(i)\n",
    "            node = TreeNode(val)\n",
    "            if i < len(s) and s[i] == \"(\":\n",
    "                node.left, i = helper(i+1)\n",
    "            if i < len(s) and node.left and s[i] == \"(\":\n",
    "                node.right, i = helper(i+1)\n",
    "            return node, i+1\n",
    "        if not s:\n",
    "            return None\n",
    "        return helper(0)[0]   "
   ]
  },
  {
   "cell_type": "markdown",
   "metadata": {},
   "source": [
    "### self-written iterative solution after checking answers"
   ]
  },
  {
   "cell_type": "code",
   "execution_count": 204,
   "metadata": {},
   "outputs": [],
   "source": [
    "class Solution536:\n",
    "    def str2tree(self, s: str) -> TreeNode:\n",
    "        \"\"\"\n",
    "        This is so hard, haven't yet fully understood yet\n",
    "        \"\"\"\n",
    "        if not s:\n",
    "            return None\n",
    "        def getVal(i):\n",
    "            j = i\n",
    "            while j < len(s) and (s[j] == '-' or s[j].isdigit()):\n",
    "                j += 1\n",
    "            return int(s[i:j]), j\n",
    "        i = 0\n",
    "        root = TreeNode(None)\n",
    "        stack = deque([root])\n",
    "        while i < len(s):\n",
    "#             print(s[:i], [tree.val for tree in stack])\n",
    "            node = stack.pop()\n",
    "            if node.val is None:\n",
    "                # fill in value\n",
    "                node.val, i = getVal(i)\n",
    "#                 print(f\"val ends {i}\")\n",
    "                if i < len(s) and s[i] == \"(\":\n",
    "#                     print(f\"( at {i}\")\n",
    "                    # left tree\n",
    "                    node.left = TreeNode(None)\n",
    "                    stack.append(node)\n",
    "                    stack.append(node.left)\n",
    "            else:\n",
    "                if i < len(s) and s[i] == \"(\":\n",
    "#                     print(f\"( at {i}\")\n",
    "                    stack.append(node)\n",
    "                    node.right = TreeNode(None)\n",
    "                    stack.append(node.right)\n",
    "            i += 1 # this is for \"(\" if entering any if and \")\" otherwise (\")\" is like continue in this case)\n",
    "#         assert len(stack) == 1\n",
    "        # for example the input is \"4\", then the length of stack is 0\n",
    "        return stack[0] if stack else root"
   ]
  },
  {
   "cell_type": "code",
   "execution_count": 202,
   "metadata": {},
   "outputs": [],
   "source": [
    "solver_536 = Solution536()\n",
    "tree = solver_536.str2tree(\"4(2(3)(1))(6(5))\")\n",
    "tree = solver_536.str2tree(\"4\")"
   ]
  },
  {
   "cell_type": "markdown",
   "metadata": {},
   "source": [
    "## 110. Balanced Binary Tree"
   ]
  },
  {
   "cell_type": "markdown",
   "metadata": {},
   "source": [
    "### self-written recursive solution, genius"
   ]
  },
  {
   "cell_type": "code",
   "execution_count": 203,
   "metadata": {},
   "outputs": [],
   "source": [
    "class Solution110:\n",
    "    def isBalanced(self, root: TreeNode) -> bool:\n",
    "        def getHeight(node):\n",
    "            if not node:\n",
    "                return 0\n",
    "            leftHeight = getHeight(node.left)\n",
    "            rightHeight = getHeight(node.right)\n",
    "            if abs(leftHeight-rightHeight) > 1:\n",
    "                nonlocal ret\n",
    "                ret = False\n",
    "            return max(leftHeight, rightHeight) + 1\n",
    "        ret = True\n",
    "        getHeight(root)\n",
    "        return ret"
   ]
  },
  {
   "cell_type": "markdown",
   "metadata": {},
   "source": [
    "## 111. Minimum Depth of Binary Tree"
   ]
  },
  {
   "cell_type": "markdown",
   "metadata": {},
   "source": [
    "### self-written BFS"
   ]
  },
  {
   "cell_type": "code",
   "execution_count": 205,
   "metadata": {},
   "outputs": [],
   "source": [
    "class Solution111:\n",
    "    def minDepth(self, root: TreeNode) -> int:\n",
    "        if not root:\n",
    "            return 0\n",
    "        queue = deque([(root, 1)])\n",
    "        while queue:\n",
    "            node, level = queue.popleft()\n",
    "            if not node.left and not node.right:\n",
    "                return level\n",
    "            if node.left:\n",
    "                queue.append((node.left, level+1))\n",
    "            if node.right:\n",
    "                queue.append((node.right, level+1))"
   ]
  },
  {
   "cell_type": "markdown",
   "metadata": {},
   "source": [
    "## 129. Sum Root to Leaf Numbers"
   ]
  },
  {
   "cell_type": "markdown",
   "metadata": {},
   "source": [
    "### self-written recursive solution"
   ]
  },
  {
   "cell_type": "code",
   "execution_count": 222,
   "metadata": {},
   "outputs": [],
   "source": [
    "class Solution129:\n",
    "    def sumNumbers(self, root: TreeNode) -> int:\n",
    "        paths = list()\n",
    "        def pathCollector(node, path):\n",
    "            if not node.left and not node.right:\n",
    "                paths.append(path + [str(node.val)])\n",
    "                return\n",
    "            if node.left:\n",
    "                pathCollector(node.left, path + [str(node.val)])\n",
    "            if node.right:\n",
    "                pathCollector(node.right, path + [str(node.val)])\n",
    "        pathCollector(root, [])\n",
    "#         print(paths)\n",
    "        return sum([int(\"\".join(path)) for path in paths])"
   ]
  },
  {
   "cell_type": "code",
   "execution_count": 223,
   "metadata": {},
   "outputs": [
    {
     "data": {
      "text/plain": [
       "1026"
      ]
     },
     "execution_count": 223,
     "metadata": {},
     "output_type": "execute_result"
    }
   ],
   "source": [
    "solver_129 = Solution129()\n",
    "# solver_129.sumNumbers(TreeNode(1, TreeNode(2), TreeNode(3)))\n",
    "solver_129.sumNumbers(TreeNode(4, TreeNode(9, TreeNode(5), TreeNode(1)), TreeNode(0)))"
   ]
  },
  {
   "cell_type": "markdown",
   "metadata": {},
   "source": [
    "### self-written recursive solution after checking answers"
   ]
  },
  {
   "cell_type": "code",
   "execution_count": 224,
   "metadata": {},
   "outputs": [],
   "source": [
    "class Solution129:\n",
    "    def sumNumbers(self, root: TreeNode) -> int:\n",
    "        ret = 0\n",
    "        def pathCollector(node, currNumber):\n",
    "            currNumber = currNumber*10 + node.val\n",
    "            if not node.left and not node.right:\n",
    "                nonlocal ret\n",
    "                ret += currNumber\n",
    "                return\n",
    "            if node.left:\n",
    "                pathCollector(node.left, currNumber)\n",
    "            if node.right:\n",
    "                pathCollector(node.right, currNumber)\n",
    "        pathCollector(root, 0)\n",
    "        return ret"
   ]
  },
  {
   "cell_type": "markdown",
   "metadata": {},
   "source": [
    "## Binary Tree Traversal"
   ]
  },
  {
   "cell_type": "markdown",
   "metadata": {},
   "source": [
    "## 144. Binary Tree Preorder Traversal"
   ]
  },
  {
   "cell_type": "markdown",
   "metadata": {},
   "source": [
    "### self-written recursive solution"
   ]
  },
  {
   "cell_type": "code",
   "execution_count": 227,
   "metadata": {},
   "outputs": [],
   "source": [
    "class Solution144:\n",
    "    def preorderTraversal(self, root: TreeNode) -> List[int]:\n",
    "        return [root.val] + self.preorderTraversal(root.left) + self.preorderTraversal(root.right) if root else []"
   ]
  },
  {
   "cell_type": "markdown",
   "metadata": {},
   "source": [
    "### self-written stack solution"
   ]
  },
  {
   "cell_type": "code",
   "execution_count": 229,
   "metadata": {},
   "outputs": [],
   "source": [
    "class Solution144:\n",
    "    def preorderTraversal(self, root: TreeNode) -> List[int]:\n",
    "        if not root:\n",
    "            return []\n",
    "        stack = deque([root])\n",
    "        ret = []\n",
    "        while stack:\n",
    "            node = stack.pop()\n",
    "            ret.append(node.val)\n",
    "            if node.right:\n",
    "                stack.append(node.right)\n",
    "            if node.left:\n",
    "                stack.append(node.left)    \n",
    "        return ret"
   ]
  },
  {
   "cell_type": "markdown",
   "metadata": {},
   "source": [
    "### self-written Morris Traversal, passed all tests"
   ]
  },
  {
   "cell_type": "code",
   "execution_count": 230,
   "metadata": {},
   "outputs": [],
   "source": [
    "class Solution144:\n",
    "    def preorderTraversal(self, root: TreeNode) -> List[int]:\n",
    "        curr = root\n",
    "        ret = []\n",
    "        while curr:\n",
    "            if not curr.left:\n",
    "                ret.append(curr.val)\n",
    "                curr = curr.right\n",
    "            else:\n",
    "                node = curr.left\n",
    "                while node.right is not curr and node.right:\n",
    "                    node = node.right\n",
    "                if not node.right:\n",
    "                    node.right = curr\n",
    "                    ret.append(curr.val)\n",
    "                    curr = curr.left\n",
    "                else:\n",
    "                    node.right = None\n",
    "                    curr = curr.right\n",
    "        return ret"
   ]
  },
  {
   "cell_type": "markdown",
   "metadata": {},
   "source": [
    "## 94. Binary Tree Inorder Traversal (Review)"
   ]
  },
  {
   "cell_type": "markdown",
   "metadata": {},
   "source": [
    "### self-written recursive solution"
   ]
  },
  {
   "cell_type": "code",
   "execution_count": 231,
   "metadata": {},
   "outputs": [],
   "source": [
    "class Solution94:\n",
    "    def inorderTraversal(self, root: TreeNode) -> List[int]:\n",
    "        return self.inorderTraversal(root.left) + [root.val] + self.inorderTraversal(root.right) if root else []"
   ]
  },
  {
   "cell_type": "markdown",
   "metadata": {},
   "source": [
    "### self-written stack solution 1"
   ]
  },
  {
   "cell_type": "code",
   "execution_count": 232,
   "metadata": {},
   "outputs": [],
   "source": [
    "class Solution94:\n",
    "    def inorderTraversal(self, root: TreeNode) -> List[int]:\n",
    "        if not root:\n",
    "            return []\n",
    "        ret = []\n",
    "        stack = deque()\n",
    "        while stack or root:\n",
    "            while root:\n",
    "                stack.append(root)\n",
    "                root = root.left\n",
    "            root = stack.pop()\n",
    "            ret.append(root.val)\n",
    "            root = root.right\n",
    "        return ret"
   ]
  },
  {
   "cell_type": "markdown",
   "metadata": {},
   "source": [
    "### self-written stack solution 2"
   ]
  },
  {
   "cell_type": "code",
   "execution_count": 233,
   "metadata": {},
   "outputs": [],
   "source": [
    "class Solution94:\n",
    "    def inorderTraversal(self, root: TreeNode) -> List[int]:\n",
    "        ret = []\n",
    "        stack = deque()\n",
    "        while True:\n",
    "            if root:\n",
    "                stack.append(root)\n",
    "                root = root.left\n",
    "            else:\n",
    "                if not stack:\n",
    "                    break\n",
    "                root = stack.pop()\n",
    "                ret.append(root.val)\n",
    "                root = root.right\n",
    "        return ret"
   ]
  },
  {
   "cell_type": "markdown",
   "metadata": {},
   "source": [
    "### self-written Morris Traversal"
   ]
  },
  {
   "cell_type": "code",
   "execution_count": 234,
   "metadata": {},
   "outputs": [],
   "source": [
    "class Solution94:\n",
    "    def inorderTraversal(self, root: TreeNode) -> List[int]:\n",
    "        curr = root\n",
    "        ret = []\n",
    "        while curr:\n",
    "            if not curr.left:\n",
    "                ret.append(curr.val)\n",
    "                curr = curr.right\n",
    "            else:\n",
    "                node = curr.left\n",
    "                while node.right is not curr and node.right:\n",
    "                    node = node.right\n",
    "                if not node.right:\n",
    "                    node.right = curr\n",
    "                    curr = curr.left\n",
    "                else:\n",
    "                    node.right = None\n",
    "                    ret.append(curr.val)\n",
    "                    curr = curr.right\n",
    "        return ret"
   ]
  },
  {
   "cell_type": "markdown",
   "metadata": {},
   "source": [
    "## 145. Binary Tree Postorder Traversal"
   ]
  },
  {
   "cell_type": "markdown",
   "metadata": {},
   "source": [
    "### self-written recursive solution"
   ]
  },
  {
   "cell_type": "code",
   "execution_count": 235,
   "metadata": {},
   "outputs": [],
   "source": [
    "class Solution145:\n",
    "    def postorderTraversal(self, root: TreeNode) -> List[int]:\n",
    "        return self.postorderTraversal(root.left) + self.postorderTraversal(root.right) + [root.val] if root else []"
   ]
  },
  {
   "cell_type": "markdown",
   "metadata": {},
   "source": [
    "### self-written stack solution after checking answers"
   ]
  },
  {
   "cell_type": "code",
   "execution_count": 236,
   "metadata": {},
   "outputs": [],
   "source": [
    "class Solution145:\n",
    "    def postorderTraversal(self, root: TreeNode) -> List[int]:\n",
    "        if not root:\n",
    "            return []\n",
    "        ret = []\n",
    "        stack = deque([root])\n",
    "        while stack:\n",
    "            node = stack.pop()\n",
    "            ret.append(node.val)\n",
    "            if node.left:\n",
    "                stack.append(node.left)\n",
    "            if node.right:\n",
    "                stack.append(node.right)\n",
    "        return ret[::-1]"
   ]
  },
  {
   "cell_type": "markdown",
   "metadata": {},
   "source": [
    "### self-written one stack solution after watching YouTube video"
   ]
  },
  {
   "cell_type": "code",
   "execution_count": 241,
   "metadata": {},
   "outputs": [],
   "source": [
    "class Solution145:\n",
    "    def postorderTraversal(self, root: TreeNode) -> List[int]:\n",
    "        stack = deque()\n",
    "        ret = []\n",
    "        while root or stack:\n",
    "            if root:\n",
    "                stack.append(root)\n",
    "                root = root.left\n",
    "            else:\n",
    "                temp = stack[-1].right\n",
    "                if not temp:\n",
    "                    temp = stack.pop()\n",
    "                    ret.append(temp.val)\n",
    "                    while stack and temp is stack[-1].right:\n",
    "                        temp = stack.pop()\n",
    "                        ret.append(temp.val)\n",
    "                else:\n",
    "                    root = temp\n",
    "        return ret"
   ]
  },
  {
   "cell_type": "code",
   "execution_count": 242,
   "metadata": {},
   "outputs": [
    {
     "data": {
      "text/plain": [
       "[8, -6, 15, 10]"
      ]
     },
     "execution_count": 242,
     "metadata": {},
     "output_type": "execute_result"
    }
   ],
   "source": [
    "solver_145 = Solution145()\n",
    "tree = TreeNode(10, TreeNode(-6, None, TreeNode(8)), TreeNode(15))\n",
    "solver_145.postorderTraversal(tree)"
   ]
  },
  {
   "cell_type": "markdown",
   "metadata": {},
   "source": [
    "## 235. Lowest Common Ancestor of a Binary Search Tree"
   ]
  },
  {
   "cell_type": "markdown",
   "metadata": {},
   "source": [
    "### self-written solution"
   ]
  },
  {
   "cell_type": "code",
   "execution_count": 243,
   "metadata": {},
   "outputs": [],
   "source": [
    "class Solution235:\n",
    "    def lowestCommonAncestor(self, root: 'TreeNode', p: 'TreeNode', q: 'TreeNode') -> 'TreeNode':\n",
    "        small = min(p.val, q.val)\n",
    "        large = max(p.val, q.val)\n",
    "        while True:\n",
    "            if small <= root.val <= large:\n",
    "                return root\n",
    "            elif root.val < small:\n",
    "                root = root.right\n",
    "            else:\n",
    "                root = root.left\n",
    "        return None"
   ]
  },
  {
   "cell_type": "markdown",
   "metadata": {},
   "source": [
    "## 250. Count Univalue Subtrees"
   ]
  },
  {
   "cell_type": "markdown",
   "metadata": {},
   "source": [
    "### self-written solution, passed all tests"
   ]
  },
  {
   "cell_type": "code",
   "execution_count": 256,
   "metadata": {},
   "outputs": [],
   "source": [
    "class Solution250:\n",
    "    def countUnivalSubtrees(self, root: TreeNode) -> int:\n",
    "        self.ret = 0\n",
    "        def helper(node): \n",
    "            if not node:\n",
    "                return True, None\n",
    "            leftUni, leftVal = helper(node.left)\n",
    "            rightUni, rightVal = helper(node.right)\n",
    "            if leftUni and rightUni:\n",
    "                if not leftVal and not rightVal:\n",
    "#                     nonlocal ret\n",
    "                    self.ret += 1\n",
    "                    return True, node.val\n",
    "                elif not leftVal:\n",
    "                    if rightVal == node.val:\n",
    "#                         nonlocal ret\n",
    "                        self.ret += 1\n",
    "                    return rightVal == node.val, node.val\n",
    "                elif not rightVal:\n",
    "                    if leftVal == node.val:\n",
    "#                         nonlocal ret\n",
    "                        self.ret += 1\n",
    "                    return leftVal == node.val, node.val\n",
    "                if node.val == leftVal and leftVal == rightVal:\n",
    "#                     nonlocal ret\n",
    "                    self.ret += 1\n",
    "                return node.val == leftVal and leftVal == rightVal, node.val\n",
    "            return False, None\n",
    "        helper(root)\n",
    "        return self.ret"
   ]
  },
  {
   "cell_type": "markdown",
   "metadata": {},
   "source": [
    "## 366. Find Leaves of Binary Tree"
   ]
  },
  {
   "cell_type": "markdown",
   "metadata": {},
   "source": [
    "### self-written postorder traversal after checking answers, passed all tests"
   ]
  },
  {
   "cell_type": "code",
   "execution_count": 259,
   "metadata": {},
   "outputs": [],
   "source": [
    "class Solution366:\n",
    "    def findLeaves(self, root: TreeNode) -> List[List[int]]:\n",
    "        ret = []\n",
    "        def helper(node):\n",
    "            if not node:\n",
    "                return -1\n",
    "            leftHeight = helper(node.left)\n",
    "            rightHeight = helper(node.right)\n",
    "            currHeight = max(leftHeight, rightHeight) + 1\n",
    "            if currHeight == len(ret):\n",
    "                ret.append([])\n",
    "            ret[currHeight].append(node.val)\n",
    "            return currHeight\n",
    "        helper(root)\n",
    "        return ret"
   ]
  },
  {
   "cell_type": "markdown",
   "metadata": {},
   "source": [
    "## 255. Verify Preorder Sequence in Binary Search Tree"
   ]
  },
  {
   "cell_type": "markdown",
   "metadata": {},
   "source": [
    "### self-written solution after checking answers, this is so hard!"
   ]
  },
  {
   "cell_type": "code",
   "execution_count": 260,
   "metadata": {},
   "outputs": [],
   "source": [
    "class Solution255:\n",
    "    def verifyPreorder(self, preorder: List[int]) -> bool:\n",
    "        \"\"\"\n",
    "        there is only one criterion: lower value\n",
    "        \"\"\"\n",
    "        stack = deque()\n",
    "        lower = float(\"-inf\")\n",
    "        for val in preorder:\n",
    "            if val < lower:\n",
    "                return False\n",
    "            # find the parent and set it as lower (this is for right-subtree)\n",
    "            while stack and val > stack[-1]:\n",
    "                lower = stack.pop()\n",
    "            stack.append(val)\n",
    "        return True"
   ]
  },
  {
   "cell_type": "markdown",
   "metadata": {},
   "source": [
    "## House Robber Series"
   ]
  },
  {
   "cell_type": "markdown",
   "metadata": {},
   "source": [
    "## 198. House Robber"
   ]
  },
  {
   "cell_type": "markdown",
   "metadata": {},
   "source": [
    "### self-written bottom-up dynamic programming"
   ]
  },
  {
   "cell_type": "code",
   "execution_count": 261,
   "metadata": {},
   "outputs": [],
   "source": [
    "class Solution198:\n",
    "    def rob(self, nums: List[int]) -> int:\n",
    "        length = len(nums)\n",
    "        if length == 1:\n",
    "            return nums[0]\n",
    "        elif length == 2:\n",
    "            return max(nums)\n",
    "        dp = [0]*length\n",
    "        dp[0] = nums[0]\n",
    "        dp[1] = max(nums[0], nums[1])\n",
    "        for i in range(2, length):\n",
    "            dp[i] = max(dp[i-2] + nums[i], dp[i-1])\n",
    "        return dp[-1]"
   ]
  },
  {
   "cell_type": "markdown",
   "metadata": {},
   "source": [
    "### self-written dynamic programming after checking answers"
   ]
  },
  {
   "cell_type": "code",
   "execution_count": 262,
   "metadata": {},
   "outputs": [],
   "source": [
    "class Solution198:\n",
    "    def rob(self, nums: List[int]) -> int:\n",
    "        prevSum = 0\n",
    "        currSum = 0\n",
    "        for num in nums:\n",
    "            prevSum, currSum = currSum, max(prevSum + num, currSum)\n",
    "        return currSum"
   ]
  },
  {
   "cell_type": "markdown",
   "metadata": {},
   "source": [
    "## 213. House Robber II"
   ]
  },
  {
   "cell_type": "markdown",
   "metadata": {},
   "source": [
    "### self-written solution with the help of hint"
   ]
  },
  {
   "cell_type": "code",
   "execution_count": 264,
   "metadata": {},
   "outputs": [],
   "source": [
    "class Solution213:\n",
    "    def rob(self, nums: List[int]) -> int:\n",
    "        if len(nums) == 1:\n",
    "            return nums[0]\n",
    "        def helper(nums):\n",
    "            prevSum = 0\n",
    "            currSum = 0\n",
    "            for num in nums:\n",
    "                prevSum, currSum = currSum, max(prevSum + num, currSum)\n",
    "            return currSum\n",
    "        return max(helper(nums[:-1]), helper(nums[1:]))"
   ]
  },
  {
   "cell_type": "markdown",
   "metadata": {},
   "source": [
    "## 337. House Robber III"
   ]
  },
  {
   "cell_type": "markdown",
   "metadata": {},
   "source": [
    "### self-written top-down dynamic programming solution after checking answers"
   ]
  },
  {
   "cell_type": "code",
   "execution_count": 268,
   "metadata": {},
   "outputs": [],
   "source": [
    "class Solution337:\n",
    "    def rob(self, root: TreeNode) -> int:\n",
    "        # the initial code is wrong because \n",
    "        # if we don't rob the current node we can either rob or not rob its children\n",
    "        memo = dict()\n",
    "        def helper(node, useCurr):\n",
    "            if not node:\n",
    "                return 0\n",
    "            if (node, useCurr) in memo:\n",
    "                return memo[(node, useCurr)]\n",
    "            else:\n",
    "                if useCurr:\n",
    "                    memo[(node, useCurr)] = node.val + helper(node.left, False) + helper(node.right, False)\n",
    "                else:\n",
    "                    memo[(node, useCurr)] = max(helper(node.left, True), helper(node.left, False)) + \\\n",
    "                                            max(helper(node.right, True), helper(node.right, False))\n",
    "            return memo[(node, useCurr)]\n",
    "        return max(helper(root, True), helper(root, False))"
   ]
  },
  {
   "cell_type": "markdown",
   "metadata": {},
   "source": [
    "### self-written bottom-up dynamic programming with array-based tree after checking answers"
   ]
  },
  {
   "cell_type": "code",
   "execution_count": 279,
   "metadata": {},
   "outputs": [],
   "source": [
    "class Solution337:\n",
    "    def rob(self, root: TreeNode) -> int:\n",
    "        if not root:\n",
    "            return 0\n",
    "        queue = deque([(root, -1)])\n",
    "        array_tree = []\n",
    "        graph = defaultdict(list)\n",
    "        index = 0\n",
    "        # build array-based tree\n",
    "        while queue:\n",
    "            node, parent_idx = queue.popleft()\n",
    "            if node.left:\n",
    "                queue.append((node.left, index))\n",
    "            if node.right:\n",
    "                queue.append((node.right, index))\n",
    "            graph[parent_idx].append(index)\n",
    "            array_tree.append(node.val)\n",
    "            index += 1\n",
    "#         print(index)\n",
    "#         print(array_tree)\n",
    "#         print(graph)\n",
    "        dp_rob, dp_notrob = [0]*index, [0]*index\n",
    "        for i in range(index-1, -1, -1):\n",
    "            # leaf case\n",
    "            if i not in graph:\n",
    "                dp_rob[i], dp_notrob[i] = array_tree[i], 0\n",
    "            else:\n",
    "                dp_rob[i] = array_tree[i] + sum([dp_notrob[child] for child in graph[i]])\n",
    "                dp_notrob[i] = sum([max(dp_rob[child], dp_notrob[child]) for child in graph[i]])\n",
    "        return max(dp_rob[0], dp_notrob[0])"
   ]
  },
  {
   "cell_type": "code",
   "execution_count": 280,
   "metadata": {},
   "outputs": [
    {
     "data": {
      "text/plain": [
       "13"
      ]
     },
     "execution_count": 280,
     "metadata": {},
     "output_type": "execute_result"
    }
   ],
   "source": [
    "solver_337 = Solution337()\n",
    "tree = TreeNode(3, TreeNode(2, TreeNode(1), TreeNode(5)), TreeNode(7, None, TreeNode(4)))\n",
    "solver_337.rob(tree)"
   ]
  },
  {
   "cell_type": "code",
   "execution_count": null,
   "metadata": {},
   "outputs": [],
   "source": []
  }
 ],
 "metadata": {
  "kernelspec": {
   "display_name": "Python 3",
   "language": "python",
   "name": "python3"
  },
  "language_info": {
   "codemirror_mode": {
    "name": "ipython",
    "version": 3
   },
   "file_extension": ".py",
   "mimetype": "text/x-python",
   "name": "python",
   "nbconvert_exporter": "python",
   "pygments_lexer": "ipython3",
   "version": "3.7.1"
  }
 },
 "nbformat": 4,
 "nbformat_minor": 4
}
