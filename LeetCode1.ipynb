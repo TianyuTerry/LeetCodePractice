{
 "cells": [
  {
   "cell_type": "code",
   "execution_count": 1,
   "metadata": {},
   "outputs": [],
   "source": [
    "import numpy as np"
   ]
  },
  {
   "cell_type": "markdown",
   "metadata": {},
   "source": [
    "#### List Comprehension Example"
   ]
  },
  {
   "cell_type": "code",
   "execution_count": 2,
   "metadata": {},
   "outputs": [
    {
     "data": {
      "text/plain": [
       "[0, 1, 4, 9, 16, 25, 36, 49, 64, 81]"
      ]
     },
     "execution_count": 2,
     "metadata": {},
     "output_type": "execute_result"
    }
   ],
   "source": [
    "S = [x**2 for x in range(10)]\n",
    "S"
   ]
  },
  {
   "cell_type": "code",
   "execution_count": 3,
   "metadata": {},
   "outputs": [
    {
     "data": {
      "text/plain": [
       "[0, 4, 16, 36, 64]"
      ]
     },
     "execution_count": 3,
     "metadata": {},
     "output_type": "execute_result"
    }
   ],
   "source": [
    "M = [x for x in S if x%2 == 0]\n",
    "M"
   ]
  },
  {
   "cell_type": "code",
   "execution_count": 4,
   "metadata": {},
   "outputs": [
    {
     "data": {
      "text/plain": [
       "[1, 2, 4, 8, 16, 32, 64, 128, 256, 512, 1024, 2048, 4096]"
      ]
     },
     "execution_count": 4,
     "metadata": {},
     "output_type": "execute_result"
    }
   ],
   "source": [
    "V = [2**x for x in range(13)]\n",
    "V"
   ]
  },
  {
   "cell_type": "code",
   "execution_count": 5,
   "metadata": {},
   "outputs": [
    {
     "data": {
      "text/plain": [
       "[0, 1, 8, 27, 64, 125, 216, 343, 512, 729, 1000]"
      ]
     },
     "execution_count": 5,
     "metadata": {},
     "output_type": "execute_result"
    }
   ],
   "source": [
    "[x**3 for x in range(11)]"
   ]
  },
  {
   "cell_type": "code",
   "execution_count": 6,
   "metadata": {},
   "outputs": [
    {
     "data": {
      "text/plain": [
       "[[0, 1, 2, 3],\n",
       " [0, 1, 2, 3],\n",
       " [0, 1, 2, 3],\n",
       " [0, 1, 2, 3],\n",
       " [0, 1, 2, 3],\n",
       " [0, 1, 2, 3],\n",
       " [0, 1, 2, 3],\n",
       " [0, 1, 2, 3]]"
      ]
     },
     "execution_count": 6,
     "metadata": {},
     "output_type": "execute_result"
    }
   ],
   "source": [
    "matrix = [[j for j in range(4)] for i in range(8)]\n",
    "matrix"
   ]
  },
  {
   "cell_type": "code",
   "execution_count": 7,
   "metadata": {},
   "outputs": [
    {
     "data": {
      "text/plain": [
       "[1, 2, 3, 4, 5, 6, 7, 8, 9]"
      ]
     },
     "execution_count": 7,
     "metadata": {},
     "output_type": "execute_result"
    }
   ],
   "source": [
    "matrix = [[1, 2, 3], [4, 5], [6, 7, 8, 9]] \n",
    "  \n",
    "flatten_matrix = [val for sublist in matrix for val in sublist] \n",
    "  \n",
    "flatten_matrix"
   ]
  },
  {
   "cell_type": "code",
   "execution_count": 8,
   "metadata": {},
   "outputs": [
    {
     "data": {
      "text/plain": [
       "['0', 'Venus', 'Earth', 'Mars', '0', '0', '0', '0', 'Pluto']"
      ]
     },
     "execution_count": 8,
     "metadata": {},
     "output_type": "execute_result"
    }
   ],
   "source": [
    "planets = [['Mercury', 'Venus', 'Earth'], ['Mars', 'Jupiter', 'Saturn'], ['Uranus', 'Neptune', 'Pluto']]\n",
    "[planet if len(planet) < 6 else '0' for sublist in planets for planet in sublist]"
   ]
  },
  {
   "cell_type": "code",
   "execution_count": 9,
   "metadata": {},
   "outputs": [
    {
     "data": {
      "text/plain": [
       "['Venus', 'Earth', 'Mars', 'Pluto']"
      ]
     },
     "execution_count": 9,
     "metadata": {},
     "output_type": "execute_result"
    }
   ],
   "source": [
    "planets = [['Mercury', 'Venus', 'Earth'], ['Mars', 'Jupiter', 'Saturn'], ['Uranus', 'Neptune', 'Pluto']]\n",
    "[planet for sublist in planets for planet in sublist if len(planet) < 6]"
   ]
  },
  {
   "cell_type": "code",
   "execution_count": 10,
   "metadata": {},
   "outputs": [
    {
     "data": {
      "text/plain": [
       "[['Geeeks', 'Forgeeks'],\n",
       " ['65.7492', '62.5405'],\n",
       " ['Geeks', '123'],\n",
       " ['555.7492', '152.5406']]"
      ]
     },
     "execution_count": 10,
     "metadata": {},
     "output_type": "execute_result"
    }
   ],
   "source": [
    "Input = ['Geeeks, Forgeeks', '65.7492, 62.5405', \n",
    "         'Geeks, 123', '555.7492, 152.5406'] \n",
    "[pair.split(', ') for pair in Input]"
   ]
  },
  {
   "cell_type": "code",
   "execution_count": 11,
   "metadata": {},
   "outputs": [
    {
     "data": {
      "text/plain": [
       "['a', 'b', 'c']"
      ]
     },
     "execution_count": 11,
     "metadata": {},
     "output_type": "execute_result"
    }
   ],
   "source": [
    "'a b c'.split(' ')"
   ]
  },
  {
   "cell_type": "markdown",
   "metadata": {},
   "source": [
    "## 1109. Booking Problem Self-written Solution (did not pass the runtime limit)"
   ]
  },
  {
   "cell_type": "code",
   "execution_count": 12,
   "metadata": {},
   "outputs": [],
   "source": [
    "bookings = [[1,2,10],[2,3,20],[2,5,25]]\n",
    "n = 5\n",
    "\n",
    "def corpFlightBookings(bookings, n):\n",
    "    \n",
    "        return [sum( bk[2] for bk in bookings if (i >= bk[0] and i <= bk[1]) ) for i in range(1,n+1)]"
   ]
  },
  {
   "cell_type": "code",
   "execution_count": 13,
   "metadata": {},
   "outputs": [
    {
     "data": {
      "text/plain": [
       "[10, 55, 45, 25, 25]"
      ]
     },
     "execution_count": 13,
     "metadata": {},
     "output_type": "execute_result"
    }
   ],
   "source": [
    "corpFlightBookings(bookings, n)"
   ]
  },
  {
   "cell_type": "code",
   "execution_count": 14,
   "metadata": {},
   "outputs": [],
   "source": [
    "def corpFlightBookings_2(bookings, n):\n",
    "    output = [0] * n\n",
    "    for booking in bookings:\n",
    "        for i in range(booking[0]-1, booking[1]):\n",
    "            output[i] += booking[2]\n",
    "    return output"
   ]
  },
  {
   "cell_type": "code",
   "execution_count": 15,
   "metadata": {},
   "outputs": [
    {
     "data": {
      "text/plain": [
       "[10, 55, 45, 25, 25]"
      ]
     },
     "execution_count": 15,
     "metadata": {},
     "output_type": "execute_result"
    }
   ],
   "source": [
    "corpFlightBookings_2(bookings, n)"
   ]
  },
  {
   "cell_type": "markdown",
   "metadata": {},
   "source": [
    "#### Elegant and epic method!\n",
    "\n",
    "#### res means result in programming"
   ]
  },
  {
   "cell_type": "code",
   "execution_count": 16,
   "metadata": {},
   "outputs": [],
   "source": [
    "def corpFlightBookings_copied(bookings, n):  \n",
    "    res = [0]*n\n",
    "\n",
    "    for i in range(len(bookings)):   \n",
    "        res[bookings[i][0]-1] += bookings[i][2]\n",
    "        if bookings[i][1] < n:\n",
    "            res[bookings[i][1]] -= bookings[i][2]\n",
    "\n",
    "    s = 0\n",
    "    for i in range(len(res)):\n",
    "        res[i]+= s\n",
    "        s = res[i]\n",
    "\n",
    "    return res"
   ]
  },
  {
   "cell_type": "code",
   "execution_count": 17,
   "metadata": {},
   "outputs": [
    {
     "data": {
      "text/plain": [
       "[10, 55, 45, 25, 25]"
      ]
     },
     "execution_count": 17,
     "metadata": {},
     "output_type": "execute_result"
    }
   ],
   "source": [
    "corpFlightBookings_copied(bookings, n)"
   ]
  },
  {
   "cell_type": "markdown",
   "metadata": {},
   "source": [
    "#### dictionary comprehenshion"
   ]
  },
  {
   "cell_type": "code",
   "execution_count": 18,
   "metadata": {},
   "outputs": [
    {
     "name": "stdout",
     "output_type": "stream",
     "text": [
      "Return type: <class 'enumerate'>\n",
      "[(0, 'eat'), (1, 'sleep'), (2, 'repeat')]\n",
      "[(2, 'g'), (3, 'e'), (4, 'e'), (5, 'k')]\n"
     ]
    }
   ],
   "source": [
    "l1 = [\"eat\",\"sleep\",\"repeat\"] \n",
    "s1 = \"geek\"\n",
    "  \n",
    "# creating enumerate objects \n",
    "obj1 = enumerate(l1) \n",
    "obj2 = enumerate(s1) \n",
    "  \n",
    "print (\"Return type:\",type(obj1))\n",
    "print (list(enumerate(l1)))\n",
    "  \n",
    "# changing start index to 2 from 0 \n",
    "print (list(enumerate(s1,2)))"
   ]
  },
  {
   "cell_type": "code",
   "execution_count": 19,
   "metadata": {},
   "outputs": [
    {
     "data": {
      "text/plain": [
       "{'A': 0, 'B': 1, 'C': 2}"
      ]
     },
     "execution_count": 19,
     "metadata": {},
     "output_type": "execute_result"
    }
   ],
   "source": [
    "lst = ['A','B','C']\n",
    "{k: v for v, k in enumerate(lst)}"
   ]
  },
  {
   "cell_type": "markdown",
   "metadata": {},
   "source": [
    "#### Multiple elif condition by nested inside else"
   ]
  },
  {
   "cell_type": "code",
   "execution_count": 20,
   "metadata": {},
   "outputs": [
    {
     "data": {
      "text/plain": [
       "[0, 1, 2, 3, 0, 1, 2, 3, 0, 1, 2, 3, 0, 1, 2, 3, 0, 1, 2, 3]"
      ]
     },
     "execution_count": 20,
     "metadata": {},
     "output_type": "execute_result"
    }
   ],
   "source": [
    "L = [0 if x%4 == 0 else 1 if x%4 == 1 else 2 if x%4 == 2 else 3 for x in range(20)]\n",
    "L"
   ]
  },
  {
   "cell_type": "markdown",
   "metadata": {},
   "source": [
    "#### Numpy Operation"
   ]
  },
  {
   "cell_type": "code",
   "execution_count": 21,
   "metadata": {},
   "outputs": [
    {
     "data": {
      "text/plain": [
       "array([[-1.5, -0.5,  0.5,  1.5],\n",
       "       [-1.5, -0.5,  0.5,  1.5],\n",
       "       [-1.5, -0.5,  0.5,  1.5]])"
      ]
     },
     "execution_count": 21,
     "metadata": {},
     "output_type": "execute_result"
    }
   ],
   "source": [
    "from statistics import median \n",
    "x = np.array([[1, 2, 3, 4], [5, 6, 7 ,8], [9, 10, 11, 12]])\n",
    "\n",
    "xm = np.vstack(([x[i,:] - median(x[i,:]) for i in range(x.shape[0])]))\n",
    "xm"
   ]
  },
  {
   "cell_type": "code",
   "execution_count": 22,
   "metadata": {},
   "outputs": [
    {
     "data": {
      "text/plain": [
       "array([[-1.5, -0.5,  0.5,  1.5],\n",
       "       [-1.5, -0.5,  0.5,  1.5],\n",
       "       [-1.5, -0.5,  0.5,  1.5]])"
      ]
     },
     "execution_count": 22,
     "metadata": {},
     "output_type": "execute_result"
    }
   ],
   "source": [
    "x - np.median(x, axis=1)[:, np.newaxis]"
   ]
  },
  {
   "cell_type": "code",
   "execution_count": 23,
   "metadata": {},
   "outputs": [
    {
     "data": {
      "text/plain": [
       "array([[-1.5, -0.5,  0.5,  1.5],\n",
       "       [-1.5, -0.5,  0.5,  1.5],\n",
       "       [-1.5, -0.5,  0.5,  1.5]])"
      ]
     },
     "execution_count": 23,
     "metadata": {},
     "output_type": "execute_result"
    }
   ],
   "source": [
    "x - np.median(x, axis=1)[:, None]"
   ]
  },
  {
   "cell_type": "code",
   "execution_count": 24,
   "metadata": {},
   "outputs": [
    {
     "data": {
      "text/plain": [
       "array([[-1.5, -0.5,  0.5,  1.5],\n",
       "       [-1.5, -0.5,  0.5,  1.5],\n",
       "       [-1.5, -0.5,  0.5,  1.5]])"
      ]
     },
     "execution_count": 24,
     "metadata": {},
     "output_type": "execute_result"
    }
   ],
   "source": [
    "x - np.median(x, axis=1, keepdims=True)"
   ]
  },
  {
   "cell_type": "code",
   "execution_count": 25,
   "metadata": {},
   "outputs": [
    {
     "data": {
      "text/plain": [
       "array([[-1.5, -0.5,  0.5,  1.5],\n",
       "       [-1.5, -0.5,  0.5,  1.5],\n",
       "       [-1.5, -0.5,  0.5,  1.5]])"
      ]
     },
     "execution_count": 25,
     "metadata": {},
     "output_type": "execute_result"
    }
   ],
   "source": [
    "x - np.apply_along_axis(median, 1, x)[:,np.newaxis]"
   ]
  },
  {
   "cell_type": "code",
   "execution_count": 26,
   "metadata": {},
   "outputs": [
    {
     "data": {
      "text/plain": [
       "array([[-1.5, -0.5,  0.5,  1.5],\n",
       "       [-1.5, -0.5,  0.5,  1.5],\n",
       "       [-1.5, -0.5,  0.5,  1.5]])"
      ]
     },
     "execution_count": 26,
     "metadata": {},
     "output_type": "execute_result"
    }
   ],
   "source": [
    "x - np.apply_along_axis(median, 1, x)[:, None]"
   ]
  },
  {
   "cell_type": "code",
   "execution_count": 27,
   "metadata": {},
   "outputs": [
    {
     "data": {
      "text/plain": [
       "{1: 'a', 2: 'b', 3: 'c'}"
      ]
     },
     "execution_count": 27,
     "metadata": {},
     "output_type": "execute_result"
    }
   ],
   "source": [
    "{1:'a', 2:'b', 3:'c'}"
   ]
  },
  {
   "cell_type": "code",
   "execution_count": 28,
   "metadata": {},
   "outputs": [
    {
     "data": {
      "text/plain": [
       "array([4., 5., 6.])"
      ]
     },
     "execution_count": 28,
     "metadata": {},
     "output_type": "execute_result"
    }
   ],
   "source": [
    "def my_func(a):\n",
    "    \"\"\"Average first and last element of a 1-D array\"\"\"\n",
    "    return (a[0] + a[-1]) * 0.5\n",
    "b = np.array([[1,2,3], [4,5,6], [7,8,9]])\n",
    "np.apply_along_axis(my_func, 0, b)"
   ]
  },
  {
   "cell_type": "code",
   "execution_count": 29,
   "metadata": {},
   "outputs": [
    {
     "data": {
      "text/plain": [
       "array([2., 5., 8.])"
      ]
     },
     "execution_count": 29,
     "metadata": {},
     "output_type": "execute_result"
    }
   ],
   "source": [
    "np.apply_along_axis(my_func, 1, b)"
   ]
  },
  {
   "cell_type": "code",
   "execution_count": 30,
   "metadata": {},
   "outputs": [
    {
     "data": {
      "text/plain": [
       "array([[1, 7, 8],\n",
       "       [3, 4, 9],\n",
       "       [2, 5, 6]])"
      ]
     },
     "execution_count": 30,
     "metadata": {},
     "output_type": "execute_result"
    }
   ],
   "source": [
    "b = np.array([[8,1,7], [4,3,9], [5,2,6]])\n",
    "np.apply_along_axis(sorted, 1, b)"
   ]
  },
  {
   "cell_type": "markdown",
   "metadata": {},
   "source": [
    "For a function that returns a higher dimensional array, those dimensions are inserted in place of the axis dimension."
   ]
  },
  {
   "cell_type": "code",
   "execution_count": 31,
   "metadata": {},
   "outputs": [
    {
     "data": {
      "text/plain": [
       "array([[[1, 0, 0],\n",
       "        [0, 2, 0],\n",
       "        [0, 0, 3]],\n",
       "\n",
       "       [[4, 0, 0],\n",
       "        [0, 5, 0],\n",
       "        [0, 0, 6]],\n",
       "\n",
       "       [[7, 0, 0],\n",
       "        [0, 8, 0],\n",
       "        [0, 0, 9]]])"
      ]
     },
     "execution_count": 31,
     "metadata": {},
     "output_type": "execute_result"
    }
   ],
   "source": [
    "b = np.array([[1,2,3], [4,5,6], [7,8,9]])\n",
    "np.apply_along_axis(np.diag, -1, b)"
   ]
  },
  {
   "cell_type": "code",
   "execution_count": 32,
   "metadata": {},
   "outputs": [
    {
     "data": {
      "text/plain": [
       "array([[1, 2, 3],\n",
       "       [2, 3, 4]])"
      ]
     },
     "execution_count": 32,
     "metadata": {},
     "output_type": "execute_result"
    }
   ],
   "source": [
    "a = np.array([1, 2, 3])\n",
    "b = np.array([2, 3, 4])\n",
    "np.vstack((a,b))"
   ]
  },
  {
   "cell_type": "code",
   "execution_count": 33,
   "metadata": {},
   "outputs": [
    {
     "data": {
      "text/plain": [
       "array([[1],\n",
       "       [2],\n",
       "       [3],\n",
       "       [2],\n",
       "       [3],\n",
       "       [4]])"
      ]
     },
     "execution_count": 33,
     "metadata": {},
     "output_type": "execute_result"
    }
   ],
   "source": [
    "a = np.array([[1], [2], [3]])\n",
    "b = np.array([[2], [3], [4]])\n",
    "np.vstack((a,b))"
   ]
  },
  {
   "cell_type": "code",
   "execution_count": 34,
   "metadata": {},
   "outputs": [
    {
     "data": {
      "text/plain": [
       "[array([-1.5, -0.5,  0.5,  1.5]),\n",
       " array([-1.5, -0.5,  0.5,  1.5]),\n",
       " array([-1.5, -0.5,  0.5,  1.5])]"
      ]
     },
     "execution_count": 34,
     "metadata": {},
     "output_type": "execute_result"
    }
   ],
   "source": [
    "[x[i,:] - median(x[i,:]) for i in range(x.shape[0])]"
   ]
  },
  {
   "cell_type": "code",
   "execution_count": 35,
   "metadata": {},
   "outputs": [
    {
     "data": {
      "text/plain": [
       "array([[1, 2, 3],\n",
       "       [4, 5, 6],\n",
       "       [7, 8, 9]])"
      ]
     },
     "execution_count": 35,
     "metadata": {},
     "output_type": "execute_result"
    }
   ],
   "source": [
    "np.vstack([np.array([1,2,3]),np.array([4,5,6]), np.array([7,8,9])])"
   ]
  },
  {
   "cell_type": "markdown",
   "metadata": {},
   "source": [
    "#### Get unique value by zip: parallel iteration"
   ]
  },
  {
   "cell_type": "code",
   "execution_count": 36,
   "metadata": {},
   "outputs": [
    {
     "data": {
      "text/plain": [
       "{0: 7, 1: 4, 2: 1, 3: 2, 4: 1}"
      ]
     },
     "execution_count": 36,
     "metadata": {},
     "output_type": "execute_result"
    }
   ],
   "source": [
    "a = np.array([0, 3, 0, 1, 0, 1, 2, 1, 0, 0, 0, 0, 1, 3, 4])\n",
    "unique, counts = np.unique(a, return_counts=True)\n",
    "dict(zip(unique, counts))"
   ]
  },
  {
   "cell_type": "code",
   "execution_count": 37,
   "metadata": {
    "scrolled": true
   },
   "outputs": [
    {
     "data": {
      "text/plain": [
       "(array([0, 1, 2, 3, 4]), array([7, 4, 1, 2, 1]))"
      ]
     },
     "execution_count": 37,
     "metadata": {},
     "output_type": "execute_result"
    }
   ],
   "source": [
    "np.unique(a, return_counts=True)"
   ]
  },
  {
   "cell_type": "code",
   "execution_count": 41,
   "metadata": {},
   "outputs": [
    {
     "data": {
      "text/plain": [
       "array([0, 1, 2, 3, 4])"
      ]
     },
     "execution_count": 41,
     "metadata": {},
     "output_type": "execute_result"
    }
   ],
   "source": [
    "np.unique(a)"
   ]
  },
  {
   "cell_type": "code",
   "execution_count": 42,
   "metadata": {},
   "outputs": [
    {
     "data": {
      "text/plain": [
       "[(1, 4), (2, 5), (3, 6)]"
      ]
     },
     "execution_count": 42,
     "metadata": {},
     "output_type": "execute_result"
    }
   ],
   "source": [
    "list(zip(np.array([1,2,3]), np.array([4,5,6])))"
   ]
  },
  {
   "cell_type": "code",
   "execution_count": 43,
   "metadata": {},
   "outputs": [
    {
     "data": {
      "text/plain": [
       "((1, 4), (2, 5), (3, 6))"
      ]
     },
     "execution_count": 43,
     "metadata": {},
     "output_type": "execute_result"
    }
   ],
   "source": [
    "tuple(zip(np.array([1,2,3]), np.array([4,5,6])))"
   ]
  },
  {
   "cell_type": "code",
   "execution_count": 40,
   "metadata": {},
   "outputs": [
    {
     "data": {
      "text/plain": [
       "{1: 4, 2: 5, 3: 6}"
      ]
     },
     "execution_count": 40,
     "metadata": {},
     "output_type": "execute_result"
    }
   ],
   "source": [
    "dict(zip(np.array([1,2,3]), np.array([4,5,6])))"
   ]
  },
  {
   "cell_type": "code",
   "execution_count": 46,
   "metadata": {},
   "outputs": [
    {
     "data": {
      "text/plain": [
       "[(1, 4, 7), (2, 5, 8), (3, 6, 9)]"
      ]
     },
     "execution_count": 46,
     "metadata": {},
     "output_type": "execute_result"
    }
   ],
   "source": [
    "list(zip([1,2,3],[4,5,6],[7,8,9]))"
   ]
  },
  {
   "cell_type": "markdown",
   "metadata": {},
   "source": [
    "#### np.where return a tuple: this reflect numpy convention"
   ]
  },
  {
   "cell_type": "code",
   "execution_count": 44,
   "metadata": {
    "scrolled": true
   },
   "outputs": [
    {
     "data": {
      "text/plain": [
       "(array([ 0,  2,  4,  8,  9, 10, 11]),)"
      ]
     },
     "execution_count": 44,
     "metadata": {},
     "output_type": "execute_result"
    }
   ],
   "source": [
    "np.where(a == 0)"
   ]
  },
  {
   "cell_type": "code",
   "execution_count": 47,
   "metadata": {},
   "outputs": [
    {
     "name": "stdout",
     "output_type": "stream",
     "text": [
      "(array([0, 0, 0, 0, 1, 1, 1]), array([2, 3, 4, 5, 3, 4, 5]))\n"
     ]
    }
   ],
   "source": [
    "a = np.array([[1, 2, 3, 4, 5, 6],\n",
    "              [-2, 1, 2, 3, 4, 5]])\n",
    "\n",
    "print(np.where(a > 2))"
   ]
  },
  {
   "cell_type": "code",
   "execution_count": 52,
   "metadata": {},
   "outputs": [
    {
     "data": {
      "text/plain": [
       "array([[0, 2],\n",
       "       [0, 3],\n",
       "       [0, 4],\n",
       "       [0, 5],\n",
       "       [1, 3],\n",
       "       [1, 4],\n",
       "       [1, 5]])"
      ]
     },
     "execution_count": 52,
     "metadata": {},
     "output_type": "execute_result"
    }
   ],
   "source": [
    "np.array(list(zip(np.where(a > 2)[0], np.where(a > 2)[1])))"
   ]
  },
  {
   "cell_type": "markdown",
   "metadata": {},
   "source": [
    "#### Perform log on numpy array using mask"
   ]
  },
  {
   "cell_type": "code",
   "execution_count": 58,
   "metadata": {},
   "outputs": [
    {
     "data": {
      "text/plain": [
       "masked_array(\n",
       "  data=[[0.0, --],\n",
       "        [0.6931471805599453, 1.0986122886681098]],\n",
       "  mask=[[False,  True],\n",
       "        [False, False]],\n",
       "  fill_value=1e+20)"
      ]
     },
     "execution_count": 58,
     "metadata": {},
     "output_type": "execute_result"
    }
   ],
   "source": [
    "m = np.array([[1,0], [2,3]])\n",
    "x = np.ma.log(m)\n",
    "x"
   ]
  },
  {
   "cell_type": "code",
   "execution_count": 59,
   "metadata": {},
   "outputs": [
    {
     "data": {
      "text/plain": [
       "array([[0.        ,       -inf],\n",
       "       [0.69314718, 1.09861229]])"
      ]
     },
     "execution_count": 59,
     "metadata": {},
     "output_type": "execute_result"
    }
   ],
   "source": [
    "x.filled(-np.inf)"
   ]
  },
  {
   "cell_type": "markdown",
   "metadata": {},
   "source": [
    "## 775. Inversion Problem"
   ]
  },
  {
   "cell_type": "markdown",
   "metadata": {},
   "source": [
    "#### The answer below is written after referring to answers"
   ]
  },
  {
   "cell_type": "code",
   "execution_count": 152,
   "metadata": {},
   "outputs": [],
   "source": [
    "from typing import Dict, List, Tuple\n",
    "\n",
    "def global_local_inversion(A: List[int]) -> bool:\n",
    "    if len(A) <= 2:\n",
    "            return True\n",
    "    else:\n",
    "        cmax = -1\n",
    "        for i in range(len(A)-2):\n",
    "            cmax = max(cmax, A[i])\n",
    "            if cmax > A[i+2]:\n",
    "                return False\n",
    "        return True"
   ]
  },
  {
   "cell_type": "markdown",
   "metadata": {},
   "source": [
    "## 756. Pyramid Problem Self-written Recursive Solution"
   ]
  },
  {
   "cell_type": "code",
   "execution_count": 159,
   "metadata": {},
   "outputs": [],
   "source": [
    "from collections import defaultdict\n",
    "\n",
    "def pyramid(bottom: str, allowed: List[str]) -> bool:\n",
    "    rfr = defaultdict(lambda: defaultdict(set))\n",
    "    for a,b,c in allowed: rfr[a][b].add(c)\n",
    "    def pyramid_set(bottom, rfr):\n",
    "        if len(bottom) == 2:\n",
    "            return set(rfr[bottom[0]][bottom[1]])\n",
    "        else:\n",
    "            return set([element \n",
    "                        for subset in \n",
    "                        [rfr[a][b] for a in pyramid_set(bottom[:-1], rfr) for b in pyramid_set(bottom[1:], rfr)] \n",
    "                        for element in subset])\n",
    "    return bool(pyramid_set(bottom, rfr))          "
   ]
  },
  {
   "cell_type": "code",
   "execution_count": 155,
   "metadata": {
    "scrolled": true
   },
   "outputs": [
    {
     "data": {
      "text/plain": [
       "True"
      ]
     },
     "execution_count": 155,
     "metadata": {},
     "output_type": "execute_result"
    }
   ],
   "source": [
    "pyramid(bottom = \"AAB\", allowed = [\"AAA\", \"AAB\", \"ABA\", \"ABB\", \"BAC\"])"
   ]
  },
  {
   "cell_type": "code",
   "execution_count": 156,
   "metadata": {},
   "outputs": [
    {
     "data": {
      "text/plain": [
       "False"
      ]
     },
     "execution_count": 156,
     "metadata": {},
     "output_type": "execute_result"
    }
   ],
   "source": [
    "pyramid(bottom = \"AABA\", allowed = [\"AAA\", \"AAB\", \"ABA\", \"ABB\", \"BAC\"])"
   ]
  },
  {
   "cell_type": "markdown",
   "metadata": {},
   "source": [
    "#### Pyramid Other Answers"
   ]
  },
  {
   "cell_type": "code",
   "execution_count": 157,
   "metadata": {},
   "outputs": [],
   "source": [
    "def pyramidTransition(bottom, allowed):\n",
    "    f = defaultdict(lambda: defaultdict(list))\n",
    "    for a, b, c in allowed: f[a][b].append(c)\n",
    "\n",
    "    def pyramid(bottom):\n",
    "        if len(bottom) == 1: return True\n",
    "        for i in itertools.product(*(f[a][b] for a, b in zip(bottom, bottom[1:]))):\n",
    "            if pyramid(i): return True\n",
    "        return False\n",
    "    return pyramid(bottom)"
   ]
  },
  {
   "cell_type": "code",
   "execution_count": 74,
   "metadata": {},
   "outputs": [],
   "source": [
    "def pyramid(bottom):\n",
    "    return len(bottom) == 1 or any(pyramid(i) for i in product(*(f[a][b] for a, b in zip(bottom, bottom[1:]))))"
   ]
  },
  {
   "cell_type": "code",
   "execution_count": 149,
   "metadata": {},
   "outputs": [],
   "source": [
    "def pyramidTransition(bottom: str, allowed: List[str]) -> bool:\n",
    "    current = [set(c) for c in bottom]\n",
    "    while len(current) > 1:\n",
    "        current = [set(a[2] for a in allowed if a[0] in left and a[1] in right) for left, right in zip(current[:-1], current[1:])]\n",
    "    return bool(len(current[0]))"
   ]
  },
  {
   "cell_type": "markdown",
   "metadata": {},
   "source": [
    "#### Defaultdict and Lambda"
   ]
  },
  {
   "cell_type": "code",
   "execution_count": 105,
   "metadata": {},
   "outputs": [
    {
     "data": {
      "text/plain": [
       "defaultdict(int, {'v': 0, 'u': 0})"
      ]
     },
     "execution_count": 105,
     "metadata": {},
     "output_type": "execute_result"
    }
   ],
   "source": [
    "x = defaultdict(int)\n",
    "x['v']\n",
    "x['u']\n",
    "x"
   ]
  },
  {
   "cell_type": "code",
   "execution_count": 96,
   "metadata": {},
   "outputs": [
    {
     "name": "stdout",
     "output_type": "stream",
     "text": [
      "0\n",
      "{'k2': 0}\n"
     ]
    },
    {
     "data": {
      "text/plain": [
       "defaultdict(<function __main__.<lambda>()>,\n",
       "            {'k1': defaultdict(int, {'k2': 0})})"
      ]
     },
     "execution_count": 96,
     "metadata": {},
     "output_type": "execute_result"
    }
   ],
   "source": [
    "y = defaultdict(lambda: defaultdict(int))\n",
    "print((y['k1']['k2']))\n",
    "print(dict(y['k1']))\n",
    "y"
   ]
  },
  {
   "cell_type": "code",
   "execution_count": 100,
   "metadata": {},
   "outputs": [
    {
     "data": {
      "text/plain": [
       "dict_items([('yellow', [1, 3]), ('blue', [2, 4]), ('red', [1])])"
      ]
     },
     "execution_count": 100,
     "metadata": {},
     "output_type": "execute_result"
    }
   ],
   "source": [
    "s = [('yellow', 1), ('blue', 2), ('yellow', 3), ('blue', 4), ('red', 1)]\n",
    "d = defaultdict(list)\n",
    "for k, v in s:\n",
    "    d[k].append(v)\n",
    "d.items()"
   ]
  },
  {
   "cell_type": "code",
   "execution_count": 103,
   "metadata": {},
   "outputs": [
    {
     "name": "stdout",
     "output_type": "stream",
     "text": [
      "{'yellow': 3, 'blue': 4, 'red': 1}\n"
     ]
    },
    {
     "data": {
      "text/plain": [
       "dict_items([('yellow', 3), ('blue', 4), ('red', 1)])"
      ]
     },
     "execution_count": 103,
     "metadata": {},
     "output_type": "execute_result"
    }
   ],
   "source": [
    "normal_dict = {color: number for color, number in s} \n",
    "print(normal_dict)\n",
    "normal_dict.items()"
   ]
  },
  {
   "cell_type": "code",
   "execution_count": 109,
   "metadata": {},
   "outputs": [
    {
     "data": {
      "text/plain": [
       "defaultdict(<function __main__.<lambda>()>, {'HMM': 45})"
      ]
     },
     "execution_count": 109,
     "metadata": {},
     "output_type": "execute_result"
    }
   ],
   "source": [
    "z = defaultdict(lambda: 45)\n",
    "z['HMM']\n",
    "z"
   ]
  },
  {
   "cell_type": "markdown",
   "metadata": {},
   "source": [
    "## 121. Stock Transaction Problem\n",
    "\n",
    "#### At the first sight the idea of forward backward comes to mind"
   ]
  },
  {
   "cell_type": "code",
   "execution_count": 178,
   "metadata": {},
   "outputs": [],
   "source": [
    "import math\n",
    "\n",
    "def maxProfit(prices: List[int]) -> int:\n",
    "    Max, Min = [-math.inf]*len(prices), [math.inf]*len(prices)\n",
    "    for i in range(len(prices)):\n",
    "        Max[-i-1] = max(prices[-i-1], Max[-i])\n",
    "        Min[i] = min(prices[i], Min[i-1])\n",
    "    return max([a-b for a,b in zip(Max, Min)])"
   ]
  },
  {
   "cell_type": "code",
   "execution_count": 179,
   "metadata": {},
   "outputs": [
    {
     "data": {
      "text/plain": [
       "5"
      ]
     },
     "execution_count": 179,
     "metadata": {},
     "output_type": "execute_result"
    }
   ],
   "source": [
    "maxProfit([7,1,5,3,6,4])"
   ]
  },
  {
   "cell_type": "code",
   "execution_count": 180,
   "metadata": {},
   "outputs": [
    {
     "data": {
      "text/plain": [
       "0"
      ]
     },
     "execution_count": 180,
     "metadata": {},
     "output_type": "execute_result"
    }
   ],
   "source": [
    "maxProfit([7,6,4,3,1])"
   ]
  },
  {
   "cell_type": "code",
   "execution_count": 186,
   "metadata": {},
   "outputs": [],
   "source": [
    "def maxProfitSubmission(prices: List[int]) -> int:\n",
    "    if len(prices) == 0:\n",
    "        return 0\n",
    "    else:\n",
    "        Max, Min = [0]*len(prices), [0]*len(prices)\n",
    "        cmax = prices[-1]\n",
    "        cmin = prices[0]\n",
    "        for i in range(len(prices)):\n",
    "            if (prices[-i-1] > cmax):\n",
    "                cmax = prices[-i-1]\n",
    "            Max[-i-1] = cmax\n",
    "            if (prices[i] < cmin):\n",
    "                cmin = prices[i]\n",
    "            Min[i] = cmin\n",
    "        return max([a-b for a,b in zip(Max, Min)])"
   ]
  },
  {
   "cell_type": "code",
   "execution_count": 187,
   "metadata": {},
   "outputs": [
    {
     "data": {
      "text/plain": [
       "5"
      ]
     },
     "execution_count": 187,
     "metadata": {},
     "output_type": "execute_result"
    }
   ],
   "source": [
    "maxProfitSubmission([7,1,5,3,6,4])"
   ]
  },
  {
   "cell_type": "code",
   "execution_count": 188,
   "metadata": {},
   "outputs": [
    {
     "data": {
      "text/plain": [
       "0"
      ]
     },
     "execution_count": 188,
     "metadata": {},
     "output_type": "execute_result"
    }
   ],
   "source": [
    "maxProfitSubmission([7,6,4,3,1])"
   ]
  },
  {
   "cell_type": "code",
   "execution_count": 189,
   "metadata": {},
   "outputs": [],
   "source": [
    "def maxProfitFast(prices: List[int]) -> int:\n",
    "    diff = 0\n",
    "    cmin = float('inf')\n",
    "    for price in prices:\n",
    "        cmin = min(price, cmin)\n",
    "        diff = max(price-cmin, diff)\n",
    "    return diff"
   ]
  },
  {
   "cell_type": "code",
   "execution_count": 190,
   "metadata": {},
   "outputs": [
    {
     "data": {
      "text/plain": [
       "5"
      ]
     },
     "execution_count": 190,
     "metadata": {},
     "output_type": "execute_result"
    }
   ],
   "source": [
    "maxProfitFast([7,1,5,3,6,4])"
   ]
  },
  {
   "cell_type": "code",
   "execution_count": 191,
   "metadata": {},
   "outputs": [
    {
     "data": {
      "text/plain": [
       "0"
      ]
     },
     "execution_count": 191,
     "metadata": {},
     "output_type": "execute_result"
    }
   ],
   "source": [
    "maxProfitFast([7,6,4,3,1])"
   ]
  },
  {
   "cell_type": "markdown",
   "metadata": {},
   "source": [
    "## 617. Merge Two Binary Trees Problem"
   ]
  },
  {
   "cell_type": "code",
   "execution_count": 192,
   "metadata": {},
   "outputs": [],
   "source": [
    "class TreeNode(object):\n",
    "    def __init__(self, x):\n",
    "        self.val = x\n",
    "        self.left = None\n",
    "        self.right = None"
   ]
  },
  {
   "cell_type": "code",
   "execution_count": 209,
   "metadata": {},
   "outputs": [],
   "source": [
    "def mergeTrees(t1: TreeNode, t2: TreeNode) -> TreeNode:\n",
    "    if t1 == None and t2 == None:\n",
    "        return None\n",
    "    elif t1 == None:\n",
    "        return t2\n",
    "    elif t2 == None:\n",
    "        return t1\n",
    "    else:\n",
    "        tree_node = TreeNode(t1.val + t2.val)\n",
    "        tree_node.left = mergeTrees(t1.left, t2.left)\n",
    "        tree_node.right = mergeTrees(t1.right, t2.right)\n",
    "        return tree_node"
   ]
  },
  {
   "cell_type": "code",
   "execution_count": 198,
   "metadata": {},
   "outputs": [],
   "source": [
    "t1 = TreeNode(1)\n",
    "t1.left = TreeNode(3)\n",
    "t1.right = TreeNode(2)\n",
    "t1.left.left = TreeNode(5)"
   ]
  },
  {
   "cell_type": "code",
   "execution_count": 199,
   "metadata": {},
   "outputs": [],
   "source": [
    "t2 = TreeNode(2)\n",
    "t2.left = TreeNode(1)\n",
    "t2.right = TreeNode(3)\n",
    "t2.left.right = TreeNode(4)\n",
    "t2.right.right = TreeNode(7)"
   ]
  },
  {
   "cell_type": "code",
   "execution_count": 210,
   "metadata": {},
   "outputs": [
    {
     "data": {
      "text/plain": [
       "<__main__.TreeNode at 0x11bffb860>"
      ]
     },
     "execution_count": 210,
     "metadata": {},
     "output_type": "execute_result"
    }
   ],
   "source": [
    "mergeTrees(t1, t2)"
   ]
  },
  {
   "cell_type": "markdown",
   "metadata": {},
   "source": [
    "#### graphviz for graph plotting"
   ]
  },
  {
   "cell_type": "code",
   "execution_count": 204,
   "metadata": {},
   "outputs": [
    {
     "data": {
      "image/svg+xml": [
       "<?xml version=\"1.0\" encoding=\"UTF-8\" standalone=\"no\"?>\n",
       "<!DOCTYPE svg PUBLIC \"-//W3C//DTD SVG 1.1//EN\"\n",
       " \"http://www.w3.org/Graphics/SVG/1.1/DTD/svg11.dtd\">\n",
       "<!-- Generated by graphviz version 2.43.0 (0)\n",
       " -->\n",
       "<!-- Title: %3 Pages: 1 -->\n",
       "<svg width=\"8pt\" height=\"8pt\"\n",
       " viewBox=\"0.00 0.00 8.00 8.00\" xmlns=\"http://www.w3.org/2000/svg\" xmlns:xlink=\"http://www.w3.org/1999/xlink\">\n",
       "<g id=\"graph0\" class=\"graph\" transform=\"scale(1 1) rotate(0) translate(4 4)\">\n",
       "<title>%3</title>\n",
       "<polygon fill=\"white\" stroke=\"transparent\" points=\"-4,4 -4,-4 4,-4 4,4 -4,4\"/>\n",
       "</g>\n",
       "</svg>\n"
      ],
      "text/plain": [
       "<graphviz.dot.Digraph at 0x108964c18>"
      ]
     },
     "execution_count": 204,
     "metadata": {},
     "output_type": "execute_result"
    }
   ],
   "source": [
    "from graphviz import Digraph\n",
    "dot = Digraph(comment='The Round Table')\n",
    "dot"
   ]
  },
  {
   "cell_type": "code",
   "execution_count": 205,
   "metadata": {},
   "outputs": [],
   "source": [
    "dot.node('A', 'King Arthur')\n",
    "dot.node('B', 'Sir Bedevere the Wise')\n",
    "dot.node('L', 'Sir Lancelot the Brave')\n",
    "\n",
    "dot.edges(['AB', 'AL'])\n",
    "dot.edge('B', 'L', constraint='false')"
   ]
  },
  {
   "cell_type": "code",
   "execution_count": 206,
   "metadata": {},
   "outputs": [
    {
     "data": {
      "text/plain": [
       "'// The Round Table\\ndigraph {\\n\\tA [label=\"King Arthur\"]\\n\\tB [label=\"Sir Bedevere the Wise\"]\\n\\tL [label=\"Sir Lancelot the Brave\"]\\n\\tA -> B\\n\\tA -> L\\n\\tB -> L [constraint=false]\\n}'"
      ]
     },
     "execution_count": 206,
     "metadata": {},
     "output_type": "execute_result"
    }
   ],
   "source": [
    "dot.source  "
   ]
  },
  {
   "cell_type": "code",
   "execution_count": 207,
   "metadata": {},
   "outputs": [
    {
     "data": {
      "text/plain": [
       "'test-output/round-table.gv.pdf'"
      ]
     },
     "execution_count": 207,
     "metadata": {},
     "output_type": "execute_result"
    }
   ],
   "source": [
    "dot.render('test-output/round-table.gv', view=True) "
   ]
  },
  {
   "cell_type": "markdown",
   "metadata": {},
   "source": [
    "## 11. Water Container Problem"
   ]
  },
  {
   "cell_type": "markdown",
   "metadata": {},
   "source": [
    "#### This code is written the day after referring to answers, this problem is like dynamic programming, avoiding some unnecessary check, using left and right pointers"
   ]
  },
  {
   "cell_type": "code",
   "execution_count": 211,
   "metadata": {},
   "outputs": [],
   "source": [
    "def maxArea(height: List[int]) -> int:\n",
    "    left, right, area = 0, len(height)-1, 0\n",
    "    while left < right:\n",
    "        if height[left] < height[right]:\n",
    "            area = max(area, height[left]*(right-left))\n",
    "            left += 1\n",
    "        else:\n",
    "            area = max(area, height[right]*(right-left))\n",
    "            right -= 1\n",
    "    return area"
   ]
  },
  {
   "cell_type": "code",
   "execution_count": 212,
   "metadata": {},
   "outputs": [
    {
     "data": {
      "text/plain": [
       "49"
      ]
     },
     "execution_count": 212,
     "metadata": {},
     "output_type": "execute_result"
    }
   ],
   "source": [
    "maxArea([1,8,6,2,5,4,8,3,7])"
   ]
  },
  {
   "cell_type": "markdown",
   "metadata": {},
   "source": [
    "## 2. Add Two Numbers in Singly-linked List Problem"
   ]
  },
  {
   "cell_type": "markdown",
   "metadata": {},
   "source": [
    "#### Self-written class method in convenience for printing out result and create instances"
   ]
  },
  {
   "cell_type": "code",
   "execution_count": 227,
   "metadata": {},
   "outputs": [],
   "source": [
    "class ListNode(object):\n",
    "    \n",
    "    def __init__(self, x, node=None):\n",
    "        self.val = x\n",
    "        self.next = node\n",
    "    \n",
    "    def __str__(self):\n",
    "        if (self == None):\n",
    "            return \"\"\n",
    "        else:\n",
    "            pointer = self\n",
    "            string = str(pointer.val)\n",
    "            while (pointer.next != None):\n",
    "                string += \" -> \" + str(pointer.next.val)\n",
    "                pointer = pointer.next\n",
    "            return string"
   ]
  },
  {
   "cell_type": "code",
   "execution_count": 238,
   "metadata": {},
   "outputs": [],
   "source": [
    "def addTwoNumbers(l1: ListNode, l2 :ListNode) -> ListNode:\n",
    "    if (l1 == None) & (l2 == None):\n",
    "        return None\n",
    "    elif l1 == None:\n",
    "        Sum = ListNode(l2.val)\n",
    "        pointer = Sum\n",
    "        while l2.next != None:\n",
    "            pointer.next = ListNode(l2.next.val)\n",
    "            l2 = l2.next\n",
    "            pointer = pointer.next\n",
    "        return Sum\n",
    "    elif l2 == None:\n",
    "        return addTwoNumbers(l2, l1)\n",
    "    else:\n",
    "        value_sum = l1.val + l2.val\n",
    "        Sum = ListNode(value_sum % 10)\n",
    "        carry = value_sum // 10\n",
    "        pointer = Sum\n",
    "        while (l1.next != None) & (l2.next != None):\n",
    "            value_sum = l1.next.val + l2.next.val + carry\n",
    "            carry = value_sum // 10\n",
    "            pointer.next = ListNode(value_sum % 10)\n",
    "            pointer = pointer.next\n",
    "            l1 = l1.next\n",
    "            l2 = l2.next\n",
    "        while l1.next != None:\n",
    "            value_sum = l1.next.val + carry\n",
    "            carry = value_sum // 10\n",
    "            pointer.next = ListNode(value_sum % 10)\n",
    "            pointer = pointer.next\n",
    "            l1 = l1.next\n",
    "        while l2.next != None:\n",
    "            value_sum = l2.next.val + carry\n",
    "            carry = value_sum // 10\n",
    "            pointer.next = ListNode(value_sum % 10)\n",
    "            pointer = pointer.next\n",
    "            l2 = l2.next\n",
    "        if (carry == 0):\n",
    "            return Sum\n",
    "        else:\n",
    "            pointer.next = ListNode(carry)\n",
    "            return Sum"
   ]
  },
  {
   "cell_type": "code",
   "execution_count": 239,
   "metadata": {},
   "outputs": [
    {
     "name": "stdout",
     "output_type": "stream",
     "text": [
      "2 -> 4 -> 3\n"
     ]
    }
   ],
   "source": [
    "l1 = ListNode(2, ListNode(4, ListNode(3)))\n",
    "print(l1)"
   ]
  },
  {
   "cell_type": "code",
   "execution_count": 240,
   "metadata": {},
   "outputs": [
    {
     "name": "stdout",
     "output_type": "stream",
     "text": [
      "5 -> 6 -> 4\n"
     ]
    }
   ],
   "source": [
    "l2 = ListNode(5, ListNode(6, ListNode(4)))\n",
    "print(l2)"
   ]
  },
  {
   "cell_type": "code",
   "execution_count": 241,
   "metadata": {},
   "outputs": [
    {
     "name": "stdout",
     "output_type": "stream",
     "text": [
      "7 -> 0 -> 8\n"
     ]
    }
   ],
   "source": [
    "print(addTwoNumbers(l1, l2))"
   ]
  },
  {
   "cell_type": "markdown",
   "metadata": {},
   "source": [
    "#### Import edge cases!"
   ]
  },
  {
   "cell_type": "code",
   "execution_count": 242,
   "metadata": {},
   "outputs": [
    {
     "name": "stdout",
     "output_type": "stream",
     "text": [
      "0 -> 1\n"
     ]
    }
   ],
   "source": [
    "l3 = ListNode(5)\n",
    "l4 = ListNode(5)\n",
    "print(addTwoNumbers(l3, l4))"
   ]
  },
  {
   "cell_type": "code",
   "execution_count": 244,
   "metadata": {},
   "outputs": [
    {
     "name": "stdout",
     "output_type": "stream",
     "text": [
      "0 -> 0 -> 1\n"
     ]
    }
   ],
   "source": [
    "l5 = ListNode(1)\n",
    "l6 = ListNode(9, ListNode(9))\n",
    "print(addTwoNumbers(l5, l6))"
   ]
  },
  {
   "cell_type": "markdown",
   "metadata": {},
   "source": [
    "## 1. Two Sum Problem (guaranteed one solution and therefore unique elements)"
   ]
  },
  {
   "cell_type": "code",
   "execution_count": 249,
   "metadata": {},
   "outputs": [],
   "source": [
    "def twoSum(nums: List[int], target: int) -> List[int]:\n",
    "    for i in range(len(nums)):\n",
    "        for j in range(i):\n",
    "            if nums[i] + nums[j] == target:\n",
    "                return [j, i]          "
   ]
  },
  {
   "cell_type": "code",
   "execution_count": 250,
   "metadata": {},
   "outputs": [
    {
     "data": {
      "text/plain": [
       "[0, 1]"
      ]
     },
     "execution_count": 250,
     "metadata": {},
     "output_type": "execute_result"
    }
   ],
   "source": [
    "twoSum([2, 7, 11, 15], 9)"
   ]
  },
  {
   "cell_type": "markdown",
   "metadata": {},
   "source": [
    "#### Other answers"
   ]
  },
  {
   "cell_type": "code",
   "execution_count": 251,
   "metadata": {},
   "outputs": [],
   "source": [
    "def twoSumHash(nums, target):\n",
    "    dic = {}\n",
    "    for i, num in enumerate(nums):\n",
    "        if target-num in dic:\n",
    "            return [dic[target-num], i]\n",
    "        dic[num] = i"
   ]
  },
  {
   "cell_type": "code",
   "execution_count": 252,
   "metadata": {},
   "outputs": [
    {
     "data": {
      "text/plain": [
       "[0, 1]"
      ]
     },
     "execution_count": 252,
     "metadata": {},
     "output_type": "execute_result"
    }
   ],
   "source": [
    "twoSumHash([2, 7, 11, 15], 9)"
   ]
  },
  {
   "cell_type": "markdown",
   "metadata": {},
   "source": [
    "## 15. Three Sum Problem (multiple solution and repeating elements)"
   ]
  },
  {
   "cell_type": "code",
   "execution_count": 267,
   "metadata": {},
   "outputs": [],
   "source": [
    "def threeSumTrial(nums: List[int]) -> List[List[int]]:\n",
    "    dic = {}\n",
    "    output = []\n",
    "    for i, num in enumerate(nums):\n",
    "        for j in range(i):\n",
    "            if (-nums[i]-nums[j] in dic):\n",
    "                if dic[-nums[i]-nums[j]] < j:\n",
    "                    output.append([-nums[i]-nums[j], nums[j], nums[i]])\n",
    "        dic[num] = i\n",
    "    return output"
   ]
  },
  {
   "cell_type": "code",
   "execution_count": 268,
   "metadata": {},
   "outputs": [
    {
     "data": {
      "text/plain": [
       "[[-1, 0, 1], [0, 1, -1], [-1, 2, -1]]"
      ]
     },
     "execution_count": 268,
     "metadata": {},
     "output_type": "execute_result"
    }
   ],
   "source": [
    "threeSumTrial([-1, 0, 1, 2, -1, -4])"
   ]
  },
  {
   "cell_type": "markdown",
   "metadata": {},
   "source": [
    "#### How to remove or prevent repeated elements?\n",
    "\n",
    "#### Answer below is after referring to the answers and realize the importance of sorting the list first in this problem\n",
    "\n",
    "#### Two-pointer solution, how to avoid repeated elements is essential"
   ]
  },
  {
   "cell_type": "code",
   "execution_count": 280,
   "metadata": {},
   "outputs": [],
   "source": [
    "def threeSum(nums: List[int]) -> List[List[int]]:\n",
    "    if (len(nums) < 3):\n",
    "        return []\n",
    "    else:\n",
    "        res = []\n",
    "        nums = sorted(nums)\n",
    "        target = nums[0] - 1\n",
    "        for i in range(len(nums)-2):\n",
    "            if (nums[i] != target):\n",
    "                target = nums[i]\n",
    "                left = i+1\n",
    "                right = len(nums) - 1\n",
    "                while (left < right):\n",
    "                    left_number = nums[left]\n",
    "                    right_number = nums[right]\n",
    "                    if (left_number + right_number < -target):\n",
    "                        left += 1\n",
    "                        while (left < right) & (nums[left] == left_number):\n",
    "                            left += 1\n",
    "                    elif (left_number + right_number > -target):\n",
    "                        right -= 1\n",
    "                        while (left < right) & (nums[right] == right_number):\n",
    "                            right -= 1\n",
    "                    else:\n",
    "                        res.append([target, left_number, right_number])\n",
    "                        left += 1\n",
    "                        while (left < right) & (nums[left] == left_number):\n",
    "                            left += 1\n",
    "                        right -= 1\n",
    "                        while (left < right) & (nums[right] == right_number):\n",
    "                            right -= 1\n",
    "        return res"
   ]
  },
  {
   "cell_type": "code",
   "execution_count": 278,
   "metadata": {},
   "outputs": [
    {
     "data": {
      "text/plain": [
       "[[-1, -1, 2], [-1, 0, 1]]"
      ]
     },
     "execution_count": 278,
     "metadata": {},
     "output_type": "execute_result"
    }
   ],
   "source": [
    "threeSum([-1, 0, 1, 2, -1, -4])"
   ]
  },
  {
   "cell_type": "code",
   "execution_count": 279,
   "metadata": {},
   "outputs": [
    {
     "data": {
      "text/plain": [
       "[1, 2, 3, 3, 4, 5, 5, 6, 6, 7]"
      ]
     },
     "execution_count": 279,
     "metadata": {},
     "output_type": "execute_result"
    }
   ],
   "source": [
    "sorted([1,3,2,4,5,7,3,5,6,6])"
   ]
  },
  {
   "cell_type": "markdown",
   "metadata": {},
   "source": [
    "## 17. Letter Combinations of a Phone Number"
   ]
  },
  {
   "cell_type": "markdown",
   "metadata": {},
   "source": [
    "#### Recursion method, maximum depth exceeded......."
   ]
  },
  {
   "cell_type": "code",
   "execution_count": 281,
   "metadata": {},
   "outputs": [],
   "source": [
    "def letterCombinations(digits: str) -> List[str]:\n",
    "    dic = {'2': ['a','b','c'], '3': ['d','e','f'], '4': ['g','h','i'], '5': ['j','k','l'],\n",
    "          '6': ['m','n','o'], '7': ['p','q','r','s'], '8': ['t','u','v'], '9': ['w','x','y','z']}\n",
    "    def letterHelp(digits: str):\n",
    "        if (len(digits) == 1):\n",
    "            return dic[digits[0]]\n",
    "        else:\n",
    "            return [a+b for a in letterHelp(digits[:-1]) for b in dic[digits[-1]]]\n",
    "    if (len(digits) == 0):\n",
    "        return []\n",
    "    return letterHelp(digits)"
   ]
  },
  {
   "cell_type": "code",
   "execution_count": 282,
   "metadata": {},
   "outputs": [
    {
     "data": {
      "text/plain": [
       "['ad', 'ae', 'af', 'bd', 'be', 'bf', 'cd', 'ce', 'cf']"
      ]
     },
     "execution_count": 282,
     "metadata": {},
     "output_type": "execute_result"
    }
   ],
   "source": [
    "letterCombinations(\"23\")"
   ]
  },
  {
   "cell_type": "code",
   "execution_count": 285,
   "metadata": {},
   "outputs": [
    {
     "data": {
      "text/plain": [
       "['ada',\n",
       " 'adb',\n",
       " 'adc',\n",
       " 'aea',\n",
       " 'aeb',\n",
       " 'aec',\n",
       " 'afa',\n",
       " 'afb',\n",
       " 'afc',\n",
       " 'bda',\n",
       " 'bdb',\n",
       " 'bdc',\n",
       " 'bea',\n",
       " 'beb',\n",
       " 'bec',\n",
       " 'bfa',\n",
       " 'bfb',\n",
       " 'bfc',\n",
       " 'cda',\n",
       " 'cdb',\n",
       " 'cdc',\n",
       " 'cea',\n",
       " 'ceb',\n",
       " 'cec',\n",
       " 'cfa',\n",
       " 'cfb',\n",
       " 'cfc']"
      ]
     },
     "execution_count": 285,
     "metadata": {},
     "output_type": "execute_result"
    }
   ],
   "source": [
    "letterCombinations(\"232\")"
   ]
  },
  {
   "cell_type": "markdown",
   "metadata": {},
   "source": [
    "#### Loop Method"
   ]
  },
  {
   "cell_type": "code",
   "execution_count": 286,
   "metadata": {},
   "outputs": [],
   "source": [
    "def letterCombinationsLoop(digits: str) -> List[str]:\n",
    "    dic = {'2': ['a','b','c'], '3': ['d','e','f'], '4': ['g','h','i'], '5': ['j','k','l'],\n",
    "          '6': ['m','n','o'], '7': ['p','q','r','s'], '8': ['t','u','v'], '9': ['w','x','y','z']}\n",
    "    if (len(digits) == 0):\n",
    "        return []\n",
    "    else:  \n",
    "        output = dic[digits[0]]\n",
    "        for digit in digits[1:]:\n",
    "            output = [a+b for a in output for b in dic[digit]]\n",
    "        return output"
   ]
  },
  {
   "cell_type": "code",
   "execution_count": 287,
   "metadata": {},
   "outputs": [
    {
     "data": {
      "text/plain": [
       "['ad', 'ae', 'af', 'bd', 'be', 'bf', 'cd', 'ce', 'cf']"
      ]
     },
     "execution_count": 287,
     "metadata": {},
     "output_type": "execute_result"
    }
   ],
   "source": [
    "letterCombinationsLoop('23')"
   ]
  },
  {
   "cell_type": "code",
   "execution_count": 288,
   "metadata": {},
   "outputs": [
    {
     "data": {
      "text/plain": [
       "['ada',\n",
       " 'adb',\n",
       " 'adc',\n",
       " 'aea',\n",
       " 'aeb',\n",
       " 'aec',\n",
       " 'afa',\n",
       " 'afb',\n",
       " 'afc',\n",
       " 'bda',\n",
       " 'bdb',\n",
       " 'bdc',\n",
       " 'bea',\n",
       " 'beb',\n",
       " 'bec',\n",
       " 'bfa',\n",
       " 'bfb',\n",
       " 'bfc',\n",
       " 'cda',\n",
       " 'cdb',\n",
       " 'cdc',\n",
       " 'cea',\n",
       " 'ceb',\n",
       " 'cec',\n",
       " 'cfa',\n",
       " 'cfb',\n",
       " 'cfc']"
      ]
     },
     "execution_count": 288,
     "metadata": {},
     "output_type": "execute_result"
    }
   ],
   "source": [
    "letterCombinationsLoop('232')"
   ]
  },
  {
   "cell_type": "markdown",
   "metadata": {},
   "source": [
    "## 19.  Remove Nth Node From End of List"
   ]
  },
  {
   "cell_type": "markdown",
   "metadata": {},
   "source": [
    "#### Seems to be very hard for a singly-linked list if we do it in one pass\n",
    "\n",
    "#### Even though the answer is accepted, in most of the cases the original list is modified while in edge cases list remains intact"
   ]
  },
  {
   "cell_type": "code",
   "execution_count": 294,
   "metadata": {},
   "outputs": [],
   "source": [
    "def removeNthFromEnd(head: ListNode, n: int) -> ListNode:\n",
    "    pointer = head\n",
    "    while True:\n",
    "        probe = pointer\n",
    "        for i in range(n):\n",
    "            probe = probe.next\n",
    "        if (probe == None):\n",
    "            head = head.next\n",
    "            return head\n",
    "        elif (probe.next == None):\n",
    "            pointer.next = pointer.next.next\n",
    "            return head\n",
    "        pointer = pointer.next"
   ]
  },
  {
   "cell_type": "code",
   "execution_count": 295,
   "metadata": {},
   "outputs": [
    {
     "name": "stdout",
     "output_type": "stream",
     "text": [
      "1 -> 2 -> 3 -> 4 -> 5\n",
      "1 -> 2 -> 3 -> 5\n",
      "1 -> 2 -> 3 -> 5\n"
     ]
    }
   ],
   "source": [
    "head = ListNode(1, ListNode(2, ListNode(3, ListNode(4, ListNode(5)))))\n",
    "print(head)\n",
    "print(removeNthFromEnd(head, 2))\n",
    "print(head)"
   ]
  },
  {
   "cell_type": "markdown",
   "metadata": {},
   "source": [
    "#### Important edge case!!!"
   ]
  },
  {
   "cell_type": "code",
   "execution_count": 296,
   "metadata": {},
   "outputs": [
    {
     "name": "stdout",
     "output_type": "stream",
     "text": [
      "1\n",
      "None\n",
      "1\n"
     ]
    }
   ],
   "source": [
    "l7 = ListNode(1)\n",
    "print(l7)\n",
    "print(removeNthFromEnd(l7, 1))\n",
    "print(l7)"
   ]
  },
  {
   "cell_type": "code",
   "execution_count": 297,
   "metadata": {
    "scrolled": true
   },
   "outputs": [
    {
     "name": "stdout",
     "output_type": "stream",
     "text": [
      "1 -> 2\n",
      "2\n",
      "1 -> 2\n"
     ]
    }
   ],
   "source": [
    "l8 = ListNode(1, ListNode(2))\n",
    "print(l8)\n",
    "print(removeNthFromEnd(l8, 2))\n",
    "print(l8)"
   ]
  },
  {
   "cell_type": "markdown",
   "metadata": {},
   "source": [
    "#### The problem is that it is impossible to modify the original linked-list in this case, the code written below solve the issue. Second method below keeps the list intact all the time"
   ]
  },
  {
   "cell_type": "code",
   "execution_count": 336,
   "metadata": {},
   "outputs": [],
   "source": [
    "def removeNthFromEndConsistent(head: ListNode, n: int) -> ListNode:\n",
    "    probe = head # check for the edge cases\n",
    "    for i in range(n):\n",
    "        probe = probe.next\n",
    "        if (probe == None):\n",
    "            if (n == 1): # The special edge cases when only 1 element is in the list\n",
    "                return None\n",
    "            else:\n",
    "                head = head.next\n",
    "                output = ListNode(head.val)\n",
    "                pointer_write = output\n",
    "                while (head.next != None):\n",
    "                    pointer_write.next = ListNode(head.next.val) # copy everything without the first node\n",
    "                    pointer_write = pointer_write.next\n",
    "                    head = head.next\n",
    "                return output\n",
    "    else:\n",
    "        pointer = head\n",
    "        output = ListNode(head.val)\n",
    "        pointer_write = output\n",
    "        while True:\n",
    "            probe = pointer\n",
    "            for i in range(n):\n",
    "                probe = probe.next\n",
    "            if (probe.next == None):\n",
    "                pointer = pointer.next # this is to skip the removed node\n",
    "                while (pointer.next != None):\n",
    "                    pointer_write.next = ListNode(pointer.next.val)\n",
    "                    pointer_write = pointer_write.next\n",
    "                    pointer = pointer.next\n",
    "                return output\n",
    "            pointer_write.next = ListNode(pointer.next.val) # copy the intact nodes\n",
    "            pointer_write = pointer_write.next\n",
    "            pointer = pointer.next  "
   ]
  },
  {
   "cell_type": "code",
   "execution_count": 333,
   "metadata": {},
   "outputs": [
    {
     "name": "stdout",
     "output_type": "stream",
     "text": [
      "1 -> 2 -> 3 -> 4 -> 5\n",
      "1 -> 2 -> 3 -> 5\n",
      "1 -> 2 -> 3 -> 4 -> 5\n"
     ]
    }
   ],
   "source": [
    "head = ListNode(1, ListNode(2, ListNode(3, ListNode(4, ListNode(5)))))\n",
    "print(head)\n",
    "print(removeNthFromEndConsistent(head, 2))\n",
    "print(head)"
   ]
  },
  {
   "cell_type": "code",
   "execution_count": 337,
   "metadata": {},
   "outputs": [
    {
     "name": "stdout",
     "output_type": "stream",
     "text": [
      "1\n",
      "None\n",
      "1\n"
     ]
    }
   ],
   "source": [
    "l7 = ListNode(1)\n",
    "print(l7)\n",
    "print(removeNthFromEndConsistent(l7, 1))\n",
    "print(l7)"
   ]
  },
  {
   "cell_type": "code",
   "execution_count": 338,
   "metadata": {},
   "outputs": [
    {
     "name": "stdout",
     "output_type": "stream",
     "text": [
      "1 -> 2\n",
      "2\n",
      "1 -> 2\n"
     ]
    }
   ],
   "source": [
    "l8 = ListNode(1, ListNode(2))\n",
    "print(l8)\n",
    "print(removeNthFromEndConsistent(l8, 2))\n",
    "print(l8)"
   ]
  },
  {
   "cell_type": "code",
   "execution_count": 339,
   "metadata": {},
   "outputs": [
    {
     "name": "stdout",
     "output_type": "stream",
     "text": [
      "1 -> 2 -> 3\n",
      "2 -> 3\n",
      "1 -> 2 -> 3\n"
     ]
    }
   ],
   "source": [
    "l9 = ListNode(1, ListNode(2, ListNode(3)))\n",
    "print(l9)\n",
    "print(removeNthFromEndConsistent(l9, 3))\n",
    "print(l9)"
   ]
  },
  {
   "cell_type": "code",
   "execution_count": 341,
   "metadata": {},
   "outputs": [
    {
     "name": "stdout",
     "output_type": "stream",
     "text": [
      "1 -> 2 -> 3 -> 4 -> 5 -> 6 -> 7\n",
      "1 -> 2 -> 4 -> 5 -> 6 -> 7\n",
      "1 -> 2 -> 3 -> 4 -> 5 -> 6 -> 7\n"
     ]
    }
   ],
   "source": [
    "head_2 = ListNode(1, ListNode(2, ListNode(3, ListNode(4, ListNode(5, ListNode(6, ListNode(7)))))))\n",
    "print(head_2)\n",
    "print(removeNthFromEndConsistent(head_2, 5))\n",
    "print(head_2)"
   ]
  },
  {
   "cell_type": "markdown",
   "metadata": {},
   "source": [
    "#### Third try: Remove after checking the length of the list (traverse the list two times)"
   ]
  },
  {
   "cell_type": "code",
   "execution_count": 344,
   "metadata": {},
   "outputs": [],
   "source": [
    "def removeNthFromEndLengthMethod(head: ListNode, n: int) -> ListNode:\n",
    "    length = 0\n",
    "    pointer = head\n",
    "    while (pointer != None):\n",
    "        length += 1\n",
    "        pointer = pointer.next\n",
    "    if (n == length):\n",
    "        if (n == 1):\n",
    "            return None\n",
    "        else:\n",
    "            head = head.next\n",
    "            output = ListNode(head.val)\n",
    "            pointer_write = output\n",
    "            while (head.next != None):\n",
    "                pointer_write.next = ListNode(head.next.val) # copy everything without the first node\n",
    "                pointer_write = pointer_write.next\n",
    "                head = head.next\n",
    "            return output\n",
    "    else:\n",
    "        output = ListNode(head.val)\n",
    "        pointer = head.next\n",
    "        pointer_write = output\n",
    "        for i in range(length-n-1):\n",
    "            pointer_write.next = ListNode(pointer.val)\n",
    "            pointer = pointer.next\n",
    "            pointer_write = pointer_write.next\n",
    "        \n",
    "        pointer = pointer.next\n",
    "        \n",
    "        while (pointer != None):\n",
    "            pointer_write.next = ListNode(pointer.val)\n",
    "            pointer = pointer.next \n",
    "            pointer_write = pointer_write.next\n",
    "        return output"
   ]
  },
  {
   "cell_type": "code",
   "execution_count": 345,
   "metadata": {},
   "outputs": [
    {
     "name": "stdout",
     "output_type": "stream",
     "text": [
      "1 -> 2 -> 3 -> 4 -> 5\n",
      "1 -> 2 -> 3 -> 5\n",
      "1 -> 2 -> 3 -> 4 -> 5\n"
     ]
    }
   ],
   "source": [
    "print(head)\n",
    "print(removeNthFromEndLengthMethod(head, 2))\n",
    "print(head)"
   ]
  },
  {
   "cell_type": "code",
   "execution_count": 350,
   "metadata": {},
   "outputs": [
    {
     "name": "stdout",
     "output_type": "stream",
     "text": [
      "1\n",
      "None\n",
      "1\n"
     ]
    }
   ],
   "source": [
    "print(l7)\n",
    "print(removeNthFromEndLengthMethod(l7, 1))\n",
    "print(l7)"
   ]
  },
  {
   "cell_type": "code",
   "execution_count": 351,
   "metadata": {},
   "outputs": [
    {
     "name": "stdout",
     "output_type": "stream",
     "text": [
      "1 -> 2\n",
      "2\n",
      "1 -> 2\n"
     ]
    }
   ],
   "source": [
    "print(l8)\n",
    "print(removeNthFromEndLengthMethod(l8, 2))\n",
    "print(l8)"
   ]
  },
  {
   "cell_type": "code",
   "execution_count": 352,
   "metadata": {},
   "outputs": [
    {
     "name": "stdout",
     "output_type": "stream",
     "text": [
      "1 -> 2 -> 3\n",
      "2 -> 3\n",
      "1 -> 2 -> 3\n"
     ]
    }
   ],
   "source": [
    "print(l9)\n",
    "print(removeNthFromEndLengthMethod(l9, 3))\n",
    "print(l9)"
   ]
  },
  {
   "cell_type": "code",
   "execution_count": 353,
   "metadata": {},
   "outputs": [
    {
     "name": "stdout",
     "output_type": "stream",
     "text": [
      "1 -> 2 -> 3 -> 4 -> 5 -> 6 -> 7\n",
      "1 -> 2 -> 4 -> 5 -> 6 -> 7\n",
      "1 -> 2 -> 3 -> 4 -> 5 -> 6 -> 7\n"
     ]
    }
   ],
   "source": [
    "print(head_2)\n",
    "print(removeNthFromEndLengthMethod(head_2, 5))\n",
    "print(head_2)"
   ]
  },
  {
   "cell_type": "markdown",
   "metadata": {},
   "source": [
    "## 21. Merge Two Sorted Lists"
   ]
  },
  {
   "cell_type": "code",
   "execution_count": 362,
   "metadata": {},
   "outputs": [],
   "source": [
    "def mergeTwoLists(l1: ListNode, l2: ListNode) -> ListNode:\n",
    "    if (l1 == None) & (l2 == None):\n",
    "        return None\n",
    "    elif (l2 == None):\n",
    "        output = ListNode(l1.val)\n",
    "        pointer = output\n",
    "        l1 = l1.next\n",
    "        while (l1 != None):\n",
    "            pointer.next = ListNode(l1.val)\n",
    "            l1 = l1.next\n",
    "            pointer = pointer.next\n",
    "        return output\n",
    "    elif (l1 == None):\n",
    "        output = ListNode(l2.val)\n",
    "        pointer = output\n",
    "        l2 = l2.next\n",
    "        while (l2 != None):\n",
    "            pointer.next = ListNode(l2.val)\n",
    "            l2 = l2.next\n",
    "            pointer = pointer.next\n",
    "        return output\n",
    "    if (l1.val <= l2.val):\n",
    "        output = ListNode(l1.val)\n",
    "        l1 = l1.next\n",
    "    else:\n",
    "        output = ListNode(l2.val)\n",
    "        l2 = l2.next\n",
    "    pointer = output\n",
    "    while (l1 != None) & (l2 != None):\n",
    "        if (l1.val <= l2.val):\n",
    "            pointer.next = ListNode(l1.val)\n",
    "            l1 = l1.next\n",
    "            pointer = pointer.next\n",
    "        else:\n",
    "            pointer.next = ListNode(l2.val)\n",
    "            l2 = l2.next\n",
    "            pointer = pointer.next\n",
    "    if (l1 == None):\n",
    "        pointer.next = mergeTwoLists(l2, None)\n",
    "    else:\n",
    "        pointer.next = mergeTwoLists(l1, None)\n",
    "    return output"
   ]
  },
  {
   "cell_type": "code",
   "execution_count": 363,
   "metadata": {},
   "outputs": [
    {
     "name": "stdout",
     "output_type": "stream",
     "text": [
      "1 -> 1 -> 2 -> 3 -> 4 -> 4\n"
     ]
    }
   ],
   "source": [
    "first_sll = ListNode(1, ListNode(2, ListNode(4)))\n",
    "second_sll = ListNode(1, ListNode(3, ListNode(4)))\n",
    "print(mergeTwoLists(first_sll, second_sll))"
   ]
  },
  {
   "cell_type": "code",
   "execution_count": null,
   "metadata": {},
   "outputs": [],
   "source": []
  }
 ],
 "metadata": {
  "kernelspec": {
   "display_name": "Python 3",
   "language": "python",
   "name": "python3"
  },
  "language_info": {
   "codemirror_mode": {
    "name": "ipython",
    "version": 3
   },
   "file_extension": ".py",
   "mimetype": "text/x-python",
   "name": "python",
   "nbconvert_exporter": "python",
   "pygments_lexer": "ipython3",
   "version": "3.7.1"
  }
 },
 "nbformat": 4,
 "nbformat_minor": 2
}
