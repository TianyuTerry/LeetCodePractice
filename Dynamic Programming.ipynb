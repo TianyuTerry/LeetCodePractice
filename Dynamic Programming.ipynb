{
 "cells": [
  {
   "cell_type": "markdown",
   "metadata": {},
   "source": [
    "## 53. Maximum Subarray"
   ]
  },
  {
   "cell_type": "markdown",
   "metadata": {},
   "source": [
    "### self-written classical divide and conquer solution after checking answers"
   ]
  },
  {
   "cell_type": "code",
   "execution_count": 1,
   "metadata": {},
   "outputs": [],
   "source": [
    "class Solution53(object):\n",
    "    \n",
    "    def cross_sum(self, nums, left, right, p):\n",
    "        left_sum_max = -float(\"inf\")\n",
    "        right_sum_max = -float(\"inf\")\n",
    "        \n",
    "        curr_sum = 0\n",
    "        for i in range(p, left-1, -1):\n",
    "            curr_sum += nums[i]\n",
    "            if curr_sum > left_sum_max:\n",
    "                left_sum_max = curr_sum\n",
    "        \n",
    "        curr_sum = 0\n",
    "        for i in range(p+1, right+1):\n",
    "            curr_sum += nums[i]\n",
    "            if curr_sum > right_sum_max:\n",
    "                right_sum_max = curr_sum\n",
    "       \n",
    "        return left_sum_max + right_sum_max\n",
    "    \n",
    "    def helper(self, nums, left, right):\n",
    "        if left == right:\n",
    "            return nums[left]\n",
    "        p = (right + left) // 2\n",
    "        left_sum = self.helper(nums, left, p)\n",
    "        right_sum = self.helper(nums, p+1, right)\n",
    "        cross_sum = self.cross_sum(nums, left, right, p)\n",
    "        \n",
    "        return max(left_sum, right_sum, cross_sum)\n",
    "    \n",
    "    def maxSubArray(self, nums):\n",
    "        \"\"\"\n",
    "        :type nums: List[int]\n",
    "        :rtype: int\n",
    "        \"\"\"\n",
    "        return self.helper(nums, 0, len(nums)-1)"
   ]
  },
  {
   "cell_type": "code",
   "execution_count": 2,
   "metadata": {},
   "outputs": [
    {
     "data": {
      "text/plain": [
       "(6, -1, 1)"
      ]
     },
     "execution_count": 2,
     "metadata": {},
     "output_type": "execute_result"
    }
   ],
   "source": [
    "solver_53 = Solution53()\n",
    "solver_53.maxSubArray([-2, 1, -3, 4, -1, 2, 1, -5, 4]), solver_53.maxSubArray([-1]), solver_53.maxSubArray([1])"
   ]
  },
  {
   "cell_type": "markdown",
   "metadata": {},
   "source": [
    "### self-written greedy after checking ansers (array modified, Kadane's algorithm)"
   ]
  },
  {
   "cell_type": "code",
   "execution_count": 3,
   "metadata": {},
   "outputs": [],
   "source": [
    "class Solution53(object):\n",
    "    \n",
    "    def maxSubArray(self, nums):\n",
    "        \"\"\"\n",
    "        :type nums: List[int]\n",
    "        :rtype: int\n",
    "        \"\"\"\n",
    "        array_max = nums[0]\n",
    "        for i in range(1, len(nums)):\n",
    "            if nums[i-1] > 0:\n",
    "                nums[i] += nums[i-1]\n",
    "            if nums[i] > array_max:\n",
    "                array_max = nums[i]\n",
    "        return array_max"
   ]
  },
  {
   "cell_type": "code",
   "execution_count": 4,
   "metadata": {},
   "outputs": [
    {
     "data": {
      "text/plain": [
       "(6, -1, 1)"
      ]
     },
     "execution_count": 4,
     "metadata": {},
     "output_type": "execute_result"
    }
   ],
   "source": [
    "solver_53 = Solution53()\n",
    "solver_53.maxSubArray([-2, 1, -3, 4, -1, 2, 1, -5, 4]), solver_53.maxSubArray([-1]), solver_53.maxSubArray([1])"
   ]
  },
  {
   "cell_type": "markdown",
   "metadata": {},
   "source": [
    "### self-written greedy after checking ansers (array not modified, Kadane's algorithm)"
   ]
  },
  {
   "cell_type": "code",
   "execution_count": 5,
   "metadata": {},
   "outputs": [],
   "source": [
    "class Solution53(object):\n",
    "    \n",
    "    def maxSubArray(self, nums):\n",
    "        \"\"\"\n",
    "        :type nums: List[int]\n",
    "        :rtype: int\n",
    "        \"\"\"\n",
    "        array_max = nums[0]\n",
    "        curr_max = nums[0]\n",
    "        for i in range(1, len(nums)):\n",
    "            curr_max = max(0, curr_max) + nums[i]\n",
    "            if curr_max > array_max:\n",
    "                array_max = curr_max\n",
    "        return array_max"
   ]
  },
  {
   "cell_type": "code",
   "execution_count": 6,
   "metadata": {},
   "outputs": [
    {
     "data": {
      "text/plain": [
       "(6, -1, 1)"
      ]
     },
     "execution_count": 6,
     "metadata": {},
     "output_type": "execute_result"
    }
   ],
   "source": [
    "solver_53 = Solution53()\n",
    "solver_53.maxSubArray([-2, 1, -3, 4, -1, 2, 1, -5, 4]), solver_53.maxSubArray([-1]), solver_53.maxSubArray([1])"
   ]
  },
  {
   "cell_type": "markdown",
   "metadata": {},
   "source": [
    "## 5. Longest Palindromic Substring"
   ]
  },
  {
   "cell_type": "markdown",
   "metadata": {},
   "source": [
    "#### There are suffix tree algorithm for LCS problem, to be explored"
   ]
  },
  {
   "cell_type": "markdown",
   "metadata": {},
   "source": [
    "### self-written Longest Common Substring approach, time limit exceeded"
   ]
  },
  {
   "cell_type": "code",
   "execution_count": 18,
   "metadata": {},
   "outputs": [],
   "source": [
    "class Solution5(object):\n",
    "    \n",
    "    def longestPalindrome(self, s):\n",
    "        \"\"\"\n",
    "        :type s: str\n",
    "        :rtype: str\n",
    "        \"\"\"\n",
    "        return self.LCS_palindrome_single(s, s[::-1])\n",
    "        \n",
    "    def LCS(self, s, t):\n",
    "        \"\"\"\n",
    "        written with the help of pseudocode in Wikipidea\n",
    "        \"\"\"\n",
    "        L = dict()\n",
    "        z = 0\n",
    "        ret = set()\n",
    "        for i in range(len(s)):\n",
    "            for j in range(len(t)):\n",
    "                if s[i] == t[j]:\n",
    "                    if i == 0 or j == 0:\n",
    "                        L[i, j] = 1\n",
    "                    else:\n",
    "                        L[i, j] = L[i-1, j-1] + 1\n",
    "                    if L[i, j] > z:\n",
    "                        z = L[i, j]\n",
    "                        ret = {s[i-z+1: i+1]}\n",
    "                    elif L[i, j] == z:\n",
    "                        ret |= {s[i-z+1: i+1]}\n",
    "                else:\n",
    "                    L[i, j] = 0\n",
    "        return ret\n",
    "    \n",
    "    def LCS_opti(self, s, t):\n",
    "        \"\"\"\n",
    "        keep only the last row\n",
    "        \"\"\"\n",
    "        L_curr = dict()\n",
    "        z = 0\n",
    "        ret = set()\n",
    "        for i in range(len(s)):\n",
    "            for j in range(len(t)):\n",
    "                if s[i] == t[j]:\n",
    "                    if i == 0 or j == 0:\n",
    "                        L_curr[j] = 1\n",
    "                    else:\n",
    "                        L_curr[j] = L_last[j-1] + 1\n",
    "                    if L_curr[j] > z:\n",
    "                        z = L_curr[j]\n",
    "                        ret = {s[i-z+1: i+1]}\n",
    "                    elif L_curr[j] == z:\n",
    "                        ret |= {s[i-z+1: i+1]}\n",
    "                else:\n",
    "                    L_curr[j] = 0\n",
    "            L_last = L_curr\n",
    "            L_curr = dict()\n",
    "        return ret\n",
    "    \n",
    "    def LCS_palindrome(self, s, t):\n",
    "        \"\"\"\n",
    "        with additional check\n",
    "        \"\"\"\n",
    "        def check_palindrome(start2, end1, length):\n",
    "            return start2 == length-end1-1\n",
    "        def check_palindrome_(start1, start2, end1, end2, length):\n",
    "            return start2 == length-end1-1 and end2 == length-start1-1\n",
    "        L_curr = dict()\n",
    "        length = len(s)\n",
    "        z = 0\n",
    "        ret = set()\n",
    "        for i in range(length):\n",
    "            for j in range(length):\n",
    "                if s[i] == t[j]:\n",
    "                    if i == 0 or j == 0:\n",
    "                        L_curr[j] = 1\n",
    "                    else:\n",
    "                        L_curr[j] = L_last[j-1] + 1\n",
    "                    if L_curr[j] > z and check_palindrome(j-L_curr[j]+1, i, length):\n",
    "                        z = L_curr[j]\n",
    "                        ret = {s[i-z+1: i+1]}\n",
    "                    elif L_curr[j] == z and check_palindrome(j-L_curr[j]+1, i, length):\n",
    "                        ret |= {s[i-z+1: i+1]}\n",
    "                else:\n",
    "                    L_curr[j] = 0\n",
    "            L_last = L_curr\n",
    "            L_curr = dict()\n",
    "        return ret\n",
    "    \n",
    "    def LCS_palindrome_single(self, s, t):\n",
    "        \"\"\"\n",
    "        keep only one panlindrome, to use less memory\n",
    "        \"\"\"\n",
    "        def check_palindrome(start2, end1, length):\n",
    "            return start2 == length-end1-1\n",
    "        def check_palindrome_(start1, start2, end1, end2, length):\n",
    "            return start2 == length-end1-1 and end2 == length-start1-1\n",
    "        L_curr = dict()\n",
    "        length = len(s)\n",
    "        z = 0\n",
    "        for i in range(length):\n",
    "            for j in range(length):\n",
    "                if s[i] == t[j]:\n",
    "                    if i == 0 or j == 0:\n",
    "                        L_curr[j] = 1\n",
    "                    else:\n",
    "                        L_curr[j] = L_last[j-1] + 1\n",
    "                    if L_curr[j] > z and check_palindrome(j-L_curr[j]+1, i, length):\n",
    "                        z = L_curr[j]\n",
    "                        ret = s[i-z+1: i+1]\n",
    "                else:\n",
    "                    L_curr[j] = 0\n",
    "            L_last = L_curr\n",
    "            L_curr = dict()\n",
    "        return ret"
   ]
  },
  {
   "cell_type": "code",
   "execution_count": 19,
   "metadata": {},
   "outputs": [
    {
     "data": {
      "text/plain": [
       "({'aba', 'bab'},\n",
       " {'aba'},\n",
       " {'abacd', 'dcaba'},\n",
       " 'bab',\n",
       " 'bab',\n",
       " 'aba',\n",
       " 'uvlvu',\n",
       " 'dtzztd')"
      ]
     },
     "execution_count": 19,
     "metadata": {},
     "output_type": "execute_result"
    }
   ],
   "source": [
    "solver_5 = Solution5()\n",
    "\n",
    "solver_5.LCS_palindrome(\"babad\", \"dabab\"), solver_5.LCS_palindrome(\"abacdfgdcaba\", \"abacdgfdcaba\"),\\\n",
    "solver_5.LCS_opti(\"abacdfgdcaba\", \"abacdgfdcaba\"), solver_5.LCS_palindrome_single(\"babad\", \"dabab\"),\\\n",
    "solver_5.longestPalindrome(\"babad\"), solver_5.longestPalindrome(\"abacdfgdcaba\"),\\\n",
    "solver_5.longestPalindrome(\"reifadyqgztixemwswtccodfnchcovrmiooffbbijkecuvlvukecutasfxqcqygltrogrdxlrslbnzktlanycgtniprjlospzhhgdrqcwlukbpsrumxguskubokxcmswjnssbkutdhppsdckuckcbwbxpmcmdicfjxaanoxndlfpqwneytatcbyjmimyawevmgirunvmdvxwdjbiqszwhfhjmrpexfwrbzkipxfowcbqjckaotmmgkrbjvhihgwuszdrdiijkgjoljjdubcbowvxslctleblfmdzmvdkqdxtiylabrwaccikkpnpsgcotxoggdydqnuogmxttcycjorzrtwtcchxrbbknfmxnonbhgbjjypqhbftceduxgrnaswtbytrhuiqnxkivevhprcvhggugrmmxolvfzwadlnzdwbtqbaveoongezoymdrhywxcxvggsewsxckucmncbrljskgsgtehortuvbtrsfisyewchxlmxqccoplhlzwutoqoctgfnrzhqctxaqacmirrqdwsbdpqttmyrmxxawgtjzqjgffqwlxqxwxrkgtzqkgdulbxmfcvxcwoswystiyittdjaqvaijwscqobqlhskhvoktksvmguzfankdigqlegrxxqpoitdtykfltohnzrcgmlnhddcfmawiriiiblwrttveedkxzzagdzpwvriuctvtrvdpqzcdnrkgcnpwjlraaaaskgguxzljktqvzzmruqqslutiipladbcxdwxhmvevsjrdkhdpxcyjkidkoznuagshnvccnkyeflpyjzlcbmhbytxnfzcrnmkyknbmtzwtaceajmnuyjblmdlbjdjxctvqcoqkbaszvrqvjgzdqpvmucerumskjrwhywjkwgligkectzboqbanrsvynxscpxqxtqhthdytfvhzjdcxgckvgfbldsfzxqdozxicrwqyprgnadfxsionkzzegmeynye\"),\\\n",
    "solver_5.longestPalindrome(\"kztakrekvefgchersuoiuatzlmwynzjhdqqftjcqmntoyckqfawikkdrnfgbwtdpbkymvwoumurjdzygyzsbmwzpcxcdmmpwzmeibligwiiqbecxwyxigikoewwrczkanwwqukszsbjukzumzladrvjefpegyicsgctdvldetuegxwihdtitqrdmygdrsweahfrepdcudvyvrggbkthztxwicyzazjyeztytwiyybqdsczozvtegodacdokczfmwqfmyuixbeeqluqcqwxpyrkpfcdosttzooykpvdykfxulttvvwnzftndvhsvpgrgdzsvfxdtzztdiswgwxzvbpsjlizlfrlgvlnwbjwbujafjaedivvgnbgwcdbzbdbprqrflfhahsvlcekeyqueyxjfetkxpapbeejoxwxlgepmxzowldsmqllpzeymakcshfzkvyykwljeltutdmrhxcbzizihzinywggzjctzasvefcxmhnusdvlderconvaisaetcdldeveeemhugipfzbhrwidcjpfrumshbdofchpgcsbkvaexfmenpsuodatxjavoszcitjewflejjmsuvyuyrkumednsfkbgvbqxfphfqeqozcnabmtedffvzwbgbzbfydiyaevoqtfmzxaujdydtjftapkpdhnbmrylcibzuqqynvnsihmyxdcrfftkuoymzoxpnashaderlosnkxbhamkkxfhwjsyehkmblhppbyspmcwuoguptliashefdklokjpggfiixozsrlwmeksmzdcvipgkwxwynzsvxnqtchgwwadqybkguscfyrbyxudzrxacoplmcqcsmkraimfwbauvytkxdnglwfuvehpxd\")"
   ]
  },
  {
   "cell_type": "markdown",
   "metadata": {},
   "source": [
    "### Dynamic Programming, time limit exceeded"
   ]
  },
  {
   "cell_type": "code",
   "execution_count": 14,
   "metadata": {},
   "outputs": [],
   "source": [
    "class Solution5(object):\n",
    "    \n",
    "    def longestPalindrome(self, s):\n",
    "        \"\"\"\n",
    "        :type s: str\n",
    "        :rtype: str\n",
    "        \"\"\"\n",
    "        table = dict()\n",
    "        z = 0\n",
    "        ret = \"\"\n",
    "        \n",
    "        def helper(i, j):\n",
    "            nonlocal table, z, ret\n",
    "            if (i, j) not in table:\n",
    "                if i == j:\n",
    "                    table[i, j] = True\n",
    "                elif i+1 == j:\n",
    "                    table[i, j] = s[i] == s[j]\n",
    "                else:\n",
    "                    table[i, j] = helper(i+1, j-1) and s[i] == s[j]\n",
    "                        \n",
    "            if table[i, j] and j-i+1 > z:\n",
    "                ret = s[i:j+1]\n",
    "                z = j-i+1\n",
    "            \n",
    "            return table[i, j]\n",
    "        \n",
    "        for i in range(len(s)):\n",
    "            for j in range(i, len(s)):\n",
    "                helper(i, j)\n",
    "        \n",
    "        return ret\n",
    "    \n",
    "    def longestPalindrome_opti(self, s):\n",
    "        \"\"\"\n",
    "        :type s: str\n",
    "        :rtype: str\n",
    "        \"\"\"\n",
    "        table = dict()\n",
    "        z = 0\n",
    "        ret = \"\"\n",
    "        \n",
    "        def helper(i, j):\n",
    "            nonlocal table, z, ret\n",
    "            if (i, j) not in table:\n",
    "                if i == j:\n",
    "                    table[i, j] = True\n",
    "                elif i+1 == j:\n",
    "                    table[i, j] = s[i] == s[j]\n",
    "                else:\n",
    "                    table[i, j] = helper(i+1, j-1) and s[i] == s[j]\n",
    "                        \n",
    "            if table[i, j] and j-i+1 > z:\n",
    "                ret = s[i:j+1]\n",
    "                z = j-i+1\n",
    "            \n",
    "            return table[i, j]\n",
    "        \n",
    "        for i in range(len(s)):\n",
    "            helper(0, len(s)-i-1)\n",
    "            helper(i, len(s)-1)\n",
    "            if z >= len(s)-i+1:\n",
    "                break\n",
    "        \n",
    "        return ret"
   ]
  },
  {
   "cell_type": "code",
   "execution_count": 17,
   "metadata": {},
   "outputs": [
    {
     "data": {
      "text/plain": [
       "('bab', 'aba', 'uvlvu', 'tiyit', 'dtzztd', 'dtzztd')"
      ]
     },
     "execution_count": 17,
     "metadata": {},
     "output_type": "execute_result"
    }
   ],
   "source": [
    "solver_5 = Solution5()\n",
    "solver_5.longestPalindrome(\"babad\"), solver_5.longestPalindrome(\"abacdfgdcaba\"),\\\n",
    "solver_5.longestPalindrome(\"reifadyqgztixemwswtccodfnchcovrmiooffbbijkecuvlvukecutasfxqcqygltrogrdxlrslbnzktlanycgtniprjlospzhhgdrqcwlukbpsrumxguskubokxcmswjnssbkutdhppsdckuckcbwbxpmcmdicfjxaanoxndlfpqwneytatcbyjmimyawevmgirunvmdvxwdjbiqszwhfhjmrpexfwrbzkipxfowcbqjckaotmmgkrbjvhihgwuszdrdiijkgjoljjdubcbowvxslctleblfmdzmvdkqdxtiylabrwaccikkpnpsgcotxoggdydqnuogmxttcycjorzrtwtcchxrbbknfmxnonbhgbjjypqhbftceduxgrnaswtbytrhuiqnxkivevhprcvhggugrmmxolvfzwadlnzdwbtqbaveoongezoymdrhywxcxvggsewsxckucmncbrljskgsgtehortuvbtrsfisyewchxlmxqccoplhlzwutoqoctgfnrzhqctxaqacmirrqdwsbdpqttmyrmxxawgtjzqjgffqwlxqxwxrkgtzqkgdulbxmfcvxcwoswystiyittdjaqvaijwscqobqlhskhvoktksvmguzfankdigqlegrxxqpoitdtykfltohnzrcgmlnhddcfmawiriiiblwrttveedkxzzagdzpwvriuctvtrvdpqzcdnrkgcnpwjlraaaaskgguxzljktqvzzmruqqslutiipladbcxdwxhmvevsjrdkhdpxcyjkidkoznuagshnvccnkyeflpyjzlcbmhbytxnfzcrnmkyknbmtzwtaceajmnuyjblmdlbjdjxctvqcoqkbaszvrqvjgzdqpvmucerumskjrwhywjkwgligkectzboqbanrsvynxscpxqxtqhthdytfvhzjdcxgckvgfbldsfzxqdozxicrwqyprgnadfxsionkzzegmeynye\"),\\\n",
    "solver_5.longestPalindrome_opti(\"reifadyqgztixemwswtccodfnchcovrmiooffbbijkecuvlvukecutasfxqcqygltrogrdxlrslbnzktlanycgtniprjlospzhhgdrqcwlukbpsrumxguskubokxcmswjnssbkutdhppsdckuckcbwbxpmcmdicfjxaanoxndlfpqwneytatcbyjmimyawevmgirunvmdvxwdjbiqszwhfhjmrpexfwrbzkipxfowcbqjckaotmmgkrbjvhihgwuszdrdiijkgjoljjdubcbowvxslctleblfmdzmvdkqdxtiylabrwaccikkpnpsgcotxoggdydqnuogmxttcycjorzrtwtcchxrbbknfmxnonbhgbjjypqhbftceduxgrnaswtbytrhuiqnxkivevhprcvhggugrmmxolvfzwadlnzdwbtqbaveoongezoymdrhywxcxvggsewsxckucmncbrljskgsgtehortuvbtrsfisyewchxlmxqccoplhlzwutoqoctgfnrzhqctxaqacmirrqdwsbdpqttmyrmxxawgtjzqjgffqwlxqxwxrkgtzqkgdulbxmfcvxcwoswystiyittdjaqvaijwscqobqlhskhvoktksvmguzfankdigqlegrxxqpoitdtykfltohnzrcgmlnhddcfmawiriiiblwrttveedkxzzagdzpwvriuctvtrvdpqzcdnrkgcnpwjlraaaaskgguxzljktqvzzmruqqslutiipladbcxdwxhmvevsjrdkhdpxcyjkidkoznuagshnvccnkyeflpyjzlcbmhbytxnfzcrnmkyknbmtzwtaceajmnuyjblmdlbjdjxctvqcoqkbaszvrqvjgzdqpvmucerumskjrwhywjkwgligkectzboqbanrsvynxscpxqxtqhthdytfvhzjdcxgckvgfbldsfzxqdozxicrwqyprgnadfxsionkzzegmeynye\"),\\\n",
    "solver_5.longestPalindrome(\"kztakrekvefgchersuoiuatzlmwynzjhdqqftjcqmntoyckqfawikkdrnfgbwtdpbkymvwoumurjdzygyzsbmwzpcxcdmmpwzmeibligwiiqbecxwyxigikoewwrczkanwwqukszsbjukzumzladrvjefpegyicsgctdvldetuegxwihdtitqrdmygdrsweahfrepdcudvyvrggbkthztxwicyzazjyeztytwiyybqdsczozvtegodacdokczfmwqfmyuixbeeqluqcqwxpyrkpfcdosttzooykpvdykfxulttvvwnzftndvhsvpgrgdzsvfxdtzztdiswgwxzvbpsjlizlfrlgvlnwbjwbujafjaedivvgnbgwcdbzbdbprqrflfhahsvlcekeyqueyxjfetkxpapbeejoxwxlgepmxzowldsmqllpzeymakcshfzkvyykwljeltutdmrhxcbzizihzinywggzjctzasvefcxmhnusdvlderconvaisaetcdldeveeemhugipfzbhrwidcjpfrumshbdofchpgcsbkvaexfmenpsuodatxjavoszcitjewflejjmsuvyuyrkumednsfkbgvbqxfphfqeqozcnabmtedffvzwbgbzbfydiyaevoqtfmzxaujdydtjftapkpdhnbmrylcibzuqqynvnsihmyxdcrfftkuoymzoxpnashaderlosnkxbhamkkxfhwjsyehkmblhppbyspmcwuoguptliashefdklokjpggfiixozsrlwmeksmzdcvipgkwxwynzsvxnqtchgwwadqybkguscfyrbyxudzrxacoplmcqcsmkraimfwbauvytkxdnglwfuvehpxd\"),\\\n",
    "solver_5.longestPalindrome_opti(\"kztakrekvefgchersuoiuatzlmwynzjhdqqftjcqmntoyckqfawikkdrnfgbwtdpbkymvwoumurjdzygyzsbmwzpcxcdmmpwzmeibligwiiqbecxwyxigikoewwrczkanwwqukszsbjukzumzladrvjefpegyicsgctdvldetuegxwihdtitqrdmygdrsweahfrepdcudvyvrggbkthztxwicyzazjyeztytwiyybqdsczozvtegodacdokczfmwqfmyuixbeeqluqcqwxpyrkpfcdosttzooykpvdykfxulttvvwnzftndvhsvpgrgdzsvfxdtzztdiswgwxzvbpsjlizlfrlgvlnwbjwbujafjaedivvgnbgwcdbzbdbprqrflfhahsvlcekeyqueyxjfetkxpapbeejoxwxlgepmxzowldsmqllpzeymakcshfzkvyykwljeltutdmrhxcbzizihzinywggzjctzasvefcxmhnusdvlderconvaisaetcdldeveeemhugipfzbhrwidcjpfrumshbdofchpgcsbkvaexfmenpsuodatxjavoszcitjewflejjmsuvyuyrkumednsfkbgvbqxfphfqeqozcnabmtedffvzwbgbzbfydiyaevoqtfmzxaujdydtjftapkpdhnbmrylcibzuqqynvnsihmyxdcrfftkuoymzoxpnashaderlosnkxbhamkkxfhwjsyehkmblhppbyspmcwuoguptliashefdklokjpggfiixozsrlwmeksmzdcvipgkwxwynzsvxnqtchgwwadqybkguscfyrbyxudzrxacoplmcqcsmkraimfwbauvytkxdnglwfuvehpxd\")"
   ]
  },
  {
   "cell_type": "markdown",
   "metadata": {},
   "source": [
    "### Expand Around Center, passed tests "
   ]
  },
  {
   "cell_type": "code",
   "execution_count": 23,
   "metadata": {},
   "outputs": [],
   "source": [
    "class Solution5(object):\n",
    "    \n",
    "    def longestPalindrome(self, s):\n",
    "        \"\"\"\n",
    "        :type s: str\n",
    "        :rtype: str\n",
    "        \"\"\"\n",
    "        start = end = 0\n",
    "        for i in range(len(s)):\n",
    "            len1 = self.expandAround(s, i, i)\n",
    "            len2 = self.expandAround(s, i, i+1)\n",
    "            max_len = max(len1, len2)\n",
    "            if max_len > end - start:\n",
    "                start = i - (max_len-1)//2\n",
    "                end = i + max_len//2\n",
    "                \"\"\"\n",
    "                here start and end indice are inclusive\n",
    "                \"\"\"\n",
    "        return s[start:end+1]\n",
    "    \n",
    "    def expandAround(self, s, i, j):\n",
    "        while i >= 0 and j < len(s) and s[i] == s[j]:\n",
    "            i -= 1\n",
    "            j += 1\n",
    "        return j-i-1"
   ]
  },
  {
   "cell_type": "code",
   "execution_count": 24,
   "metadata": {},
   "outputs": [
    {
     "data": {
      "text/plain": [
       "('aba', 'aba', 'eynye', 'dtzztd')"
      ]
     },
     "execution_count": 24,
     "metadata": {},
     "output_type": "execute_result"
    }
   ],
   "source": [
    "solver_5 = Solution5()\n",
    "solver_5.longestPalindrome(\"babad\"), solver_5.longestPalindrome(\"abacdfgdcaba\"),\\\n",
    "solver_5.longestPalindrome(\"reifadyqgztixemwswtccodfnchcovrmiooffbbijkecuvlvukecutasfxqcqygltrogrdxlrslbnzktlanycgtniprjlospzhhgdrqcwlukbpsrumxguskubokxcmswjnssbkutdhppsdckuckcbwbxpmcmdicfjxaanoxndlfpqwneytatcbyjmimyawevmgirunvmdvxwdjbiqszwhfhjmrpexfwrbzkipxfowcbqjckaotmmgkrbjvhihgwuszdrdiijkgjoljjdubcbowvxslctleblfmdzmvdkqdxtiylabrwaccikkpnpsgcotxoggdydqnuogmxttcycjorzrtwtcchxrbbknfmxnonbhgbjjypqhbftceduxgrnaswtbytrhuiqnxkivevhprcvhggugrmmxolvfzwadlnzdwbtqbaveoongezoymdrhywxcxvggsewsxckucmncbrljskgsgtehortuvbtrsfisyewchxlmxqccoplhlzwutoqoctgfnrzhqctxaqacmirrqdwsbdpqttmyrmxxawgtjzqjgffqwlxqxwxrkgtzqkgdulbxmfcvxcwoswystiyittdjaqvaijwscqobqlhskhvoktksvmguzfankdigqlegrxxqpoitdtykfltohnzrcgmlnhddcfmawiriiiblwrttveedkxzzagdzpwvriuctvtrvdpqzcdnrkgcnpwjlraaaaskgguxzljktqvzzmruqqslutiipladbcxdwxhmvevsjrdkhdpxcyjkidkoznuagshnvccnkyeflpyjzlcbmhbytxnfzcrnmkyknbmtzwtaceajmnuyjblmdlbjdjxctvqcoqkbaszvrqvjgzdqpvmucerumskjrwhywjkwgligkectzboqbanrsvynxscpxqxtqhthdytfvhzjdcxgckvgfbldsfzxqdozxicrwqyprgnadfxsionkzzegmeynye\"),\\\n",
    "solver_5.longestPalindrome(\"kztakrekvefgchersuoiuatzlmwynzjhdqqftjcqmntoyckqfawikkdrnfgbwtdpbkymvwoumurjdzygyzsbmwzpcxcdmmpwzmeibligwiiqbecxwyxigikoewwrczkanwwqukszsbjukzumzladrvjefpegyicsgctdvldetuegxwihdtitqrdmygdrsweahfrepdcudvyvrggbkthztxwicyzazjyeztytwiyybqdsczozvtegodacdokczfmwqfmyuixbeeqluqcqwxpyrkpfcdosttzooykpvdykfxulttvvwnzftndvhsvpgrgdzsvfxdtzztdiswgwxzvbpsjlizlfrlgvlnwbjwbujafjaedivvgnbgwcdbzbdbprqrflfhahsvlcekeyqueyxjfetkxpapbeejoxwxlgepmxzowldsmqllpzeymakcshfzkvyykwljeltutdmrhxcbzizihzinywggzjctzasvefcxmhnusdvlderconvaisaetcdldeveeemhugipfzbhrwidcjpfrumshbdofchpgcsbkvaexfmenpsuodatxjavoszcitjewflejjmsuvyuyrkumednsfkbgvbqxfphfqeqozcnabmtedffvzwbgbzbfydiyaevoqtfmzxaujdydtjftapkpdhnbmrylcibzuqqynvnsihmyxdcrfftkuoymzoxpnashaderlosnkxbhamkkxfhwjsyehkmblhppbyspmcwuoguptliashefdklokjpggfiixozsrlwmeksmzdcvipgkwxwynzsvxnqtchgwwadqybkguscfyrbyxudzrxacoplmcqcsmkraimfwbauvytkxdnglwfuvehpxd\")"
   ]
  },
  {
   "cell_type": "markdown",
   "metadata": {},
   "source": [
    "### Manacher's Algorithm (not quite sure why it is linear, passed tests)"
   ]
  },
  {
   "cell_type": "code",
   "execution_count": 33,
   "metadata": {},
   "outputs": [],
   "source": [
    "class Solution5(object):\n",
    "    \n",
    "    def longestPalindrome(self, s):\n",
    "        \"\"\"\n",
    "        :type s: str\n",
    "        :rtype: str\n",
    "        \"\"\"\n",
    "        \"\"\"\n",
    "        with the help from Wikipedia and YouTube video\n",
    "        \"\"\"\n",
    "        T = '$#' + '#'.join(s) + '#@'\n",
    "        l = len(T)\n",
    "        P = [0] * l\n",
    "        R, C = 0, 0\n",
    "        position = 0\n",
    "        max_len = 0\n",
    "        for i in range(1, l-1):\n",
    "            if i < R:\n",
    "                P[i] = min(P[2 * C - i], R - i)\n",
    "\n",
    "            while T[i+(P[i]+1)] == T[i-(P[i]+1)]:\n",
    "                P[i] += 1\n",
    "\n",
    "            if P[i] + i > R:\n",
    "                R = P[i] + i\n",
    "                C = i\n",
    "            if i%2 == 0:\n",
    "                actual_len = 1+(P[i]//2)*2\n",
    "                if actual_len > max_len:\n",
    "                    max_len = actual_len\n",
    "                    position = i\n",
    "            else:\n",
    "                actual_len = ((P[i]+1)//2)*2\n",
    "                if actual_len > max_len:\n",
    "                    max_len = actual_len\n",
    "                    position = i\n",
    "                    \n",
    "        return T[position-P[position]: position+P[position]+1].replace('#', '')"
   ]
  },
  {
   "cell_type": "code",
   "execution_count": 34,
   "metadata": {},
   "outputs": [
    {
     "data": {
      "text/plain": [
       "('bab', 'aba', 'uvlvu', 'dtzztd')"
      ]
     },
     "execution_count": 34,
     "metadata": {},
     "output_type": "execute_result"
    }
   ],
   "source": [
    "solver_5 = Solution5()\n",
    "solver_5.longestPalindrome(\"babad\"), solver_5.longestPalindrome(\"abacdfgdcaba\"),\\\n",
    "solver_5.longestPalindrome(\"reifadyqgztixemwswtccodfnchcovrmiooffbbijkecuvlvukecutasfxqcqygltrogrdxlrslbnzktlanycgtniprjlospzhhgdrqcwlukbpsrumxguskubokxcmswjnssbkutdhppsdckuckcbwbxpmcmdicfjxaanoxndlfpqwneytatcbyjmimyawevmgirunvmdvxwdjbiqszwhfhjmrpexfwrbzkipxfowcbqjckaotmmgkrbjvhihgwuszdrdiijkgjoljjdubcbowvxslctleblfmdzmvdkqdxtiylabrwaccikkpnpsgcotxoggdydqnuogmxttcycjorzrtwtcchxrbbknfmxnonbhgbjjypqhbftceduxgrnaswtbytrhuiqnxkivevhprcvhggugrmmxolvfzwadlnzdwbtqbaveoongezoymdrhywxcxvggsewsxckucmncbrljskgsgtehortuvbtrsfisyewchxlmxqccoplhlzwutoqoctgfnrzhqctxaqacmirrqdwsbdpqttmyrmxxawgtjzqjgffqwlxqxwxrkgtzqkgdulbxmfcvxcwoswystiyittdjaqvaijwscqobqlhskhvoktksvmguzfankdigqlegrxxqpoitdtykfltohnzrcgmlnhddcfmawiriiiblwrttveedkxzzagdzpwvriuctvtrvdpqzcdnrkgcnpwjlraaaaskgguxzljktqvzzmruqqslutiipladbcxdwxhmvevsjrdkhdpxcyjkidkoznuagshnvccnkyeflpyjzlcbmhbytxnfzcrnmkyknbmtzwtaceajmnuyjblmdlbjdjxctvqcoqkbaszvrqvjgzdqpvmucerumskjrwhywjkwgligkectzboqbanrsvynxscpxqxtqhthdytfvhzjdcxgckvgfbldsfzxqdozxicrwqyprgnadfxsionkzzegmeynye\"),\\\n",
    "solver_5.longestPalindrome(\"kztakrekvefgchersuoiuatzlmwynzjhdqqftjcqmntoyckqfawikkdrnfgbwtdpbkymvwoumurjdzygyzsbmwzpcxcdmmpwzmeibligwiiqbecxwyxigikoewwrczkanwwqukszsbjukzumzladrvjefpegyicsgctdvldetuegxwihdtitqrdmygdrsweahfrepdcudvyvrggbkthztxwicyzazjyeztytwiyybqdsczozvtegodacdokczfmwqfmyuixbeeqluqcqwxpyrkpfcdosttzooykpvdykfxulttvvwnzftndvhsvpgrgdzsvfxdtzztdiswgwxzvbpsjlizlfrlgvlnwbjwbujafjaedivvgnbgwcdbzbdbprqrflfhahsvlcekeyqueyxjfetkxpapbeejoxwxlgepmxzowldsmqllpzeymakcshfzkvyykwljeltutdmrhxcbzizihzinywggzjctzasvefcxmhnusdvlderconvaisaetcdldeveeemhugipfzbhrwidcjpfrumshbdofchpgcsbkvaexfmenpsuodatxjavoszcitjewflejjmsuvyuyrkumednsfkbgvbqxfphfqeqozcnabmtedffvzwbgbzbfydiyaevoqtfmzxaujdydtjftapkpdhnbmrylcibzuqqynvnsihmyxdcrfftkuoymzoxpnashaderlosnkxbhamkkxfhwjsyehkmblhppbyspmcwuoguptliashefdklokjpggfiixozsrlwmeksmzdcvipgkwxwynzsvxnqtchgwwadqybkguscfyrbyxudzrxacoplmcqcsmkraimfwbauvytkxdnglwfuvehpxd\")"
   ]
  },
  {
   "cell_type": "markdown",
   "metadata": {},
   "source": [
    "## 70. Climbing Stairs"
   ]
  },
  {
   "cell_type": "markdown",
   "metadata": {},
   "source": [
    "### self-written solution, time limit exceeded"
   ]
  },
  {
   "cell_type": "code",
   "execution_count": 38,
   "metadata": {},
   "outputs": [],
   "source": [
    "class Solution70:\n",
    "    def climbStairs(self, n: int) -> int:\n",
    "        if n == 0:\n",
    "            return 1\n",
    "        elif n == 1:\n",
    "            return 1\n",
    "        else:\n",
    "            return self.climbStairs(n-1) + self.climbStairs(n-2)"
   ]
  },
  {
   "cell_type": "code",
   "execution_count": 40,
   "metadata": {},
   "outputs": [
    {
     "data": {
      "text/plain": [
       "(89, 63245986)"
      ]
     },
     "execution_count": 40,
     "metadata": {},
     "output_type": "execute_result"
    }
   ],
   "source": [
    "solver_70 = Solution70()\n",
    "solver_70.climbStairs(10), solver_70.climbStairs(38)"
   ]
  },
  {
   "cell_type": "markdown",
   "metadata": {},
   "source": [
    "### dynamic programming with memoization"
   ]
  },
  {
   "cell_type": "code",
   "execution_count": 43,
   "metadata": {},
   "outputs": [],
   "source": [
    "class Solution70:\n",
    "    \n",
    "    def climbStairs(self, n: int) -> int:\n",
    "        \n",
    "        memo = [0]*(n+1)\n",
    "        \n",
    "        def helper(n):\n",
    "            nonlocal memo\n",
    "            if n == 0 or n == 1:\n",
    "                return 1\n",
    "            elif memo[n] > 0:\n",
    "                return memo[n]\n",
    "            else:\n",
    "                memo[n] = helper(n-1) + helper(n-2)\n",
    "                return memo[n]\n",
    "        \n",
    "        return helper(n)"
   ]
  },
  {
   "cell_type": "code",
   "execution_count": 44,
   "metadata": {},
   "outputs": [
    {
     "data": {
      "text/plain": [
       "(89, 63245986)"
      ]
     },
     "execution_count": 44,
     "metadata": {},
     "output_type": "execute_result"
    }
   ],
   "source": [
    "solver_70 = Solution70()\n",
    "solver_70.climbStairs(10), solver_70.climbStairs(38)"
   ]
  },
  {
   "cell_type": "markdown",
   "metadata": {},
   "source": [
    "### bottom-up dynamic programming"
   ]
  },
  {
   "cell_type": "code",
   "execution_count": 49,
   "metadata": {},
   "outputs": [],
   "source": [
    "class Solution70:\n",
    "    \n",
    "    def climbStairs(self, n: int) -> int:\n",
    "        \n",
    "        memo = [0]*(n+1)\n",
    "        memo[:2] = [1]*2\n",
    "        \n",
    "        for i in range(2, n+1):\n",
    "            memo[i] = memo[i-1] + memo[i-2]\n",
    "        \n",
    "        return memo[-1]"
   ]
  },
  {
   "cell_type": "code",
   "execution_count": 50,
   "metadata": {},
   "outputs": [
    {
     "data": {
      "text/plain": [
       "(89, 63245986)"
      ]
     },
     "execution_count": 50,
     "metadata": {},
     "output_type": "execute_result"
    }
   ],
   "source": [
    "solver_70 = Solution70()\n",
    "solver_70.climbStairs(10), solver_70.climbStairs(38)"
   ]
  },
  {
   "cell_type": "markdown",
   "metadata": {},
   "source": [
    "## 221. Maximal Square"
   ]
  },
  {
   "cell_type": "markdown",
   "metadata": {},
   "source": [
    "### self-written Dynamic Programming after checking answers"
   ]
  },
  {
   "cell_type": "code",
   "execution_count": 53,
   "metadata": {},
   "outputs": [],
   "source": [
    "from typing import List, Tuple, Dict"
   ]
  },
  {
   "cell_type": "code",
   "execution_count": 59,
   "metadata": {},
   "outputs": [],
   "source": [
    "class Solution221:\n",
    "    def maximalSquare(self, matrix: List[List[str]]) -> int:\n",
    "        nrow, ncol = len(matrix), len(matrix[0])\n",
    "        table = dict()\n",
    "        max_len = 0\n",
    "        for i in range(nrow+1):\n",
    "            for j in range(ncol+1):\n",
    "                if i == 0 or j == 0:\n",
    "                    table[i, j] = 0\n",
    "                else:\n",
    "                    if matrix[i-1][j-1] == \"1\":\n",
    "                        table[i, j] = min(table[i-1, j-1], table[i-1, j], table[i, j-1]) + 1\n",
    "                        max_len = max(max_len, table[i, j])\n",
    "                    else:\n",
    "                        table[i, j] = 0\n",
    "        return max_len**2"
   ]
  },
  {
   "cell_type": "code",
   "execution_count": 60,
   "metadata": {},
   "outputs": [
    {
     "data": {
      "text/plain": [
       "(4, 1)"
      ]
     },
     "execution_count": 60,
     "metadata": {},
     "output_type": "execute_result"
    }
   ],
   "source": [
    "solver_221 = Solution221()\n",
    "solver_221.maximalSquare([[\"1\",\"0\",\"1\",\"0\",\"0\"],[\"1\",\"0\",\"1\",\"1\",\"1\"],[\"1\",\"1\",\"1\",\"1\",\"1\"],[\"1\",\"0\",\"0\",\"1\",\"0\"]]),\\\n",
    "solver_221.maximalSquare([[\"0\",\"1\"],[\"1\",\"0\"]])"
   ]
  },
  {
   "cell_type": "markdown",
   "metadata": {},
   "source": [
    "### self-written Dynamic Programming with memory optimization"
   ]
  },
  {
   "cell_type": "code",
   "execution_count": 61,
   "metadata": {},
   "outputs": [],
   "source": [
    "class Solution221:\n",
    "    def maximalSquare(self, matrix: List[List[str]]) -> int:\n",
    "        nrow, ncol = len(matrix), len(matrix[0])\n",
    "        record = [0] * (ncol+1)\n",
    "        max_len = 0\n",
    "        for i in range(1, nrow+1):\n",
    "            prev = 0\n",
    "            for j in range(1, ncol+1):\n",
    "                temp = record[j]\n",
    "                if matrix[i-1][j-1] == \"0\":\n",
    "                    record[j] = 0\n",
    "                else:\n",
    "                    record[j] = min(prev, temp, record[j-1]) + 1\n",
    "                    max_len = max(max_len, record[j])\n",
    "                prev = temp\n",
    "        return max_len**2"
   ]
  },
  {
   "cell_type": "code",
   "execution_count": 62,
   "metadata": {},
   "outputs": [
    {
     "data": {
      "text/plain": [
       "(4, 1)"
      ]
     },
     "execution_count": 62,
     "metadata": {},
     "output_type": "execute_result"
    }
   ],
   "source": [
    "solver_221 = Solution221()\n",
    "solver_221.maximalSquare([[\"1\",\"0\",\"1\",\"0\",\"0\"],[\"1\",\"0\",\"1\",\"1\",\"1\"],[\"1\",\"1\",\"1\",\"1\",\"1\"],[\"1\",\"0\",\"0\",\"1\",\"0\"]]),\\\n",
    "solver_221.maximalSquare([[\"0\",\"1\"],[\"1\",\"0\"]])"
   ]
  },
  {
   "cell_type": "markdown",
   "metadata": {},
   "source": [
    "## 139. Word Break"
   ]
  },
  {
   "cell_type": "markdown",
   "metadata": {},
   "source": [
    "### self-written Top-down Dynamic Programming with memoization after checking answers"
   ]
  },
  {
   "cell_type": "code",
   "execution_count": 69,
   "metadata": {},
   "outputs": [],
   "source": [
    "class Solution139:\n",
    "    def wordBreak(self, s: str, wordDict: List[str]) -> bool:\n",
    "        memo = [None] * len(s)\n",
    "        def wordBreakHelper(s: str, wordDict: List[str], start: int) -> bool:\n",
    "            if start == len(s):\n",
    "                return True\n",
    "            elif memo[start] is not None:\n",
    "                return memo[start]\n",
    "            else:\n",
    "                for i in range(start+1, len(s)+1):\n",
    "                    if s[start: i] in wordDict and wordBreakHelper(s, wordDict, i):\n",
    "                        memo[start] = True\n",
    "                        return True\n",
    "            memo[start] = False\n",
    "            return False\n",
    "        return wordBreakHelper(s, wordDict, 0)"
   ]
  },
  {
   "cell_type": "code",
   "execution_count": 71,
   "metadata": {},
   "outputs": [
    {
     "data": {
      "text/plain": [
       "(True, True, False)"
      ]
     },
     "execution_count": 71,
     "metadata": {},
     "output_type": "execute_result"
    }
   ],
   "source": [
    "solver_139 = Solution139()\n",
    "solver_139.wordBreak(s = \"leetcode\", wordDict = [\"leet\", \"code\"]),\\\n",
    "solver_139.wordBreak(s = \"applepenapple\", wordDict = [\"apple\", \"pen\"]),\\\n",
    "solver_139.wordBreak(s = \"catsandog\", wordDict = [\"cats\", \"dog\", \"sand\", \"and\", \"cat\"])"
   ]
  },
  {
   "cell_type": "markdown",
   "metadata": {},
   "source": [
    "### self-written Bottom-up Dynamic Programming with for-loop optimization after checking answers"
   ]
  },
  {
   "cell_type": "code",
   "execution_count": 86,
   "metadata": {},
   "outputs": [],
   "source": [
    "class Solution139:\n",
    "    def wordBreak(self, s: str, wordDict: List[str]) -> bool:\n",
    "        if wordDict:\n",
    "            max_len = max(map(len, wordDict))\n",
    "        else:\n",
    "            max_len = len(s)\n",
    "        memo = [False] * (len(s)+1)\n",
    "        memo[0] = True\n",
    "        for i in range(1, len(s)+1):\n",
    "            for j in range(max(0, i-max_len), i):\n",
    "                if memo[j] and s[j: i] in wordDict:\n",
    "                    memo[i] = True\n",
    "                    break\n",
    "        return memo[-1]"
   ]
  },
  {
   "cell_type": "code",
   "execution_count": 88,
   "metadata": {},
   "outputs": [
    {
     "data": {
      "text/plain": [
       "(True, True, False, False)"
      ]
     },
     "execution_count": 88,
     "metadata": {},
     "output_type": "execute_result"
    }
   ],
   "source": [
    "solver_139 = Solution139()\n",
    "solver_139.wordBreak(s = \"leetcode\", wordDict = [\"leet\", \"code\"]),\\\n",
    "solver_139.wordBreak(s = \"applepenapple\", wordDict = [\"apple\", \"pen\"]),\\\n",
    "solver_139.wordBreak(s = \"catsandog\", wordDict = [\"cats\", \"dog\", \"sand\", \"and\", \"cat\"]),\\\n",
    "solver_139.wordBreak(s = \"a\", wordDict = [])"
   ]
  },
  {
   "cell_type": "markdown",
   "metadata": {},
   "source": [
    "### self-written BFS with set optimization, for-loop optimization after checking answers"
   ]
  },
  {
   "cell_type": "code",
   "execution_count": 91,
   "metadata": {},
   "outputs": [],
   "source": [
    "from collections import deque\n",
    "\n",
    "class Solution139:\n",
    "    def wordBreak(self, s: str, wordDict: List[str]) -> bool:\n",
    "        \"\"\"\n",
    "        Keep in mind the visited operation: add and check\n",
    "        \"\"\"\n",
    "        if wordDict:\n",
    "            max_len = max(map(len, wordDict))\n",
    "        else:\n",
    "            max_len = len(s)\n",
    "        wordDict = set(wordDict)\n",
    "            \n",
    "        visited = set()\n",
    "        queue = deque([0])\n",
    "        while queue:\n",
    "            start = queue.popleft()\n",
    "            if start in visited:\n",
    "                continue\n",
    "            for i in range(start+1, min(len(s)+1, start+max_len+1)):\n",
    "                if s[start: i] in wordDict:\n",
    "                    if i == len(s):\n",
    "                        return True\n",
    "                    queue.append(i)\n",
    "            visited.add(start)\n",
    "        return False"
   ]
  },
  {
   "cell_type": "code",
   "execution_count": 92,
   "metadata": {},
   "outputs": [
    {
     "data": {
      "text/plain": [
       "(True, True, False, False)"
      ]
     },
     "execution_count": 92,
     "metadata": {},
     "output_type": "execute_result"
    }
   ],
   "source": [
    "solver_139 = Solution139()\n",
    "solver_139.wordBreak(s = \"leetcode\", wordDict = [\"leet\", \"code\"]),\\\n",
    "solver_139.wordBreak(s = \"applepenapple\", wordDict = [\"apple\", \"pen\"]),\\\n",
    "solver_139.wordBreak(s = \"catsandog\", wordDict = [\"cats\", \"dog\", \"sand\", \"and\", \"cat\"]),\\\n",
    "solver_139.wordBreak(s = \"a\", wordDict = [])"
   ]
  },
  {
   "cell_type": "markdown",
   "metadata": {},
   "source": [
    "## 84. Largest Rectangle in Histogram (topic: array and stack)"
   ]
  },
  {
   "cell_type": "markdown",
   "metadata": {},
   "source": [
    "### self-written brute Force, time limit exceeded"
   ]
  },
  {
   "cell_type": "code",
   "execution_count": 98,
   "metadata": {},
   "outputs": [],
   "source": [
    "class Solution84:\n",
    "    def largestRectangleArea(self, heights: List[int]) -> int:\n",
    "        maxArea = 0\n",
    "        for i in range(len(heights)):\n",
    "            for j in range(i, len(heights)):\n",
    "                maxHeight = min(heights[i:j+1])\n",
    "                maxArea = max((j-i+1)*maxHeight, maxArea)\n",
    "        return maxArea"
   ]
  },
  {
   "cell_type": "code",
   "execution_count": 99,
   "metadata": {},
   "outputs": [
    {
     "data": {
      "text/plain": [
       "(10, 4)"
      ]
     },
     "execution_count": 99,
     "metadata": {},
     "output_type": "execute_result"
    }
   ],
   "source": [
    "solver_84 = Solution84()\n",
    "solver_84.largestRectangleArea([2,1,5,6,2,3]), solver_84.largestRectangleArea([2,4])"
   ]
  },
  {
   "cell_type": "markdown",
   "metadata": {},
   "source": [
    "### self-written two pointer solution, time limit exceeded"
   ]
  },
  {
   "cell_type": "code",
   "execution_count": 100,
   "metadata": {},
   "outputs": [],
   "source": [
    "class Solution84:\n",
    "    def largestRectangleArea(self, heights: List[int]) -> int:\n",
    "        maxArea = 0\n",
    "        for i in range(len(heights)):\n",
    "            minHeight = heights[i]\n",
    "            for j in range(i, len(heights)):\n",
    "                minHeight = min(minHeight, heights[j])\n",
    "                maxArea = max((j-i+1)*minHeight, maxArea)\n",
    "        return maxArea"
   ]
  },
  {
   "cell_type": "code",
   "execution_count": 101,
   "metadata": {},
   "outputs": [
    {
     "data": {
      "text/plain": [
       "(10, 4)"
      ]
     },
     "execution_count": 101,
     "metadata": {},
     "output_type": "execute_result"
    }
   ],
   "source": [
    "solver_84 = Solution84()\n",
    "solver_84.largestRectangleArea([2,1,5,6,2,3]), solver_84.largestRectangleArea([2,4])"
   ]
  },
  {
   "cell_type": "markdown",
   "metadata": {},
   "source": [
    "### self-written stack approach after checking answers, passed all tests"
   ]
  },
  {
   "cell_type": "code",
   "execution_count": 115,
   "metadata": {},
   "outputs": [],
   "source": [
    "class Solution84:\n",
    "    def largestRectangleArea(self, heights: List[int]) -> int:\n",
    "        stack = deque([-1])\n",
    "        maxArea = 0\n",
    "        for i in range(len(heights)):\n",
    "            \"\"\"\n",
    "            during pop operation, in case of a tie, the rightmost bar's area is the actual maximum area.\n",
    "            \"\"\"\n",
    "            while stack[-1] != -1 and heights[stack[-1]] >= heights[i]:\n",
    "                currHeight = heights[stack.pop()]\n",
    "                currWidth = i - stack[-1] - 1\n",
    "                maxArea = max(maxArea, currHeight*currWidth)\n",
    "            stack.append(i)\n",
    "        while stack[-1] != -1:\n",
    "            currHeight = heights[stack.pop()]\n",
    "            currWidth = len(heights) - stack[-1] - 1\n",
    "            maxArea = max(maxArea, currHeight*currWidth)\n",
    "        return maxArea"
   ]
  },
  {
   "cell_type": "code",
   "execution_count": 116,
   "metadata": {},
   "outputs": [
    {
     "data": {
      "text/plain": [
       "(10, 4, 0)"
      ]
     },
     "execution_count": 116,
     "metadata": {},
     "output_type": "execute_result"
    }
   ],
   "source": [
    "solver_84 = Solution84()\n",
    "solver_84.largestRectangleArea([2,1,5,6,2,3]), solver_84.largestRectangleArea([2,4]),\\\n",
    "solver_84.largestRectangleArea([0])"
   ]
  },
  {
   "cell_type": "markdown",
   "metadata": {},
   "source": [
    "### self-written classic divide and conquer approach, time limit exceeded"
   ]
  },
  {
   "cell_type": "markdown",
   "metadata": {},
   "source": [
    "#### There are segment tree algorithm for faster location of min value, to be explored"
   ]
  },
  {
   "cell_type": "code",
   "execution_count": 119,
   "metadata": {},
   "outputs": [],
   "source": [
    "class Solution84:\n",
    "    def largestRectangleArea(self, heights: List[int]) -> int:\n",
    "        def helper(start, end, heights):\n",
    "            if start > end:\n",
    "                return 0\n",
    "            minIndex = start\n",
    "            for i in range(start, end+1):\n",
    "                if heights[i] < heights[minIndex]:\n",
    "                    minIndex = i\n",
    "            leftArea = helper(start, minIndex-1, heights)\n",
    "            rightArea = helper(minIndex+1, end, heights)\n",
    "            middleArea = heights[minIndex] * (end-start+1)           \n",
    "            return max(leftArea, rightArea, middleArea)\n",
    "        return helper(0, len(heights)-1, heights)"
   ]
  },
  {
   "cell_type": "code",
   "execution_count": 120,
   "metadata": {},
   "outputs": [
    {
     "data": {
      "text/plain": [
       "(10, 4, 0)"
      ]
     },
     "execution_count": 120,
     "metadata": {},
     "output_type": "execute_result"
    }
   ],
   "source": [
    "solver_84 = Solution84()\n",
    "solver_84.largestRectangleArea([2,1,5,6,2,3]), solver_84.largestRectangleArea([2,4]),\\\n",
    "solver_84.largestRectangleArea([0])"
   ]
  },
  {
   "cell_type": "code",
   "execution_count": null,
   "metadata": {},
   "outputs": [],
   "source": []
  }
 ],
 "metadata": {
  "kernelspec": {
   "display_name": "Python 3",
   "language": "python",
   "name": "python3"
  },
  "language_info": {
   "codemirror_mode": {
    "name": "ipython",
    "version": 3
   },
   "file_extension": ".py",
   "mimetype": "text/x-python",
   "name": "python",
   "nbconvert_exporter": "python",
   "pygments_lexer": "ipython3",
   "version": "3.7.1"
  }
 },
 "nbformat": 4,
 "nbformat_minor": 2
}
