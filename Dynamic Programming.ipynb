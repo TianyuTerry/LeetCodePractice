{
 "cells": [
  {
   "cell_type": "markdown",
   "metadata": {},
   "source": [
    "## 53. Maximum Subarray"
   ]
  },
  {
   "cell_type": "markdown",
   "metadata": {},
   "source": [
    "### self-written classical divide and conquer solution after checking answers"
   ]
  },
  {
   "cell_type": "code",
   "execution_count": 1,
   "metadata": {},
   "outputs": [],
   "source": [
    "class Solution53(object):\n",
    "    \n",
    "    def cross_sum(self, nums, left, right, p):\n",
    "        left_sum_max = -float(\"inf\")\n",
    "        right_sum_max = -float(\"inf\")\n",
    "        \n",
    "        curr_sum = 0\n",
    "        for i in range(p, left-1, -1):\n",
    "            curr_sum += nums[i]\n",
    "            if curr_sum > left_sum_max:\n",
    "                left_sum_max = curr_sum\n",
    "        \n",
    "        curr_sum = 0\n",
    "        for i in range(p+1, right+1):\n",
    "            curr_sum += nums[i]\n",
    "            if curr_sum > right_sum_max:\n",
    "                right_sum_max = curr_sum\n",
    "       \n",
    "        return left_sum_max + right_sum_max\n",
    "    \n",
    "    def helper(self, nums, left, right):\n",
    "        if left == right:\n",
    "            return nums[left]\n",
    "        p = (right + left) // 2\n",
    "        left_sum = self.helper(nums, left, p)\n",
    "        right_sum = self.helper(nums, p+1, right)\n",
    "        cross_sum = self.cross_sum(nums, left, right, p)\n",
    "        \n",
    "        return max(left_sum, right_sum, cross_sum)\n",
    "    \n",
    "    def maxSubArray(self, nums):\n",
    "        \"\"\"\n",
    "        :type nums: List[int]\n",
    "        :rtype: int\n",
    "        \"\"\"\n",
    "        return self.helper(nums, 0, len(nums)-1)"
   ]
  },
  {
   "cell_type": "code",
   "execution_count": 2,
   "metadata": {},
   "outputs": [
    {
     "data": {
      "text/plain": [
       "(6, -1, 1)"
      ]
     },
     "execution_count": 2,
     "metadata": {},
     "output_type": "execute_result"
    }
   ],
   "source": [
    "solver_53 = Solution53()\n",
    "solver_53.maxSubArray([-2, 1, -3, 4, -1, 2, 1, -5, 4]), solver_53.maxSubArray([-1]), solver_53.maxSubArray([1])"
   ]
  },
  {
   "cell_type": "markdown",
   "metadata": {},
   "source": [
    "### self-written greedy after checking ansers (array modified, Kadane's algorithm)"
   ]
  },
  {
   "cell_type": "code",
   "execution_count": 3,
   "metadata": {},
   "outputs": [],
   "source": [
    "class Solution53(object):\n",
    "    \n",
    "    def maxSubArray(self, nums):\n",
    "        \"\"\"\n",
    "        :type nums: List[int]\n",
    "        :rtype: int\n",
    "        \"\"\"\n",
    "        array_max = nums[0]\n",
    "        for i in range(1, len(nums)):\n",
    "            if nums[i-1] > 0:\n",
    "                nums[i] += nums[i-1]\n",
    "            if nums[i] > array_max:\n",
    "                array_max = nums[i]\n",
    "        return array_max"
   ]
  },
  {
   "cell_type": "code",
   "execution_count": 4,
   "metadata": {},
   "outputs": [
    {
     "data": {
      "text/plain": [
       "(6, -1, 1)"
      ]
     },
     "execution_count": 4,
     "metadata": {},
     "output_type": "execute_result"
    }
   ],
   "source": [
    "solver_53 = Solution53()\n",
    "solver_53.maxSubArray([-2, 1, -3, 4, -1, 2, 1, -5, 4]), solver_53.maxSubArray([-1]), solver_53.maxSubArray([1])"
   ]
  },
  {
   "cell_type": "markdown",
   "metadata": {},
   "source": [
    "### self-written greedy after checking ansers (array not modified, Kadane's algorithm)"
   ]
  },
  {
   "cell_type": "code",
   "execution_count": 5,
   "metadata": {},
   "outputs": [],
   "source": [
    "class Solution53(object):\n",
    "    \n",
    "    def maxSubArray(self, nums):\n",
    "        \"\"\"\n",
    "        :type nums: List[int]\n",
    "        :rtype: int\n",
    "        \"\"\"\n",
    "        array_max = nums[0]\n",
    "        curr_max = nums[0]\n",
    "        for i in range(1, len(nums)):\n",
    "            curr_max = max(0, curr_max) + nums[i]\n",
    "            if curr_max > array_max:\n",
    "                array_max = curr_max\n",
    "        return array_max"
   ]
  },
  {
   "cell_type": "code",
   "execution_count": 6,
   "metadata": {},
   "outputs": [
    {
     "data": {
      "text/plain": [
       "(6, -1, 1)"
      ]
     },
     "execution_count": 6,
     "metadata": {},
     "output_type": "execute_result"
    }
   ],
   "source": [
    "solver_53 = Solution53()\n",
    "solver_53.maxSubArray([-2, 1, -3, 4, -1, 2, 1, -5, 4]), solver_53.maxSubArray([-1]), solver_53.maxSubArray([1])"
   ]
  },
  {
   "cell_type": "markdown",
   "metadata": {},
   "source": [
    "## 5. Longest Palindromic Substring"
   ]
  },
  {
   "cell_type": "markdown",
   "metadata": {},
   "source": [
    "#### There are suffix tree algorithm for LCS problem, to be explored"
   ]
  },
  {
   "cell_type": "markdown",
   "metadata": {},
   "source": [
    "### self-written Longest Common Substring approach, time limit exceeded"
   ]
  },
  {
   "cell_type": "code",
   "execution_count": 18,
   "metadata": {},
   "outputs": [],
   "source": [
    "class Solution5(object):\n",
    "    \n",
    "    def longestPalindrome(self, s):\n",
    "        \"\"\"\n",
    "        :type s: str\n",
    "        :rtype: str\n",
    "        \"\"\"\n",
    "        return self.LCS_palindrome_single(s, s[::-1])\n",
    "        \n",
    "    def LCS(self, s, t):\n",
    "        \"\"\"\n",
    "        written with the help of pseudocode in Wikipidea\n",
    "        \"\"\"\n",
    "        L = dict()\n",
    "        z = 0\n",
    "        ret = set()\n",
    "        for i in range(len(s)):\n",
    "            for j in range(len(t)):\n",
    "                if s[i] == t[j]:\n",
    "                    if i == 0 or j == 0:\n",
    "                        L[i, j] = 1\n",
    "                    else:\n",
    "                        L[i, j] = L[i-1, j-1] + 1\n",
    "                    if L[i, j] > z:\n",
    "                        z = L[i, j]\n",
    "                        ret = {s[i-z+1: i+1]}\n",
    "                    elif L[i, j] == z:\n",
    "                        ret |= {s[i-z+1: i+1]}\n",
    "                else:\n",
    "                    L[i, j] = 0\n",
    "        return ret\n",
    "    \n",
    "    def LCS_opti(self, s, t):\n",
    "        \"\"\"\n",
    "        keep only the last row\n",
    "        \"\"\"\n",
    "        L_curr = dict()\n",
    "        z = 0\n",
    "        ret = set()\n",
    "        for i in range(len(s)):\n",
    "            for j in range(len(t)):\n",
    "                if s[i] == t[j]:\n",
    "                    if i == 0 or j == 0:\n",
    "                        L_curr[j] = 1\n",
    "                    else:\n",
    "                        L_curr[j] = L_last[j-1] + 1\n",
    "                    if L_curr[j] > z:\n",
    "                        z = L_curr[j]\n",
    "                        ret = {s[i-z+1: i+1]}\n",
    "                    elif L_curr[j] == z:\n",
    "                        ret |= {s[i-z+1: i+1]}\n",
    "                else:\n",
    "                    L_curr[j] = 0\n",
    "            L_last = L_curr\n",
    "            L_curr = dict()\n",
    "        return ret\n",
    "    \n",
    "    def LCS_palindrome(self, s, t):\n",
    "        \"\"\"\n",
    "        with additional check\n",
    "        \"\"\"\n",
    "        def check_palindrome(start2, end1, length):\n",
    "            return start2 == length-end1-1\n",
    "        def check_palindrome_(start1, start2, end1, end2, length):\n",
    "            return start2 == length-end1-1 and end2 == length-start1-1\n",
    "        L_curr = dict()\n",
    "        length = len(s)\n",
    "        z = 0\n",
    "        ret = set()\n",
    "        for i in range(length):\n",
    "            for j in range(length):\n",
    "                if s[i] == t[j]:\n",
    "                    if i == 0 or j == 0:\n",
    "                        L_curr[j] = 1\n",
    "                    else:\n",
    "                        L_curr[j] = L_last[j-1] + 1\n",
    "                    if L_curr[j] > z and check_palindrome(j-L_curr[j]+1, i, length):\n",
    "                        z = L_curr[j]\n",
    "                        ret = {s[i-z+1: i+1]}\n",
    "                    elif L_curr[j] == z and check_palindrome(j-L_curr[j]+1, i, length):\n",
    "                        ret |= {s[i-z+1: i+1]}\n",
    "                else:\n",
    "                    L_curr[j] = 0\n",
    "            L_last = L_curr\n",
    "            L_curr = dict()\n",
    "        return ret\n",
    "    \n",
    "    def LCS_palindrome_single(self, s, t):\n",
    "        \"\"\"\n",
    "        keep only one panlindrome, to use less memory\n",
    "        \"\"\"\n",
    "        def check_palindrome(start2, end1, length):\n",
    "            return start2 == length-end1-1\n",
    "        def check_palindrome_(start1, start2, end1, end2, length):\n",
    "            return start2 == length-end1-1 and end2 == length-start1-1\n",
    "        L_curr = dict()\n",
    "        length = len(s)\n",
    "        z = 0\n",
    "        for i in range(length):\n",
    "            for j in range(length):\n",
    "                if s[i] == t[j]:\n",
    "                    if i == 0 or j == 0:\n",
    "                        L_curr[j] = 1\n",
    "                    else:\n",
    "                        L_curr[j] = L_last[j-1] + 1\n",
    "                    if L_curr[j] > z and check_palindrome(j-L_curr[j]+1, i, length):\n",
    "                        z = L_curr[j]\n",
    "                        ret = s[i-z+1: i+1]\n",
    "                else:\n",
    "                    L_curr[j] = 0\n",
    "            L_last = L_curr\n",
    "            L_curr = dict()\n",
    "        return ret"
   ]
  },
  {
   "cell_type": "code",
   "execution_count": 19,
   "metadata": {},
   "outputs": [
    {
     "data": {
      "text/plain": [
       "({'aba', 'bab'},\n",
       " {'aba'},\n",
       " {'abacd', 'dcaba'},\n",
       " 'bab',\n",
       " 'bab',\n",
       " 'aba',\n",
       " 'uvlvu',\n",
       " 'dtzztd')"
      ]
     },
     "execution_count": 19,
     "metadata": {},
     "output_type": "execute_result"
    }
   ],
   "source": [
    "solver_5 = Solution5()\n",
    "\n",
    "solver_5.LCS_palindrome(\"babad\", \"dabab\"), solver_5.LCS_palindrome(\"abacdfgdcaba\", \"abacdgfdcaba\"),\\\n",
    "solver_5.LCS_opti(\"abacdfgdcaba\", \"abacdgfdcaba\"), solver_5.LCS_palindrome_single(\"babad\", \"dabab\"),\\\n",
    "solver_5.longestPalindrome(\"babad\"), solver_5.longestPalindrome(\"abacdfgdcaba\"),\\\n",
    "solver_5.longestPalindrome(\"reifadyqgztixemwswtccodfnchcovrmiooffbbijkecuvlvukecutasfxqcqygltrogrdxlrslbnzktlanycgtniprjlospzhhgdrqcwlukbpsrumxguskubokxcmswjnssbkutdhppsdckuckcbwbxpmcmdicfjxaanoxndlfpqwneytatcbyjmimyawevmgirunvmdvxwdjbiqszwhfhjmrpexfwrbzkipxfowcbqjckaotmmgkrbjvhihgwuszdrdiijkgjoljjdubcbowvxslctleblfmdzmvdkqdxtiylabrwaccikkpnpsgcotxoggdydqnuogmxttcycjorzrtwtcchxrbbknfmxnonbhgbjjypqhbftceduxgrnaswtbytrhuiqnxkivevhprcvhggugrmmxolvfzwadlnzdwbtqbaveoongezoymdrhywxcxvggsewsxckucmncbrljskgsgtehortuvbtrsfisyewchxlmxqccoplhlzwutoqoctgfnrzhqctxaqacmirrqdwsbdpqttmyrmxxawgtjzqjgffqwlxqxwxrkgtzqkgdulbxmfcvxcwoswystiyittdjaqvaijwscqobqlhskhvoktksvmguzfankdigqlegrxxqpoitdtykfltohnzrcgmlnhddcfmawiriiiblwrttveedkxzzagdzpwvriuctvtrvdpqzcdnrkgcnpwjlraaaaskgguxzljktqvzzmruqqslutiipladbcxdwxhmvevsjrdkhdpxcyjkidkoznuagshnvccnkyeflpyjzlcbmhbytxnfzcrnmkyknbmtzwtaceajmnuyjblmdlbjdjxctvqcoqkbaszvrqvjgzdqpvmucerumskjrwhywjkwgligkectzboqbanrsvynxscpxqxtqhthdytfvhzjdcxgckvgfbldsfzxqdozxicrwqyprgnadfxsionkzzegmeynye\"),\\\n",
    "solver_5.longestPalindrome(\"kztakrekvefgchersuoiuatzlmwynzjhdqqftjcqmntoyckqfawikkdrnfgbwtdpbkymvwoumurjdzygyzsbmwzpcxcdmmpwzmeibligwiiqbecxwyxigikoewwrczkanwwqukszsbjukzumzladrvjefpegyicsgctdvldetuegxwihdtitqrdmygdrsweahfrepdcudvyvrggbkthztxwicyzazjyeztytwiyybqdsczozvtegodacdokczfmwqfmyuixbeeqluqcqwxpyrkpfcdosttzooykpvdykfxulttvvwnzftndvhsvpgrgdzsvfxdtzztdiswgwxzvbpsjlizlfrlgvlnwbjwbujafjaedivvgnbgwcdbzbdbprqrflfhahsvlcekeyqueyxjfetkxpapbeejoxwxlgepmxzowldsmqllpzeymakcshfzkvyykwljeltutdmrhxcbzizihzinywggzjctzasvefcxmhnusdvlderconvaisaetcdldeveeemhugipfzbhrwidcjpfrumshbdofchpgcsbkvaexfmenpsuodatxjavoszcitjewflejjmsuvyuyrkumednsfkbgvbqxfphfqeqozcnabmtedffvzwbgbzbfydiyaevoqtfmzxaujdydtjftapkpdhnbmrylcibzuqqynvnsihmyxdcrfftkuoymzoxpnashaderlosnkxbhamkkxfhwjsyehkmblhppbyspmcwuoguptliashefdklokjpggfiixozsrlwmeksmzdcvipgkwxwynzsvxnqtchgwwadqybkguscfyrbyxudzrxacoplmcqcsmkraimfwbauvytkxdnglwfuvehpxd\")"
   ]
  },
  {
   "cell_type": "markdown",
   "metadata": {},
   "source": [
    "### Dynamic Programming, time limit exceeded"
   ]
  },
  {
   "cell_type": "code",
   "execution_count": 14,
   "metadata": {},
   "outputs": [],
   "source": [
    "class Solution5(object):\n",
    "    \n",
    "    def longestPalindrome(self, s):\n",
    "        \"\"\"\n",
    "        :type s: str\n",
    "        :rtype: str\n",
    "        \"\"\"\n",
    "        table = dict()\n",
    "        z = 0\n",
    "        ret = \"\"\n",
    "        \n",
    "        def helper(i, j):\n",
    "            nonlocal table, z, ret\n",
    "            if (i, j) not in table:\n",
    "                if i == j:\n",
    "                    table[i, j] = True\n",
    "                elif i+1 == j:\n",
    "                    table[i, j] = s[i] == s[j]\n",
    "                else:\n",
    "                    table[i, j] = helper(i+1, j-1) and s[i] == s[j]\n",
    "                        \n",
    "            if table[i, j] and j-i+1 > z:\n",
    "                ret = s[i:j+1]\n",
    "                z = j-i+1\n",
    "            \n",
    "            return table[i, j]\n",
    "        \n",
    "        for i in range(len(s)):\n",
    "            for j in range(i, len(s)):\n",
    "                helper(i, j)\n",
    "        \n",
    "        return ret\n",
    "    \n",
    "    def longestPalindrome_opti(self, s):\n",
    "        \"\"\"\n",
    "        :type s: str\n",
    "        :rtype: str\n",
    "        \"\"\"\n",
    "        table = dict()\n",
    "        z = 0\n",
    "        ret = \"\"\n",
    "        \n",
    "        def helper(i, j):\n",
    "            nonlocal table, z, ret\n",
    "            if (i, j) not in table:\n",
    "                if i == j:\n",
    "                    table[i, j] = True\n",
    "                elif i+1 == j:\n",
    "                    table[i, j] = s[i] == s[j]\n",
    "                else:\n",
    "                    table[i, j] = helper(i+1, j-1) and s[i] == s[j]\n",
    "                        \n",
    "            if table[i, j] and j-i+1 > z:\n",
    "                ret = s[i:j+1]\n",
    "                z = j-i+1\n",
    "            \n",
    "            return table[i, j]\n",
    "        \n",
    "        for i in range(len(s)):\n",
    "            helper(0, len(s)-i-1)\n",
    "            helper(i, len(s)-1)\n",
    "            if z >= len(s)-i+1:\n",
    "                break\n",
    "        \n",
    "        return ret"
   ]
  },
  {
   "cell_type": "code",
   "execution_count": 17,
   "metadata": {},
   "outputs": [
    {
     "data": {
      "text/plain": [
       "('bab', 'aba', 'uvlvu', 'tiyit', 'dtzztd', 'dtzztd')"
      ]
     },
     "execution_count": 17,
     "metadata": {},
     "output_type": "execute_result"
    }
   ],
   "source": [
    "solver_5 = Solution5()\n",
    "solver_5.longestPalindrome(\"babad\"), solver_5.longestPalindrome(\"abacdfgdcaba\"),\\\n",
    "solver_5.longestPalindrome(\"reifadyqgztixemwswtccodfnchcovrmiooffbbijkecuvlvukecutasfxqcqygltrogrdxlrslbnzktlanycgtniprjlospzhhgdrqcwlukbpsrumxguskubokxcmswjnssbkutdhppsdckuckcbwbxpmcmdicfjxaanoxndlfpqwneytatcbyjmimyawevmgirunvmdvxwdjbiqszwhfhjmrpexfwrbzkipxfowcbqjckaotmmgkrbjvhihgwuszdrdiijkgjoljjdubcbowvxslctleblfmdzmvdkqdxtiylabrwaccikkpnpsgcotxoggdydqnuogmxttcycjorzrtwtcchxrbbknfmxnonbhgbjjypqhbftceduxgrnaswtbytrhuiqnxkivevhprcvhggugrmmxolvfzwadlnzdwbtqbaveoongezoymdrhywxcxvggsewsxckucmncbrljskgsgtehortuvbtrsfisyewchxlmxqccoplhlzwutoqoctgfnrzhqctxaqacmirrqdwsbdpqttmyrmxxawgtjzqjgffqwlxqxwxrkgtzqkgdulbxmfcvxcwoswystiyittdjaqvaijwscqobqlhskhvoktksvmguzfankdigqlegrxxqpoitdtykfltohnzrcgmlnhddcfmawiriiiblwrttveedkxzzagdzpwvriuctvtrvdpqzcdnrkgcnpwjlraaaaskgguxzljktqvzzmruqqslutiipladbcxdwxhmvevsjrdkhdpxcyjkidkoznuagshnvccnkyeflpyjzlcbmhbytxnfzcrnmkyknbmtzwtaceajmnuyjblmdlbjdjxctvqcoqkbaszvrqvjgzdqpvmucerumskjrwhywjkwgligkectzboqbanrsvynxscpxqxtqhthdytfvhzjdcxgckvgfbldsfzxqdozxicrwqyprgnadfxsionkzzegmeynye\"),\\\n",
    "solver_5.longestPalindrome_opti(\"reifadyqgztixemwswtccodfnchcovrmiooffbbijkecuvlvukecutasfxqcqygltrogrdxlrslbnzktlanycgtniprjlospzhhgdrqcwlukbpsrumxguskubokxcmswjnssbkutdhppsdckuckcbwbxpmcmdicfjxaanoxndlfpqwneytatcbyjmimyawevmgirunvmdvxwdjbiqszwhfhjmrpexfwrbzkipxfowcbqjckaotmmgkrbjvhihgwuszdrdiijkgjoljjdubcbowvxslctleblfmdzmvdkqdxtiylabrwaccikkpnpsgcotxoggdydqnuogmxttcycjorzrtwtcchxrbbknfmxnonbhgbjjypqhbftceduxgrnaswtbytrhuiqnxkivevhprcvhggugrmmxolvfzwadlnzdwbtqbaveoongezoymdrhywxcxvggsewsxckucmncbrljskgsgtehortuvbtrsfisyewchxlmxqccoplhlzwutoqoctgfnrzhqctxaqacmirrqdwsbdpqttmyrmxxawgtjzqjgffqwlxqxwxrkgtzqkgdulbxmfcvxcwoswystiyittdjaqvaijwscqobqlhskhvoktksvmguzfankdigqlegrxxqpoitdtykfltohnzrcgmlnhddcfmawiriiiblwrttveedkxzzagdzpwvriuctvtrvdpqzcdnrkgcnpwjlraaaaskgguxzljktqvzzmruqqslutiipladbcxdwxhmvevsjrdkhdpxcyjkidkoznuagshnvccnkyeflpyjzlcbmhbytxnfzcrnmkyknbmtzwtaceajmnuyjblmdlbjdjxctvqcoqkbaszvrqvjgzdqpvmucerumskjrwhywjkwgligkectzboqbanrsvynxscpxqxtqhthdytfvhzjdcxgckvgfbldsfzxqdozxicrwqyprgnadfxsionkzzegmeynye\"),\\\n",
    "solver_5.longestPalindrome(\"kztakrekvefgchersuoiuatzlmwynzjhdqqftjcqmntoyckqfawikkdrnfgbwtdpbkymvwoumurjdzygyzsbmwzpcxcdmmpwzmeibligwiiqbecxwyxigikoewwrczkanwwqukszsbjukzumzladrvjefpegyicsgctdvldetuegxwihdtitqrdmygdrsweahfrepdcudvyvrggbkthztxwicyzazjyeztytwiyybqdsczozvtegodacdokczfmwqfmyuixbeeqluqcqwxpyrkpfcdosttzooykpvdykfxulttvvwnzftndvhsvpgrgdzsvfxdtzztdiswgwxzvbpsjlizlfrlgvlnwbjwbujafjaedivvgnbgwcdbzbdbprqrflfhahsvlcekeyqueyxjfetkxpapbeejoxwxlgepmxzowldsmqllpzeymakcshfzkvyykwljeltutdmrhxcbzizihzinywggzjctzasvefcxmhnusdvlderconvaisaetcdldeveeemhugipfzbhrwidcjpfrumshbdofchpgcsbkvaexfmenpsuodatxjavoszcitjewflejjmsuvyuyrkumednsfkbgvbqxfphfqeqozcnabmtedffvzwbgbzbfydiyaevoqtfmzxaujdydtjftapkpdhnbmrylcibzuqqynvnsihmyxdcrfftkuoymzoxpnashaderlosnkxbhamkkxfhwjsyehkmblhppbyspmcwuoguptliashefdklokjpggfiixozsrlwmeksmzdcvipgkwxwynzsvxnqtchgwwadqybkguscfyrbyxudzrxacoplmcqcsmkraimfwbauvytkxdnglwfuvehpxd\"),\\\n",
    "solver_5.longestPalindrome_opti(\"kztakrekvefgchersuoiuatzlmwynzjhdqqftjcqmntoyckqfawikkdrnfgbwtdpbkymvwoumurjdzygyzsbmwzpcxcdmmpwzmeibligwiiqbecxwyxigikoewwrczkanwwqukszsbjukzumzladrvjefpegyicsgctdvldetuegxwihdtitqrdmygdrsweahfrepdcudvyvrggbkthztxwicyzazjyeztytwiyybqdsczozvtegodacdokczfmwqfmyuixbeeqluqcqwxpyrkpfcdosttzooykpvdykfxulttvvwnzftndvhsvpgrgdzsvfxdtzztdiswgwxzvbpsjlizlfrlgvlnwbjwbujafjaedivvgnbgwcdbzbdbprqrflfhahsvlcekeyqueyxjfetkxpapbeejoxwxlgepmxzowldsmqllpzeymakcshfzkvyykwljeltutdmrhxcbzizihzinywggzjctzasvefcxmhnusdvlderconvaisaetcdldeveeemhugipfzbhrwidcjpfrumshbdofchpgcsbkvaexfmenpsuodatxjavoszcitjewflejjmsuvyuyrkumednsfkbgvbqxfphfqeqozcnabmtedffvzwbgbzbfydiyaevoqtfmzxaujdydtjftapkpdhnbmrylcibzuqqynvnsihmyxdcrfftkuoymzoxpnashaderlosnkxbhamkkxfhwjsyehkmblhppbyspmcwuoguptliashefdklokjpggfiixozsrlwmeksmzdcvipgkwxwynzsvxnqtchgwwadqybkguscfyrbyxudzrxacoplmcqcsmkraimfwbauvytkxdnglwfuvehpxd\")"
   ]
  },
  {
   "cell_type": "markdown",
   "metadata": {},
   "source": [
    "### Expand Around Center, passed tests "
   ]
  },
  {
   "cell_type": "code",
   "execution_count": 23,
   "metadata": {},
   "outputs": [],
   "source": [
    "class Solution5(object):\n",
    "    \n",
    "    def longestPalindrome(self, s):\n",
    "        \"\"\"\n",
    "        :type s: str\n",
    "        :rtype: str\n",
    "        \"\"\"\n",
    "        start = end = 0\n",
    "        for i in range(len(s)):\n",
    "            len1 = self.expandAround(s, i, i)\n",
    "            len2 = self.expandAround(s, i, i+1)\n",
    "            max_len = max(len1, len2)\n",
    "            if max_len > end - start:\n",
    "                start = i - (max_len-1)//2\n",
    "                end = i + max_len//2\n",
    "                \"\"\"\n",
    "                here start and end indice are inclusive\n",
    "                \"\"\"\n",
    "        return s[start:end+1]\n",
    "    \n",
    "    def expandAround(self, s, i, j):\n",
    "        while i >= 0 and j < len(s) and s[i] == s[j]:\n",
    "            i -= 1\n",
    "            j += 1\n",
    "        return j-i-1"
   ]
  },
  {
   "cell_type": "code",
   "execution_count": 24,
   "metadata": {},
   "outputs": [
    {
     "data": {
      "text/plain": [
       "('aba', 'aba', 'eynye', 'dtzztd')"
      ]
     },
     "execution_count": 24,
     "metadata": {},
     "output_type": "execute_result"
    }
   ],
   "source": [
    "solver_5 = Solution5()\n",
    "solver_5.longestPalindrome(\"babad\"), solver_5.longestPalindrome(\"abacdfgdcaba\"),\\\n",
    "solver_5.longestPalindrome(\"reifadyqgztixemwswtccodfnchcovrmiooffbbijkecuvlvukecutasfxqcqygltrogrdxlrslbnzktlanycgtniprjlospzhhgdrqcwlukbpsrumxguskubokxcmswjnssbkutdhppsdckuckcbwbxpmcmdicfjxaanoxndlfpqwneytatcbyjmimyawevmgirunvmdvxwdjbiqszwhfhjmrpexfwrbzkipxfowcbqjckaotmmgkrbjvhihgwuszdrdiijkgjoljjdubcbowvxslctleblfmdzmvdkqdxtiylabrwaccikkpnpsgcotxoggdydqnuogmxttcycjorzrtwtcchxrbbknfmxnonbhgbjjypqhbftceduxgrnaswtbytrhuiqnxkivevhprcvhggugrmmxolvfzwadlnzdwbtqbaveoongezoymdrhywxcxvggsewsxckucmncbrljskgsgtehortuvbtrsfisyewchxlmxqccoplhlzwutoqoctgfnrzhqctxaqacmirrqdwsbdpqttmyrmxxawgtjzqjgffqwlxqxwxrkgtzqkgdulbxmfcvxcwoswystiyittdjaqvaijwscqobqlhskhvoktksvmguzfankdigqlegrxxqpoitdtykfltohnzrcgmlnhddcfmawiriiiblwrttveedkxzzagdzpwvriuctvtrvdpqzcdnrkgcnpwjlraaaaskgguxzljktqvzzmruqqslutiipladbcxdwxhmvevsjrdkhdpxcyjkidkoznuagshnvccnkyeflpyjzlcbmhbytxnfzcrnmkyknbmtzwtaceajmnuyjblmdlbjdjxctvqcoqkbaszvrqvjgzdqpvmucerumskjrwhywjkwgligkectzboqbanrsvynxscpxqxtqhthdytfvhzjdcxgckvgfbldsfzxqdozxicrwqyprgnadfxsionkzzegmeynye\"),\\\n",
    "solver_5.longestPalindrome(\"kztakrekvefgchersuoiuatzlmwynzjhdqqftjcqmntoyckqfawikkdrnfgbwtdpbkymvwoumurjdzygyzsbmwzpcxcdmmpwzmeibligwiiqbecxwyxigikoewwrczkanwwqukszsbjukzumzladrvjefpegyicsgctdvldetuegxwihdtitqrdmygdrsweahfrepdcudvyvrggbkthztxwicyzazjyeztytwiyybqdsczozvtegodacdokczfmwqfmyuixbeeqluqcqwxpyrkpfcdosttzooykpvdykfxulttvvwnzftndvhsvpgrgdzsvfxdtzztdiswgwxzvbpsjlizlfrlgvlnwbjwbujafjaedivvgnbgwcdbzbdbprqrflfhahsvlcekeyqueyxjfetkxpapbeejoxwxlgepmxzowldsmqllpzeymakcshfzkvyykwljeltutdmrhxcbzizihzinywggzjctzasvefcxmhnusdvlderconvaisaetcdldeveeemhugipfzbhrwidcjpfrumshbdofchpgcsbkvaexfmenpsuodatxjavoszcitjewflejjmsuvyuyrkumednsfkbgvbqxfphfqeqozcnabmtedffvzwbgbzbfydiyaevoqtfmzxaujdydtjftapkpdhnbmrylcibzuqqynvnsihmyxdcrfftkuoymzoxpnashaderlosnkxbhamkkxfhwjsyehkmblhppbyspmcwuoguptliashefdklokjpggfiixozsrlwmeksmzdcvipgkwxwynzsvxnqtchgwwadqybkguscfyrbyxudzrxacoplmcqcsmkraimfwbauvytkxdnglwfuvehpxd\")"
   ]
  },
  {
   "cell_type": "markdown",
   "metadata": {},
   "source": [
    "### Manacher's Algorithm (not quite sure why it is linear, passed tests)"
   ]
  },
  {
   "cell_type": "code",
   "execution_count": 33,
   "metadata": {},
   "outputs": [],
   "source": [
    "class Solution5(object):\n",
    "    \n",
    "    def longestPalindrome(self, s):\n",
    "        \"\"\"\n",
    "        :type s: str\n",
    "        :rtype: str\n",
    "        \"\"\"\n",
    "        \"\"\"\n",
    "        with the help from Wikipedia and YouTube video\n",
    "        \"\"\"\n",
    "        T = '$#' + '#'.join(s) + '#@'\n",
    "        l = len(T)\n",
    "        P = [0] * l\n",
    "        R, C = 0, 0\n",
    "        position = 0\n",
    "        max_len = 0\n",
    "        for i in range(1, l-1):\n",
    "            if i < R:\n",
    "                P[i] = min(P[2 * C - i], R - i)\n",
    "\n",
    "            while T[i+(P[i]+1)] == T[i-(P[i]+1)]:\n",
    "                P[i] += 1\n",
    "\n",
    "            if P[i] + i > R:\n",
    "                R = P[i] + i\n",
    "                C = i\n",
    "            if i%2 == 0:\n",
    "                actual_len = 1+(P[i]//2)*2\n",
    "                if actual_len > max_len:\n",
    "                    max_len = actual_len\n",
    "                    position = i\n",
    "            else:\n",
    "                actual_len = ((P[i]+1)//2)*2\n",
    "                if actual_len > max_len:\n",
    "                    max_len = actual_len\n",
    "                    position = i\n",
    "                    \n",
    "        return T[position-P[position]: position+P[position]+1].replace('#', '')"
   ]
  },
  {
   "cell_type": "code",
   "execution_count": 34,
   "metadata": {},
   "outputs": [
    {
     "data": {
      "text/plain": [
       "('bab', 'aba', 'uvlvu', 'dtzztd')"
      ]
     },
     "execution_count": 34,
     "metadata": {},
     "output_type": "execute_result"
    }
   ],
   "source": [
    "solver_5 = Solution5()\n",
    "solver_5.longestPalindrome(\"babad\"), solver_5.longestPalindrome(\"abacdfgdcaba\"),\\\n",
    "solver_5.longestPalindrome(\"reifadyqgztixemwswtccodfnchcovrmiooffbbijkecuvlvukecutasfxqcqygltrogrdxlrslbnzktlanycgtniprjlospzhhgdrqcwlukbpsrumxguskubokxcmswjnssbkutdhppsdckuckcbwbxpmcmdicfjxaanoxndlfpqwneytatcbyjmimyawevmgirunvmdvxwdjbiqszwhfhjmrpexfwrbzkipxfowcbqjckaotmmgkrbjvhihgwuszdrdiijkgjoljjdubcbowvxslctleblfmdzmvdkqdxtiylabrwaccikkpnpsgcotxoggdydqnuogmxttcycjorzrtwtcchxrbbknfmxnonbhgbjjypqhbftceduxgrnaswtbytrhuiqnxkivevhprcvhggugrmmxolvfzwadlnzdwbtqbaveoongezoymdrhywxcxvggsewsxckucmncbrljskgsgtehortuvbtrsfisyewchxlmxqccoplhlzwutoqoctgfnrzhqctxaqacmirrqdwsbdpqttmyrmxxawgtjzqjgffqwlxqxwxrkgtzqkgdulbxmfcvxcwoswystiyittdjaqvaijwscqobqlhskhvoktksvmguzfankdigqlegrxxqpoitdtykfltohnzrcgmlnhddcfmawiriiiblwrttveedkxzzagdzpwvriuctvtrvdpqzcdnrkgcnpwjlraaaaskgguxzljktqvzzmruqqslutiipladbcxdwxhmvevsjrdkhdpxcyjkidkoznuagshnvccnkyeflpyjzlcbmhbytxnfzcrnmkyknbmtzwtaceajmnuyjblmdlbjdjxctvqcoqkbaszvrqvjgzdqpvmucerumskjrwhywjkwgligkectzboqbanrsvynxscpxqxtqhthdytfvhzjdcxgckvgfbldsfzxqdozxicrwqyprgnadfxsionkzzegmeynye\"),\\\n",
    "solver_5.longestPalindrome(\"kztakrekvefgchersuoiuatzlmwynzjhdqqftjcqmntoyckqfawikkdrnfgbwtdpbkymvwoumurjdzygyzsbmwzpcxcdmmpwzmeibligwiiqbecxwyxigikoewwrczkanwwqukszsbjukzumzladrvjefpegyicsgctdvldetuegxwihdtitqrdmygdrsweahfrepdcudvyvrggbkthztxwicyzazjyeztytwiyybqdsczozvtegodacdokczfmwqfmyuixbeeqluqcqwxpyrkpfcdosttzooykpvdykfxulttvvwnzftndvhsvpgrgdzsvfxdtzztdiswgwxzvbpsjlizlfrlgvlnwbjwbujafjaedivvgnbgwcdbzbdbprqrflfhahsvlcekeyqueyxjfetkxpapbeejoxwxlgepmxzowldsmqllpzeymakcshfzkvyykwljeltutdmrhxcbzizihzinywggzjctzasvefcxmhnusdvlderconvaisaetcdldeveeemhugipfzbhrwidcjpfrumshbdofchpgcsbkvaexfmenpsuodatxjavoszcitjewflejjmsuvyuyrkumednsfkbgvbqxfphfqeqozcnabmtedffvzwbgbzbfydiyaevoqtfmzxaujdydtjftapkpdhnbmrylcibzuqqynvnsihmyxdcrfftkuoymzoxpnashaderlosnkxbhamkkxfhwjsyehkmblhppbyspmcwuoguptliashefdklokjpggfiixozsrlwmeksmzdcvipgkwxwynzsvxnqtchgwwadqybkguscfyrbyxudzrxacoplmcqcsmkraimfwbauvytkxdnglwfuvehpxd\")"
   ]
  },
  {
   "cell_type": "markdown",
   "metadata": {},
   "source": [
    "## 70. Climbing Stairs"
   ]
  },
  {
   "cell_type": "markdown",
   "metadata": {},
   "source": [
    "### self-written solution, time limit exceeded"
   ]
  },
  {
   "cell_type": "code",
   "execution_count": 38,
   "metadata": {},
   "outputs": [],
   "source": [
    "class Solution70:\n",
    "    def climbStairs(self, n: int) -> int:\n",
    "        if n == 0:\n",
    "            return 1\n",
    "        elif n == 1:\n",
    "            return 1\n",
    "        else:\n",
    "            return self.climbStairs(n-1) + self.climbStairs(n-2)"
   ]
  },
  {
   "cell_type": "code",
   "execution_count": 40,
   "metadata": {},
   "outputs": [
    {
     "data": {
      "text/plain": [
       "(89, 63245986)"
      ]
     },
     "execution_count": 40,
     "metadata": {},
     "output_type": "execute_result"
    }
   ],
   "source": [
    "solver_70 = Solution70()\n",
    "solver_70.climbStairs(10), solver_70.climbStairs(38)"
   ]
  },
  {
   "cell_type": "markdown",
   "metadata": {},
   "source": [
    "### dynamic programming with memoization"
   ]
  },
  {
   "cell_type": "code",
   "execution_count": 43,
   "metadata": {},
   "outputs": [],
   "source": [
    "class Solution70:\n",
    "    \n",
    "    def climbStairs(self, n: int) -> int:\n",
    "        \n",
    "        memo = [0]*(n+1)\n",
    "        \n",
    "        def helper(n):\n",
    "            nonlocal memo\n",
    "            if n == 0 or n == 1:\n",
    "                return 1\n",
    "            elif memo[n] > 0:\n",
    "                return memo[n]\n",
    "            else:\n",
    "                memo[n] = helper(n-1) + helper(n-2)\n",
    "                return memo[n]\n",
    "        \n",
    "        return helper(n)"
   ]
  },
  {
   "cell_type": "code",
   "execution_count": 44,
   "metadata": {},
   "outputs": [
    {
     "data": {
      "text/plain": [
       "(89, 63245986)"
      ]
     },
     "execution_count": 44,
     "metadata": {},
     "output_type": "execute_result"
    }
   ],
   "source": [
    "solver_70 = Solution70()\n",
    "solver_70.climbStairs(10), solver_70.climbStairs(38)"
   ]
  },
  {
   "cell_type": "markdown",
   "metadata": {},
   "source": [
    "### bottom-up dynamic programming"
   ]
  },
  {
   "cell_type": "code",
   "execution_count": 49,
   "metadata": {},
   "outputs": [],
   "source": [
    "class Solution70:\n",
    "    \n",
    "    def climbStairs(self, n: int) -> int:\n",
    "        \n",
    "        memo = [0]*(n+1)\n",
    "        memo[:2] = [1]*2\n",
    "        \n",
    "        for i in range(2, n+1):\n",
    "            memo[i] = memo[i-1] + memo[i-2]\n",
    "        \n",
    "        return memo[-1]"
   ]
  },
  {
   "cell_type": "code",
   "execution_count": 50,
   "metadata": {},
   "outputs": [
    {
     "data": {
      "text/plain": [
       "(89, 63245986)"
      ]
     },
     "execution_count": 50,
     "metadata": {},
     "output_type": "execute_result"
    }
   ],
   "source": [
    "solver_70 = Solution70()\n",
    "solver_70.climbStairs(10), solver_70.climbStairs(38)"
   ]
  },
  {
   "cell_type": "markdown",
   "metadata": {},
   "source": [
    "## 221. Maximal Square"
   ]
  },
  {
   "cell_type": "markdown",
   "metadata": {},
   "source": [
    "### self-written Dynamic Programming after checking answers"
   ]
  },
  {
   "cell_type": "code",
   "execution_count": 53,
   "metadata": {},
   "outputs": [],
   "source": [
    "from typing import List, Tuple, Dict"
   ]
  },
  {
   "cell_type": "code",
   "execution_count": 59,
   "metadata": {},
   "outputs": [],
   "source": [
    "class Solution221:\n",
    "    def maximalSquare(self, matrix: List[List[str]]) -> int:\n",
    "        nrow, ncol = len(matrix), len(matrix[0])\n",
    "        table = dict()\n",
    "        max_len = 0\n",
    "        for i in range(nrow+1):\n",
    "            for j in range(ncol+1):\n",
    "                if i == 0 or j == 0:\n",
    "                    table[i, j] = 0\n",
    "                else:\n",
    "                    if matrix[i-1][j-1] == \"1\":\n",
    "                        table[i, j] = min(table[i-1, j-1], table[i-1, j], table[i, j-1]) + 1\n",
    "                        max_len = max(max_len, table[i, j])\n",
    "                    else:\n",
    "                        table[i, j] = 0\n",
    "        return max_len**2"
   ]
  },
  {
   "cell_type": "code",
   "execution_count": 60,
   "metadata": {},
   "outputs": [
    {
     "data": {
      "text/plain": [
       "(4, 1)"
      ]
     },
     "execution_count": 60,
     "metadata": {},
     "output_type": "execute_result"
    }
   ],
   "source": [
    "solver_221 = Solution221()\n",
    "solver_221.maximalSquare([[\"1\",\"0\",\"1\",\"0\",\"0\"],[\"1\",\"0\",\"1\",\"1\",\"1\"],[\"1\",\"1\",\"1\",\"1\",\"1\"],[\"1\",\"0\",\"0\",\"1\",\"0\"]]),\\\n",
    "solver_221.maximalSquare([[\"0\",\"1\"],[\"1\",\"0\"]])"
   ]
  },
  {
   "cell_type": "markdown",
   "metadata": {},
   "source": [
    "### self-written Dynamic Programming with memory optimization"
   ]
  },
  {
   "cell_type": "code",
   "execution_count": 61,
   "metadata": {},
   "outputs": [],
   "source": [
    "class Solution221:\n",
    "    def maximalSquare(self, matrix: List[List[str]]) -> int:\n",
    "        nrow, ncol = len(matrix), len(matrix[0])\n",
    "        record = [0] * (ncol+1)\n",
    "        max_len = 0\n",
    "        for i in range(1, nrow+1):\n",
    "            prev = 0\n",
    "            for j in range(1, ncol+1):\n",
    "                temp = record[j]\n",
    "                if matrix[i-1][j-1] == \"0\":\n",
    "                    record[j] = 0\n",
    "                else:\n",
    "                    record[j] = min(prev, temp, record[j-1]) + 1\n",
    "                    max_len = max(max_len, record[j])\n",
    "                prev = temp\n",
    "        return max_len**2"
   ]
  },
  {
   "cell_type": "code",
   "execution_count": 62,
   "metadata": {},
   "outputs": [
    {
     "data": {
      "text/plain": [
       "(4, 1)"
      ]
     },
     "execution_count": 62,
     "metadata": {},
     "output_type": "execute_result"
    }
   ],
   "source": [
    "solver_221 = Solution221()\n",
    "solver_221.maximalSquare([[\"1\",\"0\",\"1\",\"0\",\"0\"],[\"1\",\"0\",\"1\",\"1\",\"1\"],[\"1\",\"1\",\"1\",\"1\",\"1\"],[\"1\",\"0\",\"0\",\"1\",\"0\"]]),\\\n",
    "solver_221.maximalSquare([[\"0\",\"1\"],[\"1\",\"0\"]])"
   ]
  },
  {
   "cell_type": "markdown",
   "metadata": {},
   "source": [
    "## 139. Word Break"
   ]
  },
  {
   "cell_type": "markdown",
   "metadata": {},
   "source": [
    "### self-written Top-down Dynamic Programming with memoization after checking answers"
   ]
  },
  {
   "cell_type": "code",
   "execution_count": 69,
   "metadata": {},
   "outputs": [],
   "source": [
    "class Solution139:\n",
    "    def wordBreak(self, s: str, wordDict: List[str]) -> bool:\n",
    "        memo = [None] * len(s)\n",
    "        def wordBreakHelper(s: str, wordDict: List[str], start: int) -> bool:\n",
    "            if start == len(s):\n",
    "                return True\n",
    "            elif memo[start] is not None:\n",
    "                return memo[start]\n",
    "            else:\n",
    "                for i in range(start+1, len(s)+1):\n",
    "                    if s[start: i] in wordDict and wordBreakHelper(s, wordDict, i):\n",
    "                        memo[start] = True\n",
    "                        return True\n",
    "            memo[start] = False\n",
    "            return False\n",
    "        return wordBreakHelper(s, wordDict, 0)"
   ]
  },
  {
   "cell_type": "code",
   "execution_count": 71,
   "metadata": {},
   "outputs": [
    {
     "data": {
      "text/plain": [
       "(True, True, False)"
      ]
     },
     "execution_count": 71,
     "metadata": {},
     "output_type": "execute_result"
    }
   ],
   "source": [
    "solver_139 = Solution139()\n",
    "solver_139.wordBreak(s = \"leetcode\", wordDict = [\"leet\", \"code\"]),\\\n",
    "solver_139.wordBreak(s = \"applepenapple\", wordDict = [\"apple\", \"pen\"]),\\\n",
    "solver_139.wordBreak(s = \"catsandog\", wordDict = [\"cats\", \"dog\", \"sand\", \"and\", \"cat\"])"
   ]
  },
  {
   "cell_type": "markdown",
   "metadata": {},
   "source": [
    "### self-written Bottom-up Dynamic Programming with for-loop optimization after checking answers"
   ]
  },
  {
   "cell_type": "code",
   "execution_count": 86,
   "metadata": {},
   "outputs": [],
   "source": [
    "class Solution139:\n",
    "    def wordBreak(self, s: str, wordDict: List[str]) -> bool:\n",
    "        if wordDict:\n",
    "            max_len = max(map(len, wordDict))\n",
    "        else:\n",
    "            max_len = len(s)\n",
    "        memo = [False] * (len(s)+1)\n",
    "        memo[0] = True\n",
    "        for i in range(1, len(s)+1):\n",
    "            for j in range(max(0, i-max_len), i):\n",
    "                if memo[j] and s[j: i] in wordDict:\n",
    "                    memo[i] = True\n",
    "                    break\n",
    "        return memo[-1]"
   ]
  },
  {
   "cell_type": "code",
   "execution_count": 88,
   "metadata": {},
   "outputs": [
    {
     "data": {
      "text/plain": [
       "(True, True, False, False)"
      ]
     },
     "execution_count": 88,
     "metadata": {},
     "output_type": "execute_result"
    }
   ],
   "source": [
    "solver_139 = Solution139()\n",
    "solver_139.wordBreak(s = \"leetcode\", wordDict = [\"leet\", \"code\"]),\\\n",
    "solver_139.wordBreak(s = \"applepenapple\", wordDict = [\"apple\", \"pen\"]),\\\n",
    "solver_139.wordBreak(s = \"catsandog\", wordDict = [\"cats\", \"dog\", \"sand\", \"and\", \"cat\"]),\\\n",
    "solver_139.wordBreak(s = \"a\", wordDict = [])"
   ]
  },
  {
   "cell_type": "markdown",
   "metadata": {},
   "source": [
    "### self-written BFS with set optimization, for-loop optimization after checking answers"
   ]
  },
  {
   "cell_type": "code",
   "execution_count": 91,
   "metadata": {},
   "outputs": [],
   "source": [
    "from collections import deque\n",
    "\n",
    "class Solution139:\n",
    "    def wordBreak(self, s: str, wordDict: List[str]) -> bool:\n",
    "        \"\"\"\n",
    "        Keep in mind the visited operation: add and check\n",
    "        \"\"\"\n",
    "        if wordDict:\n",
    "            max_len = max(map(len, wordDict))\n",
    "        else:\n",
    "            max_len = len(s)\n",
    "        wordDict = set(wordDict)\n",
    "            \n",
    "        visited = set()\n",
    "        queue = deque([0])\n",
    "        while queue:\n",
    "            start = queue.popleft()\n",
    "            if start in visited:\n",
    "                continue\n",
    "            for i in range(start+1, min(len(s)+1, start+max_len+1)):\n",
    "                if s[start: i] in wordDict:\n",
    "                    if i == len(s):\n",
    "                        return True\n",
    "                    queue.append(i)\n",
    "            visited.add(start)\n",
    "        return False"
   ]
  },
  {
   "cell_type": "code",
   "execution_count": 92,
   "metadata": {},
   "outputs": [
    {
     "data": {
      "text/plain": [
       "(True, True, False, False)"
      ]
     },
     "execution_count": 92,
     "metadata": {},
     "output_type": "execute_result"
    }
   ],
   "source": [
    "solver_139 = Solution139()\n",
    "solver_139.wordBreak(s = \"leetcode\", wordDict = [\"leet\", \"code\"]),\\\n",
    "solver_139.wordBreak(s = \"applepenapple\", wordDict = [\"apple\", \"pen\"]),\\\n",
    "solver_139.wordBreak(s = \"catsandog\", wordDict = [\"cats\", \"dog\", \"sand\", \"and\", \"cat\"]),\\\n",
    "solver_139.wordBreak(s = \"a\", wordDict = [])"
   ]
  },
  {
   "cell_type": "markdown",
   "metadata": {},
   "source": [
    "## 84. Largest Rectangle in Histogram (topic: array and stack)"
   ]
  },
  {
   "cell_type": "markdown",
   "metadata": {},
   "source": [
    "### self-written brute Force, time limit exceeded"
   ]
  },
  {
   "cell_type": "code",
   "execution_count": 98,
   "metadata": {},
   "outputs": [],
   "source": [
    "class Solution84:\n",
    "    def largestRectangleArea(self, heights: List[int]) -> int:\n",
    "        maxArea = 0\n",
    "        for i in range(len(heights)):\n",
    "            for j in range(i, len(heights)):\n",
    "                maxHeight = min(heights[i:j+1])\n",
    "                maxArea = max((j-i+1)*maxHeight, maxArea)\n",
    "        return maxArea"
   ]
  },
  {
   "cell_type": "code",
   "execution_count": 99,
   "metadata": {},
   "outputs": [
    {
     "data": {
      "text/plain": [
       "(10, 4)"
      ]
     },
     "execution_count": 99,
     "metadata": {},
     "output_type": "execute_result"
    }
   ],
   "source": [
    "solver_84 = Solution84()\n",
    "solver_84.largestRectangleArea([2,1,5,6,2,3]), solver_84.largestRectangleArea([2,4])"
   ]
  },
  {
   "cell_type": "markdown",
   "metadata": {},
   "source": [
    "### self-written two pointer solution, time limit exceeded"
   ]
  },
  {
   "cell_type": "code",
   "execution_count": 100,
   "metadata": {},
   "outputs": [],
   "source": [
    "class Solution84:\n",
    "    def largestRectangleArea(self, heights: List[int]) -> int:\n",
    "        maxArea = 0\n",
    "        for i in range(len(heights)):\n",
    "            minHeight = heights[i]\n",
    "            for j in range(i, len(heights)):\n",
    "                minHeight = min(minHeight, heights[j])\n",
    "                maxArea = max((j-i+1)*minHeight, maxArea)\n",
    "        return maxArea"
   ]
  },
  {
   "cell_type": "code",
   "execution_count": 101,
   "metadata": {},
   "outputs": [
    {
     "data": {
      "text/plain": [
       "(10, 4)"
      ]
     },
     "execution_count": 101,
     "metadata": {},
     "output_type": "execute_result"
    }
   ],
   "source": [
    "solver_84 = Solution84()\n",
    "solver_84.largestRectangleArea([2,1,5,6,2,3]), solver_84.largestRectangleArea([2,4])"
   ]
  },
  {
   "cell_type": "markdown",
   "metadata": {},
   "source": [
    "### self-written stack approach after checking answers, passed all tests"
   ]
  },
  {
   "cell_type": "code",
   "execution_count": 115,
   "metadata": {},
   "outputs": [],
   "source": [
    "class Solution84:\n",
    "    def largestRectangleArea(self, heights: List[int]) -> int:\n",
    "        stack = deque([-1])\n",
    "        maxArea = 0\n",
    "        for i in range(len(heights)):\n",
    "            \"\"\"\n",
    "            during pop operation, in case of a tie, the rightmost bar's area is the actual maximum area.\n",
    "            \"\"\"\n",
    "            while stack[-1] != -1 and heights[stack[-1]] >= heights[i]:\n",
    "                currHeight = heights[stack.pop()]\n",
    "                currWidth = i - stack[-1] - 1\n",
    "                maxArea = max(maxArea, currHeight*currWidth)\n",
    "            stack.append(i)\n",
    "        while stack[-1] != -1:\n",
    "            currHeight = heights[stack.pop()]\n",
    "            currWidth = len(heights) - stack[-1] - 1\n",
    "            maxArea = max(maxArea, currHeight*currWidth)\n",
    "        return maxArea"
   ]
  },
  {
   "cell_type": "code",
   "execution_count": 116,
   "metadata": {},
   "outputs": [
    {
     "data": {
      "text/plain": [
       "(10, 4, 0)"
      ]
     },
     "execution_count": 116,
     "metadata": {},
     "output_type": "execute_result"
    }
   ],
   "source": [
    "solver_84 = Solution84()\n",
    "solver_84.largestRectangleArea([2,1,5,6,2,3]), solver_84.largestRectangleArea([2,4]),\\\n",
    "solver_84.largestRectangleArea([0])"
   ]
  },
  {
   "cell_type": "markdown",
   "metadata": {},
   "source": [
    "### self-written classic divide and conquer approach, time limit exceeded"
   ]
  },
  {
   "cell_type": "markdown",
   "metadata": {},
   "source": [
    "#### There are segment tree algorithm for faster location of min value, to be explored"
   ]
  },
  {
   "cell_type": "code",
   "execution_count": 119,
   "metadata": {},
   "outputs": [],
   "source": [
    "class Solution84:\n",
    "    def largestRectangleArea(self, heights: List[int]) -> int:\n",
    "        def helper(start, end, heights):\n",
    "            if start > end:\n",
    "                return 0\n",
    "            minIndex = start\n",
    "            for i in range(start, end+1):\n",
    "                if heights[i] < heights[minIndex]:\n",
    "                    minIndex = i\n",
    "            leftArea = helper(start, minIndex-1, heights)\n",
    "            rightArea = helper(minIndex+1, end, heights)\n",
    "            middleArea = heights[minIndex] * (end-start+1)           \n",
    "            return max(leftArea, rightArea, middleArea)\n",
    "        return helper(0, len(heights)-1, heights)"
   ]
  },
  {
   "cell_type": "code",
   "execution_count": 120,
   "metadata": {},
   "outputs": [
    {
     "data": {
      "text/plain": [
       "(10, 4, 0)"
      ]
     },
     "execution_count": 120,
     "metadata": {},
     "output_type": "execute_result"
    }
   ],
   "source": [
    "solver_84 = Solution84()\n",
    "solver_84.largestRectangleArea([2,1,5,6,2,3]), solver_84.largestRectangleArea([2,4]),\\\n",
    "solver_84.largestRectangleArea([0])"
   ]
  },
  {
   "cell_type": "markdown",
   "metadata": {},
   "source": [
    "## 85. Maximal Rectangle"
   ]
  },
  {
   "cell_type": "markdown",
   "metadata": {},
   "source": [
    "### self-written dynamic programming based on width-based approach, after checking answers, passed all tests"
   ]
  },
  {
   "cell_type": "code",
   "execution_count": 162,
   "metadata": {},
   "outputs": [],
   "source": [
    "class Solution85:\n",
    "    def maximalRectangle(self, matrix: List[List[str]]) -> int:\n",
    "        widths = dict()\n",
    "        nrow = len(matrix)\n",
    "        if nrow:\n",
    "            ncol = len(matrix[0])\n",
    "        else:\n",
    "            ncol = 0\n",
    "        maxArea = 0\n",
    "        for i in range(nrow):\n",
    "            for j in range(ncol+1):\n",
    "                if j == 0:\n",
    "                    widths[i, j] = 0\n",
    "                else:\n",
    "                    if matrix[i][j-1] == \"0\":\n",
    "                        widths[i, j] = 0\n",
    "                    else:\n",
    "                        widths[i, j] = widths[i, j-1] + 1\n",
    "        for i in range(nrow):\n",
    "            for j in range(1, ncol+1):\n",
    "                maxWidth = widths[i, j]\n",
    "                for k in range(i, -1, -1):\n",
    "                    runningWidth = widths[k, j]\n",
    "                    maxWidth = min(maxWidth, runningWidth)\n",
    "                    if maxWidth == 0:\n",
    "                        break\n",
    "                    currArea = maxWidth*(i-k+1)\n",
    "                    maxArea = max(maxArea, currArea)\n",
    "        return maxArea"
   ]
  },
  {
   "cell_type": "code",
   "execution_count": 163,
   "metadata": {},
   "outputs": [
    {
     "data": {
      "text/plain": [
       "(6, 0, 0)"
      ]
     },
     "execution_count": 163,
     "metadata": {},
     "output_type": "execute_result"
    }
   ],
   "source": [
    "solver_85 = Solution85()\n",
    "solver_85.maximalRectangle([[\"1\",\"0\",\"1\",\"0\",\"0\"],[\"1\",\"0\",\"1\",\"1\",\"1\"],[\"1\",\"1\",\"1\",\"1\",\"1\"],[\"1\",\"0\",\"0\",\"1\",\"0\"]]),\\\n",
    "solver_85.maximalRectangle([[\"0\"]]), solver_85.maximalRectangle([])"
   ]
  },
  {
   "cell_type": "markdown",
   "metadata": {},
   "source": [
    "### self-written stack solution"
   ]
  },
  {
   "cell_type": "code",
   "execution_count": 170,
   "metadata": {},
   "outputs": [],
   "source": [
    "class Solution85:\n",
    "    def maximalRectangle(self, matrix: List[List[str]]) -> int:\n",
    "        \"\"\"\n",
    "        without any guidance to strengthen stack method\n",
    "        \"\"\"\n",
    "        def getMaximumArea(heights):\n",
    "            stack = deque([-1])\n",
    "            maxArea = 0\n",
    "            for i in range(len(heights)):\n",
    "                while stack[-1] != -1 and heights[stack[-1]] >= heights[i]:\n",
    "                    currHeight = heights[stack.pop()]\n",
    "                    currWidth = i - stack[-1] - 1\n",
    "                    maxArea = max(currWidth*currHeight, maxArea)\n",
    "                stack.append(i)\n",
    "            while stack[-1] != -1:\n",
    "                currHeight = heights[stack.pop()]\n",
    "                currWidth = len(heights) - stack[-1] - 1\n",
    "                maxArea = max(currWidth*currHeight, maxArea)\n",
    "            return maxArea\n",
    "        \n",
    "        nrow = len(matrix)\n",
    "        if nrow:\n",
    "            ncol = len(matrix[0])\n",
    "        else:\n",
    "            ncol = 0\n",
    "        heights = [0]*ncol\n",
    "        maxArea = 0\n",
    "        for i in range(nrow):\n",
    "            for j in range(ncol):\n",
    "                if matrix[i][j] == \"1\":\n",
    "                    heights[j] += 1\n",
    "                else:\n",
    "                    heights[j] = 0\n",
    "            maxArea = max(maxArea, getMaximumArea(heights))\n",
    "        return maxArea"
   ]
  },
  {
   "cell_type": "code",
   "execution_count": 171,
   "metadata": {},
   "outputs": [
    {
     "data": {
      "text/plain": [
       "(6, 0, 0)"
      ]
     },
     "execution_count": 171,
     "metadata": {},
     "output_type": "execute_result"
    }
   ],
   "source": [
    "solver_85 = Solution85()\n",
    "solver_85.maximalRectangle([[\"1\",\"0\",\"1\",\"0\",\"0\"],[\"1\",\"0\",\"1\",\"1\",\"1\"],[\"1\",\"1\",\"1\",\"1\",\"1\"],[\"1\",\"0\",\"0\",\"1\",\"0\"]]),\\\n",
    "solver_85.maximalRectangle([[\"0\"]]), solver_85.maximalRectangle([])"
   ]
  },
  {
   "cell_type": "markdown",
   "metadata": {},
   "source": [
    "### self-written construction method, dynamic programming after checking answers"
   ]
  },
  {
   "cell_type": "code",
   "execution_count": 189,
   "metadata": {},
   "outputs": [],
   "source": [
    "class Solution85:\n",
    "    def maximalRectangle(self, matrix: List[List[str]]) -> int:\n",
    "        nrow = len(matrix)\n",
    "        ncol = len(matrix[0]) if nrow else 0\n",
    "        height = [0]*ncol\n",
    "        left = [0]*ncol\n",
    "        right = [ncol]*ncol\n",
    "        maxArea = 0\n",
    "        for i in range(nrow):\n",
    "            curr_left = 0\n",
    "            for j in range(ncol):\n",
    "                height[j] = height[j] + 1 if matrix[i][j] == \"1\" else 0\n",
    "                if matrix[i][j] == \"0\":\n",
    "                    curr_left = j+1\n",
    "                    left[j] = 0\n",
    "                else:\n",
    "                    left[j] = max(left[j], curr_left)\n",
    "            curr_right = ncol\n",
    "            for k in range(ncol-1, -1, -1):\n",
    "                if matrix[i][k] == \"0\":\n",
    "                    curr_right = k\n",
    "                    right[k] = ncol\n",
    "                else:\n",
    "                    right[k] = min(curr_right, right[k])\n",
    "                maxArea = max(maxArea, height[k]*(right[k]-left[k]))\n",
    "        return maxArea"
   ]
  },
  {
   "cell_type": "code",
   "execution_count": 190,
   "metadata": {},
   "outputs": [
    {
     "data": {
      "text/plain": [
       "(6, 0, 0, 6)"
      ]
     },
     "execution_count": 190,
     "metadata": {},
     "output_type": "execute_result"
    }
   ],
   "source": [
    "solver_85 = Solution85()\n",
    "solver_85.maximalRectangle([[\"1\",\"0\",\"1\",\"0\",\"0\"],[\"1\",\"0\",\"1\",\"1\",\"1\"],[\"1\",\"1\",\"1\",\"1\",\"1\"],[\"1\",\"0\",\"0\",\"1\",\"0\"]]),\\\n",
    "solver_85.maximalRectangle([[\"0\"]]), solver_85.maximalRectangle([]),\\\n",
    "solver_85.maximalRectangle([[\"1\",\"0\",\"1\",\"1\",\"1\"],[\"0\",\"1\",\"0\",\"1\",\"0\"],[\"1\",\"1\",\"0\",\"1\",\"1\"],[\"1\",\"1\",\"0\",\"1\",\"1\"],[\"0\",\"1\",\"1\",\"1\",\"1\"]])"
   ]
  },
  {
   "cell_type": "code",
   "execution_count": 191,
   "metadata": {},
   "outputs": [],
   "source": [
    "class Solution85:\n",
    "    def maximalRectangle(self, matrix: List[List[str]]) -> int:\n",
    "        \"\"\"\n",
    "        another way of impelementing, with symmetric beauty but with a +1 when calculating areas\n",
    "        \"\"\"\n",
    "        nrow = len(matrix)\n",
    "        ncol = len(matrix[0]) if nrow else 0\n",
    "        height = [0]*ncol\n",
    "        left = [0]*ncol\n",
    "        right = [ncol-1]*ncol\n",
    "        maxArea = 0\n",
    "        for i in range(nrow):\n",
    "            curr_left = 0\n",
    "            for j in range(ncol):\n",
    "                height[j] = height[j] + 1 if matrix[i][j] == \"1\" else 0\n",
    "                if matrix[i][j] == \"0\":\n",
    "                    curr_left = j+1 \n",
    "                    left[j] = 0\n",
    "                else:\n",
    "                    left[j] = max(left[j], curr_left)\n",
    "            curr_right = ncol-1\n",
    "            for k in range(ncol-1, -1, -1):\n",
    "                if matrix[i][k] == \"0\":\n",
    "                    curr_right = k-1\n",
    "                    right[k] = ncol-1\n",
    "                else:\n",
    "                    right[k] = min(curr_right, right[k])\n",
    "                maxArea = max(maxArea, height[k]*(right[k]-left[k]+1))\n",
    "        return maxArea"
   ]
  },
  {
   "cell_type": "code",
   "execution_count": 192,
   "metadata": {},
   "outputs": [
    {
     "data": {
      "text/plain": [
       "(6, 0, 0, 6)"
      ]
     },
     "execution_count": 192,
     "metadata": {},
     "output_type": "execute_result"
    }
   ],
   "source": [
    "solver_85 = Solution85()\n",
    "solver_85.maximalRectangle([[\"1\",\"0\",\"1\",\"0\",\"0\"],[\"1\",\"0\",\"1\",\"1\",\"1\"],[\"1\",\"1\",\"1\",\"1\",\"1\"],[\"1\",\"0\",\"0\",\"1\",\"0\"]]),\\\n",
    "solver_85.maximalRectangle([[\"0\"]]), solver_85.maximalRectangle([]),\\\n",
    "solver_85.maximalRectangle([[\"1\",\"0\",\"1\",\"1\",\"1\"],[\"0\",\"1\",\"0\",\"1\",\"0\"],[\"1\",\"1\",\"0\",\"1\",\"1\"],[\"1\",\"1\",\"0\",\"1\",\"1\"],[\"0\",\"1\",\"1\",\"1\",\"1\"]])"
   ]
  },
  {
   "cell_type": "markdown",
   "metadata": {},
   "source": [
    "## 91. Decode Ways"
   ]
  },
  {
   "cell_type": "markdown",
   "metadata": {},
   "source": [
    "### self-written top-down dynamic programming with memoization "
   ]
  },
  {
   "cell_type": "code",
   "execution_count": 203,
   "metadata": {},
   "outputs": [],
   "source": [
    "class Solution91:\n",
    "    def numDecodings(self, s: str) -> int:\n",
    "        memo = [None] * len(s)\n",
    "        def helper(start, s):\n",
    "            if start == len(s):\n",
    "                return 1\n",
    "            elif s[start] == \"0\":\n",
    "                return 0\n",
    "            elif memo[start] is not None:\n",
    "                return memo[start]\n",
    "            twoHop = 0\n",
    "            if start < len(s) - 1:\n",
    "                if int(s[start: start+2]) <= 26:\n",
    "                    twoHop = helper(start+2, s)\n",
    "            memo[start] = helper(start+1, s) + twoHop\n",
    "            return memo[start]\n",
    "        return helper(0, s)"
   ]
  },
  {
   "cell_type": "code",
   "execution_count": 206,
   "metadata": {},
   "outputs": [
    {
     "data": {
      "text/plain": [
       "(4, 2, 3, 0, 0)"
      ]
     },
     "execution_count": 206,
     "metadata": {},
     "output_type": "execute_result"
    }
   ],
   "source": [
    "solver_91 = Solution91()\n",
    "solver_91.numDecodings(\"2326\"), solver_91.numDecodings(\"326\"),\\\n",
    "solver_91.numDecodings(\"226\"), solver_91.numDecodings(\"06\"), solver_91.numDecodings(\"909\")"
   ]
  },
  {
   "cell_type": "markdown",
   "metadata": {},
   "source": [
    "### official top-down dynamic programming with memoization"
   ]
  },
  {
   "cell_type": "code",
   "execution_count": 208,
   "metadata": {},
   "outputs": [],
   "source": [
    "from functools import lru_cache\n",
    "\n",
    "class Solution91:\n",
    "    def numDecodings(self, s: str) -> int:\n",
    "        return self.recursiveWithMemo(0, s)\n",
    "        \n",
    "    @lru_cache(maxsize=None)\n",
    "    def recursiveWithMemo(self, index, s) -> int:\n",
    "        # If you reach the end of the string\n",
    "        # Return 1 for success.\n",
    "        if index == len(s):\n",
    "            return 1\n",
    "\n",
    "        # If the string starts with a zero, it can't be decoded\n",
    "        if s[index] == '0':\n",
    "            return 0\n",
    "\n",
    "        if index == len(s)-1:\n",
    "            return 1\n",
    "        \n",
    "        answer = self.recursiveWithMemo(index + 1, s)\n",
    "        if int(s[index : index + 2]) <= 26:\n",
    "            answer += self.recursiveWithMemo(index + 2, s)\n",
    "\n",
    "        return answer    "
   ]
  },
  {
   "cell_type": "code",
   "execution_count": 209,
   "metadata": {},
   "outputs": [
    {
     "data": {
      "text/plain": [
       "(4, 2, 3, 0, 0)"
      ]
     },
     "execution_count": 209,
     "metadata": {},
     "output_type": "execute_result"
    }
   ],
   "source": [
    "solver_91 = Solution91()\n",
    "solver_91.numDecodings(\"2326\"), solver_91.numDecodings(\"326\"),\\\n",
    "solver_91.numDecodings(\"226\"), solver_91.numDecodings(\"06\"), solver_91.numDecodings(\"909\")"
   ]
  },
  {
   "cell_type": "markdown",
   "metadata": {},
   "source": [
    "### self-written bottom-up dynamic programming"
   ]
  },
  {
   "cell_type": "code",
   "execution_count": 211,
   "metadata": {},
   "outputs": [],
   "source": [
    "class Solution91:\n",
    "    def numDecodings(self, s: str) -> int:\n",
    "        if not s:\n",
    "            return 0\n",
    "        if s[0] == \"0\":\n",
    "            return 0\n",
    "        memo = [0]*(len(s)+1)\n",
    "        memo[0] = 1\n",
    "        memo[1] = 1\n",
    "        for i in range(2, len(s)+1):\n",
    "            if s[i-1] != \"0\":\n",
    "                memo[i] += memo[i-1]\n",
    "            if s[i-2] != \"0\" and int(s[i-2:i]) <= 26:\n",
    "                memo[i] += memo[i-2]\n",
    "        return memo[-1]"
   ]
  },
  {
   "cell_type": "code",
   "execution_count": 212,
   "metadata": {},
   "outputs": [
    {
     "data": {
      "text/plain": [
       "(4, 2, 3, 0, 0)"
      ]
     },
     "execution_count": 212,
     "metadata": {},
     "output_type": "execute_result"
    }
   ],
   "source": [
    "solver_91 = Solution91()\n",
    "solver_91.numDecodings(\"2326\"), solver_91.numDecodings(\"326\"),\\\n",
    "solver_91.numDecodings(\"226\"), solver_91.numDecodings(\"06\"), solver_91.numDecodings(\"909\")"
   ]
  },
  {
   "cell_type": "markdown",
   "metadata": {},
   "source": [
    "### bottom-up dynamic programming with memory optimization, self-written after checking answers"
   ]
  },
  {
   "cell_type": "code",
   "execution_count": 217,
   "metadata": {},
   "outputs": [],
   "source": [
    "class Solution91:\n",
    "    def numDecodings(self, s: str) -> int:\n",
    "        if not s:\n",
    "            return 0\n",
    "        if s[0] == \"0\":\n",
    "            return 0\n",
    "        two_back = 1\n",
    "        one_back = 1\n",
    "        curr = 1\n",
    "        for i in range(2, len(s)+1):\n",
    "            curr = 0\n",
    "            if s[i-1] != \"0\":\n",
    "                curr += one_back\n",
    "            if s[i-2] != \"0\" and int(s[i-2:i]) <= 26:\n",
    "                curr += two_back\n",
    "            two_back = one_back\n",
    "            one_back = curr\n",
    "        return curr"
   ]
  },
  {
   "cell_type": "code",
   "execution_count": 219,
   "metadata": {},
   "outputs": [
    {
     "data": {
      "text/plain": [
       "(4, 2, 1, 3, 0, 0)"
      ]
     },
     "execution_count": 219,
     "metadata": {},
     "output_type": "execute_result"
    }
   ],
   "source": [
    "solver_91 = Solution91()\n",
    "solver_91.numDecodings(\"2326\"), solver_91.numDecodings(\"326\"), solver_91.numDecodings(\"1\"),\\\n",
    "solver_91.numDecodings(\"226\"), solver_91.numDecodings(\"06\"), solver_91.numDecodings(\"909\")"
   ]
  },
  {
   "cell_type": "markdown",
   "metadata": {},
   "source": [
    "### official answers with constant space, play around with index"
   ]
  },
  {
   "cell_type": "code",
   "execution_count": 220,
   "metadata": {},
   "outputs": [],
   "source": [
    "class Solution91:\n",
    "    def numDecodings(self, s: str) -> int:\n",
    "        if s[0] == \"0\":\n",
    "            return 0\n",
    "    \n",
    "        two_back = 1\n",
    "        one_back = 1\n",
    "        for i in range(1, len(s)):\n",
    "            current = 0\n",
    "            if s[i] != \"0\":\n",
    "                current = one_back\n",
    "            two_digit = int(s[i - 1: i + 1])\n",
    "            if two_digit >= 10 and two_digit <= 26:\n",
    "                current += two_back\n",
    "            two_back = one_back\n",
    "            one_back = current\n",
    "        \n",
    "        return one_back"
   ]
  },
  {
   "cell_type": "code",
   "execution_count": 221,
   "metadata": {},
   "outputs": [
    {
     "data": {
      "text/plain": [
       "(4, 2, 1, 3, 0, 0)"
      ]
     },
     "execution_count": 221,
     "metadata": {},
     "output_type": "execute_result"
    }
   ],
   "source": [
    "solver_91 = Solution91()\n",
    "solver_91.numDecodings(\"2326\"), solver_91.numDecodings(\"326\"), solver_91.numDecodings(\"1\"),\\\n",
    "solver_91.numDecodings(\"226\"), solver_91.numDecodings(\"06\"), solver_91.numDecodings(\"909\")"
   ]
  },
  {
   "cell_type": "markdown",
   "metadata": {},
   "source": [
    "## 152. Maximum Product Subarray"
   ]
  },
  {
   "cell_type": "markdown",
   "metadata": {},
   "source": [
    "### self-written dynamic programming after checking answers"
   ]
  },
  {
   "cell_type": "code",
   "execution_count": 225,
   "metadata": {},
   "outputs": [],
   "source": [
    "class Solution152:\n",
    "    def maxProduct(self, nums: List[int]) -> int:\n",
    "        \"\"\"\n",
    "        use temp_max to store new max_so_far is important\n",
    "        \"\"\"\n",
    "        if not nums:\n",
    "            return 0\n",
    "        max_so_far = min_so_far = nums[0]\n",
    "        ret = nums[0]\n",
    "        for i in range(1, len(nums)):\n",
    "            temp_max = max(max_so_far*nums[i], nums[i], min_so_far*nums[i])\n",
    "            min_so_far = min(min_so_far*nums[i], nums[i], max_so_far*nums[i])\n",
    "            max_so_far = temp_max\n",
    "            ret = max(max_so_far, ret)\n",
    "        return ret"
   ]
  },
  {
   "cell_type": "code",
   "execution_count": 226,
   "metadata": {},
   "outputs": [
    {
     "data": {
      "text/plain": [
       "(6, 0)"
      ]
     },
     "execution_count": 226,
     "metadata": {},
     "output_type": "execute_result"
    }
   ],
   "source": [
    "solver_152 = Solution152()\n",
    "solver_152.maxProduct([2,3,-2,4]), solver_152.maxProduct([-2, 0, -1])"
   ]
  },
  {
   "cell_type": "markdown",
   "metadata": {},
   "source": [
    "### official solution"
   ]
  },
  {
   "cell_type": "code",
   "execution_count": 227,
   "metadata": {},
   "outputs": [],
   "source": [
    "class Solution152:\n",
    "    def maxProduct(self, nums: List[int]) -> int:\n",
    "        if len(nums) == 0:\n",
    "            return 0\n",
    "\n",
    "        max_so_far = nums[0]\n",
    "        min_so_far = nums[0]\n",
    "        result = max_so_far\n",
    "\n",
    "        for i in range(1, len(nums)):\n",
    "            curr = nums[i]\n",
    "            temp_max = max(curr, max_so_far * curr, min_so_far * curr)\n",
    "            min_so_far = min(curr, max_so_far * curr, min_so_far * curr)\n",
    "\n",
    "            max_so_far = temp_max\n",
    "\n",
    "            result = max(max_so_far, result)\n",
    "\n",
    "        return result"
   ]
  },
  {
   "cell_type": "code",
   "execution_count": 228,
   "metadata": {},
   "outputs": [
    {
     "data": {
      "text/plain": [
       "(6, 0)"
      ]
     },
     "execution_count": 228,
     "metadata": {},
     "output_type": "execute_result"
    }
   ],
   "source": [
    "solver_152 = Solution152()\n",
    "solver_152.maxProduct([2,3,-2,4]), solver_152.maxProduct([-2, 0, -1])"
   ]
  },
  {
   "cell_type": "markdown",
   "metadata": {},
   "source": [
    "## 322. Coin Change"
   ]
  },
  {
   "cell_type": "markdown",
   "metadata": {},
   "source": [
    "### self-written bottom-up dynamic programming solution, passed all tests"
   ]
  },
  {
   "cell_type": "code",
   "execution_count": 239,
   "metadata": {},
   "outputs": [],
   "source": [
    "class Solution322:\n",
    "    def coinChange(self, coins: List[int], amount: int) -> int:\n",
    "        memo = [-1]*(amount+1)\n",
    "        memo[0] = 0\n",
    "        for i in range(1, amount+1):\n",
    "            minStep = i+1 # cause coins are integers\n",
    "            for coin in coins:\n",
    "                if i-coin >= 0 and memo[i-coin] != -1:\n",
    "                    minStep = min(minStep, memo[i-coin]+1)\n",
    "            if minStep != i+1:\n",
    "                memo[i] = minStep\n",
    "        return memo[-1]"
   ]
  },
  {
   "cell_type": "code",
   "execution_count": 240,
   "metadata": {},
   "outputs": [
    {
     "data": {
      "text/plain": [
       "(3, -1)"
      ]
     },
     "execution_count": 240,
     "metadata": {},
     "output_type": "execute_result"
    }
   ],
   "source": [
    "solver_322 = Solution322()\n",
    "solver_322.coinChange(coins = [1,2,5], amount = 11), solver_322.coinChange(coins = [2], amount = 3) "
   ]
  },
  {
   "cell_type": "markdown",
   "metadata": {},
   "source": [
    "### self-written top-down dynamic programming solution, time limit exceeded"
   ]
  },
  {
   "cell_type": "code",
   "execution_count": 257,
   "metadata": {},
   "outputs": [],
   "source": [
    "class Solution322:\n",
    "    def coinChange(self, coins: List[int], amount: int) -> int:\n",
    "        \"\"\"\n",
    "        with a greedy strategy (not useful)\n",
    "        this one is updated below, it encompasses legacies from a wrong method.\n",
    "        \"\"\"\n",
    "        coins.sort(reverse=True)\n",
    "        memo = [None]*(amount+1)\n",
    "        memo[0] = 0\n",
    "        def helper(coins, amount):\n",
    "            if memo[amount] is not None:\n",
    "                return memo[amount]\n",
    "            minStep = amount+1\n",
    "            for coin in coins:\n",
    "                for i in range(amount//coin, 0, -1):\n",
    "                    ret = helper(coins, amount-i*coin)\n",
    "                    if ret != -1:\n",
    "                        minStep = min(minStep, ret + i)\n",
    "            if minStep == amount+1:\n",
    "                memo[amount] = -1\n",
    "            else:\n",
    "                memo[amount] = minStep\n",
    "            return memo[amount]\n",
    "        return helper(coins, amount)"
   ]
  },
  {
   "cell_type": "code",
   "execution_count": 258,
   "metadata": {},
   "outputs": [
    {
     "data": {
      "text/plain": [
       "(3, -1)"
      ]
     },
     "execution_count": 258,
     "metadata": {},
     "output_type": "execute_result"
    }
   ],
   "source": [
    "solver_322 = Solution322()\n",
    "solver_322.coinChange(coins = [1,2,5], amount = 11), solver_322.coinChange(coins = [2], amount = 3) "
   ]
  },
  {
   "cell_type": "markdown",
   "metadata": {},
   "source": [
    "### self-written top-down dynamic programming solution, passed all tests"
   ]
  },
  {
   "cell_type": "code",
   "execution_count": 273,
   "metadata": {},
   "outputs": [],
   "source": [
    "class Solution322:\n",
    "    def coinChange(self, coins: List[int], amount: int) -> int:\n",
    "        \"\"\"\n",
    "        Supposedly this one should be faster as it omits the computation for some amounts,\n",
    "        but it turns out that this solution is way slower,\n",
    "        this question to be investigated.\n",
    "        \"\"\"\n",
    "        memo = [None]*(amount+1)\n",
    "        memo[0] = 0\n",
    "        def helper(coins, amount):\n",
    "            if memo[amount] is not None:\n",
    "                return memo[amount]\n",
    "            minStep = amount+1\n",
    "            for coin in coins:\n",
    "                if amount-coin >= 0:\n",
    "                    ret = helper(coins, amount-coin)\n",
    "                    if ret != -1:\n",
    "                        minStep = min(minStep, ret+1)\n",
    "            if minStep == amount+1:\n",
    "                memo[amount] = -1\n",
    "            else:\n",
    "                memo[amount] = minStep\n",
    "            return memo[amount]\n",
    "        ret = helper(coins, amount)\n",
    "        return ret"
   ]
  },
  {
   "cell_type": "code",
   "execution_count": 274,
   "metadata": {},
   "outputs": [
    {
     "data": {
      "text/plain": [
       "(3, -1)"
      ]
     },
     "execution_count": 274,
     "metadata": {},
     "output_type": "execute_result"
    }
   ],
   "source": [
    "solver_322 = Solution322()\n",
    "solver_322.coinChange(coins = [1,2,5], amount = 11), solver_322.coinChange(coins = [2], amount = 3) "
   ]
  },
  {
   "cell_type": "markdown",
   "metadata": {},
   "source": [
    "### self-written top-down dynamic programming solution"
   ]
  },
  {
   "cell_type": "code",
   "execution_count": 277,
   "metadata": {},
   "outputs": [],
   "source": [
    "class Solution322:\n",
    "    def coinChange(self, coins: List[int], amount: int) -> int:\n",
    "        \"\"\"\n",
    "        use dictionary to store computed values,\n",
    "        doesn't make much difference.\n",
    "        \"\"\"\n",
    "        memo = dict()\n",
    "        memo[0] = 0\n",
    "        def helper(coins, amount):\n",
    "            if amount in memo:\n",
    "                return memo[amount]\n",
    "            minStep = amount+1\n",
    "            for coin in coins:\n",
    "                if amount-coin >= 0:\n",
    "                    ret = helper(coins, amount-coin)\n",
    "                    if ret != -1:\n",
    "                        minStep = min(minStep, ret+1)\n",
    "            if minStep == amount+1:\n",
    "                memo[amount] = -1\n",
    "            else:\n",
    "                memo[amount] = minStep\n",
    "            return memo[amount]\n",
    "        ret = helper(coins, amount)\n",
    "        return ret"
   ]
  },
  {
   "cell_type": "code",
   "execution_count": 278,
   "metadata": {},
   "outputs": [
    {
     "data": {
      "text/plain": [
       "(3, -1)"
      ]
     },
     "execution_count": 278,
     "metadata": {},
     "output_type": "execute_result"
    }
   ],
   "source": [
    "solver_322 = Solution322()\n",
    "solver_322.coinChange(coins = [1,2,5], amount = 11), solver_322.coinChange(coins = [2], amount = 3) "
   ]
  },
  {
   "cell_type": "markdown",
   "metadata": {},
   "source": [
    "## 312. Burst Balloons (pretty hard)"
   ]
  },
  {
   "cell_type": "markdown",
   "metadata": {},
   "source": [
    "### self-written top-down dynamic programming with memoization after checking answers, time limit exceeded"
   ]
  },
  {
   "cell_type": "code",
   "execution_count": 289,
   "metadata": {},
   "outputs": [],
   "source": [
    "class Solution312:\n",
    "    def maxCoins(self, nums: List[int]) -> int:\n",
    "        memo = dict()\n",
    "        nums = [1] + nums + [1]\n",
    "        def helper(start, end, nums):\n",
    "            if start+1 == end:\n",
    "                return 0\n",
    "            if (start, end) in memo:\n",
    "                return memo[start, end]\n",
    "            maxScore = 0\n",
    "            for i in range(start+1, end):\n",
    "                left = helper(start, i, nums)\n",
    "                right = helper(i, end, nums)\n",
    "                middle = nums[i]*nums[start]*nums[end]\n",
    "                maxScore = max(maxScore, left+right+middle)\n",
    "            memo[start, end] = maxScore\n",
    "            return memo[start, end]\n",
    "        return helper(0, len(nums)-1, nums)"
   ]
  },
  {
   "cell_type": "code",
   "execution_count": 290,
   "metadata": {},
   "outputs": [
    {
     "data": {
      "text/plain": [
       "(167, 10)"
      ]
     },
     "execution_count": 290,
     "metadata": {},
     "output_type": "execute_result"
    }
   ],
   "source": [
    "solver_312 = Solution312()\n",
    "solver_312.maxCoins([3, 1, 5, 8]), solver_312.maxCoins([1, 5])"
   ]
  },
  {
   "cell_type": "markdown",
   "metadata": {},
   "source": [
    "### official top-down dynamic programming solution, passed all tests"
   ]
  },
  {
   "cell_type": "code",
   "execution_count": 291,
   "metadata": {},
   "outputs": [],
   "source": [
    "class Solution312:\n",
    "    def maxCoins(self, nums: List[int]) -> int:\n",
    "        nums = [1] + nums + [1]\n",
    "        @lru_cache(None)\n",
    "        def dp(left, right):\n",
    "            if left + 1 == right: return 0\n",
    "            return max(nums[left] * nums[i] * nums[right] + dp(left, i) + dp(i, right) for i in range(left+1, right))\n",
    "        return dp(0, len(nums)-1)"
   ]
  },
  {
   "cell_type": "code",
   "execution_count": 292,
   "metadata": {},
   "outputs": [
    {
     "data": {
      "text/plain": [
       "(167, 10)"
      ]
     },
     "execution_count": 292,
     "metadata": {},
     "output_type": "execute_result"
    }
   ],
   "source": [
    "solver_312 = Solution312()\n",
    "solver_312.maxCoins([3, 1, 5, 8]), solver_312.maxCoins([1, 5])"
   ]
  },
  {
   "cell_type": "markdown",
   "metadata": {},
   "source": [
    "### self-written bottom-up solution, passed all tests"
   ]
  },
  {
   "cell_type": "code",
   "execution_count": 299,
   "metadata": {},
   "outputs": [],
   "source": [
    "class Solution312:\n",
    "    def maxCoins(self, nums: List[int]) -> int:\n",
    "        length = len(nums)\n",
    "        nums = [1] + nums + [1]\n",
    "        memo = dict()\n",
    "        \"\"\"\n",
    "        base case\n",
    "        \"\"\"\n",
    "        for i in range(length+1):\n",
    "            memo[i, i+1] = 0\n",
    "        \"\"\"\n",
    "        start with interval of length 1\n",
    "         \"\"\"\n",
    "        for l in range(1, length+1):\n",
    "            for start in range(length-l+1):\n",
    "                end = start+l+1\n",
    "                memo[start, end] = max([memo[start, k] + memo[k, end] + nums[start]*nums[end]*nums[k] for k in range(start+1, end)])\n",
    "        return memo[0, length+1]"
   ]
  },
  {
   "cell_type": "code",
   "execution_count": 300,
   "metadata": {},
   "outputs": [
    {
     "data": {
      "text/plain": [
       "(167, 10)"
      ]
     },
     "execution_count": 300,
     "metadata": {},
     "output_type": "execute_result"
    }
   ],
   "source": [
    "solver_312 = Solution312()\n",
    "solver_312.maxCoins([3, 1, 5, 8]), solver_312.maxCoins([1, 5])"
   ]
  },
  {
   "cell_type": "markdown",
   "metadata": {},
   "source": [
    "### official bottom-up dynamic programming solution"
   ]
  },
  {
   "cell_type": "code",
   "execution_count": 301,
   "metadata": {},
   "outputs": [],
   "source": [
    "class Solution312:\n",
    "    def maxCoins(self, nums: List[int]) -> int:\n",
    "        nums = [1] + nums + [1]\n",
    "        n = len(nums)\n",
    "        dp = [[0] * n for _ in range(n)]\n",
    "        for left in range(n-2, -1, -1):\n",
    "            for right in range(left+2, n):\n",
    "                # same formula to get the best score from (left, right) as before\n",
    "                dp[left][right] = max(nums[left] * nums[i] * nums[right] + dp[left][i] + dp[i][right] for i in range(left+1, right))\n",
    "\n",
    "        return dp[0][n-1]"
   ]
  },
  {
   "cell_type": "code",
   "execution_count": 302,
   "metadata": {},
   "outputs": [
    {
     "data": {
      "text/plain": [
       "(167, 10)"
      ]
     },
     "execution_count": 302,
     "metadata": {},
     "output_type": "execute_result"
    }
   ],
   "source": [
    "solver_312 = Solution312()\n",
    "solver_312.maxCoins([3, 1, 5, 8]), solver_312.maxCoins([1, 5])"
   ]
  },
  {
   "cell_type": "markdown",
   "metadata": {},
   "source": [
    "## 42. Trapping Rain Water"
   ]
  },
  {
   "cell_type": "markdown",
   "metadata": {},
   "source": [
    "### self-written dynamic programming solution, passed all tests"
   ]
  },
  {
   "cell_type": "code",
   "execution_count": 309,
   "metadata": {},
   "outputs": [],
   "source": [
    "class Solution42:\n",
    "    def trap(self, height: List[int]) -> int:\n",
    "        if not height:\n",
    "            return 0\n",
    "        max_left = [0]*len(height)\n",
    "        max_right = [0]*len(height)\n",
    "        max_left_so_far = height[0]\n",
    "        max_right_so_far = height[-1]\n",
    "        sum_area = 0\n",
    "        for i in range(len(height)):\n",
    "            max_left_so_far = max(max_left_so_far, height[i])\n",
    "            max_left[i] = max_left_so_far\n",
    "        for j in range(len(height)-1, -1, -1):\n",
    "            max_right_so_far = max(max_right_so_far, height[j])\n",
    "            max_right[j] = max_right_so_far\n",
    "        for k in range(len(height)):\n",
    "            sum_area += min(max_left[k], max_right[k]) - height[k]\n",
    "        return sum_area"
   ]
  },
  {
   "cell_type": "code",
   "execution_count": 310,
   "metadata": {},
   "outputs": [
    {
     "data": {
      "text/plain": [
       "(6, 9)"
      ]
     },
     "execution_count": 310,
     "metadata": {},
     "output_type": "execute_result"
    }
   ],
   "source": [
    "solver_42 = Solution42()\n",
    "solver_42.trap([0,1,0,2,1,0,1,3,2,1,2,1]), solver_42.trap([4,2,0,3,2,5])"
   ]
  },
  {
   "cell_type": "markdown",
   "metadata": {},
   "source": [
    "### official dynamic programming solution"
   ]
  },
  {
   "cell_type": "code",
   "execution_count": 311,
   "metadata": {},
   "outputs": [],
   "source": [
    "class Solution42:\n",
    "    \"\"\"\n",
    "    use slightly less space\n",
    "    \"\"\"\n",
    "    def trap(self, height: List[int]) -> int:\n",
    "        if not height:\n",
    "            return 0\n",
    "        max_left = [0]*len(height)\n",
    "        max_right = [0]*len(height)\n",
    "        max_left[0] = height[0]\n",
    "        max_right[-1] = height[-1]\n",
    "        sum_area = 0\n",
    "        for i in range(1, len(height)):\n",
    "            max_left[i] = max(max_left[i-1], height[i])\n",
    "        for j in range(len(height)-2, -1, -1):\n",
    "            max_right[j] = max(max_right[j+1], height[j])\n",
    "        for k in range(len(height)):\n",
    "            sum_area += min(max_left[k], max_right[k]) - height[k]\n",
    "        return sum_area"
   ]
  },
  {
   "cell_type": "code",
   "execution_count": 312,
   "metadata": {},
   "outputs": [
    {
     "data": {
      "text/plain": [
       "(6, 9)"
      ]
     },
     "execution_count": 312,
     "metadata": {},
     "output_type": "execute_result"
    }
   ],
   "source": [
    "solver_42 = Solution42()\n",
    "solver_42.trap([0,1,0,2,1,0,1,3,2,1,2,1]), solver_42.trap([4,2,0,3,2,5])"
   ]
  },
  {
   "cell_type": "markdown",
   "metadata": {},
   "source": [
    "### self-written stack approach, after checking answers"
   ]
  },
  {
   "cell_type": "code",
   "execution_count": 313,
   "metadata": {},
   "outputs": [],
   "source": [
    "class Solution42:\n",
    "    def trap(self, height: List[int]) -> int:\n",
    "        \"\"\"\n",
    "        with the help of pseudocode and youtube video\n",
    "        genius approach!\n",
    "        \"\"\"\n",
    "        if not height:\n",
    "            return 0\n",
    "        area = 0\n",
    "        stack = deque()\n",
    "        for i in range(len(height)):\n",
    "            while stack and height[stack[-1]] < height[i]:\n",
    "                top = stack.pop()\n",
    "                if not stack: # in case the bars increase monotically at the beginning\n",
    "                    break \n",
    "                area += (min(height[stack[-1]], height[i])-height[top])*(i-stack[-1]-1)\n",
    "            stack.append(i)\n",
    "        return area"
   ]
  },
  {
   "cell_type": "code",
   "execution_count": 314,
   "metadata": {},
   "outputs": [
    {
     "data": {
      "text/plain": [
       "(6, 9)"
      ]
     },
     "execution_count": 314,
     "metadata": {},
     "output_type": "execute_result"
    }
   ],
   "source": [
    "solver_42 = Solution42()\n",
    "solver_42.trap([0,1,0,2,1,0,1,3,2,1,2,1]), solver_42.trap([4,2,0,3,2,5])"
   ]
  },
  {
   "cell_type": "markdown",
   "metadata": {},
   "source": [
    "### self-written two-pointer approach, after checking answers,  can't understand fully, to be explored"
   ]
  },
  {
   "cell_type": "code",
   "execution_count": 317,
   "metadata": {},
   "outputs": [],
   "source": [
    "class Solution42:\n",
    "    def trap(self, height: List[int]) -> int:\n",
    "        \"\"\"\n",
    "        this is so hard......\n",
    "        with the help of pseudocode\n",
    "        still can't fully understand for now\n",
    "        \"\"\"\n",
    "        left, right = 0, len(height)-1\n",
    "        left_max, right_max = 0, 0\n",
    "        area = 0\n",
    "        while left < right:\n",
    "            if height[left] < height[right]:\n",
    "                if height[left] > left_max:\n",
    "                    left_max = height[left]\n",
    "                elif height[left] < left_max:\n",
    "                    area += left_max-height[left]\n",
    "                left += 1\n",
    "            else:\n",
    "                if height[right] > right_max:\n",
    "                    right_max = height[right]\n",
    "                elif height[right] < right_max:\n",
    "                    area += right_max-height[right]\n",
    "                right -= 1\n",
    "        return area"
   ]
  },
  {
   "cell_type": "code",
   "execution_count": 318,
   "metadata": {},
   "outputs": [
    {
     "data": {
      "text/plain": [
       "(6, 9)"
      ]
     },
     "execution_count": 318,
     "metadata": {},
     "output_type": "execute_result"
    }
   ],
   "source": [
    "solver_42 = Solution42()\n",
    "solver_42.trap([0,1,0,2,1,0,1,3,2,1,2,1]), solver_42.trap([4,2,0,3,2,5])"
   ]
  },
  {
   "cell_type": "markdown",
   "metadata": {},
   "source": [
    "## 10. Regular Expression Matching"
   ]
  },
  {
   "cell_type": "markdown",
   "metadata": {},
   "source": [
    "### self-written recursive solution after checking answers, passed all tests"
   ]
  },
  {
   "cell_type": "code",
   "execution_count": 321,
   "metadata": {},
   "outputs": [],
   "source": [
    "class Solution10:\n",
    "    def isMatch(self, s: str, p: str) -> bool:\n",
    "        if not p:\n",
    "            return not s\n",
    "        first_match = s and (p[0] == s[0] or p[0] == '.')\n",
    "        if len(p) >= 2 and p[1] == '*':\n",
    "            return self.isMatch(s, p[2:]) or (first_match and self.isMatch(s[1:], p))\n",
    "        return first_match and self.isMatch(s[1:], p[1:])"
   ]
  },
  {
   "cell_type": "code",
   "execution_count": 322,
   "metadata": {},
   "outputs": [
    {
     "data": {
      "text/plain": [
       "(False, True, True, True, False)"
      ]
     },
     "execution_count": 322,
     "metadata": {},
     "output_type": "execute_result"
    }
   ],
   "source": [
    "solver_10 = Solution10()\n",
    "solver_10.isMatch(s = \"aa\", p = \"a\"), solver_10.isMatch(s = \"aa\", p = \"a*\"),\\\n",
    "solver_10.isMatch(s = \"ab\", p = \".*\"), solver_10.isMatch(s = \"aab\", p = \"c*a*b\"),\\\n",
    "solver_10.isMatch(s = \"mississippi\", p = \"mis*is*p*.\")"
   ]
  },
  {
   "cell_type": "markdown",
   "metadata": {},
   "source": [
    "### self-written top-down dynamic programming with memoization modified from code above"
   ]
  },
  {
   "cell_type": "code",
   "execution_count": 338,
   "metadata": {},
   "outputs": [],
   "source": [
    "class Solution10:\n",
    "    def isMatch(self, s: str, p: str) -> bool:\n",
    "        if not p:\n",
    "            return not s\n",
    "        len_s = len(s)\n",
    "        len_p = len(p)\n",
    "        memo = dict()\n",
    "        def helper(i, j):\n",
    "            if j == len_p:\n",
    "                return i == len_s\n",
    "            if (i, j) in memo:\n",
    "                return memo[i, j]\n",
    "            first_match = i < len_s and (p[j] == '.' or p[j] == s[i])\n",
    "            if j+1 < len_p and p[j+1] == '*':\n",
    "                \"\"\"\n",
    "                It seems it is necessary to put helper(i, j+2) in front\n",
    "                s = '', p = 'a*'\n",
    "                \"\"\"\n",
    "                memo[i, j] = helper(i, j+2) or (first_match and helper(i+1, j))\n",
    "                return memo[i, j]\n",
    "            memo[i, j] = first_match and helper(i+1, j+1)\n",
    "            return memo[i, j]\n",
    "        return helper(0, 0)"
   ]
  },
  {
   "cell_type": "code",
   "execution_count": 339,
   "metadata": {},
   "outputs": [
    {
     "data": {
      "text/plain": [
       "(False, True, True, True, False)"
      ]
     },
     "execution_count": 339,
     "metadata": {},
     "output_type": "execute_result"
    }
   ],
   "source": [
    "solver_10 = Solution10()\n",
    "solver_10.isMatch(s = \"aa\", p = \"a\"), solver_10.isMatch(s = \"aa\", p = \"a*\"),\\\n",
    "solver_10.isMatch(s = \"ab\", p = \".*\"), solver_10.isMatch(s = \"aab\", p = \"c*a*b\"),\\\n",
    "solver_10.isMatch(s = \"mississippi\", p = \"mis*is*p*.\")"
   ]
  },
  {
   "cell_type": "markdown",
   "metadata": {},
   "source": [
    "### self-written bottom-up dynamic programming modified from code above"
   ]
  },
  {
   "cell_type": "code",
   "execution_count": 340,
   "metadata": {},
   "outputs": [],
   "source": [
    "class Solution10:\n",
    "    def isMatch(self, s: str, p: str) -> bool:\n",
    "        \"\"\"\n",
    "        This is much harder...but can handle\n",
    "        \"\"\"\n",
    "        if not p:\n",
    "            return not s\n",
    "        len_s = len(s)\n",
    "        len_p = len(p)\n",
    "        memo = dict()\n",
    "        memo[len_s, len_p] = True\n",
    "        for i in range(len_s):\n",
    "            memo[i, len_p] = False # non-empty string will never match empty pattern\n",
    "        for i in range(len_s, -1, -1):\n",
    "            \"\"\"\n",
    "            it is important to notice here that i starts from 'empty'\n",
    "            intuively, '' matches '[(.*)]*'\n",
    "            so it is possible that last character in s matches something in middle of the pattern\n",
    "            \"\"\"\n",
    "            for j in range(len_p-1, -1, -1):\n",
    "                first_match = i < len_s and (p[j] == s[i] or p[j] == '.')\n",
    "                if j+1 < len_p and p[j+1] == '*':\n",
    "                    memo[i, j] = memo[i, j+2] or (first_match and memo[i+1, j])\n",
    "                else:\n",
    "                    memo[i, j] = first_match and memo[i+1, j+1]\n",
    "        return memo[0, 0]"
   ]
  },
  {
   "cell_type": "code",
   "execution_count": 341,
   "metadata": {},
   "outputs": [
    {
     "data": {
      "text/plain": [
       "(False, True, True, True, False)"
      ]
     },
     "execution_count": 341,
     "metadata": {},
     "output_type": "execute_result"
    }
   ],
   "source": [
    "solver_10 = Solution10()\n",
    "solver_10.isMatch(s = \"aa\", p = \"a\"), solver_10.isMatch(s = \"aa\", p = \"a*\"),\\\n",
    "solver_10.isMatch(s = \"ab\", p = \".*\"), solver_10.isMatch(s = \"aab\", p = \"c*a*b\"),\\\n",
    "solver_10.isMatch(s = \"mississippi\", p = \"mis*is*p*.\")"
   ]
  },
  {
   "cell_type": "markdown",
   "metadata": {},
   "source": [
    "## 1235. Maximum Profit in Job Scheduling (hard, no official solution)"
   ]
  },
  {
   "cell_type": "markdown",
   "metadata": {},
   "source": [
    "### self-written bottom-up dynamic programming solution, without any reference, time limit exceeded"
   ]
  },
  {
   "cell_type": "code",
   "execution_count": 362,
   "metadata": {},
   "outputs": [],
   "source": [
    "from collections import defaultdict\n",
    "\n",
    "class Solution1235:\n",
    "    def jobScheduling(self, startTime: List[int], endTime: List[int], profit: List[int]) -> int:\n",
    "        index_sorted = sorted(range(len(startTime)), key=lambda k: startTime[k])\n",
    "        lastEnd = max(endTime)\n",
    "#         dp = [0]*(startTime[index_sorted[-1]]+1) # store (profit, start_idx)\n",
    "        dp = [0]*(lastEnd+1)\n",
    "        startTimeDict = defaultdict(list)\n",
    "        for i in range(len(startTime)):\n",
    "            startTimeDict[startTime[i]].append(i)\n",
    "#         print(startTimeDict)\n",
    "        lastStart = startTime[index_sorted[-1]]\n",
    "#         dp[lastStart] = max([profit[idx] for idx in startTimeDict[lastStart]])\n",
    "        for start_time in range(lastStart, 0, -1):\n",
    "            jobMax = 0\n",
    "            if start_time in startTimeDict:\n",
    "#                 print([profit[idx] + dp[endTime[idx]] for idx in startTimeDict[start_time]])\n",
    "                jobMax = max([profit[idx] + dp[endTime[idx]] for idx in startTimeDict[start_time]])\n",
    "#                 print(i)\n",
    "#                 print(jobMax)\n",
    "            nojobMax = max(dp[start_time+1:])\n",
    "#             print(jobMax)\n",
    "            dp[start_time] = max(jobMax, nojobMax)\n",
    "#         print(dp)\n",
    "        return dp[1]"
   ]
  },
  {
   "cell_type": "code",
   "execution_count": 363,
   "metadata": {},
   "outputs": [
    {
     "data": {
      "text/plain": [
       "(120, 150, 6)"
      ]
     },
     "execution_count": 363,
     "metadata": {},
     "output_type": "execute_result"
    }
   ],
   "source": [
    "solver_1235 = Solution1235()\n",
    "solver_1235.jobScheduling(startTime = [1,2,3,3], endTime = [3,4,5,6], profit = [50,10,40,70]),\\\n",
    "solver_1235.jobScheduling(startTime = [1,2,3,4,6], endTime = [3,5,10,6,9], profit = [20,20,100,70,60]),\\\n",
    "solver_1235.jobScheduling(startTime = [1,1,1], endTime = [2,3,4], profit = [5,6,4])"
   ]
  },
  {
   "cell_type": "markdown",
   "metadata": {},
   "source": [
    "### self-written bottom-up dynamic programming solution with a little bit optimization, passed all tests"
   ]
  },
  {
   "cell_type": "code",
   "execution_count": 366,
   "metadata": {},
   "outputs": [],
   "source": [
    "from collections import defaultdict\n",
    "\n",
    "class Solution1235:\n",
    "    def jobScheduling(self, startTime: List[int], endTime: List[int], profit: List[int]) -> int:\n",
    "        \"\"\"\n",
    "        with a little bit optimization on nojobMax\n",
    "        \"\"\"\n",
    "        index_sorted = sorted(range(len(startTime)), key=lambda k: startTime[k])\n",
    "        lastEnd = max(endTime)\n",
    "#         dp = [0]*(startTime[index_sorted[-1]]+1) # store (profit, start_idx)\n",
    "        dp = [0]*(lastEnd+1)\n",
    "        startTimeDict = defaultdict(list)\n",
    "        for i in range(len(startTime)):\n",
    "            startTimeDict[startTime[i]].append(i)\n",
    "#         print(startTimeDict)\n",
    "        lastStart = startTime[index_sorted[-1]]\n",
    "#         dp[lastStart] = max([profit[idx] for idx in startTimeDict[lastStart]])\n",
    "        nojobMax = 0\n",
    "        for start_time in range(lastStart, 0, -1):\n",
    "            jobMax = 0\n",
    "            if start_time in startTimeDict:\n",
    "#                 print([profit[idx] + dp[endTime[idx]] for idx in startTimeDict[start_time]])\n",
    "                jobMax = max([profit[idx] + dp[endTime[idx]] for idx in startTimeDict[start_time]])\n",
    "#                 print(i)\n",
    "#                 print(jobMax)\n",
    "            nojobMax = max(dp[start_time+1], nojobMax)\n",
    "#             print(jobMax)\n",
    "            dp[start_time] = max(jobMax, nojobMax)\n",
    "#         print(dp)\n",
    "        return dp[1]"
   ]
  },
  {
   "cell_type": "code",
   "execution_count": 367,
   "metadata": {},
   "outputs": [
    {
     "data": {
      "text/plain": [
       "(120, 150, 6)"
      ]
     },
     "execution_count": 367,
     "metadata": {},
     "output_type": "execute_result"
    }
   ],
   "source": [
    "solver_1235 = Solution1235()\n",
    "solver_1235.jobScheduling(startTime = [1,2,3,3], endTime = [3,4,5,6], profit = [50,10,40,70]),\\\n",
    "solver_1235.jobScheduling(startTime = [1,2,3,4,6], endTime = [3,5,10,6,9], profit = [20,20,100,70,60]),\\\n",
    "solver_1235.jobScheduling(startTime = [1,1,1], endTime = [2,3,4], profit = [5,6,4])"
   ]
  },
  {
   "cell_type": "markdown",
   "metadata": {},
   "source": [
    "## 1335. Minimum Difficulty of a Job Schedule (hard, no official solution)"
   ]
  },
  {
   "cell_type": "markdown",
   "metadata": {},
   "source": [
    "### self-written bottom-up dynamic programming solution, without any reference, passed all tests"
   ]
  },
  {
   "cell_type": "code",
   "execution_count": 384,
   "metadata": {},
   "outputs": [],
   "source": [
    "class Solution1335:\n",
    "    def minDifficulty(self, jobDifficulty: List[int], d: int) -> int:\n",
    "        \"\"\"\n",
    "        assign jobs from the end to the beginning\n",
    "        if l = 7, d = 3\n",
    "        dp[i][j] represents job[i:] is done and j days remain\n",
    "        [7, 3]\n",
    "        inf    [6, 2]\n",
    "        inf    [5, 2] [5, 1]\n",
    "        inf    [4, 2] [4, 1]\n",
    "        inf    [3, 2] [3, 1]\n",
    "               [2, 2] [2, 1]\n",
    "                      [1, 1]\n",
    "                             [0, 0]\n",
    "        \"\"\"\n",
    "        l = len(jobDifficulty)\n",
    "        if l < d:\n",
    "            return -1\n",
    "        dp = [[float('inf')]*(d+1) for _ in range(l+1)]\n",
    "        dp[l][d] = 0\n",
    "        for day in range(d-1, 0, -1):\n",
    "            for idx in range(l-d+day, day-1, -1):\n",
    "                dp[idx][day] = min(dp[i][day+1]+max(jobDifficulty[idx:i]) for i in range(l-d+day+1, idx, -1))\n",
    "        dp[0][0] = min(dp[i][1]+max(jobDifficulty[:i]) for i in range(l-d+1, 0, -1))\n",
    "        return dp[0][0]"
   ]
  },
  {
   "cell_type": "code",
   "execution_count": 388,
   "metadata": {},
   "outputs": [
    {
     "data": {
      "text/plain": [
       "(7, -1, 3, 15, 843)"
      ]
     },
     "execution_count": 388,
     "metadata": {},
     "output_type": "execute_result"
    }
   ],
   "source": [
    "solver_1335 = Solution1335()\n",
    "solver_1335.minDifficulty([6,5,4,3,2,1], d = 2), solver_1335.minDifficulty(jobDifficulty = [9,9,9], d = 4),\\\n",
    "solver_1335.minDifficulty(jobDifficulty = [1,1,1], d = 3),\\\n",
    "solver_1335.minDifficulty(jobDifficulty = [7,1,7,1,7,1], d = 3),\\\n",
    "solver_1335.minDifficulty(jobDifficulty = [11,111,22,222,33,333,44,444], d = 6)"
   ]
  },
  {
   "cell_type": "markdown",
   "metadata": {},
   "source": [
    "## 871. Minimum Number of Refueling Stops"
   ]
  },
  {
   "cell_type": "markdown",
   "metadata": {},
   "source": [
    "### self-written bottom-up dynamic programming solution after checking answers"
   ]
  },
  {
   "cell_type": "code",
   "execution_count": 402,
   "metadata": {},
   "outputs": [],
   "source": [
    "class Solution871:\n",
    "    def minRefuelStops(self, target: int, startFuel: int, stations: List[List[int]]) -> int:\n",
    "        \"\"\"\n",
    "        the only help is the definition of states\n",
    "        \"\"\"\n",
    "        dp = [0]*(len(stations)+1)\n",
    "        dp[0] = startFuel\n",
    "        visited = set()\n",
    "        for i in range(1, len(stations)+1):\n",
    "            maxFuel = 0\n",
    "            for j, (location, fuel) in enumerate(stations):\n",
    "                if location <= dp[i-1] and j not in visited:\n",
    "                    if fuel > maxFuel:\n",
    "                        maxFuel = fuel\n",
    "                        currStationMax = j\n",
    "                elif location > dp[i-1]:\n",
    "                    break\n",
    "            if maxFuel == 0:\n",
    "                break\n",
    "            visited.add(currStationMax)\n",
    "            dp[i] = dp[i-1] + maxFuel\n",
    "#         print(dp)\n",
    "        for j in range(len(stations)+1):\n",
    "            if dp[j] >= target:\n",
    "                return j\n",
    "        return -1"
   ]
  },
  {
   "cell_type": "code",
   "execution_count": 403,
   "metadata": {},
   "outputs": [
    {
     "name": "stdout",
     "output_type": "stream",
     "text": [
      "[1]\n",
      "[1, 0]\n",
      "[10, 70, 110, 140, 170]\n",
      "[83, 270, 456, 483, 489, 0, 0, 0, 0, 0, 0]\n"
     ]
    },
    {
     "data": {
      "text/plain": [
       "(0, -1, 2, -1)"
      ]
     },
     "execution_count": 403,
     "metadata": {},
     "output_type": "execute_result"
    }
   ],
   "source": [
    "solver_871 = Solution871()\n",
    "solver_871.minRefuelStops(target = 1, startFuel = 1, stations = []),\\\n",
    "solver_871.minRefuelStops(target = 100, startFuel = 1, stations = [[10,100]]),\\\n",
    "solver_871.minRefuelStops(target = 100, startFuel = 10, stations = [[10,60],[20,30],[30,30],[60,40]]),\\\n",
    "solver_871.minRefuelStops(target = 1000, startFuel = 83, stations = [[25,27],[36,187],[140,186],[378,6],[492,202],[517,89],[579,234],[673,86],[808,53],[954,49]])"
   ]
  },
  {
   "cell_type": "markdown",
   "metadata": {},
   "source": [
    "### self-written optimized bottom-up dynamic programming"
   ]
  },
  {
   "cell_type": "code",
   "execution_count": 406,
   "metadata": {},
   "outputs": [],
   "source": [
    "class Solution871:\n",
    "    def minRefuelStops(self, target: int, startFuel: int, stations: List[List[int]]) -> int:\n",
    "        \"\"\"\n",
    "        stop as early as possible\n",
    "        \"\"\"\n",
    "        if startFuel >= target:\n",
    "            return 0\n",
    "        dp = [0]*(len(stations)+1)\n",
    "        dp[0] = startFuel\n",
    "        visited = set()\n",
    "        for i in range(1, len(stations)+1):\n",
    "            maxFuel = 0\n",
    "            for j, (location, fuel) in enumerate(stations):\n",
    "                if location <= dp[i-1] and j not in visited:\n",
    "                    if fuel > maxFuel:\n",
    "                        maxFuel = fuel\n",
    "                        currStationMax = j\n",
    "                elif location > dp[i-1]:\n",
    "                    break\n",
    "            if maxFuel == 0:\n",
    "                return -1\n",
    "            visited.add(currStationMax)\n",
    "            dp[i] = dp[i-1] + maxFuel\n",
    "            if dp[i] >= target:\n",
    "                return i\n",
    "        return -1"
   ]
  },
  {
   "cell_type": "code",
   "execution_count": 407,
   "metadata": {},
   "outputs": [
    {
     "data": {
      "text/plain": [
       "(0, -1, 2, -1)"
      ]
     },
     "execution_count": 407,
     "metadata": {},
     "output_type": "execute_result"
    }
   ],
   "source": [
    "solver_871 = Solution871()\n",
    "solver_871.minRefuelStops(target = 1, startFuel = 1, stations = []),\\\n",
    "solver_871.minRefuelStops(target = 100, startFuel = 1, stations = [[10,100]]),\\\n",
    "solver_871.minRefuelStops(target = 100, startFuel = 10, stations = [[10,60],[20,30],[30,30],[60,40]]),\\\n",
    "solver_871.minRefuelStops(target = 1000, startFuel = 83, stations = [[25,27],[36,187],[140,186],[378,6],[492,202],[517,89],[579,234],[673,86],[808,53],[954,49]])"
   ]
  },
  {
   "cell_type": "markdown",
   "metadata": {},
   "source": [
    "### official dynamic programming solution"
   ]
  },
  {
   "cell_type": "code",
   "execution_count": 410,
   "metadata": {},
   "outputs": [],
   "source": [
    "class Solution871:\n",
    "    def minRefuelStops(self, target, startFuel, stations):\n",
    "        \"\"\"\n",
    "        cannot fully understand yet, I feel like my solution is easier to understand\n",
    "        to be investigated\n",
    "        \"\"\"\n",
    "        dp = [startFuel] + [0] * len(stations)\n",
    "        for i, (location, capacity) in enumerate(stations):\n",
    "            for t in range(i, -1, -1):\n",
    "                if dp[t] >= location:\n",
    "                    dp[t+1] = max(dp[t+1], dp[t] + capacity)\n",
    "\n",
    "        for i, d in enumerate(dp):\n",
    "            if d >= target: return i\n",
    "        return -1"
   ]
  },
  {
   "cell_type": "code",
   "execution_count": 411,
   "metadata": {},
   "outputs": [
    {
     "data": {
      "text/plain": [
       "(0, -1, 2, -1)"
      ]
     },
     "execution_count": 411,
     "metadata": {},
     "output_type": "execute_result"
    }
   ],
   "source": [
    "solver_871 = Solution871()\n",
    "solver_871.minRefuelStops(target = 1, startFuel = 1, stations = []),\\\n",
    "solver_871.minRefuelStops(target = 100, startFuel = 1, stations = [[10,100]]),\\\n",
    "solver_871.minRefuelStops(target = 100, startFuel = 10, stations = [[10,60],[20,30],[30,30],[60,40]]),\\\n",
    "solver_871.minRefuelStops(target = 1000, startFuel = 83, stations = [[25,27],[36,187],[140,186],[378,6],[492,202],[517,89],[579,234],[673,86],[808,53],[954,49]])"
   ]
  },
  {
   "cell_type": "markdown",
   "metadata": {},
   "source": [
    "### self-written priority queue approach after checking answers"
   ]
  },
  {
   "cell_type": "code",
   "execution_count": 460,
   "metadata": {},
   "outputs": [],
   "source": [
    "from queue import PriorityQueue\n",
    "\n",
    "class Solution871:\n",
    "    def minRefuelStops(self, target, startFuel, stations):\n",
    "        \"\"\"\n",
    "        only help is the reminder of greedy strategy\n",
    "        it is important to note that priority queue returns min by default\n",
    "        \"\"\"\n",
    "        if startFuel >= target:\n",
    "            return 0\n",
    "        p_queue = PriorityQueue()\n",
    "        miles = startFuel\n",
    "        num_stations = 0\n",
    "        for location, capacity in stations:\n",
    "#             print('location: ', location)\n",
    "            if location <= miles:  \n",
    "                p_queue.put(-capacity)\n",
    "            else:\n",
    "                while not p_queue.empty() and location > miles:\n",
    "                    miles -= p_queue.get()\n",
    "#                     print('miles', miles)\n",
    "                    num_stations += 1\n",
    "                    if miles >= target:\n",
    "                        return num_stations\n",
    "                if location <= miles:\n",
    "                    p_queue.put(-capacity)\n",
    "                else:\n",
    "                    return -1\n",
    "        while not p_queue.empty():\n",
    "            miles -= p_queue.get()\n",
    "#             print(miles)\n",
    "            num_stations += 1\n",
    "            if miles >= target:\n",
    "                return num_stations\n",
    "        return -1"
   ]
  },
  {
   "cell_type": "code",
   "execution_count": 462,
   "metadata": {},
   "outputs": [
    {
     "data": {
      "text/plain": [
       "(0, -1, 2, -1, 1, 3)"
      ]
     },
     "execution_count": 462,
     "metadata": {},
     "output_type": "execute_result"
    }
   ],
   "source": [
    "solver_871 = Solution871()\n",
    "solver_871.minRefuelStops(target = 1, startFuel = 1, stations = []),\\\n",
    "solver_871.minRefuelStops(target = 100, startFuel = 1, stations = [[10,100]]),\\\n",
    "solver_871.minRefuelStops(target = 100, startFuel = 10, stations = [[10,60],[20,30],[30,30],[60,40]]),\\\n",
    "solver_871.minRefuelStops(target = 1000, startFuel = 83, stations = [[25,27],[36,187],[140,186],[378,6],[492,202],[517,89],[579,234],[673,86],[808,53],[954,49]]),\\\n",
    "solver_871.minRefuelStops(target = 100, startFuel = 50, stations = [[25,25],[50,50]]),\\\n",
    "solver_871.minRefuelStops(target = 100, startFuel = 25, stations = [[25,25],[50,25],[75,25]])"
   ]
  },
  {
   "cell_type": "markdown",
   "metadata": {},
   "source": [
    "### official priority queue solution, very fast"
   ]
  },
  {
   "cell_type": "code",
   "execution_count": 465,
   "metadata": {},
   "outputs": [],
   "source": [
    "import heapq\n",
    "\n",
    "class Solution871:\n",
    "    def minRefuelStops(self, target, startFuel, stations):\n",
    "        \"\"\"\n",
    "        can't understand currently, to be investigated\n",
    "        \"\"\"\n",
    "        pq = []  # A maxheap is simulated using negative values\n",
    "        stations.append((target, float('inf')))\n",
    "        tank = startFuel\n",
    "        \n",
    "        ans = prev = 0\n",
    "        for location, capacity in stations:\n",
    "            tank -= location - prev\n",
    "            while pq and tank < 0:  # must refuel in past\n",
    "                tank += -heapq.heappop(pq)\n",
    "                ans += 1\n",
    "            if tank < 0: return -1\n",
    "            heapq.heappush(pq, -capacity)\n",
    "            prev = location\n",
    "\n",
    "        return ans"
   ]
  },
  {
   "cell_type": "code",
   "execution_count": 466,
   "metadata": {},
   "outputs": [
    {
     "data": {
      "text/plain": [
       "(0, -1, 2, -1, 1, 3)"
      ]
     },
     "execution_count": 466,
     "metadata": {},
     "output_type": "execute_result"
    }
   ],
   "source": [
    "solver_871 = Solution871()\n",
    "solver_871.minRefuelStops(target = 1, startFuel = 1, stations = []),\\\n",
    "solver_871.minRefuelStops(target = 100, startFuel = 1, stations = [[10,100]]),\\\n",
    "solver_871.minRefuelStops(target = 100, startFuel = 10, stations = [[10,60],[20,30],[30,30],[60,40]]),\\\n",
    "solver_871.minRefuelStops(target = 1000, startFuel = 83, stations = [[25,27],[36,187],[140,186],[378,6],[492,202],[517,89],[579,234],[673,86],[808,53],[954,49]]),\\\n",
    "solver_871.minRefuelStops(target = 100, startFuel = 50, stations = [[25,25],[50,50]]),\\\n",
    "solver_871.minRefuelStops(target = 100, startFuel = 25, stations = [[25,25],[50,25],[75,25]])"
   ]
  },
  {
   "cell_type": "markdown",
   "metadata": {},
   "source": [
    "## 115. Distinct Subsequences"
   ]
  },
  {
   "cell_type": "markdown",
   "metadata": {},
   "source": [
    "### self-written top-down dynamic programming with memoization after checking answers"
   ]
  },
  {
   "cell_type": "code",
   "execution_count": 471,
   "metadata": {},
   "outputs": [],
   "source": [
    "class Solution115:\n",
    "    def numDistinct(self, s: str, t: str) -> int:\n",
    "        memo = [[None]*len(t) for _ in range(len(s))]\n",
    "        def helper(i, j, s, t):\n",
    "            if j == len(t):\n",
    "                return 1\n",
    "            if i == len(s):\n",
    "                return 0\n",
    "            if memo[i][j] is not None:\n",
    "                return memo[i][j]\n",
    "            if s[i] == t[j]:\n",
    "                memo[i][j] = helper(i+1, j+1, s, t) + helper(i+1, j, s, t) \n",
    "            else:\n",
    "                memo[i][j] = helper(i+1, j, s, t)\n",
    "            return memo[i][j]\n",
    "        return helper(0, 0, s, t)"
   ]
  },
  {
   "cell_type": "code",
   "execution_count": 472,
   "metadata": {},
   "outputs": [
    {
     "data": {
      "text/plain": [
       "(3, 5)"
      ]
     },
     "execution_count": 472,
     "metadata": {},
     "output_type": "execute_result"
    }
   ],
   "source": [
    "solver_115 = Solution115()\n",
    "solver_115.numDistinct(s = \"rabbbit\", t = \"rabbit\"), solver_115.numDistinct(s = \"babgbag\", t = \"bag\")"
   ]
  },
  {
   "cell_type": "markdown",
   "metadata": {},
   "source": [
    "### self-written bottom-up dynamic programming modified from top-down approach"
   ]
  },
  {
   "cell_type": "code",
   "execution_count": 475,
   "metadata": {},
   "outputs": [],
   "source": [
    "class Solution115:\n",
    "    def numDistinct(self, s: str, t: str) -> int:\n",
    "        table = [[0]*len(t)+[1] for _ in range(len(s)+1)]\n",
    "        for i in range(len(s)-1, -1, -1):\n",
    "            for j in range(len(t)-1, -1, -1):\n",
    "                if s[i] == t[j]:\n",
    "                    table[i][j] = table[i+1][j+1] + table[i+1][j]\n",
    "                else:\n",
    "                    table[i][j] = table[i+1][j]\n",
    "        return table[0][0]"
   ]
  },
  {
   "cell_type": "code",
   "execution_count": 476,
   "metadata": {},
   "outputs": [
    {
     "data": {
      "text/plain": [
       "(3, 5)"
      ]
     },
     "execution_count": 476,
     "metadata": {},
     "output_type": "execute_result"
    }
   ],
   "source": [
    "solver_115 = Solution115()\n",
    "solver_115.numDistinct(s = \"rabbbit\", t = \"rabbit\"), solver_115.numDistinct(s = \"babgbag\", t = \"bag\")"
   ]
  },
  {
   "cell_type": "markdown",
   "metadata": {},
   "source": [
    "### self-written bottom-up dynamic programming with memory optimization"
   ]
  },
  {
   "cell_type": "code",
   "execution_count": 481,
   "metadata": {},
   "outputs": [],
   "source": [
    "class Solution115:\n",
    "    def numDistinct(self, s: str, t: str) -> int:\n",
    "        dp = [0]*len(t) + [1]\n",
    "        for i in range(len(s)-1, -1, -1):\n",
    "            prev = dp[len(t)]\n",
    "            for j in range(len(t)-1, -1, -1):\n",
    "                temp = dp[j]\n",
    "                if s[i] == t[j]:\n",
    "                    dp[j] += prev\n",
    "                prev = temp\n",
    "        return dp[0]"
   ]
  },
  {
   "cell_type": "code",
   "execution_count": 482,
   "metadata": {},
   "outputs": [
    {
     "data": {
      "text/plain": [
       "(3, 5)"
      ]
     },
     "execution_count": 482,
     "metadata": {},
     "output_type": "execute_result"
    }
   ],
   "source": [
    "solver_115 = Solution115()\n",
    "solver_115.numDistinct(s = \"rabbbit\", t = \"rabbit\"), solver_115.numDistinct(s = \"babgbag\", t = \"bag\")"
   ]
  },
  {
   "cell_type": "markdown",
   "metadata": {},
   "source": [
    "## 140. Word Break II"
   ]
  },
  {
   "cell_type": "markdown",
   "metadata": {},
   "source": [
    "### self-written bottom-up dynamic programming, time limit exceeded"
   ]
  },
  {
   "cell_type": "code",
   "execution_count": 532,
   "metadata": {},
   "outputs": [],
   "source": [
    "class Solution140:\n",
    "    def wordBreak(self, s: str, wordDict: List[str]) -> List[str]:\n",
    "        if not wordDict:\n",
    "            return []\n",
    "        dp = [[] for _ in range(len(s))]\n",
    "        wordSet = set(wordDict)\n",
    "        max_len = max(map(len, wordSet))\n",
    "        for start in range(len(s)-1, -1, -1):\n",
    "            for i in range(start+1, min(start+max_len+1, len(s)+1)):\n",
    "                if s[start: i] in wordSet:\n",
    "                    if i == len(s):\n",
    "                        dp[start].append([s[start: i]])\n",
    "                    else:\n",
    "                        for words in dp[i]:\n",
    "                            dp[start].append([s[start: i]] + words)\n",
    "        return [' '.join(words) for words in dp[0]]"
   ]
  },
  {
   "cell_type": "code",
   "execution_count": 533,
   "metadata": {},
   "outputs": [
    {
     "data": {
      "text/plain": [
       "(['cat sand dog', 'cats and dog'],\n",
       " ['pine apple pen apple', 'pine applepen apple', 'pineapple pen apple'],\n",
       " [])"
      ]
     },
     "execution_count": 533,
     "metadata": {},
     "output_type": "execute_result"
    }
   ],
   "source": [
    "solver_140 = Solution140()\n",
    "solver_140.wordBreak(s = \"catsanddog\", wordDict = [\"cat\", \"cats\", \"and\", \"sand\", \"dog\"]),\\\n",
    "solver_140.wordBreak(s = \"pineapplepenapple\", wordDict = [\"apple\", \"pen\", \"applepen\", \"pine\", \"pineapple\"]),\\\n",
    "solver_140.wordBreak(s = \"catsandog\", wordDict = [\"cats\", \"dog\", \"sand\", \"and\", \"cat\"])"
   ]
  },
  {
   "cell_type": "markdown",
   "metadata": {},
   "source": [
    "### Improved bottom-up dynamic programming solution, after checking official solution, passed all tests"
   ]
  },
  {
   "cell_type": "code",
   "execution_count": 537,
   "metadata": {},
   "outputs": [],
   "source": [
    "class Solution140:\n",
    "    def wordBreak(self, s: str, wordDict: List[str]) -> List[str]:\n",
    "        if set(s) > set(\"\".join(wordDict)):\n",
    "            return []\n",
    "        dp = [[] for _ in range(len(s))]\n",
    "        wordSet = set(wordDict)\n",
    "        max_len = max(map(len, wordSet))\n",
    "        for start in range(len(s)-1, -1, -1):\n",
    "            for i in range(start+1, min(start+max_len+1, len(s)+1)):\n",
    "                if s[start: i] in wordSet:\n",
    "                    if i == len(s):\n",
    "                        dp[start].append([s[start: i]])\n",
    "                    else:\n",
    "                        for words in dp[i]:\n",
    "                            dp[start].append([s[start: i]] + words)\n",
    "        return [' '.join(words) for words in dp[0]]"
   ]
  },
  {
   "cell_type": "code",
   "execution_count": 538,
   "metadata": {},
   "outputs": [
    {
     "data": {
      "text/plain": [
       "(['cat sand dog', 'cats and dog'],\n",
       " ['pine apple pen apple', 'pine applepen apple', 'pineapple pen apple'],\n",
       " [])"
      ]
     },
     "execution_count": 538,
     "metadata": {},
     "output_type": "execute_result"
    }
   ],
   "source": [
    "solver_140 = Solution140()\n",
    "solver_140.wordBreak(s = \"catsanddog\", wordDict = [\"cat\", \"cats\", \"and\", \"sand\", \"dog\"]),\\\n",
    "solver_140.wordBreak(s = \"pineapplepenapple\", wordDict = [\"apple\", \"pen\", \"applepen\", \"pine\", \"pineapple\"]),\\\n",
    "solver_140.wordBreak(s = \"catsandog\", wordDict = [\"cats\", \"dog\", \"sand\", \"and\", \"cat\"])"
   ]
  },
  {
   "cell_type": "markdown",
   "metadata": {},
   "source": [
    "### self-written top-down dynamic programming with memoization, passed all tests"
   ]
  },
  {
   "cell_type": "code",
   "execution_count": 554,
   "metadata": {},
   "outputs": [],
   "source": [
    "class Solution140:\n",
    "    def wordBreak(self, s: str, wordDict: List[str]) -> List[str]:\n",
    "        if set(s) > set(\"\".join(wordDict)):\n",
    "            return []\n",
    "        memo = defaultdict(list)\n",
    "        wordSet = set(wordDict)\n",
    "        max_len = max(map(len, wordSet))\n",
    "        def helper(s):\n",
    "            if not s:\n",
    "                return [[]] # important: list of empty list\n",
    "            if s in memo:\n",
    "                return memo[s]\n",
    "            for i in range(1, min(max_len+1, len(s)+1)):\n",
    "                word = s[:i]\n",
    "                if word in wordSet:\n",
    "                    for words in helper(s[i:]):\n",
    "                        memo[s].append([word] + words)\n",
    "            return memo[s]\n",
    "        helper(s)\n",
    "        return [' '.join(words) for words in memo[s]]"
   ]
  },
  {
   "cell_type": "code",
   "execution_count": 555,
   "metadata": {},
   "outputs": [
    {
     "data": {
      "text/plain": [
       "(['cat sand dog', 'cats and dog'],\n",
       " ['pine apple pen apple', 'pine applepen apple', 'pineapple pen apple'],\n",
       " [])"
      ]
     },
     "execution_count": 555,
     "metadata": {},
     "output_type": "execute_result"
    }
   ],
   "source": [
    "solver_140 = Solution140()\n",
    "solver_140.wordBreak(s = \"catsanddog\", wordDict = [\"cat\", \"cats\", \"and\", \"sand\", \"dog\"]),\\\n",
    "solver_140.wordBreak(s = \"pineapplepenapple\", wordDict = [\"apple\", \"pen\", \"applepen\", \"pine\", \"pineapple\"]),\\\n",
    "solver_140.wordBreak(s = \"catsandog\", wordDict = [\"cats\", \"dog\", \"sand\", \"and\", \"cat\"])"
   ]
  },
  {
   "cell_type": "markdown",
   "metadata": {},
   "source": [
    "### self-written bottom-up dynamic programming with dictionary, passed all tests"
   ]
  },
  {
   "cell_type": "code",
   "execution_count": 570,
   "metadata": {},
   "outputs": [],
   "source": [
    "class Solution140:\n",
    "    def wordBreak(self, s: str, wordDict: List[str]) -> List[str]:\n",
    "        if set(s) > set(\"\".join(wordDict)):\n",
    "            return []\n",
    "        dp = defaultdict(list)\n",
    "        dp[''] = [[]]\n",
    "        wordSet = set(wordDict)\n",
    "        max_len = max(map(len, wordSet))\n",
    "        for start in range(len(s)-1, -1, -1):\n",
    "            for i in range(start+1, min(start+max_len+1, len(s)+1)):\n",
    "                word = s[start: i]\n",
    "                if word in wordSet:\n",
    "                    for words in dp[s[i:]]:\n",
    "                        dp[s[start:]].append([word] + words)\n",
    "        return [' '.join(words) for words in dp[s]]"
   ]
  },
  {
   "cell_type": "code",
   "execution_count": 571,
   "metadata": {},
   "outputs": [
    {
     "data": {
      "text/plain": [
       "(['cat sand dog', 'cats and dog'],\n",
       " ['pine apple pen apple', 'pine applepen apple', 'pineapple pen apple'],\n",
       " [])"
      ]
     },
     "execution_count": 571,
     "metadata": {},
     "output_type": "execute_result"
    }
   ],
   "source": [
    "solver_140 = Solution140()\n",
    "solver_140.wordBreak(s = \"catsanddog\", wordDict = [\"cat\", \"cats\", \"and\", \"sand\", \"dog\"]),\\\n",
    "solver_140.wordBreak(s = \"pineapplepenapple\", wordDict = [\"apple\", \"pen\", \"applepen\", \"pine\", \"pineapple\"]),\\\n",
    "solver_140.wordBreak(s = \"catsandog\", wordDict = [\"cats\", \"dog\", \"sand\", \"and\", \"cat\"])"
   ]
  },
  {
   "cell_type": "markdown",
   "metadata": {},
   "source": [
    "## 44. Wildcard Matching"
   ]
  },
  {
   "cell_type": "markdown",
   "metadata": {},
   "source": [
    "### self-written top-down dynamic programming solution, time limit exceeded"
   ]
  },
  {
   "cell_type": "code",
   "execution_count": 572,
   "metadata": {},
   "outputs": [],
   "source": [
    "class Solution44:\n",
    "    def isMatch(self, s: str, p: str) -> bool:\n",
    "        memo = dict()\n",
    "        def helper(i, j):\n",
    "            if j == len(p):\n",
    "                memo[i, j] = i == len(s)\n",
    "                return memo[i, j]\n",
    "            if (i, j) in memo:\n",
    "                return memo[i, j]\n",
    "            if p[j] == '*':\n",
    "                for k in range(i, len(s)+1):\n",
    "                    if helper(k, j+1):\n",
    "                        memo[i, j] = True\n",
    "                        return True\n",
    "                memo[i, j] = False\n",
    "                return False\n",
    "            if p[j] == '?':\n",
    "                memo[i, j] = i < len(s) and helper(i+1, j+1)\n",
    "                return memo[i, j]\n",
    "            memo[i, j] = i < len(s) and s[i] == p[j] and helper(i+1, j+1)\n",
    "            return memo[i, j]\n",
    "        helper(0, 0)\n",
    "        return memo[0, 0]"
   ]
  },
  {
   "cell_type": "code",
   "execution_count": 569,
   "metadata": {},
   "outputs": [
    {
     "data": {
      "text/plain": [
       "(False, True, False, True, False)"
      ]
     },
     "execution_count": 569,
     "metadata": {},
     "output_type": "execute_result"
    }
   ],
   "source": [
    "solver_44 = Solution44()\n",
    "solver_44.isMatch(s = \"aa\", p = \"a\"), solver_44.isMatch(s = \"aa\", p = \"*\"), solver_44.isMatch(s = \"cb\", p = \"?a\"),\\\n",
    "solver_44.isMatch(s = \"adceb\", p = \"*a*b\"), solver_44.isMatch(s = \"acdcb\", p = \"a*c?b\")"
   ]
  },
  {
   "cell_type": "code",
   "execution_count": 573,
   "metadata": {},
   "outputs": [],
   "source": [
    "class Solution44:\n",
    "    def isMatch(self, s: str, p: str) -> bool:\n",
    "        memo = dict()\n",
    "        def helper(i, j):\n",
    "            if j == len(p):\n",
    "                memo[i, j] = i == len(s)\n",
    "                return memo[i, j]\n",
    "            if (i, j) in memo:\n",
    "                return memo[i, j]\n",
    "            if p[j] == '*':\n",
    "                for k in range(len(s), i-1, -1):\n",
    "                    if helper(k, j+1):\n",
    "                        memo[i, j] = True\n",
    "                        return True\n",
    "                memo[i, j] = False\n",
    "                return False\n",
    "            if p[j] == '?':\n",
    "                memo[i, j] = i < len(s) and helper(i+1, j+1)\n",
    "                return memo[i, j]\n",
    "            memo[i, j] = i < len(s) and s[i] == p[j] and helper(i+1, j+1)\n",
    "            return memo[i, j]\n",
    "        helper(0, 0)\n",
    "        return memo[0, 0]"
   ]
  },
  {
   "cell_type": "code",
   "execution_count": 574,
   "metadata": {},
   "outputs": [
    {
     "data": {
      "text/plain": [
       "(False, True, False, True, False)"
      ]
     },
     "execution_count": 574,
     "metadata": {},
     "output_type": "execute_result"
    }
   ],
   "source": [
    "solver_44 = Solution44()\n",
    "solver_44.isMatch(s = \"aa\", p = \"a\"), solver_44.isMatch(s = \"aa\", p = \"*\"), solver_44.isMatch(s = \"cb\", p = \"?a\"),\\\n",
    "solver_44.isMatch(s = \"adceb\", p = \"*a*b\"), solver_44.isMatch(s = \"acdcb\", p = \"a*c?b\")"
   ]
  },
  {
   "cell_type": "markdown",
   "metadata": {},
   "source": [
    "### optimized top-down dynamic programming after checking official solution, passed all tests"
   ]
  },
  {
   "cell_type": "code",
   "execution_count": 575,
   "metadata": {},
   "outputs": [],
   "source": [
    "class Solution44:\n",
    "    \n",
    "    def remove_duplicate_stars(self, p):\n",
    "        if p == '':\n",
    "            return p\n",
    "        p1 = [p[0],]\n",
    "        for x in p[1:]:\n",
    "            if p1[-1] != '*' or p1[-1] == '*' and x != '*':\n",
    "                p1.append(x)\n",
    "        return ''.join(p1) \n",
    "    \n",
    "    def isMatch(self, s: str, p: str) -> bool:\n",
    "        memo = dict()\n",
    "        p = self.remove_duplicate_stars(p)\n",
    "        def helper(i, j):\n",
    "            if j == len(p):\n",
    "                memo[i, j] = i == len(s)\n",
    "                return memo[i, j]\n",
    "            if (i, j) in memo:\n",
    "                return memo[i, j]\n",
    "            if p[j] == '*':\n",
    "                for k in range(len(s), i-1, -1):\n",
    "                    if helper(k, j+1):\n",
    "                        memo[i, j] = True\n",
    "                        return True\n",
    "                memo[i, j] = False\n",
    "                return False\n",
    "            if p[j] == '?':\n",
    "                memo[i, j] = i < len(s) and helper(i+1, j+1)\n",
    "                return memo[i, j]\n",
    "            memo[i, j] = i < len(s) and s[i] == p[j] and helper(i+1, j+1)\n",
    "            return memo[i, j]\n",
    "        helper(0, 0)\n",
    "        return memo[0, 0]"
   ]
  },
  {
   "cell_type": "code",
   "execution_count": 576,
   "metadata": {},
   "outputs": [
    {
     "data": {
      "text/plain": [
       "(False, True, False, True, False)"
      ]
     },
     "execution_count": 576,
     "metadata": {},
     "output_type": "execute_result"
    }
   ],
   "source": [
    "solver_44 = Solution44()\n",
    "solver_44.isMatch(s = \"aa\", p = \"a\"), solver_44.isMatch(s = \"aa\", p = \"*\"), solver_44.isMatch(s = \"cb\", p = \"?a\"),\\\n",
    "solver_44.isMatch(s = \"adceb\", p = \"*a*b\"), solver_44.isMatch(s = \"acdcb\", p = \"a*c?b\")"
   ]
  },
  {
   "cell_type": "markdown",
   "metadata": {},
   "source": [
    "### self-written bottom-up dynamic programming solution after checking answers, passed all tests"
   ]
  },
  {
   "cell_type": "code",
   "execution_count": 603,
   "metadata": {},
   "outputs": [],
   "source": [
    "class Solution44:\n",
    "    def isMatch(self, s: str, p: str) -> bool:\n",
    "        \"\"\"\n",
    "        official solution'code checked to fully understand, this is really, really hard\n",
    "        p is first dimension and s is second dimension, not very used to this setting\n",
    "        \"\"\"\n",
    "        table = [[False]*(len(s)+1) for _ in range(len(p)+1)]\n",
    "        table[0][0] = True\n",
    "        for i in range(1, len(p)+1):\n",
    "            if p[i-1] == '*':\n",
    "                j = 0\n",
    "                while j < len(s)+1 and not table[i-1][j]:\n",
    "                    j += 1\n",
    "                if j < len(s)+1:\n",
    "                    for k in range(j, len(s)+1):\n",
    "                        table[i][k] = True             \n",
    "            for j in range(1, len(s)+1):\n",
    "                if (s[j-1] == p[i-1] or p[i-1] == '?') and table[i-1][j-1]:\n",
    "                    table[i][j] = True\n",
    "        return table[len(p)][len(s)]"
   ]
  },
  {
   "cell_type": "code",
   "execution_count": 604,
   "metadata": {},
   "outputs": [
    {
     "data": {
      "text/plain": [
       "(False, True, False, True, False, True, True)"
      ]
     },
     "execution_count": 604,
     "metadata": {},
     "output_type": "execute_result"
    }
   ],
   "source": [
    "solver_44 = Solution44()\n",
    "solver_44.isMatch(s = \"aa\", p = \"a\"), solver_44.isMatch(s = \"aa\", p = \"*\"), solver_44.isMatch(s = \"cb\", p = \"?a\"),\\\n",
    "solver_44.isMatch(s = \"adceb\", p = \"*a*b\"), solver_44.isMatch(s = \"acdcb\", p = \"a*c?b\"),\\\n",
    "solver_44.isMatch(s = \"adcbdk\", p = \"*a*b?k\"), solver_44.isMatch(s = \"abcabczzzde\", p = \"*abc???de*\")"
   ]
  },
  {
   "cell_type": "markdown",
   "metadata": {},
   "source": [
    "### There are also backtracking solution, but it seems even harder, to be investigated"
   ]
  },
  {
   "cell_type": "code",
   "execution_count": null,
   "metadata": {},
   "outputs": [],
   "source": []
  }
 ],
 "metadata": {
  "kernelspec": {
   "display_name": "Python 3",
   "language": "python",
   "name": "python3"
  },
  "language_info": {
   "codemirror_mode": {
    "name": "ipython",
    "version": 3
   },
   "file_extension": ".py",
   "mimetype": "text/x-python",
   "name": "python",
   "nbconvert_exporter": "python",
   "pygments_lexer": "ipython3",
   "version": "3.7.1"
  }
 },
 "nbformat": 4,
 "nbformat_minor": 2
}
