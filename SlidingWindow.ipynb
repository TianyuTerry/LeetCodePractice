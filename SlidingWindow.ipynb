{
 "cells": [
  {
   "cell_type": "markdown",
   "metadata": {},
   "source": [
    "## 3. Longest Substring Without Repeating Characters"
   ]
  },
  {
   "cell_type": "markdown",
   "metadata": {},
   "source": [
    "### while loop"
   ]
  },
  {
   "cell_type": "code",
   "execution_count": 8,
   "metadata": {},
   "outputs": [],
   "source": [
    "class Solution3:\n",
    "    def lengthOfLongestSubstring(self, s: str) -> int:\n",
    "        \"\"\"\n",
    "        A set for stats is enough though if left pointer is updated this way.\n",
    "        \"\"\"\n",
    "        left = right = 0\n",
    "        max_len = 0\n",
    "        stats = {}\n",
    "        while True:\n",
    "            while right < len(s) and s[right] not in stats:\n",
    "                stats[s[right]] = right\n",
    "                right += 1\n",
    "            max_len = max(max_len, right - left)\n",
    "            if right != len(s):\n",
    "                left_new = stats[s[right]]\n",
    "                while left <= left_new:\n",
    "                    del stats[s[left]]\n",
    "                    left += 1\n",
    "            else:\n",
    "                break\n",
    "        return max_len"
   ]
  },
  {
   "cell_type": "code",
   "execution_count": 10,
   "metadata": {},
   "outputs": [
    {
     "name": "stdout",
     "output_type": "stream",
     "text": [
      "3\n",
      "1\n",
      "3\n"
     ]
    }
   ],
   "source": [
    "solver_3 = Solution3()\n",
    "print(solver_3.lengthOfLongestSubstring(\"abcabcbb\"))\n",
    "print(solver_3.lengthOfLongestSubstring(\"bbbbb\"))\n",
    "print(solver_3.lengthOfLongestSubstring(\"pwwkew\"))"
   ]
  },
  {
   "cell_type": "code",
   "execution_count": 13,
   "metadata": {},
   "outputs": [],
   "source": [
    "class Solution3:\n",
    "    def lengthOfLongestSubstring(self, s: str) -> int:\n",
    "        \"\"\"\n",
    "        set version, use while True to emulate do while loop\n",
    "        \"\"\"\n",
    "        left = right = 0\n",
    "        max_len = 0\n",
    "        stats = set()\n",
    "        while True:\n",
    "            while right < len(s) and s[right] not in stats:\n",
    "                stats.add(s[right])\n",
    "                right += 1\n",
    "            max_len = max(max_len, right - left)\n",
    "            if right != len(s):\n",
    "                char = s[right]\n",
    "                while True:\n",
    "                    stats.remove(s[left])\n",
    "                    left += 1\n",
    "                    if s[right] not in stats:\n",
    "                        break\n",
    "            else:\n",
    "                break\n",
    "        return max_len"
   ]
  },
  {
   "cell_type": "code",
   "execution_count": 14,
   "metadata": {},
   "outputs": [
    {
     "name": "stdout",
     "output_type": "stream",
     "text": [
      "3\n",
      "1\n",
      "3\n"
     ]
    }
   ],
   "source": [
    "solver_3 = Solution3()\n",
    "print(solver_3.lengthOfLongestSubstring(\"abcabcbb\"))\n",
    "print(solver_3.lengthOfLongestSubstring(\"bbbbb\"))\n",
    "print(solver_3.lengthOfLongestSubstring(\"pwwkew\"))"
   ]
  },
  {
   "cell_type": "markdown",
   "metadata": {},
   "source": [
    "### for loop"
   ]
  },
  {
   "cell_type": "code",
   "execution_count": 28,
   "metadata": {},
   "outputs": [],
   "source": [
    "class Solution3:\n",
    "    def lengthOfLongestSubstring(self, s: str) -> int:\n",
    "        \"\"\"\n",
    "        faster, get away with the removing process.\n",
    "        \"\"\"\n",
    "        left = 0\n",
    "        max_len = 0\n",
    "        stats = {}\n",
    "        for right in range(len(s)):\n",
    "            if s[right] in stats:\n",
    "                left = max(left, stats[s[right]] + 1)\n",
    "            max_len = max(max_len, right - left + 1) # cannot put inside if statement\n",
    "            stats[s[right]] = right\n",
    "        return max_len"
   ]
  },
  {
   "cell_type": "code",
   "execution_count": 29,
   "metadata": {},
   "outputs": [
    {
     "name": "stdout",
     "output_type": "stream",
     "text": [
      "3\n",
      "1\n",
      "3\n"
     ]
    }
   ],
   "source": [
    "solver_3 = Solution3()\n",
    "print(solver_3.lengthOfLongestSubstring(\"abcabcbb\"))\n",
    "print(solver_3.lengthOfLongestSubstring(\"bbbbb\"))\n",
    "print(solver_3.lengthOfLongestSubstring(\"pwwkew\"))"
   ]
  },
  {
   "cell_type": "markdown",
   "metadata": {},
   "source": [
    "## 424. Longest Repeating Character Replacement"
   ]
  },
  {
   "cell_type": "markdown",
   "metadata": {},
   "source": [
    "### self-written solution"
   ]
  },
  {
   "cell_type": "code",
   "execution_count": 30,
   "metadata": {},
   "outputs": [],
   "source": [
    "from collections import defaultdict\n",
    "\n",
    "class Solution424:\n",
    "    def characterReplacement(self, s: str, k: int) -> int:\n",
    "        stats = defaultdict(int)\n",
    "        left = 0\n",
    "        max_len = 0\n",
    "        for right in range(len(s)):\n",
    "            stats[s[right]] += 1\n",
    "            max_cnt = max(stats.values())\n",
    "            if right - left + 1 - max_cnt > k:\n",
    "                stats[s[left]] -= 1\n",
    "                left += 1\n",
    "            else:\n",
    "                max_len = max(max_len, right - left + 1)\n",
    "        return max_len"
   ]
  },
  {
   "cell_type": "code",
   "execution_count": 32,
   "metadata": {},
   "outputs": [],
   "source": [
    "class Solution424:\n",
    "    def characterReplacement(self, s: str, k: int) -> int:\n",
    "        stats = defaultdict(int)\n",
    "        left = 0\n",
    "        max_cnt = 0\n",
    "        max_len = 0\n",
    "        for right in range(len(s)):\n",
    "            stats[s[right]] += 1\n",
    "            max_cnt = max(max_cnt, stats[s[right]])\n",
    "            if right - left + 1 - max_cnt > k:\n",
    "                stats[s[left]] -= 1\n",
    "                left += 1\n",
    "            else:\n",
    "                max_len = max(max_len, right - left + 1)\n",
    "        return max_len"
   ]
  },
  {
   "cell_type": "markdown",
   "metadata": {},
   "source": [
    "## 718. Maximum Length of Repeated Subarray"
   ]
  },
  {
   "cell_type": "markdown",
   "metadata": {},
   "source": [
    "### self-written dynamic programming after checking answers"
   ]
  },
  {
   "cell_type": "code",
   "execution_count": 36,
   "metadata": {},
   "outputs": [],
   "source": [
    "from typing import List"
   ]
  },
  {
   "cell_type": "code",
   "execution_count": 39,
   "metadata": {},
   "outputs": [],
   "source": [
    "class Solution718:\n",
    "    def findLength(self, nums1: List[int], nums2: List[int]) -> int:\n",
    "        \"\"\"\n",
    "        wrap zero padding outside\n",
    "        \"\"\"\n",
    "        memo = [[0]*(len(nums2)+1) for _ in range(len(nums1)+1)]\n",
    "        for i in range(len(nums1)-1, -1, -1):\n",
    "            for j in range(len(nums2)-1, -1, -1):\n",
    "                memo[i][j] = 0 if nums1[i] != nums2[j] else memo[i+1][j+1] + 1\n",
    "        return max(max(row) for row in memo)"
   ]
  },
  {
   "cell_type": "code",
   "execution_count": 41,
   "metadata": {},
   "outputs": [
    {
     "name": "stdout",
     "output_type": "stream",
     "text": [
      "3\n",
      "5\n"
     ]
    }
   ],
   "source": [
    "solver_718 = Solution718()\n",
    "print(solver_718.findLength(nums1 = [1,2,3,2,1], nums2 = [3,2,1,4,7]))\n",
    "print(solver_718.findLength(nums1 = [0,0,0,0,0], nums2 = [0,0,0,0,0]))"
   ]
  },
  {
   "cell_type": "markdown",
   "metadata": {},
   "source": [
    "## 239. Sliding Window Maximum"
   ]
  },
  {
   "cell_type": "markdown",
   "metadata": {},
   "source": [
    "### self-written monotonic deque solution after checking answers"
   ]
  },
  {
   "cell_type": "code",
   "execution_count": 61,
   "metadata": {},
   "outputs": [],
   "source": [
    "from collections import deque\n",
    "\n",
    "class Solution239:\n",
    "    def maxSlidingWindow(self, nums: List[int], k: int) -> List[int]:\n",
    "        deq = deque([0]) # initilization to avoid empty deque while clean_deque()\n",
    "        window_max = []\n",
    "        def clean_deque(idx):\n",
    "            # remove elements not in current window\n",
    "            if deq[0] == idx - k:\n",
    "                deq.popleft()\n",
    "            # make sure leftmost element is the largest by makinng sure the deque is monotically decreasing\n",
    "            while deq and nums[deq[-1]] < nums[idx]:\n",
    "                deq.pop() # they can't be the maximum anyway so just pop them out\n",
    "        # initialization\n",
    "        # at first there is only one element, so the decreasing invariant holds\n",
    "        for idx in range(1, k):\n",
    "            clean_deque(idx)\n",
    "            deq.append(idx)\n",
    "        window_max.append(nums[deq[0]])\n",
    "        for idx in range(k, len(nums)):\n",
    "            clean_deque(idx)\n",
    "            deq.append(idx)\n",
    "            window_max.append(nums[deq[0]])\n",
    "        return window_max"
   ]
  },
  {
   "cell_type": "code",
   "execution_count": 62,
   "metadata": {},
   "outputs": [
    {
     "data": {
      "text/plain": [
       "[3, 3, 5, 5, 6, 7]"
      ]
     },
     "execution_count": 62,
     "metadata": {},
     "output_type": "execute_result"
    }
   ],
   "source": [
    "solver_239 = Solution239()\n",
    "solver_239.maxSlidingWindow(nums = [1,3,-1,-3,5,3,6,7], k = 3)"
   ]
  },
  {
   "cell_type": "markdown",
   "metadata": {},
   "source": [
    "## 438. Find All Anagrams in a String"
   ]
  },
  {
   "cell_type": "markdown",
   "metadata": {},
   "source": [
    "### for loop"
   ]
  },
  {
   "cell_type": "code",
   "execution_count": 63,
   "metadata": {},
   "outputs": [],
   "source": [
    "from collections import Counter\n",
    "\n",
    "class Solution438:\n",
    "    def findAnagrams(self, s: str, p: str) -> List[int]:\n",
    "        counter = Counter(p)\n",
    "        def allZero():\n",
    "            for val in counter.values():\n",
    "                if val != 0:\n",
    "                    return False\n",
    "            return True\n",
    "        output = []\n",
    "        # initialize\n",
    "        for i in range(len(p)):\n",
    "            if s[i] in counter:\n",
    "                counter[s[i]] -= 1\n",
    "        for right in range(len(p), len(s)):\n",
    "            if s[right] in counter:\n",
    "                left = right - len(p)\n",
    "                counter[s[right]] -= 1\n",
    "                if s[left] in counter:\n",
    "                    counter[s[left]] += 1\n",
    "                if allZero():\n",
    "                    output.append(left)\n",
    "        return output"
   ]
  },
  {
   "cell_type": "code",
   "execution_count": 65,
   "metadata": {},
   "outputs": [
    {
     "data": {
      "text/plain": [
       "[1, 2]"
      ]
     },
     "execution_count": 65,
     "metadata": {},
     "output_type": "execute_result"
    }
   ],
   "source": [
    "solver_438 = Solution438()\n",
    "solver_438.findAnagrams(s = \"cbaebabacd\", p = \"abc\")"
   ]
  },
  {
   "cell_type": "code",
   "execution_count": null,
   "metadata": {},
   "outputs": [],
   "source": []
  }
 ],
 "metadata": {
  "kernelspec": {
   "display_name": "Python 3",
   "language": "python",
   "name": "python3"
  },
  "language_info": {
   "codemirror_mode": {
    "name": "ipython",
    "version": 3
   },
   "file_extension": ".py",
   "mimetype": "text/x-python",
   "name": "python",
   "nbconvert_exporter": "python",
   "pygments_lexer": "ipython3",
   "version": "3.7.1"
  }
 },
 "nbformat": 4,
 "nbformat_minor": 2
}
