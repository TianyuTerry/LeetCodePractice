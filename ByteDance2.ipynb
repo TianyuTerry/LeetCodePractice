{
 "cells": [
  {
   "cell_type": "code",
   "execution_count": 19,
   "metadata": {},
   "outputs": [],
   "source": [
    "def antiClockwiseMatrix(matrix):\n",
    "    nrow, ncol = len(matrix), len(matrix[0]) if matrix else 0\n",
    "    if nrow == 1:\n",
    "        for col in range(ncol):\n",
    "            print(matrix[0, col])\n",
    "    elif nrow == 0:\n",
    "        return\n",
    "    else:\n",
    "        for row in range(nrow-1):\n",
    "            print(matrix[row][0])\n",
    "        for col in range(ncol-1):\n",
    "            print(matrix[-1][col])\n",
    "        for row in range(nrow-1, 0, -1):\n",
    "            print(matrix[row][-1])\n",
    "        for col in range(ncol-1, 0, -1):\n",
    "            print(matrix[0][col])\n",
    "#         for col in range(1, ncol):\n",
    "#             print(matrix[-1][col])\n",
    "#         for col in range(ncol-1, 0, -1):\n",
    "#             print(matrix[0, col])\n",
    "        antiClockwiseMatrix([matrix[row][1:-1] for row in range(1, nrow-1)])"
   ]
  },
  {
   "cell_type": "code",
   "execution_count": 15,
   "metadata": {},
   "outputs": [
    {
     "data": {
      "text/plain": [
       "array([[ 0,  1,  2,  3,  4],\n",
       "       [ 5,  6,  7,  8,  9],\n",
       "       [10, 11, 12, 13, 14],\n",
       "       [15, 16, 17, 18, 19]])"
      ]
     },
     "execution_count": 15,
     "metadata": {},
     "output_type": "execute_result"
    }
   ],
   "source": [
    "import numpy as np\n",
    "matrix1 = np.arange(20).reshape(4, 5)\n",
    "matrix1"
   ]
  },
  {
   "cell_type": "code",
   "execution_count": 16,
   "metadata": {},
   "outputs": [
    {
     "name": "stdout",
     "output_type": "stream",
     "text": [
      "0\n",
      "5\n",
      "10\n",
      "15\n",
      "16\n",
      "17\n",
      "18\n",
      "19\n",
      "14\n",
      "9\n",
      "4\n",
      "3\n",
      "2\n",
      "1\n",
      "6\n",
      "11\n",
      "12\n",
      "13\n",
      "8\n",
      "7\n"
     ]
    }
   ],
   "source": [
    "antiClockwiseMatrix(matrix1.tolist())"
   ]
  },
  {
   "cell_type": "code",
   "execution_count": 17,
   "metadata": {},
   "outputs": [
    {
     "data": {
      "text/plain": [
       "array([[ 0,  1,  2,  3],\n",
       "       [ 4,  5,  6,  7],\n",
       "       [ 8,  9, 10, 11],\n",
       "       [12, 13, 14, 15],\n",
       "       [16, 17, 18, 19]])"
      ]
     },
     "execution_count": 17,
     "metadata": {},
     "output_type": "execute_result"
    }
   ],
   "source": [
    "matrix2 = np.arange(20).reshape(5, 4)\n",
    "matrix2"
   ]
  },
  {
   "cell_type": "code",
   "execution_count": 18,
   "metadata": {},
   "outputs": [
    {
     "name": "stdout",
     "output_type": "stream",
     "text": [
      "0\n",
      "4\n",
      "8\n",
      "12\n",
      "16\n",
      "17\n",
      "18\n",
      "19\n",
      "15\n",
      "11\n",
      "7\n",
      "3\n",
      "2\n",
      "1\n",
      "5\n",
      "9\n",
      "13\n",
      "14\n",
      "10\n",
      "6\n"
     ]
    }
   ],
   "source": [
    "antiClockwiseMatrix(matrix2.tolist())"
   ]
  },
  {
   "cell_type": "code",
   "execution_count": null,
   "metadata": {},
   "outputs": [],
   "source": []
  }
 ],
 "metadata": {
  "kernelspec": {
   "display_name": "Python 3",
   "language": "python",
   "name": "python3"
  },
  "language_info": {
   "codemirror_mode": {
    "name": "ipython",
    "version": 3
   },
   "file_extension": ".py",
   "mimetype": "text/x-python",
   "name": "python",
   "nbconvert_exporter": "python",
   "pygments_lexer": "ipython3",
   "version": "3.7.1"
  }
 },
 "nbformat": 4,
 "nbformat_minor": 2
}
