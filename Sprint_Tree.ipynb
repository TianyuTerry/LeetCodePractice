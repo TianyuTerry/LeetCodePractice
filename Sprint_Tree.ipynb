{
 "cells": [
  {
   "cell_type": "markdown",
   "metadata": {},
   "source": [
    "## Tree"
   ]
  },
  {
   "cell_type": "markdown",
   "metadata": {},
   "source": [
    "### 100. Same Tree"
   ]
  },
  {
   "cell_type": "code",
   "execution_count": 1,
   "metadata": {},
   "outputs": [],
   "source": [
    "from typing import List, Tuple, Dict"
   ]
  },
  {
   "cell_type": "code",
   "execution_count": 2,
   "metadata": {},
   "outputs": [],
   "source": [
    "class TreeNode(object):\n",
    "    def __init__(self, x, left=None, right=None):\n",
    "        self.val = x\n",
    "        self.left = left\n",
    "        self.right = right \n",
    "        \n",
    "def isSameTree(p:TreeNode, q:TreeNode) -> bool:\n",
    "    if p == None:\n",
    "        return q == None\n",
    "    elif q == None:\n",
    "        return False\n",
    "    else:\n",
    "        return p.val == q.val and isSameTree(p.left, q.left) and isSameTree(p.right, q.right)"
   ]
  },
  {
   "cell_type": "markdown",
   "metadata": {},
   "source": [
    "#### Official Answers, iteration method"
   ]
  },
  {
   "cell_type": "code",
   "execution_count": 3,
   "metadata": {},
   "outputs": [],
   "source": [
    "from collections import deque"
   ]
  },
  {
   "cell_type": "markdown",
   "metadata": {},
   "source": [
    "#### BFS Method"
   ]
  },
  {
   "cell_type": "code",
   "execution_count": 4,
   "metadata": {},
   "outputs": [],
   "source": [
    "def isSameTree(p, q):  \n",
    "    def check(p, q):\n",
    "        # if both are None\n",
    "        if not p and not q:\n",
    "            return True\n",
    "        # one of p and q is None\n",
    "        if not q or not p:\n",
    "            return False\n",
    "        if p.val != q.val:\n",
    "            return False\n",
    "        return True\n",
    "\n",
    "    deq = deque([(p, q)])\n",
    "    while deq:\n",
    "        p, q = deq.popleft()\n",
    "        if p:\n",
    "            print(p.val)\n",
    "        if q:\n",
    "            print(q.val)\n",
    "        if not check(p, q):\n",
    "            return False\n",
    "\n",
    "        if p:\n",
    "            deq.append((p.left, q.left))\n",
    "            deq.append((p.right, q.right))\n",
    "\n",
    "    return True"
   ]
  },
  {
   "cell_type": "markdown",
   "metadata": {},
   "source": [
    "#### DFS Method"
   ]
  },
  {
   "cell_type": "code",
   "execution_count": 5,
   "metadata": {},
   "outputs": [],
   "source": [
    "def isSameTree2(p, q):  \n",
    "    def check(p, q):\n",
    "        # if both are None\n",
    "        if not p and not q:\n",
    "            return True\n",
    "        # one of p and q is None\n",
    "        if not q or not p:\n",
    "            return False\n",
    "        if p.val != q.val:\n",
    "            return False\n",
    "        return True\n",
    "\n",
    "    deq = deque([(p, q)])\n",
    "    while deq:\n",
    "        p, q = deq.pop()\n",
    "        if p:\n",
    "            print(p.val)\n",
    "        if q:\n",
    "            print(q.val)\n",
    "        if not check(p, q):\n",
    "            return False\n",
    "\n",
    "        if p:\n",
    "            deq.append((p.right, q.right))\n",
    "            deq.append((p.left, q.left))\n",
    "\n",
    "    return True"
   ]
  },
  {
   "cell_type": "code",
   "execution_count": 6,
   "metadata": {},
   "outputs": [],
   "source": [
    "exampleTree1 = TreeNode(1, TreeNode(2, TreeNode(4), TreeNode(5)), TreeNode(3, TreeNode(6), TreeNode(7)))\n",
    "exampleTree2 = TreeNode(1, TreeNode(2, TreeNode(4), TreeNode(5)), TreeNode(3, TreeNode(6), TreeNode(7)))"
   ]
  },
  {
   "cell_type": "code",
   "execution_count": 7,
   "metadata": {},
   "outputs": [
    {
     "name": "stdout",
     "output_type": "stream",
     "text": [
      "1\n",
      "1\n",
      "2\n",
      "2\n",
      "3\n",
      "3\n",
      "4\n",
      "4\n",
      "5\n",
      "5\n",
      "6\n",
      "6\n",
      "7\n",
      "7\n"
     ]
    },
    {
     "data": {
      "text/plain": [
       "True"
      ]
     },
     "execution_count": 7,
     "metadata": {},
     "output_type": "execute_result"
    }
   ],
   "source": [
    "isSameTree(exampleTree1, exampleTree2)"
   ]
  },
  {
   "cell_type": "code",
   "execution_count": 8,
   "metadata": {},
   "outputs": [
    {
     "name": "stdout",
     "output_type": "stream",
     "text": [
      "1\n",
      "1\n",
      "2\n",
      "2\n",
      "4\n",
      "4\n",
      "5\n",
      "5\n",
      "3\n",
      "3\n",
      "6\n",
      "6\n",
      "7\n",
      "7\n"
     ]
    },
    {
     "data": {
      "text/plain": [
       "True"
      ]
     },
     "execution_count": 8,
     "metadata": {},
     "output_type": "execute_result"
    }
   ],
   "source": [
    "isSameTree2(exampleTree1, exampleTree2)"
   ]
  },
  {
   "cell_type": "markdown",
   "metadata": {},
   "source": [
    "#### deque introduction"
   ]
  },
  {
   "cell_type": "code",
   "execution_count": 9,
   "metadata": {},
   "outputs": [
    {
     "name": "stdout",
     "output_type": "stream",
     "text": [
      "G\n",
      "H\n",
      "I\n"
     ]
    }
   ],
   "source": [
    "d = deque('ghi')                 # make a new deque with three items\n",
    "for elem in d:                   # iterate over the deque's elements\n",
    "    print(elem.upper())"
   ]
  },
  {
   "cell_type": "code",
   "execution_count": 10,
   "metadata": {},
   "outputs": [
    {
     "data": {
      "text/plain": [
       "deque(['f', 'g', 'h', 'i', 'j'])"
      ]
     },
     "execution_count": 10,
     "metadata": {},
     "output_type": "execute_result"
    }
   ],
   "source": [
    "d.append('j')                    # add a new entry to the right side\n",
    "d.appendleft('f')                # add a new entry to the left side\n",
    "d                                # show the representation of the deque"
   ]
  },
  {
   "cell_type": "code",
   "execution_count": 11,
   "metadata": {},
   "outputs": [
    {
     "data": {
      "text/plain": [
       "'j'"
      ]
     },
     "execution_count": 11,
     "metadata": {},
     "output_type": "execute_result"
    }
   ],
   "source": [
    "d.pop()"
   ]
  },
  {
   "cell_type": "code",
   "execution_count": 12,
   "metadata": {},
   "outputs": [
    {
     "data": {
      "text/plain": [
       "'f'"
      ]
     },
     "execution_count": 12,
     "metadata": {},
     "output_type": "execute_result"
    }
   ],
   "source": [
    "d.popleft()"
   ]
  },
  {
   "cell_type": "code",
   "execution_count": 13,
   "metadata": {},
   "outputs": [
    {
     "data": {
      "text/plain": [
       "['g', 'h', 'i']"
      ]
     },
     "execution_count": 13,
     "metadata": {},
     "output_type": "execute_result"
    }
   ],
   "source": [
    "list(d)"
   ]
  },
  {
   "cell_type": "code",
   "execution_count": 14,
   "metadata": {},
   "outputs": [
    {
     "data": {
      "text/plain": [
       "'g'"
      ]
     },
     "execution_count": 14,
     "metadata": {},
     "output_type": "execute_result"
    }
   ],
   "source": [
    "d[0]"
   ]
  },
  {
   "cell_type": "code",
   "execution_count": 15,
   "metadata": {},
   "outputs": [
    {
     "data": {
      "text/plain": [
       "'i'"
      ]
     },
     "execution_count": 15,
     "metadata": {},
     "output_type": "execute_result"
    }
   ],
   "source": [
    "d[-1]"
   ]
  },
  {
   "cell_type": "code",
   "execution_count": 16,
   "metadata": {},
   "outputs": [
    {
     "data": {
      "text/plain": [
       "['i', 'h', 'g']"
      ]
     },
     "execution_count": 16,
     "metadata": {},
     "output_type": "execute_result"
    }
   ],
   "source": [
    "list(reversed(d))"
   ]
  },
  {
   "cell_type": "code",
   "execution_count": 17,
   "metadata": {},
   "outputs": [
    {
     "data": {
      "text/plain": [
       "True"
      ]
     },
     "execution_count": 17,
     "metadata": {},
     "output_type": "execute_result"
    }
   ],
   "source": [
    "'h' in d"
   ]
  },
  {
   "cell_type": "code",
   "execution_count": 18,
   "metadata": {},
   "outputs": [
    {
     "data": {
      "text/plain": [
       "deque(['g', 'h', 'i', 'j', 'k', 'l'])"
      ]
     },
     "execution_count": 18,
     "metadata": {},
     "output_type": "execute_result"
    }
   ],
   "source": [
    "d.extend('jkl')\n",
    "d"
   ]
  },
  {
   "cell_type": "code",
   "execution_count": 19,
   "metadata": {},
   "outputs": [
    {
     "data": {
      "text/plain": [
       "deque(['l', 'g', 'h', 'i', 'j', 'k'])"
      ]
     },
     "execution_count": 19,
     "metadata": {},
     "output_type": "execute_result"
    }
   ],
   "source": [
    "d.rotate(1)\n",
    "d"
   ]
  },
  {
   "cell_type": "code",
   "execution_count": 20,
   "metadata": {},
   "outputs": [],
   "source": [
    "d.rotate(-1)"
   ]
  },
  {
   "cell_type": "code",
   "execution_count": 21,
   "metadata": {},
   "outputs": [
    {
     "data": {
      "text/plain": [
       "deque(['g', 'h', 'i', 'j', 'k', 'l'])"
      ]
     },
     "execution_count": 21,
     "metadata": {},
     "output_type": "execute_result"
    }
   ],
   "source": [
    "d"
   ]
  },
  {
   "cell_type": "code",
   "execution_count": 22,
   "metadata": {},
   "outputs": [
    {
     "data": {
      "text/plain": [
       "deque(['c', 'b', 'a', 'g', 'h', 'i', 'j', 'k', 'l'])"
      ]
     },
     "execution_count": 22,
     "metadata": {},
     "output_type": "execute_result"
    }
   ],
   "source": [
    "d.extendleft('abc')\n",
    "d"
   ]
  },
  {
   "cell_type": "code",
   "execution_count": 23,
   "metadata": {},
   "outputs": [
    {
     "data": {
      "text/plain": [
       "deque([])"
      ]
     },
     "execution_count": 23,
     "metadata": {},
     "output_type": "execute_result"
    }
   ],
   "source": [
    "d.clear()\n",
    "d"
   ]
  },
  {
   "cell_type": "markdown",
   "metadata": {},
   "source": [
    "### Goldman Sachs Probabiity Question Simulation"
   ]
  },
  {
   "cell_type": "code",
   "execution_count": 24,
   "metadata": {},
   "outputs": [],
   "source": [
    "import random"
   ]
  },
  {
   "cell_type": "code",
   "execution_count": 25,
   "metadata": {},
   "outputs": [],
   "source": [
    "def simulate_hth(p):\n",
    "    initial = [generate(p) for i in range(3)]\n",
    "    while (initial[-3] == 0 or initial[-2] == 1 or initial[-1] == 0):\n",
    "        initial.append(generate(p))\n",
    "    return len(initial)"
   ]
  },
  {
   "cell_type": "code",
   "execution_count": 26,
   "metadata": {},
   "outputs": [],
   "source": [
    "def generate(p):\n",
    "    if (random.random()) < p:\n",
    "        return 1\n",
    "    else:\n",
    "        return 0"
   ]
  },
  {
   "cell_type": "code",
   "execution_count": 27,
   "metadata": {},
   "outputs": [],
   "source": [
    "def simulate(iteration, p):\n",
    "    return sum([simulate_hth(p) for i in range(iteration)])/iteration"
   ]
  },
  {
   "cell_type": "code",
   "execution_count": 28,
   "metadata": {},
   "outputs": [
    {
     "data": {
      "text/plain": [
       "17.06"
      ]
     },
     "execution_count": 28,
     "metadata": {},
     "output_type": "execute_result"
    }
   ],
   "source": [
    "simulate(100,0.33)"
   ]
  },
  {
   "cell_type": "code",
   "execution_count": 29,
   "metadata": {},
   "outputs": [
    {
     "data": {
      "text/plain": [
       "39.91"
      ]
     },
     "execution_count": 29,
     "metadata": {},
     "output_type": "execute_result"
    }
   ],
   "source": [
    "simulate(100,0.20)"
   ]
  },
  {
   "cell_type": "code",
   "execution_count": 30,
   "metadata": {},
   "outputs": [
    {
     "data": {
      "text/plain": [
       "60.29"
      ]
     },
     "execution_count": 30,
     "metadata": {},
     "output_type": "execute_result"
    }
   ],
   "source": [
    "simulate(100,0.15)"
   ]
  },
  {
   "cell_type": "code",
   "execution_count": 31,
   "metadata": {},
   "outputs": [
    {
     "data": {
      "text/plain": [
       "12.51"
      ]
     },
     "execution_count": 31,
     "metadata": {},
     "output_type": "execute_result"
    }
   ],
   "source": [
    "simulate(100,0.37)"
   ]
  },
  {
   "cell_type": "markdown",
   "metadata": {},
   "source": [
    "### 101. Symmetric Tree"
   ]
  },
  {
   "cell_type": "markdown",
   "metadata": {},
   "source": [
    "#### Recursive"
   ]
  },
  {
   "cell_type": "code",
   "execution_count": 44,
   "metadata": {},
   "outputs": [],
   "source": [
    "def isSymmetric(root: TreeNode) -> bool:\n",
    "    \n",
    "    def leftRightSymmetric(left: TreeNode, right: TreeNode) -> bool:\n",
    "        if not left and not right:\n",
    "            return True\n",
    "        elif not left or not right:\n",
    "            return False\n",
    "        else:\n",
    "            return left.val == right.val and leftRightSymmetric(left.right, right.left) and leftRightSymmetric(left.left, right.right)\n",
    "    \n",
    "    if not root:\n",
    "        return True\n",
    "    return leftRightSymmetric(root.left, root.right)"
   ]
  },
  {
   "cell_type": "code",
   "execution_count": 46,
   "metadata": {},
   "outputs": [
    {
     "name": "stdout",
     "output_type": "stream",
     "text": [
      "True\n",
      "False\n"
     ]
    }
   ],
   "source": [
    "exampleTree3 = TreeNode(1, TreeNode(2, TreeNode(5), TreeNode(4)), TreeNode(2, TreeNode(4), TreeNode(5)))\n",
    "print(isSymmetric(exampleTree3))\n",
    "exampleTree4 = TreeNode(1, TreeNode(2, TreeNode(4), TreeNode(4)), TreeNode(2, TreeNode(5), TreeNode(4)))\n",
    "print(isSymmetric(exampleTree4))"
   ]
  },
  {
   "cell_type": "markdown",
   "metadata": {},
   "source": [
    "#### Recursive Standard Solution"
   ]
  },
  {
   "cell_type": "code",
   "execution_count": 48,
   "metadata": {},
   "outputs": [],
   "source": [
    "def isSymmetricRecursive(root: TreeNode) -> bool:\n",
    "    \n",
    "    def isMirror(left: TreeNode, right: TreeNode) -> bool:\n",
    "        if not left and not right:\n",
    "            return True\n",
    "        elif not left or not right:\n",
    "            return False\n",
    "        else:\n",
    "            return left.val == right.val and isMirror(left.right, right.left) and isMirror(left.left, right.right)\n",
    "\n",
    "    return isMirror(root, root)"
   ]
  },
  {
   "cell_type": "markdown",
   "metadata": {},
   "source": [
    "#### Iterative Standard Solution (queue)"
   ]
  },
  {
   "cell_type": "code",
   "execution_count": 54,
   "metadata": {},
   "outputs": [
    {
     "data": {
      "text/plain": [
       "(1, 2, 3, 4, 5, 6, 7)"
      ]
     },
     "execution_count": 54,
     "metadata": {},
     "output_type": "execute_result"
    }
   ],
   "source": [
    "deq = deque([(1, 2, 3, 4, 5, 6, 7)])\n",
    "a,b,c,d,e,f,g = deq.pop()\n",
    "a,b,c,d,e,f,g"
   ]
  },
  {
   "cell_type": "code",
   "execution_count": 57,
   "metadata": {},
   "outputs": [],
   "source": [
    "def isSymmetricIterative(root: TreeNode) -> bool:\n",
    "    \n",
    "    deq = deque([(root, root)])\n",
    "    \n",
    "    while deq:\n",
    "        t1, t2 = deq.popleft()\n",
    "        if not t1 and not t2:\n",
    "            continue\n",
    "        if not t1 or not t2:\n",
    "            return False\n",
    "        if t1.val != t2.val:\n",
    "            return False\n",
    "        deq.append((t1.left, t2.right))\n",
    "        deq.append((t1.right, t2.left))\n",
    "    \n",
    "    return True"
   ]
  },
  {
   "cell_type": "code",
   "execution_count": 58,
   "metadata": {},
   "outputs": [
    {
     "name": "stdout",
     "output_type": "stream",
     "text": [
      "True\n",
      "False\n"
     ]
    }
   ],
   "source": [
    "exampleTree3 = TreeNode(1, TreeNode(2, TreeNode(5), TreeNode(4)), TreeNode(2, TreeNode(4), TreeNode(5)))\n",
    "print(isSymmetricIterative(exampleTree3))\n",
    "exampleTree4 = TreeNode(1, TreeNode(2, TreeNode(4), TreeNode(4)), TreeNode(2, TreeNode(5), TreeNode(4)))\n",
    "print(isSymmetricIterative(exampleTree4))"
   ]
  },
  {
   "cell_type": "markdown",
   "metadata": {},
   "source": [
    "### 94. Binary Tree Inorder Traversal"
   ]
  },
  {
   "cell_type": "code",
   "execution_count": 82,
   "metadata": {},
   "outputs": [],
   "source": [
    "def inorderTraversalRecursive(root):\n",
    "    \"\"\"\n",
    "    :type root: TreeNode\n",
    "    :rtype: List[int]\n",
    "    \"\"\"\n",
    "    def helper(tree, res):\n",
    "        if tree:\n",
    "            helper(tree.left, res)\n",
    "            res.append(tree.val)\n",
    "            helper(tree.right, res)\n",
    "    \n",
    "    res = []\n",
    "    helper(root, res)\n",
    "    return res   "
   ]
  },
  {
   "cell_type": "code",
   "execution_count": 286,
   "metadata": {},
   "outputs": [
    {
     "data": {
      "text/plain": [
       "[5, 2, 1, 4, 3, 6]"
      ]
     },
     "execution_count": 286,
     "metadata": {},
     "output_type": "execute_result"
    }
   ],
   "source": [
    "exampleTree5 = TreeNode(1, TreeNode(2, TreeNode(5), None), TreeNode(3, TreeNode(4), TreeNode(6)))\n",
    "inorderTraversalRecursive(exampleTree5)"
   ]
  },
  {
   "cell_type": "code",
   "execution_count": 80,
   "metadata": {},
   "outputs": [],
   "source": [
    "def inorderTraversalIterative(root): # This method is extremely fast!\n",
    "    \"\"\"\n",
    "    :type root: TreeNode\n",
    "    :rtype: List[int]\n",
    "    \"\"\"\n",
    "    # What we push and pop is tree node rather than value\n",
    "    res = []\n",
    "    deq = deque([])\n",
    "    curr = root\n",
    "    while curr or deq:\n",
    "        while (curr != None):\n",
    "            deq.append(curr)\n",
    "            curr = curr.left\n",
    "        curr = deq.pop()\n",
    "        res.append(curr.val)\n",
    "        curr = curr.right # curr is not None for sure (it is appended)\n",
    "    \n",
    "    return res"
   ]
  },
  {
   "cell_type": "code",
   "execution_count": 81,
   "metadata": {},
   "outputs": [
    {
     "data": {
      "text/plain": [
       "[5, 2, 1, 4, 3, 6]"
      ]
     },
     "execution_count": 81,
     "metadata": {},
     "output_type": "execute_result"
    }
   ],
   "source": [
    "inorderTraversalIterative(exampleTree5)"
   ]
  },
  {
   "cell_type": "markdown",
   "metadata": {},
   "source": [
    "#### Morris Traversal implemented based on algorithm description"
   ]
  },
  {
   "cell_type": "code",
   "execution_count": 285,
   "metadata": {},
   "outputs": [],
   "source": [
    "def MorrisTraversalDestructive(root): # this method is destructive, very destructive, but the idea is amazing!\n",
    "    \"\"\"\n",
    "    :type root: TreeNode\n",
    "    :rtype: List[int]\n",
    "    \"\"\"\n",
    "    res = []\n",
    "    curr = root\n",
    "    while curr:\n",
    "        if not curr.left:\n",
    "            res.append(curr.val)\n",
    "            curr = curr.right\n",
    "        else:\n",
    "            pre = curr.left\n",
    "            while pre.right:\n",
    "                pre = pre.right\n",
    "            pre.right = curr\n",
    "            temp = curr # store cur node for purning\n",
    "            curr = curr.left # move cur to the top of the new tree\n",
    "            temp.left = None # prevent infinite tree loop\n",
    "    return res "
   ]
  },
  {
   "cell_type": "code",
   "execution_count": 283,
   "metadata": {},
   "outputs": [
    {
     "data": {
      "text/plain": [
       "[5, 2, 1, 4, 3, 6]"
      ]
     },
     "execution_count": 283,
     "metadata": {},
     "output_type": "execute_result"
    }
   ],
   "source": [
    "MorrisTraversalDestructive(exampleTree5)"
   ]
  },
  {
   "cell_type": "code",
   "execution_count": 284,
   "metadata": {},
   "outputs": [
    {
     "data": {
      "text/plain": [
       "[[1], [3], [6]]"
      ]
     },
     "execution_count": 284,
     "metadata": {},
     "output_type": "execute_result"
    }
   ],
   "source": [
    "levelOrder(exampleTree5)"
   ]
  },
  {
   "cell_type": "code",
   "execution_count": 287,
   "metadata": {},
   "outputs": [],
   "source": [
    "exampleTree5 = TreeNode(1, TreeNode(2, TreeNode(5), None), TreeNode(3, TreeNode(4), TreeNode(6)))"
   ]
  },
  {
   "cell_type": "code",
   "execution_count": 288,
   "metadata": {},
   "outputs": [],
   "source": [
    "def MorrisTraversal(root): # recover the tree by checking if rightmost node in left subtree points towards curr\n",
    "    # This indicates that one left subtree is fully iterated over, therefore the link should be deleted\n",
    "    res = []\n",
    "    curr = root\n",
    "    while curr:\n",
    "        if not curr.left:\n",
    "            res.append(curr.val)\n",
    "            curr = curr.right\n",
    "        else:\n",
    "            pre = curr.left\n",
    "            while pre.right and pre.right != curr:\n",
    "                pre = pre.right\n",
    "            if not pre.right:\n",
    "                pre.right = curr\n",
    "                curr = curr.left\n",
    "            else:\n",
    "                pre.right = None\n",
    "                res.append(curr.val)\n",
    "                curr = curr.right # add the node value and enter the right subtree (leave behind the node and left subtree intact)\n",
    "    return res"
   ]
  },
  {
   "cell_type": "code",
   "execution_count": 289,
   "metadata": {},
   "outputs": [
    {
     "data": {
      "text/plain": [
       "[5, 2, 1, 4, 3, 6]"
      ]
     },
     "execution_count": 289,
     "metadata": {},
     "output_type": "execute_result"
    }
   ],
   "source": [
    "MorrisTraversal(exampleTree5)"
   ]
  },
  {
   "cell_type": "code",
   "execution_count": 290,
   "metadata": {},
   "outputs": [
    {
     "data": {
      "text/plain": [
       "[[1], [2, 3], [5, 4, 6]]"
      ]
     },
     "execution_count": 290,
     "metadata": {},
     "output_type": "execute_result"
    }
   ],
   "source": [
    "levelOrder(exampleTree5)"
   ]
  },
  {
   "cell_type": "markdown",
   "metadata": {},
   "source": [
    "### 96. Unique Binary Search Trees"
   ]
  },
  {
   "cell_type": "markdown",
   "metadata": {},
   "source": [
    "#### Dynamic Programming"
   ]
  },
  {
   "cell_type": "code",
   "execution_count": 84,
   "metadata": {},
   "outputs": [],
   "source": [
    "def numTrees(n):\n",
    "    \"\"\"\n",
    "    :type n: int\n",
    "    :rtype: int\n",
    "    \"\"\"\n",
    "    G = [0]*(n+1)\n",
    "    G[0], G[1] = 1, 1\n",
    "    for i in range(2, n+1):\n",
    "        for j in range(1, i+1):\n",
    "            G[i] += G[j-1]*G[i-j]\n",
    "    return G[n]    "
   ]
  },
  {
   "cell_type": "code",
   "execution_count": 85,
   "metadata": {},
   "outputs": [
    {
     "data": {
      "text/plain": [
       "42"
      ]
     },
     "execution_count": 85,
     "metadata": {},
     "output_type": "execute_result"
    }
   ],
   "source": [
    "numTrees(5)"
   ]
  },
  {
   "cell_type": "code",
   "execution_count": 86,
   "metadata": {},
   "outputs": [
    {
     "data": {
      "text/plain": [
       "5"
      ]
     },
     "execution_count": 86,
     "metadata": {},
     "output_type": "execute_result"
    }
   ],
   "source": [
    "numTrees(3)"
   ]
  },
  {
   "cell_type": "code",
   "execution_count": 87,
   "metadata": {},
   "outputs": [
    {
     "data": {
      "text/plain": [
       "1"
      ]
     },
     "execution_count": 87,
     "metadata": {},
     "output_type": "execute_result"
    }
   ],
   "source": [
    "numTrees(1)"
   ]
  },
  {
   "cell_type": "markdown",
   "metadata": {},
   "source": [
    "### 95. Unique Binary Search Trees II"
   ]
  },
  {
   "cell_type": "code",
   "execution_count": 90,
   "metadata": {},
   "outputs": [],
   "source": [
    "def generateTrees(n):\n",
    "    \"\"\"\n",
    "    :type n: int\n",
    "    :rtype: List[TreeNode]\n",
    "    \"\"\"\n",
    "    def generate_trees(start, end):\n",
    "        if start > end:\n",
    "            return [None]\n",
    "        all_trees = []\n",
    "        for i in range(start, end+1):\n",
    "            left_trees = generate_trees(start, i-1)\n",
    "            right_trees = generate_trees(i+1, end)\n",
    "            for l in left_trees:\n",
    "                for r in right_trees:\n",
    "                    current_tree = TreeNode(i)\n",
    "                    current_tree.left = l\n",
    "                    current_tree.right = r\n",
    "                    all_trees.append(current_tree)\n",
    "        return all_trees\n",
    "    \n",
    "    return generate_trees(1, n) if n else []"
   ]
  },
  {
   "cell_type": "code",
   "execution_count": 92,
   "metadata": {},
   "outputs": [
    {
     "data": {
      "text/plain": [
       "[<__main__.TreeNode at 0x10deb4278>,\n",
       " <__main__.TreeNode at 0x10deb42e8>,\n",
       " <__main__.TreeNode at 0x10deb42b0>,\n",
       " <__main__.TreeNode at 0x10deb43c8>,\n",
       " <__main__.TreeNode at 0x10deb4400>]"
      ]
     },
     "execution_count": 92,
     "metadata": {},
     "output_type": "execute_result"
    }
   ],
   "source": [
    "generateTrees(3)"
   ]
  },
  {
   "cell_type": "markdown",
   "metadata": {},
   "source": [
    "### 102. Binary Tree Level Order Traversal"
   ]
  },
  {
   "cell_type": "markdown",
   "metadata": {},
   "source": [
    "#### Recursive"
   ]
  },
  {
   "cell_type": "code",
   "execution_count": 93,
   "metadata": {},
   "outputs": [],
   "source": [
    "def levelOrder(root): # this implementation is even better than the standard solution!!!\n",
    "    \"\"\"\n",
    "    :type root: TreeNode\n",
    "    :rtype: List[List[int]]\n",
    "    \"\"\"\n",
    "    levels = []\n",
    "    def helper(node, level):\n",
    "        if node:\n",
    "            if len(levels) == level:\n",
    "                levels.append([])\n",
    "            levels[level].append(node.val)\n",
    "            helper(node.left, level+1)\n",
    "            helper(node.right, level+1)\n",
    "    helper(root, 0)\n",
    "    return levels"
   ]
  },
  {
   "cell_type": "code",
   "execution_count": 94,
   "metadata": {},
   "outputs": [
    {
     "data": {
      "text/plain": [
       "[[1], [2, 3], [5, 4, 6]]"
      ]
     },
     "execution_count": 94,
     "metadata": {},
     "output_type": "execute_result"
    }
   ],
   "source": [
    "levelOrder(exampleTree5)"
   ]
  },
  {
   "cell_type": "markdown",
   "metadata": {},
   "source": [
    "#### Iterative"
   ]
  },
  {
   "cell_type": "code",
   "execution_count": 98,
   "metadata": {},
   "outputs": [],
   "source": [
    "def levelOrderIterative(root): # with the aid of queue\n",
    "    levels = []\n",
    "    if not root:\n",
    "        return levels\n",
    "    \n",
    "    level = 0\n",
    "    deq = deque([root])\n",
    "    length = 1\n",
    "    while deq:\n",
    "        levels.append([])\n",
    "        for i in range(length):\n",
    "            current_node = deq.popleft()\n",
    "            levels[level].append(current_node.val)\n",
    "            if current_node.left:\n",
    "                deq.append(current_node.left)\n",
    "            if current_node.right:\n",
    "                deq.append(current_node.right)\n",
    "        level += 1\n",
    "        length = len(deq)\n",
    "    return levels"
   ]
  },
  {
   "cell_type": "code",
   "execution_count": 99,
   "metadata": {},
   "outputs": [
    {
     "data": {
      "text/plain": [
       "[[1], [2, 3], [5, 4, 6]]"
      ]
     },
     "execution_count": 99,
     "metadata": {},
     "output_type": "execute_result"
    }
   ],
   "source": [
    "levelOrderIterative(exampleTree5)"
   ]
  },
  {
   "cell_type": "markdown",
   "metadata": {},
   "source": [
    "### 103. Binary Tree Zigzag Level Order Traversal"
   ]
  },
  {
   "cell_type": "markdown",
   "metadata": {},
   "source": [
    "#### BFS"
   ]
  },
  {
   "cell_type": "code",
   "execution_count": 138,
   "metadata": {},
   "outputs": [],
   "source": [
    "def zigzagLevelOrderBFS(root):\n",
    "    \"\"\"\n",
    "    :type root: TreeNode\n",
    "    :rtype: List[List[int]]\n",
    "    \"\"\"\n",
    "    levels = []\n",
    "    if not root:\n",
    "        return levels\n",
    "    \n",
    "    level_list = deque()\n",
    "    queue = deque([root])\n",
    "    length = 1\n",
    "    left = True\n",
    "    while queue:\n",
    "        if left:\n",
    "            for i in range(length):\n",
    "                current_node = queue.popleft()\n",
    "                level_list.append(current_node.val)\n",
    "                if current_node.left:\n",
    "                    queue.append(current_node.left)\n",
    "                if current_node.right:\n",
    "                    queue.append(current_node.right)\n",
    "        else:\n",
    "            for i in range(length):\n",
    "                current_node = queue.popleft()\n",
    "                level_list.appendleft(current_node.val)\n",
    "                if current_node.left:\n",
    "                    queue.append(current_node.left)\n",
    "                if current_node.right:\n",
    "                    queue.append(current_node.right)\n",
    "        levels.append(list(level_list))\n",
    "        level_list = deque()\n",
    "        length = len(queue)\n",
    "        left = not left\n",
    "    return levels"
   ]
  },
  {
   "cell_type": "code",
   "execution_count": 139,
   "metadata": {},
   "outputs": [
    {
     "data": {
      "text/plain": [
       "[[1], [3, 2], [5, 4, 6]]"
      ]
     },
     "execution_count": 139,
     "metadata": {},
     "output_type": "execute_result"
    }
   ],
   "source": [
    "zigzagLevelOrderBFS(exampleTree5)"
   ]
  },
  {
   "cell_type": "markdown",
   "metadata": {},
   "source": [
    "#### Standard Iterative BFS Solution (delimiter)"
   ]
  },
  {
   "cell_type": "code",
   "execution_count": 140,
   "metadata": {},
   "outputs": [],
   "source": [
    "def zigzagLevelOrderBFSStandard(root):\n",
    "    ret = []\n",
    "    if root is None:\n",
    "        return ret\n",
    "    \n",
    "    # start with the level 0 with a delimiter\n",
    "    level_list = deque()\n",
    "    node_queue = deque([root, None])\n",
    "    is_order_left = True\n",
    "\n",
    "    while len(node_queue) > 0:\n",
    "        curr_node = node_queue.popleft()\n",
    "\n",
    "        if curr_node:\n",
    "            if is_order_left:\n",
    "                level_list.append(curr_node.val)\n",
    "            else:\n",
    "                level_list.appendleft(curr_node.val)\n",
    "\n",
    "            if curr_node.left:\n",
    "                node_queue.append(curr_node.left)\n",
    "            if curr_node.right:\n",
    "                node_queue.append(curr_node.right)\n",
    "        else:\n",
    "            # we finish one level\n",
    "            ret.append(list(level_list))\n",
    "            # add a delimiter to mark the level\n",
    "            if len(node_queue) > 0: # if hasn't reached the bottom\n",
    "                node_queue.append(None)\n",
    "\n",
    "            # prepare for the next level\n",
    "            level_list = deque()\n",
    "            is_order_left = not is_order_left\n",
    "\n",
    "    return ret"
   ]
  },
  {
   "cell_type": "code",
   "execution_count": 141,
   "metadata": {},
   "outputs": [
    {
     "data": {
      "text/plain": [
       "[[1], [3, 2], [5, 4, 6]]"
      ]
     },
     "execution_count": 141,
     "metadata": {},
     "output_type": "execute_result"
    }
   ],
   "source": [
    "zigzagLevelOrderBFSStandard(exampleTree5)"
   ]
  },
  {
   "cell_type": "markdown",
   "metadata": {},
   "source": [
    "#### DFS"
   ]
  },
  {
   "cell_type": "code",
   "execution_count": 147,
   "metadata": {},
   "outputs": [],
   "source": [
    "def zigzagLevelOrderDFS(root):\n",
    "    res = []\n",
    "    def DFS(node, level):\n",
    "        if node:\n",
    "            if (len(res) == level):\n",
    "                res.append(deque([node.val]))\n",
    "            else:\n",
    "                if (level%2 == 0):\n",
    "                    res[level].append(node.val)\n",
    "                else:\n",
    "                    res[level].appendleft(node.val)\n",
    "            DFS(node.left, level+1)\n",
    "            DFS(node.right, level+1)\n",
    "        \n",
    "    DFS(root, 0)\n",
    "    return [list(deq) for deq in res]"
   ]
  },
  {
   "cell_type": "code",
   "execution_count": 148,
   "metadata": {},
   "outputs": [
    {
     "data": {
      "text/plain": [
       "[[1], [3, 2], [5, 4, 6]]"
      ]
     },
     "execution_count": 148,
     "metadata": {},
     "output_type": "execute_result"
    }
   ],
   "source": [
    "zigzagLevelOrderDFS(exampleTree5)"
   ]
  },
  {
   "cell_type": "markdown",
   "metadata": {},
   "source": [
    "#### Standard Iterative DFS Solution (delimiter)"
   ]
  },
  {
   "cell_type": "code",
   "execution_count": 152,
   "metadata": {},
   "outputs": [],
   "source": [
    "def zigzagLevelOrderDFSStandard(root):\n",
    "        \"\"\"\n",
    "        :type root: TreeNode\n",
    "        :rtype: List[List[int]]\n",
    "        \"\"\"\n",
    "        if root is None:\n",
    "            return []\n",
    "\n",
    "        results = []\n",
    "        def dfs(node, level):\n",
    "            if level >= len(results):\n",
    "                results.append(deque([node.val]))\n",
    "            else:\n",
    "                if level % 2 == 0:\n",
    "                    results[level].append(node.val)\n",
    "                else:\n",
    "                    results[level].appendleft(node.val)\n",
    "\n",
    "            for next_node in [node.left, node.right]:\n",
    "                if next_node is not None:\n",
    "                    dfs(next_node, level+1)\n",
    "\n",
    "        # normal level order traversal with DFS\n",
    "        dfs(root, 0)\n",
    "\n",
    "        return [list(deq) for deq in results]"
   ]
  },
  {
   "cell_type": "code",
   "execution_count": 153,
   "metadata": {},
   "outputs": [
    {
     "data": {
      "text/plain": [
       "[[1], [3, 2], [5, 4, 6]]"
      ]
     },
     "execution_count": 153,
     "metadata": {},
     "output_type": "execute_result"
    }
   ],
   "source": [
    "zigzagLevelOrderDFSStandard(exampleTree5)"
   ]
  },
  {
   "cell_type": "markdown",
   "metadata": {},
   "source": [
    "### 104. Maximum Depth of Binary Tree"
   ]
  },
  {
   "cell_type": "code",
   "execution_count": 155,
   "metadata": {},
   "outputs": [],
   "source": [
    "def maxDepth(root): # recursion is the fastest\n",
    "    \"\"\"\n",
    "    :type root: TreeNode\n",
    "    :rtype: int\n",
    "    \"\"\"\n",
    "    if not root:\n",
    "        return 0\n",
    "    else:\n",
    "        return max(maxDepth(root.left), maxDepth(root.right)) + 1"
   ]
  },
  {
   "cell_type": "code",
   "execution_count": 158,
   "metadata": {},
   "outputs": [],
   "source": [
    "def maxDepthBFS(root): # with the aid of queue, much slower than recursion\n",
    "    depth = 0\n",
    "    if not root:\n",
    "        return depth\n",
    "    deq = deque([root])\n",
    "    length = 1\n",
    "    while deq:\n",
    "        for i in range(length):\n",
    "            current_node = deq.popleft()\n",
    "            if current_node.left:\n",
    "                deq.append(current_node.left)\n",
    "            if current_node.right:\n",
    "                deq.append(current_node.right)\n",
    "        depth += 1\n",
    "        length = len(deq)\n",
    "    return depth"
   ]
  },
  {
   "cell_type": "code",
   "execution_count": 157,
   "metadata": {},
   "outputs": [
    {
     "data": {
      "text/plain": [
       "3"
      ]
     },
     "execution_count": 157,
     "metadata": {},
     "output_type": "execute_result"
    }
   ],
   "source": [
    "maxDepthBFS(exampleTree5)"
   ]
  },
  {
   "cell_type": "code",
   "execution_count": 163,
   "metadata": {},
   "outputs": [],
   "source": [
    "def maxDepthIterative(root):\n",
    "    depth = 0\n",
    "    stack = [(1, root)]\n",
    "    while stack:\n",
    "        current_depth, current_node = stack.pop()\n",
    "        if current_node:\n",
    "            depth = max(depth, current_depth)\n",
    "            stack.append((current_depth+1, current_node.left))\n",
    "            stack.append((current_depth+1, current_node.right))\n",
    "    return depth"
   ]
  },
  {
   "cell_type": "code",
   "execution_count": 164,
   "metadata": {},
   "outputs": [
    {
     "data": {
      "text/plain": [
       "3"
      ]
     },
     "execution_count": 164,
     "metadata": {},
     "output_type": "execute_result"
    }
   ],
   "source": [
    "maxDepthIterative(exampleTree5)"
   ]
  },
  {
   "cell_type": "markdown",
   "metadata": {},
   "source": [
    "### 98. Validate Binary Search Tree"
   ]
  },
  {
   "cell_type": "markdown",
   "metadata": {},
   "source": [
    "#### Inorder traversal"
   ]
  },
  {
   "cell_type": "code",
   "execution_count": 207,
   "metadata": {},
   "outputs": [],
   "source": [
    "def isValidBST(root):\n",
    "    \"\"\"\n",
    "    :type root: TreeNode\n",
    "    :rtype: bool\n",
    "    \"\"\"\n",
    "    current_val = float('-inf')\n",
    "    deq = deque([])\n",
    "    curr = root\n",
    "    while curr or deq:\n",
    "        while (curr != None):\n",
    "            deq.append(curr)\n",
    "            curr = curr.left\n",
    "        curr = deq.pop()\n",
    "        if curr.val > current_val:\n",
    "            current_val = curr.val\n",
    "        else:\n",
    "            return False\n",
    "        curr = curr.right\n",
    "    \n",
    "    return True"
   ]
  },
  {
   "cell_type": "code",
   "execution_count": 194,
   "metadata": {},
   "outputs": [],
   "source": [
    "exampleTree6 = TreeNode(8, TreeNode(5, TreeNode(3, TreeNode(1, None, TreeNode(2)), TreeNode(4)), TreeNode(7, TreeNode(6), None))\n",
    "                        , TreeNode(12, TreeNode(10, TreeNode(9), TreeNode(11)), TreeNode(13)))"
   ]
  },
  {
   "cell_type": "code",
   "execution_count": 195,
   "metadata": {},
   "outputs": [
    {
     "data": {
      "text/plain": [
       "True"
      ]
     },
     "execution_count": 195,
     "metadata": {},
     "output_type": "execute_result"
    }
   ],
   "source": [
    "isValidBST(exampleTree6)"
   ]
  },
  {
   "cell_type": "code",
   "execution_count": 196,
   "metadata": {},
   "outputs": [
    {
     "data": {
      "text/plain": [
       "False"
      ]
     },
     "execution_count": 196,
     "metadata": {},
     "output_type": "execute_result"
    }
   ],
   "source": [
    "isValidBST(exampleTree5)"
   ]
  },
  {
   "cell_type": "markdown",
   "metadata": {},
   "source": [
    "#### Recursion"
   ]
  },
  {
   "cell_type": "code",
   "execution_count": 203,
   "metadata": {},
   "outputs": [],
   "source": [
    "def isValidBSTRecursive(root):\n",
    "    \"\"\"\n",
    "    :type root: TreeNode\n",
    "    :rtype: bool\n",
    "    \"\"\"\n",
    "    def helper(root, lower_limit=None, upper_limit=None):\n",
    "        if not root:\n",
    "            return True\n",
    "        if lower_limit is not None:\n",
    "            if root.val <= lower_limit:\n",
    "                return False\n",
    "        if upper_limit is not None:\n",
    "            if root.val >= upper_limit:\n",
    "                return False\n",
    "        return helper(root.left, lower_limit, root.val) and helper(root.right, root.val, upper_limit)\n",
    "    return helper(root)"
   ]
  },
  {
   "cell_type": "code",
   "execution_count": 197,
   "metadata": {},
   "outputs": [
    {
     "data": {
      "text/plain": [
       "False"
      ]
     },
     "execution_count": 197,
     "metadata": {},
     "output_type": "execute_result"
    }
   ],
   "source": [
    "0 is None"
   ]
  },
  {
   "cell_type": "code",
   "execution_count": 201,
   "metadata": {},
   "outputs": [
    {
     "data": {
      "text/plain": [
       "True"
      ]
     },
     "execution_count": 201,
     "metadata": {},
     "output_type": "execute_result"
    }
   ],
   "source": [
    "isValidBSTRecursive(exampleTree6)"
   ]
  },
  {
   "cell_type": "code",
   "execution_count": 202,
   "metadata": {},
   "outputs": [
    {
     "data": {
      "text/plain": [
       "False"
      ]
     },
     "execution_count": 202,
     "metadata": {},
     "output_type": "execute_result"
    }
   ],
   "source": [
    "isValidBSTRecursive(exampleTree5)"
   ]
  },
  {
   "cell_type": "code",
   "execution_count": 206,
   "metadata": {},
   "outputs": [],
   "source": [
    "def isValidBSTRecursiveStandard(root):\n",
    "    \"\"\"\n",
    "    :type root: TreeNode\n",
    "    :rtype: bool\n",
    "    \"\"\"\n",
    "    def helper(node, lower=float('-inf'), upper=float('inf')):\n",
    "        if not node:\n",
    "            return True\n",
    "        val = node.val\n",
    "        if val <= lower or val >= upper:\n",
    "            return False\n",
    "        \n",
    "        if not helper(node.right, val, upper):\n",
    "            return False\n",
    "        if not helper(node.left, lower, val):\n",
    "            return False\n",
    "        return True\n",
    "    return helper(root)"
   ]
  },
  {
   "cell_type": "markdown",
   "metadata": {},
   "source": [
    "#### Iteration (self-implemented as well as standard solution)"
   ]
  },
  {
   "cell_type": "code",
   "execution_count": 227,
   "metadata": {},
   "outputs": [],
   "source": [
    "def isValidBSTIterative(root):\n",
    "    stack = [(root, float('-inf'), float('inf'))]\n",
    "    while stack:\n",
    "        node, lower, upper = stack.pop()\n",
    "        if node:\n",
    "            if node.val <= lower or node.val >= upper:\n",
    "                return False\n",
    "            stack.append((node.right, node.val, upper))\n",
    "            stack.append((node.left, lower, node.val))\n",
    "    return True "
   ]
  },
  {
   "cell_type": "code",
   "execution_count": 228,
   "metadata": {},
   "outputs": [
    {
     "data": {
      "text/plain": [
       "True"
      ]
     },
     "execution_count": 228,
     "metadata": {},
     "output_type": "execute_result"
    }
   ],
   "source": [
    "isValidBSTIterative(exampleTree6)"
   ]
  },
  {
   "cell_type": "code",
   "execution_count": 229,
   "metadata": {},
   "outputs": [
    {
     "data": {
      "text/plain": [
       "False"
      ]
     },
     "execution_count": 229,
     "metadata": {},
     "output_type": "execute_result"
    }
   ],
   "source": [
    "isValidBSTIterative(exampleTree5)"
   ]
  },
  {
   "cell_type": "markdown",
   "metadata": {},
   "source": [
    "### 99. Recover Binary Search Tree"
   ]
  },
  {
   "cell_type": "markdown",
   "metadata": {},
   "source": [
    "#### Basic extract, sort and back to tree (self-implemented)"
   ]
  },
  {
   "cell_type": "code",
   "execution_count": 281,
   "metadata": {},
   "outputs": [],
   "source": [
    "def recoverTree(root):\n",
    "    \"\"\"\n",
    "    :type root: TreeNode\n",
    "    :rtype: None Do not return anything, modify root in-place instead.\n",
    "    \"\"\"\n",
    "    res = []\n",
    "    deq = deque([])\n",
    "    curr = root\n",
    "    while curr or deq:\n",
    "        while (curr != None):\n",
    "            deq.append(curr)\n",
    "            curr = curr.left\n",
    "        curr = deq.pop()\n",
    "        res.append(curr.val)\n",
    "        curr = curr.right\n",
    "    \n",
    "    # two pointers to return index to be swapped\n",
    "    for i in range(1, len(res)):\n",
    "        if res[i] < res[i-1]:\n",
    "            lower_idx = i-1 # The one with problem is the smaller index\n",
    "            break\n",
    "    for j in range(len(res)-1, 0, -1):\n",
    "        if res[j] < res[j-1]:\n",
    "            upper_idx = j # The one with problem is the larger index\n",
    "            break\n",
    "    #print(res)\n",
    "    res[lower_idx], res[upper_idx] = res[upper_idx], res[lower_idx]\n",
    "    #print(res)\n",
    "    \n",
    "    k = 0\n",
    "    curr = root\n",
    "    while curr or deq:\n",
    "        while (curr != None):\n",
    "            deq.append(curr)\n",
    "            curr = curr.left\n",
    "        curr = deq.pop()\n",
    "        curr.val = res[k]\n",
    "        curr = curr.right\n",
    "        k += 1"
   ]
  },
  {
   "cell_type": "code",
   "execution_count": 278,
   "metadata": {},
   "outputs": [],
   "source": [
    "exampleTree7 = TreeNode(1, TreeNode(3, None, TreeNode(2)), None)\n",
    "recoverTree(exampleTree7)"
   ]
  },
  {
   "cell_type": "code",
   "execution_count": 279,
   "metadata": {},
   "outputs": [],
   "source": [
    "exampleTree8 = TreeNode(3, TreeNode(1), TreeNode(4, TreeNode(2), None))\n",
    "recoverTree(exampleTree8)"
   ]
  },
  {
   "cell_type": "code",
   "execution_count": 280,
   "metadata": {},
   "outputs": [],
   "source": [
    "def recoverTreeStandard(self, root: TreeNode):\n",
    "    \"\"\"\n",
    "    :rtype: void Do not return anything, modify root in-place instead.\n",
    "    \"\"\"\n",
    "    def inorder(r: TreeNode) -> List[int]:\n",
    "        return inorder(r.left) + [r.val] + inorder(r.right) if r else [] # insane inorder traversal\n",
    "\n",
    "    def find_two_swapped(nums: List[int]) -> (int, int): # This returns values to be swapped\n",
    "        n = len(nums)\n",
    "        x = y = -1\n",
    "        for i in range(n - 1):\n",
    "            if nums[i + 1] < nums[i]:\n",
    "                y = nums[i + 1]\n",
    "                # first swap occurence\n",
    "                if x == -1:     \n",
    "                    x = nums[i]\n",
    "                # second swap occurence\n",
    "                else:           \n",
    "                    break\n",
    "        return x, y\n",
    "\n",
    "    def recover(r: TreeNode, count: int): # this count is for pruning optimization\n",
    "        if r:\n",
    "            if r.val == x or r.val == y:\n",
    "                r.val = y if r.val == x else x # ternary operator, used for conditional variable assignment\n",
    "                count -= 1\n",
    "                if count == 0:\n",
    "                    return      \n",
    "            recover(r.left, count)\n",
    "            recover(r.right, count)\n",
    "\n",
    "    nums = inorder(root)\n",
    "    x, y = find_two_swapped(nums)\n",
    "    recover(root, 2)"
   ]
  },
  {
   "cell_type": "code",
   "execution_count": 295,
   "metadata": {},
   "outputs": [],
   "source": [
    "def inorderTraversalIterative(root): # This method is extremely fast!\n",
    "    \"\"\"\n",
    "    :type root: TreeNode\n",
    "    :rtype: List[int]\n",
    "    \"\"\"\n",
    "    # What we push and pop is tree node rather than value\n",
    "    res = []\n",
    "    deq = deque([])\n",
    "    curr = root\n",
    "    while curr or deq:\n",
    "        while (curr != None):\n",
    "            deq.append(curr) # No None will be added inside the stack\n",
    "            curr = curr.left\n",
    "        curr = deq.pop()\n",
    "        res.append(curr.val)\n",
    "        curr = curr.right # curr is not None for sure (it is appended)\n",
    "    \n",
    "    return res\n",
    "# Important to notice that curr here is redundant (we can use root as pointer directly)"
   ]
  },
  {
   "cell_type": "markdown",
   "metadata": {},
   "source": [
    "#### Iterative Inorder Traversal (implemented after checking standard solution)"
   ]
  },
  {
   "cell_type": "code",
   "execution_count": 296,
   "metadata": {},
   "outputs": [],
   "source": [
    "def recoverTreeIterative(root):\n",
    "    \"\"\"\n",
    "    :type root: TreeNode\n",
    "    :rtype: List[int]\n",
    "    \"\"\"\n",
    "    deq = deque([])\n",
    "    x = y = pre = None # index of x < index of y, two cases in a list like this. (consecutive vs non-consecutive)\n",
    "    curr = root\n",
    "    while curr or deq:\n",
    "        while (curr != None):\n",
    "            deq.append(curr)\n",
    "            curr = curr.left\n",
    "        curr = deq.pop()\n",
    "        if pre and curr.val < pre.val: # first condition is for initialization (no pre available, skip comaprison)\n",
    "            y = curr\n",
    "            if x is None:\n",
    "                x = pre\n",
    "            else:\n",
    "                break # optimize to fasten things up\n",
    "        pre = curr\n",
    "        curr = curr.right\n",
    "    \n",
    "    x.val, y.val = y.val, x.val # make use of swap statement in python\n",
    "    \n",
    "# The importance of identifying value to be swapped is displayed in this method"
   ]
  },
  {
   "cell_type": "markdown",
   "metadata": {},
   "source": [
    "#### Recursive Inorder Traversal (self-implemented)"
   ]
  },
  {
   "cell_type": "code",
   "execution_count": 298,
   "metadata": {},
   "outputs": [],
   "source": [
    "def recoverTreeRecursive(root): # This piece of code uses less than 100% of python3 online submission\n",
    "    \"\"\"\n",
    "    :type root: TreeNode\n",
    "    :rtype: List[int]\n",
    "    \"\"\"\n",
    "    x = y = pre = None\n",
    "    \n",
    "    def helper(tree):\n",
    "        nonlocal x, y, pre # need to refer to variables in the immediate layer outside the function\n",
    "        if tree:\n",
    "            helper(tree.left)\n",
    "            if pre and tree.val < pre.val:\n",
    "                y = tree\n",
    "                if x is None:\n",
    "                    x = pre\n",
    "                else:\n",
    "                    return\n",
    "            pre = tree\n",
    "            helper(tree.right)\n",
    "    \n",
    "    helper(root)\n",
    "    x.val, y.val = y.val, x.val"
   ]
  },
  {
   "cell_type": "code",
   "execution_count": 299,
   "metadata": {},
   "outputs": [],
   "source": [
    "def recoverTreeRecursiveStandard(self, root):\n",
    "        \"\"\"\n",
    "        :type root: TreeNode\n",
    "        :rtype: void Do not return anything, modify root in-place instead.\n",
    "        \"\"\"\n",
    "        def find_two_swapped(root: TreeNode):\n",
    "            nonlocal x, y, pred\n",
    "            if root is None:\n",
    "                return\n",
    "            \n",
    "            find_two_swapped(root.left)\n",
    "            if pred and root.val < pred.val:\n",
    "                y = root\n",
    "                # first swap occurence\n",
    "                if x is None:\n",
    "                    x = pred \n",
    "                # second swap occurence\n",
    "                else:\n",
    "                    return\n",
    "            pred = root\n",
    "            find_two_swapped(root.right)\n",
    "        \n",
    "        x = y = pred = None\n",
    "        find_two_swapped(root)\n",
    "        x.val, y.val = y.val, x.val"
   ]
  },
  {
   "cell_type": "code",
   "execution_count": 300,
   "metadata": {},
   "outputs": [],
   "source": [
    "def recoverTreeMorrisStandard(root):\n",
    "        \"\"\"\n",
    "        :type root: TreeNode\n",
    "        :rtype: void Do not return anything, modify root in-place instead.\n",
    "        \"\"\"\n",
    "        # predecessor is a Morris predecessor. \n",
    "        # In the 'loop' cases it could be equal to the node itself predecessor == root.\n",
    "        # pred is a 'true' predecessor, \n",
    "        # the previous node in the inorder traversal.\n",
    "        x = y = predecessor = pred = None\n",
    "        \n",
    "        while root:\n",
    "            # If there is a left child\n",
    "            # then compute the predecessor.\n",
    "            # If there is no link predecessor.right = root --> set it.\n",
    "            # If there is a link predecessor.right = root --> break it.\n",
    "            if root.left:       \n",
    "                # Predecessor node is one step left \n",
    "                # and then right till you can.\n",
    "                predecessor = root.left\n",
    "                while predecessor.right and predecessor.right != root:\n",
    "                    predecessor = predecessor.right\n",
    " \n",
    "                # set link predecessor.right = root\n",
    "                # and go to explore left subtree\n",
    "                if predecessor.right is None:\n",
    "                    predecessor.right = root\n",
    "                    root = root.left\n",
    "                # break link predecessor.right = root\n",
    "                # link is broken : time to change subtree and go right\n",
    "                else:\n",
    "                    # check for the swapped nodes\n",
    "                    if pred and root.val < pred.val:\n",
    "                        y = root\n",
    "                        if x is None:\n",
    "                            x = pred\n",
    "                    pred = root\n",
    "                    \n",
    "                    predecessor.right = None\n",
    "                    root = root.right\n",
    "            # If there is no left child\n",
    "            # then just go right.\n",
    "            else:\n",
    "                # check for the swapped nodes\n",
    "                if pred and root.val < pred.val:\n",
    "                    y = root\n",
    "                    if x is None:\n",
    "                        x = pred \n",
    "                pred = root\n",
    "                \n",
    "                root = root.right\n",
    "        \n",
    "        x.val, y.val = y.val, x.val\n",
    "        # space complexity is O(1)\n",
    "        # time comlexity is O(n) since we visit each node up to two times (difficult to understand)\n",
    "        # cannot break out of the loop since all newly-added link need to be deleted\n",
    "        # if break statement is added, there will be infinte loops in the tree"
   ]
  },
  {
   "cell_type": "code",
   "execution_count": null,
   "metadata": {},
   "outputs": [],
   "source": []
  }
 ],
 "metadata": {
  "kernelspec": {
   "display_name": "Python 3",
   "language": "python",
   "name": "python3"
  },
  "language_info": {
   "codemirror_mode": {
    "name": "ipython",
    "version": 3
   },
   "file_extension": ".py",
   "mimetype": "text/x-python",
   "name": "python",
   "nbconvert_exporter": "python",
   "pygments_lexer": "ipython3",
   "version": "3.7.1"
  }
 },
 "nbformat": 4,
 "nbformat_minor": 2
}
