{
 "cells": [
  {
   "cell_type": "markdown",
   "metadata": {},
   "source": [
    "## 684. Redundant Connection"
   ]
  },
  {
   "cell_type": "markdown",
   "metadata": {},
   "source": [
    "### union find data structure with path compression and union by rank"
   ]
  },
  {
   "cell_type": "code",
   "execution_count": 29,
   "metadata": {},
   "outputs": [],
   "source": [
    "class DisjointSet(object):\n",
    "    def __init__(self, size):\n",
    "        self.parent = list(range(size))\n",
    "        self.rank = [0] * size\n",
    "        self.count = size\n",
    "    \n",
    "    def find(self, x):\n",
    "        if self.parent[x] != x:\n",
    "            self.parent[x] = self.find(self.parent[x])\n",
    "        return self.parent[x]\n",
    "    \n",
    "    def union(self, x, y):\n",
    "        # always attach smaller depth tree under the root of the deeper tree\n",
    "        x_root, y_root = self.find(x), self.find(y)\n",
    "#         print(x, y, x_root, y_root)\n",
    "        if x_root == y_root:\n",
    "            return False\n",
    "        elif self.rank[x_root] < self.rank[y_root]:\n",
    "            # depth of x is smaller\n",
    "            self.parent[x_root] = y_root\n",
    "        elif self.rank[x_root] > self.rank[y_root]:\n",
    "            self.parent[y_root] = x_root\n",
    "        else:\n",
    "            self.parent[x_root] = y_root\n",
    "            self.rank[y_root] += 1\n",
    "#         print(self.parent)\n",
    "        self.count -= 1\n",
    "        return True\n",
    "    \n",
    "    def getCount(self):\n",
    "        return self.count"
   ]
  },
  {
   "cell_type": "code",
   "execution_count": 30,
   "metadata": {},
   "outputs": [],
   "source": [
    "from typing import List"
   ]
  },
  {
   "cell_type": "markdown",
   "metadata": {},
   "source": [
    "### self-written union find solution"
   ]
  },
  {
   "cell_type": "code",
   "execution_count": 31,
   "metadata": {},
   "outputs": [],
   "source": [
    "class Solution684:\n",
    "    def findRedundantConnection(self, edges: List[List[int]]) -> List[int]:\n",
    "        max_node = max([max(edge) for edge in edges])\n",
    "        disjointSet = DisjointSet(max_node + 1)\n",
    "        for edge in edges:\n",
    "            if not disjointSet.union(*edge):\n",
    "                return edge"
   ]
  },
  {
   "cell_type": "code",
   "execution_count": 32,
   "metadata": {},
   "outputs": [
    {
     "data": {
      "text/plain": [
       "[2, 3]"
      ]
     },
     "execution_count": 32,
     "metadata": {},
     "output_type": "execute_result"
    }
   ],
   "source": [
    "solver_684 = Solution684()\n",
    "solver_684.findRedundantConnection([[1,2],[1,3],[2,3]])"
   ]
  },
  {
   "cell_type": "markdown",
   "metadata": {},
   "source": [
    "## 200. Number of Islands"
   ]
  },
  {
   "cell_type": "markdown",
   "metadata": {},
   "source": [
    "### self-written union find solution"
   ]
  },
  {
   "cell_type": "code",
   "execution_count": 37,
   "metadata": {},
   "outputs": [],
   "source": [
    "class Solution200:\n",
    "    def numIslands(self, grid: List[List[str]]) -> int:\n",
    "        nrow, ncol = len(grid), len(grid[0])\n",
    "        zero_count = 0\n",
    "        disjointSet = DisjointSet(nrow * ncol)\n",
    "        for row in range(nrow):\n",
    "            for col in range(ncol):\n",
    "                if grid[row][col] == '0':\n",
    "                    zero_count += 1\n",
    "                else:\n",
    "                    if row - 1 > -1 and grid[row-1][col] == '1':\n",
    "                        disjointSet.union(row * ncol + col, (row - 1) * ncol + col)\n",
    "                    if row + 1 < nrow and grid[row+1][col] == '1':\n",
    "                        disjointSet.union(row * ncol + col, (row + 1) * ncol + col)\n",
    "                    if col - 1 > -1 and grid[row][col-1] == '1':\n",
    "                        disjointSet.union(row * ncol + col, row * ncol + col - 1)\n",
    "                    if col + 1 < ncol and grid[row][col+1] == '1':\n",
    "                        disjointSet.union(row * ncol + col, row * ncol + col + 1)\n",
    "        return disjointSet.getCount() - zero_count"
   ]
  },
  {
   "cell_type": "code",
   "execution_count": 39,
   "metadata": {},
   "outputs": [
    {
     "data": {
      "text/plain": [
       "(1, 3)"
      ]
     },
     "execution_count": 39,
     "metadata": {},
     "output_type": "execute_result"
    }
   ],
   "source": [
    "solver_200 = Solution200()\n",
    "solver_200.numIslands([\n",
    "  [\"1\",\"1\",\"1\",\"1\",\"0\"],\n",
    "  [\"1\",\"1\",\"0\",\"1\",\"0\"],\n",
    "  [\"1\",\"1\",\"0\",\"0\",\"0\"],\n",
    "  [\"0\",\"0\",\"0\",\"0\",\"0\"]\n",
    "]),\\\n",
    "solver_200.numIslands([\n",
    "  [\"1\",\"1\",\"0\",\"0\",\"0\"],\n",
    "  [\"1\",\"1\",\"0\",\"0\",\"0\"],\n",
    "  [\"0\",\"0\",\"1\",\"0\",\"0\"],\n",
    "  [\"0\",\"0\",\"0\",\"1\",\"1\"]\n",
    "])"
   ]
  },
  {
   "cell_type": "markdown",
   "metadata": {},
   "source": [
    "## 547. Number of Provinces"
   ]
  },
  {
   "cell_type": "markdown",
   "metadata": {},
   "source": [
    "### self-written union find solution"
   ]
  },
  {
   "cell_type": "code",
   "execution_count": 40,
   "metadata": {},
   "outputs": [],
   "source": [
    "class Solution547:\n",
    "    def findCircleNum(self, isConnected: List[List[int]]) -> int:\n",
    "        cityNum = len(isConnected)\n",
    "        disjointSet = DisjointSet(cityNum)\n",
    "        for city1 in range(cityNum):\n",
    "            for city2 in range(cityNum):\n",
    "                if isConnected[city1][city2]:\n",
    "                    disjointSet.union(city1, city2)\n",
    "        return disjointSet.getCount()"
   ]
  },
  {
   "cell_type": "code",
   "execution_count": null,
   "metadata": {},
   "outputs": [],
   "source": []
  }
 ],
 "metadata": {
  "kernelspec": {
   "display_name": "Python 3",
   "language": "python",
   "name": "python3"
  },
  "language_info": {
   "codemirror_mode": {
    "name": "ipython",
    "version": 3
   },
   "file_extension": ".py",
   "mimetype": "text/x-python",
   "name": "python",
   "nbconvert_exporter": "python",
   "pygments_lexer": "ipython3",
   "version": "3.7.1"
  }
 },
 "nbformat": 4,
 "nbformat_minor": 4
}
